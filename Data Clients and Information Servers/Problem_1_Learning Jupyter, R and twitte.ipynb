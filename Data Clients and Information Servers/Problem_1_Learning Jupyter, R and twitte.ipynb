{
 "cells": [
  {
   "cell_type": "markdown",
   "metadata": {},
   "source": [
    "# Problem 1 :  Learning Jupyter, R and twitteR"
   ]
  },
  {
   "cell_type": "markdown",
   "metadata": {
    "collapsed": true
   },
   "source": [
    "Step 1: Load TwitteR library"
   ]
  },
  {
   "cell_type": "code",
   "execution_count": 1,
   "metadata": {
    "collapsed": true
   },
   "outputs": [],
   "source": [
    "library(twitteR)"
   ]
  },
  {
   "cell_type": "markdown",
   "metadata": {
    "collapsed": true
   },
   "source": [
    "Step 2 : Connect to twitter using the setup_twitter_oauth() function in twitteR package. "
   ]
  },
  {
   "cell_type": "code",
   "execution_count": 4,
   "metadata": {
    "collapsed": false
   },
   "outputs": [
    {
     "name": "stdout",
     "output_type": "stream",
     "text": [
      "[1] \"Using direct authentication\"\n"
     ]
    }
   ],
   "source": [
    "consumer_key <- \"x9OVFXtNrwTDVjYRGyg6bHJOs\"\n",
    "consumer_secret <- \"jkhulYj6hOydFoeq6xXRKcJnnyZ3HQo68zkF5K7Gz6KXTDuIe7\"\n",
    "access_token <- \"771480878128230400-vVgr2eo6XEiCNI8YKrm2WRILyJOG0Nk\"\n",
    "access_secret <- \"0tBBVOe0vHkSHNxjSuDncBEW2uVr3quqt0IbtOeBXGXdx\"\n",
    "setup_twitter_oauth(consumer_key, consumer_secret, access_token, access_secret)"
   ]
  },
  {
   "cell_type": "markdown",
   "metadata": {
    "collapsed": true
   },
   "source": [
    "Step 3: searchTwitter() function  - Search tweets for specified terms."
   ]
  },
  {
   "cell_type": "code",
   "execution_count": 5,
   "metadata": {
    "collapsed": false
   },
   "outputs": [
    {
     "data": {
      "text/plain": [
       "[[1]]\n",
       "[1] \"AgarwalGyan: Thanks @narendramodi ji for wonderful #MakeInIndia Program.....<ed><U+00A0><U+00BD><ed><U+00B9><U+008F> https://t.co/Pl7t3J5V81\"\n",
       "\n",
       "[[2]]\n",
       "[1] \"bha_ratiya: RT @noconversion: Christianity is falling in WEST\\nthy failed miserably \\nINDIA 8% GDP growth is JUICY target \\n#IncredibleIndia \\n#MakeInIndia",
       "\"\n",
       "\n",
       "[[3]]\n",
       "[1] \"tiwari_sd: RT @noconversion: Christianity is falling in WEST\\nthy failed miserably \\nINDIA 8% GDP growth is JUICY target \\n#IncredibleIndia \\n#MakeInIndia",
       "\"\n",
       "\n",
       "[[4]]\n",
       "[1] \"anilpadukone: RT @noconversion: Christianity is falling in WEST\\nthy failed miserably \\nINDIA 8% GDP growth is JUICY target \\n#IncredibleIndia \\n#MakeInIndia",
       "\"\n",
       "\n",
       "[[5]]\n",
       "[1] \"yuva8181: RT @noconversion: Christianity is falling in WEST\\nthy failed miserably \\nINDIA 8% GDP growth is JUICY target \\n#IncredibleIndia \\n#MakeInIndia",
       "\"\n",
       "\n",
       "[[6]]\n",
       "[1] \"vskatti: RT @noconversion: Christianity is falling in WEST\\nthy failed miserably \\nINDIA 8% GDP growth is JUICY target \\n#IncredibleIndia \\n#MakeInIndia",
       "\"\n"
      ]
     },
     "metadata": {},
     "output_type": "display_data"
    }
   ],
   "source": [
    "tweets <- searchTwitter('#MakeInIndia', n=25)\n",
    "head(tweets)"
   ]
  },
  {
   "cell_type": "markdown",
   "metadata": {
    "collapsed": true
   },
   "source": [
    "Step 4 : strip_retweets() - Remove re tweets from teweets object"
   ]
  },
  {
   "cell_type": "code",
   "execution_count": 6,
   "metadata": {
    "collapsed": false
   },
   "outputs": [
    {
     "data": {
      "text/plain": [
       "[[1]]\n",
       "[1] \"AgarwalGyan: Thanks @narendramodi ji for wonderful #MakeInIndia Program.....<ed><U+00A0><U+00BD><ed><U+00B9><U+008F> https://t.co/Pl7t3J5V81\"\n",
       "\n",
       "[[2]]\n",
       "[1] \"RojerNath: @investindia @aggarwal_rajiv  #mociseva passionate #MakeInIndia for #medicaldevice join forces to make IndiaTop5 Hub https://t.co/Ua0Qu08fpS\"\n"
      ]
     },
     "metadata": {},
     "output_type": "display_data"
    }
   ],
   "source": [
    "head(strip_retweets(tweets, strip_manual=TRUE, strip_mt=TRUE))"
   ]
  },
  {
   "cell_type": "markdown",
   "metadata": {
    "collapsed": true
   },
   "source": [
    "Step 4 : getUser() - Get the user object of a given user name.</br>\n",
    "#user object can be polled for further information such as followers count, favourites etc."
   ]
  },
  {
   "cell_type": "code",
   "execution_count": 18,
   "metadata": {
    "collapsed": false
   },
   "outputs": [
    {
     "data": {
      "text/plain": [
       "[1] \"narendramodi\""
      ]
     },
     "metadata": {},
     "output_type": "display_data"
    }
   ],
   "source": [
    "a= \"narendramodi\"\n",
    "user <- getUser(a)\n",
    "user"
   ]
  },
  {
   "cell_type": "markdown",
   "metadata": {},
   "source": [
    "Step 5 : getDescription() function gets user description from timeline."
   ]
  },
  {
   "cell_type": "code",
   "execution_count": 19,
   "metadata": {
    "collapsed": false
   },
   "outputs": [
    {
     "data": {
      "text/html": [
       "'Prime Minister of India'"
      ],
      "text/latex": [
       "'Prime Minister of India'"
      ],
      "text/markdown": [
       "'Prime Minister of India'"
      ],
      "text/plain": [
       "[1] \"Prime Minister of India\""
      ]
     },
     "metadata": {},
     "output_type": "display_data"
    }
   ],
   "source": [
    "user$getDescription()"
   ]
  },
  {
   "cell_type": "markdown",
   "metadata": {},
   "source": [
    "Step 6 : getFollowersCount() function gets followers count."
   ]
  },
  {
   "cell_type": "code",
   "execution_count": 20,
   "metadata": {
    "collapsed": false
   },
   "outputs": [
    {
     "data": {
      "text/html": [
       "27192335"
      ],
      "text/latex": [
       "27192335"
      ],
      "text/markdown": [
       "27192335"
      ],
      "text/plain": [
       "[1] 27192335"
      ]
     },
     "metadata": {},
     "output_type": "display_data"
    }
   ],
   "source": [
    "user$getFollowersCount()"
   ]
  },
  {
   "cell_type": "markdown",
   "metadata": {},
   "source": [
    "Step 7 : created tells when this status was created"
   ]
  },
  {
   "cell_type": "code",
   "execution_count": 26,
   "metadata": {
    "collapsed": false
   },
   "outputs": [
    {
     "data": {
      "text/plain": [
       "[1] \"2009-01-10 17:18:56 UTC\""
      ]
     },
     "metadata": {},
     "output_type": "display_data"
    }
   ],
   "source": [
    "user$created"
   ]
  },
  {
   "cell_type": "markdown",
   "metadata": {},
   "source": [
    "Step 8 : statusesCount returns number of status updates this user has had"
   ]
  },
  {
   "cell_type": "code",
   "execution_count": 28,
   "metadata": {
    "collapsed": false
   },
   "outputs": [
    {
     "data": {
      "text/html": [
       "14058"
      ],
      "text/latex": [
       "14058"
      ],
      "text/markdown": [
       "14058"
      ],
      "text/plain": [
       "[1] 14058"
      ]
     },
     "metadata": {},
     "output_type": "display_data"
    }
   ],
   "source": [
    "user$statusesCount"
   ]
  },
  {
   "cell_type": "markdown",
   "metadata": {},
   "source": [
    "Step 9 : getScreenName() function returns the screen name of the user."
   ]
  },
  {
   "cell_type": "code",
   "execution_count": 30,
   "metadata": {
    "collapsed": false
   },
   "outputs": [
    {
     "data": {
      "text/html": [
       "'narendramodi'"
      ],
      "text/latex": [
       "'narendramodi'"
      ],
      "text/markdown": [
       "'narendramodi'"
      ],
      "text/plain": [
       "[1] \"narendramodi\""
      ]
     },
     "metadata": {},
     "output_type": "display_data"
    }
   ],
   "source": [
    "user$getScreenName()"
   ]
  },
  {
   "cell_type": "markdown",
   "metadata": {},
   "source": [
    "Step 10 : getProfileImageUrl() returns the url to profile image."
   ]
  },
  {
   "cell_type": "code",
   "execution_count": 31,
   "metadata": {
    "collapsed": false
   },
   "outputs": [
    {
     "data": {
      "text/html": [
       "'http://pbs.twimg.com/profile_images/718314968102367232/ypY1GPCQ_normal.jpg'"
      ],
      "text/latex": [
       "'http://pbs.twimg.com/profile\\_images/718314968102367232/ypY1GPCQ\\_normal.jpg'"
      ],
      "text/markdown": [
       "'http://pbs.twimg.com/profile_images/718314968102367232/ypY1GPCQ_normal.jpg'"
      ],
      "text/plain": [
       "[1] \"http://pbs.twimg.com/profile_images/718314968102367232/ypY1GPCQ_normal.jpg\""
      ]
     },
     "metadata": {},
     "output_type": "display_data"
    }
   ],
   "source": [
    "user$getProfileImageUrl()"
   ]
  },
  {
   "cell_type": "markdown",
   "metadata": {},
   "source": [
    "Step 10: getLocation() Returns the user location."
   ]
  },
  {
   "cell_type": "code",
   "execution_count": 32,
   "metadata": {
    "collapsed": false
   },
   "outputs": [
    {
     "data": {
      "text/html": [
       "'India'"
      ],
      "text/latex": [
       "'India'"
      ],
      "text/markdown": [
       "'India'"
      ],
      "text/plain": [
       "[1] \"India\""
      ]
     },
     "metadata": {},
     "output_type": "display_data"
    }
   ],
   "source": [
    "user$getLocation()"
   ]
  },
  {
   "cell_type": "markdown",
   "metadata": {},
   "source": [
    "Step 11 : getLastStatus() returns the last status of user."
   ]
  },
  {
   "cell_type": "code",
   "execution_count": 33,
   "metadata": {
    "collapsed": false
   },
   "outputs": [
    {
     "data": {
      "text/plain": [
       "[1] \"Unknown: Spoke to Thiru Edappadi K. Palaniswami &amp; congratulated him on taking over as the Chief Minister of Tamil Nadu.\""
      ]
     },
     "metadata": {},
     "output_type": "display_data"
    }
   ],
   "source": [
    "user$getLastStatus()"
   ]
  },
  {
   "cell_type": "markdown",
   "metadata": {
    "collapsed": true
   },
   "source": [
    "Step 12 : twListToDF() Converts tweets object to data frame.\n",
    "#of the members"
   ]
  },
  {
   "cell_type": "code",
   "execution_count": 35,
   "metadata": {
    "collapsed": false
   },
   "outputs": [
    {
     "data": {
      "text/html": [
       "<table>\n",
       "<thead><tr><th scope=col>text</th><th scope=col>favorited</th><th scope=col>favoriteCount</th><th scope=col>replyToSN</th><th scope=col>created</th><th scope=col>truncated</th><th scope=col>replyToSID</th><th scope=col>id</th><th scope=col>replyToUID</th><th scope=col>statusSource</th><th scope=col>screenName</th><th scope=col>retweetCount</th><th scope=col>isRetweet</th><th scope=col>retweeted</th><th scope=col>longitude</th><th scope=col>latitude</th></tr></thead>\n",
       "<tbody>\n",
       "\t<tr><td><span style=white-space:pre-wrap>Thanks @narendramodi ji for wonderful #MakeInIndia Program.....&lt;ed&gt;&lt;U+00A0&gt;&lt;U+00BD&gt;&lt;ed&gt;&lt;U+00B9&gt;&lt;U+008F&gt; https://t.co/Pl7t3J5V81                 </span></td><td>FALSE                                                                                                                                                                                                                       </td><td>0                                                                                                                                                                                                                           </td><td>NA                                                                                                                                                                                                                          </td><td>2017-02-17 00:16:52                                                                                                                                                                                                         </td><td>FALSE                                                                                                                                                                                                                       </td><td>NA                                                                                                                                                                                                                          </td><td>832383275049947136                                                                                                                                                                                                          </td><td>NA                                                                                                                                                                                                                          </td><td>&lt;a href=\"http://twitter.com/download/android\" rel=\"nofollow\"&gt;Twitter for Android&lt;/a&gt;                                                                                                                            </td><td>AgarwalGyan                                                                                                                                                                                                                 </td><td> 1                                                                                                                                                                                                                          </td><td>FALSE                                                                                                                                                                                                                       </td><td>FALSE                                                                                                                                                                                                                       </td><td>NA                                                                                                                                                                                                                          </td><td>NA                                                                                                                                                                                                                          </td></tr>\n",
       "\t<tr><td>RT @noconversion: Christianity is falling in WEST\n",
       "thy failed miserably \n",
       "INDIA 8% GDP growth is JUICY target \n",
       "#IncredibleIndia \n",
       "#MakeInIndia…</td><td>FALSE                                                                                                                                           </td><td>0                                                                                                                                               </td><td>NA                                                                                                                                              </td><td>2017-02-16 23:51:15                                                                                                                             </td><td>FALSE                                                                                                                                           </td><td>NA                                                                                                                                              </td><td>832376829352644608                                                                                                                              </td><td>NA                                                                                                                                              </td><td>&lt;a href=\"http://twitter.com/download/android\" rel=\"nofollow\"&gt;Twitter for Android&lt;/a&gt;                                                </td><td><span style=white-space:pre-wrap>bha_ratiya  </span>                                                                                            </td><td>79                                                                                                                                              </td><td> TRUE                                                                                                                                           </td><td>FALSE                                                                                                                                           </td><td>NA                                                                                                                                              </td><td>NA                                                                                                                                              </td></tr>\n",
       "\t<tr><td>RT @noconversion: Christianity is falling in WEST\n",
       "thy failed miserably \n",
       "INDIA 8% GDP growth is JUICY target \n",
       "#IncredibleIndia \n",
       "#MakeInIndia…</td><td>FALSE                                                                                                                                           </td><td>0                                                                                                                                               </td><td>NA                                                                                                                                              </td><td>2017-02-16 23:44:40                                                                                                                             </td><td>FALSE                                                                                                                                           </td><td>NA                                                                                                                                              </td><td>832375171822477312                                                                                                                              </td><td>NA                                                                                                                                              </td><td>&lt;a href=\"http://twitter.com/download/android\" rel=\"nofollow\"&gt;Twitter for Android&lt;/a&gt;                                                </td><td><span style=white-space:pre-wrap>tiwari_sd   </span>                                                                                            </td><td>79                                                                                                                                              </td><td> TRUE                                                                                                                                           </td><td>FALSE                                                                                                                                           </td><td>NA                                                                                                                                              </td><td>NA                                                                                                                                              </td></tr>\n",
       "\t<tr><td>RT @noconversion: Christianity is falling in WEST\n",
       "thy failed miserably \n",
       "INDIA 8% GDP growth is JUICY target \n",
       "#IncredibleIndia \n",
       "#MakeInIndia…</td><td>FALSE                                                                                                                                           </td><td>0                                                                                                                                               </td><td>NA                                                                                                                                              </td><td>2017-02-16 23:44:21                                                                                                                             </td><td>FALSE                                                                                                                                           </td><td>NA                                                                                                                                              </td><td>832375090499170305                                                                                                                              </td><td>NA                                                                                                                                              </td><td>&lt;a href=\"http://twitter.com/download/android\" rel=\"nofollow\"&gt;Twitter for Android&lt;/a&gt;                                                </td><td>anilpadukone                                                                                                                                    </td><td>79                                                                                                                                              </td><td> TRUE                                                                                                                                           </td><td>FALSE                                                                                                                                           </td><td>NA                                                                                                                                              </td><td>NA                                                                                                                                              </td></tr>\n",
       "\t<tr><td>RT @noconversion: Christianity is falling in WEST\n",
       "thy failed miserably \n",
       "INDIA 8% GDP growth is JUICY target \n",
       "#IncredibleIndia \n",
       "#MakeInIndia…</td><td>FALSE                                                                                                                                           </td><td>0                                                                                                                                               </td><td>NA                                                                                                                                              </td><td>2017-02-16 23:42:08                                                                                                                             </td><td>FALSE                                                                                                                                           </td><td>NA                                                                                                                                              </td><td>832374533466251264                                                                                                                              </td><td>NA                                                                                                                                              </td><td>&lt;a href=\"http://twitter.com/download/android\" rel=\"nofollow\"&gt;Twitter for Android&lt;/a&gt;                                                </td><td><span style=white-space:pre-wrap>yuva8181    </span>                                                                                            </td><td>79                                                                                                                                              </td><td> TRUE                                                                                                                                           </td><td>FALSE                                                                                                                                           </td><td>NA                                                                                                                                              </td><td>NA                                                                                                                                              </td></tr>\n",
       "\t<tr><td>RT @noconversion: Christianity is falling in WEST\n",
       "thy failed miserably \n",
       "INDIA 8% GDP growth is JUICY target \n",
       "#IncredibleIndia \n",
       "#MakeInIndia…</td><td>FALSE                                                                                                                                           </td><td>0                                                                                                                                               </td><td>NA                                                                                                                                              </td><td>2017-02-16 23:36:00                                                                                                                             </td><td>FALSE                                                                                                                                           </td><td>NA                                                                                                                                              </td><td>832372991753408512                                                                                                                              </td><td>NA                                                                                                                                              </td><td>&lt;a href=\"http://twitter.com/download/android\" rel=\"nofollow\"&gt;Twitter for Android&lt;/a&gt;                                                </td><td><span style=white-space:pre-wrap>vskatti     </span>                                                                                            </td><td>79                                                                                                                                              </td><td> TRUE                                                                                                                                           </td><td>FALSE                                                                                                                                           </td><td>NA                                                                                                                                              </td><td>NA                                                                                                                                              </td></tr>\n",
       "</tbody>\n",
       "</table>\n"
      ],
      "text/latex": [
       "\\begin{tabular}{r|llllllllllllllll}\n",
       " text & favorited & favoriteCount & replyToSN & created & truncated & replyToSID & id & replyToUID & statusSource & screenName & retweetCount & isRetweet & retweeted & longitude & latitude\\\\\n",
       "\\hline\n",
       "\t Thanks @narendramodi ji for wonderful \\#MakeInIndia Program.....<ed><U+00A0><U+00BD><ed><U+00B9><U+008F> https://t.co/Pl7t3J5V81                  & FALSE                                                                                                                                              & 0                                                                                                                                                  & NA                                                                                                                                                 & 2017-02-17 00:16:52                                                                                                                                & FALSE                                                                                                                                              & NA                                                                                                                                                 & 832383275049947136                                                                                                                                 & NA                                                                                                                                                 & <a href=\"http://twitter.com/download/android\" rel=\"nofollow\">Twitter for Android</a>                                                               & AgarwalGyan                                                                                                                                        &  1                                                                                                                                                 & FALSE                                                                                                                                              & FALSE                                                                                                                                              & NA                                                                                                                                                 & NA                                                                                                                                                \\\\\n",
       "\t RT @noconversion: Christianity is falling in WEST\n",
       "thy failed miserably \n",
       "INDIA 8\\% GDP growth is JUICY target \n",
       "\\#IncredibleIndia \n",
       "\\#MakeInIndia… & FALSE                                                                                                                                                  & 0                                                                                                                                                      & NA                                                                                                                                                     & 2017-02-16 23:51:15                                                                                                                                    & FALSE                                                                                                                                                  & NA                                                                                                                                                     & 832376829352644608                                                                                                                                     & NA                                                                                                                                                     & <a href=\"http://twitter.com/download/android\" rel=\"nofollow\">Twitter for Android</a>                                                                   & bha\\_ratiya                                                                                                                                           & 79                                                                                                                                                     &  TRUE                                                                                                                                                  & FALSE                                                                                                                                                  & NA                                                                                                                                                     & NA                                                                                                                                                    \\\\\n",
       "\t RT @noconversion: Christianity is falling in WEST\n",
       "thy failed miserably \n",
       "INDIA 8\\% GDP growth is JUICY target \n",
       "\\#IncredibleIndia \n",
       "\\#MakeInIndia… & FALSE                                                                                                                                                  & 0                                                                                                                                                      & NA                                                                                                                                                     & 2017-02-16 23:44:40                                                                                                                                    & FALSE                                                                                                                                                  & NA                                                                                                                                                     & 832375171822477312                                                                                                                                     & NA                                                                                                                                                     & <a href=\"http://twitter.com/download/android\" rel=\"nofollow\">Twitter for Android</a>                                                                   & tiwari\\_sd                                                                                                                                            & 79                                                                                                                                                     &  TRUE                                                                                                                                                  & FALSE                                                                                                                                                  & NA                                                                                                                                                     & NA                                                                                                                                                    \\\\\n",
       "\t RT @noconversion: Christianity is falling in WEST\n",
       "thy failed miserably \n",
       "INDIA 8\\% GDP growth is JUICY target \n",
       "\\#IncredibleIndia \n",
       "\\#MakeInIndia… & FALSE                                                                                                                                                  & 0                                                                                                                                                      & NA                                                                                                                                                     & 2017-02-16 23:44:21                                                                                                                                    & FALSE                                                                                                                                                  & NA                                                                                                                                                     & 832375090499170305                                                                                                                                     & NA                                                                                                                                                     & <a href=\"http://twitter.com/download/android\" rel=\"nofollow\">Twitter for Android</a>                                                                   & anilpadukone                                                                                                                                           & 79                                                                                                                                                     &  TRUE                                                                                                                                                  & FALSE                                                                                                                                                  & NA                                                                                                                                                     & NA                                                                                                                                                    \\\\\n",
       "\t RT @noconversion: Christianity is falling in WEST\n",
       "thy failed miserably \n",
       "INDIA 8\\% GDP growth is JUICY target \n",
       "\\#IncredibleIndia \n",
       "\\#MakeInIndia… & FALSE                                                                                                                                                  & 0                                                                                                                                                      & NA                                                                                                                                                     & 2017-02-16 23:42:08                                                                                                                                    & FALSE                                                                                                                                                  & NA                                                                                                                                                     & 832374533466251264                                                                                                                                     & NA                                                                                                                                                     & <a href=\"http://twitter.com/download/android\" rel=\"nofollow\">Twitter for Android</a>                                                                   & yuva8181                                                                                                                                               & 79                                                                                                                                                     &  TRUE                                                                                                                                                  & FALSE                                                                                                                                                  & NA                                                                                                                                                     & NA                                                                                                                                                    \\\\\n",
       "\t RT @noconversion: Christianity is falling in WEST\n",
       "thy failed miserably \n",
       "INDIA 8\\% GDP growth is JUICY target \n",
       "\\#IncredibleIndia \n",
       "\\#MakeInIndia… & FALSE                                                                                                                                                  & 0                                                                                                                                                      & NA                                                                                                                                                     & 2017-02-16 23:36:00                                                                                                                                    & FALSE                                                                                                                                                  & NA                                                                                                                                                     & 832372991753408512                                                                                                                                     & NA                                                                                                                                                     & <a href=\"http://twitter.com/download/android\" rel=\"nofollow\">Twitter for Android</a>                                                                   & vskatti                                                                                                                                                & 79                                                                                                                                                     &  TRUE                                                                                                                                                  & FALSE                                                                                                                                                  & NA                                                                                                                                                     & NA                                                                                                                                                    \\\\\n",
       "\\end{tabular}\n"
      ],
      "text/markdown": [
       "\n",
       "text | favorited | favoriteCount | replyToSN | created | truncated | replyToSID | id | replyToUID | statusSource | screenName | retweetCount | isRetweet | retweeted | longitude | latitude | \n",
       "|---|---|---|---|---|---|\n",
       "| Thanks @narendramodi ji for wonderful #MakeInIndia Program.....<ed><U+00A0><U+00BD><ed><U+00B9><U+008F> https://t.co/Pl7t3J5V81                  | FALSE                                                                                                                                            | 0                                                                                                                                                | NA                                                                                                                                               | 2017-02-17 00:16:52                                                                                                                              | FALSE                                                                                                                                            | NA                                                                                                                                               | 832383275049947136                                                                                                                               | NA                                                                                                                                               | <a href=\"http://twitter.com/download/android\" rel=\"nofollow\">Twitter for Android</a>                                                             | AgarwalGyan                                                                                                                                      |  1                                                                                                                                               | FALSE                                                                                                                                            | FALSE                                                                                                                                            | NA                                                                                                                                               | NA                                                                                                                                               | \n",
       "| RT @noconversion: Christianity is falling in WEST\n",
       "thy failed miserably \n",
       "INDIA 8% GDP growth is JUICY target \n",
       "#IncredibleIndia \n",
       "#MakeInIndia… | FALSE                                                                                                                                            | 0                                                                                                                                                | NA                                                                                                                                               | 2017-02-16 23:51:15                                                                                                                              | FALSE                                                                                                                                            | NA                                                                                                                                               | 832376829352644608                                                                                                                               | NA                                                                                                                                               | <a href=\"http://twitter.com/download/android\" rel=\"nofollow\">Twitter for Android</a>                                                             | bha_ratiya                                                                                                                                       | 79                                                                                                                                               |  TRUE                                                                                                                                            | FALSE                                                                                                                                            | NA                                                                                                                                               | NA                                                                                                                                               | \n",
       "| RT @noconversion: Christianity is falling in WEST\n",
       "thy failed miserably \n",
       "INDIA 8% GDP growth is JUICY target \n",
       "#IncredibleIndia \n",
       "#MakeInIndia… | FALSE                                                                                                                                            | 0                                                                                                                                                | NA                                                                                                                                               | 2017-02-16 23:44:40                                                                                                                              | FALSE                                                                                                                                            | NA                                                                                                                                               | 832375171822477312                                                                                                                               | NA                                                                                                                                               | <a href=\"http://twitter.com/download/android\" rel=\"nofollow\">Twitter for Android</a>                                                             | tiwari_sd                                                                                                                                        | 79                                                                                                                                               |  TRUE                                                                                                                                            | FALSE                                                                                                                                            | NA                                                                                                                                               | NA                                                                                                                                               | \n",
       "| RT @noconversion: Christianity is falling in WEST\n",
       "thy failed miserably \n",
       "INDIA 8% GDP growth is JUICY target \n",
       "#IncredibleIndia \n",
       "#MakeInIndia… | FALSE                                                                                                                                            | 0                                                                                                                                                | NA                                                                                                                                               | 2017-02-16 23:44:21                                                                                                                              | FALSE                                                                                                                                            | NA                                                                                                                                               | 832375090499170305                                                                                                                               | NA                                                                                                                                               | <a href=\"http://twitter.com/download/android\" rel=\"nofollow\">Twitter for Android</a>                                                             | anilpadukone                                                                                                                                     | 79                                                                                                                                               |  TRUE                                                                                                                                            | FALSE                                                                                                                                            | NA                                                                                                                                               | NA                                                                                                                                               | \n",
       "| RT @noconversion: Christianity is falling in WEST\n",
       "thy failed miserably \n",
       "INDIA 8% GDP growth is JUICY target \n",
       "#IncredibleIndia \n",
       "#MakeInIndia… | FALSE                                                                                                                                            | 0                                                                                                                                                | NA                                                                                                                                               | 2017-02-16 23:42:08                                                                                                                              | FALSE                                                                                                                                            | NA                                                                                                                                               | 832374533466251264                                                                                                                               | NA                                                                                                                                               | <a href=\"http://twitter.com/download/android\" rel=\"nofollow\">Twitter for Android</a>                                                             | yuva8181                                                                                                                                         | 79                                                                                                                                               |  TRUE                                                                                                                                            | FALSE                                                                                                                                            | NA                                                                                                                                               | NA                                                                                                                                               | \n",
       "| RT @noconversion: Christianity is falling in WEST\n",
       "thy failed miserably \n",
       "INDIA 8% GDP growth is JUICY target \n",
       "#IncredibleIndia \n",
       "#MakeInIndia… | FALSE                                                                                                                                            | 0                                                                                                                                                | NA                                                                                                                                               | 2017-02-16 23:36:00                                                                                                                              | FALSE                                                                                                                                            | NA                                                                                                                                               | 832372991753408512                                                                                                                               | NA                                                                                                                                               | <a href=\"http://twitter.com/download/android\" rel=\"nofollow\">Twitter for Android</a>                                                             | vskatti                                                                                                                                          | 79                                                                                                                                               |  TRUE                                                                                                                                            | FALSE                                                                                                                                            | NA                                                                                                                                               | NA                                                                                                                                               | \n",
       "\n",
       "\n"
      ],
      "text/plain": [
       "  text                                                                                                                                            \n",
       "1 Thanks @narendramodi ji for wonderful #MakeInIndia Program.....<ed><U+00A0><U+00BD><ed><U+00B9><U+008F> https://t.co/Pl7t3J5V81                 \n",
       "2 RT @noconversion: Christianity is falling in WEST\\nthy failed miserably \\nINDIA 8% GDP growth is JUICY target \\n#IncredibleIndia \\n#MakeInIndia",
       "\n",
       "3 RT @noconversion: Christianity is falling in WEST\\nthy failed miserably \\nINDIA 8% GDP growth is JUICY target \\n#IncredibleIndia \\n#MakeInIndia",
       "\n",
       "4 RT @noconversion: Christianity is falling in WEST\\nthy failed miserably \\nINDIA 8% GDP growth is JUICY target \\n#IncredibleIndia \\n#MakeInIndia",
       "\n",
       "5 RT @noconversion: Christianity is falling in WEST\\nthy failed miserably \\nINDIA 8% GDP growth is JUICY target \\n#IncredibleIndia \\n#MakeInIndia",
       "\n",
       "6 RT @noconversion: Christianity is falling in WEST\\nthy failed miserably \\nINDIA 8% GDP growth is JUICY target \\n#IncredibleIndia \\n#MakeInIndia",
       "\n",
       "  favorited favoriteCount replyToSN created             truncated replyToSID\n",
       "1 FALSE     0             NA        2017-02-17 00:16:52 FALSE     NA        \n",
       "2 FALSE     0             NA        2017-02-16 23:51:15 FALSE     NA        \n",
       "3 FALSE     0             NA        2017-02-16 23:44:40 FALSE     NA        \n",
       "4 FALSE     0             NA        2017-02-16 23:44:21 FALSE     NA        \n",
       "5 FALSE     0             NA        2017-02-16 23:42:08 FALSE     NA        \n",
       "6 FALSE     0             NA        2017-02-16 23:36:00 FALSE     NA        \n",
       "  id                 replyToUID\n",
       "1 832383275049947136 NA        \n",
       "2 832376829352644608 NA        \n",
       "3 832375171822477312 NA        \n",
       "4 832375090499170305 NA        \n",
       "5 832374533466251264 NA        \n",
       "6 832372991753408512 NA        \n",
       "  statusSource                                                                        \n",
       "1 <a href=\"http://twitter.com/download/android\" rel=\"nofollow\">Twitter for Android</a>\n",
       "2 <a href=\"http://twitter.com/download/android\" rel=\"nofollow\">Twitter for Android</a>\n",
       "3 <a href=\"http://twitter.com/download/android\" rel=\"nofollow\">Twitter for Android</a>\n",
       "4 <a href=\"http://twitter.com/download/android\" rel=\"nofollow\">Twitter for Android</a>\n",
       "5 <a href=\"http://twitter.com/download/android\" rel=\"nofollow\">Twitter for Android</a>\n",
       "6 <a href=\"http://twitter.com/download/android\" rel=\"nofollow\">Twitter for Android</a>\n",
       "  screenName   retweetCount isRetweet retweeted longitude latitude\n",
       "1 AgarwalGyan   1           FALSE     FALSE     NA        NA      \n",
       "2 bha_ratiya   79            TRUE     FALSE     NA        NA      \n",
       "3 tiwari_sd    79            TRUE     FALSE     NA        NA      \n",
       "4 anilpadukone 79            TRUE     FALSE     NA        NA      \n",
       "5 yuva8181     79            TRUE     FALSE     NA        NA      \n",
       "6 vskatti      79            TRUE     FALSE     NA        NA      "
      ]
     },
     "metadata": {},
     "output_type": "display_data"
    }
   ],
   "source": [
    " df <- twListToDF(tweets)\n",
    " head(df)"
   ]
  },
  {
   "cell_type": "markdown",
   "metadata": {
    "collapsed": true
   },
   "source": [
    "Step : 13 Store tweets in a database"
   ]
  },
  {
   "cell_type": "code",
   "execution_count": 36,
   "metadata": {
    "collapsed": false
   },
   "outputs": [
    {
     "name": "stderr",
     "output_type": "stream",
     "text": [
      "Loading required namespace: RSQLite\n"
     ]
    },
    {
     "data": {
      "text/html": [
       "TRUE"
      ],
      "text/latex": [
       "TRUE"
      ],
      "text/markdown": [
       "TRUE"
      ],
      "text/plain": [
       "[1] TRUE"
      ]
     },
     "metadata": {},
     "output_type": "display_data"
    }
   ],
   "source": [
    "sql_lite_file = tempfile()\n",
    "register_sqlite_backend(sql_lite_file)\n",
    "store_tweets_db(tweets)"
   ]
  },
  {
   "cell_type": "markdown",
   "metadata": {
    "collapsed": false
   },
   "source": [
    "Step 14: load_tweets_db() Loads tweets object from db"
   ]
  },
  {
   "cell_type": "code",
   "execution_count": 37,
   "metadata": {
    "collapsed": false
   },
   "outputs": [
    {
     "data": {
      "text/plain": [
       "[[1]]\n",
       "[1] \"AgarwalGyan: Thanks @narendramodi ji for wonderful #MakeInIndia Program.....<ed><U+00A0><U+00BD><ed><U+00B9><U+008F> https://t.co/Pl7t3J5V81\"\n",
       "\n",
       "[[2]]\n",
       "[1] \"bha_ratiya: RT @noconversion: Christianity is falling in WEST\\nthy failed miserably \\nINDIA 8% GDP growth is JUICY target \\n#IncredibleIndia \\n#MakeInIndia",
       "\"\n",
       "\n",
       "[[3]]\n",
       "[1] \"tiwari_sd: RT @noconversion: Christianity is falling in WEST\\nthy failed miserably \\nINDIA 8% GDP growth is JUICY target \\n#IncredibleIndia \\n#MakeInIndia",
       "\"\n",
       "\n",
       "[[4]]\n",
       "[1] \"anilpadukone: RT @noconversion: Christianity is falling in WEST\\nthy failed miserably \\nINDIA 8% GDP growth is JUICY target \\n#IncredibleIndia \\n#MakeInIndia",
       "\"\n",
       "\n",
       "[[5]]\n",
       "[1] \"yuva8181: RT @noconversion: Christianity is falling in WEST\\nthy failed miserably \\nINDIA 8% GDP growth is JUICY target \\n#IncredibleIndia \\n#MakeInIndia",
       "\"\n",
       "\n",
       "[[6]]\n",
       "[1] \"vskatti: RT @noconversion: Christianity is falling in WEST\\nthy failed miserably \\nINDIA 8% GDP growth is JUICY target \\n#IncredibleIndia \\n#MakeInIndia",
       "\"\n"
      ]
     },
     "metadata": {},
     "output_type": "display_data"
    }
   ],
   "source": [
    "from_db = load_tweets_db()\n",
    "head(from_db)"
   ]
  },
  {
   "cell_type": "markdown",
   "metadata": {
    "collapsed": true
   },
   "source": [
    "Step 15:userTimeline() provides the most recenttweets of a specified user."
   ]
  },
  {
   "cell_type": "code",
   "execution_count": 38,
   "metadata": {
    "collapsed": false
   },
   "outputs": [
    {
     "data": {
      "text/plain": [
       "[[1]]\n",
       "[1] \"narendramodi: Spoke to Thiru Edappadi K. Palaniswami &amp; congratulated him on taking over as the Chief Minister of Tamil Nadu.\"\n",
       "\n",
       "[[2]]\n",
       "[1] \"narendramodi: Addressed public meetings in Hardoi and Barabanki. Here are some pictures. https://t.co/F4rlAj2mQ1\"\n",
       "\n",
       "[[3]]\n",
       "[1] \"narendramodi: <U+0939><U+0930><U+0926><U+094B><U+0908> <U+0915><U+0940> <U+0930><U+0948><U+0932><U+0940> <U+092E><U+0947><U+0902> <U+0909><U+092E><U+0921><U+093C><U+093E> <U+092D><U+093E><U+0930><U+0940> <U+091C><U+0928> <U+0938><U+0948><U+0932><U+093E><U+092C>... <U+091C><U+092C><U+0930><U+094D><U+0926><U+0938><U+094D><U+0924> <U+0938><U+092E><U+0930><U+094D><U+0925><U+0928> <U+0926><U+0947><U+0928><U+0947> <U+0915><U+0947> <U+0932><U+093F><U+090F> <U+092F><U+0942><U+092A><U+0940> <U+0915><U+0940> <U+091C><U+0928><U+0924><U+093E> <U+0915><U+093E> <U+092C><U+0939><U+0941><U+0924> <U+092C><U+0939><U+0941><U+0924> <U+0906><U+092D><U+093E><U+0930><U+0964>",
       " https://t.co/vndk8nV6lA\"\n",
       "\n",
       "[[4]]\n",
       "[1] \"narendramodi: <U+092C><U+093E><U+0930><U+093E><U+092C><U+0902><U+0915><U+0940> <U+0915><U+0940> <U+0935><U+093F><U+0936><U+093E><U+0932> <U+091C><U+0928><U+0938><U+092D><U+093E> <U+0915><U+0940> <U+0915><U+0941><U+091B> <U+0924><U+0938><U+094D><U+0935><U+0940><U+0930><U+0947><U+0902>... <U+092F><U+0942><U+092A><U+0940> <U+0915><U+0947> <U+0932><U+094B><U+0917> <U+0930><U+093E><U+091C><U+094D><U+092F> <U+0915><U+0940> <U+091C><U+0928><U+0924><U+093E> <U+0914><U+0930> <U+0935><U+093F><U+0915><U+093E><U+0938> <U+0935><U+093F><U+0930><U+094B><U+0927><U+0940> <U+0938><U+0930><U+0915><U+093E><U+0930> <U+0915><U+094B> <U+0938><U+0924><U+094D><U+0924><U+093E> <U+0938><U+0947> <U+092C><U+093E><U+0939><U+0930> <U+0915><U+0930><U+0928><U+0947> <U+0915><U+0947>",
       " https://t.co/3yfm6p8gyX\"\n",
       "\n",
       "[[5]]\n",
       "[1] \"narendramodi: <U+092E><U+0948><U+0902> <U+0917><U+0930><U+0940><U+092C><U+0940> <U+092E><U+0947><U+0902> <U+092A><U+0948><U+0926><U+093E> <U+0939><U+0941><U+0906> <U+0939><U+0942><U+0901> <U+0914><U+0930> <U+092E><U+0948><U+0902><U+0928><U+0947> <U+0917><U+0930><U+0940><U+092C><U+0940> <U+0926><U+0947><U+0916><U+0940> <U+0939><U+0948><U+0964> <U+092E><U+0941><U+091D><U+0947> <U+0917><U+0930><U+0940><U+092C><U+094B><U+0902> <U+0915><U+0947> <U+0932><U+093F><U+090F> <U+091C><U+0940><U+0928><U+093E> <U+0939><U+0948>, <U+0909><U+0928><U+0915><U+0940> <U+0938><U+0947><U+0935><U+093E> <U+0915><U+0930><U+0928><U+0940> <U+0939><U+0948> <U+0914><U+0930> <U+0909><U+0928><U+0915><U+093E> <U+0926><U+0930><U+094D><U+0926> <U+0926><U+0942><U+0930> <U+0915>",
       " https://t.co/PI0j2G3yim\"\n"
      ]
     },
     "metadata": {},
     "output_type": "display_data"
    }
   ],
   "source": [
    "obama_tweets <- userTimeline('narendramodi')\n",
    "obama_tweets[1:5]"
   ]
  },
  {
   "cell_type": "markdown",
   "metadata": {},
   "source": [
    "Step 16: homeTimeline() returns the tweets from users timeline"
   ]
  },
  {
   "cell_type": "code",
   "execution_count": 39,
   "metadata": {
    "collapsed": false
   },
   "outputs": [
    {
     "data": {
      "text/plain": [
       "[[1]]\n",
       "[1] \"TheBuffaloNews: Unique decor found all throughout the new Curtiss Hotel, slated to open soon in #Buffalo. @RobertKirkhamBN gallery:",
       " https://t.co/bwYXQGdAoi\"\n",
       "\n",
       "[[2]]\n",
       "[1] \"TheBuffaloNews: Trump says I inherited a mess, blasts media, detractors at combative news conference  https://t.co/nUMLH2gItk https://t.co/0LC8dN90rn\"\n",
       "\n",
       "[[3]]\n",
       "[1] \"NASA: The Aesthetics &amp; Astronomy project studies how people from different walks of life interpret scientific imagery:",
       " https://t.co/ARMiAqqvC7\"\n",
       "\n",
       "[[4]]\n",
       "[1] \"NASA: RT @NASA_Dawn: Found: Evidence of organics on #Ceres https://t.co/uIGi0ias1z https://t.co/S2KRJZb1i5\"\n",
       "\n",
       "[[5]]\n",
       "[1] \"TheBuffaloNews: RT @TBNSports: Live coverage from [BN] Hockey: Colorado #Avalanche at Buffalo #Sabres https://t.co/7IyYfWpQTO https://t.co/9r8fAQPh26\"\n"
      ]
     },
     "metadata": {},
     "output_type": "display_data"
    }
   ],
   "source": [
    "my_tweets <- homeTimeline()\n",
    "my_tweets[1:5]"
   ]
  },
  {
   "cell_type": "markdown",
   "metadata": {
    "collapsed": true
   },
   "source": [
    "Step 17: availableTrendLocations() The availableTrendLocations returns the available trends."
   ]
  },
  {
   "cell_type": "code",
   "execution_count": 41,
   "metadata": {
    "collapsed": false
   },
   "outputs": [
    {
     "data": {
      "text/html": [
       "<table>\n",
       "<thead><tr><th scope=col>name</th><th scope=col>country</th><th scope=col>woeid</th></tr></thead>\n",
       "<tbody>\n",
       "\t<tr><td>Worldwide</td><td>         </td><td>1        </td></tr>\n",
       "\t<tr><td>Winnipeg </td><td>Canada   </td><td>2972     </td></tr>\n",
       "\t<tr><td>Ottawa   </td><td>Canada   </td><td>3369     </td></tr>\n",
       "\t<tr><td>Quebec   </td><td>Canada   </td><td>3444     </td></tr>\n",
       "\t<tr><td>Montreal </td><td>Canada   </td><td>3534     </td></tr>\n",
       "\t<tr><td>Toronto  </td><td>Canada   </td><td>4118     </td></tr>\n",
       "</tbody>\n",
       "</table>\n"
      ],
      "text/latex": [
       "\\begin{tabular}{r|lll}\n",
       " name & country & woeid\\\\\n",
       "\\hline\n",
       "\t Worldwide &           & 1        \\\\\n",
       "\t Winnipeg  & Canada    & 2972     \\\\\n",
       "\t Ottawa    & Canada    & 3369     \\\\\n",
       "\t Quebec    & Canada    & 3444     \\\\\n",
       "\t Montreal  & Canada    & 3534     \\\\\n",
       "\t Toronto   & Canada    & 4118     \\\\\n",
       "\\end{tabular}\n"
      ],
      "text/markdown": [
       "\n",
       "name | country | woeid | \n",
       "|---|---|---|---|---|---|\n",
       "| Worldwide |           | 1         | \n",
       "| Winnipeg  | Canada    | 2972      | \n",
       "| Ottawa    | Canada    | 3369      | \n",
       "| Quebec    | Canada    | 3444      | \n",
       "| Montreal  | Canada    | 3534      | \n",
       "| Toronto   | Canada    | 4118      | \n",
       "\n",
       "\n"
      ],
      "text/plain": [
       "  name      country woeid\n",
       "1 Worldwide         1    \n",
       "2 Winnipeg  Canada  2972 \n",
       "3 Ottawa    Canada  3369 \n",
       "4 Quebec    Canada  3444 \n",
       "5 Montreal  Canada  3534 \n",
       "6 Toronto   Canada  4118 "
      ]
     },
     "metadata": {},
     "output_type": "display_data"
    }
   ],
   "source": [
    "avail_trends = availableTrendLocations()\n",
    " head(avail_trends)"
   ]
  },
  {
   "cell_type": "markdown",
   "metadata": {
    "collapsed": false
   },
   "source": [
    "Step 18: getTrends returns the trends of a location."
   ]
  },
  {
   "cell_type": "code",
   "execution_count": 44,
   "metadata": {
    "collapsed": false
   },
   "outputs": [
    {
     "data": {
      "text/html": [
       "<table>\n",
       "<thead><tr><th scope=col>name</th><th scope=col>url</th><th scope=col>query</th><th scope=col>woeid</th></tr></thead>\n",
       "<tbody>\n",
       "\t<tr><td>Crosby                                  </td><td>http://twitter.com/search?q=Crosby      </td><td>Crosby                                  </td><td>2972                                    </td></tr>\n",
       "\t<tr><td>Pittsburgh                              </td><td>http://twitter.com/search?q=Pittsburgh  </td><td>Pittsburgh                              </td><td>2972                                    </td></tr>\n",
       "\t<tr><td>#CdnAgDay                               </td><td>http://twitter.com/search?q=%23CdnAgDay </td><td>%23CdnAgDay                             </td><td>2972                                    </td></tr>\n",
       "\t<tr><td>Penguins                                </td><td>http://twitter.com/search?q=Penguins    </td><td>Penguins                                </td><td>2972                                    </td></tr>\n",
       "\t<tr><td>#Riders                                 </td><td>http://twitter.com/search?q=%23Riders   </td><td>%23Riders                               </td><td>2972                                    </td></tr>\n",
       "\t<tr><td>#SelkirkMB                              </td><td>http://twitter.com/search?q=%23SelkirkMB</td><td>%23SelkirkMB                            </td><td>2972                                    </td></tr>\n",
       "</tbody>\n",
       "</table>\n"
      ],
      "text/latex": [
       "\\begin{tabular}{r|llll}\n",
       " name & url & query & woeid\\\\\n",
       "\\hline\n",
       "\t Crosby                                   & http://twitter.com/search?q=Crosby       & Crosby                                   & 2972                                    \\\\\n",
       "\t Pittsburgh                               & http://twitter.com/search?q=Pittsburgh   & Pittsburgh                               & 2972                                    \\\\\n",
       "\t \\#CdnAgDay                                & http://twitter.com/search?q=\\%23CdnAgDay  & \\%23CdnAgDay                              & 2972                                      \\\\\n",
       "\t Penguins                                 & http://twitter.com/search?q=Penguins     & Penguins                                 & 2972                                    \\\\\n",
       "\t \\#Riders                                  & http://twitter.com/search?q=\\%23Riders    & \\%23Riders                                & 2972                                      \\\\\n",
       "\t \\#SelkirkMB                               & http://twitter.com/search?q=\\%23SelkirkMB & \\%23SelkirkMB                             & 2972                                      \\\\\n",
       "\\end{tabular}\n"
      ],
      "text/markdown": [
       "\n",
       "name | url | query | woeid | \n",
       "|---|---|---|---|---|---|\n",
       "| Crosby                                   | http://twitter.com/search?q=Crosby       | Crosby                                   | 2972                                     | \n",
       "| Pittsburgh                               | http://twitter.com/search?q=Pittsburgh   | Pittsburgh                               | 2972                                     | \n",
       "| #CdnAgDay                                | http://twitter.com/search?q=%23CdnAgDay  | %23CdnAgDay                              | 2972                                     | \n",
       "| Penguins                                 | http://twitter.com/search?q=Penguins     | Penguins                                 | 2972                                     | \n",
       "| #Riders                                  | http://twitter.com/search?q=%23Riders    | %23Riders                                | 2972                                     | \n",
       "| #SelkirkMB                               | http://twitter.com/search?q=%23SelkirkMB | %23SelkirkMB                             | 2972                                     | \n",
       "\n",
       "\n"
      ],
      "text/plain": [
       "  name       url                                      query        woeid\n",
       "1 Crosby     http://twitter.com/search?q=Crosby       Crosby       2972 \n",
       "2 Pittsburgh http://twitter.com/search?q=Pittsburgh   Pittsburgh   2972 \n",
       "3 #CdnAgDay  http://twitter.com/search?q=%23CdnAgDay  %23CdnAgDay  2972 \n",
       "4 Penguins   http://twitter.com/search?q=Penguins     Penguins     2972 \n",
       "5 #Riders    http://twitter.com/search?q=%23Riders    %23Riders    2972 \n",
       "6 #SelkirkMB http://twitter.com/search?q=%23SelkirkMB %23SelkirkMB 2972 "
      ]
     },
     "metadata": {},
     "output_type": "display_data"
    }
   ],
   "source": [
    "trends = getTrends(woeid=2972)\n",
    "head(trends)"
   ]
  },
  {
   "cell_type": "markdown",
   "metadata": {},
   "source": [
    "Step 19 : closestTrendLocations() returns the trends close to the location mentioned."
   ]
  },
  {
   "cell_type": "code",
   "execution_count": 50,
   "metadata": {
    "collapsed": false
   },
   "outputs": [
    {
     "data": {
      "text/html": [
       "<table>\n",
       "<thead><tr><th scope=col>name</th><th scope=col>country</th><th scope=col>woeid</th></tr></thead>\n",
       "<tbody>\n",
       "\t<tr><td>Concepcion</td><td>Chile     </td><td>349860    </td></tr>\n",
       "</tbody>\n",
       "</table>\n"
      ],
      "text/latex": [
       "\\begin{tabular}{r|lll}\n",
       " name & country & woeid\\\\\n",
       "\\hline\n",
       "\t Concepcion & Chile      & 349860    \\\\\n",
       "\\end{tabular}\n"
      ],
      "text/markdown": [
       "\n",
       "name | country | woeid | \n",
       "|---|\n",
       "| Concepcion | Chile      | 349860     | \n",
       "\n",
       "\n"
      ],
      "text/plain": [
       "  name       country woeid \n",
       "1 Concepcion Chile   349860"
      ]
     },
     "metadata": {},
     "output_type": "display_data"
    }
   ],
   "source": [
    "close_trends = closestTrendLocations(-42.8, -71.1)\n",
    "head(close_trends)"
   ]
  },
  {
   "cell_type": "markdown",
   "metadata": {},
   "source": [
    "Step 20 : Plot the tweet soure on a pie chart <br/>\n",
    "getStatusSource() returns the source of the tweet"
   ]
  },
  {
   "cell_type": "code",
   "execution_count": 53,
   "metadata": {
    "collapsed": false
   },
   "outputs": [
    {
     "data": {
      "text/html": [
       "<ol class=list-inline>\n",
       "\t<li>'&lt;a href=\"http://twitter.com/download/android\" rel=\"nofollow\"&gt;Twitter for Android&lt;/a&gt;'</li>\n",
       "\t<li>'&lt;a href=\"http://twitter.com/download/android\" rel=\"nofollow\"&gt;Twitter for Android&lt;/a&gt;'</li>\n",
       "\t<li>'&lt;a href=\"http://twitter.com/download/android\" rel=\"nofollow\"&gt;Twitter for Android&lt;/a&gt;'</li>\n",
       "\t<li>'&lt;a href=\"http://twitter.com/download/android\" rel=\"nofollow\"&gt;Twitter for Android&lt;/a&gt;'</li>\n",
       "\t<li>'&lt;a href=\"http://twitter.com/download/android\" rel=\"nofollow\"&gt;Twitter for Android&lt;/a&gt;'</li>\n",
       "\t<li>'&lt;a href=\"http://twitter.com/download/android\" rel=\"nofollow\"&gt;Twitter for Android&lt;/a&gt;'</li>\n",
       "</ol>\n"
      ],
      "text/latex": [
       "\\begin{enumerate*}\n",
       "\\item '<a href=\"http://twitter.com/download/android\" rel=\"nofollow\">Twitter for Android</a>'\n",
       "\\item '<a href=\"http://twitter.com/download/android\" rel=\"nofollow\">Twitter for Android</a>'\n",
       "\\item '<a href=\"http://twitter.com/download/android\" rel=\"nofollow\">Twitter for Android</a>'\n",
       "\\item '<a href=\"http://twitter.com/download/android\" rel=\"nofollow\">Twitter for Android</a>'\n",
       "\\item '<a href=\"http://twitter.com/download/android\" rel=\"nofollow\">Twitter for Android</a>'\n",
       "\\item '<a href=\"http://twitter.com/download/android\" rel=\"nofollow\">Twitter for Android</a>'\n",
       "\\end{enumerate*}\n"
      ],
      "text/markdown": [
       "1. '&lt;a href=\"http://twitter.com/download/android\" rel=\"nofollow\"&gt;Twitter for Android&lt;/a&gt;'\n",
       "2. '&lt;a href=\"http://twitter.com/download/android\" rel=\"nofollow\"&gt;Twitter for Android&lt;/a&gt;'\n",
       "3. '&lt;a href=\"http://twitter.com/download/android\" rel=\"nofollow\"&gt;Twitter for Android&lt;/a&gt;'\n",
       "4. '&lt;a href=\"http://twitter.com/download/android\" rel=\"nofollow\"&gt;Twitter for Android&lt;/a&gt;'\n",
       "5. '&lt;a href=\"http://twitter.com/download/android\" rel=\"nofollow\"&gt;Twitter for Android&lt;/a&gt;'\n",
       "6. '&lt;a href=\"http://twitter.com/download/android\" rel=\"nofollow\"&gt;Twitter for Android&lt;/a&gt;'\n",
       "\n",
       "\n"
      ],
      "text/plain": [
       "[1] \"<a href=\\\"http://twitter.com/download/android\\\" rel=\\\"nofollow\\\">Twitter for Android</a>\"\n",
       "[2] \"<a href=\\\"http://twitter.com/download/android\\\" rel=\\\"nofollow\\\">Twitter for Android</a>\"\n",
       "[3] \"<a href=\\\"http://twitter.com/download/android\\\" rel=\\\"nofollow\\\">Twitter for Android</a>\"\n",
       "[4] \"<a href=\\\"http://twitter.com/download/android\\\" rel=\\\"nofollow\\\">Twitter for Android</a>\"\n",
       "[5] \"<a href=\\\"http://twitter.com/download/android\\\" rel=\\\"nofollow\\\">Twitter for Android</a>\"\n",
       "[6] \"<a href=\\\"http://twitter.com/download/android\\\" rel=\\\"nofollow\\\">Twitter for Android</a>\""
      ]
     },
     "metadata": {},
     "output_type": "display_data"
    }
   ],
   "source": [
    " r_tweets <- searchTwitter(\"#Isro\", n=300)\n",
    " sources <- sapply(r_tweets, function(x) x$getStatusSource())\n",
    "head(sources)"
   ]
  },
  {
   "cell_type": "markdown",
   "metadata": {
    "collapsed": true
   },
   "source": [
    "Step 21 : Clean the data, and store tweet source as table"
   ]
  },
  {
   "cell_type": "code",
   "execution_count": 54,
   "metadata": {
    "collapsed": false
   },
   "outputs": [
    {
     "data": {
      "text/plain": [
       "sources\n",
       "       Facebook       Hootsuite Mobile Web (M2) Mobile Web (M5)   Online Trader \n",
       "              1               1               3              10               1 \n",
       "       Paper.li \n",
       "              1 "
      ]
     },
     "metadata": {},
     "output_type": "display_data"
    }
   ],
   "source": [
    "sources <- gsub(\"</a>\", \"\", sources)\n",
    "sources <- strsplit(sources, \">\")\n",
    "sources <- sapply(sources, function(x) ifelse(length(x) > 1, x[2], x[1]))\n",
    "source_table = table(sources)\n",
    "head(source_table)"
   ]
  },
  {
   "cell_type": "markdown",
   "metadata": {
    "collapsed": true
   },
   "source": [
    "Step 22 : Plot the sources as pie chart"
   ]
  },
  {
   "cell_type": "code",
   "execution_count": 55,
   "metadata": {
    "collapsed": false
   },
   "outputs": [
    {
     "data": {
      "image/png": "[encoded data removed]",
      "text/plain": [
       "plot without title"
      ]
     },
     "metadata": {},
     "output_type": "display_data"
    }
   ],
   "source": [
    "pie(source_table[source_table > 1])"
   ]
  }
 ],
 "metadata": {
  "kernelspec": {
   "display_name": "R",
   "language": "R",
   "name": "ir"
  },
  "language_info": {
   "codemirror_mode": "r",
   "file_extension": ".r",
   "mimetype": "text/x-r-source",
   "name": "R",
   "pygments_lexer": "r",
   "version": "3.3.2"
  }
 },
 "nbformat": 4,
 "nbformat_minor": 2
}
