{
 "cells": [
  {
   "cell_type": "markdown",
   "metadata": {},
   "source": [
    "#                         Problem 3: Summarizing trending topics about a location."
   ]
  },
  {
   "cell_type": "markdown",
   "metadata": {},
   "source": [
    "Step1 : Enter the search term in variable \"SearchLocation\"  OR Location co ordinates."
   ]
  },
  {
   "cell_type": "code",
   "execution_count": 2,
   "metadata": {
    "collapsed": true
   },
   "outputs": [],
   "source": [
    "SearchLocation=\"Buffalo\" \n",
    "# OR\n",
    "latitude=40.41678\n",
    "longitude=-3.70379"
   ]
  },
  {
   "cell_type": "markdown",
   "metadata": {},
   "source": [
    "Step2 : Load twitteR library for connecting to Twitter and obtaining trends.<br />\n",
    "&emsp;&emsp;&emsp;  Load ggmap library to obtain co ordinates of search location.\n",
    " "
   ]
  },
  {
   "cell_type": "code",
   "execution_count": 3,
   "metadata": {
    "collapsed": false
   },
   "outputs": [
    {
     "name": "stderr",
     "output_type": "stream",
     "text": [
      "Loading required package: ggplot2\n"
     ]
    }
   ],
   "source": [
    "library(\"twitteR\")\n",
    "library(\"ggmap\")"
   ]
  },
  {
   "cell_type": "markdown",
   "metadata": {},
   "source": [
    "Step3 : Initialize your Key and Token for connecting to Twitter"
   ]
  },
  {
   "cell_type": "code",
   "execution_count": 4,
   "metadata": {
    "collapsed": false
   },
   "outputs": [],
   "source": [
    "# consumer_key <- \"Enter consumer key\"\n",
    "# consumer_secret <- \"Enter Secret key\"\n",
    "# access_token <- \"Enter access token\"\n",
    "# access_secret <- \"Enter access Secret key\"\n",
    "\n",
    "consumer_key <- \"Yt7sY1DmlPmvghfMY4uPglAUN\"\n",
    "consumer_secret <- \"Z4IPo0oneJ8MVEN0LsNZqvJaqwC6xITwt48o4kfACeh9ZuTFOh\"\n",
    "access_token <- \"771480878128230400-uUNj18X34N6xrgC17HFIz3r9UEYreWm\"\n",
    "access_secret <- \"uYr441Lu9chL5BaPy8H0N0UviGD4HZwZmKh9Dw2oUjVny\""
   ]
  },
  {
   "cell_type": "markdown",
   "metadata": {},
   "source": [
    "Step4: Connect to twitter"
   ]
  },
  {
   "cell_type": "code",
   "execution_count": 5,
   "metadata": {
    "collapsed": false
   },
   "outputs": [
    {
     "name": "stdout",
     "output_type": "stream",
     "text": [
      "[1] \"Using direct authentication\"\n"
     ]
    }
   ],
   "source": [
    "auth=setup_twitter_oauth(consumer_key, consumer_secret, access_token, access_secret)"
   ]
  },
  {
   "cell_type": "markdown",
   "metadata": {},
   "source": [
    "Step5 : <b> Search using Search text </b><br /> \n",
    "• Obtain the co-ordinates of Search Text and store in variable \"dfLatLonSearchText\".<br/>\n",
    "• If valid location is returned, get the trend of the locations close to the Location entered using <br/>\n",
    "&emsp;closestTrendLocations() function.<br/>\n",
    "• Store the closest top trends in dfclosestTrend dataframe.<br/>\n",
    "• The third column of the dfclosestTrend dataframe contains woeid.<br/>\n",
    "• Get the top trends to the corresponding Woeid using getTrends() function.<br/>\n",
    "• Display the first ten rows."
   ]
  },
  {
   "cell_type": "code",
   "execution_count": 9,
   "metadata": {
    "collapsed": false
   },
   "outputs": [
    {
     "name": "stderr",
     "output_type": "stream",
     "text": [
      "Information from URL : http://maps.googleapis.com/maps/api/geocode/json?address=Buffalo&sensor=false\n"
     ]
    },
    {
     "name": "stdout",
     "output_type": "stream",
     "text": [
      "Top ten trending topics of Buffalo are #NewBrunswick, #FamilyDay, Jamal Murray, #longweekend, #RandomActsOfKindnessDay, Douglas Garland, #wingstourinseoul, Lotto Max, Four Continents, The Animal ."
     ]
    }
   ],
   "source": [
    "if(latitude==\"\" || longitude==\"\" || SearchLocation!=\"\"  ){\n",
    "    try({\n",
    "        dfLatLonSearchText= geocode(SearchLocation, output =\"latlon\") #Obtain the co ordinates of the search text\n",
    "        # dfLatLonSearchText=getGeoData(SearchLocation,key)\n",
    "        if(!is.na(dfLatLonSearchText[1])){ #check is entered location is valid location\n",
    "            dfclosestTrend=closestTrendLocations(dfLatLonSearchText[2], dfLatLonSearchText[1]) #get closest trends\n",
    "            dfTopTrends = getTrends(dfclosestTrend[3]) # get trends corresponding to woeid\n",
    "            TopTrends=toString(dfTopTrends[1:10,1])\n",
    "           cat(\"Top ten trending topics of\", SearchLocation,\"are\",TopTrends,\".\")\n",
    "         } else{\n",
    "            cat(\"Trending topics of\" ,SearchLocation ,\"not available, please try another location.\") \n",
    "        }\n",
    "    })\n",
    "}"
   ]
  },
  {
   "cell_type": "markdown",
   "metadata": {},
   "source": [
    "Step 6 : <b>Search using co-ordinates"
   ]
  },
  {
   "cell_type": "code",
   "execution_count": 7,
   "metadata": {
    "collapsed": false
   },
   "outputs": [
    {
     "name": "stdout",
     "output_type": "stream",
     "text": [
      "Top ten trending topics of the co ordinates  40.41678 -3.70379 are #CasoNoos, #CopaACB, #EscuelasCreativasAdria, #Madrid, #IMDb, Sevilla, Irene Montero, Savic, Consejo Ciudadano Estatal, Vrsaljko ."
     ]
    }
   ],
   "source": [
    "if(latitude!=\"\" && longitude!=\"\"){\n",
    "    tryCatch(\n",
    "        {   latitude=as.numeric(latitude)\n",
    "            longitude=as.numeric(longitude)\n",
    "            dfclosestTrend=closestTrendLocations(latitude, longitude) #get closest trends\n",
    "            dfTopTrends = getTrends(dfclosestTrend[3]) # get trends corresponding to woeid\n",
    "            TopTrends=toString(dfTopTrends[1:10,1])\n",
    "           cat(\"Top ten trending topics of the co ordinates \",latitude, longitude,\"are\",TopTrends,\".\")\n",
    "        },\n",
    "        error=function(e){\n",
    "                        cat(\"Trending topics not available, please try another location.\") \n",
    "        })\n",
    "         \n",
    "}"
   ]
  },
  {
   "cell_type": "code",
   "execution_count": null,
   "metadata": {
    "collapsed": true
   },
   "outputs": [],
   "source": []
  }
 ],
 "metadata": {
  "kernelspec": {
   "display_name": "R",
   "language": "R",
   "name": "ir"
  },
  "language_info": {
   "codemirror_mode": "r",
   "file_extension": ".r",
   "mimetype": "text/x-r-source",
   "name": "R",
   "pygments_lexer": "r",
   "version": "3.3.2"
  }
 },
 "nbformat": 4,
 "nbformat_minor": 2
}
