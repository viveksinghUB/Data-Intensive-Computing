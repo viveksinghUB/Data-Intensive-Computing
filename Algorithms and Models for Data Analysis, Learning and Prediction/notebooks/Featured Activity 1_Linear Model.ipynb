{
 "cells": [
  {
   "cell_type": "markdown",
   "metadata": {},
   "source": [
    "# Linear Model\n",
    "<h3>Tasks</h3>\n",
    "a. After the initial fitting, evaluate the fit by noting the R2 and p values of the fit.<br> b. Change the model so that it line is forced through Wayne Gretzky. Note the R2 and p values of the fit. This will another line or if you prefer another plot.<br>c. Now add the data for another player Patrick Kane (he is a current player). You need to get the data for form online sources. <br>Create a new chart with this addition and force the line through Kane but not Gretzky. Note R2 and p values of the fit. <br> d. Make all the model go through (0,0) and create new models. <br>Note R2 and p values of the fit. <br>e. Create a table of model names (reference), R2 and p values of the fit. Interpret your results. "
   ]
  },
  {
   "cell_type": "markdown",
   "metadata": {},
   "source": [
    "Load the libraries"
   ]
  },
  {
   "cell_type": "code",
   "execution_count": 1,
   "metadata": {
    "collapsed": false
   },
   "outputs": [
    {
     "name": "stderr",
     "output_type": "stream",
     "text": [
      "Warning message:\n",
      "\"package 'ggplot2' was built under R version 3.3.3\"\n",
      "Attaching package: 'dplyr'\n",
      "\n",
      "The following objects are masked from 'package:stats':\n",
      "\n",
      "    filter, lag\n",
      "\n",
      "The following objects are masked from 'package:base':\n",
      "\n",
      "    intersect, setdiff, setequal, union\n",
      "\n",
      "Warning message:\n",
      "\"package 'readxl' was built under R version 3.3.3\""
     ]
    }
   ],
   "source": [
    "library(ggplot2)\n",
    "library(dplyr)\n",
    "library(doBy)\n",
    "library(readxl)"
   ]
  },
  {
   "cell_type": "markdown",
   "metadata": {},
   "source": [
    "Load the data"
   ]
  },
  {
   "cell_type": "code",
   "execution_count": 2,
   "metadata": {
    "collapsed": false
   },
   "outputs": [
    {
     "data": {
      "text/html": [
       "<table>\n",
       "<thead><tr><th scope=col>Rank</th><th scope=col>Player</th><th scope=col>Team</th><th scope=col>Pos</th><th scope=col>1st NHL Season</th><th scope=col>Last NHL Season</th><th scope=col>GP</th><th scope=col>G</th><th scope=col>A</th><th scope=col>P</th><th scope=col>+/-</th><th scope=col>PIM</th><th scope=col>PP</th><th scope=col>SH</th><th scope=col>GW</th><th scope=col>GT</th><th scope=col>OT</th><th scope=col>Shots</th></tr></thead>\n",
       "<tbody>\n",
       "\t<tr><td>1            </td><td>Wayne Gretzky</td><td>NA           </td><td>C            </td><td>1979-1980    </td><td>1998-1999    </td><td>1487         </td><td>894          </td><td>1963         </td><td>2857         </td><td>518          </td><td> 577         </td><td>204          </td><td>73           </td><td>91           </td><td>12           </td><td> 1           </td><td>5089         </td></tr>\n",
       "\t<tr><td>2            </td><td>Mark Messier </td><td>NA           </td><td>C            </td><td>1979-1980    </td><td>2003-2004    </td><td>1756         </td><td>694          </td><td>1193         </td><td>1887         </td><td>210          </td><td>1910         </td><td>179          </td><td>63           </td><td>92           </td><td>15           </td><td> 7           </td><td>4219         </td></tr>\n",
       "\t<tr><td>3            </td><td>Gordie Howe  </td><td>NA           </td><td>R            </td><td>1946-1947    </td><td>1979-1980    </td><td>1767         </td><td>801          </td><td>1049         </td><td>1850         </td><td> 87          </td><td>1685         </td><td> 39          </td><td> 5           </td><td>18           </td><td>NA           </td><td>NA           </td><td>  NA         </td></tr>\n",
       "\t<tr><td>4            </td><td>Ron Francis  </td><td>NA           </td><td>C            </td><td>1981-1982    </td><td>2003-2004    </td><td>1731         </td><td>549          </td><td>1249         </td><td>1798         </td><td>-10          </td><td> 979         </td><td>188          </td><td>12           </td><td>79           </td><td>13           </td><td> 3           </td><td>3754         </td></tr>\n",
       "\t<tr><td>5            </td><td>Marcel Dionne</td><td>NA           </td><td>C            </td><td>1971-1972    </td><td>1988-1989    </td><td>1348         </td><td>731          </td><td>1040         </td><td>1771         </td><td> 28          </td><td> 600         </td><td>234          </td><td>19           </td><td>74           </td><td> 1           </td><td> 2           </td><td>5366         </td></tr>\n",
       "\t<tr><td>6            </td><td>Steve Yzerman</td><td>NA           </td><td>C            </td><td>1983-1984    </td><td>2005-2006    </td><td>1514         </td><td>692          </td><td>1063         </td><td>1755         </td><td>202          </td><td> 924         </td><td>202          </td><td>50           </td><td>94           </td><td>12           </td><td> 8           </td><td>4602         </td></tr>\n",
       "</tbody>\n",
       "</table>\n"
      ],
      "text/latex": [
       "\\begin{tabular}{r|llllllllllllllllll}\n",
       " Rank & Player & Team & Pos & 1st NHL Season & Last NHL Season & GP & G & A & P & +/- & PIM & PP & SH & GW & GT & OT & Shots\\\\\n",
       "\\hline\n",
       "\t 1             & Wayne Gretzky & NA            & C             & 1979-1980     & 1998-1999     & 1487          & 894           & 1963          & 2857          & 518           &  577          & 204           & 73            & 91            & 12            &  1            & 5089         \\\\\n",
       "\t 2             & Mark Messier  & NA            & C             & 1979-1980     & 2003-2004     & 1756          & 694           & 1193          & 1887          & 210           & 1910          & 179           & 63            & 92            & 15            &  7            & 4219         \\\\\n",
       "\t 3             & Gordie Howe   & NA            & R             & 1946-1947     & 1979-1980     & 1767          & 801           & 1049          & 1850          &  87           & 1685          &  39           &  5            & 18            & NA            & NA            &   NA         \\\\\n",
       "\t 4             & Ron Francis   & NA            & C             & 1981-1982     & 2003-2004     & 1731          & 549           & 1249          & 1798          & -10           &  979          & 188           & 12            & 79            & 13            &  3            & 3754         \\\\\n",
       "\t 5             & Marcel Dionne & NA            & C             & 1971-1972     & 1988-1989     & 1348          & 731           & 1040          & 1771          &  28           &  600          & 234           & 19            & 74            &  1            &  2            & 5366         \\\\\n",
       "\t 6             & Steve Yzerman & NA            & C             & 1983-1984     & 2005-2006     & 1514          & 692           & 1063          & 1755          & 202           &  924          & 202           & 50            & 94            & 12            &  8            & 4602         \\\\\n",
       "\\end{tabular}\n"
      ],
      "text/markdown": [
       "\n",
       "Rank | Player | Team | Pos | 1st NHL Season | Last NHL Season | GP | G | A | P | +/- | PIM | PP | SH | GW | GT | OT | Shots | \n",
       "|---|---|---|---|---|---|\n",
       "| 1             | Wayne Gretzky | NA            | C             | 1979-1980     | 1998-1999     | 1487          | 894           | 1963          | 2857          | 518           |  577          | 204           | 73            | 91            | 12            |  1            | 5089          | \n",
       "| 2             | Mark Messier  | NA            | C             | 1979-1980     | 2003-2004     | 1756          | 694           | 1193          | 1887          | 210           | 1910          | 179           | 63            | 92            | 15            |  7            | 4219          | \n",
       "| 3             | Gordie Howe   | NA            | R             | 1946-1947     | 1979-1980     | 1767          | 801           | 1049          | 1850          |  87           | 1685          |  39           |  5            | 18            | NA            | NA            |   NA          | \n",
       "| 4             | Ron Francis   | NA            | C             | 1981-1982     | 2003-2004     | 1731          | 549           | 1249          | 1798          | -10           |  979          | 188           | 12            | 79            | 13            |  3            | 3754          | \n",
       "| 5             | Marcel Dionne | NA            | C             | 1971-1972     | 1988-1989     | 1348          | 731           | 1040          | 1771          |  28           |  600          | 234           | 19            | 74            |  1            |  2            | 5366          | \n",
       "| 6             | Steve Yzerman | NA            | C             | 1983-1984     | 2005-2006     | 1514          | 692           | 1063          | 1755          | 202           |  924          | 202           | 50            | 94            | 12            |  8            | 4602          | \n",
       "\n",
       "\n"
      ],
      "text/plain": [
       "  Rank Player        Team Pos 1st NHL Season Last NHL Season GP   G   A    P   \n",
       "1 1    Wayne Gretzky NA   C   1979-1980      1998-1999       1487 894 1963 2857\n",
       "2 2    Mark Messier  NA   C   1979-1980      2003-2004       1756 694 1193 1887\n",
       "3 3    Gordie Howe   NA   R   1946-1947      1979-1980       1767 801 1049 1850\n",
       "4 4    Ron Francis   NA   C   1981-1982      2003-2004       1731 549 1249 1798\n",
       "5 5    Marcel Dionne NA   C   1971-1972      1988-1989       1348 731 1040 1771\n",
       "6 6    Steve Yzerman NA   C   1983-1984      2005-2006       1514 692 1063 1755\n",
       "  +/- PIM  PP  SH GW GT OT Shots\n",
       "1 518  577 204 73 91 12  1 5089 \n",
       "2 210 1910 179 63 92 15  7 4219 \n",
       "3  87 1685  39  5 18 NA NA   NA \n",
       "4 -10  979 188 12 79 13  3 3754 \n",
       "5  28  600 234 19 74  1  2 5366 \n",
       "6 202  924 202 50 94 12  8 4602 "
      ]
     },
     "metadata": {},
     "output_type": "display_data"
    },
    {
     "data": {
      "text/plain": [
       "      Rank           Player              Team               Pos           \n",
       " Min.   :  1.00   Length:100         Length:100         Length:100        \n",
       " 1st Qu.: 25.75   Class :character   Class :character   Class :character  \n",
       " Median : 50.50   Mode  :character   Mode  :character   Mode  :character  \n",
       " Mean   : 50.50                                                           \n",
       " 3rd Qu.: 75.25                                                           \n",
       " Max.   :100.00                                                           \n",
       "                                                                          \n",
       " 1st NHL Season     Last NHL Season          GP             G        \n",
       " Length:100         Length:100         Min.   : 657   Min.   :185.0  \n",
       " Class :character   Class :character   1st Qu.:1108   1st Qu.:391.0  \n",
       " Mode  :character   Mode  :character   Median :1246   Median :470.5  \n",
       "                                       Mean   :1261   Mean   :475.4  \n",
       "                                       3rd Qu.:1408   3rd Qu.:550.8  \n",
       "                                       Max.   :1767   Max.   :894.0  \n",
       "                                                                     \n",
       "       A                P             +/-              PIM        \n",
       " Min.   : 421.0   Min.   : 896   Min.   :-146.0   Min.   : 117.0  \n",
       " 1st Qu.: 585.0   1st Qu.:1018   1st Qu.:  26.5   1st Qu.: 564.8  \n",
       " Median : 700.5   Median :1136   Median :  97.0   Median : 920.5  \n",
       " Mean   : 741.8   Mean   :1217   Mean   : 135.7   Mean   :1036.1  \n",
       " 3rd Qu.: 816.8   3rd Qu.:1353   3rd Qu.: 199.0   3rd Qu.:1285.8  \n",
       " Max.   :1963.0   Max.   :2857   Max.   : 730.0   Max.   :3565.0  \n",
       "                                 NA's   :1                        \n",
       "       PP              SH              GW               GT        \n",
       " Min.   :  8.0   Min.   : 0.00   Min.   :  7.00   Min.   : 0.000  \n",
       " 1st Qu.:108.5   1st Qu.: 6.50   1st Qu.: 44.00   1st Qu.: 3.000  \n",
       " Median :134.0   Median :12.00   Median : 59.00   Median : 7.000  \n",
       " Mean   :139.9   Mean   :15.22   Mean   : 60.93   Mean   : 7.038  \n",
       " 3rd Qu.:178.5   3rd Qu.:22.50   3rd Qu.: 78.00   3rd Qu.:11.000  \n",
       " Max.   :274.0   Max.   :73.00   Max.   :118.00   Max.   :17.000  \n",
       " NA's   :1       NA's   :1       NA's   :1        NA's   :21      \n",
       "       OT             Shots     \n",
       " Min.   : 0.000   Min.   :2045  \n",
       " 1st Qu.: 2.000   1st Qu.:2816  \n",
       " Median : 4.000   Median :3287  \n",
       " Mean   : 4.962   Mean   :3438  \n",
       " 3rd Qu.: 7.000   3rd Qu.:3814  \n",
       " Max.   :17.000   Max.   :6206  \n",
       " NA's   :21       NA's   :16    "
      ]
     },
     "metadata": {},
     "output_type": "display_data"
    }
   ],
   "source": [
    "Nhl.data=read_excel(\"NHLTop100.xlsx\")\n",
    "head(Nhl.data)\n",
    "summary(Nhl.data)"
   ]
  },
  {
   "cell_type": "code",
   "execution_count": 3,
   "metadata": {
    "collapsed": false
   },
   "outputs": [
    {
     "data": {
      "text/html": [
       "100"
      ],
      "text/latex": [
       "100"
      ],
      "text/markdown": [
       "100"
      ],
      "text/plain": [
       "[1] 100"
      ]
     },
     "metadata": {},
     "output_type": "display_data"
    }
   ],
   "source": [
    "Nhl.data.gap=select(Nhl.data,Player,G,A,GP)#filter required column\n",
    "length(unique(Nhl.data$Player))#check if all the observation is unique\n"
   ]
  },
  {
   "cell_type": "code",
   "execution_count": 4,
   "metadata": {
    "collapsed": false
   },
   "outputs": [
    {
     "data": {},
     "metadata": {},
     "output_type": "display_data"
    },
    {
     "data": {
      "image/png": "[encoded data removed]",
      "text/plain": [
       "plot without title"
      ]
     },
     "metadata": {},
     "output_type": "display_data"
    }
   ],
   "source": [
    "p1<-ggplot(Nhl.data.gap, aes(x = G, y = A, size = G),fill=\"#FFFFFF\")+ theme_light()\n",
    "p2<-p1+geom_point(aes(color = GP),alpha = 0.5)+scale_colour_gradientn(colours = rainbow(7))+\n",
    "    scale_size_area()\n",
    "p2"
   ]
  },
  {
   "cell_type": "markdown",
   "metadata": {},
   "source": [
    "Fitting a linear model\n",
    "  "
   ]
  },
  {
   "cell_type": "code",
   "execution_count": 49,
   "metadata": {
    "collapsed": false
   },
   "outputs": [],
   "source": [
    "Nhl.fit1 <- lm(A ~ G, data = Nhl.data.gap)\n",
    "Nhl.fit.predict1<-predict(Nhl.fit1)"
   ]
  },
  {
   "cell_type": "markdown",
   "metadata": {},
   "source": [
    "Creating an empty dataframe"
   ]
  },
  {
   "cell_type": "code",
   "execution_count": 47,
   "metadata": {
    "collapsed": false
   },
   "outputs": [
    {
     "data": {
      "text/html": [
       "<table>\n",
       "<thead><tr><th scope=col>Model.Name</th><th scope=col>R2</th><th scope=col>p2</th><th scope=col>Passing.through.origin</th></tr></thead>\n",
       "<tbody>\n",
       "</tbody>\n",
       "</table>\n"
      ],
      "text/latex": [
       "\\begin{tabular}{r|llll}\n",
       " Model.Name & R2 & p2 & Passing.through.origin\\\\\n",
       "\\hline\n",
       "\\end{tabular}\n"
      ],
      "text/markdown": [
       "\n",
       "Model.Name | R2 | p2 | Passing.through.origin | \n",
       "||\n",
       "\n",
       "\n"
      ],
      "text/plain": [
       "     Model.Name R2 p2 Passing.through.origin"
      ]
     },
     "metadata": {},
     "output_type": "display_data"
    }
   ],
   "source": [
    "fit.summary=data.frame(Model.Name=character(),R2=double(),\n",
    "                       p2=character(),Passing.through.origin=character(),stringsAsFactors=FALSE)\n",
    "\n",
    "fit.summary"
   ]
  },
  {
   "cell_type": "code",
   "execution_count": 48,
   "metadata": {
    "collapsed": false
   },
   "outputs": [
    {
     "data": {},
     "metadata": {},
     "output_type": "display_data"
    },
    {
     "data": {
      "image/png": "[encoded data removed]",
      "text/plain": [
       "plot without title"
      ]
     },
     "metadata": {},
     "output_type": "display_data"
    }
   ],
   "source": [
    "p3=ggplot(Nhl.data.gap, aes(x = G, y = A))+geom_line(aes(y = Nhl.fit.predict1))+\n",
    "    geom_point(aes(color = GP))+ theme_light()\n",
    "p3"
   ]
  },
  {
   "cell_type": "code",
   "execution_count": 8,
   "metadata": {
    "collapsed": false
   },
   "outputs": [
    {
     "data": {
      "text/plain": [
       "\n",
       "Call:\n",
       "lm(formula = A ~ G, data = Nhl.data.gap)\n",
       "\n",
       "Residuals:\n",
       "    Min      1Q  Median      3Q     Max \n",
       "-356.51 -158.59  -10.29  125.08 1003.42 \n",
       "\n",
       "Coefficients:\n",
       "            Estimate Std. Error t value Pr(>|t|)    \n",
       "(Intercept) 494.5135    74.6410   6.625 1.88e-09 ***\n",
       "G             0.5202     0.1508   3.449 0.000832 ***\n",
       "---\n",
       "Signif. codes:  0 '***' 0.001 '**' 0.01 '*' 0.05 '.' 0.1 ' ' 1\n",
       "\n",
       "Residual standard error: 207 on 98 degrees of freedom\n",
       "Multiple R-squared:  0.1082,\tAdjusted R-squared:  0.09913 \n",
       "F-statistic: 11.89 on 1 and 98 DF,  p-value: 0.0008317\n"
      ]
     },
     "metadata": {},
     "output_type": "display_data"
    }
   ],
   "source": [
    "summary(Nhl.fit1)"
   ]
  },
  {
   "cell_type": "markdown",
   "metadata": {},
   "source": [
    "<h1>a. After the initial fitting, evaluate the fit by noting the R2 and p values of the fit. \n",
    "<h2>Fit 1:\n",
    "<h2> Adjusted R-squared:  0.09913 <br>\n",
    "p-value: 0.0008317"
   ]
  },
  {
   "cell_type": "markdown",
   "metadata": {},
   "source": [
    "# Suprisingly the default fit is giving R2 of 0.09"
   ]
  },
  {
   "cell_type": "markdown",
   "metadata": {},
   "source": [
    "### Recording the data in a dataframe\n"
   ]
  },
  {
   "cell_type": "code",
   "execution_count": 9,
   "metadata": {
    "collapsed": false
   },
   "outputs": [
    {
     "data": {
      "text/html": [
       "<table>\n",
       "<thead><tr><th scope=col>Model.Name</th><th scope=col>R2</th><th scope=col>p2</th><th scope=col>Passing.through.origin</th></tr></thead>\n",
       "<tbody>\n",
       "\t<tr><td>Fit.Default.1</td><td>0.09913      </td><td>0.0008317    </td><td>No           </td></tr>\n",
       "</tbody>\n",
       "</table>\n"
      ],
      "text/latex": [
       "\\begin{tabular}{r|llll}\n",
       " Model.Name & R2 & p2 & Passing.through.origin\\\\\n",
       "\\hline\n",
       "\t Fit.Default.1 & 0.09913       & 0.0008317     & No           \\\\\n",
       "\\end{tabular}\n"
      ],
      "text/markdown": [
       "\n",
       "Model.Name | R2 | p2 | Passing.through.origin | \n",
       "|---|\n",
       "| Fit.Default.1 | 0.09913       | 0.0008317     | No            | \n",
       "\n",
       "\n"
      ],
      "text/plain": [
       "  Model.Name    R2      p2        Passing.through.origin\n",
       "1 Fit.Default.1 0.09913 0.0008317 No                    "
      ]
     },
     "metadata": {},
     "output_type": "display_data"
    }
   ],
   "source": [
    "# fit.summary=rbind.data.frame(fit.summary, c(\"Default\",0.09913,\"0.0008317\",\"No\"),stringsAsFactors=FALSE)\n",
    "x=data.frame(Model.Name=\"Fit.Default.1\",R2=0.09913,\n",
    "                       p2=\"0.0008317\",Passing.through.origin=\"No\",stringsAsFactors=FALSE)\n",
    "fit.summary=rbind.data.frame(fit.summary,x)\n",
    "fit.summary"
   ]
  },
  {
   "cell_type": "markdown",
   "metadata": {},
   "source": [
    " "
   ]
  },
  {
   "cell_type": "markdown",
   "metadata": {},
   "source": [
    "# Change the model so that it line is forced through Wayne Gretzky. Note the R2 and p values of the fit. This will another line or if you prefer another plot. "
   ]
  },
  {
   "cell_type": "markdown",
   "metadata": {},
   "source": [
    "<h2>Fit 2: Passing through Wayne Gretzky <br></h2>"
   ]
  },
  {
   "cell_type": "markdown",
   "metadata": {},
   "source": [
    "For Wayne Gretzky G=894,A=1963<br>"
   ]
  },
  {
   "cell_type": "code",
   "execution_count": 10,
   "metadata": {
    "collapsed": false
   },
   "outputs": [
    {
     "data": {
      "text/plain": [
       "\n",
       "Call:\n",
       "lm(formula = I(A - 1963) ~ I(G - 894), data = Nhl.data.gap)\n",
       "\n",
       "Residuals:\n",
       "    Min      1Q  Median      3Q     Max \n",
       "-356.51 -158.59  -10.29  125.08 1003.42 \n",
       "\n",
       "Coefficients:\n",
       "              Estimate Std. Error t value Pr(>|t|)    \n",
       "(Intercept) -1003.4220    66.4463 -15.101  < 2e-16 ***\n",
       "I(G - 894)      0.5202     0.1508   3.449 0.000832 ***\n",
       "---\n",
       "Signif. codes:  0 '***' 0.001 '**' 0.01 '*' 0.05 '.' 0.1 ' ' 1\n",
       "\n",
       "Residual standard error: 207 on 98 degrees of freedom\n",
       "Multiple R-squared:  0.1082,\tAdjusted R-squared:  0.09913 \n",
       "F-statistic: 11.89 on 1 and 98 DF,  p-value: 0.0008317\n"
      ]
     },
     "metadata": {},
     "output_type": "display_data"
    }
   ],
   "source": [
    "fit.wayne1=(lm(I(A-1963)~I(G-894), data = Nhl.data.gap))\n",
    "summary(fit.wayne1)"
   ]
  },
  {
   "cell_type": "markdown",
   "metadata": {},
   "source": [
    "From the summary its clear that the y intercept is -1003 and the slope of our model is 0.5202"
   ]
  },
  {
   "cell_type": "markdown",
   "metadata": {},
   "source": [
    "Plotting the fit"
   ]
  },
  {
   "cell_type": "code",
   "execution_count": 44,
   "metadata": {
    "collapsed": false
   },
   "outputs": [
    {
     "data": {
      "text/html": [
       "<strong>1:</strong> -1003.42204909603"
      ],
      "text/latex": [
       "\\textbf{1:} -1003.42204909603"
      ],
      "text/markdown": [
       "**1:** -1003.42204909603"
      ],
      "text/plain": [
       "        1 \n",
       "-1003.422 "
      ]
     },
     "metadata": {},
     "output_type": "display_data"
    },
    {
     "data": {
      "image/png": "[encoded data removed]",
      "text/plain": [
       "plot without title"
      ]
     },
     "metadata": {},
     "output_type": "display_data"
    }
   ],
   "source": [
    "plot(Nhl.data.gap$G,Nhl.data.gap$A,pch=19,xlim=c(0,1000), ylim=c(-2000,2100))\n",
    "abline(coef(fit.wayne1), col='red')\n"
   ]
  },
  {
   "cell_type": "markdown",
   "metadata": {},
   "source": [
    "As we can see above that the line is shifted below. "
   ]
  },
  {
   "cell_type": "markdown",
   "metadata": {},
   "source": [
    "Noting the observations from above"
   ]
  },
  {
   "cell_type": "markdown",
   "metadata": {},
   "source": [
    "Slope=0.5202 | Intercept = -1003"
   ]
  },
  {
   "cell_type": "markdown",
   "metadata": {},
   "source": [
    "substituting y=1963,x=894,m=0.5202 in eqation y=mx+c, we get"
   ]
  },
  {
   "cell_type": "markdown",
   "metadata": {},
   "source": [
    "c=1497.9"
   ]
  },
  {
   "cell_type": "markdown",
   "metadata": {},
   "source": [
    "#### Making a different model with data from above analysis"
   ]
  },
  {
   "cell_type": "code",
   "execution_count": 45,
   "metadata": {
    "collapsed": false
   },
   "outputs": [
    {
     "data": {
      "text/plain": [
       "\n",
       "Call:\n",
       "lm(formula = I(A + 1003) ~ I(G), data = Nhl.data.gap)\n",
       "\n",
       "Residuals:\n",
       "    Min      1Q  Median      3Q     Max \n",
       "-356.51 -158.59  -10.29  125.08 1003.42 \n",
       "\n",
       "Coefficients:\n",
       "             Estimate Std. Error t value Pr(>|t|)    \n",
       "(Intercept) 1497.5135    74.6410  20.063  < 2e-16 ***\n",
       "I(G)           0.5202     0.1508   3.449 0.000832 ***\n",
       "---\n",
       "Signif. codes:  0 '***' 0.001 '**' 0.01 '*' 0.05 '.' 0.1 ' ' 1\n",
       "\n",
       "Residual standard error: 207 on 98 degrees of freedom\n",
       "Multiple R-squared:  0.1082,\tAdjusted R-squared:  0.09913 \n",
       "F-statistic: 11.89 on 1 and 98 DF,  p-value: 0.0008317\n"
      ]
     },
     "metadata": {},
     "output_type": "display_data"
    },
    {
     "data": {
      "text/plain": [
       "\n",
       "Call:\n",
       "lm(formula = I(A + 1003) ~ I(G), data = Nhl.data.gap)\n",
       "\n",
       "Coefficients:\n",
       "(Intercept)         I(G)  \n",
       "  1497.5135       0.5202  \n"
      ]
     },
     "metadata": {},
     "output_type": "display_data"
    },
    {
     "data": {
      "text/html": [
       "<strong>1:</strong> 1962.57795090397"
      ],
      "text/latex": [
       "\\textbf{1:} 1962.57795090397"
      ],
      "text/markdown": [
       "**1:** 1962.57795090397"
      ],
      "text/plain": [
       "       1 \n",
       "1962.578 "
      ]
     },
     "metadata": {},
     "output_type": "display_data"
    }
   ],
   "source": [
    "fit.wayne2=(lm(I(A+1003)~I(G), data = Nhl.data.gap))\n",
    "summary(fit.wayne2)\n",
    "fit.wayne2\n",
    "predict(fit.wayne2,newdata=list(G=894))"
   ]
  },
  {
   "cell_type": "markdown",
   "metadata": {},
   "source": [
    "### We can see as predicted the Intercept is 1497 and slope is 0.5202, thus this model is the same model which passes through Wayne and has same slope"
   ]
  },
  {
   "cell_type": "markdown",
   "metadata": {},
   "source": [
    "Plotting the model"
   ]
  },
  {
   "cell_type": "code",
   "execution_count": 13,
   "metadata": {
    "collapsed": false
   },
   "outputs": [
    {
     "name": "stdout",
     "output_type": "stream",
     "text": [
      "[1] \"**********************************************************************\"\n",
      "[1] \"Red line is line with LM forced to pass through Wayne\"\n",
      "[1] \"**********************************************************************\"\n"
     ]
    },
    {
     "data": {
      "image/png": "[encoded data removed]",
      "text/plain": [
       "Plot with title \"LM forced to pass through Wayne\""
      ]
     },
     "metadata": {},
     "output_type": "display_data"
    }
   ],
   "source": [
    "plot(Nhl.data.gap$G,Nhl.data.gap$A,pch=19,xlim=c(0,1000), ylim=c(0,2100),main = \"LM forced to pass through Wayne\")\n",
    "abline(coef(fit.wayne2), col='red')\n",
    "text(x=894, y=1963, labels=\"Wayne Gretzky\",cex= 0.7,pos=2)\n",
    "print(\"**********************************************************************\")\n",
    "print(\"Red line is line with LM forced to pass through Wayne\")\n",
    "print(\"**********************************************************************\")"
   ]
  },
  {
   "cell_type": "markdown",
   "metadata": {},
   "source": [
    "Recording the data"
   ]
  },
  {
   "cell_type": "code",
   "execution_count": 14,
   "metadata": {
    "collapsed": false
   },
   "outputs": [
    {
     "data": {
      "text/html": [
       "<table>\n",
       "<thead><tr><th scope=col>Model.Name</th><th scope=col>R2</th><th scope=col>p2</th><th scope=col>Passing.through.origin</th></tr></thead>\n",
       "<tbody>\n",
       "\t<tr><td>Fit.Default.1</td><td>0.09913      </td><td>0.0008317    </td><td>No           </td></tr>\n",
       "\t<tr><td>Fit.Wayne.1  </td><td>0.09913      </td><td>0.1082       </td><td>No           </td></tr>\n",
       "</tbody>\n",
       "</table>\n"
      ],
      "text/latex": [
       "\\begin{tabular}{r|llll}\n",
       " Model.Name & R2 & p2 & Passing.through.origin\\\\\n",
       "\\hline\n",
       "\t Fit.Default.1 & 0.09913       & 0.0008317     & No           \\\\\n",
       "\t Fit.Wayne.1   & 0.09913       & 0.1082        & No           \\\\\n",
       "\\end{tabular}\n"
      ],
      "text/markdown": [
       "\n",
       "Model.Name | R2 | p2 | Passing.through.origin | \n",
       "|---|---|\n",
       "| Fit.Default.1 | 0.09913       | 0.0008317     | No            | \n",
       "| Fit.Wayne.1   | 0.09913       | 0.1082        | No            | \n",
       "\n",
       "\n"
      ],
      "text/plain": [
       "  Model.Name    R2      p2        Passing.through.origin\n",
       "1 Fit.Default.1 0.09913 0.0008317 No                    \n",
       "2 Fit.Wayne.1   0.09913 0.1082    No                    "
      ]
     },
     "metadata": {},
     "output_type": "display_data"
    }
   ],
   "source": [
    "x=data.frame(Model.Name=\"Fit.Wayne.1\",R2=0.09913,\n",
    "                       p2=\"0.1082\",Passing.through.origin=\"No\",stringsAsFactors=FALSE)\n",
    "fit.summary=rbind.data.frame(fit.summary,x)\n",
    "fit.summary"
   ]
  },
  {
   "cell_type": "markdown",
   "metadata": {},
   "source": [
    "## Attempt 2 :"
   ]
  },
  {
   "cell_type": "markdown",
   "metadata": {},
   "source": [
    "Using the prediction to pass the line through wayne and making wayne cordinate as origin"
   ]
  },
  {
   "cell_type": "markdown",
   "metadata": {},
   "source": [
    " "
   ]
  },
  {
   "cell_type": "code",
   "execution_count": 15,
   "metadata": {
    "collapsed": false
   },
   "outputs": [
    {
     "data": {
      "text/plain": [
       "\n",
       "Call:\n",
       "lm(formula = I(A - 1963) ~ I(G - 894) + 0, data = Nhl.data.gap)\n",
       "\n",
       "Residuals:\n",
       "   Min     1Q Median     3Q    Max \n",
       "-902.2 -333.4 -145.4  103.3  703.4 \n",
       "\n",
       "Coefficients:\n",
       "           Estimate Std. Error t value Pr(>|t|)    \n",
       "I(G - 894)   2.6847     0.0853   31.48   <2e-16 ***\n",
       "---\n",
       "Signif. codes:  0 '***' 0.001 '**' 0.01 '*' 0.05 '.' 0.1 ' ' 1\n",
       "\n",
       "Residual standard error: 375.7 on 99 degrees of freedom\n",
       "Multiple R-squared:  0.9091,\tAdjusted R-squared:  0.9082 \n",
       "F-statistic: 990.7 on 1 and 99 DF,  p-value: < 2.2e-16\n"
      ]
     },
     "metadata": {},
     "output_type": "display_data"
    }
   ],
   "source": [
    "Nhl.fit2 <- (lm(I(A-1963)~I(G-894)+0, data = Nhl.data.gap))\n",
    "Nhl.fit.predict2<-predict(Nhl.fit2)\n",
    "summary(Nhl.fit2)"
   ]
  },
  {
   "cell_type": "code",
   "execution_count": 16,
   "metadata": {
    "collapsed": false
   },
   "outputs": [
    {
     "data": {
      "text/html": [
       "<strong>I(G - 894):</strong> 2.68466238522409"
      ],
      "text/latex": [
       "\\textbf{I(G - 894):} 2.68466238522409"
      ],
      "text/markdown": [
       "**I(G - 894):** 2.68466238522409"
      ],
      "text/plain": [
       "I(G - 894) \n",
       "  2.684662 "
      ]
     },
     "metadata": {},
     "output_type": "display_data"
    },
    {
     "name": "stdout",
     "output_type": "stream",
     "text": [
      "[1] \"**********************************************************************\"\n",
      "[1] \"Blue line is default LM\"\n",
      "[1] \"Red line is line with LM forced to pass through Wayne\"\n",
      "[1] \"**********************************************************************\"\n"
     ]
    },
    {
     "data": {
      "image/png": "[encoded data removed]",
      "text/plain": [
       "Plot with title \"LM forced to pass through Wayne (RED)\""
      ]
     },
     "metadata": {},
     "output_type": "display_data"
    }
   ],
   "source": [
    "plot(Nhl.data.gap$G,Nhl.data.gap$A,pch=19,xlim=c(0,1000), ylim=c(0,2100),,main = \"LM forced to pass through Wayne (RED)\")\n",
    "abline(predict(Nhl.fit2, newdata = list(G=0))+1963, coef(Nhl.fit2), col='red')\n",
    "abline(Nhl.fit1, col=\"blue\")#default LM\n",
    "text(x=894, y=1963, labels=\"Wayne Gretzky\",cex= 0.7,pos=2)\n",
    "coef(Nhl.fit2)\n",
    "\n",
    "print(\"**********************************************************************\")\n",
    "print(\"Blue line is default LM\")\n",
    "print(\"Red line is line with LM forced to pass through Wayne\")\n",
    "print(\"**********************************************************************\")"
   ]
  },
  {
   "cell_type": "markdown",
   "metadata": {},
   "source": [
    "Predicted value of origin actual"
   ]
  },
  {
   "cell_type": "code",
   "execution_count": 17,
   "metadata": {
    "collapsed": false
   },
   "outputs": [
    {
     "data": {
      "text/html": [
       "<strong>1:</strong> -2400.08817239033"
      ],
      "text/latex": [
       "\\textbf{1:} -2400.08817239033"
      ],
      "text/markdown": [
       "**1:** -2400.08817239033"
      ],
      "text/plain": [
       "        1 \n",
       "-2400.088 "
      ]
     },
     "metadata": {},
     "output_type": "display_data"
    }
   ],
   "source": [
    "new.df <- data.frame(G=c(0))\n",
    "predict(Nhl.fit2, new.df)"
   ]
  },
  {
   "cell_type": "markdown",
   "metadata": {},
   "source": [
    "Predicted value of wayn actual:"
   ]
  },
  {
   "cell_type": "code",
   "execution_count": 18,
   "metadata": {
    "collapsed": false
   },
   "outputs": [
    {
     "data": {
      "text/html": [
       "<strong>1:</strong> 0"
      ],
      "text/latex": [
       "\\textbf{1:} 0"
      ],
      "text/markdown": [
       "**1:** 0"
      ],
      "text/plain": [
       "1 \n",
       "0 "
      ]
     },
     "metadata": {},
     "output_type": "display_data"
    }
   ],
   "source": [
    "new.df <- data.frame(G=c(894))\n",
    "predict(Nhl.fit2, new.df)"
   ]
  },
  {
   "cell_type": "markdown",
   "metadata": {},
   "source": [
    "Its 0 since wayne is now shifted to origin"
   ]
  },
  {
   "cell_type": "code",
   "execution_count": 19,
   "metadata": {
    "collapsed": false
   },
   "outputs": [
    {
     "data": {
      "text/plain": [
       "\n",
       "Call:\n",
       "lm(formula = I(A - 1963) ~ I(G - 894) + 0, data = Nhl.data.gap)\n",
       "\n",
       "Residuals:\n",
       "   Min     1Q Median     3Q    Max \n",
       "-902.2 -333.4 -145.4  103.3  703.4 \n",
       "\n",
       "Coefficients:\n",
       "           Estimate Std. Error t value Pr(>|t|)    \n",
       "I(G - 894)   2.6847     0.0853   31.48   <2e-16 ***\n",
       "---\n",
       "Signif. codes:  0 '***' 0.001 '**' 0.01 '*' 0.05 '.' 0.1 ' ' 1\n",
       "\n",
       "Residual standard error: 375.7 on 99 degrees of freedom\n",
       "Multiple R-squared:  0.9091,\tAdjusted R-squared:  0.9082 \n",
       "F-statistic: 990.7 on 1 and 99 DF,  p-value: < 2.2e-16\n"
      ]
     },
     "metadata": {},
     "output_type": "display_data"
    }
   ],
   "source": [
    "summary(Nhl.fit2)"
   ]
  },
  {
   "cell_type": "markdown",
   "metadata": {},
   "source": [
    "\n",
    "Adjusted R-squared:  0.9082 <br>\n",
    "p-value: < 2.2e-16\n"
   ]
  },
  {
   "cell_type": "markdown",
   "metadata": {},
   "source": [
    "Recording the data"
   ]
  },
  {
   "cell_type": "code",
   "execution_count": 20,
   "metadata": {
    "collapsed": false
   },
   "outputs": [
    {
     "data": {
      "text/html": [
       "<table>\n",
       "<thead><tr><th scope=col>Model.Name</th><th scope=col>R2</th><th scope=col>p2</th><th scope=col>Passing.through.origin</th></tr></thead>\n",
       "<tbody>\n",
       "\t<tr><td>Fit.Default.1</td><td>0.09913      </td><td>0.0008317    </td><td>No           </td></tr>\n",
       "\t<tr><td>Fit.Wayne.1  </td><td>0.09913      </td><td>0.1082       </td><td>No           </td></tr>\n",
       "\t<tr><td><span style=white-space:pre-wrap>Fit.Wayne.2  </span></td><td>0.90820                                              </td><td>&lt; 2.2e-16                                         </td><td>No                                                   </td></tr>\n",
       "</tbody>\n",
       "</table>\n"
      ],
      "text/latex": [
       "\\begin{tabular}{r|llll}\n",
       " Model.Name & R2 & p2 & Passing.through.origin\\\\\n",
       "\\hline\n",
       "\t Fit.Default.1 & 0.09913       & 0.0008317     & No           \\\\\n",
       "\t Fit.Wayne.1   & 0.09913       & 0.1082        & No           \\\\\n",
       "\t Fit.Wayne.2   & 0.90820       & < 2.2e-16     & No           \\\\\n",
       "\\end{tabular}\n"
      ],
      "text/markdown": [
       "\n",
       "Model.Name | R2 | p2 | Passing.through.origin | \n",
       "|---|---|---|\n",
       "| Fit.Default.1 | 0.09913       | 0.0008317     | No            | \n",
       "| Fit.Wayne.1   | 0.09913       | 0.1082        | No            | \n",
       "| Fit.Wayne.2   | 0.90820       | < 2.2e-16     | No            | \n",
       "\n",
       "\n"
      ],
      "text/plain": [
       "  Model.Name    R2      p2        Passing.through.origin\n",
       "1 Fit.Default.1 0.09913 0.0008317 No                    \n",
       "2 Fit.Wayne.1   0.09913 0.1082    No                    \n",
       "3 Fit.Wayne.2   0.90820 < 2.2e-16 No                    "
      ]
     },
     "metadata": {},
     "output_type": "display_data"
    }
   ],
   "source": [
    "x=data.frame(Model.Name=\"Fit.Wayne.2\",R2=0.9082,\n",
    "                       p2=\"< 2.2e-16\",Passing.through.origin=\"No\",stringsAsFactors=FALSE)\n",
    "\n",
    "fit.summary=rbind.data.frame(fit.summary,x)\n",
    "fit.summary"
   ]
  },
  {
   "cell_type": "markdown",
   "metadata": {},
   "source": [
    "# c. Now add the data for another player Patrick Kane (he is a current player). You need to get the data for form online sources. Create a new chart with this addition and force the line through Kane but not Gretzky. Note R2 and p values of the fit. "
   ]
  },
  {
   "cell_type": "markdown",
   "metadata": {},
   "source": [
    "Data for Patrick Kane<br>\n",
    "\n",
    "https://www.nhl.com/player/patrick-kane-8474141\n",
    "\n",
    "GP=728<br>\n",
    "G=282 <br>\n",
    "A=458 <br>\n"
   ]
  },
  {
   "cell_type": "markdown",
   "metadata": {},
   "source": [
    "Adding Patrick Kane"
   ]
  },
  {
   "cell_type": "code",
   "execution_count": 21,
   "metadata": {
    "collapsed": false
   },
   "outputs": [
    {
     "data": {
      "text/html": [
       "101"
      ],
      "text/latex": [
       "101"
      ],
      "text/markdown": [
       "101"
      ],
      "text/plain": [
       "[1] 101"
      ]
     },
     "metadata": {},
     "output_type": "display_data"
    }
   ],
   "source": [
    "Nhl.data.gap.PK=rbind(Nhl.data.gap, c(\"Patrick Kane\",282,458,728)) # Adding Patrick Kane\n",
    "nrow(Nhl.data.gap.PK)\n",
    "\n",
    "Nhl.data.gap.PK=D <- transform(Nhl.data.gap.PK, G = as.numeric(G), \n",
    "                                A = as.numeric(A), \n",
    "                                GP=as.numeric(GP))"
   ]
  },
  {
   "cell_type": "markdown",
   "metadata": {},
   "source": [
    "Following the same code as in Wayne"
   ]
  },
  {
   "cell_type": "code",
   "execution_count": 22,
   "metadata": {
    "collapsed": false
   },
   "outputs": [
    {
     "data": {
      "text/plain": [
       "\n",
       "Call:\n",
       "lm(formula = I(A - 458) ~ I(G - 282), data = Nhl.data.gap.PK)\n",
       "\n",
       "Residuals:\n",
       "   Min     1Q Median     3Q    Max \n",
       "-356.0 -175.1   -8.9  126.2  997.6 \n",
       "\n",
       "Coefficients:\n",
       "            Estimate Std. Error t value Pr(>|t|)    \n",
       "(Intercept) 177.9002    35.2102   5.053    2e-06 ***\n",
       "I(G - 282)    0.5385     0.1492   3.609 0.000484 ***\n",
       "---\n",
       "Signif. codes:  0 '***' 0.001 '**' 0.01 '*' 0.05 '.' 0.1 ' ' 1\n",
       "\n",
       "Residual standard error: 206.8 on 99 degrees of freedom\n",
       "Multiple R-squared:  0.1163,\tAdjusted R-squared:  0.1073 \n",
       "F-statistic: 13.03 on 1 and 99 DF,  p-value: 0.000484\n"
      ]
     },
     "metadata": {},
     "output_type": "display_data"
    }
   ],
   "source": [
    "fit.Patrick1=(lm(I(A-458)~I(G-282), data = Nhl.data.gap.PK))\n",
    "summary(fit.Patrick1)\n"
   ]
  },
  {
   "cell_type": "markdown",
   "metadata": {},
   "source": [
    "### We can see that the R2 = 0.1073 and pvalue0.000484. Also  (Intercept) 177.9002 I(G - 282)    0.5385 "
   ]
  },
  {
   "cell_type": "code",
   "execution_count": 23,
   "metadata": {
    "collapsed": false
   },
   "outputs": [
    {
     "data": {
      "image/png": "[encoded data removed]",
      "text/plain": [
       "Plot with title \"Trying to force lm through Patrick Kane\""
      ]
     },
     "metadata": {},
     "output_type": "display_data"
    }
   ],
   "source": [
    "\n",
    "plot(Nhl.data.gap.PK$G,Nhl.data.gap.PK$A,pch=19,xlim=c(0,1000), ylim=c(-2000,2100),main=\"Trying to force lm through Patrick Kane\")\n",
    "abline(coef(fit.Patrick1), col='red')\n",
    "text(x=894, y=1963, labels=\"Wayne Gretzky\",cex= 0.7,pos=2)\n",
    "text(x=282, y=458, labels=\"Patrick Kane\",cex= 0.7,pos=2)"
   ]
  },
  {
   "cell_type": "markdown",
   "metadata": {},
   "source": [
    "Noting down the (Intercept) 177.9002 and slope I(G - 282)    0.5385"
   ]
  },
  {
   "cell_type": "markdown",
   "metadata": {},
   "source": [
    "We make a different LM with same slope but passing through Patrick"
   ]
  },
  {
   "cell_type": "code",
   "execution_count": 24,
   "metadata": {
    "collapsed": false
   },
   "outputs": [
    {
     "data": {
      "text/plain": [
       "\n",
       "Call:\n",
       "lm(formula = I(A - 177.9) ~ I(G), data = Nhl.data.gap.PK)\n",
       "\n",
       "Coefficients:\n",
       "(Intercept)         I(G)  \n",
       "   306.1517       0.5385  \n"
      ]
     },
     "metadata": {},
     "output_type": "display_data"
    },
    {
     "data": {
      "text/plain": [
       "\n",
       "Call:\n",
       "lm(formula = I(A - 177.9) ~ I(G), data = Nhl.data.gap.PK)\n",
       "\n",
       "Residuals:\n",
       "   Min     1Q Median     3Q    Max \n",
       "-356.0 -175.1   -8.9  126.2  997.6 \n",
       "\n",
       "Coefficients:\n",
       "            Estimate Std. Error t value Pr(>|t|)    \n",
       "(Intercept) 306.1517    73.5812   4.161 6.77e-05 ***\n",
       "I(G)          0.5385     0.1492   3.609 0.000484 ***\n",
       "---\n",
       "Signif. codes:  0 '***' 0.001 '**' 0.01 '*' 0.05 '.' 0.1 ' ' 1\n",
       "\n",
       "Residual standard error: 206.8 on 99 degrees of freedom\n",
       "Multiple R-squared:  0.1163,\tAdjusted R-squared:  0.1073 \n",
       "F-statistic: 13.03 on 1 and 99 DF,  p-value: 0.000484\n"
      ]
     },
     "metadata": {},
     "output_type": "display_data"
    }
   ],
   "source": [
    "\n",
    "\n",
    "fit.Patrick2=(lm(I(A-177.9)~I(G), data = Nhl.data.gap.PK)) # subtracting the (Intercept) 177.9002 \n",
    "fit.Patrick2\n",
    "summary(fit.Patrick2)\n"
   ]
  },
  {
   "cell_type": "markdown",
   "metadata": {},
   "source": [
    "### We can see that the slope of this model is unchanged and it passes through Patrick Kane. Also it is to be noted that the R2 = 0.1073 and pvalue0.000484 remains unchanged. This this is the same model passing through Patrick Kane"
   ]
  },
  {
   "cell_type": "markdown",
   "metadata": {},
   "source": [
    "Plotting the model"
   ]
  },
  {
   "cell_type": "code",
   "execution_count": 25,
   "metadata": {
    "collapsed": false
   },
   "outputs": [
    {
     "name": "stdout",
     "output_type": "stream",
     "text": [
      "[1] \"**********************************************************************\"\n",
      "[1] \"Red line is line with LM forced to pass through Patrick\"\n",
      "[1] \"**********************************************************************\"\n"
     ]
    },
    {
     "data": {
      "image/png": "[encoded data removed]",
      "text/plain": [
       "Plot with title \"Attempt1: LM forced to pass through Patrick\""
      ]
     },
     "metadata": {},
     "output_type": "display_data"
    }
   ],
   "source": [
    "\n",
    "plot(Nhl.data.gap.PK$G,Nhl.data.gap.PK$A,pch=19,xlim=c(0,1000), ylim=c(0,2100),main = \"Attempt1: LM forced to pass through Patrick\")\n",
    "abline(coef(fit.Patrick2), col='green')\n",
    "text(x=894, y=1963, labels=\"Wayne Gretzky\",cex= 0.7,pos=2)\n",
    "text(x=282, y=458, labels=\"Patrick Kane\",cex= 0.7,pos=2)\n",
    "print(\"**********************************************************************\")\n",
    "print(\"Red line is line with LM forced to pass through Patrick\")\n",
    "print(\"**********************************************************************\")"
   ]
  },
  {
   "cell_type": "markdown",
   "metadata": {},
   "source": [
    "Recording the data"
   ]
  },
  {
   "cell_type": "code",
   "execution_count": 26,
   "metadata": {
    "collapsed": false
   },
   "outputs": [
    {
     "data": {
      "text/html": [
       "<table>\n",
       "<thead><tr><th scope=col>Model.Name</th><th scope=col>R2</th><th scope=col>p2</th><th scope=col>Passing.through.origin</th></tr></thead>\n",
       "<tbody>\n",
       "\t<tr><td>Fit.Default.1</td><td>0.09913      </td><td>0.0008317    </td><td>No           </td></tr>\n",
       "\t<tr><td>Fit.Wayne.1  </td><td>0.09913      </td><td>0.1082       </td><td>No           </td></tr>\n",
       "\t<tr><td><span style=white-space:pre-wrap>Fit.Wayne.2  </span></td><td>0.90820                                              </td><td>&lt; 2.2e-16                                         </td><td>No                                                   </td></tr>\n",
       "\t<tr><td>Fit.Patrick.1</td><td>0.10730      </td><td>0.000484     </td><td>No           </td></tr>\n",
       "</tbody>\n",
       "</table>\n"
      ],
      "text/latex": [
       "\\begin{tabular}{r|llll}\n",
       " Model.Name & R2 & p2 & Passing.through.origin\\\\\n",
       "\\hline\n",
       "\t Fit.Default.1 & 0.09913       & 0.0008317     & No           \\\\\n",
       "\t Fit.Wayne.1   & 0.09913       & 0.1082        & No           \\\\\n",
       "\t Fit.Wayne.2   & 0.90820       & < 2.2e-16     & No           \\\\\n",
       "\t Fit.Patrick.1 & 0.10730       & 0.000484      & No           \\\\\n",
       "\\end{tabular}\n"
      ],
      "text/markdown": [
       "\n",
       "Model.Name | R2 | p2 | Passing.through.origin | \n",
       "|---|---|---|---|\n",
       "| Fit.Default.1 | 0.09913       | 0.0008317     | No            | \n",
       "| Fit.Wayne.1   | 0.09913       | 0.1082        | No            | \n",
       "| Fit.Wayne.2   | 0.90820       | < 2.2e-16     | No            | \n",
       "| Fit.Patrick.1 | 0.10730       | 0.000484      | No            | \n",
       "\n",
       "\n"
      ],
      "text/plain": [
       "  Model.Name    R2      p2        Passing.through.origin\n",
       "1 Fit.Default.1 0.09913 0.0008317 No                    \n",
       "2 Fit.Wayne.1   0.09913 0.1082    No                    \n",
       "3 Fit.Wayne.2   0.90820 < 2.2e-16 No                    \n",
       "4 Fit.Patrick.1 0.10730 0.000484  No                    "
      ]
     },
     "metadata": {},
     "output_type": "display_data"
    }
   ],
   "source": [
    "x=data.frame(Model.Name=\"Fit.Patrick.1\",R2=0.1073,\n",
    "                       p2=\"0.000484\",Passing.through.origin=\"No\",stringsAsFactors=FALSE)\n",
    "\n",
    "fit.summary=rbind.data.frame(fit.summary,x)\n",
    "fit.summary"
   ]
  },
  {
   "cell_type": "markdown",
   "metadata": {},
   "source": [
    "# Attemp2 : "
   ]
  },
  {
   "cell_type": "markdown",
   "metadata": {},
   "source": [
    "Using predictive method to pass Lm through Patrick Kane"
   ]
  },
  {
   "cell_type": "code",
   "execution_count": 27,
   "metadata": {
    "collapsed": false
   },
   "outputs": [],
   "source": [
    "Nhl.fit3 <- (lm(I(A-458)~I(G-282)+0, data = Nhl.data.gap.PK))\n",
    "Nhl.fit.predict3<-predict(Nhl.fit3)"
   ]
  },
  {
   "cell_type": "code",
   "execution_count": 28,
   "metadata": {
    "collapsed": false
   },
   "outputs": [
    {
     "data": {
      "image/png": "[encoded data removed]",
      "text/plain": [
       "Plot with title \"Attemp2 : Passing through Patrick Kane\""
      ]
     },
     "metadata": {},
     "output_type": "display_data"
    }
   ],
   "source": [
    "plot(Nhl.data.gap.PK$G,Nhl.data.gap.PK$A,pch=19,xlim=c(0,1000), ylim=c(0,2100),main=\"Attemp2 : Passing through Patrick Kane\")\n",
    "\n",
    "# abline(predict(Nhl.fit2, newdata = list(G=0))+1963, coef(Nhl.fit2), col='red')\n",
    "# # abline(Nhl.fit1, col=\"blue\")\n",
    "abline(predict(Nhl.fit3, newdata = list(G=0))+458, coef(Nhl.fit3), col='green')\n",
    "\n",
    "text(x=894, y=1963, labels=\"Wayne Gretzky\",cex= 0.7,pos=2)\n",
    "text(x=282, y=458, labels=\"Patrick Kane\",cex= 0.7,pos=2)"
   ]
  },
  {
   "cell_type": "code",
   "execution_count": 29,
   "metadata": {
    "collapsed": false
   },
   "outputs": [
    {
     "data": {
      "text/plain": [
       "\n",
       "Call:\n",
       "lm(formula = I(A - 458) ~ I(G - 282) + 0, data = Nhl.data.gap.PK)\n",
       "\n",
       "Residuals:\n",
       "    Min      1Q  Median      3Q     Max \n",
       "-338.35 -112.92   39.85  167.95  801.09 \n",
       "\n",
       "Coefficients:\n",
       "           Estimate Std. Error t value Pr(>|t|)    \n",
       "I(G - 282)   1.1502     0.0973   11.82   <2e-16 ***\n",
       "---\n",
       "Signif. codes:  0 '***' 0.001 '**' 0.01 '*' 0.05 '.' 0.1 ' ' 1\n",
       "\n",
       "Residual standard error: 230.8 on 100 degrees of freedom\n",
       "Multiple R-squared:  0.5829,\tAdjusted R-squared:  0.5787 \n",
       "F-statistic: 139.7 on 1 and 100 DF,  p-value: < 2.2e-16\n"
      ]
     },
     "metadata": {},
     "output_type": "display_data"
    }
   ],
   "source": [
    "summary(Nhl.fit3)"
   ]
  },
  {
   "cell_type": "markdown",
   "metadata": {},
   "source": [
    "<h2>Fit 3: Passing through Patrick Kane <br></h2>\n",
    "Adjusted R-squared:  0.5787 <br>\n",
    "p-value: < 2.2e-16"
   ]
  },
  {
   "cell_type": "markdown",
   "metadata": {},
   "source": [
    "Recording the data"
   ]
  },
  {
   "cell_type": "code",
   "execution_count": 30,
   "metadata": {
    "collapsed": false
   },
   "outputs": [
    {
     "data": {
      "text/html": [
       "<table>\n",
       "<thead><tr><th scope=col>Model.Name</th><th scope=col>R2</th><th scope=col>p2</th><th scope=col>Passing.through.origin</th></tr></thead>\n",
       "<tbody>\n",
       "\t<tr><td>Fit.Default.1</td><td>0.09913      </td><td>0.0008317    </td><td>No           </td></tr>\n",
       "\t<tr><td>Fit.Wayne.1  </td><td>0.09913      </td><td>0.1082       </td><td>No           </td></tr>\n",
       "\t<tr><td><span style=white-space:pre-wrap>Fit.Wayne.2  </span></td><td>0.90820                                              </td><td>&lt; 2.2e-16                                         </td><td>No                                                   </td></tr>\n",
       "\t<tr><td>Fit.Patrick.1</td><td>0.10730      </td><td>0.000484     </td><td>No           </td></tr>\n",
       "\t<tr><td>Fit.Patrick.2</td><td>0.57870      </td><td>&lt; 2.2e-16 </td><td>No           </td></tr>\n",
       "</tbody>\n",
       "</table>\n"
      ],
      "text/latex": [
       "\\begin{tabular}{r|llll}\n",
       " Model.Name & R2 & p2 & Passing.through.origin\\\\\n",
       "\\hline\n",
       "\t Fit.Default.1 & 0.09913       & 0.0008317     & No           \\\\\n",
       "\t Fit.Wayne.1   & 0.09913       & 0.1082        & No           \\\\\n",
       "\t Fit.Wayne.2   & 0.90820       & < 2.2e-16     & No           \\\\\n",
       "\t Fit.Patrick.1 & 0.10730       & 0.000484      & No           \\\\\n",
       "\t Fit.Patrick.2 & 0.57870       & < 2.2e-16     & No           \\\\\n",
       "\\end{tabular}\n"
      ],
      "text/markdown": [
       "\n",
       "Model.Name | R2 | p2 | Passing.through.origin | \n",
       "|---|---|---|---|---|\n",
       "| Fit.Default.1 | 0.09913       | 0.0008317     | No            | \n",
       "| Fit.Wayne.1   | 0.09913       | 0.1082        | No            | \n",
       "| Fit.Wayne.2   | 0.90820       | < 2.2e-16     | No            | \n",
       "| Fit.Patrick.1 | 0.10730       | 0.000484      | No            | \n",
       "| Fit.Patrick.2 | 0.57870       | < 2.2e-16     | No            | \n",
       "\n",
       "\n"
      ],
      "text/plain": [
       "  Model.Name    R2      p2        Passing.through.origin\n",
       "1 Fit.Default.1 0.09913 0.0008317 No                    \n",
       "2 Fit.Wayne.1   0.09913 0.1082    No                    \n",
       "3 Fit.Wayne.2   0.90820 < 2.2e-16 No                    \n",
       "4 Fit.Patrick.1 0.10730 0.000484  No                    \n",
       "5 Fit.Patrick.2 0.57870 < 2.2e-16 No                    "
      ]
     },
     "metadata": {},
     "output_type": "display_data"
    }
   ],
   "source": [
    "x=data.frame(Model.Name=\"Fit.Patrick.2\",R2=0.5787,\n",
    "                       p2=\"< 2.2e-16\",Passing.through.origin=\"No\",stringsAsFactors=FALSE)\n",
    "\n",
    "fit.summary=rbind.data.frame(fit.summary,x)\n",
    "fit.summary"
   ]
  },
  {
   "cell_type": "markdown",
   "metadata": {
    "collapsed": true
   },
   "source": [
    "# d. Make all the model go through (0,0) and create new models. Note R2 and p values of the fit. "
   ]
  },
  {
   "cell_type": "markdown",
   "metadata": {},
   "source": [
    "Making default model pass through origin\n",
    "\n"
   ]
  },
  {
   "cell_type": "code",
   "execution_count": 31,
   "metadata": {
    "collapsed": false
   },
   "outputs": [
    {
     "data": {
      "text/plain": [
       "\n",
       "Call:\n",
       "lm(formula = A ~ G - 1, data = Nhl.data.gap)\n",
       "\n",
       "Residuals:\n",
       "    Min      1Q  Median      3Q     Max \n",
       "-446.93 -137.40    1.88  159.73  639.58 \n",
       "\n",
       "Coefficients:\n",
       "  Estimate Std. Error t value Pr(>|t|)    \n",
       "G  1.48033    0.05009   29.55   <2e-16 ***\n",
       "---\n",
       "Signif. codes:  0 '***' 0.001 '**' 0.01 '*' 0.05 '.' 0.1 ' ' 1\n",
       "\n",
       "Residual standard error: 247.9 on 99 degrees of freedom\n",
       "Multiple R-squared:  0.8982,\tAdjusted R-squared:  0.8972 \n",
       "F-statistic: 873.4 on 1 and 99 DF,  p-value: < 2.2e-16\n"
      ]
     },
     "metadata": {},
     "output_type": "display_data"
    }
   ],
   "source": [
    "default.v1 <- (lm(A ~ G-1, data = Nhl.data.gap))\n",
    "default.v1.predict1<-predict(default.v1 )\n",
    "summary(default.v1  )\n"
   ]
  },
  {
   "cell_type": "markdown",
   "metadata": {},
   "source": [
    "It can be observed that intercept part is 0 ."
   ]
  },
  {
   "cell_type": "markdown",
   "metadata": {},
   "source": [
    "\n",
    "Adjusted R-squared:  0.8972 <br>\n",
    "p-value: < 2.2e-16"
   ]
  },
  {
   "cell_type": "markdown",
   "metadata": {},
   "source": [
    "Plotting the Model"
   ]
  },
  {
   "cell_type": "code",
   "execution_count": 32,
   "metadata": {
    "collapsed": false
   },
   "outputs": [
    {
     "name": "stdout",
     "output_type": "stream",
     "text": [
      "[1] \"**********************************************************************\"\n",
      "[1] \"Blue line is default LM\"\n",
      "[1] \"Red line is  line with LM forced to pass through Origin\"\n",
      "[1] \"**********************************************************************\"\n"
     ]
    },
    {
     "data": {
      "image/png": "[encoded data removed]",
      "text/plain": [
       "Plot with title \"Passing default model through origin (RED)\""
      ]
     },
     "metadata": {},
     "output_type": "display_data"
    }
   ],
   "source": [
    "print(\"**********************************************************************\")\n",
    "print(\"Blue line is default LM\")\n",
    "print(\"Red line is  line with LM forced to pass through Origin\")\n",
    "print(\"**********************************************************************\")\n",
    "plot(Nhl.data.gap$G,Nhl.data.gap$A,pch=19,xlim=c(0,1000), ylim=c(0,2100),main=\"Passing default model through origin (RED)\")\n",
    "\n",
    "# abline(predict(Nhl.fit2, newdata = list(G=0))+1963, coef(Nhl.fit2), col='red')\n",
    "# abline(Nhl.fit1, col=\"blue\")\n",
    "abline(a=0,b=1.48033 ,col=\"red\")\n",
    "abline(Nhl.fit1,col=\"blue\")\n",
    "points(x=0,y=0, col = \"red\")"
   ]
  },
  {
   "cell_type": "markdown",
   "metadata": {},
   "source": [
    "Recording the data"
   ]
  },
  {
   "cell_type": "code",
   "execution_count": 33,
   "metadata": {
    "collapsed": false
   },
   "outputs": [
    {
     "data": {
      "text/html": [
       "<table>\n",
       "<thead><tr><th scope=col>Model.Name</th><th scope=col>R2</th><th scope=col>p2</th><th scope=col>Passing.through.origin</th></tr></thead>\n",
       "<tbody>\n",
       "\t<tr><td>Fit.Default.1</td><td>0.09913      </td><td>0.0008317    </td><td>No           </td></tr>\n",
       "\t<tr><td>Fit.Wayne.1  </td><td>0.09913      </td><td>0.1082       </td><td>No           </td></tr>\n",
       "\t<tr><td><span style=white-space:pre-wrap>Fit.Wayne.2  </span></td><td>0.90820                                              </td><td>&lt; 2.2e-16                                         </td><td>No                                                   </td></tr>\n",
       "\t<tr><td>Fit.Patrick.1</td><td>0.10730      </td><td>0.000484     </td><td>No           </td></tr>\n",
       "\t<tr><td>Fit.Patrick.2</td><td>0.57870      </td><td>&lt; 2.2e-16 </td><td>No           </td></tr>\n",
       "\t<tr><td>Fit.Default.2</td><td>0.89720      </td><td>&lt; 2.2e-16 </td><td>Yes          </td></tr>\n",
       "</tbody>\n",
       "</table>\n"
      ],
      "text/latex": [
       "\\begin{tabular}{r|llll}\n",
       " Model.Name & R2 & p2 & Passing.through.origin\\\\\n",
       "\\hline\n",
       "\t Fit.Default.1 & 0.09913       & 0.0008317     & No           \\\\\n",
       "\t Fit.Wayne.1   & 0.09913       & 0.1082        & No           \\\\\n",
       "\t Fit.Wayne.2   & 0.90820       & < 2.2e-16     & No           \\\\\n",
       "\t Fit.Patrick.1 & 0.10730       & 0.000484      & No           \\\\\n",
       "\t Fit.Patrick.2 & 0.57870       & < 2.2e-16     & No           \\\\\n",
       "\t Fit.Default.2 & 0.89720       & < 2.2e-16     & Yes          \\\\\n",
       "\\end{tabular}\n"
      ],
      "text/markdown": [
       "\n",
       "Model.Name | R2 | p2 | Passing.through.origin | \n",
       "|---|---|---|---|---|---|\n",
       "| Fit.Default.1 | 0.09913       | 0.0008317     | No            | \n",
       "| Fit.Wayne.1   | 0.09913       | 0.1082        | No            | \n",
       "| Fit.Wayne.2   | 0.90820       | < 2.2e-16     | No            | \n",
       "| Fit.Patrick.1 | 0.10730       | 0.000484      | No            | \n",
       "| Fit.Patrick.2 | 0.57870       | < 2.2e-16     | No            | \n",
       "| Fit.Default.2 | 0.89720       | < 2.2e-16     | Yes           | \n",
       "\n",
       "\n"
      ],
      "text/plain": [
       "  Model.Name    R2      p2        Passing.through.origin\n",
       "1 Fit.Default.1 0.09913 0.0008317 No                    \n",
       "2 Fit.Wayne.1   0.09913 0.1082    No                    \n",
       "3 Fit.Wayne.2   0.90820 < 2.2e-16 No                    \n",
       "4 Fit.Patrick.1 0.10730 0.000484  No                    \n",
       "5 Fit.Patrick.2 0.57870 < 2.2e-16 No                    \n",
       "6 Fit.Default.2 0.89720 < 2.2e-16 Yes                   "
      ]
     },
     "metadata": {},
     "output_type": "display_data"
    }
   ],
   "source": [
    "x=data.frame(Model.Name=\"Fit.Default.2\",R2=0.8972 ,\n",
    "                       p2=\"< 2.2e-16\",Passing.through.origin=\"Yes\",stringsAsFactors=FALSE)\n",
    "\n",
    "fit.summary=rbind.data.frame(fit.summary,x)\n",
    "fit.summary"
   ]
  },
  {
   "cell_type": "markdown",
   "metadata": {},
   "source": [
    "Making model of Wayne Gretzky go through zero"
   ]
  },
  {
   "cell_type": "code",
   "execution_count": 34,
   "metadata": {
    "collapsed": false
   },
   "outputs": [
    {
     "data": {
      "text/plain": [
       "\n",
       "Call:\n",
       "lm(formula = I(A - 1963) ~ I(G - 894) + 0, data = Nhl.data.gap)\n",
       "\n",
       "Residuals:\n",
       "   Min     1Q Median     3Q    Max \n",
       "-902.2 -333.4 -145.4  103.3  703.4 \n",
       "\n",
       "Coefficients:\n",
       "           Estimate Std. Error t value Pr(>|t|)    \n",
       "I(G - 894)   2.6847     0.0853   31.48   <2e-16 ***\n",
       "---\n",
       "Signif. codes:  0 '***' 0.001 '**' 0.01 '*' 0.05 '.' 0.1 ' ' 1\n",
       "\n",
       "Residual standard error: 375.7 on 99 degrees of freedom\n",
       "Multiple R-squared:  0.9091,\tAdjusted R-squared:  0.9082 \n",
       "F-statistic: 990.7 on 1 and 99 DF,  p-value: < 2.2e-16\n"
      ]
     },
     "metadata": {},
     "output_type": "display_data"
    }
   ],
   "source": [
    "fit.wayne3 <- (lm(I(A-1963)~I(G-894)+0, data = Nhl.data.gap))\n",
    "summary(fit.wayne3)"
   ]
  },
  {
   "cell_type": "markdown",
   "metadata": {},
   "source": [
    "# The slope is wrong. "
   ]
  },
  {
   "cell_type": "markdown",
   "metadata": {},
   "source": [
    "# using the equation y=mx+c<br>\n",
    "<h1>c=0, m=(1963-0)/(894-0) gives m=2.19 while the above lm is giving slope= 2.6847"
   ]
  },
  {
   "cell_type": "markdown",
   "metadata": {},
   "source": [
    "Plotting the LM"
   ]
  },
  {
   "cell_type": "code",
   "execution_count": 35,
   "metadata": {
    "collapsed": false
   },
   "outputs": [
    {
     "data": {
      "image/png": "[encoded data removed]",
      "text/plain": [
       "plot without title"
      ]
     },
     "metadata": {},
     "output_type": "display_data"
    }
   ],
   "source": [
    "plot(Nhl.data.gap.PK$G,Nhl.data.gap.PK$A,pch=19,xlim=c(0,1000), ylim=c(0,2100))\n",
    "abline(a=0,b=2.6847 ,col=\"blue\")"
   ]
  },
  {
   "cell_type": "markdown",
   "metadata": {},
   "source": [
    "## Modifying LM to have slope of 2.19"
   ]
  },
  {
   "cell_type": "code",
   "execution_count": 36,
   "metadata": {
    "collapsed": false
   },
   "outputs": [
    {
     "data": {
      "text/plain": [
       "\n",
       "Call:\n",
       "lm(formula = A + 368 ~ G + 0, data = Nhl.data.gap.PK)\n",
       "\n",
       "Residuals:\n",
       "    Min      1Q  Median      3Q     Max \n",
       "-610.13 -121.30   30.37  225.18  724.52 \n",
       "\n",
       "Coefficients:\n",
       "  Estimate Std. Error t value Pr(>|t|)    \n",
       "G   2.1972     0.0637   34.49   <2e-16 ***\n",
       "---\n",
       "Signif. codes:  0 '***' 0.001 '**' 0.01 '*' 0.05 '.' 0.1 ' ' 1\n",
       "\n",
       "Residual standard error: 315.7 on 100 degrees of freedom\n",
       "Multiple R-squared:  0.9225,\tAdjusted R-squared:  0.9217 \n",
       "F-statistic:  1190 on 1 and 100 DF,  p-value: < 2.2e-16\n"
      ]
     },
     "metadata": {},
     "output_type": "display_data"
    }
   ],
   "source": [
    "Nhl.fit5 <- (lm(A+368~G+0, data = Nhl.data.gap.PK))\n",
    "Nhl.fit.predict5<-predict(Nhl.fit5)\n",
    "summary(Nhl.fit5)"
   ]
  },
  {
   "cell_type": "markdown",
   "metadata": {},
   "source": [
    "# Using this LM we are getting the slope as expected with line passing through origin"
   ]
  },
  {
   "cell_type": "markdown",
   "metadata": {
    "collapsed": false
   },
   "source": [
    "Ploting the LM"
   ]
  },
  {
   "cell_type": "code",
   "execution_count": 37,
   "metadata": {
    "collapsed": false
   },
   "outputs": [
    {
     "name": "stdout",
     "output_type": "stream",
     "text": [
      "[1] \"**********************************************************************\"\n",
      "[1] \"RED line is LM passing through Wayne\"\n",
      "[1] \"Green line is LM passing through Wayne and passing through origin\"\n",
      "[1] \"**********************************************************************\"\n"
     ]
    },
    {
     "data": {
      "image/png": "[encoded data removed]",
      "text/plain": [
       "Plot with title \"LM passing through origin and Wayne (GREEN)\""
      ]
     },
     "metadata": {},
     "output_type": "display_data"
    }
   ],
   "source": [
    "plot(Nhl.data.gap.PK$G,Nhl.data.gap.PK$A,pch=19,xlim=c(0,1000), ylim=c(0,2100),main=\"LM passing through origin and Wayne (GREEN)\")\n",
    "# abline(predict(Nhl.fit2, newdata= list(G=0))+1963, coef(Nhl.fit2), col='red')\n",
    "abline(predict(Nhl.fit2, newdata = list(G=0))+1963, coef(Nhl.fit2), col='red')#original fir\n",
    "abline(Nhl.fit5, col=\"green\")#fit passing through origin\n",
    "text(x=894, y=1963, labels=\"Wayne Gretzky\",cex= 0.7,pos=2)\n",
    "\n",
    "points(x=0,y=0, col = \"red\")\n",
    "print(\"**********************************************************************\")\n",
    "print(\"RED line is LM passing through Wayne\")\n",
    "print(\"Green line is LM passing through Wayne and passing through origin\")\n",
    "print(\"**********************************************************************\")\n"
   ]
  },
  {
   "cell_type": "markdown",
   "metadata": {},
   "source": [
    "<h2>Fit 5: Default(Red) and passing through origin(black)<br></h2>\n",
    "Adjusted R-squared:  0.9217 <br>\n",
    "p-value: < 2.2e-16\n"
   ]
  },
  {
   "cell_type": "markdown",
   "metadata": {},
   "source": [
    "Recording the data"
   ]
  },
  {
   "cell_type": "code",
   "execution_count": 38,
   "metadata": {
    "collapsed": false
   },
   "outputs": [
    {
     "data": {
      "text/html": [
       "<table>\n",
       "<thead><tr><th scope=col>Model.Name</th><th scope=col>R2</th><th scope=col>p2</th><th scope=col>Passing.through.origin</th></tr></thead>\n",
       "<tbody>\n",
       "\t<tr><td>Fit.Default.1</td><td>0.09913      </td><td>0.0008317    </td><td>No           </td></tr>\n",
       "\t<tr><td>Fit.Wayne.1  </td><td>0.09913      </td><td>0.1082       </td><td>No           </td></tr>\n",
       "\t<tr><td><span style=white-space:pre-wrap>Fit.Wayne.2  </span></td><td>0.90820                                              </td><td>&lt; 2.2e-16                                         </td><td>No                                                   </td></tr>\n",
       "\t<tr><td>Fit.Patrick.1</td><td>0.10730      </td><td>0.000484     </td><td>No           </td></tr>\n",
       "\t<tr><td>Fit.Patrick.2</td><td>0.57870      </td><td>&lt; 2.2e-16 </td><td>No           </td></tr>\n",
       "\t<tr><td>Fit.Default.2</td><td>0.89720      </td><td>&lt; 2.2e-16 </td><td>Yes          </td></tr>\n",
       "\t<tr><td><span style=white-space:pre-wrap>Fit.Wayne.3  </span></td><td>0.92170                                              </td><td>&lt; 2.2e-16                                         </td><td>Yes                                                  </td></tr>\n",
       "</tbody>\n",
       "</table>\n"
      ],
      "text/latex": [
       "\\begin{tabular}{r|llll}\n",
       " Model.Name & R2 & p2 & Passing.through.origin\\\\\n",
       "\\hline\n",
       "\t Fit.Default.1 & 0.09913       & 0.0008317     & No           \\\\\n",
       "\t Fit.Wayne.1   & 0.09913       & 0.1082        & No           \\\\\n",
       "\t Fit.Wayne.2   & 0.90820       & < 2.2e-16     & No           \\\\\n",
       "\t Fit.Patrick.1 & 0.10730       & 0.000484      & No           \\\\\n",
       "\t Fit.Patrick.2 & 0.57870       & < 2.2e-16     & No           \\\\\n",
       "\t Fit.Default.2 & 0.89720       & < 2.2e-16     & Yes          \\\\\n",
       "\t Fit.Wayne.3   & 0.92170       & < 2.2e-16     & Yes          \\\\\n",
       "\\end{tabular}\n"
      ],
      "text/markdown": [
       "\n",
       "Model.Name | R2 | p2 | Passing.through.origin | \n",
       "|---|---|---|---|---|---|---|\n",
       "| Fit.Default.1 | 0.09913       | 0.0008317     | No            | \n",
       "| Fit.Wayne.1   | 0.09913       | 0.1082        | No            | \n",
       "| Fit.Wayne.2   | 0.90820       | < 2.2e-16     | No            | \n",
       "| Fit.Patrick.1 | 0.10730       | 0.000484      | No            | \n",
       "| Fit.Patrick.2 | 0.57870       | < 2.2e-16     | No            | \n",
       "| Fit.Default.2 | 0.89720       | < 2.2e-16     | Yes           | \n",
       "| Fit.Wayne.3   | 0.92170       | < 2.2e-16     | Yes           | \n",
       "\n",
       "\n"
      ],
      "text/plain": [
       "  Model.Name    R2      p2        Passing.through.origin\n",
       "1 Fit.Default.1 0.09913 0.0008317 No                    \n",
       "2 Fit.Wayne.1   0.09913 0.1082    No                    \n",
       "3 Fit.Wayne.2   0.90820 < 2.2e-16 No                    \n",
       "4 Fit.Patrick.1 0.10730 0.000484  No                    \n",
       "5 Fit.Patrick.2 0.57870 < 2.2e-16 No                    \n",
       "6 Fit.Default.2 0.89720 < 2.2e-16 Yes                   \n",
       "7 Fit.Wayne.3   0.92170 < 2.2e-16 Yes                   "
      ]
     },
     "metadata": {},
     "output_type": "display_data"
    }
   ],
   "source": [
    "x=data.frame(Model.Name=\"Fit.Wayne.3\",R2=0.9217 ,\n",
    "                       p2=\"< 2.2e-16\",Passing.through.origin=\"Yes\",stringsAsFactors=FALSE)\n",
    "\n",
    "fit.summary=rbind.data.frame(fit.summary,x)\n",
    "fit.summary"
   ]
  },
  {
   "cell_type": "markdown",
   "metadata": {},
   "source": [
    "Making model of Patrick Kane pass through zero"
   ]
  },
  {
   "cell_type": "code",
   "execution_count": 39,
   "metadata": {
    "collapsed": false
   },
   "outputs": [
    {
     "data": {
      "text/plain": [
       "\n",
       "Call:\n",
       "lm(formula = I(A - 458) ~ I(G - 282) + 0, data = Nhl.data.gap)\n",
       "\n",
       "Residuals:\n",
       "    Min      1Q  Median      3Q     Max \n",
       "-338.35 -114.36   40.81  168.49  801.09 \n",
       "\n",
       "Coefficients:\n",
       "           Estimate Std. Error t value Pr(>|t|)    \n",
       "I(G - 282)  1.15017    0.09779   11.76   <2e-16 ***\n",
       "---\n",
       "Signif. codes:  0 '***' 0.001 '**' 0.01 '*' 0.05 '.' 0.1 ' ' 1\n",
       "\n",
       "Residual standard error: 231.9 on 99 degrees of freedom\n",
       "Multiple R-squared:  0.5829,\tAdjusted R-squared:  0.5787 \n",
       "F-statistic: 138.3 on 1 and 99 DF,  p-value: < 2.2e-16\n"
      ]
     },
     "metadata": {},
     "output_type": "display_data"
    }
   ],
   "source": [
    "fit.patrick3 <- (lm(I(A-458)~I(G-282)+0, data = Nhl.data.gap))\n",
    "summary(fit.patrick3)"
   ]
  },
  {
   "cell_type": "markdown",
   "metadata": {},
   "source": [
    "# This slope is wrong"
   ]
  },
  {
   "cell_type": "markdown",
   "metadata": {},
   "source": [
    "# using the equation y=mx+c<br>\n",
    "<h1>c=0, m=(458-0)/(282-0) gives m=1.62 while the above lm is giving slope= 1.15"
   ]
  },
  {
   "cell_type": "markdown",
   "metadata": {},
   "source": [
    "## Modifying LM to have slope of 1.62"
   ]
  },
  {
   "cell_type": "code",
   "execution_count": 40,
   "metadata": {
    "collapsed": false,
    "scrolled": false
   },
   "outputs": [
    {
     "name": "stdout",
     "output_type": "stream",
     "text": [
      "[1] \"**********************************************************************\"\n",
      "[1] \"Blue line is LM passing through Patrick Kane\"\n",
      "[1] \"Green line is LM passing through Patrick and passing through origin\"\n",
      "[1] \"**********************************************************************\"\n"
     ]
    },
    {
     "data": {
      "image/png": "[encoded data removed]",
      "text/plain": [
       "Plot with title \"LM passing through Patrick Kane and Origin\""
      ]
     },
     "metadata": {},
     "output_type": "display_data"
    }
   ],
   "source": [
    "Nhl.fit6<- (lm(A+70~G+0, data = Nhl.data.gap.PK))\n",
    "Nhl.fit.predict6<-predict(Nhl.fit6)\n",
    "plot(Nhl.data.gap.PK$G,Nhl.data.gap.PK$A,pch=19,xlim=c(-70,1000), ylim=c(0,2100),main=\"LM passing through Patrick Kane and Origin\")\n",
    "\n",
    "abline(Nhl.fit6,col='green')#fit pasning through origin\n",
    "abline(predict(Nhl.fit3, newdata = list(G=0))+458, coef(Nhl.fit3), col='blue')#original fit\n",
    "text(x=282, y=458, labels=\"Patrick Kane\",cex= 0.7,pos=2)\n",
    "points(x=0,y=0, col = \"red\")\n",
    "print(\"**********************************************************************\")\n",
    "print(\"Blue line is LM passing through Patrick Kane\")\n",
    "print(\"Green line is LM passing through Patrick and passing through origin\")\n",
    "print(\"**********************************************************************\")\n",
    "# coef(Nhl.fit1)\n",
    "# summary(Nhl.fit1)"
   ]
  },
  {
   "cell_type": "markdown",
   "metadata": {
    "collapsed": false
   },
   "source": [
    " "
   ]
  },
  {
   "cell_type": "code",
   "execution_count": 41,
   "metadata": {
    "collapsed": false
   },
   "outputs": [
    {
     "data": {
      "text/plain": [
       "\n",
       "Call:\n",
       "lm(formula = A + 70 ~ G + 0, data = Nhl.data.gap.PK)\n",
       "\n",
       "Residuals:\n",
       "    Min      1Q  Median      3Q     Max \n",
       "-478.25 -130.81   13.99  170.12  597.58 \n",
       "\n",
       "Coefficients:\n",
       "  Estimate Std. Error t value Pr(>|t|)    \n",
       "G  1.61707    0.05206   31.06   <2e-16 ***\n",
       "---\n",
       "Signif. codes:  0 '***' 0.001 '**' 0.01 '*' 0.05 '.' 0.1 ' ' 1\n",
       "\n",
       "Residual standard error: 258 on 100 degrees of freedom\n",
       "Multiple R-squared:  0.9061,\tAdjusted R-squared:  0.9051 \n",
       "F-statistic: 964.8 on 1 and 100 DF,  p-value: < 2.2e-16\n"
      ]
     },
     "metadata": {},
     "output_type": "display_data"
    }
   ],
   "source": [
    "summary(Nhl.fit6)"
   ]
  },
  {
   "cell_type": "markdown",
   "metadata": {},
   "source": [
    "### Using this model we are getting the expected slope of 1.62 as derived from the eqaution\n"
   ]
  },
  {
   "cell_type": "markdown",
   "metadata": {},
   "source": [
    "<h2>Fit 6: Default(blue) and Passing through origin(green) <br></h2>\n",
    "Adjusted R-squared: 0.9051  <br>\n",
    "p-value: < 2.2e-16"
   ]
  },
  {
   "cell_type": "markdown",
   "metadata": {},
   "source": [
    "Recording the data"
   ]
  },
  {
   "cell_type": "code",
   "execution_count": 42,
   "metadata": {
    "collapsed": false
   },
   "outputs": [
    {
     "data": {
      "text/html": [
       "<table>\n",
       "<thead><tr><th scope=col>Model.Name</th><th scope=col>R2</th><th scope=col>p2</th><th scope=col>Passing.through.origin</th></tr></thead>\n",
       "<tbody>\n",
       "\t<tr><td>Fit.Default.1</td><td>0.09913      </td><td>0.0008317    </td><td>No           </td></tr>\n",
       "\t<tr><td>Fit.Wayne.1  </td><td>0.09913      </td><td>0.1082       </td><td>No           </td></tr>\n",
       "\t<tr><td><span style=white-space:pre-wrap>Fit.Wayne.2  </span></td><td>0.90820                                              </td><td>&lt; 2.2e-16                                         </td><td>No                                                   </td></tr>\n",
       "\t<tr><td>Fit.Patrick.1</td><td>0.10730      </td><td>0.000484     </td><td>No           </td></tr>\n",
       "\t<tr><td>Fit.Patrick.2</td><td>0.57870      </td><td>&lt; 2.2e-16 </td><td>No           </td></tr>\n",
       "\t<tr><td>Fit.Default.2</td><td>0.89720      </td><td>&lt; 2.2e-16 </td><td>Yes          </td></tr>\n",
       "\t<tr><td><span style=white-space:pre-wrap>Fit.Wayne.3  </span></td><td>0.92170                                              </td><td>&lt; 2.2e-16                                         </td><td>Yes                                                  </td></tr>\n",
       "\t<tr><td>Fit.Patrick.3</td><td>0.90510      </td><td>&lt; 2.2e-16 </td><td>Yes          </td></tr>\n",
       "</tbody>\n",
       "</table>\n"
      ],
      "text/latex": [
       "\\begin{tabular}{r|llll}\n",
       " Model.Name & R2 & p2 & Passing.through.origin\\\\\n",
       "\\hline\n",
       "\t Fit.Default.1 & 0.09913       & 0.0008317     & No           \\\\\n",
       "\t Fit.Wayne.1   & 0.09913       & 0.1082        & No           \\\\\n",
       "\t Fit.Wayne.2   & 0.90820       & < 2.2e-16     & No           \\\\\n",
       "\t Fit.Patrick.1 & 0.10730       & 0.000484      & No           \\\\\n",
       "\t Fit.Patrick.2 & 0.57870       & < 2.2e-16     & No           \\\\\n",
       "\t Fit.Default.2 & 0.89720       & < 2.2e-16     & Yes          \\\\\n",
       "\t Fit.Wayne.3   & 0.92170       & < 2.2e-16     & Yes          \\\\\n",
       "\t Fit.Patrick.3 & 0.90510       & < 2.2e-16     & Yes          \\\\\n",
       "\\end{tabular}\n"
      ],
      "text/markdown": [
       "\n",
       "Model.Name | R2 | p2 | Passing.through.origin | \n",
       "|---|---|---|---|---|---|---|---|\n",
       "| Fit.Default.1 | 0.09913       | 0.0008317     | No            | \n",
       "| Fit.Wayne.1   | 0.09913       | 0.1082        | No            | \n",
       "| Fit.Wayne.2   | 0.90820       | < 2.2e-16     | No            | \n",
       "| Fit.Patrick.1 | 0.10730       | 0.000484      | No            | \n",
       "| Fit.Patrick.2 | 0.57870       | < 2.2e-16     | No            | \n",
       "| Fit.Default.2 | 0.89720       | < 2.2e-16     | Yes           | \n",
       "| Fit.Wayne.3   | 0.92170       | < 2.2e-16     | Yes           | \n",
       "| Fit.Patrick.3 | 0.90510       | < 2.2e-16     | Yes           | \n",
       "\n",
       "\n"
      ],
      "text/plain": [
       "  Model.Name    R2      p2        Passing.through.origin\n",
       "1 Fit.Default.1 0.09913 0.0008317 No                    \n",
       "2 Fit.Wayne.1   0.09913 0.1082    No                    \n",
       "3 Fit.Wayne.2   0.90820 < 2.2e-16 No                    \n",
       "4 Fit.Patrick.1 0.10730 0.000484  No                    \n",
       "5 Fit.Patrick.2 0.57870 < 2.2e-16 No                    \n",
       "6 Fit.Default.2 0.89720 < 2.2e-16 Yes                   \n",
       "7 Fit.Wayne.3   0.92170 < 2.2e-16 Yes                   \n",
       "8 Fit.Patrick.3 0.90510 < 2.2e-16 Yes                   "
      ]
     },
     "metadata": {},
     "output_type": "display_data"
    }
   ],
   "source": [
    "x=data.frame(Model.Name=\"Fit.Patrick.3\",R2=0.9051 ,\n",
    "                       p2=\"< 2.2e-16\",Passing.through.origin=\"Yes\",stringsAsFactors=FALSE)\n",
    "\n",
    "fit.summary=rbind.data.frame(fit.summary,x)\n",
    "fit.summary"
   ]
  },
  {
   "cell_type": "markdown",
   "metadata": {
    "collapsed": false
   },
   "source": [
    "In regression analysis, you'd like your regression model to have significant variables and to produce a high R-squared value. This low P value / high R2 combination indicates that changes in the predictors are related to changes in the response variable and that your model explains a lot of the response variability.<br>\n",
    "Although inclusion of outliers should decrease the R2 value and disorganize the fit, but due to certain circumstances we are getting the least value for default LM and high value for LM with outliers. This case is not expected in general. In general Default LM should perform better.<br>\n",
    "The same is the case with p2 value."
   ]
  },
  {
   "cell_type": "code",
   "execution_count": 43,
   "metadata": {
    "collapsed": false,
    "scrolled": true
   },
   "outputs": [
    {
     "name": "stdout",
     "output_type": "stream",
     "text": [
      "[1] \"Summary of default lm line not passing through origin\"\n"
     ]
    },
    {
     "data": {
      "text/plain": [
       "\n",
       "Call:\n",
       "lm(formula = A ~ G, data = Nhl.data.gap)\n",
       "\n",
       "Residuals:\n",
       "    Min      1Q  Median      3Q     Max \n",
       "-356.51 -158.59  -10.29  125.08 1003.42 \n",
       "\n",
       "Coefficients:\n",
       "            Estimate Std. Error t value Pr(>|t|)    \n",
       "(Intercept) 494.5135    74.6410   6.625 1.88e-09 ***\n",
       "G             0.5202     0.1508   3.449 0.000832 ***\n",
       "---\n",
       "Signif. codes:  0 '***' 0.001 '**' 0.01 '*' 0.05 '.' 0.1 ' ' 1\n",
       "\n",
       "Residual standard error: 207 on 98 degrees of freedom\n",
       "Multiple R-squared:  0.1082,\tAdjusted R-squared:  0.09913 \n",
       "F-statistic: 11.89 on 1 and 98 DF,  p-value: 0.0008317\n"
      ]
     },
     "metadata": {},
     "output_type": "display_data"
    },
    {
     "name": "stdout",
     "output_type": "stream",
     "text": [
      "[1] \"Summary of default lm line passing through origin\"\n"
     ]
    },
    {
     "ename": "ERROR",
     "evalue": "Error in summary(Nhl.fit8): object 'Nhl.fit8' not found\n",
     "output_type": "error",
     "traceback": [
      "Error in summary(Nhl.fit8): object 'Nhl.fit8' not found\nTraceback:\n",
      "1. summary(Nhl.fit8)"
     ]
    }
   ],
   "source": [
    "print(\"Summary of default lm line not passing through origin\")\n",
    "#     Min      1Q  Median      3Q     Max \n",
    "# -356.51 -158.59  -10.29  125.08 1003.42\n",
    "summary(Nhl.fit1)\n",
    "print(\"Summary of default lm line passing through origin\")\n",
    "summary(Nhl.fit8)\n",
    "print(\"Summary of lm line passing through Wayne Gretzky and not passing through origin\")\n",
    "summary(Nhl.fit2)\n",
    "print(\"Summary of lm line passing through Wayne Gretzky and passing through origin\")\n",
    "summary(Nhl.fit5)\n",
    "print(\"Summary of lm line passing through Patrick Kane and not passing through origin\")\n",
    "summary(Nhl.fit3)\n",
    "print(\"Summary of lm line passing through Patrick Kane and passing through origin\")\n",
    "summary(Nhl.fit6)"
   ]
  }
 ],
 "metadata": {
  "kernelspec": {
   "display_name": "R",
   "language": "R",
   "name": "ir"
  },
  "language_info": {
   "codemirror_mode": "r",
   "file_extension": ".r",
   "mimetype": "text/x-r-source",
   "name": "R",
   "pygments_lexer": "r",
   "version": "3.3.2"
  }
 },
 "nbformat": 4,
 "nbformat_minor": 2
}
