{
 "cells": [
  {
   "cell_type": "markdown",
   "metadata": {},
   "source": [
    "Activity 2: K-nn classification with credit data"
   ]
  },
  {
   "cell_type": "markdown",
   "metadata": {},
   "source": [
    " I will be using knn on job,credit.amount,duration to classify variables based on credit.risks. I will do so with a range of K and a range of sample size.\n",
    " "
   ]
  },
  {
   "cell_type": "markdown",
   "metadata": {},
   "source": [
    "I have also analyzed the results using default data, data with intutive normalization and data with min-max normalization."
   ]
  },
  {
   "cell_type": "markdown",
   "metadata": {},
   "source": [
    "Steps"
   ]
  },
  {
   "cell_type": "markdown",
   "metadata": {},
   "source": [
    "Loading libraries"
   ]
  },
  {
   "cell_type": "code",
   "execution_count": 4,
   "metadata": {
    "collapsed": false
   },
   "outputs": [
    {
     "name": "stderr",
     "output_type": "stream",
     "text": [
      "Warning message:\n",
      "\"package 'ggplot2' was built under R version 3.3.3\"\n",
      "Attaching package: 'dplyr'\n",
      "\n",
      "The following objects are masked from 'package:stats':\n",
      "\n",
      "    filter, lag\n",
      "\n",
      "The following objects are masked from 'package:base':\n",
      "\n",
      "    intersect, setdiff, setequal, union\n",
      "\n",
      "Warning message:\n",
      "\"package 'FNN' was built under R version 3.3.3\""
     ]
    }
   ],
   "source": [
    "library(ggplot2)\n",
    "library(dplyr)\n",
    "library(FNN)"
   ]
  },
  {
   "cell_type": "markdown",
   "metadata": {},
   "source": [
    "Loading the data"
   ]
  },
  {
   "cell_type": "code",
   "execution_count": 5,
   "metadata": {
    "collapsed": true
   },
   "outputs": [],
   "source": [
    "set.seed(2000)"
   ]
  },
  {
   "cell_type": "code",
   "execution_count": 6,
   "metadata": {
    "collapsed": false
   },
   "outputs": [
    {
     "data": {
      "text/html": [
       "<table>\n",
       "<thead><tr><th scope=col>X.</th><th scope=col>Age</th><th scope=col>Sex</th><th scope=col>Job</th><th scope=col>Housing</th><th scope=col>Saving.accounts</th><th scope=col>Checking.account</th><th scope=col>Credit.amount</th><th scope=col>Duration</th><th scope=col>Purpose</th><th scope=col>Credit.Risks</th></tr></thead>\n",
       "<tbody>\n",
       "\t<tr><td>0                  </td><td>67                 </td><td>male               </td><td>2                  </td><td>own                </td><td>NA                 </td><td>little             </td><td>1169               </td><td> 6                 </td><td>radio/TV           </td><td>1                  </td></tr>\n",
       "\t<tr><td>1                  </td><td>22                 </td><td>female             </td><td>2                  </td><td>own                </td><td>little             </td><td>moderate           </td><td>5951               </td><td>48                 </td><td>radio/TV           </td><td>2                  </td></tr>\n",
       "\t<tr><td>2                  </td><td>49                 </td><td>male               </td><td>1                  </td><td>own                </td><td>little             </td><td>NA                 </td><td>2096               </td><td>12                 </td><td>education          </td><td>1                  </td></tr>\n",
       "\t<tr><td>3                  </td><td>45                 </td><td>male               </td><td>2                  </td><td>free               </td><td>little             </td><td>little             </td><td>7882               </td><td>42                 </td><td>furniture/equipment</td><td>1                  </td></tr>\n",
       "\t<tr><td>4                  </td><td>53                 </td><td>male               </td><td>2                  </td><td>free               </td><td>little             </td><td>little             </td><td>4870               </td><td>24                 </td><td>car                </td><td>2                  </td></tr>\n",
       "\t<tr><td>5                  </td><td>35                 </td><td>male               </td><td>1                  </td><td>free               </td><td>NA                 </td><td>NA                 </td><td>9055               </td><td>36                 </td><td>education          </td><td>1                  </td></tr>\n",
       "</tbody>\n",
       "</table>\n"
      ],
      "text/latex": [
       "\\begin{tabular}{r|lllllllllll}\n",
       " X. & Age & Sex & Job & Housing & Saving.accounts & Checking.account & Credit.amount & Duration & Purpose & Credit.Risks\\\\\n",
       "\\hline\n",
       "\t 0                   & 67                  & male                & 2                   & own                 & NA                  & little              & 1169                &  6                  & radio/TV            & 1                  \\\\\n",
       "\t 1                   & 22                  & female              & 2                   & own                 & little              & moderate            & 5951                & 48                  & radio/TV            & 2                  \\\\\n",
       "\t 2                   & 49                  & male                & 1                   & own                 & little              & NA                  & 2096                & 12                  & education           & 1                  \\\\\n",
       "\t 3                   & 45                  & male                & 2                   & free                & little              & little              & 7882                & 42                  & furniture/equipment & 1                  \\\\\n",
       "\t 4                   & 53                  & male                & 2                   & free                & little              & little              & 4870                & 24                  & car                 & 2                  \\\\\n",
       "\t 5                   & 35                  & male                & 1                   & free                & NA                  & NA                  & 9055                & 36                  & education           & 1                  \\\\\n",
       "\\end{tabular}\n"
      ],
      "text/markdown": [
       "\n",
       "X. | Age | Sex | Job | Housing | Saving.accounts | Checking.account | Credit.amount | Duration | Purpose | Credit.Risks | \n",
       "|---|---|---|---|---|---|\n",
       "| 0                   | 67                  | male                | 2                   | own                 | NA                  | little              | 1169                |  6                  | radio/TV            | 1                   | \n",
       "| 1                   | 22                  | female              | 2                   | own                 | little              | moderate            | 5951                | 48                  | radio/TV            | 2                   | \n",
       "| 2                   | 49                  | male                | 1                   | own                 | little              | NA                  | 2096                | 12                  | education           | 1                   | \n",
       "| 3                   | 45                  | male                | 2                   | free                | little              | little              | 7882                | 42                  | furniture/equipment | 1                   | \n",
       "| 4                   | 53                  | male                | 2                   | free                | little              | little              | 4870                | 24                  | car                 | 2                   | \n",
       "| 5                   | 35                  | male                | 1                   | free                | NA                  | NA                  | 9055                | 36                  | education           | 1                   | \n",
       "\n",
       "\n"
      ],
      "text/plain": [
       "  X. Age Sex    Job Housing Saving.accounts Checking.account Credit.amount\n",
       "1 0  67  male   2   own     NA              little           1169         \n",
       "2 1  22  female 2   own     little          moderate         5951         \n",
       "3 2  49  male   1   own     little          NA               2096         \n",
       "4 3  45  male   2   free    little          little           7882         \n",
       "5 4  53  male   2   free    little          little           4870         \n",
       "6 5  35  male   1   free    NA              NA               9055         \n",
       "  Duration Purpose             Credit.Risks\n",
       "1  6       radio/TV            1           \n",
       "2 48       radio/TV            2           \n",
       "3 12       education           1           \n",
       "4 42       furniture/equipment 1           \n",
       "5 24       car                 2           \n",
       "6 36       education           1           "
      ]
     },
     "metadata": {},
     "output_type": "display_data"
    },
    {
     "data": {
      "text/plain": [
       "       X.             Age            Sex           Job        Housing   \n",
       " Min.   :  0.0   Min.   :19.00   female:310   Min.   :0.000   free:108  \n",
       " 1st Qu.:249.8   1st Qu.:27.00   male  :690   1st Qu.:2.000   own :713  \n",
       " Median :499.5   Median :33.00                Median :2.000   rent:179  \n",
       " Mean   :499.5   Mean   :35.55                Mean   :1.904             \n",
       " 3rd Qu.:749.2   3rd Qu.:42.00                3rd Qu.:2.000             \n",
       " Max.   :999.0   Max.   :75.00                Max.   :3.000             \n",
       "                                                                        \n",
       "   Saving.accounts Checking.account Credit.amount      Duration   \n",
       " little    :603    little  :274     Min.   :  250   Min.   : 4.0  \n",
       " moderate  :103    moderate:269     1st Qu.: 1366   1st Qu.:12.0  \n",
       " quite rich: 63    rich    : 63     Median : 2320   Median :18.0  \n",
       " rich      : 48    NA's    :394     Mean   : 3271   Mean   :20.9  \n",
       " NA's      :183                     3rd Qu.: 3972   3rd Qu.:24.0  \n",
       "                                    Max.   :18424   Max.   :72.0  \n",
       "                                                                  \n",
       "                Purpose     Credit.Risks\n",
       " car                :337   Min.   :1.0  \n",
       " radio/TV           :280   1st Qu.:1.0  \n",
       " furniture/equipment:181   Median :1.0  \n",
       " business           : 97   Mean   :1.3  \n",
       " education          : 59   3rd Qu.:2.0  \n",
       " repairs            : 22   Max.   :2.0  \n",
       " (Other)            : 24                "
      ]
     },
     "metadata": {},
     "output_type": "display_data"
    }
   ],
   "source": [
    "credit.data=read.csv(file=\"german_credit_data1.csv\", header=TRUE, sep=\",\")\n",
    "head(credit.data) \n",
    "summary(credit.data)"
   ]
  },
  {
   "cell_type": "markdown",
   "metadata": {},
   "source": [
    "Changing the column names to all lower case"
   ]
  },
  {
   "cell_type": "markdown",
   "metadata": {},
   "source": [
    "Changing all digits to numeric"
   ]
  },
  {
   "cell_type": "code",
   "execution_count": 7,
   "metadata": {
    "collapsed": false
   },
   "outputs": [],
   "source": [
    "names(credit.data) <- tolower(names(credit.data))\n",
    "credit.data$age <- as.numeric(gsub(\"[^[:digit:]]\",\"\",credit.data$age))\n",
    "credit.data$credit.amount <- as.numeric(gsub(\"[^[:digit:]]\",\"\",credit.data$credit.amount))\n",
    "credit.data$duration <- as.numeric(gsub(\"[^[:digit:]]\",\"\",credit.data$duration))\n",
    "credit.data$credit.risks <- as.numeric(gsub(\"[^[:digit:]]\",\"\",credit.data$credit.risks))"
   ]
  },
  {
   "cell_type": "markdown",
   "metadata": {},
   "source": [
    "Cleaning empty data"
   ]
  },
  {
   "cell_type": "code",
   "execution_count": 8,
   "metadata": {
    "collapsed": false
   },
   "outputs": [
    {
     "data": {
      "text/html": [
       "<table>\n",
       "<thead><tr><th></th><th scope=col>x.</th><th scope=col>age</th><th scope=col>sex</th><th scope=col>job</th><th scope=col>housing</th><th scope=col>saving.accounts</th><th scope=col>checking.account</th><th scope=col>credit.amount</th><th scope=col>duration</th><th scope=col>purpose</th><th scope=col>credit.risks</th></tr></thead>\n",
       "<tbody>\n",
       "\t<tr><th scope=row>2</th><td> 1                 </td><td>22                 </td><td>female             </td><td>2                  </td><td>own                </td><td>little             </td><td>moderate           </td><td>5951               </td><td>48                 </td><td>radio/TV           </td><td>2                  </td></tr>\n",
       "\t<tr><th scope=row>4</th><td> 3                 </td><td>45                 </td><td>male               </td><td>2                  </td><td>free               </td><td>little             </td><td>little             </td><td>7882               </td><td>42                 </td><td>furniture/equipment</td><td>1                  </td></tr>\n",
       "\t<tr><th scope=row>5</th><td> 4                 </td><td>53                 </td><td>male               </td><td>2                  </td><td>free               </td><td>little             </td><td>little             </td><td>4870               </td><td>24                 </td><td>car                </td><td>2                  </td></tr>\n",
       "\t<tr><th scope=row>8</th><td> 7                 </td><td>35                 </td><td>male               </td><td>3                  </td><td>rent               </td><td>little             </td><td>moderate           </td><td>6948               </td><td>36                 </td><td>car                </td><td>1                  </td></tr>\n",
       "\t<tr><th scope=row>10</th><td> 9                 </td><td>28                 </td><td>male               </td><td>3                  </td><td>own                </td><td>little             </td><td>moderate           </td><td>5234               </td><td>30                 </td><td>car                </td><td>2                  </td></tr>\n",
       "\t<tr><th scope=row>11</th><td>10                 </td><td>25                 </td><td>female             </td><td>2                  </td><td>rent               </td><td>little             </td><td>moderate           </td><td>1295               </td><td>12                 </td><td>car                </td><td>2                  </td></tr>\n",
       "</tbody>\n",
       "</table>\n"
      ],
      "text/latex": [
       "\\begin{tabular}{r|lllllllllll}\n",
       "  & x. & age & sex & job & housing & saving.accounts & checking.account & credit.amount & duration & purpose & credit.risks\\\\\n",
       "\\hline\n",
       "\t2 &  1                  & 22                  & female              & 2                   & own                 & little              & moderate            & 5951                & 48                  & radio/TV            & 2                  \\\\\n",
       "\t4 &  3                  & 45                  & male                & 2                   & free                & little              & little              & 7882                & 42                  & furniture/equipment & 1                  \\\\\n",
       "\t5 &  4                  & 53                  & male                & 2                   & free                & little              & little              & 4870                & 24                  & car                 & 2                  \\\\\n",
       "\t8 &  7                  & 35                  & male                & 3                   & rent                & little              & moderate            & 6948                & 36                  & car                 & 1                  \\\\\n",
       "\t10 &  9                  & 28                  & male                & 3                   & own                 & little              & moderate            & 5234                & 30                  & car                 & 2                  \\\\\n",
       "\t11 & 10                  & 25                  & female              & 2                   & rent                & little              & moderate            & 1295                & 12                  & car                 & 2                  \\\\\n",
       "\\end{tabular}\n"
      ],
      "text/markdown": [
       "\n",
       "| <!--/--> | x. | age | sex | job | housing | saving.accounts | checking.account | credit.amount | duration | purpose | credit.risks | \n",
       "|---|---|---|---|---|---|\n",
       "| 2 |  1                  | 22                  | female              | 2                   | own                 | little              | moderate            | 5951                | 48                  | radio/TV            | 2                   | \n",
       "| 4 |  3                  | 45                  | male                | 2                   | free                | little              | little              | 7882                | 42                  | furniture/equipment | 1                   | \n",
       "| 5 |  4                  | 53                  | male                | 2                   | free                | little              | little              | 4870                | 24                  | car                 | 2                   | \n",
       "| 8 |  7                  | 35                  | male                | 3                   | rent                | little              | moderate            | 6948                | 36                  | car                 | 1                   | \n",
       "| 10 |  9                  | 28                  | male                | 3                   | own                 | little              | moderate            | 5234                | 30                  | car                 | 2                   | \n",
       "| 11 | 10                  | 25                  | female              | 2                   | rent                | little              | moderate            | 1295                | 12                  | car                 | 2                   | \n",
       "\n",
       "\n"
      ],
      "text/plain": [
       "   x. age sex    job housing saving.accounts checking.account credit.amount\n",
       "2   1 22  female 2   own     little          moderate         5951         \n",
       "4   3 45  male   2   free    little          little           7882         \n",
       "5   4 53  male   2   free    little          little           4870         \n",
       "8   7 35  male   3   rent    little          moderate         6948         \n",
       "10  9 28  male   3   own     little          moderate         5234         \n",
       "11 10 25  female 2   rent    little          moderate         1295         \n",
       "   duration purpose             credit.risks\n",
       "2  48       radio/TV            2           \n",
       "4  42       furniture/equipment 1           \n",
       "5  24       car                 2           \n",
       "8  36       car                 1           \n",
       "10 30       car                 2           \n",
       "11 12       car                 2           "
      ]
     },
     "metadata": {},
     "output_type": "display_data"
    }
   ],
   "source": [
    "credit.data=na.omit(credit.data)\n",
    "head(credit.data)\n",
    "# credit.data[!complete.cases(credit.data),]"
   ]
  },
  {
   "cell_type": "markdown",
   "metadata": {},
   "source": [
    "# PART 1.  No normalization"
   ]
  },
  {
   "cell_type": "code",
   "execution_count": 9,
   "metadata": {
    "collapsed": false
   },
   "outputs": [
    {
     "data": {
      "text/plain": [
       "       x.             age            sex           job        housing   \n",
       " Min.   :  1.0   Min.   :19.00   female:168   Min.   :0.000   free: 65  \n",
       " 1st Qu.:233.5   1st Qu.:26.00   male  :354   1st Qu.:2.000   own :349  \n",
       " Median :502.5   Median :31.50                Median :2.000   rent:108  \n",
       " Mean   :493.5   Mean   :34.89                Mean   :1.875             \n",
       " 3rd Qu.:736.8   3rd Qu.:41.00                3rd Qu.:2.000             \n",
       " Max.   :999.0   Max.   :75.00                Max.   :3.000             \n",
       "                                                                        \n",
       "   saving.accounts checking.account credit.amount      duration    \n",
       " little    :412    little  :245     Min.   :  276   Min.   : 6.00  \n",
       " moderate  : 64    moderate:224     1st Qu.: 1298   1st Qu.:12.00  \n",
       " quite rich: 23    rich    : 53     Median : 2326   Median :18.00  \n",
       " rich      : 23                     Mean   : 3279   Mean   :21.34  \n",
       "                                    3rd Qu.: 3971   3rd Qu.:26.75  \n",
       "                                    Max.   :18424   Max.   :72.00  \n",
       "                                                                   \n",
       "                purpose     credit.risks  \n",
       " car                :173   Min.   :1.000  \n",
       " radio/TV           :132   1st Qu.:1.000  \n",
       " furniture/equipment:107   Median :1.000  \n",
       " business           : 53   Mean   :1.443  \n",
       " education          : 28   3rd Qu.:2.000  \n",
       " repairs            : 14   Max.   :2.000  \n",
       " (Other)            : 15                  "
      ]
     },
     "metadata": {},
     "output_type": "display_data"
    }
   ],
   "source": [
    "summary(credit.data)"
   ]
  },
  {
   "cell_type": "code",
   "execution_count": 16,
   "metadata": {
    "collapsed": false
   },
   "outputs": [],
   "source": [
    "n.points <- nrow(credit.data)\n",
    "sampling.rate <- 0.8\n",
    "credit.data.test.count<-n.points * (1 - sampling.rate)"
   ]
  },
  {
   "cell_type": "code",
   "execution_count": 17,
   "metadata": {
    "collapsed": false
   },
   "outputs": [],
   "source": [
    "train.rows=sample(1:n.points, sampling.rate * n.points,replace=FALSE)\n",
    "# train.data <- subset(credit.data[train.rows, ], select = c(job,credit.amount,duration,credit.risks))\n",
    "train.data <- subset(credit.data[train.rows, ], select = c(age,job,credit.amount,duration))\n",
    "train.labels <- credit.data$credit.risks[train.rows]"
   ]
  },
  {
   "cell_type": "code",
   "execution_count": 18,
   "metadata": {
    "collapsed": true
   },
   "outputs": [],
   "source": [
    "test.rows=setdiff(1:n.points, train.rows) \n",
    "# test.data <- subset(credit.data[test.rows, ], select = c(job,credit.amount,duration,credit.risks))\n",
    "test.data <- subset(credit.data[test.rows, ], select = c(age,job,credit.amount,duration))\n",
    "test.labels <- credit.data$credit.risks[test.rows]"
   ]
  },
  {
   "cell_type": "code",
   "execution_count": 19,
   "metadata": {
    "collapsed": false
   },
   "outputs": [
    {
     "data": {
      "text/html": [
       "38.0952380952381"
      ],
      "text/latex": [
       "38.0952380952381"
      ],
      "text/markdown": [
       "38.0952380952381"
      ],
      "text/plain": [
       "[1] 38.09524"
      ]
     },
     "metadata": {},
     "output_type": "display_data"
    }
   ],
   "source": [
    "predicted.labels=knn(train.data, test.data,train.labels, k=3) \n",
    " num.incorrect.labels <- sum(predicted.labels != test.labels) \n",
    "(num.incorrect.labels/length(test.rows))*100"
   ]
  },
  {
   "cell_type": "markdown",
   "metadata": {},
   "source": [
    "## We are getting very high misclassification rate of 38% for k=3 and sample size =0.8 on running knn on Un normalized data."
   ]
  },
  {
   "cell_type": "markdown",
   "metadata": {},
   "source": [
    "## This result is as expected since, some of the features are dominaing knn analysis"
   ]
  },
  {
   "cell_type": "markdown",
   "metadata": {},
   "source": [
    "## Below we create a function to perform knn for sample size ranging from 0.5 to 0.9 with a step size of 0.1 and k taking value from 1 to 20 for each sample size"
   ]
  },
  {
   "cell_type": "code",
   "execution_count": 20,
   "metadata": {
    "collapsed": true
   },
   "outputs": [],
   "source": [
    "knnFun<-function(sampling.rate,n.points,observation,minified.obs){\n",
    "    credit.data.test.count<-n.points * (1 - sampling.rate)\n",
    "    train.rows=sample(1:n.points, sampling.rate * n.points,replace=FALSE)\n",
    "    train.data <- subset(credit.data[train.rows, ], select = c(age,job,credit.amount,duration))\n",
    "    train.labels <- credit.data$credit.risks[train.rows]\n",
    "    test.rows=setdiff(1:n.points, train.rows) \n",
    "    test.data <- subset(credit.data[test.rows, ], select = c(age,job,credit.amount,duration))\n",
    "    test.labels <- credit.data$credit.risks[test.rows]\n",
    "    \n",
    "    min=100.00000\n",
    "    selected.k=1\n",
    "    for (k in 1:20) {\n",
    "        predicted.labels=knn(train.data, test.data,train.labels, k) \n",
    "        num.incorrect.labels <- sum(predicted.labels != test.labels) \n",
    "        missclafication.rate=(num.incorrect.labels/length(test.rows))*100\n",
    "#         print(c(k,missclafication.rate))\n",
    "            if(as.numeric(min) > as.numeric(missclafication.rate)) {\n",
    "              min <- missclafication.rate\n",
    "              selected.k=k\n",
    "            }\n",
    "        result=data.frame(k=k,mink=selected.k,misclassification.rate=missclafication.rate,train.size=sampling.rate)\n",
    "        observation <- rbind(observation, result)\n",
    "        }\n",
    "#     sprintf(\"K= %f gives minimum misclaffication rate of %f fro sampling ratio of %f and %f\", k, missclafication.rate,sampling.rate*100,(1-sampling.rate)*100)\n",
    "        result2=data.frame(mink=selected.k,min.misclassification.rate=min,train.size=sampling.rate)\n",
    "        minified.obs <- rbind(minified.obs, result2)\n",
    "    return(list(observation,minified.obs))\n",
    "}\n"
   ]
  },
  {
   "cell_type": "markdown",
   "metadata": {},
   "source": [
    "### Calling the above finction on un normalized data"
   ]
  },
  {
   "cell_type": "code",
   "execution_count": 21,
   "metadata": {
    "collapsed": true
   },
   "outputs": [],
   "source": [
    "n.points <- nrow(credit.data)\n",
    "# sampling.rate <- 0.7\n",
    "minified.obs=data.frame(mink=double(),min.misclassification.rate=double(),train.size=double())\n",
    "observation=data.frame(k=double(),mink=double(),misclassification.rate=double(),train.size=double(),minified.obs)\n",
    "for(i in seq(0.5, 0.9, by = 0.1)){\n",
    "#     sprintf(\"%f rate\",i)\n",
    "     \n",
    "    x=knnFun(sampling.rate=i,n.points=nrow(credit.data),observation=observation,minified.obs)\n",
    "    observation=data.frame(x[1])\n",
    "    minified.obs=data.frame(x[2])\n",
    "}\n"
   ]
  },
  {
   "cell_type": "markdown",
   "metadata": {},
   "source": [
    "Recording all the boservation"
   ]
  },
  {
   "cell_type": "code",
   "execution_count": 22,
   "metadata": {
    "collapsed": false
   },
   "outputs": [
    {
     "data": {
      "text/html": [
       "<table>\n",
       "<thead><tr><th scope=col>k</th><th scope=col>mink</th><th scope=col>misclassification.rate</th><th scope=col>train.size</th></tr></thead>\n",
       "<tbody>\n",
       "\t<tr><td> 1      </td><td>1       </td><td>46.74330</td><td>0.5     </td></tr>\n",
       "\t<tr><td> 2      </td><td>2       </td><td>40.99617</td><td>0.5     </td></tr>\n",
       "\t<tr><td> 3      </td><td>2       </td><td>43.29502</td><td>0.5     </td></tr>\n",
       "\t<tr><td> 4      </td><td>4       </td><td>40.61303</td><td>0.5     </td></tr>\n",
       "\t<tr><td> 5      </td><td>4       </td><td>42.14559</td><td>0.5     </td></tr>\n",
       "\t<tr><td> 6      </td><td>4       </td><td>40.61303</td><td>0.5     </td></tr>\n",
       "\t<tr><td> 7      </td><td>4       </td><td>40.99617</td><td>0.5     </td></tr>\n",
       "\t<tr><td> 8      </td><td>8       </td><td>39.08046</td><td>0.5     </td></tr>\n",
       "\t<tr><td> 9      </td><td>8       </td><td>40.22989</td><td>0.5     </td></tr>\n",
       "\t<tr><td>10      </td><td>8       </td><td>39.84674</td><td>0.5     </td></tr>\n",
       "\t<tr><td>11      </td><td>8       </td><td>39.84674</td><td>0.5     </td></tr>\n",
       "\t<tr><td>12      </td><td>8       </td><td>41.37931</td><td>0.5     </td></tr>\n",
       "\t<tr><td>13      </td><td>8       </td><td>40.99617</td><td>0.5     </td></tr>\n",
       "\t<tr><td>14      </td><td>8       </td><td>40.99617</td><td>0.5     </td></tr>\n",
       "\t<tr><td>15      </td><td>8       </td><td>42.52874</td><td>0.5     </td></tr>\n",
       "\t<tr><td>16      </td><td>8       </td><td>41.76245</td><td>0.5     </td></tr>\n",
       "\t<tr><td>17      </td><td>8       </td><td>41.76245</td><td>0.5     </td></tr>\n",
       "\t<tr><td>18      </td><td>8       </td><td>42.91188</td><td>0.5     </td></tr>\n",
       "\t<tr><td>19      </td><td>8       </td><td>43.67816</td><td>0.5     </td></tr>\n",
       "\t<tr><td>20      </td><td>8       </td><td>41.37931</td><td>0.5     </td></tr>\n",
       "\t<tr><td> 1      </td><td>1       </td><td>42.58373</td><td>0.6     </td></tr>\n",
       "\t<tr><td> 2      </td><td>2       </td><td>39.23445</td><td>0.6     </td></tr>\n",
       "\t<tr><td> 3      </td><td>2       </td><td>42.10526</td><td>0.6     </td></tr>\n",
       "\t<tr><td> 4      </td><td>4       </td><td>38.75598</td><td>0.6     </td></tr>\n",
       "\t<tr><td> 5      </td><td>4       </td><td>39.71292</td><td>0.6     </td></tr>\n",
       "\t<tr><td> 6      </td><td>4       </td><td>38.75598</td><td>0.6     </td></tr>\n",
       "\t<tr><td> 7      </td><td>4       </td><td>41.14833</td><td>0.6     </td></tr>\n",
       "\t<tr><td> 8      </td><td>4       </td><td>41.62679</td><td>0.6     </td></tr>\n",
       "\t<tr><td> 9      </td><td>4       </td><td>41.14833</td><td>0.6     </td></tr>\n",
       "\t<tr><td>10      </td><td>4       </td><td>41.62679</td><td>0.6     </td></tr>\n",
       "\t<tr><td>...</td><td>...</td><td>...</td><td>...</td></tr>\n",
       "\t<tr><td>11      </td><td> 5      </td><td>39.04762</td><td>0.8     </td></tr>\n",
       "\t<tr><td>12      </td><td> 5      </td><td>39.04762</td><td>0.8     </td></tr>\n",
       "\t<tr><td>13      </td><td> 5      </td><td>39.04762</td><td>0.8     </td></tr>\n",
       "\t<tr><td>14      </td><td> 5      </td><td>40.00000</td><td>0.8     </td></tr>\n",
       "\t<tr><td>15      </td><td> 5      </td><td>37.14286</td><td>0.8     </td></tr>\n",
       "\t<tr><td>16      </td><td> 5      </td><td>40.00000</td><td>0.8     </td></tr>\n",
       "\t<tr><td>17      </td><td> 5      </td><td>37.14286</td><td>0.8     </td></tr>\n",
       "\t<tr><td>18      </td><td> 5      </td><td>37.14286</td><td>0.8     </td></tr>\n",
       "\t<tr><td>19      </td><td> 5      </td><td>40.00000</td><td>0.8     </td></tr>\n",
       "\t<tr><td>20      </td><td> 5      </td><td>40.00000</td><td>0.8     </td></tr>\n",
       "\t<tr><td> 1      </td><td> 1      </td><td>50.94340</td><td>0.9     </td></tr>\n",
       "\t<tr><td> 2      </td><td> 1      </td><td>50.94340</td><td>0.9     </td></tr>\n",
       "\t<tr><td> 3      </td><td> 3      </td><td>45.28302</td><td>0.9     </td></tr>\n",
       "\t<tr><td> 4      </td><td> 4      </td><td>43.39623</td><td>0.9     </td></tr>\n",
       "\t<tr><td> 5      </td><td> 5      </td><td>41.50943</td><td>0.9     </td></tr>\n",
       "\t<tr><td> 6      </td><td> 5      </td><td>43.39623</td><td>0.9     </td></tr>\n",
       "\t<tr><td> 7      </td><td> 5      </td><td>41.50943</td><td>0.9     </td></tr>\n",
       "\t<tr><td> 8      </td><td> 5      </td><td>43.39623</td><td>0.9     </td></tr>\n",
       "\t<tr><td> 9      </td><td> 5      </td><td>45.28302</td><td>0.9     </td></tr>\n",
       "\t<tr><td>10      </td><td> 5      </td><td>43.39623</td><td>0.9     </td></tr>\n",
       "\t<tr><td>11      </td><td> 5      </td><td>41.50943</td><td>0.9     </td></tr>\n",
       "\t<tr><td>12      </td><td>12      </td><td>39.62264</td><td>0.9     </td></tr>\n",
       "\t<tr><td>13      </td><td>12      </td><td>39.62264</td><td>0.9     </td></tr>\n",
       "\t<tr><td>14      </td><td>12      </td><td>41.50943</td><td>0.9     </td></tr>\n",
       "\t<tr><td>15      </td><td>12      </td><td>43.39623</td><td>0.9     </td></tr>\n",
       "\t<tr><td>16      </td><td>12      </td><td>41.50943</td><td>0.9     </td></tr>\n",
       "\t<tr><td>17      </td><td>12      </td><td>43.39623</td><td>0.9     </td></tr>\n",
       "\t<tr><td>18      </td><td>12      </td><td>41.50943</td><td>0.9     </td></tr>\n",
       "\t<tr><td>19      </td><td>12      </td><td>41.50943</td><td>0.9     </td></tr>\n",
       "\t<tr><td>20      </td><td>20      </td><td>35.84906</td><td>0.9     </td></tr>\n",
       "</tbody>\n",
       "</table>\n"
      ],
      "text/latex": [
       "\\begin{tabular}{r|llll}\n",
       " k & mink & misclassification.rate & train.size\\\\\n",
       "\\hline\n",
       "\t  1       & 1        & 46.74330 & 0.5     \\\\\n",
       "\t  2       & 2        & 40.99617 & 0.5     \\\\\n",
       "\t  3       & 2        & 43.29502 & 0.5     \\\\\n",
       "\t  4       & 4        & 40.61303 & 0.5     \\\\\n",
       "\t  5       & 4        & 42.14559 & 0.5     \\\\\n",
       "\t  6       & 4        & 40.61303 & 0.5     \\\\\n",
       "\t  7       & 4        & 40.99617 & 0.5     \\\\\n",
       "\t  8       & 8        & 39.08046 & 0.5     \\\\\n",
       "\t  9       & 8        & 40.22989 & 0.5     \\\\\n",
       "\t 10       & 8        & 39.84674 & 0.5     \\\\\n",
       "\t 11       & 8        & 39.84674 & 0.5     \\\\\n",
       "\t 12       & 8        & 41.37931 & 0.5     \\\\\n",
       "\t 13       & 8        & 40.99617 & 0.5     \\\\\n",
       "\t 14       & 8        & 40.99617 & 0.5     \\\\\n",
       "\t 15       & 8        & 42.52874 & 0.5     \\\\\n",
       "\t 16       & 8        & 41.76245 & 0.5     \\\\\n",
       "\t 17       & 8        & 41.76245 & 0.5     \\\\\n",
       "\t 18       & 8        & 42.91188 & 0.5     \\\\\n",
       "\t 19       & 8        & 43.67816 & 0.5     \\\\\n",
       "\t 20       & 8        & 41.37931 & 0.5     \\\\\n",
       "\t  1       & 1        & 42.58373 & 0.6     \\\\\n",
       "\t  2       & 2        & 39.23445 & 0.6     \\\\\n",
       "\t  3       & 2        & 42.10526 & 0.6     \\\\\n",
       "\t  4       & 4        & 38.75598 & 0.6     \\\\\n",
       "\t  5       & 4        & 39.71292 & 0.6     \\\\\n",
       "\t  6       & 4        & 38.75598 & 0.6     \\\\\n",
       "\t  7       & 4        & 41.14833 & 0.6     \\\\\n",
       "\t  8       & 4        & 41.62679 & 0.6     \\\\\n",
       "\t  9       & 4        & 41.14833 & 0.6     \\\\\n",
       "\t 10       & 4        & 41.62679 & 0.6     \\\\\n",
       "\t ... & ... & ... & ...\\\\\n",
       "\t 11       &  5       & 39.04762 & 0.8     \\\\\n",
       "\t 12       &  5       & 39.04762 & 0.8     \\\\\n",
       "\t 13       &  5       & 39.04762 & 0.8     \\\\\n",
       "\t 14       &  5       & 40.00000 & 0.8     \\\\\n",
       "\t 15       &  5       & 37.14286 & 0.8     \\\\\n",
       "\t 16       &  5       & 40.00000 & 0.8     \\\\\n",
       "\t 17       &  5       & 37.14286 & 0.8     \\\\\n",
       "\t 18       &  5       & 37.14286 & 0.8     \\\\\n",
       "\t 19       &  5       & 40.00000 & 0.8     \\\\\n",
       "\t 20       &  5       & 40.00000 & 0.8     \\\\\n",
       "\t  1       &  1       & 50.94340 & 0.9     \\\\\n",
       "\t  2       &  1       & 50.94340 & 0.9     \\\\\n",
       "\t  3       &  3       & 45.28302 & 0.9     \\\\\n",
       "\t  4       &  4       & 43.39623 & 0.9     \\\\\n",
       "\t  5       &  5       & 41.50943 & 0.9     \\\\\n",
       "\t  6       &  5       & 43.39623 & 0.9     \\\\\n",
       "\t  7       &  5       & 41.50943 & 0.9     \\\\\n",
       "\t  8       &  5       & 43.39623 & 0.9     \\\\\n",
       "\t  9       &  5       & 45.28302 & 0.9     \\\\\n",
       "\t 10       &  5       & 43.39623 & 0.9     \\\\\n",
       "\t 11       &  5       & 41.50943 & 0.9     \\\\\n",
       "\t 12       & 12       & 39.62264 & 0.9     \\\\\n",
       "\t 13       & 12       & 39.62264 & 0.9     \\\\\n",
       "\t 14       & 12       & 41.50943 & 0.9     \\\\\n",
       "\t 15       & 12       & 43.39623 & 0.9     \\\\\n",
       "\t 16       & 12       & 41.50943 & 0.9     \\\\\n",
       "\t 17       & 12       & 43.39623 & 0.9     \\\\\n",
       "\t 18       & 12       & 41.50943 & 0.9     \\\\\n",
       "\t 19       & 12       & 41.50943 & 0.9     \\\\\n",
       "\t 20       & 20       & 35.84906 & 0.9     \\\\\n",
       "\\end{tabular}\n"
      ],
      "text/markdown": [
       "\n",
       "k | mink | misclassification.rate | train.size | \n",
       "|---|---|---|---|---|---|---|---|---|---|---|---|---|---|---|---|---|---|---|---|---|---|---|---|---|---|---|---|---|---|---|---|---|---|---|---|---|---|---|---|---|---|---|---|---|---|---|---|---|---|---|---|---|---|---|---|---|---|---|---|---|\n",
       "|  1       | 1        | 46.74330 | 0.5      | \n",
       "|  2       | 2        | 40.99617 | 0.5      | \n",
       "|  3       | 2        | 43.29502 | 0.5      | \n",
       "|  4       | 4        | 40.61303 | 0.5      | \n",
       "|  5       | 4        | 42.14559 | 0.5      | \n",
       "|  6       | 4        | 40.61303 | 0.5      | \n",
       "|  7       | 4        | 40.99617 | 0.5      | \n",
       "|  8       | 8        | 39.08046 | 0.5      | \n",
       "|  9       | 8        | 40.22989 | 0.5      | \n",
       "| 10       | 8        | 39.84674 | 0.5      | \n",
       "| 11       | 8        | 39.84674 | 0.5      | \n",
       "| 12       | 8        | 41.37931 | 0.5      | \n",
       "| 13       | 8        | 40.99617 | 0.5      | \n",
       "| 14       | 8        | 40.99617 | 0.5      | \n",
       "| 15       | 8        | 42.52874 | 0.5      | \n",
       "| 16       | 8        | 41.76245 | 0.5      | \n",
       "| 17       | 8        | 41.76245 | 0.5      | \n",
       "| 18       | 8        | 42.91188 | 0.5      | \n",
       "| 19       | 8        | 43.67816 | 0.5      | \n",
       "| 20       | 8        | 41.37931 | 0.5      | \n",
       "|  1       | 1        | 42.58373 | 0.6      | \n",
       "|  2       | 2        | 39.23445 | 0.6      | \n",
       "|  3       | 2        | 42.10526 | 0.6      | \n",
       "|  4       | 4        | 38.75598 | 0.6      | \n",
       "|  5       | 4        | 39.71292 | 0.6      | \n",
       "|  6       | 4        | 38.75598 | 0.6      | \n",
       "|  7       | 4        | 41.14833 | 0.6      | \n",
       "|  8       | 4        | 41.62679 | 0.6      | \n",
       "|  9       | 4        | 41.14833 | 0.6      | \n",
       "| 10       | 4        | 41.62679 | 0.6      | \n",
       "| ... | ... | ... | ... | \n",
       "| 11       |  5       | 39.04762 | 0.8      | \n",
       "| 12       |  5       | 39.04762 | 0.8      | \n",
       "| 13       |  5       | 39.04762 | 0.8      | \n",
       "| 14       |  5       | 40.00000 | 0.8      | \n",
       "| 15       |  5       | 37.14286 | 0.8      | \n",
       "| 16       |  5       | 40.00000 | 0.8      | \n",
       "| 17       |  5       | 37.14286 | 0.8      | \n",
       "| 18       |  5       | 37.14286 | 0.8      | \n",
       "| 19       |  5       | 40.00000 | 0.8      | \n",
       "| 20       |  5       | 40.00000 | 0.8      | \n",
       "|  1       |  1       | 50.94340 | 0.9      | \n",
       "|  2       |  1       | 50.94340 | 0.9      | \n",
       "|  3       |  3       | 45.28302 | 0.9      | \n",
       "|  4       |  4       | 43.39623 | 0.9      | \n",
       "|  5       |  5       | 41.50943 | 0.9      | \n",
       "|  6       |  5       | 43.39623 | 0.9      | \n",
       "|  7       |  5       | 41.50943 | 0.9      | \n",
       "|  8       |  5       | 43.39623 | 0.9      | \n",
       "|  9       |  5       | 45.28302 | 0.9      | \n",
       "| 10       |  5       | 43.39623 | 0.9      | \n",
       "| 11       |  5       | 41.50943 | 0.9      | \n",
       "| 12       | 12       | 39.62264 | 0.9      | \n",
       "| 13       | 12       | 39.62264 | 0.9      | \n",
       "| 14       | 12       | 41.50943 | 0.9      | \n",
       "| 15       | 12       | 43.39623 | 0.9      | \n",
       "| 16       | 12       | 41.50943 | 0.9      | \n",
       "| 17       | 12       | 43.39623 | 0.9      | \n",
       "| 18       | 12       | 41.50943 | 0.9      | \n",
       "| 19       | 12       | 41.50943 | 0.9      | \n",
       "| 20       | 20       | 35.84906 | 0.9      | \n",
       "\n",
       "\n"
      ],
      "text/plain": [
       "    k   mink misclassification.rate train.size\n",
       "1    1  1    46.74330               0.5       \n",
       "2    2  2    40.99617               0.5       \n",
       "3    3  2    43.29502               0.5       \n",
       "4    4  4    40.61303               0.5       \n",
       "5    5  4    42.14559               0.5       \n",
       "6    6  4    40.61303               0.5       \n",
       "7    7  4    40.99617               0.5       \n",
       "8    8  8    39.08046               0.5       \n",
       "9    9  8    40.22989               0.5       \n",
       "10  10  8    39.84674               0.5       \n",
       "11  11  8    39.84674               0.5       \n",
       "12  12  8    41.37931               0.5       \n",
       "13  13  8    40.99617               0.5       \n",
       "14  14  8    40.99617               0.5       \n",
       "15  15  8    42.52874               0.5       \n",
       "16  16  8    41.76245               0.5       \n",
       "17  17  8    41.76245               0.5       \n",
       "18  18  8    42.91188               0.5       \n",
       "19  19  8    43.67816               0.5       \n",
       "20  20  8    41.37931               0.5       \n",
       "21   1  1    42.58373               0.6       \n",
       "22   2  2    39.23445               0.6       \n",
       "23   3  2    42.10526               0.6       \n",
       "24   4  4    38.75598               0.6       \n",
       "25   5  4    39.71292               0.6       \n",
       "26   6  4    38.75598               0.6       \n",
       "27   7  4    41.14833               0.6       \n",
       "28   8  4    41.62679               0.6       \n",
       "29   9  4    41.14833               0.6       \n",
       "30  10  4    41.62679               0.6       \n",
       "... ... ...  ...                    ...       \n",
       "71  11   5   39.04762               0.8       \n",
       "72  12   5   39.04762               0.8       \n",
       "73  13   5   39.04762               0.8       \n",
       "74  14   5   40.00000               0.8       \n",
       "75  15   5   37.14286               0.8       \n",
       "76  16   5   40.00000               0.8       \n",
       "77  17   5   37.14286               0.8       \n",
       "78  18   5   37.14286               0.8       \n",
       "79  19   5   40.00000               0.8       \n",
       "80  20   5   40.00000               0.8       \n",
       "81   1   1   50.94340               0.9       \n",
       "82   2   1   50.94340               0.9       \n",
       "83   3   3   45.28302               0.9       \n",
       "84   4   4   43.39623               0.9       \n",
       "85   5   5   41.50943               0.9       \n",
       "86   6   5   43.39623               0.9       \n",
       "87   7   5   41.50943               0.9       \n",
       "88   8   5   43.39623               0.9       \n",
       "89   9   5   45.28302               0.9       \n",
       "90  10   5   43.39623               0.9       \n",
       "91  11   5   41.50943               0.9       \n",
       "92  12  12   39.62264               0.9       \n",
       "93  13  12   39.62264               0.9       \n",
       "94  14  12   41.50943               0.9       \n",
       "95  15  12   43.39623               0.9       \n",
       "96  16  12   41.50943               0.9       \n",
       "97  17  12   43.39623               0.9       \n",
       "98  18  12   41.50943               0.9       \n",
       "99  19  12   41.50943               0.9       \n",
       "100 20  20   35.84906               0.9       "
      ]
     },
     "metadata": {},
     "output_type": "display_data"
    }
   ],
   "source": [
    "observation"
   ]
  },
  {
   "cell_type": "markdown",
   "metadata": {},
   "source": [
    "### Tabulating analysis"
   ]
  },
  {
   "cell_type": "markdown",
   "metadata": {},
   "source": [
    "The below table gives the minimum value of K in the range of 1 to 20 for which we got the minimum misclassification rate for a particular sample size"
   ]
  },
  {
   "cell_type": "code",
   "execution_count": 23,
   "metadata": {
    "collapsed": false
   },
   "outputs": [
    {
     "data": {
      "text/html": [
       "<table>\n",
       "<thead><tr><th scope=col>mink</th><th scope=col>min.misclassification.rate</th><th scope=col>train.size</th></tr></thead>\n",
       "<tbody>\n",
       "\t<tr><td> 8      </td><td>39.08046</td><td>0.5     </td></tr>\n",
       "\t<tr><td>12      </td><td>36.36364</td><td>0.6     </td></tr>\n",
       "\t<tr><td>11      </td><td>35.03185</td><td>0.7     </td></tr>\n",
       "\t<tr><td> 5      </td><td>34.28571</td><td>0.8     </td></tr>\n",
       "\t<tr><td>20      </td><td>35.84906</td><td>0.9     </td></tr>\n",
       "</tbody>\n",
       "</table>\n"
      ],
      "text/latex": [
       "\\begin{tabular}{r|lll}\n",
       " mink & min.misclassification.rate & train.size\\\\\n",
       "\\hline\n",
       "\t  8       & 39.08046 & 0.5     \\\\\n",
       "\t 12       & 36.36364 & 0.6     \\\\\n",
       "\t 11       & 35.03185 & 0.7     \\\\\n",
       "\t  5       & 34.28571 & 0.8     \\\\\n",
       "\t 20       & 35.84906 & 0.9     \\\\\n",
       "\\end{tabular}\n"
      ],
      "text/markdown": [
       "\n",
       "mink | min.misclassification.rate | train.size | \n",
       "|---|---|---|---|---|\n",
       "|  8       | 39.08046 | 0.5      | \n",
       "| 12       | 36.36364 | 0.6      | \n",
       "| 11       | 35.03185 | 0.7      | \n",
       "|  5       | 34.28571 | 0.8      | \n",
       "| 20       | 35.84906 | 0.9      | \n",
       "\n",
       "\n"
      ],
      "text/plain": [
       "  mink min.misclassification.rate train.size\n",
       "1  8   39.08046                   0.5       \n",
       "2 12   36.36364                   0.6       \n",
       "3 11   35.03185                   0.7       \n",
       "4  5   34.28571                   0.8       \n",
       "5 20   35.84906                   0.9       "
      ]
     },
     "metadata": {},
     "output_type": "display_data"
    }
   ],
   "source": [
    "minified.obs\n",
    "minified1=minified.obs"
   ]
  },
  {
   "cell_type": "markdown",
   "metadata": {},
   "source": [
    "### Observation 1 : "
   ]
  },
  {
   "cell_type": "markdown",
   "metadata": {},
   "source": [
    "### Without normalization the best we could do is misclassification rate of 34.28% for k = 5 and sample size of 0.8"
   ]
  },
  {
   "cell_type": "markdown",
   "metadata": {},
   "source": [
    "# Normlization 1 : "
   ]
  },
  {
   "cell_type": "markdown",
   "metadata": {},
   "source": [
    "# # Bringing credit amount duration  and credit risk to be in range of hundreds, so that no particular feature dominate the Distance."
   ]
  },
  {
   "cell_type": "code",
   "execution_count": 49,
   "metadata": {
    "collapsed": false
   },
   "outputs": [
    {
     "data": {
      "text/html": [
       "<table>\n",
       "<thead><tr><th></th><th scope=col>x.</th><th scope=col>age</th><th scope=col>sex</th><th scope=col>job</th><th scope=col>housing</th><th scope=col>saving.accounts</th><th scope=col>checking.account</th><th scope=col>credit.amount</th><th scope=col>duration</th><th scope=col>purpose</th><th scope=col>credit.risks</th></tr></thead>\n",
       "<tbody>\n",
       "\t<tr><th scope=row>2</th><td> 1                 </td><td>22                 </td><td>female             </td><td>40                 </td><td>own                </td><td>little             </td><td>moderate           </td><td>29.755             </td><td>48                 </td><td>radio/TV           </td><td>2                  </td></tr>\n",
       "\t<tr><th scope=row>4</th><td> 3                 </td><td>45                 </td><td>male               </td><td>40                 </td><td>free               </td><td>little             </td><td>little             </td><td>39.410             </td><td>42                 </td><td>furniture/equipment</td><td>1                  </td></tr>\n",
       "\t<tr><th scope=row>5</th><td> 4                 </td><td>53                 </td><td>male               </td><td>40                 </td><td>free               </td><td>little             </td><td>little             </td><td>24.350             </td><td>24                 </td><td>car                </td><td>2                  </td></tr>\n",
       "\t<tr><th scope=row>8</th><td> 7                 </td><td>35                 </td><td>male               </td><td>60                 </td><td>rent               </td><td>little             </td><td>moderate           </td><td>34.740             </td><td>36                 </td><td>car                </td><td>1                  </td></tr>\n",
       "\t<tr><th scope=row>10</th><td> 9                 </td><td>28                 </td><td>male               </td><td>60                 </td><td>own                </td><td>little             </td><td>moderate           </td><td>26.170             </td><td>30                 </td><td>car                </td><td>2                  </td></tr>\n",
       "\t<tr><th scope=row>11</th><td>10                 </td><td>25                 </td><td>female             </td><td>40                 </td><td>rent               </td><td>little             </td><td>moderate           </td><td> 6.475             </td><td>12                 </td><td>car                </td><td>2                  </td></tr>\n",
       "</tbody>\n",
       "</table>\n"
      ],
      "text/latex": [
       "\\begin{tabular}{r|lllllllllll}\n",
       "  & x. & age & sex & job & housing & saving.accounts & checking.account & credit.amount & duration & purpose & credit.risks\\\\\n",
       "\\hline\n",
       "\t2 &  1                  & 22                  & female              & 40                  & own                 & little              & moderate            & 29.755              & 48                  & radio/TV            & 2                  \\\\\n",
       "\t4 &  3                  & 45                  & male                & 40                  & free                & little              & little              & 39.410              & 42                  & furniture/equipment & 1                  \\\\\n",
       "\t5 &  4                  & 53                  & male                & 40                  & free                & little              & little              & 24.350              & 24                  & car                 & 2                  \\\\\n",
       "\t8 &  7                  & 35                  & male                & 60                  & rent                & little              & moderate            & 34.740              & 36                  & car                 & 1                  \\\\\n",
       "\t10 &  9                  & 28                  & male                & 60                  & own                 & little              & moderate            & 26.170              & 30                  & car                 & 2                  \\\\\n",
       "\t11 & 10                  & 25                  & female              & 40                  & rent                & little              & moderate            &  6.475              & 12                  & car                 & 2                  \\\\\n",
       "\\end{tabular}\n"
      ],
      "text/markdown": [
       "\n",
       "| <!--/--> | x. | age | sex | job | housing | saving.accounts | checking.account | credit.amount | duration | purpose | credit.risks | \n",
       "|---|---|---|---|---|---|\n",
       "| 2 |  1                  | 22                  | female              | 40                  | own                 | little              | moderate            | 29.755              | 48                  | radio/TV            | 2                   | \n",
       "| 4 |  3                  | 45                  | male                | 40                  | free                | little              | little              | 39.410              | 42                  | furniture/equipment | 1                   | \n",
       "| 5 |  4                  | 53                  | male                | 40                  | free                | little              | little              | 24.350              | 24                  | car                 | 2                   | \n",
       "| 8 |  7                  | 35                  | male                | 60                  | rent                | little              | moderate            | 34.740              | 36                  | car                 | 1                   | \n",
       "| 10 |  9                  | 28                  | male                | 60                  | own                 | little              | moderate            | 26.170              | 30                  | car                 | 2                   | \n",
       "| 11 | 10                  | 25                  | female              | 40                  | rent                | little              | moderate            |  6.475              | 12                  | car                 | 2                   | \n",
       "\n",
       "\n"
      ],
      "text/plain": [
       "   x. age sex    job housing saving.accounts checking.account credit.amount\n",
       "2   1 22  female 40  own     little          moderate         29.755       \n",
       "4   3 45  male   40  free    little          little           39.410       \n",
       "5   4 53  male   40  free    little          little           24.350       \n",
       "8   7 35  male   60  rent    little          moderate         34.740       \n",
       "10  9 28  male   60  own     little          moderate         26.170       \n",
       "11 10 25  female 40  rent    little          moderate          6.475       \n",
       "   duration purpose             credit.risks\n",
       "2  48       radio/TV            2           \n",
       "4  42       furniture/equipment 1           \n",
       "5  24       car                 2           \n",
       "8  36       car                 1           \n",
       "10 30       car                 2           \n",
       "11 12       car                 2           "
      ]
     },
     "metadata": {},
     "output_type": "display_data"
    }
   ],
   "source": [
    "credit.data.n1=credit.data\n",
    "credit.data.n1$credit.amount=credit.data.n1$credit.amount/200\n",
    "credit.data.n1$job=credit.data.n1$job*20\n",
    "# credit.data.n1$credit.risks=credit.data.n1$credit.risks*10\n",
    "head(credit.data.n1)"
   ]
  },
  {
   "cell_type": "markdown",
   "metadata": {},
   "source": [
    "Defining sampling rate and no. of total valid observations"
   ]
  },
  {
   "cell_type": "code",
   "execution_count": 50,
   "metadata": {
    "collapsed": false
   },
   "outputs": [
    {
     "data": {
      "text/plain": [
       "       x.             age            sex           job        housing   \n",
       " Min.   :  1.0   Min.   :19.00   female:168   Min.   : 0.00   free: 65  \n",
       " 1st Qu.:233.5   1st Qu.:26.00   male  :354   1st Qu.:40.00   own :349  \n",
       " Median :502.5   Median :31.50                Median :40.00   rent:108  \n",
       " Mean   :493.5   Mean   :34.89                Mean   :37.51             \n",
       " 3rd Qu.:736.8   3rd Qu.:41.00                3rd Qu.:40.00             \n",
       " Max.   :999.0   Max.   :75.00                Max.   :60.00             \n",
       "                                                                        \n",
       "   saving.accounts checking.account credit.amount       duration    \n",
       " little    :412    little  :245     Min.   : 1.380   Min.   : 6.00  \n",
       " moderate  : 64    moderate:224     1st Qu.: 6.487   1st Qu.:12.00  \n",
       " quite rich: 23    rich    : 53     Median :11.633   Median :18.00  \n",
       " rich      : 23                     Mean   :16.394   Mean   :21.34  \n",
       "                                    3rd Qu.:19.856   3rd Qu.:26.75  \n",
       "                                    Max.   :92.120   Max.   :72.00  \n",
       "                                                                    \n",
       "                purpose     credit.risks  \n",
       " car                :173   Min.   :1.000  \n",
       " radio/TV           :132   1st Qu.:1.000  \n",
       " furniture/equipment:107   Median :1.000  \n",
       " business           : 53   Mean   :1.443  \n",
       " education          : 28   3rd Qu.:2.000  \n",
       " repairs            : 14   Max.   :2.000  \n",
       " (Other)            : 15                  "
      ]
     },
     "metadata": {},
     "output_type": "display_data"
    }
   ],
   "source": [
    "summary(credit.data.n1)"
   ]
  },
  {
   "cell_type": "markdown",
   "metadata": {},
   "source": [
    "Post normalization , we are getting mean of required data in the same range"
   ]
  },
  {
   "cell_type": "code",
   "execution_count": 51,
   "metadata": {
    "collapsed": true
   },
   "outputs": [],
   "source": [
    "n.points <- nrow(credit.data.n1)\n",
    "sampling.rate <- 0.8\n",
    "credit.data.test.count<-n.points * (1 - sampling.rate)"
   ]
  },
  {
   "cell_type": "markdown",
   "metadata": {},
   "source": [
    "Sampling train data and labels"
   ]
  },
  {
   "cell_type": "code",
   "execution_count": 52,
   "metadata": {
    "collapsed": false
   },
   "outputs": [],
   "source": [
    "train.rows=sample(1:n.points, sampling.rate * n.points,replace=FALSE)\n",
    "train.data <- subset(credit.data.n1[train.rows, ], select = c(age,job,credit.amount,duration))\n",
    "train.labels <- credit.data.n1$credit.risks[train.rows]"
   ]
  },
  {
   "cell_type": "markdown",
   "metadata": {},
   "source": [
    "Sampling test data and sample"
   ]
  },
  {
   "cell_type": "code",
   "execution_count": 53,
   "metadata": {
    "collapsed": false
   },
   "outputs": [],
   "source": [
    "test.rows=setdiff(1:n.points, train.rows) \n",
    "test.data <- subset(credit.data.n1[test.rows, ], select = c(age,job,credit.amount,duration))\n",
    "test.labels <- credit.data.n1$credit.risks[test.rows]"
   ]
  },
  {
   "cell_type": "code",
   "execution_count": null,
   "metadata": {
    "collapsed": false
   },
   "outputs": [],
   "source": []
  },
  {
   "cell_type": "markdown",
   "metadata": {},
   "source": [
    "Applying knn and obtaining predicted label"
   ]
  },
  {
   "cell_type": "code",
   "execution_count": 54,
   "metadata": {
    "collapsed": false
   },
   "outputs": [],
   "source": [
    "predicted.labels=knn(train.data, test.data,train.labels, k=3) "
   ]
  },
  {
   "cell_type": "markdown",
   "metadata": {},
   "source": [
    "checking the validity of results"
   ]
  },
  {
   "cell_type": "code",
   "execution_count": 55,
   "metadata": {
    "collapsed": false
   },
   "outputs": [],
   "source": [
    " num.incorrect.labels <- sum(predicted.labels != test.labels) "
   ]
  },
  {
   "cell_type": "markdown",
   "metadata": {},
   "source": [
    "Calculating the misclassification rate"
   ]
  },
  {
   "cell_type": "code",
   "execution_count": 56,
   "metadata": {
    "collapsed": false
   },
   "outputs": [
    {
     "data": {
      "text/html": [
       "36.1904761904762"
      ],
      "text/latex": [
       "36.1904761904762"
      ],
      "text/markdown": [
       "36.1904761904762"
      ],
      "text/plain": [
       "[1] 36.19048"
      ]
     },
     "metadata": {},
     "output_type": "display_data"
    }
   ],
   "source": [
    "(num.incorrect.labels/length(test.rows))*100"
   ]
  },
  {
   "cell_type": "markdown",
   "metadata": {},
   "source": [
    "The intutive normalization didnot seem to produce much deviation<br>\n",
    "Initially we got misclassification rate of 38%. <br>\n",
    "Having an intutive normalization managed to reduce the misclassification rate by 2% to 36%"
   ]
  },
  {
   "cell_type": "markdown",
   "metadata": {},
   "source": [
    "A function to peform the same analysis as above,but alltogether for varying k and sampling rate"
   ]
  },
  {
   "cell_type": "markdown",
   "metadata": {},
   "source": [
    "### We create a function to perform knn for sample size ranging from 0.5 to 0.9 with a step size of 0.1 and k taking value from 1 to 20 for each sample size on data which is normalized using Min Max normalization"
   ]
  },
  {
   "cell_type": "code",
   "execution_count": 57,
   "metadata": {
    "collapsed": false
   },
   "outputs": [],
   "source": [
    "knnFun<-function(sampling.rate,n.points,observation,minified.obs){\n",
    "    credit.data.test.count<-n.points * (1 - sampling.rate)\n",
    "    train.rows=sample(1:n.points, sampling.rate * n.points,replace=FALSE)\n",
    "    train.data <- subset(credit.data.n1[train.rows, ], select = c(age,job,credit.amount,duration))\n",
    "    train.labels <- credit.data.n1$credit.risks[train.rows]\n",
    "    test.rows=setdiff(1:n.points, train.rows) \n",
    "    test.data <- subset(credit.data.n1[test.rows, ], select = c(age,job,credit.amount,duration))\n",
    "    test.labels <- credit.data.n1$credit.risks[test.rows]\n",
    "    \n",
    "    min=100.00000\n",
    "    selected.k=1\n",
    "    for (k in 1:20) {\n",
    "        predicted.labels=knn(train.data, test.data,train.labels, k) \n",
    "        num.incorrect.labels <- sum(predicted.labels != test.labels) \n",
    "        missclafication.rate=(num.incorrect.labels/length(test.rows))*100\n",
    "#         print(c(k,missclafication.rate))\n",
    "            if(as.numeric(min) > as.numeric(missclafication.rate)) {\n",
    "              min <- missclafication.rate\n",
    "              selected.k=k\n",
    "            }\n",
    "        result=data.frame(k=k,mink=selected.k,misclassification.rate=missclafication.rate,train.size=sampling.rate)\n",
    "        observation <- rbind(observation, result)\n",
    "        }\n",
    "#     sprintf(\"K= %f gives minimum misclaffication rate of %f fro sampling ratio of %f and %f\", k, missclafication.rate,sampling.rate*100,(1-sampling.rate)*100)\n",
    "        result2=data.frame(mink=selected.k,min.misclassification.rate=min,train.size=sampling.rate)\n",
    "        minified.obs <- rbind(minified.obs, result2)\n",
    "    return(list(observation,minified.obs))\n",
    "}\n"
   ]
  },
  {
   "cell_type": "markdown",
   "metadata": {},
   "source": [
    "Feeding different sample rates and k and tabulating the value in observations dataframe"
   ]
  },
  {
   "cell_type": "code",
   "execution_count": 58,
   "metadata": {
    "collapsed": false,
    "scrolled": true
   },
   "outputs": [],
   "source": [
    "n.points <- nrow(credit.data)\n",
    "# sampling.rate <- 0.7\n",
    "minified.obs=data.frame(mink=double(),min.misclassification.rate=double(),train.size=double())\n",
    "observation=data.frame(k=double(),mink=double(),misclassification.rate=double(),train.size=double(),minified.obs)\n",
    "for(i in seq(0.5, 0.9, by = 0.1)){\n",
    "#     sprintf(\"%f rate\",i)\n",
    "     \n",
    "    x=knnFun(sampling.rate=i,n.points=nrow(credit.data),observation=observation,minified.obs)\n",
    "    observation=data.frame(x[1])\n",
    "    minified.obs=data.frame(x[2])\n",
    "}\n"
   ]
  },
  {
   "cell_type": "markdown",
   "metadata": {},
   "source": [
    "#Tabulating all observations "
   ]
  },
  {
   "cell_type": "code",
   "execution_count": 59,
   "metadata": {
    "collapsed": false
   },
   "outputs": [
    {
     "data": {
      "text/html": [
       "<table>\n",
       "<thead><tr><th scope=col>k</th><th scope=col>mink</th><th scope=col>misclassification.rate</th><th scope=col>train.size</th></tr></thead>\n",
       "<tbody>\n",
       "\t<tr><td> 1      </td><td> 1      </td><td>43.67816</td><td>0.5     </td></tr>\n",
       "\t<tr><td> 2      </td><td> 2      </td><td>42.14559</td><td>0.5     </td></tr>\n",
       "\t<tr><td> 3      </td><td> 2      </td><td>45.59387</td><td>0.5     </td></tr>\n",
       "\t<tr><td> 4      </td><td> 2      </td><td>42.14559</td><td>0.5     </td></tr>\n",
       "\t<tr><td> 5      </td><td> 2      </td><td>47.89272</td><td>0.5     </td></tr>\n",
       "\t<tr><td> 6      </td><td> 2      </td><td>43.67816</td><td>0.5     </td></tr>\n",
       "\t<tr><td> 7      </td><td> 2      </td><td>43.29502</td><td>0.5     </td></tr>\n",
       "\t<tr><td> 8      </td><td> 8      </td><td>40.22989</td><td>0.5     </td></tr>\n",
       "\t<tr><td> 9      </td><td> 8      </td><td>42.52874</td><td>0.5     </td></tr>\n",
       "\t<tr><td>10      </td><td>10      </td><td>38.31418</td><td>0.5     </td></tr>\n",
       "\t<tr><td>11      </td><td>11      </td><td>37.93103</td><td>0.5     </td></tr>\n",
       "\t<tr><td>12      </td><td>11      </td><td>38.69732</td><td>0.5     </td></tr>\n",
       "\t<tr><td>13      </td><td>11      </td><td>39.08046</td><td>0.5     </td></tr>\n",
       "\t<tr><td>14      </td><td>11      </td><td>38.31418</td><td>0.5     </td></tr>\n",
       "\t<tr><td>15      </td><td>11      </td><td>37.93103</td><td>0.5     </td></tr>\n",
       "\t<tr><td>16      </td><td>11      </td><td>38.31418</td><td>0.5     </td></tr>\n",
       "\t<tr><td>17      </td><td>11      </td><td>39.08046</td><td>0.5     </td></tr>\n",
       "\t<tr><td>18      </td><td>11      </td><td>38.31418</td><td>0.5     </td></tr>\n",
       "\t<tr><td>19      </td><td>11      </td><td>37.93103</td><td>0.5     </td></tr>\n",
       "\t<tr><td>20      </td><td>11      </td><td>37.93103</td><td>0.5     </td></tr>\n",
       "\t<tr><td> 1      </td><td> 1      </td><td>46.41148</td><td>0.6     </td></tr>\n",
       "\t<tr><td> 2      </td><td> 2      </td><td>38.27751</td><td>0.6     </td></tr>\n",
       "\t<tr><td> 3      </td><td> 2      </td><td>43.06220</td><td>0.6     </td></tr>\n",
       "\t<tr><td> 4      </td><td> 4      </td><td>36.84211</td><td>0.6     </td></tr>\n",
       "\t<tr><td> 5      </td><td> 4      </td><td>41.62679</td><td>0.6     </td></tr>\n",
       "\t<tr><td> 6      </td><td> 4      </td><td>39.71292</td><td>0.6     </td></tr>\n",
       "\t<tr><td> 7      </td><td> 4      </td><td>43.06220</td><td>0.6     </td></tr>\n",
       "\t<tr><td> 8      </td><td> 4      </td><td>38.75598</td><td>0.6     </td></tr>\n",
       "\t<tr><td> 9      </td><td> 4      </td><td>43.06220</td><td>0.6     </td></tr>\n",
       "\t<tr><td>10      </td><td> 4      </td><td>38.75598</td><td>0.6     </td></tr>\n",
       "\t<tr><td>...</td><td>...</td><td>...</td><td>...</td></tr>\n",
       "\t<tr><td>11      </td><td>11      </td><td>40.00000</td><td>0.8     </td></tr>\n",
       "\t<tr><td>12      </td><td>11      </td><td>42.85714</td><td>0.8     </td></tr>\n",
       "\t<tr><td>13      </td><td>13      </td><td>39.04762</td><td>0.8     </td></tr>\n",
       "\t<tr><td>14      </td><td>13      </td><td>40.00000</td><td>0.8     </td></tr>\n",
       "\t<tr><td>15      </td><td>15      </td><td>38.09524</td><td>0.8     </td></tr>\n",
       "\t<tr><td>16      </td><td>15      </td><td>40.00000</td><td>0.8     </td></tr>\n",
       "\t<tr><td>17      </td><td>15      </td><td>39.04762</td><td>0.8     </td></tr>\n",
       "\t<tr><td>18      </td><td>18      </td><td>37.14286</td><td>0.8     </td></tr>\n",
       "\t<tr><td>19      </td><td>18      </td><td>39.04762</td><td>0.8     </td></tr>\n",
       "\t<tr><td>20      </td><td>18      </td><td>38.09524</td><td>0.8     </td></tr>\n",
       "\t<tr><td> 1      </td><td> 1      </td><td>37.73585</td><td>0.9     </td></tr>\n",
       "\t<tr><td> 2      </td><td> 2      </td><td>35.84906</td><td>0.9     </td></tr>\n",
       "\t<tr><td> 3      </td><td> 2      </td><td>37.73585</td><td>0.9     </td></tr>\n",
       "\t<tr><td> 4      </td><td> 4      </td><td>30.18868</td><td>0.9     </td></tr>\n",
       "\t<tr><td> 5      </td><td> 4      </td><td>33.96226</td><td>0.9     </td></tr>\n",
       "\t<tr><td> 6      </td><td> 4      </td><td>33.96226</td><td>0.9     </td></tr>\n",
       "\t<tr><td> 7      </td><td> 4      </td><td>39.62264</td><td>0.9     </td></tr>\n",
       "\t<tr><td> 8      </td><td> 4      </td><td>33.96226</td><td>0.9     </td></tr>\n",
       "\t<tr><td> 9      </td><td> 4      </td><td>35.84906</td><td>0.9     </td></tr>\n",
       "\t<tr><td>10      </td><td> 4      </td><td>30.18868</td><td>0.9     </td></tr>\n",
       "\t<tr><td>11      </td><td>11      </td><td>28.30189</td><td>0.9     </td></tr>\n",
       "\t<tr><td>12      </td><td>11      </td><td>30.18868</td><td>0.9     </td></tr>\n",
       "\t<tr><td>13      </td><td>11      </td><td>28.30189</td><td>0.9     </td></tr>\n",
       "\t<tr><td>14      </td><td>11      </td><td>30.18868</td><td>0.9     </td></tr>\n",
       "\t<tr><td>15      </td><td>11      </td><td>28.30189</td><td>0.9     </td></tr>\n",
       "\t<tr><td>16      </td><td>11      </td><td>30.18868</td><td>0.9     </td></tr>\n",
       "\t<tr><td>17      </td><td>11      </td><td>30.18868</td><td>0.9     </td></tr>\n",
       "\t<tr><td>18      </td><td>11      </td><td>30.18868</td><td>0.9     </td></tr>\n",
       "\t<tr><td>19      </td><td>11      </td><td>30.18868</td><td>0.9     </td></tr>\n",
       "\t<tr><td>20      </td><td>20      </td><td>26.41509</td><td>0.9     </td></tr>\n",
       "</tbody>\n",
       "</table>\n"
      ],
      "text/latex": [
       "\\begin{tabular}{r|llll}\n",
       " k & mink & misclassification.rate & train.size\\\\\n",
       "\\hline\n",
       "\t  1       &  1       & 43.67816 & 0.5     \\\\\n",
       "\t  2       &  2       & 42.14559 & 0.5     \\\\\n",
       "\t  3       &  2       & 45.59387 & 0.5     \\\\\n",
       "\t  4       &  2       & 42.14559 & 0.5     \\\\\n",
       "\t  5       &  2       & 47.89272 & 0.5     \\\\\n",
       "\t  6       &  2       & 43.67816 & 0.5     \\\\\n",
       "\t  7       &  2       & 43.29502 & 0.5     \\\\\n",
       "\t  8       &  8       & 40.22989 & 0.5     \\\\\n",
       "\t  9       &  8       & 42.52874 & 0.5     \\\\\n",
       "\t 10       & 10       & 38.31418 & 0.5     \\\\\n",
       "\t 11       & 11       & 37.93103 & 0.5     \\\\\n",
       "\t 12       & 11       & 38.69732 & 0.5     \\\\\n",
       "\t 13       & 11       & 39.08046 & 0.5     \\\\\n",
       "\t 14       & 11       & 38.31418 & 0.5     \\\\\n",
       "\t 15       & 11       & 37.93103 & 0.5     \\\\\n",
       "\t 16       & 11       & 38.31418 & 0.5     \\\\\n",
       "\t 17       & 11       & 39.08046 & 0.5     \\\\\n",
       "\t 18       & 11       & 38.31418 & 0.5     \\\\\n",
       "\t 19       & 11       & 37.93103 & 0.5     \\\\\n",
       "\t 20       & 11       & 37.93103 & 0.5     \\\\\n",
       "\t  1       &  1       & 46.41148 & 0.6     \\\\\n",
       "\t  2       &  2       & 38.27751 & 0.6     \\\\\n",
       "\t  3       &  2       & 43.06220 & 0.6     \\\\\n",
       "\t  4       &  4       & 36.84211 & 0.6     \\\\\n",
       "\t  5       &  4       & 41.62679 & 0.6     \\\\\n",
       "\t  6       &  4       & 39.71292 & 0.6     \\\\\n",
       "\t  7       &  4       & 43.06220 & 0.6     \\\\\n",
       "\t  8       &  4       & 38.75598 & 0.6     \\\\\n",
       "\t  9       &  4       & 43.06220 & 0.6     \\\\\n",
       "\t 10       &  4       & 38.75598 & 0.6     \\\\\n",
       "\t ... & ... & ... & ...\\\\\n",
       "\t 11       & 11       & 40.00000 & 0.8     \\\\\n",
       "\t 12       & 11       & 42.85714 & 0.8     \\\\\n",
       "\t 13       & 13       & 39.04762 & 0.8     \\\\\n",
       "\t 14       & 13       & 40.00000 & 0.8     \\\\\n",
       "\t 15       & 15       & 38.09524 & 0.8     \\\\\n",
       "\t 16       & 15       & 40.00000 & 0.8     \\\\\n",
       "\t 17       & 15       & 39.04762 & 0.8     \\\\\n",
       "\t 18       & 18       & 37.14286 & 0.8     \\\\\n",
       "\t 19       & 18       & 39.04762 & 0.8     \\\\\n",
       "\t 20       & 18       & 38.09524 & 0.8     \\\\\n",
       "\t  1       &  1       & 37.73585 & 0.9     \\\\\n",
       "\t  2       &  2       & 35.84906 & 0.9     \\\\\n",
       "\t  3       &  2       & 37.73585 & 0.9     \\\\\n",
       "\t  4       &  4       & 30.18868 & 0.9     \\\\\n",
       "\t  5       &  4       & 33.96226 & 0.9     \\\\\n",
       "\t  6       &  4       & 33.96226 & 0.9     \\\\\n",
       "\t  7       &  4       & 39.62264 & 0.9     \\\\\n",
       "\t  8       &  4       & 33.96226 & 0.9     \\\\\n",
       "\t  9       &  4       & 35.84906 & 0.9     \\\\\n",
       "\t 10       &  4       & 30.18868 & 0.9     \\\\\n",
       "\t 11       & 11       & 28.30189 & 0.9     \\\\\n",
       "\t 12       & 11       & 30.18868 & 0.9     \\\\\n",
       "\t 13       & 11       & 28.30189 & 0.9     \\\\\n",
       "\t 14       & 11       & 30.18868 & 0.9     \\\\\n",
       "\t 15       & 11       & 28.30189 & 0.9     \\\\\n",
       "\t 16       & 11       & 30.18868 & 0.9     \\\\\n",
       "\t 17       & 11       & 30.18868 & 0.9     \\\\\n",
       "\t 18       & 11       & 30.18868 & 0.9     \\\\\n",
       "\t 19       & 11       & 30.18868 & 0.9     \\\\\n",
       "\t 20       & 20       & 26.41509 & 0.9     \\\\\n",
       "\\end{tabular}\n"
      ],
      "text/markdown": [
       "\n",
       "k | mink | misclassification.rate | train.size | \n",
       "|---|---|---|---|---|---|---|---|---|---|---|---|---|---|---|---|---|---|---|---|---|---|---|---|---|---|---|---|---|---|---|---|---|---|---|---|---|---|---|---|---|---|---|---|---|---|---|---|---|---|---|---|---|---|---|---|---|---|---|---|---|\n",
       "|  1       |  1       | 43.67816 | 0.5      | \n",
       "|  2       |  2       | 42.14559 | 0.5      | \n",
       "|  3       |  2       | 45.59387 | 0.5      | \n",
       "|  4       |  2       | 42.14559 | 0.5      | \n",
       "|  5       |  2       | 47.89272 | 0.5      | \n",
       "|  6       |  2       | 43.67816 | 0.5      | \n",
       "|  7       |  2       | 43.29502 | 0.5      | \n",
       "|  8       |  8       | 40.22989 | 0.5      | \n",
       "|  9       |  8       | 42.52874 | 0.5      | \n",
       "| 10       | 10       | 38.31418 | 0.5      | \n",
       "| 11       | 11       | 37.93103 | 0.5      | \n",
       "| 12       | 11       | 38.69732 | 0.5      | \n",
       "| 13       | 11       | 39.08046 | 0.5      | \n",
       "| 14       | 11       | 38.31418 | 0.5      | \n",
       "| 15       | 11       | 37.93103 | 0.5      | \n",
       "| 16       | 11       | 38.31418 | 0.5      | \n",
       "| 17       | 11       | 39.08046 | 0.5      | \n",
       "| 18       | 11       | 38.31418 | 0.5      | \n",
       "| 19       | 11       | 37.93103 | 0.5      | \n",
       "| 20       | 11       | 37.93103 | 0.5      | \n",
       "|  1       |  1       | 46.41148 | 0.6      | \n",
       "|  2       |  2       | 38.27751 | 0.6      | \n",
       "|  3       |  2       | 43.06220 | 0.6      | \n",
       "|  4       |  4       | 36.84211 | 0.6      | \n",
       "|  5       |  4       | 41.62679 | 0.6      | \n",
       "|  6       |  4       | 39.71292 | 0.6      | \n",
       "|  7       |  4       | 43.06220 | 0.6      | \n",
       "|  8       |  4       | 38.75598 | 0.6      | \n",
       "|  9       |  4       | 43.06220 | 0.6      | \n",
       "| 10       |  4       | 38.75598 | 0.6      | \n",
       "| ... | ... | ... | ... | \n",
       "| 11       | 11       | 40.00000 | 0.8      | \n",
       "| 12       | 11       | 42.85714 | 0.8      | \n",
       "| 13       | 13       | 39.04762 | 0.8      | \n",
       "| 14       | 13       | 40.00000 | 0.8      | \n",
       "| 15       | 15       | 38.09524 | 0.8      | \n",
       "| 16       | 15       | 40.00000 | 0.8      | \n",
       "| 17       | 15       | 39.04762 | 0.8      | \n",
       "| 18       | 18       | 37.14286 | 0.8      | \n",
       "| 19       | 18       | 39.04762 | 0.8      | \n",
       "| 20       | 18       | 38.09524 | 0.8      | \n",
       "|  1       |  1       | 37.73585 | 0.9      | \n",
       "|  2       |  2       | 35.84906 | 0.9      | \n",
       "|  3       |  2       | 37.73585 | 0.9      | \n",
       "|  4       |  4       | 30.18868 | 0.9      | \n",
       "|  5       |  4       | 33.96226 | 0.9      | \n",
       "|  6       |  4       | 33.96226 | 0.9      | \n",
       "|  7       |  4       | 39.62264 | 0.9      | \n",
       "|  8       |  4       | 33.96226 | 0.9      | \n",
       "|  9       |  4       | 35.84906 | 0.9      | \n",
       "| 10       |  4       | 30.18868 | 0.9      | \n",
       "| 11       | 11       | 28.30189 | 0.9      | \n",
       "| 12       | 11       | 30.18868 | 0.9      | \n",
       "| 13       | 11       | 28.30189 | 0.9      | \n",
       "| 14       | 11       | 30.18868 | 0.9      | \n",
       "| 15       | 11       | 28.30189 | 0.9      | \n",
       "| 16       | 11       | 30.18868 | 0.9      | \n",
       "| 17       | 11       | 30.18868 | 0.9      | \n",
       "| 18       | 11       | 30.18868 | 0.9      | \n",
       "| 19       | 11       | 30.18868 | 0.9      | \n",
       "| 20       | 20       | 26.41509 | 0.9      | \n",
       "\n",
       "\n"
      ],
      "text/plain": [
       "    k   mink misclassification.rate train.size\n",
       "1    1   1   43.67816               0.5       \n",
       "2    2   2   42.14559               0.5       \n",
       "3    3   2   45.59387               0.5       \n",
       "4    4   2   42.14559               0.5       \n",
       "5    5   2   47.89272               0.5       \n",
       "6    6   2   43.67816               0.5       \n",
       "7    7   2   43.29502               0.5       \n",
       "8    8   8   40.22989               0.5       \n",
       "9    9   8   42.52874               0.5       \n",
       "10  10  10   38.31418               0.5       \n",
       "11  11  11   37.93103               0.5       \n",
       "12  12  11   38.69732               0.5       \n",
       "13  13  11   39.08046               0.5       \n",
       "14  14  11   38.31418               0.5       \n",
       "15  15  11   37.93103               0.5       \n",
       "16  16  11   38.31418               0.5       \n",
       "17  17  11   39.08046               0.5       \n",
       "18  18  11   38.31418               0.5       \n",
       "19  19  11   37.93103               0.5       \n",
       "20  20  11   37.93103               0.5       \n",
       "21   1   1   46.41148               0.6       \n",
       "22   2   2   38.27751               0.6       \n",
       "23   3   2   43.06220               0.6       \n",
       "24   4   4   36.84211               0.6       \n",
       "25   5   4   41.62679               0.6       \n",
       "26   6   4   39.71292               0.6       \n",
       "27   7   4   43.06220               0.6       \n",
       "28   8   4   38.75598               0.6       \n",
       "29   9   4   43.06220               0.6       \n",
       "30  10   4   38.75598               0.6       \n",
       "... ... ...  ...                    ...       \n",
       "71  11  11   40.00000               0.8       \n",
       "72  12  11   42.85714               0.8       \n",
       "73  13  13   39.04762               0.8       \n",
       "74  14  13   40.00000               0.8       \n",
       "75  15  15   38.09524               0.8       \n",
       "76  16  15   40.00000               0.8       \n",
       "77  17  15   39.04762               0.8       \n",
       "78  18  18   37.14286               0.8       \n",
       "79  19  18   39.04762               0.8       \n",
       "80  20  18   38.09524               0.8       \n",
       "81   1   1   37.73585               0.9       \n",
       "82   2   2   35.84906               0.9       \n",
       "83   3   2   37.73585               0.9       \n",
       "84   4   4   30.18868               0.9       \n",
       "85   5   4   33.96226               0.9       \n",
       "86   6   4   33.96226               0.9       \n",
       "87   7   4   39.62264               0.9       \n",
       "88   8   4   33.96226               0.9       \n",
       "89   9   4   35.84906               0.9       \n",
       "90  10   4   30.18868               0.9       \n",
       "91  11  11   28.30189               0.9       \n",
       "92  12  11   30.18868               0.9       \n",
       "93  13  11   28.30189               0.9       \n",
       "94  14  11   30.18868               0.9       \n",
       "95  15  11   28.30189               0.9       \n",
       "96  16  11   30.18868               0.9       \n",
       "97  17  11   30.18868               0.9       \n",
       "98  18  11   30.18868               0.9       \n",
       "99  19  11   30.18868               0.9       \n",
       "100 20  20   26.41509               0.9       "
      ]
     },
     "metadata": {},
     "output_type": "display_data"
    }
   ],
   "source": [
    "observation\n"
   ]
  },
  {
   "cell_type": "markdown",
   "metadata": {},
   "source": [
    "# Tabulating selected observations"
   ]
  },
  {
   "cell_type": "code",
   "execution_count": 60,
   "metadata": {
    "collapsed": false
   },
   "outputs": [
    {
     "data": {
      "text/html": [
       "<table>\n",
       "<thead><tr><th scope=col>mink</th><th scope=col>min.misclassification.rate</th><th scope=col>train.size</th></tr></thead>\n",
       "<tbody>\n",
       "\t<tr><td>11      </td><td>37.93103</td><td>0.5     </td></tr>\n",
       "\t<tr><td> 4      </td><td>36.84211</td><td>0.6     </td></tr>\n",
       "\t<tr><td>18      </td><td>31.84713</td><td>0.7     </td></tr>\n",
       "\t<tr><td>18      </td><td>37.14286</td><td>0.8     </td></tr>\n",
       "\t<tr><td>20      </td><td>26.41509</td><td>0.9     </td></tr>\n",
       "</tbody>\n",
       "</table>\n"
      ],
      "text/latex": [
       "\\begin{tabular}{r|lll}\n",
       " mink & min.misclassification.rate & train.size\\\\\n",
       "\\hline\n",
       "\t 11       & 37.93103 & 0.5     \\\\\n",
       "\t  4       & 36.84211 & 0.6     \\\\\n",
       "\t 18       & 31.84713 & 0.7     \\\\\n",
       "\t 18       & 37.14286 & 0.8     \\\\\n",
       "\t 20       & 26.41509 & 0.9     \\\\\n",
       "\\end{tabular}\n"
      ],
      "text/markdown": [
       "\n",
       "mink | min.misclassification.rate | train.size | \n",
       "|---|---|---|---|---|\n",
       "| 11       | 37.93103 | 0.5      | \n",
       "|  4       | 36.84211 | 0.6      | \n",
       "| 18       | 31.84713 | 0.7      | \n",
       "| 18       | 37.14286 | 0.8      | \n",
       "| 20       | 26.41509 | 0.9      | \n",
       "\n",
       "\n"
      ],
      "text/plain": [
       "  mink min.misclassification.rate train.size\n",
       "1 11   37.93103                   0.5       \n",
       "2  4   36.84211                   0.6       \n",
       "3 18   31.84713                   0.7       \n",
       "4 18   37.14286                   0.8       \n",
       "5 20   26.41509                   0.9       "
      ]
     },
     "metadata": {},
     "output_type": "display_data"
    }
   ],
   "source": [
    "minified.obs\n",
    "minified2=minified.obs"
   ]
  },
  {
   "cell_type": "markdown",
   "metadata": {},
   "source": [
    "# Observation 2 :"
   ]
  },
  {
   "cell_type": "markdown",
   "metadata": {},
   "source": [
    "## After applying normalization ,the misclassification rate fell to 26.4% for train size of 90% nd k=20.<br>\n",
    "Thus normalizaion is recommended. Without intutive normalization, best we could do was 34.28%"
   ]
  },
  {
   "cell_type": "markdown",
   "metadata": {},
   "source": [
    "# Normalization 2"
   ]
  },
  {
   "cell_type": "markdown",
   "metadata": {},
   "source": [
    "## II Trying out with min max normalization"
   ]
  },
  {
   "cell_type": "code",
   "execution_count": 61,
   "metadata": {
    "collapsed": true
   },
   "outputs": [],
   "source": [
    "normalize <- function(x) {\n",
    "    return ((x - min(x)) / (max(x) - min(x)))\n",
    "  }"
   ]
  },
  {
   "cell_type": "code",
   "execution_count": 62,
   "metadata": {
    "collapsed": false
   },
   "outputs": [
    {
     "data": {
      "text/html": [
       "<table>\n",
       "<thead><tr><th></th><th scope=col>x.</th><th scope=col>age</th><th scope=col>sex</th><th scope=col>job</th><th scope=col>housing</th><th scope=col>saving.accounts</th><th scope=col>checking.account</th><th scope=col>credit.amount</th><th scope=col>duration</th><th scope=col>purpose</th><th scope=col>credit.risks</th></tr></thead>\n",
       "<tbody>\n",
       "\t<tr><th scope=row>2</th><td> 1                 </td><td>22                 </td><td>female             </td><td>2                  </td><td>own                </td><td>little             </td><td>moderate           </td><td>5951               </td><td>48                 </td><td>radio/TV           </td><td>2                  </td></tr>\n",
       "\t<tr><th scope=row>4</th><td> 3                 </td><td>45                 </td><td>male               </td><td>2                  </td><td>free               </td><td>little             </td><td>little             </td><td>7882               </td><td>42                 </td><td>furniture/equipment</td><td>1                  </td></tr>\n",
       "\t<tr><th scope=row>5</th><td> 4                 </td><td>53                 </td><td>male               </td><td>2                  </td><td>free               </td><td>little             </td><td>little             </td><td>4870               </td><td>24                 </td><td>car                </td><td>2                  </td></tr>\n",
       "\t<tr><th scope=row>8</th><td> 7                 </td><td>35                 </td><td>male               </td><td>3                  </td><td>rent               </td><td>little             </td><td>moderate           </td><td>6948               </td><td>36                 </td><td>car                </td><td>1                  </td></tr>\n",
       "\t<tr><th scope=row>10</th><td> 9                 </td><td>28                 </td><td>male               </td><td>3                  </td><td>own                </td><td>little             </td><td>moderate           </td><td>5234               </td><td>30                 </td><td>car                </td><td>2                  </td></tr>\n",
       "\t<tr><th scope=row>11</th><td>10                 </td><td>25                 </td><td>female             </td><td>2                  </td><td>rent               </td><td>little             </td><td>moderate           </td><td>1295               </td><td>12                 </td><td>car                </td><td>2                  </td></tr>\n",
       "</tbody>\n",
       "</table>\n"
      ],
      "text/latex": [
       "\\begin{tabular}{r|lllllllllll}\n",
       "  & x. & age & sex & job & housing & saving.accounts & checking.account & credit.amount & duration & purpose & credit.risks\\\\\n",
       "\\hline\n",
       "\t2 &  1                  & 22                  & female              & 2                   & own                 & little              & moderate            & 5951                & 48                  & radio/TV            & 2                  \\\\\n",
       "\t4 &  3                  & 45                  & male                & 2                   & free                & little              & little              & 7882                & 42                  & furniture/equipment & 1                  \\\\\n",
       "\t5 &  4                  & 53                  & male                & 2                   & free                & little              & little              & 4870                & 24                  & car                 & 2                  \\\\\n",
       "\t8 &  7                  & 35                  & male                & 3                   & rent                & little              & moderate            & 6948                & 36                  & car                 & 1                  \\\\\n",
       "\t10 &  9                  & 28                  & male                & 3                   & own                 & little              & moderate            & 5234                & 30                  & car                 & 2                  \\\\\n",
       "\t11 & 10                  & 25                  & female              & 2                   & rent                & little              & moderate            & 1295                & 12                  & car                 & 2                  \\\\\n",
       "\\end{tabular}\n"
      ],
      "text/markdown": [
       "\n",
       "| <!--/--> | x. | age | sex | job | housing | saving.accounts | checking.account | credit.amount | duration | purpose | credit.risks | \n",
       "|---|---|---|---|---|---|\n",
       "| 2 |  1                  | 22                  | female              | 2                   | own                 | little              | moderate            | 5951                | 48                  | radio/TV            | 2                   | \n",
       "| 4 |  3                  | 45                  | male                | 2                   | free                | little              | little              | 7882                | 42                  | furniture/equipment | 1                   | \n",
       "| 5 |  4                  | 53                  | male                | 2                   | free                | little              | little              | 4870                | 24                  | car                 | 2                   | \n",
       "| 8 |  7                  | 35                  | male                | 3                   | rent                | little              | moderate            | 6948                | 36                  | car                 | 1                   | \n",
       "| 10 |  9                  | 28                  | male                | 3                   | own                 | little              | moderate            | 5234                | 30                  | car                 | 2                   | \n",
       "| 11 | 10                  | 25                  | female              | 2                   | rent                | little              | moderate            | 1295                | 12                  | car                 | 2                   | \n",
       "\n",
       "\n"
      ],
      "text/plain": [
       "   x. age sex    job housing saving.accounts checking.account credit.amount\n",
       "2   1 22  female 2   own     little          moderate         5951         \n",
       "4   3 45  male   2   free    little          little           7882         \n",
       "5   4 53  male   2   free    little          little           4870         \n",
       "8   7 35  male   3   rent    little          moderate         6948         \n",
       "10  9 28  male   3   own     little          moderate         5234         \n",
       "11 10 25  female 2   rent    little          moderate         1295         \n",
       "   duration purpose             credit.risks\n",
       "2  48       radio/TV            2           \n",
       "4  42       furniture/equipment 1           \n",
       "5  24       car                 2           \n",
       "8  36       car                 1           \n",
       "10 30       car                 2           \n",
       "11 12       car                 2           "
      ]
     },
     "metadata": {},
     "output_type": "display_data"
    }
   ],
   "source": [
    "credit.data.n2=credit.data\n",
    "head(credit.data.n2)"
   ]
  },
  {
   "cell_type": "code",
   "execution_count": 63,
   "metadata": {
    "collapsed": false
   },
   "outputs": [
    {
     "data": {
      "text/html": [
       "<table>\n",
       "<thead><tr><th scope=col>age</th><th scope=col>job</th><th scope=col>credit.amount</th><th scope=col>duration</th><th scope=col>credit.risks</th></tr></thead>\n",
       "<tbody>\n",
       "\t<tr><td>0.05357143</td><td>0.6666667 </td><td>0.31270663</td><td>0.63636364</td><td>2         </td></tr>\n",
       "\t<tr><td>0.46428571</td><td>0.6666667 </td><td>0.41910954</td><td>0.54545455</td><td>1         </td></tr>\n",
       "\t<tr><td>0.60714286</td><td>0.6666667 </td><td>0.25314084</td><td>0.27272727</td><td>2         </td></tr>\n",
       "\t<tr><td>0.28571429</td><td>1.0000000 </td><td>0.36764382</td><td>0.45454545</td><td>1         </td></tr>\n",
       "\t<tr><td>0.16071429</td><td>1.0000000 </td><td>0.27319815</td><td>0.36363636</td><td>2         </td></tr>\n",
       "\t<tr><td>0.10714286</td><td>0.6666667 </td><td>0.05614944</td><td>0.09090909</td><td>2         </td></tr>\n",
       "</tbody>\n",
       "</table>\n"
      ],
      "text/latex": [
       "\\begin{tabular}{r|lllll}\n",
       " age & job & credit.amount & duration & credit.risks\\\\\n",
       "\\hline\n",
       "\t 0.05357143 & 0.6666667  & 0.31270663 & 0.63636364 & 2         \\\\\n",
       "\t 0.46428571 & 0.6666667  & 0.41910954 & 0.54545455 & 1         \\\\\n",
       "\t 0.60714286 & 0.6666667  & 0.25314084 & 0.27272727 & 2         \\\\\n",
       "\t 0.28571429 & 1.0000000  & 0.36764382 & 0.45454545 & 1         \\\\\n",
       "\t 0.16071429 & 1.0000000  & 0.27319815 & 0.36363636 & 2         \\\\\n",
       "\t 0.10714286 & 0.6666667  & 0.05614944 & 0.09090909 & 2         \\\\\n",
       "\\end{tabular}\n"
      ],
      "text/markdown": [
       "\n",
       "age | job | credit.amount | duration | credit.risks | \n",
       "|---|---|---|---|---|---|\n",
       "| 0.05357143 | 0.6666667  | 0.31270663 | 0.63636364 | 2          | \n",
       "| 0.46428571 | 0.6666667  | 0.41910954 | 0.54545455 | 1          | \n",
       "| 0.60714286 | 0.6666667  | 0.25314084 | 0.27272727 | 2          | \n",
       "| 0.28571429 | 1.0000000  | 0.36764382 | 0.45454545 | 1          | \n",
       "| 0.16071429 | 1.0000000  | 0.27319815 | 0.36363636 | 2          | \n",
       "| 0.10714286 | 0.6666667  | 0.05614944 | 0.09090909 | 2          | \n",
       "\n",
       "\n"
      ],
      "text/plain": [
       "  age        job       credit.amount duration   credit.risks\n",
       "1 0.05357143 0.6666667 0.31270663    0.63636364 2           \n",
       "2 0.46428571 0.6666667 0.41910954    0.54545455 1           \n",
       "3 0.60714286 0.6666667 0.25314084    0.27272727 2           \n",
       "4 0.28571429 1.0000000 0.36764382    0.45454545 1           \n",
       "5 0.16071429 1.0000000 0.27319815    0.36363636 2           \n",
       "6 0.10714286 0.6666667 0.05614944    0.09090909 2           "
      ]
     },
     "metadata": {},
     "output_type": "display_data"
    }
   ],
   "source": [
    "credit.data.n2.fl <- subset(credit.data.n2[, ], select = c(age,job,credit.amount,duration,credit.risks))\n",
    "credit.data.n2.fl=as.data.frame(lapply(credit.data.n2.fl[,1:4], normalize))#Normalize alll feature except label\n",
    "credit.data.n2.fl$credit.risks=credit.data.n2$credit.risks\n",
    "head(credit.data.n2.fl)"
   ]
  },
  {
   "cell_type": "markdown",
   "metadata": {},
   "source": [
    "### Running knn for k=3 sample size = 0.8  after normalizing the data"
   ]
  },
  {
   "cell_type": "code",
   "execution_count": 70,
   "metadata": {
    "collapsed": false
   },
   "outputs": [
    {
     "data": {
      "text/html": [
       "40.9523809523809"
      ],
      "text/latex": [
       "40.9523809523809"
      ],
      "text/markdown": [
       "40.9523809523809"
      ],
      "text/plain": [
       "[1] 40.95238"
      ]
     },
     "metadata": {},
     "output_type": "display_data"
    }
   ],
   "source": [
    "train.data <- subset(credit.data.n2.fl[train.rows, ], select = c(age,job,credit.amount,duration))\n",
    "train.labels <- credit.data.n2.fl$credit.risks[train.rows]\n",
    "test.rows=setdiff(1:n.points, train.rows) \n",
    "test.data <- subset(credit.data.n2.fl[test.rows, ], select = c(age,job,credit.amount,duration))\n",
    "test.labels <- credit.data.n2.fl$credit.risks[test.rows]\n",
    "predicted.labels=knn(train.data, test.data,train.labels, k=3) \n",
    " num.incorrect.labels <- sum(predicted.labels != test.labels) \n",
    "(num.incorrect.labels/length(test.rows))*100"
   ]
  },
  {
   "cell_type": "markdown",
   "metadata": {},
   "source": [
    "#### We get a misclassification rate of 40% after min max normalization. Which dosent prove to be of much benifit"
   ]
  },
  {
   "cell_type": "markdown",
   "metadata": {},
   "source": [
    " "
   ]
  },
  {
   "cell_type": "markdown",
   "metadata": {},
   "source": [
    "### We create a function to perform knn for sample size ranging from 0.5 to 0.9 with a step size of 0.1 and k taking value from 1 to 20 for each sample size on data which is normalized using Min Max normalization"
   ]
  },
  {
   "cell_type": "code",
   "execution_count": 71,
   "metadata": {
    "collapsed": true
   },
   "outputs": [],
   "source": [
    "\n",
    "knnFun<-function(sampling.rate,n.points,observation,minified.obs){\n",
    "    credit.data.test.count<-n.points * (1 - sampling.rate)\n",
    "    train.rows=sample(1:n.points, sampling.rate * n.points,replace=FALSE)\n",
    "    train.data <- subset(credit.data.n2.fl[train.rows, ], select = c(age,job,credit.amount,duration))\n",
    "#     train.data.normalized=as.data.frame(lapply(train.data[,], normalize))#***********************\n",
    "    train.labels <- credit.data.n2.fl$credit.risks[train.rows]\n",
    "    test.rows=setdiff(1:n.points, train.rows) \n",
    "    test.data <- subset(credit.data.n2.fl[test.rows, ], select = c(age,job,credit.amount,duration))\n",
    "#     test.data.normalized=as.data.frame(lapply(test.data[,], normalize))#*********************\n",
    "    test.labels <- credit.data.n2.fl$credit.risks[test.rows]\n",
    "    \n",
    "    min=100.00000\n",
    "    selected.k=1\n",
    "    for (k in 1:20) {\n",
    "        predicted.labels=knn(train.data, test.data,train.labels, k) \n",
    "        num.incorrect.labels <- sum(predicted.labels != test.labels) \n",
    "        missclafication.rate=(num.incorrect.labels/length(test.rows))*100\n",
    "#         print(c(k,missclafication.rate))\n",
    "            if(as.numeric(min) > as.numeric(missclafication.rate)) {\n",
    "              min <- missclafication.rate\n",
    "              selected.k=k\n",
    "            }\n",
    "        result=data.frame(k=k,mink=selected.k,misclassification.rate=missclafication.rate,train.size=sampling.rate)\n",
    "        observation <- rbind(observation, result)\n",
    "        }\n",
    "#     sprintf(\"K= %f gives minimum misclaffication rate of %f fro sampling ratio of %f and %f\", k, missclafication.rate,sampling.rate*100,(1-sampling.rate)*100)\n",
    "        result2=data.frame(mink=selected.k,min.misclassification.rate=min,train.size=sampling.rate)\n",
    "        minified.obs <- rbind(minified.obs, result2)\n",
    "    return(list(observation,minified.obs))\n",
    "}\n",
    "\n"
   ]
  },
  {
   "cell_type": "code",
   "execution_count": 72,
   "metadata": {
    "collapsed": false
   },
   "outputs": [],
   "source": [
    "n.points <- nrow(credit.data)\n",
    "# sampling.rate <- 0.7\n",
    "minified.obs=data.frame(mink=double(),min.misclassification.rate=double(),train.size=double())\n",
    "observation=data.frame(k=double(),mink=double(),misclassification.rate=double(),train.size=double(),minified.obs)\n",
    "for(i in seq(0.5, 0.9, by = 0.1)){\n",
    "#     sprintf(\"%f rate\",i)\n",
    "     \n",
    "    x=knnFun(sampling.rate=i,n.points=nrow(credit.data),observation=observation,minified.obs)\n",
    "    observation=data.frame(x[1])\n",
    "    minified.obs=data.frame(x[2])\n",
    "}"
   ]
  },
  {
   "cell_type": "code",
   "execution_count": 73,
   "metadata": {
    "collapsed": false
   },
   "outputs": [
    {
     "data": {
      "text/html": [
       "<table>\n",
       "<thead><tr><th scope=col>k</th><th scope=col>mink</th><th scope=col>misclassification.rate</th><th scope=col>train.size</th></tr></thead>\n",
       "<tbody>\n",
       "\t<tr><td> 1      </td><td> 1      </td><td>43.29502</td><td>0.5     </td></tr>\n",
       "\t<tr><td> 2      </td><td> 2      </td><td>39.08046</td><td>0.5     </td></tr>\n",
       "\t<tr><td> 3      </td><td> 2      </td><td>42.91188</td><td>0.5     </td></tr>\n",
       "\t<tr><td> 4      </td><td> 2      </td><td>41.37931</td><td>0.5     </td></tr>\n",
       "\t<tr><td> 5      </td><td> 2      </td><td>44.44444</td><td>0.5     </td></tr>\n",
       "\t<tr><td> 6      </td><td> 2      </td><td>41.76245</td><td>0.5     </td></tr>\n",
       "\t<tr><td> 7      </td><td> 2      </td><td>43.67816</td><td>0.5     </td></tr>\n",
       "\t<tr><td> 8      </td><td> 8      </td><td>38.31418</td><td>0.5     </td></tr>\n",
       "\t<tr><td> 9      </td><td> 8      </td><td>38.31418</td><td>0.5     </td></tr>\n",
       "\t<tr><td>10      </td><td>10      </td><td>35.63218</td><td>0.5     </td></tr>\n",
       "\t<tr><td>11      </td><td>11      </td><td>34.09962</td><td>0.5     </td></tr>\n",
       "\t<tr><td>12      </td><td>11      </td><td>36.01533</td><td>0.5     </td></tr>\n",
       "\t<tr><td>13      </td><td>11      </td><td>34.86590</td><td>0.5     </td></tr>\n",
       "\t<tr><td>14      </td><td>11      </td><td>35.24904</td><td>0.5     </td></tr>\n",
       "\t<tr><td>15      </td><td>15      </td><td>33.71648</td><td>0.5     </td></tr>\n",
       "\t<tr><td>16      </td><td>16      </td><td>32.95019</td><td>0.5     </td></tr>\n",
       "\t<tr><td>17      </td><td>16      </td><td>33.33333</td><td>0.5     </td></tr>\n",
       "\t<tr><td>18      </td><td>16      </td><td>33.71648</td><td>0.5     </td></tr>\n",
       "\t<tr><td>19      </td><td>16      </td><td>32.95019</td><td>0.5     </td></tr>\n",
       "\t<tr><td>20      </td><td>16      </td><td>34.09962</td><td>0.5     </td></tr>\n",
       "\t<tr><td> 1      </td><td> 1      </td><td>44.49761</td><td>0.6     </td></tr>\n",
       "\t<tr><td> 2      </td><td> 2      </td><td>41.62679</td><td>0.6     </td></tr>\n",
       "\t<tr><td> 3      </td><td> 3      </td><td>41.14833</td><td>0.6     </td></tr>\n",
       "\t<tr><td> 4      </td><td> 4      </td><td>39.71292</td><td>0.6     </td></tr>\n",
       "\t<tr><td> 5      </td><td> 4      </td><td>41.62679</td><td>0.6     </td></tr>\n",
       "\t<tr><td> 6      </td><td> 6      </td><td>37.79904</td><td>0.6     </td></tr>\n",
       "\t<tr><td> 7      </td><td> 6      </td><td>37.79904</td><td>0.6     </td></tr>\n",
       "\t<tr><td> 8      </td><td> 8      </td><td>37.32057</td><td>0.6     </td></tr>\n",
       "\t<tr><td> 9      </td><td> 9      </td><td>35.40670</td><td>0.6     </td></tr>\n",
       "\t<tr><td>10      </td><td> 9      </td><td>37.32057</td><td>0.6     </td></tr>\n",
       "\t<tr><td>...</td><td>...</td><td>...</td><td>...</td></tr>\n",
       "\t<tr><td>11      </td><td> 1      </td><td>47.61905</td><td>0.8     </td></tr>\n",
       "\t<tr><td>12      </td><td> 1      </td><td>44.76190</td><td>0.8     </td></tr>\n",
       "\t<tr><td>13      </td><td>13      </td><td>41.90476</td><td>0.8     </td></tr>\n",
       "\t<tr><td>14      </td><td>13      </td><td>41.90476</td><td>0.8     </td></tr>\n",
       "\t<tr><td>15      </td><td>13      </td><td>43.80952</td><td>0.8     </td></tr>\n",
       "\t<tr><td>16      </td><td>16      </td><td>37.14286</td><td>0.8     </td></tr>\n",
       "\t<tr><td>17      </td><td>17      </td><td>35.23810</td><td>0.8     </td></tr>\n",
       "\t<tr><td>18      </td><td>17      </td><td>37.14286</td><td>0.8     </td></tr>\n",
       "\t<tr><td>19      </td><td>17      </td><td>36.19048</td><td>0.8     </td></tr>\n",
       "\t<tr><td>20      </td><td>17      </td><td>38.09524</td><td>0.8     </td></tr>\n",
       "\t<tr><td> 1      </td><td> 1      </td><td>60.37736</td><td>0.9     </td></tr>\n",
       "\t<tr><td> 2      </td><td> 2      </td><td>45.28302</td><td>0.9     </td></tr>\n",
       "\t<tr><td> 3      </td><td> 3      </td><td>43.39623</td><td>0.9     </td></tr>\n",
       "\t<tr><td> 4      </td><td> 3      </td><td>43.39623</td><td>0.9     </td></tr>\n",
       "\t<tr><td> 5      </td><td> 3      </td><td>50.94340</td><td>0.9     </td></tr>\n",
       "\t<tr><td> 6      </td><td> 3      </td><td>50.94340</td><td>0.9     </td></tr>\n",
       "\t<tr><td> 7      </td><td> 3      </td><td>52.83019</td><td>0.9     </td></tr>\n",
       "\t<tr><td> 8      </td><td> 3      </td><td>58.49057</td><td>0.9     </td></tr>\n",
       "\t<tr><td> 9      </td><td> 3      </td><td>54.71698</td><td>0.9     </td></tr>\n",
       "\t<tr><td>10      </td><td> 3      </td><td>52.83019</td><td>0.9     </td></tr>\n",
       "\t<tr><td>11      </td><td> 3      </td><td>47.16981</td><td>0.9     </td></tr>\n",
       "\t<tr><td>12      </td><td> 3      </td><td>45.28302</td><td>0.9     </td></tr>\n",
       "\t<tr><td>13      </td><td> 3      </td><td>45.28302</td><td>0.9     </td></tr>\n",
       "\t<tr><td>14      </td><td> 3      </td><td>49.05660</td><td>0.9     </td></tr>\n",
       "\t<tr><td>15      </td><td> 3      </td><td>45.28302</td><td>0.9     </td></tr>\n",
       "\t<tr><td>16      </td><td> 3      </td><td>43.39623</td><td>0.9     </td></tr>\n",
       "\t<tr><td>17      </td><td> 3      </td><td>43.39623</td><td>0.9     </td></tr>\n",
       "\t<tr><td>18      </td><td>18      </td><td>41.50943</td><td>0.9     </td></tr>\n",
       "\t<tr><td>19      </td><td>18      </td><td>45.28302</td><td>0.9     </td></tr>\n",
       "\t<tr><td>20      </td><td>18      </td><td>41.50943</td><td>0.9     </td></tr>\n",
       "</tbody>\n",
       "</table>\n"
      ],
      "text/latex": [
       "\\begin{tabular}{r|llll}\n",
       " k & mink & misclassification.rate & train.size\\\\\n",
       "\\hline\n",
       "\t  1       &  1       & 43.29502 & 0.5     \\\\\n",
       "\t  2       &  2       & 39.08046 & 0.5     \\\\\n",
       "\t  3       &  2       & 42.91188 & 0.5     \\\\\n",
       "\t  4       &  2       & 41.37931 & 0.5     \\\\\n",
       "\t  5       &  2       & 44.44444 & 0.5     \\\\\n",
       "\t  6       &  2       & 41.76245 & 0.5     \\\\\n",
       "\t  7       &  2       & 43.67816 & 0.5     \\\\\n",
       "\t  8       &  8       & 38.31418 & 0.5     \\\\\n",
       "\t  9       &  8       & 38.31418 & 0.5     \\\\\n",
       "\t 10       & 10       & 35.63218 & 0.5     \\\\\n",
       "\t 11       & 11       & 34.09962 & 0.5     \\\\\n",
       "\t 12       & 11       & 36.01533 & 0.5     \\\\\n",
       "\t 13       & 11       & 34.86590 & 0.5     \\\\\n",
       "\t 14       & 11       & 35.24904 & 0.5     \\\\\n",
       "\t 15       & 15       & 33.71648 & 0.5     \\\\\n",
       "\t 16       & 16       & 32.95019 & 0.5     \\\\\n",
       "\t 17       & 16       & 33.33333 & 0.5     \\\\\n",
       "\t 18       & 16       & 33.71648 & 0.5     \\\\\n",
       "\t 19       & 16       & 32.95019 & 0.5     \\\\\n",
       "\t 20       & 16       & 34.09962 & 0.5     \\\\\n",
       "\t  1       &  1       & 44.49761 & 0.6     \\\\\n",
       "\t  2       &  2       & 41.62679 & 0.6     \\\\\n",
       "\t  3       &  3       & 41.14833 & 0.6     \\\\\n",
       "\t  4       &  4       & 39.71292 & 0.6     \\\\\n",
       "\t  5       &  4       & 41.62679 & 0.6     \\\\\n",
       "\t  6       &  6       & 37.79904 & 0.6     \\\\\n",
       "\t  7       &  6       & 37.79904 & 0.6     \\\\\n",
       "\t  8       &  8       & 37.32057 & 0.6     \\\\\n",
       "\t  9       &  9       & 35.40670 & 0.6     \\\\\n",
       "\t 10       &  9       & 37.32057 & 0.6     \\\\\n",
       "\t ... & ... & ... & ...\\\\\n",
       "\t 11       &  1       & 47.61905 & 0.8     \\\\\n",
       "\t 12       &  1       & 44.76190 & 0.8     \\\\\n",
       "\t 13       & 13       & 41.90476 & 0.8     \\\\\n",
       "\t 14       & 13       & 41.90476 & 0.8     \\\\\n",
       "\t 15       & 13       & 43.80952 & 0.8     \\\\\n",
       "\t 16       & 16       & 37.14286 & 0.8     \\\\\n",
       "\t 17       & 17       & 35.23810 & 0.8     \\\\\n",
       "\t 18       & 17       & 37.14286 & 0.8     \\\\\n",
       "\t 19       & 17       & 36.19048 & 0.8     \\\\\n",
       "\t 20       & 17       & 38.09524 & 0.8     \\\\\n",
       "\t  1       &  1       & 60.37736 & 0.9     \\\\\n",
       "\t  2       &  2       & 45.28302 & 0.9     \\\\\n",
       "\t  3       &  3       & 43.39623 & 0.9     \\\\\n",
       "\t  4       &  3       & 43.39623 & 0.9     \\\\\n",
       "\t  5       &  3       & 50.94340 & 0.9     \\\\\n",
       "\t  6       &  3       & 50.94340 & 0.9     \\\\\n",
       "\t  7       &  3       & 52.83019 & 0.9     \\\\\n",
       "\t  8       &  3       & 58.49057 & 0.9     \\\\\n",
       "\t  9       &  3       & 54.71698 & 0.9     \\\\\n",
       "\t 10       &  3       & 52.83019 & 0.9     \\\\\n",
       "\t 11       &  3       & 47.16981 & 0.9     \\\\\n",
       "\t 12       &  3       & 45.28302 & 0.9     \\\\\n",
       "\t 13       &  3       & 45.28302 & 0.9     \\\\\n",
       "\t 14       &  3       & 49.05660 & 0.9     \\\\\n",
       "\t 15       &  3       & 45.28302 & 0.9     \\\\\n",
       "\t 16       &  3       & 43.39623 & 0.9     \\\\\n",
       "\t 17       &  3       & 43.39623 & 0.9     \\\\\n",
       "\t 18       & 18       & 41.50943 & 0.9     \\\\\n",
       "\t 19       & 18       & 45.28302 & 0.9     \\\\\n",
       "\t 20       & 18       & 41.50943 & 0.9     \\\\\n",
       "\\end{tabular}\n"
      ],
      "text/markdown": [
       "\n",
       "k | mink | misclassification.rate | train.size | \n",
       "|---|---|---|---|---|---|---|---|---|---|---|---|---|---|---|---|---|---|---|---|---|---|---|---|---|---|---|---|---|---|---|---|---|---|---|---|---|---|---|---|---|---|---|---|---|---|---|---|---|---|---|---|---|---|---|---|---|---|---|---|---|\n",
       "|  1       |  1       | 43.29502 | 0.5      | \n",
       "|  2       |  2       | 39.08046 | 0.5      | \n",
       "|  3       |  2       | 42.91188 | 0.5      | \n",
       "|  4       |  2       | 41.37931 | 0.5      | \n",
       "|  5       |  2       | 44.44444 | 0.5      | \n",
       "|  6       |  2       | 41.76245 | 0.5      | \n",
       "|  7       |  2       | 43.67816 | 0.5      | \n",
       "|  8       |  8       | 38.31418 | 0.5      | \n",
       "|  9       |  8       | 38.31418 | 0.5      | \n",
       "| 10       | 10       | 35.63218 | 0.5      | \n",
       "| 11       | 11       | 34.09962 | 0.5      | \n",
       "| 12       | 11       | 36.01533 | 0.5      | \n",
       "| 13       | 11       | 34.86590 | 0.5      | \n",
       "| 14       | 11       | 35.24904 | 0.5      | \n",
       "| 15       | 15       | 33.71648 | 0.5      | \n",
       "| 16       | 16       | 32.95019 | 0.5      | \n",
       "| 17       | 16       | 33.33333 | 0.5      | \n",
       "| 18       | 16       | 33.71648 | 0.5      | \n",
       "| 19       | 16       | 32.95019 | 0.5      | \n",
       "| 20       | 16       | 34.09962 | 0.5      | \n",
       "|  1       |  1       | 44.49761 | 0.6      | \n",
       "|  2       |  2       | 41.62679 | 0.6      | \n",
       "|  3       |  3       | 41.14833 | 0.6      | \n",
       "|  4       |  4       | 39.71292 | 0.6      | \n",
       "|  5       |  4       | 41.62679 | 0.6      | \n",
       "|  6       |  6       | 37.79904 | 0.6      | \n",
       "|  7       |  6       | 37.79904 | 0.6      | \n",
       "|  8       |  8       | 37.32057 | 0.6      | \n",
       "|  9       |  9       | 35.40670 | 0.6      | \n",
       "| 10       |  9       | 37.32057 | 0.6      | \n",
       "| ... | ... | ... | ... | \n",
       "| 11       |  1       | 47.61905 | 0.8      | \n",
       "| 12       |  1       | 44.76190 | 0.8      | \n",
       "| 13       | 13       | 41.90476 | 0.8      | \n",
       "| 14       | 13       | 41.90476 | 0.8      | \n",
       "| 15       | 13       | 43.80952 | 0.8      | \n",
       "| 16       | 16       | 37.14286 | 0.8      | \n",
       "| 17       | 17       | 35.23810 | 0.8      | \n",
       "| 18       | 17       | 37.14286 | 0.8      | \n",
       "| 19       | 17       | 36.19048 | 0.8      | \n",
       "| 20       | 17       | 38.09524 | 0.8      | \n",
       "|  1       |  1       | 60.37736 | 0.9      | \n",
       "|  2       |  2       | 45.28302 | 0.9      | \n",
       "|  3       |  3       | 43.39623 | 0.9      | \n",
       "|  4       |  3       | 43.39623 | 0.9      | \n",
       "|  5       |  3       | 50.94340 | 0.9      | \n",
       "|  6       |  3       | 50.94340 | 0.9      | \n",
       "|  7       |  3       | 52.83019 | 0.9      | \n",
       "|  8       |  3       | 58.49057 | 0.9      | \n",
       "|  9       |  3       | 54.71698 | 0.9      | \n",
       "| 10       |  3       | 52.83019 | 0.9      | \n",
       "| 11       |  3       | 47.16981 | 0.9      | \n",
       "| 12       |  3       | 45.28302 | 0.9      | \n",
       "| 13       |  3       | 45.28302 | 0.9      | \n",
       "| 14       |  3       | 49.05660 | 0.9      | \n",
       "| 15       |  3       | 45.28302 | 0.9      | \n",
       "| 16       |  3       | 43.39623 | 0.9      | \n",
       "| 17       |  3       | 43.39623 | 0.9      | \n",
       "| 18       | 18       | 41.50943 | 0.9      | \n",
       "| 19       | 18       | 45.28302 | 0.9      | \n",
       "| 20       | 18       | 41.50943 | 0.9      | \n",
       "\n",
       "\n"
      ],
      "text/plain": [
       "    k   mink misclassification.rate train.size\n",
       "1    1   1   43.29502               0.5       \n",
       "2    2   2   39.08046               0.5       \n",
       "3    3   2   42.91188               0.5       \n",
       "4    4   2   41.37931               0.5       \n",
       "5    5   2   44.44444               0.5       \n",
       "6    6   2   41.76245               0.5       \n",
       "7    7   2   43.67816               0.5       \n",
       "8    8   8   38.31418               0.5       \n",
       "9    9   8   38.31418               0.5       \n",
       "10  10  10   35.63218               0.5       \n",
       "11  11  11   34.09962               0.5       \n",
       "12  12  11   36.01533               0.5       \n",
       "13  13  11   34.86590               0.5       \n",
       "14  14  11   35.24904               0.5       \n",
       "15  15  15   33.71648               0.5       \n",
       "16  16  16   32.95019               0.5       \n",
       "17  17  16   33.33333               0.5       \n",
       "18  18  16   33.71648               0.5       \n",
       "19  19  16   32.95019               0.5       \n",
       "20  20  16   34.09962               0.5       \n",
       "21   1   1   44.49761               0.6       \n",
       "22   2   2   41.62679               0.6       \n",
       "23   3   3   41.14833               0.6       \n",
       "24   4   4   39.71292               0.6       \n",
       "25   5   4   41.62679               0.6       \n",
       "26   6   6   37.79904               0.6       \n",
       "27   7   6   37.79904               0.6       \n",
       "28   8   8   37.32057               0.6       \n",
       "29   9   9   35.40670               0.6       \n",
       "30  10   9   37.32057               0.6       \n",
       "... ... ...  ...                    ...       \n",
       "71  11   1   47.61905               0.8       \n",
       "72  12   1   44.76190               0.8       \n",
       "73  13  13   41.90476               0.8       \n",
       "74  14  13   41.90476               0.8       \n",
       "75  15  13   43.80952               0.8       \n",
       "76  16  16   37.14286               0.8       \n",
       "77  17  17   35.23810               0.8       \n",
       "78  18  17   37.14286               0.8       \n",
       "79  19  17   36.19048               0.8       \n",
       "80  20  17   38.09524               0.8       \n",
       "81   1   1   60.37736               0.9       \n",
       "82   2   2   45.28302               0.9       \n",
       "83   3   3   43.39623               0.9       \n",
       "84   4   3   43.39623               0.9       \n",
       "85   5   3   50.94340               0.9       \n",
       "86   6   3   50.94340               0.9       \n",
       "87   7   3   52.83019               0.9       \n",
       "88   8   3   58.49057               0.9       \n",
       "89   9   3   54.71698               0.9       \n",
       "90  10   3   52.83019               0.9       \n",
       "91  11   3   47.16981               0.9       \n",
       "92  12   3   45.28302               0.9       \n",
       "93  13   3   45.28302               0.9       \n",
       "94  14   3   49.05660               0.9       \n",
       "95  15   3   45.28302               0.9       \n",
       "96  16   3   43.39623               0.9       \n",
       "97  17   3   43.39623               0.9       \n",
       "98  18  18   41.50943               0.9       \n",
       "99  19  18   45.28302               0.9       \n",
       "100 20  18   41.50943               0.9       "
      ]
     },
     "metadata": {},
     "output_type": "display_data"
    }
   ],
   "source": [
    "observation"
   ]
  },
  {
   "cell_type": "code",
   "execution_count": 74,
   "metadata": {
    "collapsed": false
   },
   "outputs": [
    {
     "data": {
      "text/html": [
       "<table>\n",
       "<thead><tr><th scope=col>mink</th><th scope=col>min.misclassification.rate</th><th scope=col>train.size</th></tr></thead>\n",
       "<tbody>\n",
       "\t<tr><td>16      </td><td>32.95019</td><td>0.5     </td></tr>\n",
       "\t<tr><td> 9      </td><td>35.40670</td><td>0.6     </td></tr>\n",
       "\t<tr><td>18      </td><td>36.94268</td><td>0.7     </td></tr>\n",
       "\t<tr><td>17      </td><td>35.23810</td><td>0.8     </td></tr>\n",
       "\t<tr><td>18      </td><td>41.50943</td><td>0.9     </td></tr>\n",
       "</tbody>\n",
       "</table>\n"
      ],
      "text/latex": [
       "\\begin{tabular}{r|lll}\n",
       " mink & min.misclassification.rate & train.size\\\\\n",
       "\\hline\n",
       "\t 16       & 32.95019 & 0.5     \\\\\n",
       "\t  9       & 35.40670 & 0.6     \\\\\n",
       "\t 18       & 36.94268 & 0.7     \\\\\n",
       "\t 17       & 35.23810 & 0.8     \\\\\n",
       "\t 18       & 41.50943 & 0.9     \\\\\n",
       "\\end{tabular}\n"
      ],
      "text/markdown": [
       "\n",
       "mink | min.misclassification.rate | train.size | \n",
       "|---|---|---|---|---|\n",
       "| 16       | 32.95019 | 0.5      | \n",
       "|  9       | 35.40670 | 0.6      | \n",
       "| 18       | 36.94268 | 0.7      | \n",
       "| 17       | 35.23810 | 0.8      | \n",
       "| 18       | 41.50943 | 0.9      | \n",
       "\n",
       "\n"
      ],
      "text/plain": [
       "  mink min.misclassification.rate train.size\n",
       "1 16   32.95019                   0.5       \n",
       "2  9   35.40670                   0.6       \n",
       "3 18   36.94268                   0.7       \n",
       "4 17   35.23810                   0.8       \n",
       "5 18   41.50943                   0.9       "
      ]
     },
     "metadata": {},
     "output_type": "display_data"
    }
   ],
   "source": [
    "minified.obs\n",
    "minified3=minified.obs"
   ]
  },
  {
   "cell_type": "markdown",
   "metadata": {},
   "source": [
    "# Observation 3: \n"
   ]
  },
  {
   "cell_type": "markdown",
   "metadata": {},
   "source": [
    "### Applying the min max algorithm for normalization didnot help much. Best we could do was 32.9% with k=16 and sample size of 50%."
   ]
  },
  {
   "cell_type": "code",
   "execution_count": 76,
   "metadata": {
    "collapsed": false
   },
   "outputs": [
    {
     "name": "stdout",
     "output_type": "stream",
     "text": [
      "[1] \"Minimum value of k that gives minimum missclassification rate for a particular sample size on data with no normalization\"\n",
      "[1] \"-------------------------------------------------------------------------------------------------------\"\n"
     ]
    },
    {
     "data": {
      "text/html": [
       "<table>\n",
       "<thead><tr><th scope=col>mink</th><th scope=col>min.misclassification.rate</th><th scope=col>train.size</th></tr></thead>\n",
       "<tbody>\n",
       "\t<tr><td> 8      </td><td>39.08046</td><td>0.5     </td></tr>\n",
       "\t<tr><td>12      </td><td>36.36364</td><td>0.6     </td></tr>\n",
       "\t<tr><td>11      </td><td>35.03185</td><td>0.7     </td></tr>\n",
       "\t<tr><td> 5      </td><td>34.28571</td><td>0.8     </td></tr>\n",
       "\t<tr><td>20      </td><td>35.84906</td><td>0.9     </td></tr>\n",
       "</tbody>\n",
       "</table>\n"
      ],
      "text/latex": [
       "\\begin{tabular}{r|lll}\n",
       " mink & min.misclassification.rate & train.size\\\\\n",
       "\\hline\n",
       "\t  8       & 39.08046 & 0.5     \\\\\n",
       "\t 12       & 36.36364 & 0.6     \\\\\n",
       "\t 11       & 35.03185 & 0.7     \\\\\n",
       "\t  5       & 34.28571 & 0.8     \\\\\n",
       "\t 20       & 35.84906 & 0.9     \\\\\n",
       "\\end{tabular}\n"
      ],
      "text/markdown": [
       "\n",
       "mink | min.misclassification.rate | train.size | \n",
       "|---|---|---|---|---|\n",
       "|  8       | 39.08046 | 0.5      | \n",
       "| 12       | 36.36364 | 0.6      | \n",
       "| 11       | 35.03185 | 0.7      | \n",
       "|  5       | 34.28571 | 0.8      | \n",
       "| 20       | 35.84906 | 0.9      | \n",
       "\n",
       "\n"
      ],
      "text/plain": [
       "  mink min.misclassification.rate train.size\n",
       "1  8   39.08046                   0.5       \n",
       "2 12   36.36364                   0.6       \n",
       "3 11   35.03185                   0.7       \n",
       "4  5   34.28571                   0.8       \n",
       "5 20   35.84906                   0.9       "
      ]
     },
     "metadata": {},
     "output_type": "display_data"
    },
    {
     "name": "stdout",
     "output_type": "stream",
     "text": [
      "[1] \"Minimum value of k that gives minimum missclassification rate for a particular sample size on data with Intutive normalization\"\n",
      "[1] \"-------------------------------------------------------------------------------------------------------\"\n"
     ]
    },
    {
     "data": {
      "text/html": [
       "<table>\n",
       "<thead><tr><th scope=col>mink</th><th scope=col>min.misclassification.rate</th><th scope=col>train.size</th></tr></thead>\n",
       "<tbody>\n",
       "\t<tr><td>11      </td><td>37.93103</td><td>0.5     </td></tr>\n",
       "\t<tr><td> 4      </td><td>36.84211</td><td>0.6     </td></tr>\n",
       "\t<tr><td>18      </td><td>31.84713</td><td>0.7     </td></tr>\n",
       "\t<tr><td>18      </td><td>37.14286</td><td>0.8     </td></tr>\n",
       "\t<tr><td>20      </td><td>26.41509</td><td>0.9     </td></tr>\n",
       "</tbody>\n",
       "</table>\n"
      ],
      "text/latex": [
       "\\begin{tabular}{r|lll}\n",
       " mink & min.misclassification.rate & train.size\\\\\n",
       "\\hline\n",
       "\t 11       & 37.93103 & 0.5     \\\\\n",
       "\t  4       & 36.84211 & 0.6     \\\\\n",
       "\t 18       & 31.84713 & 0.7     \\\\\n",
       "\t 18       & 37.14286 & 0.8     \\\\\n",
       "\t 20       & 26.41509 & 0.9     \\\\\n",
       "\\end{tabular}\n"
      ],
      "text/markdown": [
       "\n",
       "mink | min.misclassification.rate | train.size | \n",
       "|---|---|---|---|---|\n",
       "| 11       | 37.93103 | 0.5      | \n",
       "|  4       | 36.84211 | 0.6      | \n",
       "| 18       | 31.84713 | 0.7      | \n",
       "| 18       | 37.14286 | 0.8      | \n",
       "| 20       | 26.41509 | 0.9      | \n",
       "\n",
       "\n"
      ],
      "text/plain": [
       "  mink min.misclassification.rate train.size\n",
       "1 11   37.93103                   0.5       \n",
       "2  4   36.84211                   0.6       \n",
       "3 18   31.84713                   0.7       \n",
       "4 18   37.14286                   0.8       \n",
       "5 20   26.41509                   0.9       "
      ]
     },
     "metadata": {},
     "output_type": "display_data"
    },
    {
     "name": "stdout",
     "output_type": "stream",
     "text": [
      "[1] \"Minimum value of k that gives minimum missclassification rate for a particular sample size on data with min max normalization\"\n",
      "[1] \"-------------------------------------------------------------------------------------------------------\"\n"
     ]
    },
    {
     "data": {
      "text/html": [
       "<table>\n",
       "<thead><tr><th scope=col>mink</th><th scope=col>min.misclassification.rate</th><th scope=col>train.size</th></tr></thead>\n",
       "<tbody>\n",
       "\t<tr><td>16      </td><td>32.95019</td><td>0.5     </td></tr>\n",
       "\t<tr><td> 9      </td><td>35.40670</td><td>0.6     </td></tr>\n",
       "\t<tr><td>18      </td><td>36.94268</td><td>0.7     </td></tr>\n",
       "\t<tr><td>17      </td><td>35.23810</td><td>0.8     </td></tr>\n",
       "\t<tr><td>18      </td><td>41.50943</td><td>0.9     </td></tr>\n",
       "</tbody>\n",
       "</table>\n"
      ],
      "text/latex": [
       "\\begin{tabular}{r|lll}\n",
       " mink & min.misclassification.rate & train.size\\\\\n",
       "\\hline\n",
       "\t 16       & 32.95019 & 0.5     \\\\\n",
       "\t  9       & 35.40670 & 0.6     \\\\\n",
       "\t 18       & 36.94268 & 0.7     \\\\\n",
       "\t 17       & 35.23810 & 0.8     \\\\\n",
       "\t 18       & 41.50943 & 0.9     \\\\\n",
       "\\end{tabular}\n"
      ],
      "text/markdown": [
       "\n",
       "mink | min.misclassification.rate | train.size | \n",
       "|---|---|---|---|---|\n",
       "| 16       | 32.95019 | 0.5      | \n",
       "|  9       | 35.40670 | 0.6      | \n",
       "| 18       | 36.94268 | 0.7      | \n",
       "| 17       | 35.23810 | 0.8      | \n",
       "| 18       | 41.50943 | 0.9      | \n",
       "\n",
       "\n"
      ],
      "text/plain": [
       "  mink min.misclassification.rate train.size\n",
       "1 16   32.95019                   0.5       \n",
       "2  9   35.40670                   0.6       \n",
       "3 18   36.94268                   0.7       \n",
       "4 17   35.23810                   0.8       \n",
       "5 18   41.50943                   0.9       "
      ]
     },
     "metadata": {},
     "output_type": "display_data"
    }
   ],
   "source": [
    "print(\"Minimum value of k that gives minimum missclassification rate for a particular sample size on data with no normalization\")\n",
    "print(\"-------------------------------------------------------------------------------------------------------\")\n",
    "minified1\n",
    "print(\"Minimum value of k that gives minimum missclassification rate for a particular sample size on data with Intutive normalization\")\n",
    "print(\"-------------------------------------------------------------------------------------------------------\")\n",
    "minified2\n",
    "print(\"Minimum value of k that gives minimum missclassification rate for a particular sample size on data with min max normalization\")\n",
    "print(\"-------------------------------------------------------------------------------------------------------\")\n",
    "minified3"
   ]
  },
  {
   "cell_type": "markdown",
   "metadata": {
    "collapsed": true
   },
   "source": [
    "# Observation : Normalizing the data with intutive normalization technique best classifies the data with misclassification rate as low as 26.43% for sample size = 90% and k=20"
   ]
  },
  {
   "cell_type": "code",
   "execution_count": null,
   "metadata": {
    "collapsed": true
   },
   "outputs": [],
   "source": []
  }
 ],
 "metadata": {
  "kernelspec": {
   "display_name": "R",
   "language": "R",
   "name": "ir"
  },
  "language_info": {
   "codemirror_mode": "r",
   "file_extension": ".r",
   "mimetype": "text/x-r-source",
   "name": "R",
   "pygments_lexer": "r",
   "version": "3.3.2"
  }
 },
 "nbformat": 4,
 "nbformat_minor": 2
}
