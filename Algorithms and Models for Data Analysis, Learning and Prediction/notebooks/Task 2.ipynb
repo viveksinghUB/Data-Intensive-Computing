{
 "cells": [
  {
   "cell_type": "markdown",
   "metadata": {},
   "source": [
    "#  Classical data: Edgar Anderson’s Iris data "
   ]
  },
  {
   "cell_type": "markdown",
   "metadata": {},
   "source": [
    "Kowing the data"
   ]
  },
  {
   "cell_type": "code",
   "execution_count": 1,
   "metadata": {
    "collapsed": false
   },
   "outputs": [
    {
     "name": "stderr",
     "output_type": "stream",
     "text": [
      "\n",
      "Attaching package: 'dplyr'\n",
      "\n",
      "The following objects are masked from 'package:stats':\n",
      "\n",
      "    filter, lag\n",
      "\n",
      "The following objects are masked from 'package:base':\n",
      "\n",
      "    intersect, setdiff, setequal, union\n",
      "\n",
      "Warning message:\n",
      "\"package 'fpc' was built under R version 3.3.3\"Warning message:\n",
      "\"package 'clue' was built under R version 3.3.3\""
     ]
    },
    {
     "data": {
      "text/html": [
       "<table>\n",
       "<thead><tr><th scope=col>Sepal.Length</th><th scope=col>Sepal.Width</th><th scope=col>Petal.Length</th><th scope=col>Petal.Width</th><th scope=col>Species</th></tr></thead>\n",
       "<tbody>\n",
       "\t<tr><td>5.1   </td><td>3.5   </td><td>1.4   </td><td>0.2   </td><td>setosa</td></tr>\n",
       "\t<tr><td>4.9   </td><td>3.0   </td><td>1.4   </td><td>0.2   </td><td>setosa</td></tr>\n",
       "\t<tr><td>4.7   </td><td>3.2   </td><td>1.3   </td><td>0.2   </td><td>setosa</td></tr>\n",
       "\t<tr><td>4.6   </td><td>3.1   </td><td>1.5   </td><td>0.2   </td><td>setosa</td></tr>\n",
       "\t<tr><td>5.0   </td><td>3.6   </td><td>1.4   </td><td>0.2   </td><td>setosa</td></tr>\n",
       "\t<tr><td>5.4   </td><td>3.9   </td><td>1.7   </td><td>0.4   </td><td>setosa</td></tr>\n",
       "</tbody>\n",
       "</table>\n"
      ],
      "text/latex": [
       "\\begin{tabular}{r|lllll}\n",
       " Sepal.Length & Sepal.Width & Petal.Length & Petal.Width & Species\\\\\n",
       "\\hline\n",
       "\t 5.1    & 3.5    & 1.4    & 0.2    & setosa\\\\\n",
       "\t 4.9    & 3.0    & 1.4    & 0.2    & setosa\\\\\n",
       "\t 4.7    & 3.2    & 1.3    & 0.2    & setosa\\\\\n",
       "\t 4.6    & 3.1    & 1.5    & 0.2    & setosa\\\\\n",
       "\t 5.0    & 3.6    & 1.4    & 0.2    & setosa\\\\\n",
       "\t 5.4    & 3.9    & 1.7    & 0.4    & setosa\\\\\n",
       "\\end{tabular}\n"
      ],
      "text/markdown": [
       "\n",
       "Sepal.Length | Sepal.Width | Petal.Length | Petal.Width | Species | \n",
       "|---|---|---|---|---|---|\n",
       "| 5.1    | 3.5    | 1.4    | 0.2    | setosa | \n",
       "| 4.9    | 3.0    | 1.4    | 0.2    | setosa | \n",
       "| 4.7    | 3.2    | 1.3    | 0.2    | setosa | \n",
       "| 4.6    | 3.1    | 1.5    | 0.2    | setosa | \n",
       "| 5.0    | 3.6    | 1.4    | 0.2    | setosa | \n",
       "| 5.4    | 3.9    | 1.7    | 0.4    | setosa | \n",
       "\n",
       "\n"
      ],
      "text/plain": [
       "  Sepal.Length Sepal.Width Petal.Length Petal.Width Species\n",
       "1 5.1          3.5         1.4          0.2         setosa \n",
       "2 4.9          3.0         1.4          0.2         setosa \n",
       "3 4.7          3.2         1.3          0.2         setosa \n",
       "4 4.6          3.1         1.5          0.2         setosa \n",
       "5 5.0          3.6         1.4          0.2         setosa \n",
       "6 5.4          3.9         1.7          0.4         setosa "
      ]
     },
     "metadata": {},
     "output_type": "display_data"
    },
    {
     "data": {
      "text/html": [
       "<ol class=list-inline>\n",
       "\t<li>'Sepal.Length'</li>\n",
       "\t<li>'Sepal.Width'</li>\n",
       "\t<li>'Petal.Length'</li>\n",
       "\t<li>'Petal.Width'</li>\n",
       "\t<li>'Species'</li>\n",
       "</ol>\n"
      ],
      "text/latex": [
       "\\begin{enumerate*}\n",
       "\\item 'Sepal.Length'\n",
       "\\item 'Sepal.Width'\n",
       "\\item 'Petal.Length'\n",
       "\\item 'Petal.Width'\n",
       "\\item 'Species'\n",
       "\\end{enumerate*}\n"
      ],
      "text/markdown": [
       "1. 'Sepal.Length'\n",
       "2. 'Sepal.Width'\n",
       "3. 'Petal.Length'\n",
       "4. 'Petal.Width'\n",
       "5. 'Species'\n",
       "\n",
       "\n"
      ],
      "text/plain": [
       "[1] \"Sepal.Length\" \"Sepal.Width\"  \"Petal.Length\" \"Petal.Width\"  \"Species\"     "
      ]
     },
     "metadata": {},
     "output_type": "display_data"
    }
   ],
   "source": [
    "# install.packages(\"clue\",repos=\"http://cran.uk.r-project.org\")\n",
    "# install.packages(\"fpc\",repos=\"http://cran.uk.r-project.org\")\n",
    "library(dplyr)\n",
    "library(fpc)\n",
    "library(clue)\n",
    "library(\"doBy\")\n",
    "head(iris)\n",
    "names(iris)"
   ]
  },
  {
   "cell_type": "markdown",
   "metadata": {
    "collapsed": false
   },
   "source": [
    "Seperate labels and data"
   ]
  },
  {
   "cell_type": "code",
   "execution_count": 2,
   "metadata": {
    "collapsed": false
   },
   "outputs": [],
   "source": [
    "train.data=iris[,-5]\n",
    "train.label=iris[,5]\n"
   ]
  },
  {
   "cell_type": "markdown",
   "metadata": {},
   "source": [
    "Arranging the data into 3 clusters based 3 features"
   ]
  },
  {
   "cell_type": "code",
   "execution_count": 4,
   "metadata": {
    "collapsed": false
   },
   "outputs": [
    {
     "data": {
      "text/html": [
       "<ol class=list-inline>\n",
       "\t<li>1</li>\n",
       "\t<li>4</li>\n",
       "\t<li>7</li>\n",
       "\t<li>9</li>\n",
       "\t<li>6</li>\n",
       "\t<li>5</li>\n",
       "\t<li>10</li>\n",
       "\t<li>2</li>\n",
       "\t<li>8</li>\n",
       "\t<li>3</li>\n",
       "</ol>\n"
      ],
      "text/latex": [
       "\\begin{enumerate*}\n",
       "\\item 1\n",
       "\\item 4\n",
       "\\item 7\n",
       "\\item 9\n",
       "\\item 6\n",
       "\\item 5\n",
       "\\item 10\n",
       "\\item 2\n",
       "\\item 8\n",
       "\\item 3\n",
       "\\end{enumerate*}\n"
      ],
      "text/markdown": [
       "1. 1\n",
       "2. 4\n",
       "3. 7\n",
       "4. 9\n",
       "5. 6\n",
       "6. 5\n",
       "7. 10\n",
       "8. 2\n",
       "9. 8\n",
       "10. 3\n",
       "\n",
       "\n"
      ],
      "text/plain": [
       " [1]  1  4  7  9  6  5 10  2  8  3"
      ]
     },
     "metadata": {},
     "output_type": "display_data"
    }
   ],
   "source": [
    "data=sample(1:10,10,replace=FALSE)\n",
    "data"
   ]
  },
  {
   "cell_type": "code",
   "execution_count": 10,
   "metadata": {
    "collapsed": false
   },
   "outputs": [
    {
     "data": {
      "text/plain": [
       "K-means clustering with 3 clusters of sizes 3, 3, 4\n",
       "\n",
       "Cluster means:\n",
       "  [,1]\n",
       "1  2.0\n",
       "2  5.0\n",
       "3  8.5\n",
       "\n",
       "Clustering vector:\n",
       " [1] 1 2 3 3 2 2 3 1 3 1\n",
       "\n",
       "Within cluster sum of squares by cluster:\n",
       "[1] 2 2 5\n",
       " (between_SS / total_SS =  89.1 %)\n",
       "\n",
       "Available components:\n",
       "\n",
       "[1] \"cluster\"      \"centers\"      \"totss\"        \"withinss\"     \"tot.withinss\"\n",
       "[6] \"betweenss\"    \"size\"         \"iter\"         \"ifault\"      "
      ]
     },
     "metadata": {},
     "output_type": "display_data"
    }
   ],
   "source": [
    "x=kmeans(data,c(2,4,7),3)\n",
    "x"
   ]
  },
  {
   "cell_type": "code",
   "execution_count": 12,
   "metadata": {
    "collapsed": false
   },
   "outputs": [
    {
     "data": {
      "text/html": [
       "<ol class=list-inline>\n",
       "\t<li>1</li>\n",
       "\t<li>2</li>\n",
       "\t<li>3</li>\n",
       "\t<li>3</li>\n",
       "\t<li>2</li>\n",
       "\t<li>2</li>\n",
       "\t<li>3</li>\n",
       "\t<li>1</li>\n",
       "\t<li>3</li>\n",
       "\t<li>1</li>\n",
       "</ol>\n"
      ],
      "text/latex": [
       "\\begin{enumerate*}\n",
       "\\item 1\n",
       "\\item 2\n",
       "\\item 3\n",
       "\\item 3\n",
       "\\item 2\n",
       "\\item 2\n",
       "\\item 3\n",
       "\\item 1\n",
       "\\item 3\n",
       "\\item 1\n",
       "\\end{enumerate*}\n"
      ],
      "text/markdown": [
       "1. 1\n",
       "2. 2\n",
       "3. 3\n",
       "4. 3\n",
       "5. 2\n",
       "6. 2\n",
       "7. 3\n",
       "8. 1\n",
       "9. 3\n",
       "10. 1\n",
       "\n",
       "\n"
      ],
      "text/plain": [
       " [1] 1 2 3 3 2 2 3 1 3 1"
      ]
     },
     "metadata": {},
     "output_type": "display_data"
    }
   ],
   "source": [
    "x$cluster"
   ]
  },
  {
   "cell_type": "code",
   "execution_count": 4,
   "metadata": {
    "collapsed": false
   },
   "outputs": [],
   "source": [
    "kmeans_default=kmeans(train.data,3)"
   ]
  },
  {
   "cell_type": "code",
   "execution_count": 16,
   "metadata": {
    "collapsed": false,
    "scrolled": false
   },
   "outputs": [
    {
     "data": {
      "image/png": "[encoded data removed]",
      "text/plain": [
       "Plot with title \"How Kmeans seperated the data as clusetrs\""
      ]
     },
     "metadata": {},
     "output_type": "display_data"
    },
    {
     "data": {
      "image/png": "[encoded data removed]",
      "text/plain": [
       "Plot with title \"How data is actually seperated as labels \""
      ]
     },
     "metadata": {},
     "output_type": "display_data"
    }
   ],
   "source": [
    "plot(train.data$Petal.Length,train.data$Petal.Width,col=kmeans_default$cluster,main=\"How Kmeans seperated the data as clusetrs\")\n",
    "plot(train.data$Petal.Length,train.data$Petal.Width,col=train.label,main=\"How data is actually seperated as labels \")\n",
    "\n",
    "# table(y,kc$cluster)\n",
    "# head(data.frame(y,kc$cluster))"
   ]
  },
  {
   "cell_type": "markdown",
   "metadata": {},
   "source": [
    "# It can be observed that the way kmeans has seperated data into clusters is very similar to the actual"
   ]
  },
  {
   "cell_type": "markdown",
   "metadata": {},
   "source": [
    "Check the centroids"
   ]
  },
  {
   "cell_type": "code",
   "execution_count": 5,
   "metadata": {
    "collapsed": false
   },
   "outputs": [],
   "source": [
    "# kc$centers\n"
   ]
  },
  {
   "cell_type": "code",
   "execution_count": 6,
   "metadata": {
    "collapsed": false
   },
   "outputs": [],
   "source": [
    "kmeans_Hartigan=kmeans(train.data, 3, iter.max = 10, nstart = 1,\n",
    "algorithm = c(\"Hartigan-Wong\"), trace=FALSE)\n",
    "\n",
    "kmeans_Lloyd=kmeans(train.data, 3, iter.max = 10, nstart = 1,\n",
    "algorithm = c(\"Lloyd\"), trace=FALSE)\n",
    "\n",
    "kmeans_Forgy=kmeans(train.data, 3, iter.max = 10, nstart = 1,\n",
    "algorithm = c(\"Forgy\"), trace=FALSE)\n",
    "\n",
    "kmeans_MacQueen=kmeans(train.data, 3, iter.max = 10, nstart = 1,\n",
    "algorithm = c(\"MacQueen\"), trace=FALSE)\n",
    "\n"
   ]
  },
  {
   "cell_type": "code",
   "execution_count": 7,
   "metadata": {
    "collapsed": false
   },
   "outputs": [],
   "source": [
    "df_trained=data.frame(train.label,kmeans_Hartigan$cluster,kmeans_Lloyd$cluster,kmeans_Forgy$cluster,\n",
    "                     kmeans_MacQueen$cluster)"
   ]
  },
  {
   "cell_type": "code",
   "execution_count": 8,
   "metadata": {
    "collapsed": false
   },
   "outputs": [],
   "source": [
    "# df_predict.factor=mutate_if(df_predict,is.integer,as.factor)"
   ]
  },
  {
   "cell_type": "code",
   "execution_count": 9,
   "metadata": {
    "collapsed": false
   },
   "outputs": [
    {
     "name": "stdout",
     "output_type": "stream",
     "text": [
      "[1] \"--------------Hartigan-Wong--------------\"\n"
     ]
    },
    {
     "data": {
      "text/plain": [
       "            \n",
       "train.label   1  2  3\n",
       "  setosa     47  0  0\n",
       "  versicolor  0 40  3\n",
       "  virginica   0  9 21"
      ]
     },
     "metadata": {},
     "output_type": "display_data"
    },
    {
     "name": "stdout",
     "output_type": "stream",
     "text": [
      "[1] \"--------------Lloyd--------------\"\n"
     ]
    },
    {
     "data": {
      "text/plain": [
       "            \n",
       "train.label   1  2  3\n",
       "  setosa     47  0  0\n",
       "  versicolor  0 40  3\n",
       "  virginica   0  9 21"
      ]
     },
     "metadata": {},
     "output_type": "display_data"
    },
    {
     "name": "stdout",
     "output_type": "stream",
     "text": [
      "[1] \"--------------Forgy--------------\"\n"
     ]
    },
    {
     "data": {
      "text/plain": [
       "            \n",
       "train.label   1  2  3\n",
       "  setosa     47  0  0\n",
       "  versicolor  0  3 40\n",
       "  virginica   0 21  9"
      ]
     },
     "metadata": {},
     "output_type": "display_data"
    },
    {
     "name": "stdout",
     "output_type": "stream",
     "text": [
      "[1] \"--------------MacQueen--------------\"\n"
     ]
    },
    {
     "data": {
      "text/plain": [
       "            \n",
       "train.label   1  2  3\n",
       "  setosa     47  0  0\n",
       "  versicolor  0 13 30\n",
       "  virginica   0 29  1"
      ]
     },
     "metadata": {},
     "output_type": "display_data"
    }
   ],
   "source": [
    "print(\"--------------Hartigan-Wong--------------\")\n",
    "table(train.label,df_trained$kmeans_Hartigan.cluster)\n",
    "print(\"--------------Lloyd--------------\")\n",
    "table(train.label,df_trained$kmeans_Lloyd.cluster)\n",
    "print(\"--------------Forgy--------------\")\n",
    "table(train.label,df_trained$kmeans_Forgy.cluster)\n",
    "print(\"--------------MacQueen--------------\")\n",
    "table(train.label,df_trained$kmeans_MacQueen.cluster)"
   ]
  },
  {
   "cell_type": "code",
   "execution_count": 10,
   "metadata": {
    "collapsed": false
   },
   "outputs": [
    {
     "data": {
      "text/plain": [
       "            x\n",
       "train.label   1  2  3\n",
       "  setosa     47  0  0\n",
       "  versicolor  0 40  3\n",
       "  virginica   0  9 21"
      ]
     },
     "metadata": {},
     "output_type": "display_data"
    }
   ],
   "source": [
    "\n",
    "x=cl_predict(kmeans_Lloyd,train.data)\n",
    "table(train.label,x)"
   ]
  },
  {
   "cell_type": "code",
   "execution_count": 26,
   "metadata": {
    "collapsed": true
   },
   "outputs": [],
   "source": [
    "iris.mean=group_by(iris,Species)%>%\n",
    "summarise_each(funs(mean(., na.rm=TRUE)), -Species)"
   ]
  },
  {
   "cell_type": "markdown",
   "metadata": {},
   "source": [
    "\n",
    "# Cluster Plot against 1st 2 principal components"
   ]
  },
  {
   "cell_type": "code",
   "execution_count": 11,
   "metadata": {
    "collapsed": false,
    "scrolled": false
   },
   "outputs": [
    {
     "data": {
      "image/png": "[encoded data removed]",
      "text/plain": [
       "Plot with title \"CLUSPLOT( train.data )\""
      ]
     },
     "metadata": {},
     "output_type": "display_data"
    }
   ],
   "source": [
    "library(cluster) \n",
    "clusplot(train.data, kmeans_Forgy$cluster, color=TRUE, shade=TRUE, \n",
    "   labels=1, lines=0)\n"
   ]
  },
  {
   "cell_type": "code",
   "execution_count": 12,
   "metadata": {
    "collapsed": false
   },
   "outputs": [
    {
     "name": "stderr",
     "output_type": "stream",
     "text": [
      "Warning message in as.dist.default(d):\n",
      "\"non-square matrix\"Warning message in as.matrix.dist(d):\n",
      "\"number of items to replace is not a multiple of replacement length\""
     ]
    },
    {
     "data": {
      "text/plain": [
       "$n\n",
       "[1] 120\n",
       "\n",
       "$cluster.number\n",
       "[1] 3\n",
       "\n",
       "$cluster.size\n",
       "[1] 47 24 49\n",
       "\n",
       "$min.cluster.size\n",
       "[1] 24\n",
       "\n",
       "$noisen\n",
       "[1] 0\n",
       "\n",
       "$diameter\n",
       "[1] 7.7 7.6 7.7\n",
       "\n",
       "$average.distance\n",
       "[1] 3.340426 3.256522 3.332228\n",
       "\n",
       "$median.distance\n",
       "[1] 3.0 3.0 3.1\n",
       "\n",
       "$separation\n",
       "[1] 0.1 0.1 0.1\n",
       "\n",
       "$average.toother\n",
       "[1] 3.438852 3.326519 3.404944\n",
       "\n",
       "$separation.matrix\n",
       "     [,1] [,2] [,3]\n",
       "[1,]  0.0  0.1  0.1\n",
       "[2,]  0.1  0.0  0.1\n",
       "[3,]  0.1  0.1  0.0\n",
       "\n",
       "$ave.between.matrix\n",
       "         [,1]     [,2]     [,3]\n",
       "[1,] 0.000000 3.376418 3.469431\n",
       "[2,] 3.376418 0.000000 3.278656\n",
       "[3,] 3.469431 3.278656 0.000000\n",
       "\n",
       "$average.between\n",
       "[1] 3.39796\n",
       "\n",
       "$average.within\n",
       "[1] 3.327477\n",
       "\n",
       "$n.between\n",
       "[1] 4607\n",
       "\n",
       "$n.within\n",
       "[1] 2533\n",
       "\n",
       "$max.diameter\n",
       "[1] 7.7\n",
       "\n",
       "$min.separation\n",
       "[1] 0.1\n",
       "\n",
       "$within.cluster.ss\n",
       "[1] 870.2177\n",
       "\n",
       "$clus.avg.silwidths\n",
       "          1           2           3 \n",
       "-0.03117254 -0.03571996 -0.04360627 \n",
       "\n",
       "$avg.silwidth\n",
       "[1] -0.03715913\n",
       "\n",
       "$g2\n",
       "NULL\n",
       "\n",
       "$g3\n",
       "NULL\n",
       "\n",
       "$pearsongamma\n",
       "[1] 0.01717901\n",
       "\n",
       "$dunn\n",
       "[1] 0.01298701\n",
       "\n",
       "$dunn2\n",
       "[1] 0.9815086\n",
       "\n",
       "$entropy\n",
       "[1] 1.054747\n",
       "\n",
       "$wb.ratio\n",
       "[1] 0.9792575\n",
       "\n",
       "$ch\n",
       "[1] -54.55174\n",
       "\n",
       "$cwidegap\n",
       "[1] 1.4 2.3 4.9\n",
       "\n",
       "$widestgap\n",
       "[1] 4.9\n",
       "\n",
       "$sindex\n",
       "[1] 0.1\n",
       "\n",
       "$corrected.rand\n",
       "[1] 1\n",
       "\n",
       "$vi\n",
       "[1] -4.440892e-16\n"
      ]
     },
     "metadata": {},
     "output_type": "display_data"
    }
   ],
   "source": [
    "# comparing 2 cluster solutions\n",
    "\n",
    "cluster.stats(train.data, kmeans_Forgy$cluster, kmeans_Lloyd$cluster) "
   ]
  },
  {
   "cell_type": "markdown",
   "metadata": {},
   "source": [
    "Plot the clusters and their centres. Note that there are four dimensions in the data and that only the first two dimensions are used to draw the plot below. Some black points close to the green centre (asterisk) are actually closer to the black centre in the four dimensional space."
   ]
  },
  {
   "cell_type": "code",
   "execution_count": 13,
   "metadata": {
    "collapsed": false
   },
   "outputs": [
    {
     "data": {
      "image/png": "[encoded data removed]",
      "text/plain": [
       "plot without title"
      ]
     },
     "metadata": {},
     "output_type": "display_data"
    }
   ],
   "source": [
    "plot(train.data[c(\"Sepal.Length\", \"Sepal.Width\")], col=kmeans_Forgy$cluster)\n",
    "points(kmeans_Forgy$centers[,c(\"Sepal.Length\", \"Sepal.Width\")], col=1:3, pch=8, cex=2)"
   ]
  },
  {
   "cell_type": "code",
   "execution_count": 28,
   "metadata": {
    "collapsed": false
   },
   "outputs": [
    {
     "name": "stdout",
     "output_type": "stream",
     "text": [
      "[1] \"--------------Hartigan-Wong--------------\"\n"
     ]
    },
    {
     "data": {
      "text/html": [
       "<table>\n",
       "<thead><tr><th></th><th scope=col>Sepal.Length</th><th scope=col>Sepal.Width</th><th scope=col>Petal.Length</th><th scope=col>Petal.Width</th></tr></thead>\n",
       "<tbody>\n",
       "\t<tr><th scope=row>1</th><td>5.004255 </td><td>3.376596 </td><td>1.497872 </td><td>0.2531915</td></tr>\n",
       "\t<tr><th scope=row>2</th><td>5.826531 </td><td>2.681633 </td><td>4.297959 </td><td>1.3836735</td></tr>\n",
       "\t<tr><th scope=row>3</th><td>6.895833 </td><td>3.145833 </td><td>5.683333 </td><td>2.0458333</td></tr>\n",
       "</tbody>\n",
       "</table>\n"
      ],
      "text/latex": [
       "\\begin{tabular}{r|llll}\n",
       "  & Sepal.Length & Sepal.Width & Petal.Length & Petal.Width\\\\\n",
       "\\hline\n",
       "\t1 & 5.004255  & 3.376596  & 1.497872  & 0.2531915\\\\\n",
       "\t2 & 5.826531  & 2.681633  & 4.297959  & 1.3836735\\\\\n",
       "\t3 & 6.895833  & 3.145833  & 5.683333  & 2.0458333\\\\\n",
       "\\end{tabular}\n"
      ],
      "text/markdown": [
       "\n",
       "| <!--/--> | Sepal.Length | Sepal.Width | Petal.Length | Petal.Width | \n",
       "|---|---|---|\n",
       "| 1 | 5.004255  | 3.376596  | 1.497872  | 0.2531915 | \n",
       "| 2 | 5.826531  | 2.681633  | 4.297959  | 1.3836735 | \n",
       "| 3 | 6.895833  | 3.145833  | 5.683333  | 2.0458333 | \n",
       "\n",
       "\n"
      ],
      "text/plain": [
       "  Sepal.Length Sepal.Width Petal.Length Petal.Width\n",
       "1 5.004255     3.376596    1.497872     0.2531915  \n",
       "2 5.826531     2.681633    4.297959     1.3836735  \n",
       "3 6.895833     3.145833    5.683333     2.0458333  "
      ]
     },
     "metadata": {},
     "output_type": "display_data"
    },
    {
     "name": "stdout",
     "output_type": "stream",
     "text": [
      "[1] \"--------------Lloyd--------------\"\n"
     ]
    },
    {
     "data": {
      "text/html": [
       "<table>\n",
       "<thead><tr><th></th><th scope=col>Sepal.Length</th><th scope=col>Sepal.Width</th><th scope=col>Petal.Length</th><th scope=col>Petal.Width</th></tr></thead>\n",
       "<tbody>\n",
       "\t<tr><th scope=row>1</th><td>5.004255 </td><td>3.376596 </td><td>1.497872 </td><td>0.2531915</td></tr>\n",
       "\t<tr><th scope=row>2</th><td>5.826531 </td><td>2.681633 </td><td>4.297959 </td><td>1.3836735</td></tr>\n",
       "\t<tr><th scope=row>3</th><td>6.895833 </td><td>3.145833 </td><td>5.683333 </td><td>2.0458333</td></tr>\n",
       "</tbody>\n",
       "</table>\n"
      ],
      "text/latex": [
       "\\begin{tabular}{r|llll}\n",
       "  & Sepal.Length & Sepal.Width & Petal.Length & Petal.Width\\\\\n",
       "\\hline\n",
       "\t1 & 5.004255  & 3.376596  & 1.497872  & 0.2531915\\\\\n",
       "\t2 & 5.826531  & 2.681633  & 4.297959  & 1.3836735\\\\\n",
       "\t3 & 6.895833  & 3.145833  & 5.683333  & 2.0458333\\\\\n",
       "\\end{tabular}\n"
      ],
      "text/markdown": [
       "\n",
       "| <!--/--> | Sepal.Length | Sepal.Width | Petal.Length | Petal.Width | \n",
       "|---|---|---|\n",
       "| 1 | 5.004255  | 3.376596  | 1.497872  | 0.2531915 | \n",
       "| 2 | 5.826531  | 2.681633  | 4.297959  | 1.3836735 | \n",
       "| 3 | 6.895833  | 3.145833  | 5.683333  | 2.0458333 | \n",
       "\n",
       "\n"
      ],
      "text/plain": [
       "  Sepal.Length Sepal.Width Petal.Length Petal.Width\n",
       "1 5.004255     3.376596    1.497872     0.2531915  \n",
       "2 5.826531     2.681633    4.297959     1.3836735  \n",
       "3 6.895833     3.145833    5.683333     2.0458333  "
      ]
     },
     "metadata": {},
     "output_type": "display_data"
    },
    {
     "name": "stdout",
     "output_type": "stream",
     "text": [
      "[1] \"--------------Forgy--------------\"\n"
     ]
    },
    {
     "data": {
      "text/html": [
       "<table>\n",
       "<thead><tr><th></th><th scope=col>Sepal.Length</th><th scope=col>Sepal.Width</th><th scope=col>Petal.Length</th><th scope=col>Petal.Width</th></tr></thead>\n",
       "<tbody>\n",
       "\t<tr><th scope=row>1</th><td>5.004255 </td><td>3.376596 </td><td>1.497872 </td><td>0.2531915</td></tr>\n",
       "\t<tr><th scope=row>2</th><td>6.895833 </td><td>3.145833 </td><td>5.683333 </td><td>2.0458333</td></tr>\n",
       "\t<tr><th scope=row>3</th><td>5.826531 </td><td>2.681633 </td><td>4.297959 </td><td>1.3836735</td></tr>\n",
       "</tbody>\n",
       "</table>\n"
      ],
      "text/latex": [
       "\\begin{tabular}{r|llll}\n",
       "  & Sepal.Length & Sepal.Width & Petal.Length & Petal.Width\\\\\n",
       "\\hline\n",
       "\t1 & 5.004255  & 3.376596  & 1.497872  & 0.2531915\\\\\n",
       "\t2 & 6.895833  & 3.145833  & 5.683333  & 2.0458333\\\\\n",
       "\t3 & 5.826531  & 2.681633  & 4.297959  & 1.3836735\\\\\n",
       "\\end{tabular}\n"
      ],
      "text/markdown": [
       "\n",
       "| <!--/--> | Sepal.Length | Sepal.Width | Petal.Length | Petal.Width | \n",
       "|---|---|---|\n",
       "| 1 | 5.004255  | 3.376596  | 1.497872  | 0.2531915 | \n",
       "| 2 | 6.895833  | 3.145833  | 5.683333  | 2.0458333 | \n",
       "| 3 | 5.826531  | 2.681633  | 4.297959  | 1.3836735 | \n",
       "\n",
       "\n"
      ],
      "text/plain": [
       "  Sepal.Length Sepal.Width Petal.Length Petal.Width\n",
       "1 5.004255     3.376596    1.497872     0.2531915  \n",
       "2 6.895833     3.145833    5.683333     2.0458333  \n",
       "3 5.826531     2.681633    4.297959     1.3836735  "
      ]
     },
     "metadata": {},
     "output_type": "display_data"
    },
    {
     "name": "stdout",
     "output_type": "stream",
     "text": [
      "[1] \"--------------MacQueen--------------\"\n"
     ]
    },
    {
     "data": {
      "text/html": [
       "<table>\n",
       "<thead><tr><th></th><th scope=col>Sepal.Length</th><th scope=col>Sepal.Width</th><th scope=col>Petal.Length</th><th scope=col>Petal.Width</th></tr></thead>\n",
       "<tbody>\n",
       "\t<tr><th scope=row>1</th><td>5.004255 </td><td>3.376596 </td><td>1.497872 </td><td>0.2531915</td></tr>\n",
       "\t<tr><th scope=row>2</th><td>6.621429 </td><td>2.969048 </td><td>5.319048 </td><td>1.8523810</td></tr>\n",
       "\t<tr><th scope=row>3</th><td>5.577419 </td><td>2.651613 </td><td>3.987097 </td><td>1.2612903</td></tr>\n",
       "</tbody>\n",
       "</table>\n"
      ],
      "text/latex": [
       "\\begin{tabular}{r|llll}\n",
       "  & Sepal.Length & Sepal.Width & Petal.Length & Petal.Width\\\\\n",
       "\\hline\n",
       "\t1 & 5.004255  & 3.376596  & 1.497872  & 0.2531915\\\\\n",
       "\t2 & 6.621429  & 2.969048  & 5.319048  & 1.8523810\\\\\n",
       "\t3 & 5.577419  & 2.651613  & 3.987097  & 1.2612903\\\\\n",
       "\\end{tabular}\n"
      ],
      "text/markdown": [
       "\n",
       "| <!--/--> | Sepal.Length | Sepal.Width | Petal.Length | Petal.Width | \n",
       "|---|---|---|\n",
       "| 1 | 5.004255  | 3.376596  | 1.497872  | 0.2531915 | \n",
       "| 2 | 6.621429  | 2.969048  | 5.319048  | 1.8523810 | \n",
       "| 3 | 5.577419  | 2.651613  | 3.987097  | 1.2612903 | \n",
       "\n",
       "\n"
      ],
      "text/plain": [
       "  Sepal.Length Sepal.Width Petal.Length Petal.Width\n",
       "1 5.004255     3.376596    1.497872     0.2531915  \n",
       "2 6.621429     2.969048    5.319048     1.8523810  \n",
       "3 5.577419     2.651613    3.987097     1.2612903  "
      ]
     },
     "metadata": {},
     "output_type": "display_data"
    }
   ],
   "source": [
    "print(\"--------------Hartigan-Wong--------------\")\n",
    "kmeans_Hartigan$centers\n",
    "print(\"--------------Lloyd--------------\")\n",
    "kmeans_Lloyd$centers\n",
    "print(\"--------------Forgy--------------\")\n",
    "kmeans_Forgy$centers\n",
    "print(\"--------------MacQueen--------------\")\n",
    "kmeans_MacQueen$centers"
   ]
  },
  {
   "cell_type": "code",
   "execution_count": null,
   "metadata": {
    "collapsed": true
   },
   "outputs": [],
   "source": []
  }
 ],
 "metadata": {
  "kernelspec": {
   "display_name": "R",
   "language": "R",
   "name": "ir"
  },
  "language_info": {
   "codemirror_mode": "r",
   "file_extension": ".r",
   "mimetype": "text/x-r-source",
   "name": "R",
   "pygments_lexer": "r",
   "version": "3.3.2"
  }
 },
 "nbformat": 4,
 "nbformat_minor": 2
}
