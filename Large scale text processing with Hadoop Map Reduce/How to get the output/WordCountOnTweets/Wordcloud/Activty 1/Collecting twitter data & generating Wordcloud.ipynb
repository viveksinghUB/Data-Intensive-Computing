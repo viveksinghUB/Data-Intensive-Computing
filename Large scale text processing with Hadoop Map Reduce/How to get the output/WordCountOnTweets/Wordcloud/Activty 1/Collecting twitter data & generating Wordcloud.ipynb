{
 "cells": [
  {
   "cell_type": "markdown",
   "metadata": {},
   "source": [
    "# Problem 1: What’s trending? "
   ]
  },
  {
   "cell_type": "markdown",
   "metadata": {},
   "source": [
    "<b>Step 1 : Enter the Search topic : </b> <br/>"
   ]
  },
  {
   "cell_type": "code",
   "execution_count": 1,
   "metadata": {
    "collapsed": true
   },
   "outputs": [],
   "source": [
    "SearchTopic = \"#SyriaStrikes\""
   ]
  },
  {
   "cell_type": "markdown",
   "metadata": {},
   "source": [
    "<b>Step 2 : Enter the number of tweets to be retrieved : </b><br/>\n",
    "<i>Note : Time duration of program execution increases significantly if n is higher."
   ]
  },
  {
   "cell_type": "code",
   "execution_count": 2,
   "metadata": {
    "collapsed": true
   },
   "outputs": [],
   "source": [
    "n=10000"
   ]
  },
  {
   "cell_type": "markdown",
   "metadata": {},
   "source": [
    "<b>Step 3 : Enter the consumer_key,consumer_secret,access_token and access_secret to connect to connect to twitter.</b>"
   ]
  },
  {
   "cell_type": "code",
   "execution_count": 3,
   "metadata": {
    "collapsed": true
   },
   "outputs": [],
   "source": [
    "consumer_key <- \"Yt7sY1DmlPmvghfMY4uPglAUN\"\n",
    "consumer_secret <- \"Z4IPo0oneJ8MVEN0LsNZqvJaqwC6xITwt48o4kfACeh9ZuTFOh\"\n",
    "access_token <- \"771480878128230400-uUNj18X34N6xrgC17HFIz3r9UEYreWm\"\n",
    "access_secret <- \"uYr441Lu9chL5BaPy8H0N0UviGD4HZwZmKh9Dw2oUjVny\""
   ]
  },
  {
   "cell_type": "markdown",
   "metadata": {},
   "source": [
    "<b>Step 5 : Load the required libraries</b> <br/>\n",
    "•twitteR : For connecting and interacting with twitter. <br/>\n",
    "•RSQLite : For saving the tweets object to database. <br/>\n",
    "•ggplot2 : For plotting the points to map. <br/>\n",
    "•ggmap,maps,mapdata   : For drawing the map on canvas. <br/>"
   ]
  },
  {
   "cell_type": "code",
   "execution_count": 4,
   "metadata": {
    "collapsed": false
   },
   "outputs": [
    {
     "name": "stderr",
     "output_type": "stream",
     "text": [
      "Loading required package: maps\n",
      "Loading required package: bitops\n",
      "\n",
      "Attaching package: 'dplyr'\n",
      "\n",
      "The following objects are masked from 'package:twitteR':\n",
      "\n",
      "    id, location\n",
      "\n",
      "The following objects are masked from 'package:stats':\n",
      "\n",
      "    filter, lag\n",
      "\n",
      "The following objects are masked from 'package:base':\n",
      "\n",
      "    intersect, setdiff, setequal, union\n",
      "\n",
      "Warning message:\n",
      "\"package 'ggplot2' was built under R version 3.3.3\""
     ]
    }
   ],
   "source": [
    "library(\"twitteR\")\n",
    "library(\"RSQLite\")\n",
    "library(\"mapdata\")\n",
    "library(RJSONIO)\n",
    "library(RCurl)\n",
    "library(\"devtools\")\n",
    "library(dplyr)\n",
    "library(\"ggplot2\")\n",
    "# library(plyr)\n",
    "library(\"ggmap\")\n",
    "library(\"maps\")"
   ]
  },
  {
   "cell_type": "markdown",
   "metadata": {},
   "source": [
    "<b>Step 6 : Connect to twitter using the setup_twitter_oauth() function in twitteR package. "
   ]
  },
  {
   "cell_type": "code",
   "execution_count": 5,
   "metadata": {
    "collapsed": false
   },
   "outputs": [
    {
     "name": "stdout",
     "output_type": "stream",
     "text": [
      "[1] \"Using direct authentication\"\n"
     ]
    }
   ],
   "source": [
    "setup_twitter_oauth(consumer_key, consumer_secret, access_token, access_secret)"
   ]
  },
  {
   "cell_type": "markdown",
   "metadata": {},
   "source": [
    "<b>Step 7 : Register a database using RSQLite at curret location with filename  \"Vivek50208473dbTweetObject\"  </b><br/>\n",
    "<i>Note : Change file path in sql_lite_file variable to use a different location"
   ]
  },
  {
   "cell_type": "code",
   "execution_count": 6,
   "metadata": {
    "collapsed": true
   },
   "outputs": [],
   "source": [
    "db2 <- RSQLite::datasetsDb() # Initialie a database\n",
    "register_db_backend(db2) #Functions to setup a database backend for twitteR\n",
    "sql_lite_file='Vivek50208473dbtweetFile' #path to db file\n",
    "register_sqlite_backend(sql_lite_file)  #create the DBI connection and call register_db_backend"
   ]
  },
  {
   "cell_type": "markdown",
   "metadata": {},
   "source": [
    "<b>Step 8 : Search and store tweet object for topic and numbers as defined in \"SearchTopic\" and \"n\" above. </b><br/>\n",
    "<b>Step 9 : Store the tweets object in tweet_obj table in database file \"vivek50208473\".\n"
   ]
  },
  {
   "cell_type": "code",
   "execution_count": 7,
   "metadata": {
    "collapsed": false
   },
   "outputs": [],
   "source": [
    "# try({\n",
    "#     if(SearchTopic!=\"\"){\n",
    "#     tweet_obj=searchTwitter(SearchTopic,n)\n",
    "#     store_tweets_db( tweet_obj,table_name=\"tweet_with_RT\")\n",
    "#     len=length(tweet_obj)\n",
    "# }\n",
    "# cat(len,\"tweets searched for the topic \", SearchTopic )\n",
    "#     }, silent=TRUE)"
   ]
  },
  {
   "cell_type": "markdown",
   "metadata": {},
   "source": [
    "<b>Step 10 : Load tweet objects from the database using load_tweets_db() function . Print the number of tweets retrieved from db."
   ]
  },
  {
   "cell_type": "code",
   "execution_count": 8,
   "metadata": {
    "collapsed": false
   },
   "outputs": [
    {
     "name": "stdout",
     "output_type": "stream",
     "text": [
      "Number of tweets retrieved from db  23859"
     ]
    }
   ],
   "source": [
    "db2 <- RSQLite::datasetsDb() # Initialie a database\n",
    "register_db_backend(db2) #Functions to setup a database backend for twitteR\n",
    "sql_lite_file='Vivek50208473dbtweetFile' #path to db file\n",
    "register_sqlite_backend(sql_lite_file)  #create the DBI connection and call register_db_backend\n",
    "from_db = load_tweets_db(table_name=\"tweet_with_RT\")\n",
    "cat(\"Number of tweets retrieved from db \", length(from_db))"
   ]
  },
  {
   "cell_type": "markdown",
   "metadata": {},
   "source": [
    "<b>Step 11 : Save user names of the tweets."
   ]
  },
  {
   "cell_type": "code",
   "execution_count": 9,
   "metadata": {
    "collapsed": false
   },
   "outputs": [],
   "source": [
    "df <- twListToDF(from_db)\n",
    "# dfusers=data.frame(df[\"screenName\"])\n",
    "# saveRDS(dfusers, file=\"userscreenname.rds\")\n",
    "# head(dfusers)"
   ]
  },
  {
   "cell_type": "markdown",
   "metadata": {},
   "source": [
    "    Save tweets to text file"
   ]
  },
  {
   "cell_type": "code",
   "execution_count": 10,
   "metadata": {
    "collapsed": true
   },
   "outputs": [],
   "source": [
    "write.table(df, \"C:/Users/vivek/Box Sync/Spring 2017/587 DIC/LAB4/tweetdata.txt\", sep=\"\\t\") "
   ]
  },
  {
   "cell_type": "code",
   "execution_count": 19,
   "metadata": {
    "collapsed": false
   },
   "outputs": [
    {
     "data": {
      "text/html": [
       "<table>\n",
       "<thead><tr><th scope=col>text</th><th scope=col>favorited</th><th scope=col>favoriteCount</th><th scope=col>replyToSN</th><th scope=col>created</th><th scope=col>truncated</th><th scope=col>replyToSID</th><th scope=col>id</th><th scope=col>replyToUID</th><th scope=col>statusSource</th><th scope=col>screenName</th><th scope=col>retweetCount</th><th scope=col>isRetweet</th><th scope=col>retweeted</th><th scope=col>longitude</th><th scope=col>latitude</th></tr></thead>\n",
       "<tbody>\n",
       "\t<tr><td><span style=white-space:pre-wrap>And kd after being used pulles apart for nfl games and superbowl and playoffs me and my kids now is that both or him because i ask did one                                                                                                                       </span></td><td>FALSE                                                                                                                                                                                                                                                                                                    </td><td>0                                                                                                                                                                                                                                                                                                        </td><td>NA                                                                                                                                                                                                                                                                                                       </td><td>2017-02-17 20:40:16                                                                                                                                                                                                                                                                                      </td><td>FALSE                                                                                                                                                                                                                                                                                                    </td><td>NA                                                                                                                                                                                                                                                                                                       </td><td>832691154516795392                                                                                                                                                                                                                                                                                       </td><td>NA                                                                                                                                                                                                                                                                                                       </td><td><span style=white-space:pre-wrap>&lt;a href=\"http://twitter.com/download/android\" rel=\"nofollow\"&gt;Twitter for Android&lt;/a&gt;                 </span>                                                                                                                                                </td><td><span style=white-space:pre-wrap>tomanylies3    </span>                                                                                                                                                                                                                                                  </td><td><span style=white-space:pre-wrap>   0</span>                                                                                                                                                                                                                                                             </td><td>FALSE                                                                                                                                                                                                                                                                                                    </td><td>FALSE                                                                                                                                                                                                                                                                                                    </td><td>NA                                                                                                                                                                                                                                                                                                       </td><td>NA                                                                                                                                                                                                                                                                                                       </td></tr>\n",
       "\t<tr><td>RT @VoteTrumpPics: I Am Praying for You Mr. President&lt;ed&gt;&lt;U+00A0&gt;&lt;U+00BD&gt;&lt;ed&gt;&lt;U+00B9&gt;&lt;U+008F&gt;\n",
       "\n",
       "RT&lt;ed&gt;&lt;U+00A0&gt;&lt;U+00BD&gt;&lt;ed&gt;&lt;U+00B2&gt;&lt;U+00A5&gt; if you #Pray4DJT &lt;ed&gt;&lt;U+00A0&gt;&lt;U+00BD&gt;&lt;ed&gt;&lt;U+00B9&gt;&lt;U+008F&gt;\n",
       "\n",
       " #SuperBowl #PepsiHalftime #Gaga https://t.co/9fj6a1kZ8h</td><td>FALSE                                                                                                                                                                                                                                                                                                                                                                        </td><td>0                                                                                                                                                                                                                                                                                                                                                                            </td><td>NA                                                                                                                                                                                                                                                                                                                                                                           </td><td>2017-02-17 20:40:10                                                                                                                                                                                                                                                                                                                                                          </td><td>FALSE                                                                                                                                                                                                                                                                                                                                                                        </td><td>NA                                                                                                                                                                                                                                                                                                                                                                           </td><td>832691131179741184                                                                                                                                                                                                                                                                                                                                                           </td><td>NA                                                                                                                                                                                                                                                                                                                                                                           </td><td><span style=white-space:pre-wrap>&lt;a href=\"http://twitter.com/download/iphone\" rel=\"nofollow\"&gt;Twitter for iPhone&lt;/a&gt;                   </span>                                                                                                                                                                                                                    </td><td><span style=white-space:pre-wrap>saigaJay28     </span>                                                                                                                                                                                                                                                                                                                      </td><td>3050                                                                                                                                                                                                                                                                                                                                                                         </td><td>FALSE                                                                                                                                                                                                                                                                                                                                                                        </td><td>FALSE                                                                                                                                                                                                                                                                                                                                                                        </td><td>NA                                                                                                                                                                                                                                                                                                                                                                           </td><td>NA                                                                                                                                                                                                                                                                                                                                                                           </td></tr>\n",
       "\t<tr><td><span style=white-space:pre-wrap>RT @NFLRT: \"Be a ballboy, they said.\"\n",
       "\n",
       "\"It'll be fun at the #SuperBowl, they said\"\n",
       "\n",
       "https://t.co/TaglOZ4YjC                                                                                                                                                  </span></td><td>FALSE                                                                                                                                                                                                                                                                                                    </td><td>0                                                                                                                                                                                                                                                                                                        </td><td>NA                                                                                                                                                                                                                                                                                                       </td><td>2017-02-17 20:40:05                                                                                                                                                                                                                                                                                      </td><td>FALSE                                                                                                                                                                                                                                                                                                    </td><td>NA                                                                                                                                                                                                                                                                                                       </td><td>832691107695693827                                                                                                                                                                                                                                                                                       </td><td>NA                                                                                                                                                                                                                                                                                                       </td><td><span style=white-space:pre-wrap>&lt;a href=\"http://twitter.com\" rel=\"nofollow\"&gt;Twitter Web Client&lt;/a&gt;                                   </span>                                                                                                                                                </td><td>pVnY2OhwPwkxNrY                                                                                                                                                                                                                                                                                          </td><td> 334                                                                                                                                                                                                                                                                                                     </td><td>FALSE                                                                                                                                                                                                                                                                                                    </td><td>FALSE                                                                                                                                                                                                                                                                                                    </td><td>NA                                                                                                                                                                                                                                                                                                       </td><td>NA                                                                                                                                                                                                                                                                                                       </td></tr>\n",
       "\t<tr><td><span style=white-space:pre-wrap>RT @DylanAndMuffins: Love and retweet for Shawn Mendes at #SB52  #ShawnMendes #SuperBowl #iHeartAwards                                                                                                                                                           </span></td><td>FALSE                                                                                                                                                                                                                                                                                                    </td><td>0                                                                                                                                                                                                                                                                                                        </td><td>NA                                                                                                                                                                                                                                                                                                       </td><td>2017-02-17 20:39:58                                                                                                                                                                                                                                                                                      </td><td>FALSE                                                                                                                                                                                                                                                                                                    </td><td>NA                                                                                                                                                                                                                                                                                                       </td><td>832691080696967168                                                                                                                                                                                                                                                                                       </td><td>NA                                                                                                                                                                                                                                                                                                       </td><td><span style=white-space:pre-wrap>&lt;a href=\"http://twitter.com/download/android\" rel=\"nofollow\"&gt;Twitter for Android&lt;/a&gt;                 </span>                                                                                                                                                </td><td>patience_shawn                                                                                                                                                                                                                                                                                           </td><td><span style=white-space:pre-wrap>   1</span>                                                                                                                                                                                                                                                             </td><td>FALSE                                                                                                                                                                                                                                                                                                    </td><td>FALSE                                                                                                                                                                                                                                                                                                    </td><td>NA                                                                                                                                                                                                                                                                                                       </td><td>NA                                                                                                                                                                                                                                                                                                       </td></tr>\n",
       "\t<tr><td><span style=white-space:pre-wrap>RT @Yeah38305639: #SuperBowl.  Go #Patriots                                                                                                                                                                                                                      </span></td><td>FALSE                                                                                                                                                                                                                                                                                                    </td><td>0                                                                                                                                                                                                                                                                                                        </td><td>NA                                                                                                                                                                                                                                                                                                       </td><td>2017-02-17 20:39:55                                                                                                                                                                                                                                                                                      </td><td>FALSE                                                                                                                                                                                                                                                                                                    </td><td>NA                                                                                                                                                                                                                                                                                                       </td><td>832691066134425600                                                                                                                                                                                                                                                                                       </td><td>NA                                                                                                                                                                                                                                                                                                       </td><td><span style=white-space:pre-wrap>&lt;a href=\"http://twitter.com\" rel=\"nofollow\"&gt;Twitter Web Client&lt;/a&gt;                                   </span>                                                                                                                                                </td><td>ringfibuse1972                                                                                                                                                                                                                                                                                           </td><td><span style=white-space:pre-wrap>   2</span>                                                                                                                                                                                                                                                             </td><td>FALSE                                                                                                                                                                                                                                                                                                    </td><td>FALSE                                                                                                                                                                                                                                                                                                    </td><td>NA                                                                                                                                                                                                                                                                                                       </td><td>NA                                                                                                                                                                                                                                                                                                       </td></tr>\n",
       "\t<tr><td><span style=white-space:pre-wrap>RT @SurvivorHealer: The NFL reports that Lady Gaga's #SuperBowl Halftime Show was the most watched musical performance in HISTORY with a mi…                                                                                                                     </span></td><td>FALSE                                                                                                                                                                                                                                                                                                    </td><td>0                                                                                                                                                                                                                                                                                                        </td><td>NA                                                                                                                                                                                                                                                                                                       </td><td>2017-02-17 20:39:48                                                                                                                                                                                                                                                                                      </td><td>FALSE                                                                                                                                                                                                                                                                                                    </td><td>NA                                                                                                                                                                                                                                                                                                       </td><td>832691038024323072                                                                                                                                                                                                                                                                                       </td><td>NA                                                                                                                                                                                                                                                                                                       </td><td>&lt;a href=\"http://itunes.apple.com/us/app/twitter/id409789998?mt=12\" rel=\"nofollow\"&gt;Twitter for Mac&lt;/a&gt;                                                                                                                                                                                        </td><td><span style=white-space:pre-wrap>VictoriaBm     </span>                                                                                                                                                                                                                                                  </td><td><span style=white-space:pre-wrap>  16</span>                                                                                                                                                                                                                                                             </td><td>FALSE                                                                                                                                                                                                                                                                                                    </td><td>FALSE                                                                                                                                                                                                                                                                                                    </td><td>NA                                                                                                                                                                                                                                                                                                       </td><td>NA                                                                                                                                                                                                                                                                                                       </td></tr>\n",
       "</tbody>\n",
       "</table>\n"
      ],
      "text/latex": [
       "\\begin{tabular}{r|llllllllllllllll}\n",
       " text & favorited & favoriteCount & replyToSN & created & truncated & replyToSID & id & replyToUID & statusSource & screenName & retweetCount & isRetweet & retweeted & longitude & latitude\\\\\n",
       "\\hline\n",
       "\t And kd after being used pulles apart for nfl games and superbowl and playoffs me and my kids now is that both or him because i ask did one                                                                                                                        & FALSE                                                                                                                                                                                                                                                             & 0                                                                                                                                                                                                                                                                 & NA                                                                                                                                                                                                                                                                & 2017-02-17 20:40:16                                                                                                                                                                                                                                               & FALSE                                                                                                                                                                                                                                                             & NA                                                                                                                                                                                                                                                                & 832691154516795392                                                                                                                                                                                                                                                & NA                                                                                                                                                                                                                                                                & <a href=\"http://twitter.com/download/android\" rel=\"nofollow\">Twitter for Android</a>                                                                                                                                                                              & tomanylies3                                                                                                                                                                                                                                                       &    0                                                                                                                                                                                                                                                              & FALSE                                                                                                                                                                                                                                                             & FALSE                                                                                                                                                                                                                                                             & NA                                                                                                                                                                                                                                                                & NA                                                                                                                                                                                                                                                               \\\\\n",
       "\t RT @VoteTrumpPics: I Am Praying for You Mr. President<ed><U+00A0><U+00BD><ed><U+00B9><U+008F>\n",
       "\n",
       "RT<ed><U+00A0><U+00BD><ed><U+00B2><U+00A5> if you \\#Pray4DJT <ed><U+00A0><U+00BD><ed><U+00B9><U+008F>\n",
       "\n",
       " \\#SuperBowl \\#PepsiHalftime \\#Gaga https://t.co/9fj6a1kZ8h & FALSE                                                                                                                                                                                                                                                                     & 0                                                                                                                                                                                                                                                                         & NA                                                                                                                                                                                                                                                                        & 2017-02-17 20:40:10                                                                                                                                                                                                                                                       & FALSE                                                                                                                                                                                                                                                                     & NA                                                                                                                                                                                                                                                                        & 832691131179741184                                                                                                                                                                                                                                                        & NA                                                                                                                                                                                                                                                                        & <a href=\"http://twitter.com/download/iphone\" rel=\"nofollow\">Twitter for iPhone</a>                                                                                                                                                                                        & saigaJay28                                                                                                                                                                                                                                                                & 3050                                                                                                                                                                                                                                                                      & FALSE                                                                                                                                                                                                                                                                     & FALSE                                                                                                                                                                                                                                                                     & NA                                                                                                                                                                                                                                                                        & NA                                                                                                                                                                                                                                                                       \\\\\n",
       "\t RT @NFLRT: \"Be a ballboy, they said.\"\n",
       "\n",
       "\"It'll be fun at the \\#SuperBowl, they said\"\n",
       "\n",
       "https://t.co/TaglOZ4YjC                                                                                                                                                   & FALSE                                                                                                                                                                                                                                                               & 0                                                                                                                                                                                                                                                                   & NA                                                                                                                                                                                                                                                                  & 2017-02-17 20:40:05                                                                                                                                                                                                                                                 & FALSE                                                                                                                                                                                                                                                               & NA                                                                                                                                                                                                                                                                  & 832691107695693827                                                                                                                                                                                                                                                  & NA                                                                                                                                                                                                                                                                  & <a href=\"http://twitter.com\" rel=\"nofollow\">Twitter Web Client</a>                                                                                                                                                                                                  & pVnY2OhwPwkxNrY                                                                                                                                                                                                                                                     &  334                                                                                                                                                                                                                                                                & FALSE                                                                                                                                                                                                                                                               & FALSE                                                                                                                                                                                                                                                               & NA                                                                                                                                                                                                                                                                  & NA                                                                                                                                                                                                                                                                 \\\\\n",
       "\t RT @DylanAndMuffins: Love and retweet for Shawn Mendes at \\#SB52  \\#ShawnMendes \\#SuperBowl \\#iHeartAwards                                                                                                                                                            & FALSE                                                                                                                                                                                                                                                                     & 0                                                                                                                                                                                                                                                                         & NA                                                                                                                                                                                                                                                                        & 2017-02-17 20:39:58                                                                                                                                                                                                                                                       & FALSE                                                                                                                                                                                                                                                                     & NA                                                                                                                                                                                                                                                                        & 832691080696967168                                                                                                                                                                                                                                                        & NA                                                                                                                                                                                                                                                                        & <a href=\"http://twitter.com/download/android\" rel=\"nofollow\">Twitter for Android</a>                                                                                                                                                                                      & patience\\_shawn                                                                                                                                                                                                                                                          &    1                                                                                                                                                                                                                                                                      & FALSE                                                                                                                                                                                                                                                                     & FALSE                                                                                                                                                                                                                                                                     & NA                                                                                                                                                                                                                                                                        & NA                                                                                                                                                                                                                                                                       \\\\\n",
       "\t RT @Yeah38305639: \\#SuperBowl.  Go \\#Patriots                                                                                                                                                                                                                       & FALSE                                                                                                                                                                                                                                                                 & 0                                                                                                                                                                                                                                                                     & NA                                                                                                                                                                                                                                                                    & 2017-02-17 20:39:55                                                                                                                                                                                                                                                   & FALSE                                                                                                                                                                                                                                                                 & NA                                                                                                                                                                                                                                                                    & 832691066134425600                                                                                                                                                                                                                                                    & NA                                                                                                                                                                                                                                                                    & <a href=\"http://twitter.com\" rel=\"nofollow\">Twitter Web Client</a>                                                                                                                                                                                                    & ringfibuse1972                                                                                                                                                                                                                                                        &    2                                                                                                                                                                                                                                                                  & FALSE                                                                                                                                                                                                                                                                 & FALSE                                                                                                                                                                                                                                                                 & NA                                                                                                                                                                                                                                                                    & NA                                                                                                                                                                                                                                                                   \\\\\n",
       "\t RT @SurvivorHealer: The NFL reports that Lady Gaga's \\#SuperBowl Halftime Show was the most watched musical performance in HISTORY with a mi…                                                                                                                      & FALSE                                                                                                                                                                                                                                                               & 0                                                                                                                                                                                                                                                                   & NA                                                                                                                                                                                                                                                                  & 2017-02-17 20:39:48                                                                                                                                                                                                                                                 & FALSE                                                                                                                                                                                                                                                               & NA                                                                                                                                                                                                                                                                  & 832691038024323072                                                                                                                                                                                                                                                  & NA                                                                                                                                                                                                                                                                  & <a href=\"http://itunes.apple.com/us/app/twitter/id409789998?mt=12\" rel=\"nofollow\">Twitter for Mac</a>                                                                                                                                                               & VictoriaBm                                                                                                                                                                                                                                                          &   16                                                                                                                                                                                                                                                                & FALSE                                                                                                                                                                                                                                                               & FALSE                                                                                                                                                                                                                                                               & NA                                                                                                                                                                                                                                                                  & NA                                                                                                                                                                                                                                                                 \\\\\n",
       "\\end{tabular}\n"
      ],
      "text/markdown": [
       "\n",
       "text | favorited | favoriteCount | replyToSN | created | truncated | replyToSID | id | replyToUID | statusSource | screenName | retweetCount | isRetweet | retweeted | longitude | latitude | \n",
       "|---|---|---|---|---|---|\n",
       "| And kd after being used pulles apart for nfl games and superbowl and playoffs me and my kids now is that both or him because i ask did one                                                                                                                        | FALSE                                                                                                                                                                                                                                                             | 0                                                                                                                                                                                                                                                                 | NA                                                                                                                                                                                                                                                                | 2017-02-17 20:40:16                                                                                                                                                                                                                                               | FALSE                                                                                                                                                                                                                                                             | NA                                                                                                                                                                                                                                                                | 832691154516795392                                                                                                                                                                                                                                                | NA                                                                                                                                                                                                                                                                | <a href=\"http://twitter.com/download/android\" rel=\"nofollow\">Twitter for Android</a>                                                                                                                                                                              | tomanylies3                                                                                                                                                                                                                                                       |    0                                                                                                                                                                                                                                                              | FALSE                                                                                                                                                                                                                                                             | FALSE                                                                                                                                                                                                                                                             | NA                                                                                                                                                                                                                                                                | NA                                                                                                                                                                                                                                                                | \n",
       "| RT @VoteTrumpPics: I Am Praying for You Mr. President<ed><U+00A0><U+00BD><ed><U+00B9><U+008F>\n",
       "\n",
       "RT<ed><U+00A0><U+00BD><ed><U+00B2><U+00A5> if you #Pray4DJT <ed><U+00A0><U+00BD><ed><U+00B9><U+008F>\n",
       "\n",
       " #SuperBowl #PepsiHalftime #Gaga https://t.co/9fj6a1kZ8h | FALSE                                                                                                                                                                                                                                                             | 0                                                                                                                                                                                                                                                                 | NA                                                                                                                                                                                                                                                                | 2017-02-17 20:40:10                                                                                                                                                                                                                                               | FALSE                                                                                                                                                                                                                                                             | NA                                                                                                                                                                                                                                                                | 832691131179741184                                                                                                                                                                                                                                                | NA                                                                                                                                                                                                                                                                | <a href=\"http://twitter.com/download/iphone\" rel=\"nofollow\">Twitter for iPhone</a>                                                                                                                                                                                | saigaJay28                                                                                                                                                                                                                                                        | 3050                                                                                                                                                                                                                                                              | FALSE                                                                                                                                                                                                                                                             | FALSE                                                                                                                                                                                                                                                             | NA                                                                                                                                                                                                                                                                | NA                                                                                                                                                                                                                                                                | \n",
       "| RT @NFLRT: \"Be a ballboy, they said.\"\n",
       "\n",
       "\"It'll be fun at the #SuperBowl, they said\"\n",
       "\n",
       "https://t.co/TaglOZ4YjC                                                                                                                                                   | FALSE                                                                                                                                                                                                                                                             | 0                                                                                                                                                                                                                                                                 | NA                                                                                                                                                                                                                                                                | 2017-02-17 20:40:05                                                                                                                                                                                                                                               | FALSE                                                                                                                                                                                                                                                             | NA                                                                                                                                                                                                                                                                | 832691107695693827                                                                                                                                                                                                                                                | NA                                                                                                                                                                                                                                                                | <a href=\"http://twitter.com\" rel=\"nofollow\">Twitter Web Client</a>                                                                                                                                                                                                | pVnY2OhwPwkxNrY                                                                                                                                                                                                                                                   |  334                                                                                                                                                                                                                                                              | FALSE                                                                                                                                                                                                                                                             | FALSE                                                                                                                                                                                                                                                             | NA                                                                                                                                                                                                                                                                | NA                                                                                                                                                                                                                                                                | \n",
       "| RT @DylanAndMuffins: Love and retweet for Shawn Mendes at #SB52  #ShawnMendes #SuperBowl #iHeartAwards                                                                                                                                                            | FALSE                                                                                                                                                                                                                                                             | 0                                                                                                                                                                                                                                                                 | NA                                                                                                                                                                                                                                                                | 2017-02-17 20:39:58                                                                                                                                                                                                                                               | FALSE                                                                                                                                                                                                                                                             | NA                                                                                                                                                                                                                                                                | 832691080696967168                                                                                                                                                                                                                                                | NA                                                                                                                                                                                                                                                                | <a href=\"http://twitter.com/download/android\" rel=\"nofollow\">Twitter for Android</a>                                                                                                                                                                              | patience_shawn                                                                                                                                                                                                                                                    |    1                                                                                                                                                                                                                                                              | FALSE                                                                                                                                                                                                                                                             | FALSE                                                                                                                                                                                                                                                             | NA                                                                                                                                                                                                                                                                | NA                                                                                                                                                                                                                                                                | \n",
       "| RT @Yeah38305639: #SuperBowl.  Go #Patriots                                                                                                                                                                                                                       | FALSE                                                                                                                                                                                                                                                             | 0                                                                                                                                                                                                                                                                 | NA                                                                                                                                                                                                                                                                | 2017-02-17 20:39:55                                                                                                                                                                                                                                               | FALSE                                                                                                                                                                                                                                                             | NA                                                                                                                                                                                                                                                                | 832691066134425600                                                                                                                                                                                                                                                | NA                                                                                                                                                                                                                                                                | <a href=\"http://twitter.com\" rel=\"nofollow\">Twitter Web Client</a>                                                                                                                                                                                                | ringfibuse1972                                                                                                                                                                                                                                                    |    2                                                                                                                                                                                                                                                              | FALSE                                                                                                                                                                                                                                                             | FALSE                                                                                                                                                                                                                                                             | NA                                                                                                                                                                                                                                                                | NA                                                                                                                                                                                                                                                                | \n",
       "| RT @SurvivorHealer: The NFL reports that Lady Gaga's #SuperBowl Halftime Show was the most watched musical performance in HISTORY with a mi…                                                                                                                      | FALSE                                                                                                                                                                                                                                                             | 0                                                                                                                                                                                                                                                                 | NA                                                                                                                                                                                                                                                                | 2017-02-17 20:39:48                                                                                                                                                                                                                                               | FALSE                                                                                                                                                                                                                                                             | NA                                                                                                                                                                                                                                                                | 832691038024323072                                                                                                                                                                                                                                                | NA                                                                                                                                                                                                                                                                | <a href=\"http://itunes.apple.com/us/app/twitter/id409789998?mt=12\" rel=\"nofollow\">Twitter for Mac</a>                                                                                                                                                             | VictoriaBm                                                                                                                                                                                                                                                        |   16                                                                                                                                                                                                                                                              | FALSE                                                                                                                                                                                                                                                             | FALSE                                                                                                                                                                                                                                                             | NA                                                                                                                                                                                                                                                                | NA                                                                                                                                                                                                                                                                | \n",
       "\n",
       "\n"
      ],
      "text/plain": [
       "  text                                                                                                                                                                                                                                                             \n",
       "1 And kd after being used pulles apart for nfl games and superbowl and playoffs me and my kids now is that both or him because i ask did one                                                                                                                       \n",
       "2 RT @VoteTrumpPics: I Am Praying for You Mr. President<ed><U+00A0><U+00BD><ed><U+00B9><U+008F>\\n\\nRT<ed><U+00A0><U+00BD><ed><U+00B2><U+00A5> if you #Pray4DJT <ed><U+00A0><U+00BD><ed><U+00B9><U+008F>\\n\\n #SuperBowl #PepsiHalftime #Gaga https://t.co/9fj6a1kZ8h\n",
       "3 RT @NFLRT: \"Be a ballboy, they said.\"\\n\\n\"It'll be fun at the #SuperBowl, they said\"\\n\\nhttps://t.co/TaglOZ4YjC                                                                                                                                                  \n",
       "4 RT @DylanAndMuffins: Love and retweet for Shawn Mendes at #SB52  #ShawnMendes #SuperBowl #iHeartAwards                                                                                                                                                           \n",
       "5 RT @Yeah38305639: #SuperBowl.  Go #Patriots                                                                                                                                                                                                                      \n",
       "6 RT @SurvivorHealer: The NFL reports that Lady Gaga's #SuperBowl Halftime Show was the most watched musical performance in HISTORY with a mi",
       "                                                                                                                     \n",
       "  favorited favoriteCount replyToSN created             truncated replyToSID\n",
       "1 FALSE     0             NA        2017-02-17 20:40:16 FALSE     NA        \n",
       "2 FALSE     0             NA        2017-02-17 20:40:10 FALSE     NA        \n",
       "3 FALSE     0             NA        2017-02-17 20:40:05 FALSE     NA        \n",
       "4 FALSE     0             NA        2017-02-17 20:39:58 FALSE     NA        \n",
       "5 FALSE     0             NA        2017-02-17 20:39:55 FALSE     NA        \n",
       "6 FALSE     0             NA        2017-02-17 20:39:48 FALSE     NA        \n",
       "  id                 replyToUID\n",
       "1 832691154516795392 NA        \n",
       "2 832691131179741184 NA        \n",
       "3 832691107695693827 NA        \n",
       "4 832691080696967168 NA        \n",
       "5 832691066134425600 NA        \n",
       "6 832691038024323072 NA        \n",
       "  statusSource                                                                                         \n",
       "1 <a href=\"http://twitter.com/download/android\" rel=\"nofollow\">Twitter for Android</a>                 \n",
       "2 <a href=\"http://twitter.com/download/iphone\" rel=\"nofollow\">Twitter for iPhone</a>                   \n",
       "3 <a href=\"http://twitter.com\" rel=\"nofollow\">Twitter Web Client</a>                                   \n",
       "4 <a href=\"http://twitter.com/download/android\" rel=\"nofollow\">Twitter for Android</a>                 \n",
       "5 <a href=\"http://twitter.com\" rel=\"nofollow\">Twitter Web Client</a>                                   \n",
       "6 <a href=\"http://itunes.apple.com/us/app/twitter/id409789998?mt=12\" rel=\"nofollow\">Twitter for Mac</a>\n",
       "  screenName      retweetCount isRetweet retweeted longitude latitude\n",
       "1 tomanylies3        0         FALSE     FALSE     NA        NA      \n",
       "2 saigaJay28      3050         FALSE     FALSE     NA        NA      \n",
       "3 pVnY2OhwPwkxNrY  334         FALSE     FALSE     NA        NA      \n",
       "4 patience_shawn     1         FALSE     FALSE     NA        NA      \n",
       "5 ringfibuse1972     2         FALSE     FALSE     NA        NA      \n",
       "6 VictoriaBm        16         FALSE     FALSE     NA        NA      "
      ]
     },
     "metadata": {},
     "output_type": "display_data"
    }
   ],
   "source": [
    "head(df)"
   ]
  },
  {
   "cell_type": "code",
   "execution_count": 57,
   "metadata": {
    "collapsed": true
   },
   "outputs": [],
   "source": [
    "df$text <- sapply(df$text,function(row) iconv(row, \"latin1\", \"ASCII\", sub=\"\"))"
   ]
  },
  {
   "cell_type": "code",
   "execution_count": 58,
   "metadata": {
    "collapsed": true
   },
   "outputs": [],
   "source": [
    "write.table(df$text, \"C:/Users/vivek/Box Sync/Spring 2017/587 DIC/LAB4/tweettext.txt\", sep=\"\\n\") "
   ]
  },
  {
   "cell_type": "code",
   "execution_count": 59,
   "metadata": {
    "collapsed": true
   },
   "outputs": [],
   "source": [
    "dataframe.textfield=as.data.frame(df[,1])"
   ]
  },
  {
   "cell_type": "code",
   "execution_count": 60,
   "metadata": {
    "collapsed": false
   },
   "outputs": [
    {
     "data": {
      "text/html": [
       "<table>\n",
       "<thead><tr><th scope=col>df[, 1]</th></tr></thead>\n",
       "<tbody>\n",
       "\t<tr><td>And kd after being used pulles apart for nfl games and superbowl and playoffs me and my kids now is that both or him because i ask did one </td></tr>\n",
       "\t<tr><td>RT @VoteTrumpPics: I Am Praying for You Mr. President\n",
       "\n",
       "RT if you #Pray4DJT \n",
       "\n",
       " #SuperBowl #PepsiHalftime #Gaga https://t.co/9fj6a1kZ8h  </td></tr>\n",
       "\t<tr><td>RT @NFLRT: \"Be a ballboy, they said.\"\n",
       "\n",
       "\"It'll be fun at the #SuperBowl, they said\"\n",
       "\n",
       "https://t.co/TaglOZ4YjC                            </td></tr>\n",
       "\t<tr><td>RT @DylanAndMuffins: Love and retweet for Shawn Mendes at #SB52  #ShawnMendes #SuperBowl #iHeartAwards                                     </td></tr>\n",
       "\t<tr><td>RT @Yeah38305639: #SuperBowl.  Go #Patriots                                                                                                </td></tr>\n",
       "\t<tr><td>RT @SurvivorHealer: The NFL reports that Lady Gaga's #SuperBowl Halftime Show was the most watched musical performance in HISTORY with a mi</td></tr>\n",
       "</tbody>\n",
       "</table>\n"
      ],
      "text/latex": [
       "\\begin{tabular}{r|l}\n",
       " df{[}, 1{]}\\\\\n",
       "\\hline\n",
       "\t And kd after being used pulles apart for nfl games and superbowl and playoffs me and my kids now is that both or him because i ask did one \\\\\n",
       "\t RT @VoteTrumpPics: I Am Praying for You Mr. President\n",
       "\n",
       "RT if you \\#Pray4DJT \n",
       "\n",
       " \\#SuperBowl \\#PepsiHalftime \\#Gaga https://t.co/9fj6a1kZ8h  \\\\\n",
       "\t RT @NFLRT: \"Be a ballboy, they said.\"\n",
       "\n",
       "\"It'll be fun at the \\#SuperBowl, they said\"\n",
       "\n",
       "https://t.co/TaglOZ4YjC                            \\\\\n",
       "\t RT @DylanAndMuffins: Love and retweet for Shawn Mendes at \\#SB52  \\#ShawnMendes \\#SuperBowl \\#iHeartAwards                                     \\\\\n",
       "\t RT @Yeah38305639: \\#SuperBowl.  Go \\#Patriots                                                                                                \\\\\n",
       "\t RT @SurvivorHealer: The NFL reports that Lady Gaga's \\#SuperBowl Halftime Show was the most watched musical performance in HISTORY with a mi\\\\\n",
       "\\end{tabular}\n"
      ],
      "text/markdown": [
       "\n",
       "df[, 1] | \n",
       "|---|---|---|---|---|---|\n",
       "| And kd after being used pulles apart for nfl games and superbowl and playoffs me and my kids now is that both or him because i ask did one  | \n",
       "| RT @VoteTrumpPics: I Am Praying for You Mr. President\n",
       "\n",
       "RT if you #Pray4DJT \n",
       "\n",
       " #SuperBowl #PepsiHalftime #Gaga https://t.co/9fj6a1kZ8h   | \n",
       "| RT @NFLRT: \"Be a ballboy, they said.\"\n",
       "\n",
       "\"It'll be fun at the #SuperBowl, they said\"\n",
       "\n",
       "https://t.co/TaglOZ4YjC                             | \n",
       "| RT @DylanAndMuffins: Love and retweet for Shawn Mendes at #SB52  #ShawnMendes #SuperBowl #iHeartAwards                                      | \n",
       "| RT @Yeah38305639: #SuperBowl.  Go #Patriots                                                                                                 | \n",
       "| RT @SurvivorHealer: The NFL reports that Lady Gaga's #SuperBowl Halftime Show was the most watched musical performance in HISTORY with a mi | \n",
       "\n",
       "\n"
      ],
      "text/plain": [
       "  df[, 1]                                                                                                                                    \n",
       "1 And kd after being used pulles apart for nfl games and superbowl and playoffs me and my kids now is that both or him because i ask did one \n",
       "2 RT @VoteTrumpPics: I Am Praying for You Mr. President\\n\\nRT if you #Pray4DJT \\n\\n #SuperBowl #PepsiHalftime #Gaga https://t.co/9fj6a1kZ8h  \n",
       "3 RT @NFLRT: \"Be a ballboy, they said.\"\\n\\n\"It'll be fun at the #SuperBowl, they said\"\\n\\nhttps://t.co/TaglOZ4YjC                            \n",
       "4 RT @DylanAndMuffins: Love and retweet for Shawn Mendes at #SB52  #ShawnMendes #SuperBowl #iHeartAwards                                     \n",
       "5 RT @Yeah38305639: #SuperBowl.  Go #Patriots                                                                                                \n",
       "6 RT @SurvivorHealer: The NFL reports that Lady Gaga's #SuperBowl Halftime Show was the most watched musical performance in HISTORY with a mi"
      ]
     },
     "metadata": {},
     "output_type": "display_data"
    }
   ],
   "source": [
    "head(dataframe.textfield)"
   ]
  },
  {
   "cell_type": "code",
   "execution_count": 1,
   "metadata": {
    "collapsed": false
   },
   "outputs": [],
   "source": [
    "dat = read.csv(\"tweettaghashdata.csv\", header = TRUE)"
   ]
  },
  {
   "cell_type": "code",
   "execution_count": 2,
   "metadata": {
    "collapsed": false
   },
   "outputs": [
    {
     "data": {
      "text/html": [
       "<table>\n",
       "<thead><tr><th scope=col>Words</th><th scope=col>Count</th></tr></thead>\n",
       "<tbody>\n",
       "\t<tr><td>#ALLSNKRS      </td><td>2              </td></tr>\n",
       "\t<tr><td>#ASOT800       </td><td>1              </td></tr>\n",
       "\t<tr><td>#ATLFalcons    </td><td>1              </td></tr>\n",
       "\t<tr><td>#AUDIO         </td><td>1              </td></tr>\n",
       "\t<tr><td>#Adafruit      </td><td>2              </td></tr>\n",
       "\t<tr><td>#Akansha_Gautam</td><td>1              </td></tr>\n",
       "</tbody>\n",
       "</table>\n"
      ],
      "text/latex": [
       "\\begin{tabular}{r|ll}\n",
       " Words & Count\\\\\n",
       "\\hline\n",
       "\t \\#ALLSNKRS       & 2                \\\\\n",
       "\t \\#ASOT800        & 1                \\\\\n",
       "\t \\#ATLFalcons     & 1                \\\\\n",
       "\t \\#AUDIO          & 1                \\\\\n",
       "\t \\#Adafruit       & 2                \\\\\n",
       "\t \\#Akansha\\_Gautam & 1                  \\\\\n",
       "\\end{tabular}\n"
      ],
      "text/markdown": [
       "\n",
       "Words | Count | \n",
       "|---|---|---|---|---|---|\n",
       "| #ALLSNKRS       | 2               | \n",
       "| #ASOT800        | 1               | \n",
       "| #ATLFalcons     | 1               | \n",
       "| #AUDIO          | 1               | \n",
       "| #Adafruit       | 2               | \n",
       "| #Akansha_Gautam | 1               | \n",
       "\n",
       "\n"
      ],
      "text/plain": [
       "  Words           Count\n",
       "1 #ALLSNKRS       2    \n",
       "2 #ASOT800        1    \n",
       "3 #ATLFalcons     1    \n",
       "4 #AUDIO          1    \n",
       "5 #Adafruit       2    \n",
       "6 #Akansha_Gautam 1    "
      ]
     },
     "metadata": {},
     "output_type": "display_data"
    }
   ],
   "source": [
    "head(dat)"
   ]
  },
  {
   "cell_type": "code",
   "execution_count": 55,
   "metadata": {
    "collapsed": false
   },
   "outputs": [
    {
     "data": {
      "text/html": [
       "<table>\n",
       "<thead><tr><th scope=col>Words</th><th scope=col>Count</th></tr></thead>\n",
       "<tbody>\n",
       "\t<tr><td>#ALLSNKRS      </td><td>2              </td></tr>\n",
       "\t<tr><td>#ASOT800       </td><td>1              </td></tr>\n",
       "\t<tr><td>#ATLFalcons    </td><td>1              </td></tr>\n",
       "\t<tr><td>#AUDIO         </td><td>1              </td></tr>\n",
       "\t<tr><td>#Adafruit      </td><td>2              </td></tr>\n",
       "\t<tr><td>#Akansha_Gautam</td><td>1              </td></tr>\n",
       "\t<tr><td>#AllStarGame   </td><td>1              </td></tr>\n",
       "\t<tr><td>#Apuesta|      </td><td>1              </td></tr>\n",
       "\t<tr><td>#Arena         </td><td>2              </td></tr>\n",
       "\t<tr><td>#AskKI         </td><td>1              </td></tr>\n",
       "\t<tr><td>#AtlantaFalcons</td><td>1              </td></tr>\n",
       "\t<tr><td>#BBCNews       </td><td>1              </td></tr>\n",
       "\t<tr><td>#Beauty        </td><td>1              </td></tr>\n",
       "\t<tr><td>#Belichick     </td><td>1              </td></tr>\n",
       "\t<tr><td>#Bouchard      </td><td>1              </td></tr>\n",
       "\t<tr><td>#Brady         </td><td>3              </td></tr>\n",
       "\t<tr><td>#Braves        </td><td>1              </td></tr>\n",
       "\t<tr><td>#BreakingNews  </td><td>2              </td></tr>\n",
       "\t<tr><td>#BroadwayJoe   </td><td>1              </td></tr>\n",
       "\t<tr><td>#Cards         </td><td>1              </td></tr>\n",
       "\t<tr><td>#Cheerleader   </td><td>1              </td></tr>\n",
       "\t<tr><td>#DYK           </td><td>1              </td></tr>\n",
       "\t<tr><td>#DallasCowboys </td><td>1              </td></tr>\n",
       "\t<tr><td>#Deportes      </td><td>1              </td></tr>\n",
       "\t<tr><td>#DigiVideoPlus </td><td>1              </td></tr>\n",
       "\t<tr><td>#Dolphins      </td><td>3              </td></tr>\n",
       "\t<tr><td>#ElSuenoDelPibe</td><td>1              </td></tr>\n",
       "\t<tr><td>#EliManning    </td><td>1              </td></tr>\n",
       "\t<tr><td>#EnConcreto    </td><td>1              </td></tr>\n",
       "\t<tr><td>#Espn          </td><td>3              </td></tr>\n",
       "\t<tr><td>...</td><td>...</td></tr>\n",
       "\t<tr><td>#NBAAllStar                 </td><td>  1                         </td></tr>\n",
       "\t<tr><td>#NCAAF                      </td><td>  3                         </td></tr>\n",
       "\t<tr><td>#NEW                        </td><td> 10                         </td></tr>\n",
       "\t<tr><td>#NFL                        </td><td>115                         </td></tr>\n",
       "\t<tr><td>#NFLesp                     </td><td>  1                         </td></tr>\n",
       "\t<tr><td>#NewYork                    </td><td>  1                         </td></tr>\n",
       "\t<tr><td>#NotiDia                    </td><td>  1                         </td></tr>\n",
       "\t<tr><td>#Onalytical                 </td><td>  1                         </td></tr>\n",
       "\t<tr><td>#Packers                    </td><td>  1                         </td></tr>\n",
       "\t<tr><td>#Patriots                   </td><td> 18                         </td></tr>\n",
       "\t<tr><td>#PatriotsNation             </td><td>  2                         </td></tr>\n",
       "\t<tr><td>#PeytonManning              </td><td>  3                         </td></tr>\n",
       "\t<tr><td>#Pizzagate                  </td><td>  1                         </td></tr>\n",
       "\t<tr><td>#RedKingSinghTv             </td><td>  4                         </td></tr>\n",
       "\t<tr><td>#Repost                     </td><td>  3                         </td></tr>\n",
       "\t<tr><td>#SB51                       </td><td>  2                         </td></tr>\n",
       "\t<tr><td>#SICoverOTD                 </td><td>  1                         </td></tr>\n",
       "\t<tr><td>#SNKRS411                   </td><td>  2                         </td></tr>\n",
       "\t<tr><td>#Seafood                    </td><td>  1                         </td></tr>\n",
       "\t<tr><td>#Seahawks                   </td><td>  2                         </td></tr>\n",
       "\t<tr><td>#Seattle                    </td><td>  1                         </td></tr>\n",
       "\t<tr><td>#Shoe                       </td><td>  1                         </td></tr>\n",
       "\t<tr><td>#SillyQuestionsIWantAnswered</td><td>  1                         </td></tr>\n",
       "\t<tr><td>#SoundFX                    </td><td>  1                         </td></tr>\n",
       "\t<tr><td>#Sport                      </td><td> 12                         </td></tr>\n",
       "\t<tr><td>#Sporting                   </td><td>  2                         </td></tr>\n",
       "\t<tr><td>#Sports                     </td><td>  7                         </td></tr>\n",
       "\t<tr><td>#SportsCentralKE            </td><td>  1                         </td></tr>\n",
       "\t<tr><td>#Spurs                      </td><td>  1                         </td></tr>\n",
       "\t<tr><td>#Steelers                   </td><td>  1                         </td></tr>\n",
       "</tbody>\n",
       "</table>\n"
      ],
      "text/latex": [
       "\\begin{tabular}{r|ll}\n",
       " Words & Count\\\\\n",
       "\\hline\n",
       "\t \\#ALLSNKRS       & 2                \\\\\n",
       "\t \\#ASOT800        & 1                \\\\\n",
       "\t \\#ATLFalcons     & 1                \\\\\n",
       "\t \\#AUDIO          & 1                \\\\\n",
       "\t \\#Adafruit       & 2                \\\\\n",
       "\t \\#Akansha\\_Gautam & 1                  \\\\\n",
       "\t \\#AllStarGame    & 1                \\\\\n",
       "\t \\#Apuesta\\textbar{}       & 1                          \\\\\n",
       "\t \\#Arena          & 2                \\\\\n",
       "\t \\#AskKI          & 1                \\\\\n",
       "\t \\#AtlantaFalcons & 1                \\\\\n",
       "\t \\#BBCNews        & 1                \\\\\n",
       "\t \\#Beauty         & 1                \\\\\n",
       "\t \\#Belichick      & 1                \\\\\n",
       "\t \\#Bouchard       & 1                \\\\\n",
       "\t \\#Brady          & 3                \\\\\n",
       "\t \\#Braves         & 1                \\\\\n",
       "\t \\#BreakingNews   & 2                \\\\\n",
       "\t \\#BroadwayJoe    & 1                \\\\\n",
       "\t \\#Cards          & 1                \\\\\n",
       "\t \\#Cheerleader    & 1                \\\\\n",
       "\t \\#DYK            & 1                \\\\\n",
       "\t \\#DallasCowboys  & 1                \\\\\n",
       "\t \\#Deportes       & 1                \\\\\n",
       "\t \\#DigiVideoPlus  & 1                \\\\\n",
       "\t \\#Dolphins       & 3                \\\\\n",
       "\t \\#ElSuenoDelPibe & 1                \\\\\n",
       "\t \\#EliManning     & 1                \\\\\n",
       "\t \\#EnConcreto     & 1                \\\\\n",
       "\t \\#Espn           & 3                \\\\\n",
       "\t ... & ...\\\\\n",
       "\t \\#NBAAllStar                  &   1                           \\\\\n",
       "\t \\#NCAAF                       &   3                           \\\\\n",
       "\t \\#NEW                         &  10                           \\\\\n",
       "\t \\#NFL                         & 115                           \\\\\n",
       "\t \\#NFLesp                      &   1                           \\\\\n",
       "\t \\#NewYork                     &   1                           \\\\\n",
       "\t \\#NotiDia                     &   1                           \\\\\n",
       "\t \\#Onalytical                  &   1                           \\\\\n",
       "\t \\#Packers                     &   1                           \\\\\n",
       "\t \\#Patriots                    &  18                           \\\\\n",
       "\t \\#PatriotsNation              &   2                           \\\\\n",
       "\t \\#PeytonManning               &   3                           \\\\\n",
       "\t \\#Pizzagate                   &   1                           \\\\\n",
       "\t \\#RedKingSinghTv              &   4                           \\\\\n",
       "\t \\#Repost                      &   3                           \\\\\n",
       "\t \\#SB51                        &   2                           \\\\\n",
       "\t \\#SICoverOTD                  &   1                           \\\\\n",
       "\t \\#SNKRS411                    &   2                           \\\\\n",
       "\t \\#Seafood                     &   1                           \\\\\n",
       "\t \\#Seahawks                    &   2                           \\\\\n",
       "\t \\#Seattle                     &   1                           \\\\\n",
       "\t \\#Shoe                        &   1                           \\\\\n",
       "\t \\#SillyQuestionsIWantAnswered &   1                           \\\\\n",
       "\t \\#SoundFX                     &   1                           \\\\\n",
       "\t \\#Sport                       &  12                           \\\\\n",
       "\t \\#Sporting                    &   2                           \\\\\n",
       "\t \\#Sports                      &   7                           \\\\\n",
       "\t \\#SportsCentralKE             &   1                           \\\\\n",
       "\t \\#Spurs                       &   1                           \\\\\n",
       "\t \\#Steelers                    &   1                           \\\\\n",
       "\\end{tabular}\n"
      ],
      "text/markdown": [
       "\n",
       "Words | Count | \n",
       "|---|---|---|---|---|---|---|---|---|---|---|---|---|---|---|---|---|---|---|---|---|---|---|---|---|---|---|---|---|---|---|---|---|---|---|---|---|---|---|---|---|---|---|---|---|---|---|---|---|---|---|---|---|---|---|---|---|---|---|---|---|\n",
       "| #ALLSNKRS       | 2               | \n",
       "| #ASOT800        | 1               | \n",
       "| #ATLFalcons     | 1               | \n",
       "| #AUDIO          | 1               | \n",
       "| #Adafruit       | 2               | \n",
       "| #Akansha_Gautam | 1               | \n",
       "| #AllStarGame    | 1               | \n",
       "| #Apuesta|       | 1               | \n",
       "| #Arena          | 2               | \n",
       "| #AskKI          | 1               | \n",
       "| #AtlantaFalcons | 1               | \n",
       "| #BBCNews        | 1               | \n",
       "| #Beauty         | 1               | \n",
       "| #Belichick      | 1               | \n",
       "| #Bouchard       | 1               | \n",
       "| #Brady          | 3               | \n",
       "| #Braves         | 1               | \n",
       "| #BreakingNews   | 2               | \n",
       "| #BroadwayJoe    | 1               | \n",
       "| #Cards          | 1               | \n",
       "| #Cheerleader    | 1               | \n",
       "| #DYK            | 1               | \n",
       "| #DallasCowboys  | 1               | \n",
       "| #Deportes       | 1               | \n",
       "| #DigiVideoPlus  | 1               | \n",
       "| #Dolphins       | 3               | \n",
       "| #ElSuenoDelPibe | 1               | \n",
       "| #EliManning     | 1               | \n",
       "| #EnConcreto     | 1               | \n",
       "| #Espn           | 3               | \n",
       "| ... | ... | \n",
       "| #NBAAllStar                  |   1                          | \n",
       "| #NCAAF                       |   3                          | \n",
       "| #NEW                         |  10                          | \n",
       "| #NFL                         | 115                          | \n",
       "| #NFLesp                      |   1                          | \n",
       "| #NewYork                     |   1                          | \n",
       "| #NotiDia                     |   1                          | \n",
       "| #Onalytical                  |   1                          | \n",
       "| #Packers                     |   1                          | \n",
       "| #Patriots                    |  18                          | \n",
       "| #PatriotsNation              |   2                          | \n",
       "| #PeytonManning               |   3                          | \n",
       "| #Pizzagate                   |   1                          | \n",
       "| #RedKingSinghTv              |   4                          | \n",
       "| #Repost                      |   3                          | \n",
       "| #SB51                        |   2                          | \n",
       "| #SICoverOTD                  |   1                          | \n",
       "| #SNKRS411                    |   2                          | \n",
       "| #Seafood                     |   1                          | \n",
       "| #Seahawks                    |   2                          | \n",
       "| #Seattle                     |   1                          | \n",
       "| #Shoe                        |   1                          | \n",
       "| #SillyQuestionsIWantAnswered |   1                          | \n",
       "| #SoundFX                     |   1                          | \n",
       "| #Sport                       |  12                          | \n",
       "| #Sporting                    |   2                          | \n",
       "| #Sports                      |   7                          | \n",
       "| #SportsCentralKE             |   1                          | \n",
       "| #Spurs                       |   1                          | \n",
       "| #Steelers                    |   1                          | \n",
       "\n",
       "\n"
      ],
      "text/plain": [
       "    Words                        Count\n",
       "1   #ALLSNKRS                    2    \n",
       "2   #ASOT800                     1    \n",
       "3   #ATLFalcons                  1    \n",
       "4   #AUDIO                       1    \n",
       "5   #Adafruit                    2    \n",
       "6   #Akansha_Gautam              1    \n",
       "7   #AllStarGame                 1    \n",
       "8   #Apuesta|                    1    \n",
       "9   #Arena                       2    \n",
       "10  #AskKI                       1    \n",
       "11  #AtlantaFalcons              1    \n",
       "12  #BBCNews                     1    \n",
       "13  #Beauty                      1    \n",
       "14  #Belichick                   1    \n",
       "15  #Bouchard                    1    \n",
       "16  #Brady                       3    \n",
       "17  #Braves                      1    \n",
       "18  #BreakingNews                2    \n",
       "19  #BroadwayJoe                 1    \n",
       "20  #Cards                       1    \n",
       "21  #Cheerleader                 1    \n",
       "22  #DYK                         1    \n",
       "23  #DallasCowboys               1    \n",
       "24  #Deportes                    1    \n",
       "25  #DigiVideoPlus               1    \n",
       "26  #Dolphins                    3    \n",
       "27  #ElSuenoDelPibe              1    \n",
       "28  #EliManning                  1    \n",
       "29  #EnConcreto                  1    \n",
       "30  #Espn                        3    \n",
       "... ...                          ...  \n",
       "71  #NBAAllStar                    1  \n",
       "72  #NCAAF                         3  \n",
       "73  #NEW                          10  \n",
       "74  #NFL                         115  \n",
       "75  #NFLesp                        1  \n",
       "76  #NewYork                       1  \n",
       "77  #NotiDia                       1  \n",
       "78  #Onalytical                    1  \n",
       "79  #Packers                       1  \n",
       "80  #Patriots                     18  \n",
       "81  #PatriotsNation                2  \n",
       "82  #PeytonManning                 3  \n",
       "83  #Pizzagate                     1  \n",
       "84  #RedKingSinghTv                4  \n",
       "85  #Repost                        3  \n",
       "86  #SB51                          2  \n",
       "87  #SICoverOTD                    1  \n",
       "88  #SNKRS411                      2  \n",
       "89  #Seafood                       1  \n",
       "90  #Seahawks                      2  \n",
       "91  #Seattle                       1  \n",
       "92  #Shoe                          1  \n",
       "93  #SillyQuestionsIWantAnswered   1  \n",
       "94  #SoundFX                       1  \n",
       "95  #Sport                        12  \n",
       "96  #Sporting                      2  \n",
       "97  #Sports                        7  \n",
       "98  #SportsCentralKE               1  \n",
       "99  #Spurs                         1  \n",
       "100 #Steelers                      1  "
      ]
     },
     "metadata": {},
     "output_type": "display_data"
    }
   ],
   "source": [
    "# alpha=head(dat)\n",
    "\n",
    "alpha"
   ]
  },
  {
   "cell_type": "code",
   "execution_count": 56,
   "metadata": {
    "collapsed": false
   },
   "outputs": [
    {
     "data": {
      "text/html": [
       "'data.frame'"
      ],
      "text/latex": [
       "'data.frame'"
      ],
      "text/markdown": [
       "'data.frame'"
      ],
      "text/plain": [
       "[1] \"data.frame\""
      ]
     },
     "metadata": {},
     "output_type": "display_data"
    }
   ],
   "source": [
    "class(alpha)"
   ]
  },
  {
   "cell_type": "code",
   "execution_count": 6,
   "metadata": {
    "collapsed": false
   },
   "outputs": [
    {
     "name": "stdout",
     "output_type": "stream",
     "text": [
      "package 'RColorBrewer' successfully unpacked and MD5 sums checked\n",
      "\n",
      "The downloaded binary packages are in\n",
      "\tC:\\Users\\vivek\\AppData\\Local\\Temp\\RtmpOOIia1\\downloaded_packages\n"
     ]
    }
   ],
   "source": [
    "install.packages(\"RColorBrewer\", repos=\"http://cran.us.r-project.org/\")\n"
   ]
  },
  {
   "cell_type": "code",
   "execution_count": 8,
   "metadata": {
    "collapsed": false
   },
   "outputs": [
    {
     "name": "stderr",
     "output_type": "stream",
     "text": [
      "Warning message:\n",
      "\"package 'wordcloud' was built under R version 3.3.3\""
     ]
    }
   ],
   "source": [
    "library(RColorBrewer)\n",
    "library(wordcloud)"
   ]
  },
  {
   "cell_type": "code",
   "execution_count": 13,
   "metadata": {
    "collapsed": false
   },
   "outputs": [
    {
     "data": {
      "image/png": "[encoded data removed]",
      "text/plain": [
       "plot without title"
      ]
     },
     "metadata": {},
     "output_type": "display_data"
    }
   ],
   "source": [
    "alpha=dat[1:3000,]\n",
    "# wordcloud(alpha$Words,alpha$Count,scale=c(4,.5),min.freq=3,max.words=Inf,random.order=TRUE, random.color=FALSE, \n",
    "#           rot.per=.1,\n",
    "# colors=\"black\",ordered.colors=FALSE,use.r.layout=FALSE,\n",
    "# fixed.asp=TRUE)\n",
    "wordcloud(alpha$Words,alpha$Count,random.order=FALSE,colors=brewer.pal(8,\"Dark2\"))"
   ]
  },
  {
   "cell_type": "code",
   "execution_count": null,
   "metadata": {
    "collapsed": true
   },
   "outputs": [],
   "source": []
  }
 ],
 "metadata": {
  "kernelspec": {
   "display_name": "R",
   "language": "R",
   "name": "ir"
  },
  "language_info": {
   "codemirror_mode": "r",
   "file_extension": ".r",
   "mimetype": "text/x-r-source",
   "name": "R",
   "pygments_lexer": "r",
   "version": "3.3.2"
  }
 },
 "nbformat": 4,
 "nbformat_minor": 2
}
