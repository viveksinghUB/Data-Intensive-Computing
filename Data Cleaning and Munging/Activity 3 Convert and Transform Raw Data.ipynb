{
 "cells": [
  {
   "cell_type": "markdown",
   "metadata": {
    "collapsed": false
   },
   "source": [
    "###### My Topics:\n",
    "\n",
    "1) Internet subscription at home<br/>\n",
    "2) Online dating<br/>\n",
    "3) Why one doesnot use smartphone<br/>\n",
    "4) Cable connection and net subscription<br/>\n",
    "5) Voilent games\n",
    "\n",
    "<b>My Questions :<br/>\n",
    "1.1) Are people with high income more likely to have internet subscription at home as compared to people with low income?<br/><br/>\n",
    "1.2) Are people with more education more likely to have internet subscription at home as compared to people with low education?<br/><br/>\n",
    "2)   Do people with high education think that online dating keeps people from settling down? <br/><br/>\n",
    "3)   Why do most graduates and above dont use smartphones<br/><br/>\n",
    "4)   Are people with high speed connection not likely to have tv connection at home ?<br/><br/>\n",
    "5)   Do women and men hold varying opinion about voilence induced by violent games?<br/> </b><br/>"
   ]
  },
  {
   "cell_type": "markdown",
   "metadata": {},
   "source": [
    "# Preprocessing  : Data cleaning and Munging"
   ]
  },
  {
   "cell_type": "markdown",
   "metadata": {},
   "source": [
    "###### Load all the required libraries"
   ]
  },
  {
   "cell_type": "code",
   "execution_count": 1,
   "metadata": {
    "collapsed": false
   },
   "outputs": [
    {
     "name": "stderr",
     "output_type": "stream",
     "text": [
      "\n",
      "Attaching package: 'dplyr'\n",
      "\n",
      "The following objects are masked from 'package:stats':\n",
      "\n",
      "    filter, lag\n",
      "\n",
      "The following objects are masked from 'package:base':\n",
      "\n",
      "    intersect, setdiff, setequal, union\n",
      "\n",
      "\n",
      "Attaching package: 'purrr'\n",
      "\n",
      "The following objects are masked from 'package:dplyr':\n",
      "\n",
      "    contains, order_by\n",
      "\n",
      "\n",
      "Attaching package: 'magrittr'\n",
      "\n",
      "The following object is masked from 'package:tidyr':\n",
      "\n",
      "    extract\n",
      "\n",
      "The following object is masked from 'package:purrr':\n",
      "\n",
      "    set_names\n",
      "\n",
      "\n",
      "Attaching package: 'reshape2'\n",
      "\n",
      "The following object is masked from 'package:tidyr':\n",
      "\n",
      "    smiths\n",
      "\n",
      "\n",
      "Attaching package: 'jsonlite'\n",
      "\n",
      "The following object is masked from 'package:purrr':\n",
      "\n",
      "    flatten\n",
      "\n"
     ]
    }
   ],
   "source": [
    "library(dplyr)\n",
    "library(purrr)\n",
    "library(tidyr)\n",
    "library(ggplot2)\n",
    "library(broom)\n",
    "library(magrittr)\n",
    "library(RSQLite)\n",
    "library(reshape2)\n",
    "library(jsonlite)\n",
    "library(knitr)"
   ]
  },
  {
   "cell_type": "markdown",
   "metadata": {},
   "source": [
    "######  Steps : Cleaning and Munging <br/>\n",
    "1) Read data from csv<br/><br/>\n",
    "2) Rename columns for better redability : <br/><br/>\n",
    "&emsp;&emsp;&emsp;      sampleid=ï..psraid<br/><br/>\n",
    "&emsp;&emsp;&emsp;      Internet_Service_at_Home=home4nw<br/><br/>\n",
    "&emsp;&emsp;&emsp;      Type_of_Net=bbhome1<br/><br/>\n",
    "&emsp;&emsp;&emsp;      Television_Connection=cable2<br/><br/>\n",
    "&emsp;&emsp;&emsp;      Education_Level=educ2<br/><br/>\n",
    "&emsp;&emsp;&emsp;      NoSmartPhones=q4<br/><br/>\n",
    "&emsp;&emsp;&emsp;      Violentgames=game3b<br/><br/>\n",
    "&emsp;&emsp;&emsp;      OnlineDatingA=date4a<br/><br/>\n",
    "3) Change all columns containing integers to factors.<br/><br/>"
   ]
  },
  {
   "cell_type": "code",
   "execution_count": 2,
   "metadata": {
    "collapsed": false,
    "scrolled": true
   },
   "outputs": [
    {
     "data": {
      "text/plain": [
       "   ï..psraid          sample        int_date          lang       usr    \n",
       " Min.   :100006   Min.   :1.00   Min.   :61015   Min.   :1.000   R:375  \n",
       " 1st Qu.:102765   1st Qu.:1.00   1st Qu.:62115   1st Qu.:1.000   S:971  \n",
       " Median :201182   Median :2.00   Median :62415   Median :1.000   U:655  \n",
       " Mean   :167354   Mean   :1.65   Mean   :63683   Mean   :1.051          \n",
       " 3rd Qu.:203261   3rd Qu.:2.00   3rd Qu.:62915   3rd Qu.:1.000          \n",
       " Max.   :205508   Max.   :2.00   Max.   :71215   Max.   :2.000          \n",
       "                                                                        \n",
       "    cregion          state            form            sex       \n",
       " Min.   :1.000   Min.   : 1.00   Min.   :1.000   Min.   :1.000  \n",
       " 1st Qu.:2.000   1st Qu.:13.00   1st Qu.:1.000   1st Qu.:1.000  \n",
       " Median :3.000   Median :29.00   Median :2.000   Median :2.000  \n",
       " Mean   :2.667   Mean   :28.82   Mean   :1.515   Mean   :1.506  \n",
       " 3rd Qu.:3.000   3rd Qu.:42.00   3rd Qu.:2.000   3rd Qu.:2.000  \n",
       " Max.   :4.000   Max.   :56.00   Max.   :2.000   Max.   :2.000  \n",
       "                                                                \n",
       "       q1              q3           eminuse          intmob     \n",
       " Min.   :1.000   Min.   :1.000   Min.   :1.000   Min.   :1.000  \n",
       " 1st Qu.:1.000   1st Qu.:2.000   1st Qu.:1.000   1st Qu.:1.000  \n",
       " Median :2.000   Median :2.000   Median :1.000   Median :1.000  \n",
       " Mean   :1.824   Mean   :2.568   Mean   :1.169   Mean   :1.266  \n",
       " 3rd Qu.:2.000   3rd Qu.:3.000   3rd Qu.:1.000   3rd Qu.:2.000  \n",
       " Max.   :9.000   Max.   :9.000   Max.   :9.000   Max.   :9.000  \n",
       "                                                                \n",
       "    intfreq         home4nw        bbhome1         bbhome2         bbhome3a   \n",
       " Min.   :1.000   Min.   :1.00   Min.   :1.000   Min.   :1.000   Min.   :1.00  \n",
       " 1st Qu.:2.000   1st Qu.:1.00   1st Qu.:2.000   1st Qu.:1.000   1st Qu.:1.00  \n",
       " Median :2.000   Median :1.00   Median :2.000   Median :1.000   Median :2.00  \n",
       " Mean   :2.336   Mean   :1.14   Mean   :2.243   Mean   :1.646   Mean   :2.22  \n",
       " 3rd Qu.:3.000   3rd Qu.:1.00   3rd Qu.:2.000   3rd Qu.:2.000   3rd Qu.:3.00  \n",
       " Max.   :9.000   Max.   :8.00   Max.   :9.000   Max.   :8.000   Max.   :9.00  \n",
       " NA's   :261     NA's   :261    NA's   :492     NA's   :1953                  \n",
       "    bbhome3b        bbhome3c        bbhome3d        bbhome3e       device1a    \n",
       " Min.   :1.000   Min.   :1.000   Min.   :1.000   Min.   :1.00   Min.   :1.000  \n",
       " 1st Qu.:1.000   1st Qu.:1.000   1st Qu.:1.000   1st Qu.:1.00   1st Qu.:1.000  \n",
       " Median :2.000   Median :2.000   Median :2.000   Median :2.00   Median :1.000  \n",
       " Mean   :2.128   Mean   :2.251   Mean   :2.184   Mean   :2.13   Mean   :1.167  \n",
       " 3rd Qu.:3.000   3rd Qu.:3.000   3rd Qu.:3.000   3rd Qu.:3.00   3rd Qu.:1.000  \n",
       " Max.   :9.000   Max.   :9.000   Max.   :9.000   Max.   :9.00   Max.   :9.000  \n",
       "                                                                NA's   :1300   \n",
       "     smart1            q4            bbsmart1        bbsmart2    \n",
       " Min.   :1.000   Min.   : 1.000   Min.   :1.000   Min.   :1.000  \n",
       " 1st Qu.:1.000   1st Qu.: 1.000   1st Qu.:1.000   1st Qu.:2.000  \n",
       " Median :1.000   Median : 2.000   Median :2.000   Median :2.000  \n",
       " Mean   :1.676   Mean   : 9.663   Mean   :2.045   Mean   :2.059  \n",
       " 3rd Qu.:2.000   3rd Qu.: 4.000   3rd Qu.:2.000   3rd Qu.:2.000  \n",
       " Max.   :9.000   Max.   :99.000   Max.   :9.000   Max.   :9.000  \n",
       " NA's   :98      NA's   :1425     NA's   :1396    NA's   :1396   \n",
       "   bbsmart3a       bbsmart3b       bbsmart3c       bbsmart3d    \n",
       " Min.   :1.000   Min.   :1.000   Min.   :1.000   Min.   :1.000  \n",
       " 1st Qu.:1.000   1st Qu.:1.000   1st Qu.:1.000   1st Qu.:1.000  \n",
       " Median :1.000   Median :2.000   Median :1.000   Median :2.000  \n",
       " Mean   :1.896   Mean   :1.964   Mean   :1.775   Mean   :1.884  \n",
       " 3rd Qu.:2.000   3rd Qu.:2.000   3rd Qu.:2.000   3rd Qu.:2.000  \n",
       " Max.   :9.000   Max.   :9.000   Max.   :9.000   Max.   :9.000  \n",
       " NA's   :1396    NA's   :1396    NA's   :1757    NA's   :1396   \n",
       "   bbsmart3e       bbsmart3f        bbsmart4         cable1     \n",
       " Min.   :1.000   Min.   :1.000   Min.   :1.000   Min.   :1.000  \n",
       " 1st Qu.:2.000   1st Qu.:1.000   1st Qu.:1.000   1st Qu.:1.000  \n",
       " Median :2.000   Median :2.000   Median :3.000   Median :1.000  \n",
       " Mean   :2.792   Mean   :2.177   Mean   :3.187   Mean   :1.226  \n",
       " 3rd Qu.:2.000   3rd Qu.:2.000   3rd Qu.:5.000   3rd Qu.:1.000  \n",
       " Max.   :9.000   Max.   :9.000   Max.   :9.000   Max.   :8.000  \n",
       " NA's   :1396    NA's   :1396    NA's   :1600                   \n",
       "     cable2         cable3a         cable3b         cable3c     \n",
       " Min.   :1.000   Min.   :1.000   Min.   :1.000   Min.   :1.000  \n",
       " 1st Qu.:1.000   1st Qu.:1.000   1st Qu.:1.000   1st Qu.:1.000  \n",
       " Median :1.000   Median :2.000   Median :1.000   Median :1.000  \n",
       " Mean   :1.425   Mean   :1.723   Mean   :1.416   Mean   :1.624  \n",
       " 3rd Qu.:2.000   3rd Qu.:2.000   3rd Qu.:2.000   3rd Qu.:2.000  \n",
       " Max.   :8.000   Max.   :9.000   Max.   :9.000   Max.   :9.000  \n",
       " NA's   :1578    NA's   :1578    NA's   :1578    NA's   :1578   \n",
       "     act19           act87a          act87b          act137     \n",
       " Min.   :1.000   Min.   :1.000   Min.   :1.000   Min.   :1.000  \n",
       " 1st Qu.:1.000   1st Qu.:1.000   1st Qu.:1.000   1st Qu.:1.000  \n",
       " Median :1.000   Median :1.000   Median :1.000   Median :2.000  \n",
       " Mean   :1.436   Mean   :1.291   Mean   :1.381   Mean   :1.532  \n",
       " 3rd Qu.:2.000   3rd Qu.:2.000   3rd Qu.:2.000   3rd Qu.:2.000  \n",
       " Max.   :8.000   Max.   :8.000   Max.   :8.000   Max.   :8.000  \n",
       " NA's   :261     NA's   :1174    NA's   :1088    NA's   :261    \n",
       "      q5a             q5b             q5c             q5d            q5e      \n",
       " Min.   :1.000   Min.   :1.000   Min.   :1.000   Min.   :1.00   Min.   :1.00  \n",
       " 1st Qu.:1.000   1st Qu.:1.000   1st Qu.:1.000   1st Qu.:1.00   1st Qu.:2.00  \n",
       " Median :2.000   Median :2.000   Median :1.000   Median :2.00   Median :2.00  \n",
       " Mean   :1.699   Mean   :1.577   Mean   :1.342   Mean   :1.66   Mean   :1.79  \n",
       " 3rd Qu.:2.000   3rd Qu.:2.000   3rd Qu.:2.000   3rd Qu.:2.00   3rd Qu.:2.00  \n",
       " Max.   :8.000   Max.   :8.000   Max.   :8.000   Max.   :2.00   Max.   :2.00  \n",
       " NA's   :1068    NA's   :1068    NA's   :1068    NA's   :1031   NA's   :1031  \n",
       "      q5f            date1a          date2a          date3a     \n",
       " Min.   :1.000   Min.   :1.000   Min.   :1.000   Min.   :1.000  \n",
       " 1st Qu.:1.000   1st Qu.:2.000   1st Qu.:2.000   1st Qu.:1.000  \n",
       " Median :2.000   Median :2.000   Median :2.000   Median :2.000  \n",
       " Mean   :1.541   Mean   :1.878   Mean   :1.905   Mean   :1.684  \n",
       " 3rd Qu.:2.000   3rd Qu.:2.000   3rd Qu.:2.000   3rd Qu.:2.000  \n",
       " Max.   :9.000   Max.   :9.000   Max.   :8.000   Max.   :9.000  \n",
       " NA's   :1031    NA's   :261     NA's   :674                    \n",
       "     date3b          date4a          date4b          date4c     \n",
       " Min.   :1.000   Min.   :1.000   Min.   :1.000   Min.   :1.000  \n",
       " 1st Qu.:1.000   1st Qu.:1.000   1st Qu.:1.000   1st Qu.:2.000  \n",
       " Median :2.000   Median :1.000   Median :2.000   Median :2.000  \n",
       " Mean   :1.773   Mean   :1.869   Mean   :1.991   Mean   :2.195  \n",
       " 3rd Qu.:2.000   3rd Qu.:2.000   3rd Qu.:2.000   3rd Qu.:2.000  \n",
       " Max.   :9.000   Max.   :9.000   Max.   :9.000   Max.   :9.000  \n",
       "                                                                \n",
       "     date4d          date4e         date4f          game1           game2a    \n",
       " Min.   :1.000   Min.   :1.00   Min.   :1.000   Min.   :1.000   Min.   :1.00  \n",
       " 1st Qu.:1.000   1st Qu.:1.00   1st Qu.:1.000   1st Qu.:1.000   1st Qu.:2.00  \n",
       " Median :2.000   Median :2.00   Median :1.000   Median :2.000   Median :2.00  \n",
       " Mean   :2.397   Mean   :2.15   Mean   :1.811   Mean   :1.554   Mean   :3.34  \n",
       " 3rd Qu.:2.000   3rd Qu.:2.00   3rd Qu.:2.000   3rd Qu.:2.000   3rd Qu.:3.00  \n",
       " Max.   :9.000   Max.   :9.00   Max.   :9.000   Max.   :9.000   Max.   :9.00  \n",
       "                                                                              \n",
       "     game2b          game2c          game2d          game2e     \n",
       " Min.   :1.000   Min.   :1.000   Min.   :1.000   Min.   :1.000  \n",
       " 1st Qu.:1.000   1st Qu.:2.000   1st Qu.:2.000   1st Qu.:2.000  \n",
       " Median :2.000   Median :3.000   Median :3.000   Median :8.000  \n",
       " Mean   :3.058   Mean   :4.671   Mean   :3.993   Mean   :5.238  \n",
       " 3rd Qu.:3.000   3rd Qu.:8.000   3rd Qu.:8.000   3rd Qu.:8.000  \n",
       " Max.   :9.000   Max.   :9.000   Max.   :9.000   Max.   :9.000  \n",
       "                                                                \n",
       "     game2f          game3a          game3b          game4      \n",
       " Min.   :1.000   Min.   :1.000   Min.   :1.000   Min.   :1.000  \n",
       " 1st Qu.:2.000   1st Qu.:1.000   1st Qu.:1.000   1st Qu.:2.000  \n",
       " Median :3.000   Median :1.000   Median :2.000   Median :2.000  \n",
       " Mean   :3.899   Mean   :2.134   Mean   :2.128   Mean   :1.938  \n",
       " 3rd Qu.:8.000   3rd Qu.:2.000   3rd Qu.:2.000   3rd Qu.:2.000  \n",
       " Max.   :9.000   Max.   :9.000   Max.   :9.000   Max.   :8.000  \n",
       "                                                 NA's   :1076   \n",
       "     emplnw          emptype1         emptype2        emptype3    \n",
       " Min.   : 1.000   Min.   : 1.000   Min.   :1.000   Min.   :1.000  \n",
       " 1st Qu.: 1.000   1st Qu.: 1.000   1st Qu.:1.000   1st Qu.:1.000  \n",
       " Median : 2.000   Median : 3.000   Median :2.000   Median :1.000  \n",
       " Mean   : 2.769   Mean   : 3.419   Mean   :1.605   Mean   :2.249  \n",
       " 3rd Qu.: 3.000   3rd Qu.: 4.000   3rd Qu.:2.000   3rd Qu.:4.000  \n",
       " Max.   :99.000   Max.   :98.000   Max.   :8.000   Max.   :8.000  \n",
       "                  NA's   :901      NA's   :901     NA's   :1347   \n",
       "      stud           job1a           job1b           job1c      \n",
       " Min.   :1.000   Min.   :1.000   Min.   :1.000   Min.   :1.000  \n",
       " 1st Qu.:3.000   1st Qu.:1.000   1st Qu.:1.000   1st Qu.:1.000  \n",
       " Median :3.000   Median :1.000   Median :1.000   Median :1.000  \n",
       " Mean   :2.829   Mean   :1.813   Mean   :1.584   Mean   :1.714  \n",
       " 3rd Qu.:3.000   3rd Qu.:2.000   3rd Qu.:2.000   3rd Qu.:2.000  \n",
       " Max.   :9.000   Max.   :9.000   Max.   :9.000   Max.   :9.000  \n",
       " NA's   :5       NA's   :632     NA's   :632     NA's   :632    \n",
       "     job1d           job1e          job1f            job2           job3a      \n",
       " Min.   :1.000   Min.   :1.00   Min.   :1.000   Min.   :1.000   Min.   :1.000  \n",
       " 1st Qu.:1.000   1st Qu.:1.00   1st Qu.:1.000   1st Qu.:1.000   1st Qu.:1.000  \n",
       " Median :1.000   Median :2.00   Median :1.000   Median :2.000   Median :1.000  \n",
       " Mean   :1.643   Mean   :2.13   Mean   :1.709   Mean   :1.719   Mean   :1.344  \n",
       " 3rd Qu.:2.000   3rd Qu.:3.00   3rd Qu.:2.000   3rd Qu.:2.000   3rd Qu.:2.000  \n",
       " Max.   :9.000   Max.   :9.00   Max.   :9.000   Max.   :8.000   Max.   :2.000  \n",
       " NA's   :632     NA's   :632    NA's   :632                     NA's   :1396   \n",
       "     job3b           job3c           job3d          job3e           job3f      \n",
       " Min.   :1.000   Min.   :1.000   Min.   :1.00   Min.   :1.000   Min.   :1.000  \n",
       " 1st Qu.:1.000   1st Qu.:1.000   1st Qu.:1.00   1st Qu.:1.000   1st Qu.:1.000  \n",
       " Median :1.000   Median :1.000   Median :1.00   Median :2.000   Median :2.000  \n",
       " Mean   :1.456   Mean   :1.359   Mean   :1.22   Mean   :1.689   Mean   :1.694  \n",
       " 3rd Qu.:2.000   3rd Qu.:2.000   3rd Qu.:1.00   3rd Qu.:2.000   3rd Qu.:2.000  \n",
       " Max.   :8.000   Max.   :8.000   Max.   :8.00   Max.   :8.000   Max.   :8.000  \n",
       " NA's   :1396    NA's   :1396    NA's   :1396   NA's   :1396    NA's   :1396   \n",
       "     job3g           job3h            job4            smjob1     \n",
       " Min.   :1.000   Min.   :1.000   Min.   : 1.000   Min.   :1.000  \n",
       " 1st Qu.:1.000   1st Qu.:2.000   1st Qu.: 2.000   1st Qu.:1.000  \n",
       " Median :2.000   Median :2.000   Median : 3.000   Median :2.000  \n",
       " Mean   :1.755   Mean   :2.079   Mean   : 4.687   Mean   :1.633  \n",
       " 3rd Qu.:2.000   3rd Qu.:2.000   3rd Qu.: 4.000   3rd Qu.:2.000  \n",
       " Max.   :8.000   Max.   :9.000   Max.   :99.000   Max.   :2.000  \n",
       " NA's   :1396    NA's   :1396    NA's   :1467     NA's   :674    \n",
       "    smjob2a        smjob2b         smjob2c         smjob2d         smjob2e     \n",
       " Min.   :1.00   Min.   :1.000   Min.   :1.000   Min.   :1.000   Min.   :1.000  \n",
       " 1st Qu.:1.00   1st Qu.:1.000   1st Qu.:1.000   1st Qu.:2.000   1st Qu.:1.000  \n",
       " Median :1.00   Median :1.000   Median :2.000   Median :2.000   Median :1.000  \n",
       " Mean   :1.07   Mean   :1.273   Mean   :1.546   Mean   :1.786   Mean   :1.135  \n",
       " 3rd Qu.:1.00   3rd Qu.:2.000   3rd Qu.:2.000   3rd Qu.:2.000   3rd Qu.:1.000  \n",
       " Max.   :2.00   Max.   :8.000   Max.   :2.000   Max.   :2.000   Max.   :2.000  \n",
       " NA's   :1514   NA's   :1514    NA's   :1514    NA's   :1514    NA's   :1514   \n",
       "     smjob3         smjob4a         smjob4b         smjob4c     \n",
       " Min.   :1.000   Min.   :1.000   Min.   :1.000   Min.   :1.000  \n",
       " 1st Qu.:1.000   1st Qu.:1.000   1st Qu.:1.000   1st Qu.:1.000  \n",
       " Median :2.000   Median :2.000   Median :2.000   Median :2.000  \n",
       " Mean   :1.758   Mean   :1.671   Mean   :1.575   Mean   :1.712  \n",
       " 3rd Qu.:2.000   3rd Qu.:2.000   3rd Qu.:2.000   3rd Qu.:2.000  \n",
       " Max.   :9.000   Max.   :9.000   Max.   :9.000   Max.   :9.000  \n",
       " NA's   :1514    NA's   :1514    NA's   :1514    NA's   :1514   \n",
       "    smjob4d         smjob4e         snsjob1a        snsjob1b    \n",
       " Min.   :1.000   Min.   :1.000   Min.   :1.000   Min.   :1.000  \n",
       " 1st Qu.:2.000   1st Qu.:1.000   1st Qu.:1.000   1st Qu.:2.000  \n",
       " Median :2.000   Median :2.000   Median :2.000   Median :2.000  \n",
       " Mean   :1.825   Mean   :1.591   Mean   :1.679   Mean   :1.824  \n",
       " 3rd Qu.:2.000   3rd Qu.:2.000   3rd Qu.:2.000   3rd Qu.:2.000  \n",
       " Max.   :9.000   Max.   :9.000   Max.   :9.000   Max.   :9.000  \n",
       " NA's   :1514    NA's   :1514    NA's   :778     NA's   :778    \n",
       "    snsjob1c        snsjob2a        snsjob2b         job5a          job5b     \n",
       " Min.   :1.000   Min.   :1.000   Min.   :1.000   Min.   :1.00   Min.   :1.00  \n",
       " 1st Qu.:1.000   1st Qu.:2.000   1st Qu.:2.000   1st Qu.:1.00   1st Qu.:1.00  \n",
       " Median :2.000   Median :2.000   Median :2.000   Median :1.00   Median :1.00  \n",
       " Mean   :1.702   Mean   :1.944   Mean   :2.025   Mean   :1.26   Mean   :1.32  \n",
       " 3rd Qu.:2.000   3rd Qu.:2.000   3rd Qu.:2.000   3rd Qu.:1.00   3rd Qu.:2.00  \n",
       " Max.   :9.000   Max.   :9.000   Max.   :9.000   Max.   :9.00   Max.   :9.00  \n",
       " NA's   :778     NA's   :778     NA's   :778     NA's   :901    NA's   :901   \n",
       "     job5c           job5d           auto1a          auto1b     \n",
       " Min.   :1.000   Min.   :1.000   Min.   :1.000   Min.   :1.000  \n",
       " 1st Qu.:1.000   1st Qu.:1.000   1st Qu.:3.000   1st Qu.:3.000  \n",
       " Median :1.000   Median :1.000   Median :4.000   Median :4.000  \n",
       " Mean   :1.273   Mean   :1.446   Mean   :3.424   Mean   :3.568  \n",
       " 3rd Qu.:1.000   3rd Qu.:2.000   3rd Qu.:4.000   3rd Qu.:4.000  \n",
       " Max.   :9.000   Max.   :9.000   Max.   :9.000   Max.   :9.000  \n",
       " NA's   :901     NA's   :901     NA's   :901     NA's   :901    \n",
       "     auto1c          auto1d          auto1e          auto2           auto3     \n",
       " Min.   :1.000   Min.   :1.000   Min.   :1.000   Min.   :1.000   Min.   :1.00  \n",
       " 1st Qu.:4.000   1st Qu.:3.000   1st Qu.:2.000   1st Qu.:1.000   1st Qu.:2.00  \n",
       " Median :4.000   Median :4.000   Median :4.000   Median :2.000   Median :2.00  \n",
       " Mean   :3.644   Mean   :3.356   Mean   :3.258   Mean   :2.037   Mean   :2.44  \n",
       " 3rd Qu.:4.000   3rd Qu.:4.000   3rd Qu.:4.000   3rd Qu.:2.000   3rd Qu.:3.00  \n",
       " Max.   :9.000   Max.   :9.000   Max.   :9.000   Max.   :9.000   Max.   :9.00  \n",
       " NA's   :901     NA's   :901     NA's   :901     NA's   :901                   \n",
       "      age           marital           hh1             par       \n",
       " Min.   :18.00   Min.   :1.000   Min.   :1.000   Min.   :1.000  \n",
       " 1st Qu.:36.00   1st Qu.:1.000   1st Qu.:2.000   1st Qu.:2.000  \n",
       " Median :53.00   Median :1.000   Median :2.000   Median :2.000  \n",
       " Mean   :52.11   Mean   :2.789   Mean   :2.217   Mean   :1.825  \n",
       " 3rd Qu.:66.00   3rd Qu.:5.000   3rd Qu.:2.000   3rd Qu.:2.000  \n",
       " Max.   :99.00   Max.   :9.000   Max.   :9.000   Max.   :9.000  \n",
       "                                                                \n",
       "    kidage1          kidage2          kidage3           educ2      \n",
       " Min.   :0.0000   Min.   :0.0000   Min.   :0.0000   Min.   : 1.00  \n",
       " 1st Qu.:0.0000   1st Qu.:0.0000   1st Qu.:0.0000   1st Qu.: 3.00  \n",
       " Median :0.0000   Median :0.0000   Median :1.0000   Median : 5.00  \n",
       " Mean   :0.7317   Mean   :0.7191   Mean   :0.7883   Mean   : 5.83  \n",
       " 3rd Qu.:1.0000   3rd Qu.:1.0000   3rd Qu.:1.0000   3rd Qu.: 6.00  \n",
       " Max.   :9.0000   Max.   :9.0000   Max.   :9.0000   Max.   :99.00  \n",
       " NA's   :1524     NA's   :1524     NA's   :1524                    \n",
       "     edinst           disa           party          partyln     \n",
       " Min.   :1.000   Min.   :1.000   Min.   :1.000   Min.   :1.000  \n",
       " 1st Qu.:2.000   1st Qu.:2.000   1st Qu.:2.000   1st Qu.:2.000  \n",
       " Median :3.000   Median :2.000   Median :2.000   Median :2.000  \n",
       " Mean   :3.681   Mean   :1.866   Mean   :2.607   Mean   :4.659  \n",
       " 3rd Qu.:4.500   3rd Qu.:2.000   3rd Qu.:3.000   3rd Qu.:8.000  \n",
       " Max.   :9.000   Max.   :9.000   Max.   :9.000   Max.   :9.000  \n",
       " NA's   :1766                                    NA's   :1060   \n",
       "      ideo            hisp         birth_hisp         race      \n",
       " Min.   :1.000   Min.   :1.000   Min.   :1.000   Min.   :1.000  \n",
       " 1st Qu.:2.000   1st Qu.:2.000   1st Qu.:1.000   1st Qu.:1.000  \n",
       " Median :3.000   Median :2.000   Median :1.000   Median :1.000  \n",
       " Mean   :3.386   Mean   :1.938   Mean   :1.972   Mean   :1.661  \n",
       " 3rd Qu.:4.000   3rd Qu.:2.000   3rd Qu.:3.000   3rd Qu.:1.000  \n",
       " Max.   :9.000   Max.   :9.000   Max.   :8.000   Max.   :9.000  \n",
       "                                 NA's   :1746                   \n",
       "      inc             ql1a            qc1           zipcode     \n",
       " Min.   : 1.00   Min.   :1.000   Min.   :1.000   Min.   : 1420  \n",
       " 1st Qu.: 3.00   1st Qu.:1.000   1st Qu.:1.000   1st Qu.:28445  \n",
       " Median : 6.00   Median :2.000   Median :2.000   Median :48150  \n",
       " Mean   :19.38   Mean   :1.765   Mean   :1.603   Mean   :52317  \n",
       " 3rd Qu.: 8.00   3rd Qu.:2.000   3rd Qu.:2.000   3rd Qu.:78560  \n",
       " Max.   :99.00   Max.   :9.000   Max.   :9.000   Max.   :99999  \n",
       "                 NA's   :1903    NA's   :701                    \n",
       "     weight         standwt      \n",
       " Min.   :1.000   Min.   :0.3193  \n",
       " 1st Qu.:1.774   1st Qu.:0.5665  \n",
       " Median :2.677   Median :0.8548  \n",
       " Mean   :3.132   Mean   :1.0000  \n",
       " 3rd Qu.:4.097   3rd Qu.:1.3080  \n",
       " Max.   :7.161   Max.   :2.2864  \n",
       "                                 "
      ]
     },
     "metadata": {},
     "output_type": "display_data"
    }
   ],
   "source": [
    "library(dplyr)\n",
    "GJB <- read.csv(file=\"GJBCSV.csv\", header=TRUE) #Read data from csv\n",
    "summary(GJB)   # as in Brooklyn example to have a quick look\n",
    "gjbfactorize=GJB %>%\n",
    "rename(sampleid=ï..psraid)%>%\n",
    "rename(Internet_Service_at_Home=home4nw)%>%\n",
    "rename(Type_of_Net=bbhome1)%>%\n",
    "rename(Television_Connection=cable2)%>%\n",
    "rename(Education_Level=educ2)%>%\n",
    "rename(NoSmartPhones=q4)%>%\n",
    "rename(Violentgames=game3b)%>%\n",
    "rename(OnlineDatingA=date4a)\n",
    "# %>%\n",
    "# mutate_if(is.integer,as.factor)    #Change all columns containing integers to factors.\n",
    "# head(gjbfactorize)"
   ]
  },
  {
   "cell_type": "markdown",
   "metadata": {},
   "source": [
    "## clean/format the data with regular expressions"
   ]
  },
  {
   "cell_type": "code",
   "execution_count": 3,
   "metadata": {
    "collapsed": false
   },
   "outputs": [],
   "source": [
    "# names(gjbfactorize) <- tolower(names(gjbfactorize))\n",
    "gjbfactorize$Internet_Service_at_Home<-as.numeric(gsub(\"[^[:digit:]]\",\"\",gjbfactorize$Internet_Service_at_Home))\n",
    "gjbfactorize$sampleid<-as.numeric(gsub(\"[^[:digit:]]\",\"\",gjbfactorize$sampleid))\n",
    "gjbfactorize$Type_of_Net<-as.numeric(gsub(\"[^[:digit:]]\",\"\",gjbfactorize$Type_of_Net))\n",
    "gjbfactorize$Violentgames<-as.numeric(gsub(\"[^[:digit:]]\",\"\",gjbfactorize$Violentgames))\n",
    "gjbfactorize$OnlineDatingA<-as.numeric(gsub(\"[^[:digit:]]\",\"\",gjbfactorize$OnlineDatingA))"
   ]
  },
  {
   "cell_type": "code",
   "execution_count": 4,
   "metadata": {
    "collapsed": false
   },
   "outputs": [],
   "source": [
    "gjbfactorize=mutate_if(gjbfactorize,is.numeric,as.factor)   # Change the data to factor\n",
    "gjbfactorize=mutate_if(gjbfactorize,is.integer,as.factor)  "
   ]
  },
  {
   "cell_type": "markdown",
   "metadata": {},
   "source": [
    "######  Make label variables to assign to different levels , as answers to questions asked"
   ]
  },
  {
   "cell_type": "code",
   "execution_count": 5,
   "metadata": {
    "collapsed": false
   },
   "outputs": [],
   "source": [
    "a <- c(\"1\"=\"Excellent\",\"2\"=\"Good\",\"3\"=\"Only fair\",\"4\"=\"Poor\",\"8\"=\"Don't know\",\"9\"=\"Refused\")\n",
    "b<-c(\"1\"=\"Yes\",\"2\"=\"No\",\"8\"=\"Dont know\",\"9\"=\"Refused\")\n",
    "d <- c(\"1\"=\"Almost constantly\",\"2\"=\"Several times a day\",\"3\"=\"About once a day\",\"4\"=\"Several times a week\",\"5\"=\"Less often\",\"8\"=\"Don't know\",\"9\"=\"Refused\")\n",
    "e <- c(\"1\"=\"Less than $10,000\",\"2\"=\"10 to under $20,000\",\"3\"=\"20 to under $30,000\",\"4\"=\"30 to under $40,000\",\"5\"=\"40 to under $50,000\",\"6\"=\"50 to under $75,000\",\"7\"=\"75 to under $100,000\",\"8\"=\"100 to under $150,000\",\"9\"=\"$150,000 or more\",\"98\"=\"Don't know\",\"99\"=\"Refused\")\n",
    "#we have clubbed Two year associate degree and University degree to a group College or university. And  Some postgraduate no degree and Post graduate to college graduate +\n",
    "f<-  c(\"1\"=\"Less than high school \",\"2\"=\"High school incomplete\",\"3\"=\"High school graduate\",\"4\"=\"Some college\",\"5\"=\"Degree Four and Two year\",\"6\"=\"Degree Four and Two year\",\"7\"=\"Above college graduate\",\"8\"=\"Above college graduate\",\"98\"=\"Don't know\",\"99\"=\"Refused\")\n",
    "g<-c(\"1\"=\"Agree\",\"2\"=\"Disagree\",\"8\"=\"Dont know\",\"9\"=\"Refused\")\n",
    "h<-c(\"1\"=\"Male\",\"2\"=\"Female\")\n",
    "i<-c(\"1\"=\"Don’t need one\",\"2\"=\"Too expensive (general)\",\"3\"=\"complicated\",\"4\"=\"not interested\",\"5\"=\"PHONE is too expensive\",\"6\"=\"DATA plan is too expensive\",\"7\"=\"Happy with current phone\",\"8\"=\"Only use phone for calling\",\"9\"=\"Plan to get one\",\"10\"=\"No reason\",\"11\"=\"Prefer to be less connected\",\"12\"=\"Don’t know what it is\",\"13\"=\"Worried about radiation\",\"14\"=\"Worried about privacy or tracking\",\"97\"=\"Other\",\"98\"=\"Dont Know\",\"99\"=\"Refused\")\n",
    "j<-c(\"younger (18-29)\", \"middle younger (30-49)\",\"middle older (50-64)\", \"older (65+)\")\n",
    "k<-c(\"1\"=\"Dial-up\",\"2\"=\"Higher-speed\",\"3\"=\"Both \",\"4\"=\"use Cellphone\",\"5\"=\"No internet access\",\"8\"=\"Dont know\",\"9\"=\"Refused\")\n"
   ]
  },
  {
   "cell_type": "markdown",
   "metadata": {},
   "source": [
    "###### Assign name to levels of values of required columns as stated above, for better redability, since answers are encoded as integers."
   ]
  },
  {
   "cell_type": "code",
   "execution_count": 6,
   "metadata": {
    "collapsed": false
   },
   "outputs": [],
   "source": [
    "levels(gjbfactorize$Internet_Service_at_Home)=b\n",
    "levels(gjbfactorize$inc)=e\n",
    "levels(gjbfactorize$Education_Level)=f\n",
    "levels(gjbfactorize$OnlineDatingA)=g\n",
    "levels(gjbfactorize$sex)=h\n",
    "levels(gjbfactorize$NoSmartPhones)=i\n",
    "gjbfactorize$age = findInterval(GJB$age, c(29, 49, 64))\n",
    "gjbfactorize$age_Interval = factor(gjbfactorize$age,labels = c(\"younger (18-29)\", \"middle younger (30-49)\",\"middle older (50-64)\", \"older (65+)\"))\n",
    "levels(gjbfactorize$Type_of_Net)=k\n",
    "levels(gjbfactorize$Television_Connection)=b\n",
    "levels(gjbfactorize$Violentgames)=g"
   ]
  },
  {
   "cell_type": "markdown",
   "metadata": {},
   "source": [
    "# Q1 : Are people with high income more likely to have internet subscription at home as compared to people with low income?"
   ]
  },
  {
   "cell_type": "markdown",
   "metadata": {},
   "source": [
    "######  Steps : Cleaning and Munging <br/>\n",
    "1) Select only the required columns:  Income / Sample id / Internet_Service_at_Home<br/><br/>\n",
    "2) Filter the data with people who have internet connection ( Internet_Service_at_Home==\"Yes\"), and who didnot answer about their income( inc!= \"Refused\", inc!=\"Don't know\")<br/><br/>\n",
    "3) Group the columns and count the number of people who have Internet connection and who answered about their income, and count the data in each group."
   ]
  },
  {
   "cell_type": "code",
   "execution_count": 7,
   "metadata": {
    "collapsed": false
   },
   "outputs": [],
   "source": [
    "Internet_with_income=select(gjbfactorize,sampleid,inc,Internet_Service_at_Home)%>%\n",
    "filter(inc!= \"Refused\", inc!=\"Don't know\" ) %>%\n",
    "group_by(Internet_Service_at_Home,inc)%>%\n",
    "summarise(count=n())\n",
    "Internet_with_income=Internet_with_income[Internet_with_income$Internet_Service_at_Home == \"Yes\",]"
   ]
  },
  {
   "cell_type": "markdown",
   "metadata": {},
   "source": [
    "We plot the data to have a quick visualization and analysis"
   ]
  },
  {
   "cell_type": "code",
   "execution_count": 8,
   "metadata": {
    "collapsed": false
   },
   "outputs": [
    {
     "data": {
      "image/png": "[encoded data removed]",
      "text/plain": [
       "Plot with title \"\""
      ]
     },
     "metadata": {},
     "output_type": "display_data"
    }
   ],
   "source": [
    "plot(gjbfactorize$inc,gjbfactorize$Internet_Service_at_Home)"
   ]
  },
  {
   "cell_type": "markdown",
   "metadata": {},
   "source": [
    "Since the sample size of people who answered about internet connection is different for each catogery of income, I have\n",
    "equalized the sample size in hundreds by analysing data on percentage. <br/><br/>\n",
    "That is to say, my data speaks -> what percent of people with income in each catogery individually have internet access at home<br/>\n",
    "For instance : 47% of people with income level less than $10,000 have Internet access at home and so on"
   ]
  },
  {
   "cell_type": "code",
   "execution_count": 9,
   "metadata": {
    "collapsed": false
   },
   "outputs": [
    {
     "data": {
      "text/html": [
       "<table>\n",
       "<thead><tr><th scope=col>inc</th><th scope=col>countGrp</th><th scope=col>Internet_Service_at_Home</th><th scope=col>count</th><th scope=col>percentage</th></tr></thead>\n",
       "<tbody>\n",
       "\t<tr><td>Less than $10,000  </td><td>157                </td><td>Yes                </td><td> 74                </td><td>47                 </td></tr>\n",
       "\t<tr><td>10 to under $20,000</td><td>187                </td><td>Yes                </td><td>102                </td><td>55                 </td></tr>\n",
       "\t<tr><td>20 to under $30,000</td><td>180                </td><td>Yes                </td><td>118                </td><td>66                 </td></tr>\n",
       "\t<tr><td>30 to under $40,000</td><td>165                </td><td>Yes                </td><td>117                </td><td>71                 </td></tr>\n",
       "\t<tr><td>40 to under $50,000</td><td>164                </td><td>Yes                </td><td>124                </td><td>76                 </td></tr>\n",
       "\t<tr><td>50 to under $75,000</td><td>275                </td><td>Yes                </td><td>231                </td><td>84                 </td></tr>\n",
       "</tbody>\n",
       "</table>\n"
      ],
      "text/latex": [
       "\\begin{tabular}{r|lllll}\n",
       " inc & countGrp & Internet\\_Service\\_at\\_Home & count & percentage\\\\\n",
       "\\hline\n",
       "\t Less than \\$10,000   & 157                   & Yes                   &  74                   & 47                   \\\\\n",
       "\t 10 to under \\$20,000 & 187                   & Yes                   & 102                   & 55                   \\\\\n",
       "\t 20 to under \\$30,000 & 180                   & Yes                   & 118                   & 66                   \\\\\n",
       "\t 30 to under \\$40,000 & 165                   & Yes                   & 117                   & 71                   \\\\\n",
       "\t 40 to under \\$50,000 & 164                   & Yes                   & 124                   & 76                   \\\\\n",
       "\t 50 to under \\$75,000 & 275                   & Yes                   & 231                   & 84                   \\\\\n",
       "\\end{tabular}\n"
      ],
      "text/markdown": [
       "\n",
       "inc | countGrp | Internet_Service_at_Home | count | percentage | \n",
       "|---|---|---|---|---|---|\n",
       "| Less than $10,000   | 157                 | Yes                 |  74                 | 47                  | \n",
       "| 10 to under $20,000 | 187                 | Yes                 | 102                 | 55                  | \n",
       "| 20 to under $30,000 | 180                 | Yes                 | 118                 | 66                  | \n",
       "| 30 to under $40,000 | 165                 | Yes                 | 117                 | 71                  | \n",
       "| 40 to under $50,000 | 164                 | Yes                 | 124                 | 76                  | \n",
       "| 50 to under $75,000 | 275                 | Yes                 | 231                 | 84                  | \n",
       "\n",
       "\n"
      ],
      "text/plain": [
       "  inc                 countGrp Internet_Service_at_Home count percentage\n",
       "1 Less than $10,000   157      Yes                       74   47        \n",
       "2 10 to under $20,000 187      Yes                      102   55        \n",
       "3 20 to under $30,000 180      Yes                      118   66        \n",
       "4 30 to under $40,000 165      Yes                      117   71        \n",
       "5 40 to under $50,000 164      Yes                      124   76        \n",
       "6 50 to under $75,000 275      Yes                      231   84        "
      ]
     },
     "metadata": {},
     "output_type": "display_data"
    }
   ],
   "source": [
    "total=gjbfactorize$Internet_Service_at_Home%>%\n",
    "na.omit()\n",
    "total_answered=length(total)\n",
    "percentageAnswered=select(gjbfactorize,sampleid,inc,Internet_Service_at_Home)%>%\n",
    "group_by(inc)%>%\n",
    "summarise(countGrp=n())%>%\n",
    "right_join(Internet_with_income,by=\"inc\")%>%\n",
    "mutate(percentage=((count * 100 )/countGrp))\n",
    "percentageAnswered$percentage<-round(percentageAnswered$percentage)\n",
    "\n",
    "head(percentageAnswered)"
   ]
  },
  {
   "cell_type": "markdown",
   "metadata": {
    "collapsed": false
   },
   "source": [
    "###### Plot the data as bar chart, each bar stating what percent of individuals in each catogery have Internet access at home"
   ]
  },
  {
   "cell_type": "code",
   "execution_count": 10,
   "metadata": {
    "collapsed": false
   },
   "outputs": [
    {
     "name": "stderr",
     "output_type": "stream",
     "text": [
      "Warning message:\n",
      "\"Removed 9 rows containing missing values (position_stack).\"Warning message:\n",
      "\"Removed 9 rows containing missing values (geom_text).\""
     ]
    },
    {
     "data": {},
     "metadata": {},
     "output_type": "display_data"
    },
    {
     "data": {
      "image/png": "[encoded data removed]",
      "text/plain": [
       "plot without title"
      ]
     },
     "metadata": {},
     "output_type": "display_data"
    }
   ],
   "source": [
    "# ggplot(data=percentageAnswered, aes(x=inc, y=percentage,fill=percentage,width=.7),cex.names=0.20) +\n",
    "# geom_bar(stat=\"identity\")+\n",
    "# coord_cartesian(ylim=c(0,100))+\n",
    "# geom_text(aes(label=percentage), vjust=-0.3, size=2.5)+\n",
    "# theme(text = element_text(size=10),axis.text.x = element_text(angle=90, hjust=1))\n",
    "ggplot(data=percentageAnswered, aes(x=inc, y=percentage,fill=percentage,width=.7),cex.names=0.20) +\n",
    "geom_bar(stat=\"identity\")+\n",
    "coord_cartesian(ylim=c(0,100))+\n",
    "geom_text(aes(label=percentage), vjust=-0.3, size=2.5)+\n",
    "theme(text = element_text(size=10),axis.text.x = element_text(angle=90, hjust=1))+ \n",
    "ggtitle(\"Having Internt access with different income levels\") + \n",
    "theme(plot.title = element_text(lineheight=.8, face=\"bold\",hjust=0.5))"
   ]
  },
  {
   "cell_type": "markdown",
   "metadata": {},
   "source": [
    "#### Description: <br/>\n",
    "Percent of people with income in each catogery individually that have internet access at home<br/>\n",
    "For instance : 47% of people with income level less than $10,000 have Internet access at home and so on."
   ]
  },
  {
   "cell_type": "markdown",
   "metadata": {
    "collapsed": false
   },
   "source": [
    "#### Hypothesis :\n",
    "People with higher income are more likely to have internet connection at home. Its evident from the graph that it increases linearly, as more the income , more the is ones potentiality to have internet access.\n"
   ]
  },
  {
   "cell_type": "markdown",
   "metadata": {},
   "source": [
    "###### -------------------------------------------------------------------------------------------------------------------------------------------------------------------------------------------------\n",
    "###### -------------------------------------------------------------------------------------------------------------------------------------------------------------------------------------------------"
   ]
  },
  {
   "cell_type": "markdown",
   "metadata": {},
   "source": [
    "#  Q1.2) Are people with more education more likely to have internet subscription at home as compared to people with low education?\n"
   ]
  },
  {
   "cell_type": "markdown",
   "metadata": {},
   "source": [
    "######  Steps : Cleaning and Munging <br/>\n",
    "1) Select only the required columns:  Education_Level / Sample id / Internet_Service_at_Home<br/><br/>\n",
    "2) Filter the data with people who have internet connection ( Internet_Service_at_Home==\"Yes\"), and who didnot answer about their Education Level( Education_Level!= \"Refused\", Education_Level!=\"Don't know\")<br/><br/>\n",
    "3) Group the columns and count the number of people who have Internet connection and who answered about their income, and count the data in each group."
   ]
  },
  {
   "cell_type": "code",
   "execution_count": 11,
   "metadata": {
    "collapsed": true
   },
   "outputs": [],
   "source": [
    "Internet_with_Education_Level=select(gjbfactorize,sampleid,Education_Level,Internet_Service_at_Home)%>%\n",
    "filter(Internet_Service_at_Home==\"Yes\", Education_Level!= \"Refused\", Education_Level!=\"Don't know\" ) %>%\n",
    "group_by(Internet_Service_at_Home,Education_Level)%>%\n",
    "summarise(count=n())"
   ]
  },
  {
   "cell_type": "markdown",
   "metadata": {},
   "source": [
    "We do a similar analysis by so as to speak : <br/>\n",
    "36% of people with education level less than high school have Internet access at home and so on"
   ]
  },
  {
   "cell_type": "code",
   "execution_count": 12,
   "metadata": {
    "collapsed": false
   },
   "outputs": [
    {
     "data": {
      "text/html": [
       "<table>\n",
       "<thead><tr><th scope=col>Education_Level</th><th scope=col>countGrp</th><th scope=col>Internet_Service_at_Home</th><th scope=col>count</th><th scope=col>percentage</th></tr></thead>\n",
       "<tbody>\n",
       "\t<tr><td>Less than high school   </td><td> 66                     </td><td>Yes                     </td><td> 24                     </td><td>36                      </td></tr>\n",
       "\t<tr><td>High school incomplete  </td><td> 86                     </td><td>Yes                     </td><td> 40                     </td><td>47                      </td></tr>\n",
       "\t<tr><td>High school graduate    </td><td>483                     </td><td>Yes                     </td><td>277                     </td><td>57                      </td></tr>\n",
       "\t<tr><td>Some college            </td><td>340                     </td><td>Yes                     </td><td>260                     </td><td>76                      </td></tr>\n",
       "\t<tr><td>Degree Four and Two year</td><td>593                     </td><td>Yes                     </td><td>520                     </td><td>88                      </td></tr>\n",
       "\t<tr><td>Above college graduate  </td><td>413                     </td><td>Yes                     </td><td>373                     </td><td>90                      </td></tr>\n",
       "</tbody>\n",
       "</table>\n"
      ],
      "text/latex": [
       "\\begin{tabular}{r|lllll}\n",
       " Education\\_Level & countGrp & Internet\\_Service\\_at\\_Home & count & percentage\\\\\n",
       "\\hline\n",
       "\t Less than high school    &  66                      & Yes                      &  24                      & 36                      \\\\\n",
       "\t High school incomplete   &  86                      & Yes                      &  40                      & 47                      \\\\\n",
       "\t High school graduate     & 483                      & Yes                      & 277                      & 57                      \\\\\n",
       "\t Some college             & 340                      & Yes                      & 260                      & 76                      \\\\\n",
       "\t Degree Four and Two year & 593                      & Yes                      & 520                      & 88                      \\\\\n",
       "\t Above college graduate   & 413                      & Yes                      & 373                      & 90                      \\\\\n",
       "\\end{tabular}\n"
      ],
      "text/markdown": [
       "\n",
       "Education_Level | countGrp | Internet_Service_at_Home | count | percentage | \n",
       "|---|---|---|---|---|---|\n",
       "| Less than high school    |  66                      | Yes                      |  24                      | 36                       | \n",
       "| High school incomplete   |  86                      | Yes                      |  40                      | 47                       | \n",
       "| High school graduate     | 483                      | Yes                      | 277                      | 57                       | \n",
       "| Some college             | 340                      | Yes                      | 260                      | 76                       | \n",
       "| Degree Four and Two year | 593                      | Yes                      | 520                      | 88                       | \n",
       "| Above college graduate   | 413                      | Yes                      | 373                      | 90                       | \n",
       "\n",
       "\n"
      ],
      "text/plain": [
       "  Education_Level          countGrp Internet_Service_at_Home count percentage\n",
       "1 Less than high school     66      Yes                       24   36        \n",
       "2 High school incomplete    86      Yes                       40   47        \n",
       "3 High school graduate     483      Yes                      277   57        \n",
       "4 Some college             340      Yes                      260   76        \n",
       "5 Degree Four and Two year 593      Yes                      520   88        \n",
       "6 Above college graduate   413      Yes                      373   90        "
      ]
     },
     "metadata": {},
     "output_type": "display_data"
    },
    {
     "data": {
      "image/png": "[encoded data removed]",
      "text/plain": [
       "Plot with title \"Histogram of percentageAnswered$percentage\""
      ]
     },
     "metadata": {},
     "output_type": "display_data"
    }
   ],
   "source": [
    "total=gjbfactorize$Internet_Service_at_Home%>%\n",
    "na.omit()\n",
    "total_answered=length(total)\n",
    "percentageAnswered=select(gjbfactorize,sampleid,Education_Level,Internet_Service_at_Home)%>%\n",
    "group_by(Education_Level)%>%\n",
    "summarise(countGrp=n())%>%\n",
    "right_join(Internet_with_Education_Level,by=\"Education_Level\")%>%\n",
    "mutate(percentage=((count * 100 )/countGrp))\n",
    "percentageAnswered$percentage<-round(percentageAnswered$percentage)\n",
    "\n",
    "head(percentageAnswered) \n",
    "hist(percentageAnswered$percentage)"
   ]
  },
  {
   "cell_type": "markdown",
   "metadata": {},
   "source": [
    "We plot the above histogram to have a quick analysis of percentage spread of data"
   ]
  },
  {
   "cell_type": "markdown",
   "metadata": {
    "collapsed": false
   },
   "source": [
    "###### Plot the data as bar chart, each bar stating what percent of individuals in each catogery have Internet access at home"
   ]
  },
  {
   "cell_type": "code",
   "execution_count": 13,
   "metadata": {
    "collapsed": false
   },
   "outputs": [
    {
     "data": {},
     "metadata": {},
     "output_type": "display_data"
    },
    {
     "data": {
      "image/png": "[encoded data removed]",
      "text/plain": [
       "plot without title"
      ]
     },
     "metadata": {},
     "output_type": "display_data"
    }
   ],
   "source": [
    "ggplot(data=percentageAnswered, aes(x=Education_Level, y=percentage,fill=percentage,width=.7),cex.names=0.20) +\n",
    "geom_bar(stat=\"identity\")+\n",
    "coord_cartesian(ylim=c(0,100))+\n",
    "geom_text(aes(label=percentage), vjust=-0.3, size=2.5)+\n",
    "theme(text = element_text(size=10),axis.text.x = element_text(angle=90, hjust=1))+ \n",
    "ggtitle(\"Having Internt access with different education levels\") + \n",
    "theme(plot.title = element_text(lineheight=.8, face=\"bold\",hjust=0.5))"
   ]
  },
  {
   "cell_type": "markdown",
   "metadata": {},
   "source": [
    "#### Description: <br/>\n",
    "Percent of people with income in each catogery individually that have internet access at home<br/>\n",
    "For instance : 36% of people with education level less than high school have Internet access at home and so on."
   ]
  },
  {
   "cell_type": "markdown",
   "metadata": {},
   "source": [
    "#### Hypothesis :\n",
    "People with higher education are more likely to have internet connection at home. Its evident from the graph that it increases linearly, as more the education , more the is ones requrirement to have internet access."
   ]
  },
  {
   "cell_type": "markdown",
   "metadata": {},
   "source": [
    "#### I have plotted the same graph as line chart to better visualize the linear increase.\n"
   ]
  },
  {
   "cell_type": "code",
   "execution_count": 14,
   "metadata": {
    "collapsed": false
   },
   "outputs": [
    {
     "data": {},
     "metadata": {},
     "output_type": "display_data"
    },
    {
     "data": {
      "image/png": "[encoded data removed]",
      "text/plain": [
       "plot without title"
      ]
     },
     "metadata": {},
     "output_type": "display_data"
    }
   ],
   "source": [
    "ggplot(data=percentageAnswered, aes(x=Education_Level, y=percentage,group=1),cex.names=0.20) +\n",
    "geom_line(stat=\"identity\",linetype=\"dashed\", size=1.5,colour=\"red\",)+\n",
    "geom_point(colour=\"red\", size=4, shape=21, fill=\"white\")+\n",
    "coord_cartesian(ylim=c(0,100))+\n",
    "geom_text(aes(label=percentage), vjust=-0.3, size=2.5)+\n",
    "theme(text = element_text(size=10),axis.text.x = element_text(angle=90, hjust=1))+ \n",
    "ggtitle(\"Having Internt access with different education levels\") + \n",
    "theme(plot.title = element_text(lineheight=.8, face=\"bold\",hjust=0.5))"
   ]
  },
  {
   "cell_type": "markdown",
   "metadata": {},
   "source": [
    "#### Description: <br/>\n",
    "Percent of people with income in each catogery individually that have internet access at home<br/>\n",
    "For instance : 36% of people with education level less than high school have Internet access at home and so on."
   ]
  },
  {
   "cell_type": "markdown",
   "metadata": {},
   "source": [
    "#### Hypothesis :<br/>\n",
    "More the individuals get educated, more likely they are to have internet subscrption at home. Most preferably college graduates."
   ]
  },
  {
   "cell_type": "markdown",
   "metadata": {},
   "source": [
    "###### -------------------------------------------------------------------------------------------------------------------------------------------------------------------------------------------------\n",
    "###### -------------------------------------------------------------------------------------------------------------------------------------------------------------------------------------------------"
   ]
  },
  {
   "cell_type": "markdown",
   "metadata": {},
   "source": [
    "# Q2 Do people with high education think that online dating keeps people from settling down? <br/><br/>"
   ]
  },
  {
   "cell_type": "markdown",
   "metadata": {},
   "source": [
    "Steps : <br/>\n",
    "1)Getting the number of people who answered to online dating to carry out a percentage analysis. <br/>\n",
    "2)Cleaning the data by omitting NA"
   ]
  },
  {
   "cell_type": "code",
   "execution_count": 15,
   "metadata": {
    "collapsed": false
   },
   "outputs": [
    {
     "data": {
      "text/html": [
       "2001"
      ],
      "text/latex": [
       "2001"
      ],
      "text/markdown": [
       "2001"
      ],
      "text/plain": [
       "[1] 2001"
      ]
     },
     "metadata": {},
     "output_type": "display_data"
    }
   ],
   "source": [
    "total=gjbfactorize$OnlineDatingA%>%\n",
    "na.omit()\n",
    "total_answered=length(total)\n",
    "total_answered"
   ]
  },
  {
   "cell_type": "markdown",
   "metadata": {},
   "source": [
    "######  Steps : Cleaning and Munging <br/>\n",
    "1) Select only the required columns:  Income / Sample id / OnlineDatingA/ Education_Level<br/><br/>\n",
    "2) Filter the data with people who disagree with the statement that online dating dating keeps people from settling down because they always have options for people to date  (OnlineDatingA==\"Disagree),<br/><br/>\n",
    "3) Group the columns and count the number of people who have agreed and who answered about their eduacation level, and count the data in each group.<br/><br/>\n",
    "4) Clean the data by removing the people who haven't answered about their education level."
   ]
  },
  {
   "cell_type": "code",
   "execution_count": 16,
   "metadata": {
    "collapsed": false
   },
   "outputs": [],
   "source": [
    "OnlinedatingOpinionAgree=select(gjbfactorize,sampleid,Education_Level,OnlineDatingA)%>%\n",
    "filter(OnlineDatingA==\"Disagree\") %>%\n",
    "na.omit()%>%\n",
    "group_by(Education_Level,OnlineDatingA)%>%\n",
    "summarise(count=n())\n"
   ]
  },
  {
   "cell_type": "markdown",
   "metadata": {},
   "source": [
    "Since the sample size of people who answered about Online dating is different for each catogery of education level, I have equalized the sample zide in hundreds by analysing data on percentage. <br/><br/>\n",
    "That is to say, my data speaks -> what percent of people with education in each catogery individually have agreed to the opinion<br/>\n",
    "For instance : 36% of people with education less than high school disagree to the opinion."
   ]
  },
  {
   "cell_type": "code",
   "execution_count": 17,
   "metadata": {
    "collapsed": false
   },
   "outputs": [
    {
     "data": {
      "text/html": [
       "<table>\n",
       "<thead><tr><th scope=col>Education_Level</th><th scope=col>countGrp</th><th scope=col>OnlineDatingA</th><th scope=col>count</th><th scope=col>percentage</th></tr></thead>\n",
       "<tbody>\n",
       "\t<tr><td>Less than high school   </td><td> 66                     </td><td>Disagree                </td><td> 34                     </td><td>52                      </td></tr>\n",
       "\t<tr><td>High school incomplete  </td><td> 86                     </td><td>Disagree                </td><td> 42                     </td><td>49                      </td></tr>\n",
       "\t<tr><td>High school graduate    </td><td>483                     </td><td>Disagree                </td><td>200                     </td><td>41                      </td></tr>\n",
       "\t<tr><td>Some college            </td><td>340                     </td><td>Disagree                </td><td>114                     </td><td>34                      </td></tr>\n",
       "\t<tr><td>Degree Four and Two year</td><td>593                     </td><td>Disagree                </td><td>190                     </td><td>32                      </td></tr>\n",
       "\t<tr><td>Above college graduate  </td><td>413                     </td><td>Disagree                </td><td>122                     </td><td>30                      </td></tr>\n",
       "</tbody>\n",
       "</table>\n"
      ],
      "text/latex": [
       "\\begin{tabular}{r|lllll}\n",
       " Education\\_Level & countGrp & OnlineDatingA & count & percentage\\\\\n",
       "\\hline\n",
       "\t Less than high school    &  66                      & Disagree                 &  34                      & 52                      \\\\\n",
       "\t High school incomplete   &  86                      & Disagree                 &  42                      & 49                      \\\\\n",
       "\t High school graduate     & 483                      & Disagree                 & 200                      & 41                      \\\\\n",
       "\t Some college             & 340                      & Disagree                 & 114                      & 34                      \\\\\n",
       "\t Degree Four and Two year & 593                      & Disagree                 & 190                      & 32                      \\\\\n",
       "\t Above college graduate   & 413                      & Disagree                 & 122                      & 30                      \\\\\n",
       "\\end{tabular}\n"
      ],
      "text/markdown": [
       "\n",
       "Education_Level | countGrp | OnlineDatingA | count | percentage | \n",
       "|---|---|---|---|---|---|\n",
       "| Less than high school    |  66                      | Disagree                 |  34                      | 52                       | \n",
       "| High school incomplete   |  86                      | Disagree                 |  42                      | 49                       | \n",
       "| High school graduate     | 483                      | Disagree                 | 200                      | 41                       | \n",
       "| Some college             | 340                      | Disagree                 | 114                      | 34                       | \n",
       "| Degree Four and Two year | 593                      | Disagree                 | 190                      | 32                       | \n",
       "| Above college graduate   | 413                      | Disagree                 | 122                      | 30                       | \n",
       "\n",
       "\n"
      ],
      "text/plain": [
       "  Education_Level          countGrp OnlineDatingA count percentage\n",
       "1 Less than high school     66      Disagree       34   52        \n",
       "2 High school incomplete    86      Disagree       42   49        \n",
       "3 High school graduate     483      Disagree      200   41        \n",
       "4 Some college             340      Disagree      114   34        \n",
       "5 Degree Four and Two year 593      Disagree      190   32        \n",
       "6 Above college graduate   413      Disagree      122   30        "
      ]
     },
     "metadata": {},
     "output_type": "display_data"
    }
   ],
   "source": [
    "total=gjbfactorize$OnlinedatingOpinionAgree\n",
    "total_answered=length(total)\n",
    "percentageAnswered=select(gjbfactorize,sampleid,Education_Level,OnlineDatingA)%>%\n",
    "group_by(Education_Level)%>%\n",
    "summarise(countGrp=n())%>%\n",
    "right_join(OnlinedatingOpinionAgree,by=\"Education_Level\")%>%\n",
    "mutate(percentage=((count * 100 )/countGrp))%>%\n",
    "filter(Education_Level!= \"Refused\",Education_Level!=\"Don't know\" ) \n",
    "\n",
    "percentageAnswered$percentage<-round(percentageAnswered$percentage)\n",
    "head(percentageAnswered)"
   ]
  },
  {
   "cell_type": "markdown",
   "metadata": {
    "collapsed": true
   },
   "source": [
    "###### Plot the data as line chart, each bar stating what percent of individuals in each catogery have Internet access at home"
   ]
  },
  {
   "cell_type": "code",
   "execution_count": 18,
   "metadata": {
    "collapsed": false
   },
   "outputs": [
    {
     "data": {},
     "metadata": {},
     "output_type": "display_data"
    },
    {
     "data": {
      "image/png": "[encoded data removed]",
      "text/plain": [
       "plot without title"
      ]
     },
     "metadata": {},
     "output_type": "display_data"
    }
   ],
   "source": [
    "ggplot(data=percentageAnswered, aes(x=Education_Level, y=percentage,group=1),cex.names=0.20) +\n",
    "geom_line(stat=\"identity\",linetype=\"dashed\", size=1.5,colour=\"blue\",)+\n",
    "geom_point(colour=\"red\", size=4, shape=21, fill=\"white\")+\n",
    "coord_cartesian(ylim=c(0,100))+\n",
    "geom_text(aes(label=percentage), vjust=-0.3, size=2.5)+\n",
    "theme(text = element_text(size=10),axis.text.x = element_text(angle=90, hjust=1))+ \n",
    "ggtitle(\"Having Internt access with different income levels\") + \n",
    "theme(plot.title = element_text(lineheight=.8, face=\"bold\",hjust=0.5))"
   ]
  },
  {
   "cell_type": "markdown",
   "metadata": {
    "collapsed": false
   },
   "source": [
    "#### Description: <br/>\n",
    "Percent of people who disagree to the opinion in each catogery of people of different education level<br/>\n",
    "For instance : 36% of people with education less than high school disagree to the opinion."
   ]
  },
  {
   "cell_type": "markdown",
   "metadata": {},
   "source": [
    "#### Hypothesis :\n",
    "People with higher education tend to disagree with the opinion that online dating keeps people from settling down because they always have options for people to date,<br/>\n",
    "Since the more people get educated, their maturity about a relation tend to increase proportinally for most of them.<br/>\n",
    "Hence, the best match on online dating should be more educated one.\n"
   ]
  },
  {
   "cell_type": "markdown",
   "metadata": {},
   "source": [
    "###### -------------------------------------------------------------------------------------------------------------------------------------------------------------------------------------------------\n",
    "###### -------------------------------------------------------------------------------------------------------------------------------------------------------------------------------------------------"
   ]
  },
  {
   "cell_type": "markdown",
   "metadata": {},
   "source": [
    "# Q3? Major reason why Graduates and above dont use smart phones?"
   ]
  },
  {
   "cell_type": "markdown",
   "metadata": {},
   "source": [
    "######  Steps : Cleaning and Munging <br/>\n",
    "1) Select only the required columns:  Education_Level / Sample id / NoSmartPhones/age_Interval <br/><br/>\n",
    "2) Filter the data with people who have not answered to question on reason not to use smart phone and their education level<br/><br/>"
   ]
  },
  {
   "cell_type": "code",
   "execution_count": 19,
   "metadata": {
    "collapsed": true
   },
   "outputs": [],
   "source": [
    "WhyNoSmartphones=select(gjbfactorize,sampleid,NoSmartPhones,Education_Level,age_Interval)%>%\n",
    "filter(NoSmartPhones!= \"Other\", Education_Level!=\"Don't know\",Education_Level!=\"Refused\",NoSmartPhones!=\"Don't know\",NoSmartPhones!=\"Refused\",NoSmartPhones!=\"No reason\") %>%\n",
    "na.omit()"
   ]
  },
  {
   "cell_type": "code",
   "execution_count": 20,
   "metadata": {
    "collapsed": false
   },
   "outputs": [
    {
     "data": {
      "text/html": [
       "<table>\n",
       "<thead><tr><th scope=col>sampleid</th><th scope=col>NoSmartPhones</th><th scope=col>Education_Level</th><th scope=col>age_Interval</th></tr></thead>\n",
       "<tbody>\n",
       "\t<tr><td>100011                    </td><td>Don’t need one            </td><td>Less than high school     </td><td>older (65+)               </td></tr>\n",
       "\t<tr><td>100049                    </td><td>Only use phone for calling</td><td>Degree Four and Two year  </td><td>older (65+)               </td></tr>\n",
       "\t<tr><td>100051                    </td><td>Plan to get one           </td><td>Some college              </td><td>older (65+)               </td></tr>\n",
       "\t<tr><td>100059                    </td><td>Don’t need one            </td><td>High school graduate      </td><td>older (65+)               </td></tr>\n",
       "\t<tr><td>100065                    </td><td>Too expensive (general)   </td><td>High school graduate      </td><td>older (65+)               </td></tr>\n",
       "\t<tr><td>100096                    </td><td>not interested            </td><td>Degree Four and Two year  </td><td>older (65+)               </td></tr>\n",
       "</tbody>\n",
       "</table>\n"
      ],
      "text/latex": [
       "\\begin{tabular}{r|llll}\n",
       " sampleid & NoSmartPhones & Education\\_Level & age\\_Interval\\\\\n",
       "\\hline\n",
       "\t 100011                     & Don’t need one             & Less than high school      & older (65+)               \\\\\n",
       "\t 100049                     & Only use phone for calling & Degree Four and Two year   & older (65+)               \\\\\n",
       "\t 100051                     & Plan to get one            & Some college               & older (65+)               \\\\\n",
       "\t 100059                     & Don’t need one             & High school graduate       & older (65+)               \\\\\n",
       "\t 100065                     & Too expensive (general)    & High school graduate       & older (65+)               \\\\\n",
       "\t 100096                     & not interested             & Degree Four and Two year   & older (65+)               \\\\\n",
       "\\end{tabular}\n"
      ],
      "text/markdown": [
       "\n",
       "sampleid | NoSmartPhones | Education_Level | age_Interval | \n",
       "|---|---|---|---|---|---|\n",
       "| 100011                     | Don’t need one             | Less than high school      | older (65+)                | \n",
       "| 100049                     | Only use phone for calling | Degree Four and Two year   | older (65+)                | \n",
       "| 100051                     | Plan to get one            | Some college               | older (65+)                | \n",
       "| 100059                     | Don’t need one             | High school graduate       | older (65+)                | \n",
       "| 100065                     | Too expensive (general)    | High school graduate       | older (65+)                | \n",
       "| 100096                     | not interested             | Degree Four and Two year   | older (65+)                | \n",
       "\n",
       "\n"
      ],
      "text/plain": [
       "  sampleid NoSmartPhones              Education_Level          age_Interval\n",
       "1 100011   Dont need one             Less than high school    older (65+) \n",
       "2 100049   Only use phone for calling Degree Four and Two year older (65+) \n",
       "3 100051   Plan to get one            Some college             older (65+) \n",
       "4 100059   Dont need one             High school graduate     older (65+) \n",
       "5 100065   Too expensive (general)    High school graduate     older (65+) \n",
       "6 100096   not interested             Degree Four and Two year older (65+) "
      ]
     },
     "metadata": {},
     "output_type": "display_data"
    }
   ],
   "source": [
    "head(WhyNoSmartphones)"
   ]
  },
  {
   "cell_type": "code",
   "execution_count": 21,
   "metadata": {
    "collapsed": false
   },
   "outputs": [
    {
     "data": {},
     "metadata": {},
     "output_type": "display_data"
    },
    {
     "data": {
      "image/png": "[encoded data removed]",
      "text/plain": [
       "plot without title"
      ]
     },
     "metadata": {},
     "output_type": "display_data"
    }
   ],
   "source": [
    "qplot(Education_Level,NoSmartPhones, data=WhyNoSmartphones, geom=\"jitter\")+\n",
    "theme(text = element_text(size=10),axis.text.x = element_text(angle=90, hjust=1))+ \n",
    "ggtitle(\"Reason to not use smart phones vs education level\") + \n",
    "theme(plot.title = element_text(lineheight=.8, face=\"bold\",hjust=0.5))"
   ]
  },
  {
   "cell_type": "markdown",
   "metadata": {
    "collapsed": true
   },
   "source": [
    "###### Description:\n",
    "<br/>We can observe that jitter is mostly concentrated at the base of the bucket which labels that most people in education level above high school graduate dont prefer smart phones because they think its either too expensive or they dont need one."
   ]
  },
  {
   "cell_type": "code",
   "execution_count": 22,
   "metadata": {
    "collapsed": false
   },
   "outputs": [
    {
     "data": {},
     "metadata": {},
     "output_type": "display_data"
    },
    {
     "data": {
      "image/png": "[encoded data removed]",
      "text/plain": [
       "plot without title"
      ]
     },
     "metadata": {},
     "output_type": "display_data"
    }
   ],
   "source": [
    "qplot(age_Interval,NoSmartPhones,colour=Education_Level, data=WhyNoSmartphones, geom=\"jitter\")+\n",
    "theme(text = element_text(size=10),axis.text.x = element_text(angle=90, hjust=1))+ \n",
    "ggtitle(\"Reason to not use smart phones vs education level with Age\") + \n",
    "theme(plot.title = element_text(lineheight=.8, face=\"bold\",hjust=0.5))"
   ]
  },
  {
   "cell_type": "markdown",
   "metadata": {},
   "source": [
    "#### Description: <br/>\n",
    "Visualization of age and Education level as a factor of reason to not use smart phones."
   ]
  },
  {
   "cell_type": "markdown",
   "metadata": {},
   "source": [
    "###### Hypothesis:\n",
    "<br/>We can observe that whatever be the sample size of data, most of the people with age below  65 and education below high school graduate dont use smart phone because they think its too expensive while peiple with age 65 and education above high school graduate mostly think smart phone is not necessary because they dont need one."
   ]
  },
  {
   "cell_type": "markdown",
   "metadata": {},
   "source": [
    "###### -------------------------------------------------------------------------------------------------------------------------------------------------------------------------------------------------\n",
    "###### -------------------------------------------------------------------------------------------------------------------------------------------------------------------------------------------------`"
   ]
  },
  {
   "cell_type": "markdown",
   "metadata": {
    "collapsed": true
   },
   "source": [
    "# Q4: Are people with high speed connection not likely to have tv connection at home ?<br/><br/>"
   ]
  },
  {
   "cell_type": "markdown",
   "metadata": {
    "collapsed": true
   },
   "source": [
    "######  Steps : Cleaning and Munging <br/>\n",
    "1) Select only the required columns:  Education_Level / Type_of_Net / Television_Connection<br/><br/>\n",
    "2) Filter the data with people who have who didnot answer.<br/><br/>\n",
    "3) omit NA."
   ]
  },
  {
   "cell_type": "code",
   "execution_count": 23,
   "metadata": {
    "collapsed": true
   },
   "outputs": [],
   "source": [
    "WhyNoTV=select(gjbfactorize,sampleid,Type_of_Net,Television_Connection)%>%\n",
    "filter(Type_of_Net!=\"Dont know\",Type_of_Net!=\"Refused\",Television_Connection!=\"Dont know\",Television_Connection!=\"Refused\") %>%\n",
    "# group_by(NoSmartPhones,Education_Level)%>%\n",
    "na.omit()"
   ]
  },
  {
   "cell_type": "markdown",
   "metadata": {},
   "source": [
    "Group People who have and who dont have television connection with respect to Type of internet connection.<br/>\n",
    "Also, count the number of people with yes and no answers in each goup"
   ]
  },
  {
   "cell_type": "code",
   "execution_count": 24,
   "metadata": {
    "collapsed": false
   },
   "outputs": [
    {
     "data": {
      "text/html": [
       "<table>\n",
       "<thead><tr><th scope=col>Type_of_Net</th><th scope=col>Television_Connection</th><th scope=col>count</th></tr></thead>\n",
       "<tbody>\n",
       "\t<tr><td>Dial-up           </td><td>Yes               </td><td>  4               </td></tr>\n",
       "\t<tr><td>Dial-up           </td><td>No                </td><td>  3               </td></tr>\n",
       "\t<tr><td>Higher-speed      </td><td>Yes               </td><td>146               </td></tr>\n",
       "\t<tr><td>Higher-speed      </td><td>No                </td><td> 87               </td></tr>\n",
       "\t<tr><td>Both              </td><td>Yes               </td><td>  1               </td></tr>\n",
       "\t<tr><td>use Cellphone     </td><td>Yes               </td><td>  1               </td></tr>\n",
       "\t<tr><td>No internet access</td><td>Yes               </td><td>  1               </td></tr>\n",
       "\t<tr><td>No internet access</td><td>No                </td><td>  2               </td></tr>\n",
       "</tbody>\n",
       "</table>\n"
      ],
      "text/latex": [
       "\\begin{tabular}{r|lll}\n",
       " Type\\_of\\_Net & Television\\_Connection & count\\\\\n",
       "\\hline\n",
       "\t Dial-up            & Yes                &   4               \\\\\n",
       "\t Dial-up            & No                 &   3               \\\\\n",
       "\t Higher-speed       & Yes                & 146               \\\\\n",
       "\t Higher-speed       & No                 &  87               \\\\\n",
       "\t Both               & Yes                &   1               \\\\\n",
       "\t use Cellphone      & Yes                &   1               \\\\\n",
       "\t No internet access & Yes                &   1               \\\\\n",
       "\t No internet access & No                 &   2               \\\\\n",
       "\\end{tabular}\n"
      ],
      "text/markdown": [
       "\n",
       "Type_of_Net | Television_Connection | count | \n",
       "|---|---|---|---|---|---|---|---|\n",
       "| Dial-up            | Yes                |   4                | \n",
       "| Dial-up            | No                 |   3                | \n",
       "| Higher-speed       | Yes                | 146                | \n",
       "| Higher-speed       | No                 |  87                | \n",
       "| Both               | Yes                |   1                | \n",
       "| use Cellphone      | Yes                |   1                | \n",
       "| No internet access | Yes                |   1                | \n",
       "| No internet access | No                 |   2                | \n",
       "\n",
       "\n"
      ],
      "text/plain": [
       "  Type_of_Net        Television_Connection count\n",
       "1 Dial-up            Yes                     4  \n",
       "2 Dial-up            No                      3  \n",
       "3 Higher-speed       Yes                   146  \n",
       "4 Higher-speed       No                     87  \n",
       "5 Both               Yes                     1  \n",
       "6 use Cellphone      Yes                     1  \n",
       "7 No internet access Yes                     1  \n",
       "8 No internet access No                      2  "
      ]
     },
     "metadata": {},
     "output_type": "display_data"
    }
   ],
   "source": [
    "WhyNoTV=group_by(WhyNoTV,Type_of_Net,Television_Connection)%>%\n",
    "summarize(count=n())\n",
    "WhyNoTV"
   ]
  },
  {
   "cell_type": "markdown",
   "metadata": {},
   "source": [
    "###### Plot the data as bar chart, each bar stating what count of individuals in each catogery have and dont have telivision connection"
   ]
  },
  {
   "cell_type": "code",
   "execution_count": 25,
   "metadata": {
    "collapsed": false
   },
   "outputs": [
    {
     "data": {},
     "metadata": {},
     "output_type": "display_data"
    },
    {
     "data": {
      "image/png": "[encoded data removed]",
      "text/plain": [
       "plot without title"
      ]
     },
     "metadata": {},
     "output_type": "display_data"
    }
   ],
   "source": [
    "ggplot(data=WhyNoTV, aes(x=Type_of_Net,y=count,fill=Television_Connection,width=.5),cex.names=0.20) +\n",
    "geom_bar(stat=\"identity\")+\n",
    "coord_cartesian(ylim=c(0,250))+\n",
    "geom_text(aes(label=count), vjust=-0.3, size=2.5)+\n",
    "theme(text = element_text(size=10),axis.text.x = element_text(angle=90, hjust=1))+ \n",
    "ggtitle(\"Having telivision connection in relation to Internet connection\") + \n",
    "theme(plot.title = element_text(lineheight=.8, face=\"bold\",hjust=0.5))"
   ]
  },
  {
   "cell_type": "markdown",
   "metadata": {},
   "source": [
    "###### Description: <br/>\n",
    "Count of people with internet connection of different type with having or not having Telivision connection\n",
    "For instance : 87 people have high speed internet connection and dont have Telivision"
   ]
  },
  {
   "cell_type": "markdown",
   "metadata": {},
   "source": [
    "#### Hypothesis :\n",
    "It is clear that even though people have higher net connectivity, they do have Telivision connectionas well,<br/>\n",
    "146 count on people have high speed internet access at home and have telivision connection, as compated to 87 who dont We may conclude that over the net telivision services have not been able to eradicate peoples love for telivision."
   ]
  },
  {
   "cell_type": "markdown",
   "metadata": {},
   "source": [
    "###### -------------------------------------------------------------------------------------------------------------------------------------------------------------------------------------------------\n",
    "###### -------------------------------------------------------------------------------------------------------------------------------------------------------------------------------------------------`"
   ]
  },
  {
   "cell_type": "markdown",
   "metadata": {},
   "source": [
    "# Q5 : Do women and men hold varying opinion about voilence induced by violent games?\n"
   ]
  },
  {
   "cell_type": "markdown",
   "metadata": {},
   "source": [
    "######  Steps : Cleaning and Munging <br/>\n",
    "1) Select only the required columns:  sex / Violentgames<br/><br/>\n",
    "2) Filter the data with people who have who didnot answer.<br/><br/>\n",
    "3) omit NA."
   ]
  },
  {
   "cell_type": "code",
   "execution_count": 26,
   "metadata": {
    "collapsed": true
   },
   "outputs": [],
   "source": [
    "violenceNgame=select(gjbfactorize,sampleid,sex,Violentgames)%>%\n",
    "filter(Violentgames!=\"Dont know\",Violentgames!=\"Refused\") %>%\n",
    "# group_by(NoSmartPhones,Education_Level)%>%\n",
    "na.omit()"
   ]
  },
  {
   "cell_type": "markdown",
   "metadata": {},
   "source": [
    "Calculate the total count of male and female who answered that \"People who play violent video games are more likely to be violent themselves\" to cary out a percentage analysis."
   ]
  },
  {
   "cell_type": "code",
   "execution_count": 27,
   "metadata": {
    "collapsed": false
   },
   "outputs": [],
   "source": [
    "count_gender=group_by(violenceNgame,sex)%>%\n",
    "summarize(totalGender=n())%>%\n",
    "rename(Gender=sex)"
   ]
  },
  {
   "cell_type": "code",
   "execution_count": 28,
   "metadata": {
    "collapsed": false
   },
   "outputs": [
    {
     "data": {
      "text/html": [
       "<table>\n",
       "<thead><tr><th scope=col>Gender</th><th scope=col>totalGender</th></tr></thead>\n",
       "<tbody>\n",
       "\t<tr><td>Male  </td><td>906   </td></tr>\n",
       "\t<tr><td>Female</td><td>916   </td></tr>\n",
       "</tbody>\n",
       "</table>\n"
      ],
      "text/latex": [
       "\\begin{tabular}{r|ll}\n",
       " Gender & totalGender\\\\\n",
       "\\hline\n",
       "\t Male   & 906   \\\\\n",
       "\t Female & 916   \\\\\n",
       "\\end{tabular}\n"
      ],
      "text/markdown": [
       "\n",
       "Gender | totalGender | \n",
       "|---|---|\n",
       "| Male   | 906    | \n",
       "| Female | 916    | \n",
       "\n",
       "\n"
      ],
      "text/plain": [
       "  Gender totalGender\n",
       "1 Male   906        \n",
       "2 Female 916        "
      ]
     },
     "metadata": {},
     "output_type": "display_data"
    }
   ],
   "source": [
    "head(count_gender)"
   ]
  },
  {
   "cell_type": "markdown",
   "metadata": {},
   "source": [
    "I have carried a percentage based analysis since the number of male who answered are not same as the number of female."
   ]
  },
  {
   "cell_type": "code",
   "execution_count": 29,
   "metadata": {
    "collapsed": false
   },
   "outputs": [],
   "source": [
    "violenceNgame=group_by(violenceNgame,Gender=sex,Violentgames)%>%\n",
    "summarize(count=n())\n"
   ]
  },
  {
   "cell_type": "code",
   "execution_count": 30,
   "metadata": {
    "collapsed": false
   },
   "outputs": [
    {
     "data": {
      "text/html": [
       "<table>\n",
       "<thead><tr><th scope=col>Gender</th><th scope=col>Violentgames</th><th scope=col>count</th></tr></thead>\n",
       "<tbody>\n",
       "\t<tr><td>Male    </td><td>Agree   </td><td>328     </td></tr>\n",
       "\t<tr><td>Male    </td><td>Disagree</td><td>578     </td></tr>\n",
       "\t<tr><td>Female  </td><td>Agree   </td><td>501     </td></tr>\n",
       "\t<tr><td>Female  </td><td>Disagree</td><td>415     </td></tr>\n",
       "</tbody>\n",
       "</table>\n"
      ],
      "text/latex": [
       "\\begin{tabular}{r|lll}\n",
       " Gender & Violentgames & count\\\\\n",
       "\\hline\n",
       "\t Male     & Agree    & 328     \\\\\n",
       "\t Male     & Disagree & 578     \\\\\n",
       "\t Female   & Agree    & 501     \\\\\n",
       "\t Female   & Disagree & 415     \\\\\n",
       "\\end{tabular}\n"
      ],
      "text/markdown": [
       "\n",
       "Gender | Violentgames | count | \n",
       "|---|---|---|---|\n",
       "| Male     | Agree    | 328      | \n",
       "| Male     | Disagree | 578      | \n",
       "| Female   | Agree    | 501      | \n",
       "| Female   | Disagree | 415      | \n",
       "\n",
       "\n"
      ],
      "text/plain": [
       "  Gender Violentgames count\n",
       "1 Male   Agree        328  \n",
       "2 Male   Disagree     578  \n",
       "3 Female Agree        501  \n",
       "4 Female Disagree     415  "
      ]
     },
     "metadata": {},
     "output_type": "display_data"
    }
   ],
   "source": [
    "violenceNgame"
   ]
  },
  {
   "cell_type": "code",
   "execution_count": 31,
   "metadata": {
    "collapsed": false
   },
   "outputs": [
    {
     "data": {
      "text/html": [
       "<table>\n",
       "<thead><tr><th scope=col>Gender</th><th scope=col>totalGender</th><th scope=col>Violentgames</th><th scope=col>count</th><th scope=col>Percentage</th></tr></thead>\n",
       "<tbody>\n",
       "\t<tr><td>Male    </td><td>906     </td><td>Agree   </td><td>328     </td><td>36      </td></tr>\n",
       "\t<tr><td>Male    </td><td>906     </td><td>Disagree</td><td>578     </td><td>64      </td></tr>\n",
       "\t<tr><td>Female  </td><td>916     </td><td>Agree   </td><td>501     </td><td>55      </td></tr>\n",
       "\t<tr><td>Female  </td><td>916     </td><td>Disagree</td><td>415     </td><td>45      </td></tr>\n",
       "</tbody>\n",
       "</table>\n"
      ],
      "text/latex": [
       "\\begin{tabular}{r|lllll}\n",
       " Gender & totalGender & Violentgames & count & Percentage\\\\\n",
       "\\hline\n",
       "\t Male     & 906      & Agree    & 328      & 36      \\\\\n",
       "\t Male     & 906      & Disagree & 578      & 64      \\\\\n",
       "\t Female   & 916      & Agree    & 501      & 55      \\\\\n",
       "\t Female   & 916      & Disagree & 415      & 45      \\\\\n",
       "\\end{tabular}\n"
      ],
      "text/markdown": [
       "\n",
       "Gender | totalGender | Violentgames | count | Percentage | \n",
       "|---|---|---|---|\n",
       "| Male     | 906      | Agree    | 328      | 36       | \n",
       "| Male     | 906      | Disagree | 578      | 64       | \n",
       "| Female   | 916      | Agree    | 501      | 55       | \n",
       "| Female   | 916      | Disagree | 415      | 45       | \n",
       "\n",
       "\n"
      ],
      "text/plain": [
       "  Gender totalGender Violentgames count Percentage\n",
       "1 Male   906         Agree        328   36        \n",
       "2 Male   906         Disagree     578   64        \n",
       "3 Female 916         Agree        501   55        \n",
       "4 Female 916         Disagree     415   45        "
      ]
     },
     "metadata": {},
     "output_type": "display_data"
    }
   ],
   "source": [
    "violenceNgame=right_join(count_gender,violenceNgame,by=\"Gender\")\n",
    "violenceNgame=mutate(violenceNgame,Percentage=((count*100)/totalGender))\n",
    "violenceNgame$Percentage<-round(violenceNgame$Percentage)\n",
    "violenceNgame"
   ]
  },
  {
   "cell_type": "markdown",
   "metadata": {},
   "source": [
    "The data now speaks that :Only 36% of Male agree that \"People who play violent video games are more likely to be violent themselves\""
   ]
  },
  {
   "cell_type": "code",
   "execution_count": 32,
   "metadata": {
    "collapsed": false
   },
   "outputs": [
    {
     "data": {},
     "metadata": {},
     "output_type": "display_data"
    },
    {
     "data": {
      "image/png": "[encoded data removed]",
      "text/plain": [
       "plot without title"
      ]
     },
     "metadata": {},
     "output_type": "display_data"
    }
   ],
   "source": [
    "ggplot(data=violenceNgame, aes(x=Gender, y=Percentage, fill=Violentgames),width=5,cex.names=0.20) +\n",
    "    geom_bar(stat=\"identity\", position=position_dodge(), colour=\"black\")+\n",
    "coord_cartesian(ylim=c(0,100))+ \n",
    "ggtitle(\"Opinion of Violent games vs Gender\") + \n",
    "theme(plot.title = element_text(lineheight=.8, face=\"bold\",hjust=0.5))\n"
   ]
  },
  {
   "cell_type": "markdown",
   "metadata": {},
   "source": [
    "###### Description: <br/>\n",
    "Bar plot of how many percent of male and female agreed and disagreed to the opinion that \"People who play violent video games are more likely to be violent themselves\""
   ]
  },
  {
   "cell_type": "markdown",
   "metadata": {},
   "source": [
    "#### Hypothesis :\n",
    "It is clear that 55 percent of women agree with that people become violent ,<br/>\n",
    "While only 36 percent of men agree that people become violent by playing violent games.<br/>\n",
    "Clearly, men and women have different perspective of playing violent games, it can be because women have lesser tendency to play violent games."
   ]
  }
 ],
 "metadata": {
  "kernelspec": {
   "display_name": "R",
   "language": "R",
   "name": "ir"
  },
  "language_info": {
   "codemirror_mode": "r",
   "file_extension": ".r",
   "mimetype": "text/x-r-source",
   "name": "R",
   "pygments_lexer": "r",
   "version": "3.3.2"
  }
 },
 "nbformat": 4,
 "nbformat_minor": 2
}
