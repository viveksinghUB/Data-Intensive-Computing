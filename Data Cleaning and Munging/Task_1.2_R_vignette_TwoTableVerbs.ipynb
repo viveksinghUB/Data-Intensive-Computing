{
 "cells": [
  {
   "cell_type": "markdown",
   "metadata": {},
   "source": [
    "<h1>Two-table verbs"
   ]
  },
  {
   "cell_type": "markdown",
   "metadata": {},
   "source": [
    "Mutating joins : add new variables to one table from matching rows in another.<br\\>\n",
    "Filtering joins: filter observations from one table based on whether or not they match\n",
    "an observation in the other table.<br\\>Set operations : combine the observations in the data sets as if they were set\n",
    "elements."
   ]
  },
  {
   "cell_type": "markdown",
   "metadata": {},
   "source": [
    "The first two arguments are x and y, and provide the tables to combine. The output is always a new table with the same type as x"
   ]
  },
  {
   "cell_type": "markdown",
   "metadata": {},
   "source": [
    "Mutating joins allow you to combine variables from multiple tables.<br\\>\n",
    "table1 | flight->abbreviation , table2 | abbreviation - > full name <br>\n",
    "mutate can produce table3 | flight name -> full name"
   ]
  },
  {
   "cell_type": "code",
   "execution_count": 1,
   "metadata": {
    "collapsed": false
   },
   "outputs": [
    {
     "name": "stdout",
     "output_type": "stream",
     "text": [
      "package 'nycflights13' successfully unpacked and MD5 sums checked\n",
      "\n",
      "The downloaded binary packages are in\n",
      "\tC:\\Users\\vivek\\AppData\\Local\\Temp\\RtmpEXLgkN\\downloaded_packages\n"
     ]
    },
    {
     "name": "stderr",
     "output_type": "stream",
     "text": [
      "\n",
      "Attaching package: 'dplyr'\n",
      "\n",
      "The following objects are masked from 'package:stats':\n",
      "\n",
      "    filter, lag\n",
      "\n",
      "The following objects are masked from 'package:base':\n",
      "\n",
      "    intersect, setdiff, setequal, union\n",
      "\n"
     ]
    }
   ],
   "source": [
    "install.packages(\"nycflights13\",, repos=\"http://cran.us.r-project.org/\")\n",
    "library(\"nycflights13\")\n",
    "library(dplyr)"
   ]
  },
  {
   "cell_type": "code",
   "execution_count": 2,
   "metadata": {
    "collapsed": false
   },
   "outputs": [
    {
     "data": {
      "text/html": [
       "<table>\n",
       "<thead><tr><th scope=col>year</th><th scope=col>month</th><th scope=col>day</th><th scope=col>hour</th><th scope=col>origin</th><th scope=col>dest</th><th scope=col>tailnum</th><th scope=col>carrier</th></tr></thead>\n",
       "<tbody>\n",
       "\t<tr><td>2013  </td><td>1     </td><td>1     </td><td>5     </td><td>EWR   </td><td>IAH   </td><td>N14228</td><td>UA    </td></tr>\n",
       "\t<tr><td>2013  </td><td>1     </td><td>1     </td><td>5     </td><td>LGA   </td><td>IAH   </td><td>N24211</td><td>UA    </td></tr>\n",
       "\t<tr><td>2013  </td><td>1     </td><td>1     </td><td>5     </td><td>JFK   </td><td>MIA   </td><td>N619AA</td><td>AA    </td></tr>\n",
       "\t<tr><td>2013  </td><td>1     </td><td>1     </td><td>5     </td><td>JFK   </td><td>BQN   </td><td>N804JB</td><td>B6    </td></tr>\n",
       "\t<tr><td>2013  </td><td>1     </td><td>1     </td><td>6     </td><td>LGA   </td><td>ATL   </td><td>N668DN</td><td>DL    </td></tr>\n",
       "\t<tr><td>2013  </td><td>1     </td><td>1     </td><td>5     </td><td>EWR   </td><td>ORD   </td><td>N39463</td><td>UA    </td></tr>\n",
       "</tbody>\n",
       "</table>\n"
      ],
      "text/latex": [
       "\\begin{tabular}{r|llllllll}\n",
       " year & month & day & hour & origin & dest & tailnum & carrier\\\\\n",
       "\\hline\n",
       "\t 2013   & 1      & 1      & 5      & EWR    & IAH    & N14228 & UA    \\\\\n",
       "\t 2013   & 1      & 1      & 5      & LGA    & IAH    & N24211 & UA    \\\\\n",
       "\t 2013   & 1      & 1      & 5      & JFK    & MIA    & N619AA & AA    \\\\\n",
       "\t 2013   & 1      & 1      & 5      & JFK    & BQN    & N804JB & B6    \\\\\n",
       "\t 2013   & 1      & 1      & 6      & LGA    & ATL    & N668DN & DL    \\\\\n",
       "\t 2013   & 1      & 1      & 5      & EWR    & ORD    & N39463 & UA    \\\\\n",
       "\\end{tabular}\n"
      ],
      "text/markdown": [
       "\n",
       "year | month | day | hour | origin | dest | tailnum | carrier | \n",
       "|---|---|---|---|---|---|\n",
       "| 2013   | 1      | 1      | 5      | EWR    | IAH    | N14228 | UA     | \n",
       "| 2013   | 1      | 1      | 5      | LGA    | IAH    | N24211 | UA     | \n",
       "| 2013   | 1      | 1      | 5      | JFK    | MIA    | N619AA | AA     | \n",
       "| 2013   | 1      | 1      | 5      | JFK    | BQN    | N804JB | B6     | \n",
       "| 2013   | 1      | 1      | 6      | LGA    | ATL    | N668DN | DL     | \n",
       "| 2013   | 1      | 1      | 5      | EWR    | ORD    | N39463 | UA     | \n",
       "\n",
       "\n"
      ],
      "text/plain": [
       "  year month day hour origin dest tailnum carrier\n",
       "1 2013 1     1   5    EWR    IAH  N14228  UA     \n",
       "2 2013 1     1   5    LGA    IAH  N24211  UA     \n",
       "3 2013 1     1   5    JFK    MIA  N619AA  AA     \n",
       "4 2013 1     1   5    JFK    BQN  N804JB  B6     \n",
       "5 2013 1     1   6    LGA    ATL  N668DN  DL     \n",
       "6 2013 1     1   5    EWR    ORD  N39463  UA     "
      ]
     },
     "metadata": {},
     "output_type": "display_data"
    }
   ],
   "source": [
    "flights2 <- flights%>%\n",
    "select(year:day, hour, origin, dest, tailnum, carrier) \n",
    "#selectinfg a subset of original table and storing in flights2\n",
    "head(flights2)"
   ]
  },
  {
   "cell_type": "code",
   "execution_count": 3,
   "metadata": {
    "collapsed": false
   },
   "outputs": [
    {
     "data": {
      "text/html": [
       "<table>\n",
       "<thead><tr><th scope=col>carrier</th><th scope=col>name</th></tr></thead>\n",
       "<tbody>\n",
       "\t<tr><td>9E                      </td><td>Endeavor Air Inc.       </td></tr>\n",
       "\t<tr><td>AA                      </td><td>American Airlines Inc.  </td></tr>\n",
       "\t<tr><td>AS                      </td><td>Alaska Airlines Inc.    </td></tr>\n",
       "\t<tr><td>B6                      </td><td>JetBlue Airways         </td></tr>\n",
       "\t<tr><td>DL                      </td><td>Delta Air Lines Inc.    </td></tr>\n",
       "\t<tr><td>EV                      </td><td>ExpressJet Airlines Inc.</td></tr>\n",
       "</tbody>\n",
       "</table>\n"
      ],
      "text/latex": [
       "\\begin{tabular}{r|ll}\n",
       " carrier & name\\\\\n",
       "\\hline\n",
       "\t 9E                       & Endeavor Air Inc.       \\\\\n",
       "\t AA                       & American Airlines Inc.  \\\\\n",
       "\t AS                       & Alaska Airlines Inc.    \\\\\n",
       "\t B6                       & JetBlue Airways         \\\\\n",
       "\t DL                       & Delta Air Lines Inc.    \\\\\n",
       "\t EV                       & ExpressJet Airlines Inc.\\\\\n",
       "\\end{tabular}\n"
      ],
      "text/markdown": [
       "\n",
       "carrier | name | \n",
       "|---|---|---|---|---|---|\n",
       "| 9E                       | Endeavor Air Inc.        | \n",
       "| AA                       | American Airlines Inc.   | \n",
       "| AS                       | Alaska Airlines Inc.     | \n",
       "| B6                       | JetBlue Airways          | \n",
       "| DL                       | Delta Air Lines Inc.     | \n",
       "| EV                       | ExpressJet Airlines Inc. | \n",
       "\n",
       "\n"
      ],
      "text/plain": [
       "  carrier name                    \n",
       "1 9E      Endeavor Air Inc.       \n",
       "2 AA      American Airlines Inc.  \n",
       "3 AS      Alaska Airlines Inc.    \n",
       "4 B6      JetBlue Airways         \n",
       "5 DL      Delta Air Lines Inc.    \n",
       "6 EV      ExpressJet Airlines Inc."
      ]
     },
     "metadata": {},
     "output_type": "display_data"
    }
   ],
   "source": [
    "head(airlines)"
   ]
  },
  {
   "cell_type": "markdown",
   "metadata": {},
   "source": [
    "We need to match flight data with career full name"
   ]
  },
  {
   "cell_type": "code",
   "execution_count": 4,
   "metadata": {
    "collapsed": false
   },
   "outputs": [
    {
     "name": "stderr",
     "output_type": "stream",
     "text": [
      "Joining, by = \"carrier\"\n"
     ]
    },
    {
     "data": {
      "text/html": [
       "<table>\n",
       "<thead><tr><th scope=col>year</th><th scope=col>month</th><th scope=col>day</th><th scope=col>hour</th><th scope=col>origin</th><th scope=col>dest</th><th scope=col>tailnum</th><th scope=col>carrier</th><th scope=col>name</th></tr></thead>\n",
       "<tbody>\n",
       "\t<tr><td>2013                  </td><td>1                     </td><td>1                     </td><td>5                     </td><td>EWR                   </td><td>IAH                   </td><td>N14228                </td><td>UA                    </td><td>United Air Lines Inc. </td></tr>\n",
       "\t<tr><td>2013                  </td><td>1                     </td><td>1                     </td><td>5                     </td><td>LGA                   </td><td>IAH                   </td><td>N24211                </td><td>UA                    </td><td>United Air Lines Inc. </td></tr>\n",
       "\t<tr><td>2013                  </td><td>1                     </td><td>1                     </td><td>5                     </td><td>JFK                   </td><td>MIA                   </td><td>N619AA                </td><td>AA                    </td><td>American Airlines Inc.</td></tr>\n",
       "\t<tr><td>2013                  </td><td>1                     </td><td>1                     </td><td>5                     </td><td>JFK                   </td><td>BQN                   </td><td>N804JB                </td><td>B6                    </td><td>JetBlue Airways       </td></tr>\n",
       "\t<tr><td>2013                  </td><td>1                     </td><td>1                     </td><td>6                     </td><td>LGA                   </td><td>ATL                   </td><td>N668DN                </td><td>DL                    </td><td>Delta Air Lines Inc.  </td></tr>\n",
       "\t<tr><td>2013                  </td><td>1                     </td><td>1                     </td><td>5                     </td><td>EWR                   </td><td>ORD                   </td><td>N39463                </td><td>UA                    </td><td>United Air Lines Inc. </td></tr>\n",
       "</tbody>\n",
       "</table>\n"
      ],
      "text/latex": [
       "\\begin{tabular}{r|lllllllll}\n",
       " year & month & day & hour & origin & dest & tailnum & carrier & name\\\\\n",
       "\\hline\n",
       "\t 2013                   & 1                      & 1                      & 5                      & EWR                    & IAH                    & N14228                 & UA                     & United Air Lines Inc. \\\\\n",
       "\t 2013                   & 1                      & 1                      & 5                      & LGA                    & IAH                    & N24211                 & UA                     & United Air Lines Inc. \\\\\n",
       "\t 2013                   & 1                      & 1                      & 5                      & JFK                    & MIA                    & N619AA                 & AA                     & American Airlines Inc.\\\\\n",
       "\t 2013                   & 1                      & 1                      & 5                      & JFK                    & BQN                    & N804JB                 & B6                     & JetBlue Airways       \\\\\n",
       "\t 2013                   & 1                      & 1                      & 6                      & LGA                    & ATL                    & N668DN                 & DL                     & Delta Air Lines Inc.  \\\\\n",
       "\t 2013                   & 1                      & 1                      & 5                      & EWR                    & ORD                    & N39463                 & UA                     & United Air Lines Inc. \\\\\n",
       "\\end{tabular}\n"
      ],
      "text/markdown": [
       "\n",
       "year | month | day | hour | origin | dest | tailnum | carrier | name | \n",
       "|---|---|---|---|---|---|\n",
       "| 2013                   | 1                      | 1                      | 5                      | EWR                    | IAH                    | N14228                 | UA                     | United Air Lines Inc.  | \n",
       "| 2013                   | 1                      | 1                      | 5                      | LGA                    | IAH                    | N24211                 | UA                     | United Air Lines Inc.  | \n",
       "| 2013                   | 1                      | 1                      | 5                      | JFK                    | MIA                    | N619AA                 | AA                     | American Airlines Inc. | \n",
       "| 2013                   | 1                      | 1                      | 5                      | JFK                    | BQN                    | N804JB                 | B6                     | JetBlue Airways        | \n",
       "| 2013                   | 1                      | 1                      | 6                      | LGA                    | ATL                    | N668DN                 | DL                     | Delta Air Lines Inc.   | \n",
       "| 2013                   | 1                      | 1                      | 5                      | EWR                    | ORD                    | N39463                 | UA                     | United Air Lines Inc.  | \n",
       "\n",
       "\n"
      ],
      "text/plain": [
       "  year month day hour origin dest tailnum carrier name                  \n",
       "1 2013 1     1   5    EWR    IAH  N14228  UA      United Air Lines Inc. \n",
       "2 2013 1     1   5    LGA    IAH  N24211  UA      United Air Lines Inc. \n",
       "3 2013 1     1   5    JFK    MIA  N619AA  AA      American Airlines Inc.\n",
       "4 2013 1     1   5    JFK    BQN  N804JB  B6      JetBlue Airways       \n",
       "5 2013 1     1   6    LGA    ATL  N668DN  DL      Delta Air Lines Inc.  \n",
       "6 2013 1     1   5    EWR    ORD  N39463  UA      United Air Lines Inc. "
      ]
     },
     "metadata": {},
     "output_type": "display_data"
    }
   ],
   "source": [
    "head(left_join(flights2,airlines))"
   ]
  },
  {
   "cell_type": "markdown",
   "metadata": {},
   "source": [
    "Controlling how the tables are matched"
   ]
  },
  {
   "cell_type": "markdown",
   "metadata": {},
   "source": [
    "use of -> argument by"
   ]
  },
  {
   "cell_type": "markdown",
   "metadata": {},
   "source": [
    "It controls which variables are used\n",
    "to match observations in the two tables"
   ]
  },
  {
   "cell_type": "markdown",
   "metadata": {},
   "source": [
    "If we dont specify by, then by=NULL, the default. dplyr will use all variables that appear in both tables, a natural join. For\n",
    "example, the flights and weather tables match on their common variables: year, month, day,\n",
    "hour and origin."
   ]
  },
  {
   "cell_type": "code",
   "execution_count": 5,
   "metadata": {
    "collapsed": false
   },
   "outputs": [
    {
     "name": "stderr",
     "output_type": "stream",
     "text": [
      "Joining, by = c(\"year\", \"month\", \"day\", \"hour\", \"origin\")\n"
     ]
    },
    {
     "data": {
      "text/html": [
       "<table>\n",
       "<thead><tr><th scope=col>year</th><th scope=col>month</th><th scope=col>day</th><th scope=col>hour</th><th scope=col>origin</th><th scope=col>dest</th><th scope=col>tailnum</th><th scope=col>carrier</th><th scope=col>temp</th><th scope=col>dewp</th><th scope=col>humid</th><th scope=col>wind_dir</th><th scope=col>wind_speed</th><th scope=col>wind_gust</th><th scope=col>precip</th><th scope=col>pressure</th><th scope=col>visib</th><th scope=col>time_hour</th></tr></thead>\n",
       "<tbody>\n",
       "\t<tr><td>2013    </td><td>1       </td><td>1       </td><td>5       </td><td>EWR     </td><td>IAH     </td><td>N14228  </td><td>UA      </td><td>   NA   </td><td>   NA   </td><td>   NA   </td><td> NA     </td><td>      NA</td><td>      NA</td><td>NA      </td><td>    NA  </td><td>NA      </td><td>NA      </td></tr>\n",
       "\t<tr><td>2013    </td><td>1       </td><td>1       </td><td>5       </td><td>LGA     </td><td>IAH     </td><td>N24211  </td><td>UA      </td><td>   NA   </td><td>   NA   </td><td>   NA   </td><td> NA     </td><td>      NA</td><td>      NA</td><td>NA      </td><td>    NA  </td><td>NA      </td><td>NA      </td></tr>\n",
       "\t<tr><td>2013    </td><td>1       </td><td>1       </td><td>5       </td><td>JFK     </td><td>MIA     </td><td>N619AA  </td><td>AA      </td><td>   NA   </td><td>   NA   </td><td>   NA   </td><td> NA     </td><td>      NA</td><td>      NA</td><td>NA      </td><td>    NA  </td><td>NA      </td><td>NA      </td></tr>\n",
       "\t<tr><td>2013    </td><td>1       </td><td>1       </td><td>5       </td><td>JFK     </td><td>BQN     </td><td>N804JB  </td><td>B6      </td><td>   NA   </td><td>   NA   </td><td>   NA   </td><td> NA     </td><td>      NA</td><td>      NA</td><td>NA      </td><td>    NA  </td><td>NA      </td><td>NA      </td></tr>\n",
       "\t<tr><td>2013               </td><td>1                  </td><td>1                  </td><td>6                  </td><td>LGA                </td><td>ATL                </td><td>N668DN             </td><td>DL                 </td><td>39.92              </td><td>26.06              </td><td>57.33              </td><td>260                </td><td>13.80936           </td><td>15.89154           </td><td> 0                 </td><td>1011.9             </td><td>10                 </td><td>2013-01-01 01:00:00</td></tr>\n",
       "\t<tr><td>2013    </td><td>1       </td><td>1       </td><td>5       </td><td>EWR     </td><td>ORD     </td><td>N39463  </td><td>UA      </td><td>   NA   </td><td>   NA   </td><td>   NA   </td><td> NA     </td><td>      NA</td><td>      NA</td><td>NA      </td><td>    NA  </td><td>NA      </td><td>NA      </td></tr>\n",
       "</tbody>\n",
       "</table>\n"
      ],
      "text/latex": [
       "\\begin{tabular}{r|llllllllllllllllll}\n",
       " year & month & day & hour & origin & dest & tailnum & carrier & temp & dewp & humid & wind\\_dir & wind\\_speed & wind\\_gust & precip & pressure & visib & time\\_hour\\\\\n",
       "\\hline\n",
       "\t 2013     & 1        & 1        & 5        & EWR      & IAH      & N14228   & UA       &    NA    &    NA    &    NA    &  NA      &       NA &       NA & NA       &     NA   & NA       & NA      \\\\\n",
       "\t 2013     & 1        & 1        & 5        & LGA      & IAH      & N24211   & UA       &    NA    &    NA    &    NA    &  NA      &       NA &       NA & NA       &     NA   & NA       & NA      \\\\\n",
       "\t 2013     & 1        & 1        & 5        & JFK      & MIA      & N619AA   & AA       &    NA    &    NA    &    NA    &  NA      &       NA &       NA & NA       &     NA   & NA       & NA      \\\\\n",
       "\t 2013     & 1        & 1        & 5        & JFK      & BQN      & N804JB   & B6       &    NA    &    NA    &    NA    &  NA      &       NA &       NA & NA       &     NA   & NA       & NA      \\\\\n",
       "\t 2013                & 1                   & 1                   & 6                   & LGA                 & ATL                 & N668DN              & DL                  & 39.92               & 26.06               & 57.33               & 260                 & 13.80936            & 15.89154            &  0                  & 1011.9              & 10                  & 2013-01-01 01:00:00\\\\\n",
       "\t 2013     & 1        & 1        & 5        & EWR      & ORD      & N39463   & UA       &    NA    &    NA    &    NA    &  NA      &       NA &       NA & NA       &     NA   & NA       & NA      \\\\\n",
       "\\end{tabular}\n"
      ],
      "text/markdown": [
       "\n",
       "year | month | day | hour | origin | dest | tailnum | carrier | temp | dewp | humid | wind_dir | wind_speed | wind_gust | precip | pressure | visib | time_hour | \n",
       "|---|---|---|---|---|---|\n",
       "| 2013     | 1        | 1        | 5        | EWR      | IAH      | N14228   | UA       |    NA    |    NA    |    NA    |  NA      |       NA |       NA | NA       |     NA   | NA       | NA       | \n",
       "| 2013     | 1        | 1        | 5        | LGA      | IAH      | N24211   | UA       |    NA    |    NA    |    NA    |  NA      |       NA |       NA | NA       |     NA   | NA       | NA       | \n",
       "| 2013     | 1        | 1        | 5        | JFK      | MIA      | N619AA   | AA       |    NA    |    NA    |    NA    |  NA      |       NA |       NA | NA       |     NA   | NA       | NA       | \n",
       "| 2013     | 1        | 1        | 5        | JFK      | BQN      | N804JB   | B6       |    NA    |    NA    |    NA    |  NA      |       NA |       NA | NA       |     NA   | NA       | NA       | \n",
       "| 2013                | 1                   | 1                   | 6                   | LGA                 | ATL                 | N668DN              | DL                  | 39.92               | 26.06               | 57.33               | 260                 | 13.80936            | 15.89154            |  0                  | 1011.9              | 10                  | 2013-01-01 01:00:00 | \n",
       "| 2013     | 1        | 1        | 5        | EWR      | ORD      | N39463   | UA       |    NA    |    NA    |    NA    |  NA      |       NA |       NA | NA       |     NA   | NA       | NA       | \n",
       "\n",
       "\n"
      ],
      "text/plain": [
       "  year month day hour origin dest tailnum carrier temp  dewp  humid wind_dir\n",
       "1 2013 1     1   5    EWR    IAH  N14228  UA         NA    NA    NA  NA     \n",
       "2 2013 1     1   5    LGA    IAH  N24211  UA         NA    NA    NA  NA     \n",
       "3 2013 1     1   5    JFK    MIA  N619AA  AA         NA    NA    NA  NA     \n",
       "4 2013 1     1   5    JFK    BQN  N804JB  B6         NA    NA    NA  NA     \n",
       "5 2013 1     1   6    LGA    ATL  N668DN  DL      39.92 26.06 57.33 260     \n",
       "6 2013 1     1   5    EWR    ORD  N39463  UA         NA    NA    NA  NA     \n",
       "  wind_speed wind_gust precip pressure visib time_hour          \n",
       "1       NA         NA  NA         NA   NA    <NA>               \n",
       "2       NA         NA  NA         NA   NA    <NA>               \n",
       "3       NA         NA  NA         NA   NA    <NA>               \n",
       "4       NA         NA  NA         NA   NA    <NA>               \n",
       "5 13.80936   15.89154   0     1011.9   10    2013-01-01 01:00:00\n",
       "6       NA         NA  NA         NA   NA    <NA>               "
      ]
     },
     "metadata": {},
     "output_type": "display_data"
    }
   ],
   "source": [
    "head(flights2 %>% left_join(weather))"
   ]
  },
  {
   "cell_type": "code",
   "execution_count": 6,
   "metadata": {
    "collapsed": false,
    "scrolled": true
   },
   "outputs": [
    {
     "data": {
      "text/html": [
       "<table>\n",
       "<thead><tr><th scope=col>year.x</th><th scope=col>month</th><th scope=col>day</th><th scope=col>hour</th><th scope=col>origin</th><th scope=col>dest</th><th scope=col>tailnum</th><th scope=col>carrier</th><th scope=col>year.y</th><th scope=col>type</th><th scope=col>manufacturer</th><th scope=col>model</th><th scope=col>engines</th><th scope=col>seats</th><th scope=col>speed</th><th scope=col>engine</th></tr></thead>\n",
       "<tbody>\n",
       "\t<tr><td>2013                   </td><td>1                      </td><td>1                      </td><td>5                      </td><td>EWR                    </td><td>IAH                    </td><td>N14228                 </td><td>UA                     </td><td>1999                   </td><td>Fixed wing multi engine</td><td>BOEING                 </td><td>737-824                </td><td>2                      </td><td>149                    </td><td>NA                     </td><td>Turbo-fan              </td></tr>\n",
       "\t<tr><td>2013                   </td><td>1                      </td><td>1                      </td><td>5                      </td><td>LGA                    </td><td>IAH                    </td><td>N24211                 </td><td>UA                     </td><td>1998                   </td><td>Fixed wing multi engine</td><td>BOEING                 </td><td>737-824                </td><td>2                      </td><td>149                    </td><td>NA                     </td><td>Turbo-fan              </td></tr>\n",
       "\t<tr><td>2013                   </td><td>1                      </td><td>1                      </td><td>5                      </td><td>JFK                    </td><td>MIA                    </td><td>N619AA                 </td><td>AA                     </td><td>1990                   </td><td>Fixed wing multi engine</td><td>BOEING                 </td><td>757-223                </td><td>2                      </td><td>178                    </td><td>NA                     </td><td>Turbo-fan              </td></tr>\n",
       "\t<tr><td>2013                   </td><td>1                      </td><td>1                      </td><td>5                      </td><td>JFK                    </td><td>BQN                    </td><td>N804JB                 </td><td>B6                     </td><td>2012                   </td><td>Fixed wing multi engine</td><td>AIRBUS                 </td><td>A320-232               </td><td>2                      </td><td>200                    </td><td>NA                     </td><td>Turbo-fan              </td></tr>\n",
       "\t<tr><td>2013                   </td><td>1                      </td><td>1                      </td><td>6                      </td><td>LGA                    </td><td>ATL                    </td><td>N668DN                 </td><td>DL                     </td><td>1991                   </td><td>Fixed wing multi engine</td><td>BOEING                 </td><td>757-232                </td><td>2                      </td><td>178                    </td><td>NA                     </td><td>Turbo-fan              </td></tr>\n",
       "\t<tr><td>2013                   </td><td>1                      </td><td>1                      </td><td>5                      </td><td>EWR                    </td><td>ORD                    </td><td>N39463                 </td><td>UA                     </td><td>2012                   </td><td>Fixed wing multi engine</td><td>BOEING                 </td><td>737-924ER              </td><td>2                      </td><td>191                    </td><td>NA                     </td><td>Turbo-fan              </td></tr>\n",
       "</tbody>\n",
       "</table>\n"
      ],
      "text/latex": [
       "\\begin{tabular}{r|llllllllllllllll}\n",
       " year.x & month & day & hour & origin & dest & tailnum & carrier & year.y & type & manufacturer & model & engines & seats & speed & engine\\\\\n",
       "\\hline\n",
       "\t 2013                    & 1                       & 1                       & 5                       & EWR                     & IAH                     & N14228                  & UA                      & 1999                    & Fixed wing multi engine & BOEING                  & 737-824                 & 2                       & 149                     & NA                      & Turbo-fan              \\\\\n",
       "\t 2013                    & 1                       & 1                       & 5                       & LGA                     & IAH                     & N24211                  & UA                      & 1998                    & Fixed wing multi engine & BOEING                  & 737-824                 & 2                       & 149                     & NA                      & Turbo-fan              \\\\\n",
       "\t 2013                    & 1                       & 1                       & 5                       & JFK                     & MIA                     & N619AA                  & AA                      & 1990                    & Fixed wing multi engine & BOEING                  & 757-223                 & 2                       & 178                     & NA                      & Turbo-fan              \\\\\n",
       "\t 2013                    & 1                       & 1                       & 5                       & JFK                     & BQN                     & N804JB                  & B6                      & 2012                    & Fixed wing multi engine & AIRBUS                  & A320-232                & 2                       & 200                     & NA                      & Turbo-fan              \\\\\n",
       "\t 2013                    & 1                       & 1                       & 6                       & LGA                     & ATL                     & N668DN                  & DL                      & 1991                    & Fixed wing multi engine & BOEING                  & 757-232                 & 2                       & 178                     & NA                      & Turbo-fan              \\\\\n",
       "\t 2013                    & 1                       & 1                       & 5                       & EWR                     & ORD                     & N39463                  & UA                      & 2012                    & Fixed wing multi engine & BOEING                  & 737-924ER               & 2                       & 191                     & NA                      & Turbo-fan              \\\\\n",
       "\\end{tabular}\n"
      ],
      "text/markdown": [
       "\n",
       "year.x | month | day | hour | origin | dest | tailnum | carrier | year.y | type | manufacturer | model | engines | seats | speed | engine | \n",
       "|---|---|---|---|---|---|\n",
       "| 2013                    | 1                       | 1                       | 5                       | EWR                     | IAH                     | N14228                  | UA                      | 1999                    | Fixed wing multi engine | BOEING                  | 737-824                 | 2                       | 149                     | NA                      | Turbo-fan               | \n",
       "| 2013                    | 1                       | 1                       | 5                       | LGA                     | IAH                     | N24211                  | UA                      | 1998                    | Fixed wing multi engine | BOEING                  | 737-824                 | 2                       | 149                     | NA                      | Turbo-fan               | \n",
       "| 2013                    | 1                       | 1                       | 5                       | JFK                     | MIA                     | N619AA                  | AA                      | 1990                    | Fixed wing multi engine | BOEING                  | 757-223                 | 2                       | 178                     | NA                      | Turbo-fan               | \n",
       "| 2013                    | 1                       | 1                       | 5                       | JFK                     | BQN                     | N804JB                  | B6                      | 2012                    | Fixed wing multi engine | AIRBUS                  | A320-232                | 2                       | 200                     | NA                      | Turbo-fan               | \n",
       "| 2013                    | 1                       | 1                       | 6                       | LGA                     | ATL                     | N668DN                  | DL                      | 1991                    | Fixed wing multi engine | BOEING                  | 757-232                 | 2                       | 178                     | NA                      | Turbo-fan               | \n",
       "| 2013                    | 1                       | 1                       | 5                       | EWR                     | ORD                     | N39463                  | UA                      | 2012                    | Fixed wing multi engine | BOEING                  | 737-924ER               | 2                       | 191                     | NA                      | Turbo-fan               | \n",
       "\n",
       "\n"
      ],
      "text/plain": [
       "  year.x month day hour origin dest tailnum carrier year.y\n",
       "1 2013   1     1   5    EWR    IAH  N14228  UA      1999  \n",
       "2 2013   1     1   5    LGA    IAH  N24211  UA      1998  \n",
       "3 2013   1     1   5    JFK    MIA  N619AA  AA      1990  \n",
       "4 2013   1     1   5    JFK    BQN  N804JB  B6      2012  \n",
       "5 2013   1     1   6    LGA    ATL  N668DN  DL      1991  \n",
       "6 2013   1     1   5    EWR    ORD  N39463  UA      2012  \n",
       "  type                    manufacturer model     engines seats speed engine   \n",
       "1 Fixed wing multi engine BOEING       737-824   2       149   NA    Turbo-fan\n",
       "2 Fixed wing multi engine BOEING       737-824   2       149   NA    Turbo-fan\n",
       "3 Fixed wing multi engine BOEING       757-223   2       178   NA    Turbo-fan\n",
       "4 Fixed wing multi engine AIRBUS       A320-232  2       200   NA    Turbo-fan\n",
       "5 Fixed wing multi engine BOEING       757-232   2       178   NA    Turbo-fan\n",
       "6 Fixed wing multi engine BOEING       737-924ER 2       191   NA    Turbo-fan"
      ]
     },
     "metadata": {},
     "output_type": "display_data"
    }
   ],
   "source": [
    "head(flights2 %>% left_join(planes, by = \"tailnum\"))\n",
    "#joins the columns by the tail number, that is to say that join the table flight2 and \n",
    "#the table planes where their tailnum are common\n",
    "#other columns are disambigufied by appending .x and .y to distinguish between\n",
    "#first and second table"
   ]
  },
  {
   "cell_type": "markdown",
   "metadata": {},
   "source": [
    "A named character vector: by = c(\"x\" = \"a\"). This will match variable x in table x to variable\n",
    "a in table b. The variables from use will be used in the output."
   ]
  },
  {
   "cell_type": "code",
   "execution_count": 7,
   "metadata": {
    "collapsed": false
   },
   "outputs": [
    {
     "data": {
      "text/html": [
       "<table>\n",
       "<thead><tr><th scope=col>faa</th><th scope=col>name</th><th scope=col>lat</th><th scope=col>lon</th><th scope=col>alt</th><th scope=col>tz</th><th scope=col>dst</th><th scope=col>tzone</th></tr></thead>\n",
       "<tbody>\n",
       "\t<tr><td>04G                           </td><td>Lansdowne Airport             </td><td>41.13047                      </td><td>-80.61958                     </td><td>1044                          </td><td>-5                            </td><td>A                             </td><td>America/New_York              </td></tr>\n",
       "\t<tr><td>06A                           </td><td>Moton Field Municipal Airport </td><td>32.46057                      </td><td>-85.68003                     </td><td> 264                          </td><td>-6                            </td><td>A                             </td><td>America/Chicago               </td></tr>\n",
       "\t<tr><td>06C                           </td><td>Schaumburg Regional           </td><td>41.98934                      </td><td>-88.10124                     </td><td> 801                          </td><td>-6                            </td><td>A                             </td><td>America/Chicago               </td></tr>\n",
       "\t<tr><td>06N                           </td><td>Randall Airport               </td><td>41.43191                      </td><td>-74.39156                     </td><td> 523                          </td><td>-5                            </td><td>A                             </td><td>America/New_York              </td></tr>\n",
       "\t<tr><td>09J                           </td><td>Jekyll Island Airport         </td><td>31.07447                      </td><td>-81.42778                     </td><td>  11                          </td><td>-5                            </td><td>A                             </td><td>America/New_York              </td></tr>\n",
       "\t<tr><td>0A9                           </td><td>Elizabethton Municipal Airport</td><td>36.37122                      </td><td>-82.17342                     </td><td>1593                          </td><td>-5                            </td><td>A                             </td><td>America/New_York              </td></tr>\n",
       "</tbody>\n",
       "</table>\n"
      ],
      "text/latex": [
       "\\begin{tabular}{r|llllllll}\n",
       " faa & name & lat & lon & alt & tz & dst & tzone\\\\\n",
       "\\hline\n",
       "\t 04G                            & Lansdowne Airport              & 41.13047                       & -80.61958                      & 1044                           & -5                             & A                              & America/New\\_York            \\\\\n",
       "\t 06A                            & Moton Field Municipal Airport  & 32.46057                       & -85.68003                      &  264                           & -6                             & A                              & America/Chicago               \\\\\n",
       "\t 06C                            & Schaumburg Regional            & 41.98934                       & -88.10124                      &  801                           & -6                             & A                              & America/Chicago               \\\\\n",
       "\t 06N                            & Randall Airport                & 41.43191                       & -74.39156                      &  523                           & -5                             & A                              & America/New\\_York            \\\\\n",
       "\t 09J                            & Jekyll Island Airport          & 31.07447                       & -81.42778                      &   11                           & -5                             & A                              & America/New\\_York            \\\\\n",
       "\t 0A9                            & Elizabethton Municipal Airport & 36.37122                       & -82.17342                      & 1593                           & -5                             & A                              & America/New\\_York            \\\\\n",
       "\\end{tabular}\n"
      ],
      "text/markdown": [
       "\n",
       "faa | name | lat | lon | alt | tz | dst | tzone | \n",
       "|---|---|---|---|---|---|\n",
       "| 04G                            | Lansdowne Airport              | 41.13047                       | -80.61958                      | 1044                           | -5                             | A                              | America/New_York               | \n",
       "| 06A                            | Moton Field Municipal Airport  | 32.46057                       | -85.68003                      |  264                           | -6                             | A                              | America/Chicago                | \n",
       "| 06C                            | Schaumburg Regional            | 41.98934                       | -88.10124                      |  801                           | -6                             | A                              | America/Chicago                | \n",
       "| 06N                            | Randall Airport                | 41.43191                       | -74.39156                      |  523                           | -5                             | A                              | America/New_York               | \n",
       "| 09J                            | Jekyll Island Airport          | 31.07447                       | -81.42778                      |   11                           | -5                             | A                              | America/New_York               | \n",
       "| 0A9                            | Elizabethton Municipal Airport | 36.37122                       | -82.17342                      | 1593                           | -5                             | A                              | America/New_York               | \n",
       "\n",
       "\n"
      ],
      "text/plain": [
       "  faa name                           lat      lon       alt  tz dst\n",
       "1 04G Lansdowne Airport              41.13047 -80.61958 1044 -5 A  \n",
       "2 06A Moton Field Municipal Airport  32.46057 -85.68003  264 -6 A  \n",
       "3 06C Schaumburg Regional            41.98934 -88.10124  801 -6 A  \n",
       "4 06N Randall Airport                41.43191 -74.39156  523 -5 A  \n",
       "5 09J Jekyll Island Airport          31.07447 -81.42778   11 -5 A  \n",
       "6 0A9 Elizabethton Municipal Airport 36.37122 -82.17342 1593 -5 A  \n",
       "  tzone           \n",
       "1 America/New_York\n",
       "2 America/Chicago \n",
       "3 America/Chicago \n",
       "4 America/New_York\n",
       "5 America/New_York\n",
       "6 America/New_York"
      ]
     },
     "metadata": {},
     "output_type": "display_data"
    },
    {
     "data": {
      "text/html": [
       "<table>\n",
       "<thead><tr><th scope=col>year</th><th scope=col>month</th><th scope=col>day</th><th scope=col>hour</th><th scope=col>origin</th><th scope=col>dest</th><th scope=col>tailnum</th><th scope=col>carrier</th></tr></thead>\n",
       "<tbody>\n",
       "\t<tr><td>2013  </td><td>1     </td><td>1     </td><td>5     </td><td>EWR   </td><td>IAH   </td><td>N14228</td><td>UA    </td></tr>\n",
       "\t<tr><td>2013  </td><td>1     </td><td>1     </td><td>5     </td><td>LGA   </td><td>IAH   </td><td>N24211</td><td>UA    </td></tr>\n",
       "\t<tr><td>2013  </td><td>1     </td><td>1     </td><td>5     </td><td>JFK   </td><td>MIA   </td><td>N619AA</td><td>AA    </td></tr>\n",
       "\t<tr><td>2013  </td><td>1     </td><td>1     </td><td>5     </td><td>JFK   </td><td>BQN   </td><td>N804JB</td><td>B6    </td></tr>\n",
       "\t<tr><td>2013  </td><td>1     </td><td>1     </td><td>6     </td><td>LGA   </td><td>ATL   </td><td>N668DN</td><td>DL    </td></tr>\n",
       "\t<tr><td>2013  </td><td>1     </td><td>1     </td><td>5     </td><td>EWR   </td><td>ORD   </td><td>N39463</td><td>UA    </td></tr>\n",
       "</tbody>\n",
       "</table>\n"
      ],
      "text/latex": [
       "\\begin{tabular}{r|llllllll}\n",
       " year & month & day & hour & origin & dest & tailnum & carrier\\\\\n",
       "\\hline\n",
       "\t 2013   & 1      & 1      & 5      & EWR    & IAH    & N14228 & UA    \\\\\n",
       "\t 2013   & 1      & 1      & 5      & LGA    & IAH    & N24211 & UA    \\\\\n",
       "\t 2013   & 1      & 1      & 5      & JFK    & MIA    & N619AA & AA    \\\\\n",
       "\t 2013   & 1      & 1      & 5      & JFK    & BQN    & N804JB & B6    \\\\\n",
       "\t 2013   & 1      & 1      & 6      & LGA    & ATL    & N668DN & DL    \\\\\n",
       "\t 2013   & 1      & 1      & 5      & EWR    & ORD    & N39463 & UA    \\\\\n",
       "\\end{tabular}\n"
      ],
      "text/markdown": [
       "\n",
       "year | month | day | hour | origin | dest | tailnum | carrier | \n",
       "|---|---|---|---|---|---|\n",
       "| 2013   | 1      | 1      | 5      | EWR    | IAH    | N14228 | UA     | \n",
       "| 2013   | 1      | 1      | 5      | LGA    | IAH    | N24211 | UA     | \n",
       "| 2013   | 1      | 1      | 5      | JFK    | MIA    | N619AA | AA     | \n",
       "| 2013   | 1      | 1      | 5      | JFK    | BQN    | N804JB | B6     | \n",
       "| 2013   | 1      | 1      | 6      | LGA    | ATL    | N668DN | DL     | \n",
       "| 2013   | 1      | 1      | 5      | EWR    | ORD    | N39463 | UA     | \n",
       "\n",
       "\n"
      ],
      "text/plain": [
       "  year month day hour origin dest tailnum carrier\n",
       "1 2013 1     1   5    EWR    IAH  N14228  UA     \n",
       "2 2013 1     1   5    LGA    IAH  N24211  UA     \n",
       "3 2013 1     1   5    JFK    MIA  N619AA  AA     \n",
       "4 2013 1     1   5    JFK    BQN  N804JB  B6     \n",
       "5 2013 1     1   6    LGA    ATL  N668DN  DL     \n",
       "6 2013 1     1   5    EWR    ORD  N39463  UA     "
      ]
     },
     "metadata": {},
     "output_type": "display_data"
    }
   ],
   "source": [
    "head(airports)\n",
    "head(flights2)\n",
    "#we want to join faa column with dest column"
   ]
  },
  {
   "cell_type": "code",
   "execution_count": 8,
   "metadata": {
    "collapsed": false
   },
   "outputs": [
    {
     "data": {
      "text/html": [
       "<table>\n",
       "<thead><tr><th scope=col>year</th><th scope=col>month</th><th scope=col>day</th><th scope=col>hour</th><th scope=col>origin</th><th scope=col>dest</th><th scope=col>tailnum</th><th scope=col>carrier</th><th scope=col>name</th><th scope=col>lat</th><th scope=col>lon</th><th scope=col>alt</th><th scope=col>tz</th><th scope=col>dst</th><th scope=col>tzone</th></tr></thead>\n",
       "<tbody>\n",
       "\t<tr><td>2013                           </td><td>1                              </td><td>1                              </td><td>5                              </td><td>EWR                            </td><td>IAH                            </td><td>N14228                         </td><td>UA                             </td><td>George Bush Intercontinental   </td><td>29.98443                       </td><td>-95.34144                      </td><td>  97                           </td><td>-6                             </td><td>A                              </td><td>America/Chicago                </td></tr>\n",
       "\t<tr><td>2013                           </td><td>1                              </td><td>1                              </td><td>5                              </td><td>LGA                            </td><td>IAH                            </td><td>N24211                         </td><td>UA                             </td><td>George Bush Intercontinental   </td><td>29.98443                       </td><td>-95.34144                      </td><td>  97                           </td><td>-6                             </td><td>A                              </td><td>America/Chicago                </td></tr>\n",
       "\t<tr><td>2013                           </td><td>1                              </td><td>1                              </td><td>5                              </td><td>JFK                            </td><td>MIA                            </td><td>N619AA                         </td><td>AA                             </td><td>Miami Intl                     </td><td>25.79325                       </td><td>-80.29056                      </td><td>   8                           </td><td>-5                             </td><td>A                              </td><td>America/New_York               </td></tr>\n",
       "\t<tr><td>2013                           </td><td>1                              </td><td>1                              </td><td>5                              </td><td>JFK                            </td><td>BQN                            </td><td>N804JB                         </td><td>B6                             </td><td>NA                             </td><td>      NA                       </td><td>       NA                      </td><td>  NA                           </td><td>NA                             </td><td>NA                             </td><td>NA                             </td></tr>\n",
       "\t<tr><td>2013                           </td><td>1                              </td><td>1                              </td><td>6                              </td><td>LGA                            </td><td>ATL                            </td><td>N668DN                         </td><td>DL                             </td><td>Hartsfield Jackson Atlanta Intl</td><td>33.63672                       </td><td>-84.42807                      </td><td>1026                           </td><td>-5                             </td><td>A                              </td><td>America/New_York               </td></tr>\n",
       "\t<tr><td>2013                           </td><td>1                              </td><td>1                              </td><td>5                              </td><td>EWR                            </td><td>ORD                            </td><td>N39463                         </td><td>UA                             </td><td>Chicago Ohare Intl             </td><td>41.97860                       </td><td>-87.90484                      </td><td> 668                           </td><td>-6                             </td><td>A                              </td><td>America/Chicago                </td></tr>\n",
       "</tbody>\n",
       "</table>\n"
      ],
      "text/latex": [
       "\\begin{tabular}{r|lllllllllllllll}\n",
       " year & month & day & hour & origin & dest & tailnum & carrier & name & lat & lon & alt & tz & dst & tzone\\\\\n",
       "\\hline\n",
       "\t 2013                            & 1                               & 1                               & 5                               & EWR                             & IAH                             & N14228                          & UA                              & George Bush Intercontinental    & 29.98443                        & -95.34144                       &   97                            & -6                              & A                               & America/Chicago                \\\\\n",
       "\t 2013                            & 1                               & 1                               & 5                               & LGA                             & IAH                             & N24211                          & UA                              & George Bush Intercontinental    & 29.98443                        & -95.34144                       &   97                            & -6                              & A                               & America/Chicago                \\\\\n",
       "\t 2013                            & 1                               & 1                               & 5                               & JFK                             & MIA                             & N619AA                          & AA                              & Miami Intl                      & 25.79325                        & -80.29056                       &    8                            & -5                              & A                               & America/New\\_York             \\\\\n",
       "\t 2013                            & 1                               & 1                               & 5                               & JFK                             & BQN                             & N804JB                          & B6                              & NA                              &       NA                        &        NA                       &   NA                            & NA                              & NA                              & NA                             \\\\\n",
       "\t 2013                            & 1                               & 1                               & 6                               & LGA                             & ATL                             & N668DN                          & DL                              & Hartsfield Jackson Atlanta Intl & 33.63672                        & -84.42807                       & 1026                            & -5                              & A                               & America/New\\_York             \\\\\n",
       "\t 2013                            & 1                               & 1                               & 5                               & EWR                             & ORD                             & N39463                          & UA                              & Chicago Ohare Intl              & 41.97860                        & -87.90484                       &  668                            & -6                              & A                               & America/Chicago                \\\\\n",
       "\\end{tabular}\n"
      ],
      "text/markdown": [
       "\n",
       "year | month | day | hour | origin | dest | tailnum | carrier | name | lat | lon | alt | tz | dst | tzone | \n",
       "|---|---|---|---|---|---|\n",
       "| 2013                            | 1                               | 1                               | 5                               | EWR                             | IAH                             | N14228                          | UA                              | George Bush Intercontinental    | 29.98443                        | -95.34144                       |   97                            | -6                              | A                               | America/Chicago                 | \n",
       "| 2013                            | 1                               | 1                               | 5                               | LGA                             | IAH                             | N24211                          | UA                              | George Bush Intercontinental    | 29.98443                        | -95.34144                       |   97                            | -6                              | A                               | America/Chicago                 | \n",
       "| 2013                            | 1                               | 1                               | 5                               | JFK                             | MIA                             | N619AA                          | AA                              | Miami Intl                      | 25.79325                        | -80.29056                       |    8                            | -5                              | A                               | America/New_York                | \n",
       "| 2013                            | 1                               | 1                               | 5                               | JFK                             | BQN                             | N804JB                          | B6                              | NA                              |       NA                        |        NA                       |   NA                            | NA                              | NA                              | NA                              | \n",
       "| 2013                            | 1                               | 1                               | 6                               | LGA                             | ATL                             | N668DN                          | DL                              | Hartsfield Jackson Atlanta Intl | 33.63672                        | -84.42807                       | 1026                            | -5                              | A                               | America/New_York                | \n",
       "| 2013                            | 1                               | 1                               | 5                               | EWR                             | ORD                             | N39463                          | UA                              | Chicago Ohare Intl              | 41.97860                        | -87.90484                       |  668                            | -6                              | A                               | America/Chicago                 | \n",
       "\n",
       "\n"
      ],
      "text/plain": [
       "  year month day hour origin dest tailnum carrier\n",
       "1 2013 1     1   5    EWR    IAH  N14228  UA     \n",
       "2 2013 1     1   5    LGA    IAH  N24211  UA     \n",
       "3 2013 1     1   5    JFK    MIA  N619AA  AA     \n",
       "4 2013 1     1   5    JFK    BQN  N804JB  B6     \n",
       "5 2013 1     1   6    LGA    ATL  N668DN  DL     \n",
       "6 2013 1     1   5    EWR    ORD  N39463  UA     \n",
       "  name                            lat      lon       alt  tz dst\n",
       "1 George Bush Intercontinental    29.98443 -95.34144   97 -6 A  \n",
       "2 George Bush Intercontinental    29.98443 -95.34144   97 -6 A  \n",
       "3 Miami Intl                      25.79325 -80.29056    8 -5 A  \n",
       "4 NA                                    NA        NA   NA NA NA \n",
       "5 Hartsfield Jackson Atlanta Intl 33.63672 -84.42807 1026 -5 A  \n",
       "6 Chicago Ohare Intl              41.97860 -87.90484  668 -6 A  \n",
       "  tzone           \n",
       "1 America/Chicago \n",
       "2 America/Chicago \n",
       "3 America/New_York\n",
       "4 NA              \n",
       "5 America/New_York\n",
       "6 America/Chicago "
      ]
     },
     "metadata": {},
     "output_type": "display_data"
    }
   ],
   "source": [
    "head(flights2 %>% left_join(airports, c(\"dest\" = \"faa\")))"
   ]
  },
  {
   "cell_type": "code",
   "execution_count": 9,
   "metadata": {
    "collapsed": false,
    "scrolled": true
   },
   "outputs": [
    {
     "data": {
      "text/html": [
       "<table>\n",
       "<thead><tr><th scope=col>year</th><th scope=col>month</th><th scope=col>day</th><th scope=col>hour</th><th scope=col>origin</th><th scope=col>dest</th><th scope=col>tailnum</th><th scope=col>carrier</th><th scope=col>name</th><th scope=col>lat</th><th scope=col>lon</th><th scope=col>alt</th><th scope=col>tz</th><th scope=col>dst</th><th scope=col>tzone</th></tr></thead>\n",
       "<tbody>\n",
       "\t<tr><td>2013               </td><td>1                  </td><td>1                  </td><td>5                  </td><td>EWR                </td><td>IAH                </td><td>N14228             </td><td>UA                 </td><td>Newark Liberty Intl</td><td>40.69250           </td><td>-74.16867          </td><td>18                 </td><td>-5                 </td><td>A                  </td><td>America/New_York   </td></tr>\n",
       "\t<tr><td>2013               </td><td>1                  </td><td>1                  </td><td>5                  </td><td>LGA                </td><td>IAH                </td><td>N24211             </td><td>UA                 </td><td>La Guardia         </td><td>40.77725           </td><td>-73.87261          </td><td>22                 </td><td>-5                 </td><td>A                  </td><td>America/New_York   </td></tr>\n",
       "\t<tr><td>2013               </td><td>1                  </td><td>1                  </td><td>5                  </td><td>JFK                </td><td>MIA                </td><td>N619AA             </td><td>AA                 </td><td>John F Kennedy Intl</td><td>40.63975           </td><td>-73.77893          </td><td>13                 </td><td>-5                 </td><td>A                  </td><td>America/New_York   </td></tr>\n",
       "\t<tr><td>2013               </td><td>1                  </td><td>1                  </td><td>5                  </td><td>JFK                </td><td>BQN                </td><td>N804JB             </td><td>B6                 </td><td>John F Kennedy Intl</td><td>40.63975           </td><td>-73.77893          </td><td>13                 </td><td>-5                 </td><td>A                  </td><td>America/New_York   </td></tr>\n",
       "\t<tr><td>2013               </td><td>1                  </td><td>1                  </td><td>6                  </td><td>LGA                </td><td>ATL                </td><td>N668DN             </td><td>DL                 </td><td>La Guardia         </td><td>40.77725           </td><td>-73.87261          </td><td>22                 </td><td>-5                 </td><td>A                  </td><td>America/New_York   </td></tr>\n",
       "\t<tr><td>2013               </td><td>1                  </td><td>1                  </td><td>5                  </td><td>EWR                </td><td>ORD                </td><td>N39463             </td><td>UA                 </td><td>Newark Liberty Intl</td><td>40.69250           </td><td>-74.16867          </td><td>18                 </td><td>-5                 </td><td>A                  </td><td>America/New_York   </td></tr>\n",
       "</tbody>\n",
       "</table>\n"
      ],
      "text/latex": [
       "\\begin{tabular}{r|lllllllllllllll}\n",
       " year & month & day & hour & origin & dest & tailnum & carrier & name & lat & lon & alt & tz & dst & tzone\\\\\n",
       "\\hline\n",
       "\t 2013                & 1                   & 1                   & 5                   & EWR                 & IAH                 & N14228              & UA                  & Newark Liberty Intl & 40.69250            & -74.16867           & 18                  & -5                  & A                   & America/New\\_York \\\\\n",
       "\t 2013                & 1                   & 1                   & 5                   & LGA                 & IAH                 & N24211              & UA                  & La Guardia          & 40.77725            & -73.87261           & 22                  & -5                  & A                   & America/New\\_York \\\\\n",
       "\t 2013                & 1                   & 1                   & 5                   & JFK                 & MIA                 & N619AA              & AA                  & John F Kennedy Intl & 40.63975            & -73.77893           & 13                  & -5                  & A                   & America/New\\_York \\\\\n",
       "\t 2013                & 1                   & 1                   & 5                   & JFK                 & BQN                 & N804JB              & B6                  & John F Kennedy Intl & 40.63975            & -73.77893           & 13                  & -5                  & A                   & America/New\\_York \\\\\n",
       "\t 2013                & 1                   & 1                   & 6                   & LGA                 & ATL                 & N668DN              & DL                  & La Guardia          & 40.77725            & -73.87261           & 22                  & -5                  & A                   & America/New\\_York \\\\\n",
       "\t 2013                & 1                   & 1                   & 5                   & EWR                 & ORD                 & N39463              & UA                  & Newark Liberty Intl & 40.69250            & -74.16867           & 18                  & -5                  & A                   & America/New\\_York \\\\\n",
       "\\end{tabular}\n"
      ],
      "text/markdown": [
       "\n",
       "year | month | day | hour | origin | dest | tailnum | carrier | name | lat | lon | alt | tz | dst | tzone | \n",
       "|---|---|---|---|---|---|\n",
       "| 2013                | 1                   | 1                   | 5                   | EWR                 | IAH                 | N14228              | UA                  | Newark Liberty Intl | 40.69250            | -74.16867           | 18                  | -5                  | A                   | America/New_York    | \n",
       "| 2013                | 1                   | 1                   | 5                   | LGA                 | IAH                 | N24211              | UA                  | La Guardia          | 40.77725            | -73.87261           | 22                  | -5                  | A                   | America/New_York    | \n",
       "| 2013                | 1                   | 1                   | 5                   | JFK                 | MIA                 | N619AA              | AA                  | John F Kennedy Intl | 40.63975            | -73.77893           | 13                  | -5                  | A                   | America/New_York    | \n",
       "| 2013                | 1                   | 1                   | 5                   | JFK                 | BQN                 | N804JB              | B6                  | John F Kennedy Intl | 40.63975            | -73.77893           | 13                  | -5                  | A                   | America/New_York    | \n",
       "| 2013                | 1                   | 1                   | 6                   | LGA                 | ATL                 | N668DN              | DL                  | La Guardia          | 40.77725            | -73.87261           | 22                  | -5                  | A                   | America/New_York    | \n",
       "| 2013                | 1                   | 1                   | 5                   | EWR                 | ORD                 | N39463              | UA                  | Newark Liberty Intl | 40.69250            | -74.16867           | 18                  | -5                  | A                   | America/New_York    | \n",
       "\n",
       "\n"
      ],
      "text/plain": [
       "  year month day hour origin dest tailnum carrier name                lat     \n",
       "1 2013 1     1   5    EWR    IAH  N14228  UA      Newark Liberty Intl 40.69250\n",
       "2 2013 1     1   5    LGA    IAH  N24211  UA      La Guardia          40.77725\n",
       "3 2013 1     1   5    JFK    MIA  N619AA  AA      John F Kennedy Intl 40.63975\n",
       "4 2013 1     1   5    JFK    BQN  N804JB  B6      John F Kennedy Intl 40.63975\n",
       "5 2013 1     1   6    LGA    ATL  N668DN  DL      La Guardia          40.77725\n",
       "6 2013 1     1   5    EWR    ORD  N39463  UA      Newark Liberty Intl 40.69250\n",
       "  lon       alt tz dst tzone           \n",
       "1 -74.16867 18  -5 A   America/New_York\n",
       "2 -73.87261 22  -5 A   America/New_York\n",
       "3 -73.77893 13  -5 A   America/New_York\n",
       "4 -73.77893 13  -5 A   America/New_York\n",
       "5 -73.87261 22  -5 A   America/New_York\n",
       "6 -74.16867 18  -5 A   America/New_York"
      ]
     },
     "metadata": {},
     "output_type": "display_data"
    }
   ],
   "source": [
    "#to join origin with faa\n",
    "head(flights2 %>% left_join(airports, c(\"origin\" = \"faa\")))"
   ]
  },
  {
   "cell_type": "markdown",
   "metadata": {},
   "source": [
    "Types of join"
   ]
  },
  {
   "cell_type": "markdown",
   "metadata": {},
   "source": [
    "differ in their behaviour when a match is not found."
   ]
  },
  {
   "cell_type": "code",
   "execution_count": 10,
   "metadata": {
    "collapsed": false
   },
   "outputs": [],
   "source": [
    "df1 <- data_frame(x = c(1, 2), y = 2:1)\n",
    "df2 <- data_frame(x = c(1, 3), a = 10, b = \"a\")"
   ]
  },
  {
   "cell_type": "code",
   "execution_count": 11,
   "metadata": {
    "collapsed": false
   },
   "outputs": [
    {
     "data": {
      "text/html": [
       "<table>\n",
       "<thead><tr><th scope=col>x</th><th scope=col>y</th></tr></thead>\n",
       "<tbody>\n",
       "\t<tr><td>1</td><td>2</td></tr>\n",
       "\t<tr><td>2</td><td>1</td></tr>\n",
       "</tbody>\n",
       "</table>\n"
      ],
      "text/latex": [
       "\\begin{tabular}{r|ll}\n",
       " x & y\\\\\n",
       "\\hline\n",
       "\t 1 & 2\\\\\n",
       "\t 2 & 1\\\\\n",
       "\\end{tabular}\n"
      ],
      "text/markdown": [
       "\n",
       "x | y | \n",
       "|---|---|\n",
       "| 1 | 2 | \n",
       "| 2 | 1 | \n",
       "\n",
       "\n"
      ],
      "text/plain": [
       "  x y\n",
       "1 1 2\n",
       "2 2 1"
      ]
     },
     "metadata": {},
     "output_type": "display_data"
    },
    {
     "data": {
      "text/html": [
       "<table>\n",
       "<thead><tr><th scope=col>x</th><th scope=col>a</th><th scope=col>b</th></tr></thead>\n",
       "<tbody>\n",
       "\t<tr><td>1 </td><td>10</td><td>a </td></tr>\n",
       "\t<tr><td>3 </td><td>10</td><td>a </td></tr>\n",
       "</tbody>\n",
       "</table>\n"
      ],
      "text/latex": [
       "\\begin{tabular}{r|lll}\n",
       " x & a & b\\\\\n",
       "\\hline\n",
       "\t 1  & 10 & a \\\\\n",
       "\t 3  & 10 & a \\\\\n",
       "\\end{tabular}\n"
      ],
      "text/markdown": [
       "\n",
       "x | a | b | \n",
       "|---|---|\n",
       "| 1  | 10 | a  | \n",
       "| 3  | 10 | a  | \n",
       "\n",
       "\n"
      ],
      "text/plain": [
       "  x a  b\n",
       "1 1 10 a\n",
       "2 3 10 a"
      ]
     },
     "metadata": {},
     "output_type": "display_data"
    }
   ],
   "source": [
    "df1\n",
    "df2"
   ]
  },
  {
   "cell_type": "markdown",
   "metadata": {},
   "source": [
    "◦ inner_join(x, y) only includes observations that match in both x and y."
   ]
  },
  {
   "cell_type": "code",
   "execution_count": 12,
   "metadata": {
    "collapsed": false
   },
   "outputs": [
    {
     "name": "stderr",
     "output_type": "stream",
     "text": [
      "Joining, by = \"x\"\n"
     ]
    },
    {
     "data": {
      "text/html": [
       "<table>\n",
       "<thead><tr><th scope=col>x</th><th scope=col>y</th><th scope=col>a</th><th scope=col>b</th></tr></thead>\n",
       "<tbody>\n",
       "\t<tr><td>1 </td><td>2 </td><td>10</td><td>a </td></tr>\n",
       "</tbody>\n",
       "</table>\n"
      ],
      "text/latex": [
       "\\begin{tabular}{r|llll}\n",
       " x & y & a & b\\\\\n",
       "\\hline\n",
       "\t 1  & 2  & 10 & a \\\\\n",
       "\\end{tabular}\n"
      ],
      "text/markdown": [
       "\n",
       "x | y | a | b | \n",
       "|---|\n",
       "| 1  | 2  | 10 | a  | \n",
       "\n",
       "\n"
      ],
      "text/plain": [
       "  x y a  b\n",
       "1 1 2 10 a"
      ]
     },
     "metadata": {},
     "output_type": "display_data"
    }
   ],
   "source": [
    "df1 %>% inner_join(df2) "
   ]
  },
  {
   "cell_type": "markdown",
   "metadata": {},
   "source": [
    "left_join(x, y) includes all observations in x, regardless of whether they match or not. This\n",
    "is the most commonly used join because it ensures that you don’t lose observations from\n",
    "your primary table."
   ]
  },
  {
   "cell_type": "code",
   "execution_count": 13,
   "metadata": {
    "collapsed": false
   },
   "outputs": [
    {
     "data": {
      "text/html": [
       "<table>\n",
       "<thead><tr><th scope=col>x</th><th scope=col>y</th></tr></thead>\n",
       "<tbody>\n",
       "\t<tr><td>1</td><td>2</td></tr>\n",
       "\t<tr><td>2</td><td>1</td></tr>\n",
       "</tbody>\n",
       "</table>\n"
      ],
      "text/latex": [
       "\\begin{tabular}{r|ll}\n",
       " x & y\\\\\n",
       "\\hline\n",
       "\t 1 & 2\\\\\n",
       "\t 2 & 1\\\\\n",
       "\\end{tabular}\n"
      ],
      "text/markdown": [
       "\n",
       "x | y | \n",
       "|---|---|\n",
       "| 1 | 2 | \n",
       "| 2 | 1 | \n",
       "\n",
       "\n"
      ],
      "text/plain": [
       "  x y\n",
       "1 1 2\n",
       "2 2 1"
      ]
     },
     "metadata": {},
     "output_type": "display_data"
    },
    {
     "data": {
      "text/html": [
       "<table>\n",
       "<thead><tr><th scope=col>x</th><th scope=col>a</th><th scope=col>b</th></tr></thead>\n",
       "<tbody>\n",
       "\t<tr><td>1 </td><td>10</td><td>a </td></tr>\n",
       "\t<tr><td>3 </td><td>10</td><td>a </td></tr>\n",
       "</tbody>\n",
       "</table>\n"
      ],
      "text/latex": [
       "\\begin{tabular}{r|lll}\n",
       " x & a & b\\\\\n",
       "\\hline\n",
       "\t 1  & 10 & a \\\\\n",
       "\t 3  & 10 & a \\\\\n",
       "\\end{tabular}\n"
      ],
      "text/markdown": [
       "\n",
       "x | a | b | \n",
       "|---|---|\n",
       "| 1  | 10 | a  | \n",
       "| 3  | 10 | a  | \n",
       "\n",
       "\n"
      ],
      "text/plain": [
       "  x a  b\n",
       "1 1 10 a\n",
       "2 3 10 a"
      ]
     },
     "metadata": {},
     "output_type": "display_data"
    },
    {
     "name": "stderr",
     "output_type": "stream",
     "text": [
      "Joining, by = \"x\"\n"
     ]
    },
    {
     "data": {
      "text/html": [
       "<table>\n",
       "<thead><tr><th scope=col>x</th><th scope=col>y</th><th scope=col>a</th><th scope=col>b</th></tr></thead>\n",
       "<tbody>\n",
       "\t<tr><td>1 </td><td>2 </td><td>10</td><td>a </td></tr>\n",
       "\t<tr><td>2 </td><td>1 </td><td>NA</td><td>NA</td></tr>\n",
       "</tbody>\n",
       "</table>\n"
      ],
      "text/latex": [
       "\\begin{tabular}{r|llll}\n",
       " x & y & a & b\\\\\n",
       "\\hline\n",
       "\t 1  & 2  & 10 & a \\\\\n",
       "\t 2  & 1  & NA & NA\\\\\n",
       "\\end{tabular}\n"
      ],
      "text/markdown": [
       "\n",
       "x | y | a | b | \n",
       "|---|---|\n",
       "| 1  | 2  | 10 | a  | \n",
       "| 2  | 1  | NA | NA | \n",
       "\n",
       "\n"
      ],
      "text/plain": [
       "  x y a  b \n",
       "1 1 2 10 a \n",
       "2 2 1 NA NA"
      ]
     },
     "metadata": {},
     "output_type": "display_data"
    }
   ],
   "source": [
    "df1\n",
    "df2\n",
    "df1 %>% left_join(df2)"
   ]
  },
  {
   "cell_type": "markdown",
   "metadata": {},
   "source": [
    "right_join(x, y) includes all observations in y. It’s equivalent to left_join(y, x), but the\n",
    "columns will be ordered differently."
   ]
  },
  {
   "cell_type": "code",
   "execution_count": 14,
   "metadata": {
    "collapsed": false
   },
   "outputs": [
    {
     "data": {
      "text/html": [
       "<table>\n",
       "<thead><tr><th scope=col>x</th><th scope=col>y</th></tr></thead>\n",
       "<tbody>\n",
       "\t<tr><td>1</td><td>2</td></tr>\n",
       "\t<tr><td>2</td><td>1</td></tr>\n",
       "</tbody>\n",
       "</table>\n"
      ],
      "text/latex": [
       "\\begin{tabular}{r|ll}\n",
       " x & y\\\\\n",
       "\\hline\n",
       "\t 1 & 2\\\\\n",
       "\t 2 & 1\\\\\n",
       "\\end{tabular}\n"
      ],
      "text/markdown": [
       "\n",
       "x | y | \n",
       "|---|---|\n",
       "| 1 | 2 | \n",
       "| 2 | 1 | \n",
       "\n",
       "\n"
      ],
      "text/plain": [
       "  x y\n",
       "1 1 2\n",
       "2 2 1"
      ]
     },
     "metadata": {},
     "output_type": "display_data"
    },
    {
     "data": {
      "text/html": [
       "<table>\n",
       "<thead><tr><th scope=col>x</th><th scope=col>a</th><th scope=col>b</th></tr></thead>\n",
       "<tbody>\n",
       "\t<tr><td>1 </td><td>10</td><td>a </td></tr>\n",
       "\t<tr><td>3 </td><td>10</td><td>a </td></tr>\n",
       "</tbody>\n",
       "</table>\n"
      ],
      "text/latex": [
       "\\begin{tabular}{r|lll}\n",
       " x & a & b\\\\\n",
       "\\hline\n",
       "\t 1  & 10 & a \\\\\n",
       "\t 3  & 10 & a \\\\\n",
       "\\end{tabular}\n"
      ],
      "text/markdown": [
       "\n",
       "x | a | b | \n",
       "|---|---|\n",
       "| 1  | 10 | a  | \n",
       "| 3  | 10 | a  | \n",
       "\n",
       "\n"
      ],
      "text/plain": [
       "  x a  b\n",
       "1 1 10 a\n",
       "2 3 10 a"
      ]
     },
     "metadata": {},
     "output_type": "display_data"
    },
    {
     "name": "stderr",
     "output_type": "stream",
     "text": [
      "Joining, by = \"x\"\n"
     ]
    },
    {
     "data": {
      "text/html": [
       "<table>\n",
       "<thead><tr><th scope=col>x</th><th scope=col>y</th><th scope=col>a</th><th scope=col>b</th></tr></thead>\n",
       "<tbody>\n",
       "\t<tr><td>1 </td><td> 2</td><td>10</td><td>a </td></tr>\n",
       "\t<tr><td>3 </td><td>NA</td><td>10</td><td>a </td></tr>\n",
       "</tbody>\n",
       "</table>\n"
      ],
      "text/latex": [
       "\\begin{tabular}{r|llll}\n",
       " x & y & a & b\\\\\n",
       "\\hline\n",
       "\t 1  &  2 & 10 & a \\\\\n",
       "\t 3  & NA & 10 & a \\\\\n",
       "\\end{tabular}\n"
      ],
      "text/markdown": [
       "\n",
       "x | y | a | b | \n",
       "|---|---|\n",
       "| 1  |  2 | 10 | a  | \n",
       "| 3  | NA | 10 | a  | \n",
       "\n",
       "\n"
      ],
      "text/plain": [
       "  x y  a  b\n",
       "1 1  2 10 a\n",
       "2 3 NA 10 a"
      ]
     },
     "metadata": {},
     "output_type": "display_data"
    }
   ],
   "source": [
    "df1\n",
    "df2\n",
    "df1 %>% right_join(df2)\n",
    "#has all the columns of df2 and matching rows and column of df1\n",
    "#right_join(x, y) includes all observations in y. It’s equivalent to left_join(y, x), but the columns will be ordered differently."
   ]
  },
  {
   "cell_type": "code",
   "execution_count": 15,
   "metadata": {
    "collapsed": false
   },
   "outputs": [
    {
     "data": {
      "text/html": [
       "<table>\n",
       "<thead><tr><th scope=col>x</th><th scope=col>y</th></tr></thead>\n",
       "<tbody>\n",
       "\t<tr><td>1</td><td>2</td></tr>\n",
       "\t<tr><td>2</td><td>1</td></tr>\n",
       "</tbody>\n",
       "</table>\n"
      ],
      "text/latex": [
       "\\begin{tabular}{r|ll}\n",
       " x & y\\\\\n",
       "\\hline\n",
       "\t 1 & 2\\\\\n",
       "\t 2 & 1\\\\\n",
       "\\end{tabular}\n"
      ],
      "text/markdown": [
       "\n",
       "x | y | \n",
       "|---|---|\n",
       "| 1 | 2 | \n",
       "| 2 | 1 | \n",
       "\n",
       "\n"
      ],
      "text/plain": [
       "  x y\n",
       "1 1 2\n",
       "2 2 1"
      ]
     },
     "metadata": {},
     "output_type": "display_data"
    },
    {
     "data": {
      "text/html": [
       "<table>\n",
       "<thead><tr><th scope=col>x</th><th scope=col>a</th><th scope=col>b</th></tr></thead>\n",
       "<tbody>\n",
       "\t<tr><td>1 </td><td>10</td><td>a </td></tr>\n",
       "\t<tr><td>3 </td><td>10</td><td>a </td></tr>\n",
       "</tbody>\n",
       "</table>\n"
      ],
      "text/latex": [
       "\\begin{tabular}{r|lll}\n",
       " x & a & b\\\\\n",
       "\\hline\n",
       "\t 1  & 10 & a \\\\\n",
       "\t 3  & 10 & a \\\\\n",
       "\\end{tabular}\n"
      ],
      "text/markdown": [
       "\n",
       "x | a | b | \n",
       "|---|---|\n",
       "| 1  | 10 | a  | \n",
       "| 3  | 10 | a  | \n",
       "\n",
       "\n"
      ],
      "text/plain": [
       "  x a  b\n",
       "1 1 10 a\n",
       "2 3 10 a"
      ]
     },
     "metadata": {},
     "output_type": "display_data"
    },
    {
     "name": "stderr",
     "output_type": "stream",
     "text": [
      "Joining, by = \"x\"\n"
     ]
    },
    {
     "data": {
      "text/html": [
       "<table>\n",
       "<thead><tr><th scope=col>x</th><th scope=col>y</th><th scope=col>a</th><th scope=col>b</th></tr></thead>\n",
       "<tbody>\n",
       "\t<tr><td>1 </td><td> 2</td><td>10</td><td>a </td></tr>\n",
       "\t<tr><td>2 </td><td> 1</td><td>NA</td><td>NA</td></tr>\n",
       "\t<tr><td>3 </td><td>NA</td><td>10</td><td>a </td></tr>\n",
       "</tbody>\n",
       "</table>\n"
      ],
      "text/latex": [
       "\\begin{tabular}{r|llll}\n",
       " x & y & a & b\\\\\n",
       "\\hline\n",
       "\t 1  &  2 & 10 & a \\\\\n",
       "\t 2  &  1 & NA & NA\\\\\n",
       "\t 3  & NA & 10 & a \\\\\n",
       "\\end{tabular}\n"
      ],
      "text/markdown": [
       "\n",
       "x | y | a | b | \n",
       "|---|---|---|\n",
       "| 1  |  2 | 10 | a  | \n",
       "| 2  |  1 | NA | NA | \n",
       "| 3  | NA | 10 | a  | \n",
       "\n",
       "\n"
      ],
      "text/plain": [
       "  x y  a  b \n",
       "1 1  2 10 a \n",
       "2 2  1 NA NA\n",
       "3 3 NA 10 a "
      ]
     },
     "metadata": {},
     "output_type": "display_data"
    }
   ],
   "source": [
    "df1\n",
    "df2\n",
    "df1 %>% full_join(df2)\n",
    "# full_join() includes all observations from x and y.\n"
   ]
  },
  {
   "cell_type": "markdown",
   "metadata": {
    "collapsed": true
   },
   "source": [
    "Outer join : The left, right and full joins are collectively know as outer joins. When a row doesn’t match in an outer join, the new variables are filled in with missing values."
   ]
  },
  {
   "cell_type": "markdown",
   "metadata": {},
   "source": [
    "While mutating joins are primarily used to add new variables, they can also generate new observations. If a match is not unique, a join will add all possible combinations (the Cartesian product) of the matching observations:"
   ]
  },
  {
   "cell_type": "code",
   "execution_count": 16,
   "metadata": {
    "collapsed": false
   },
   "outputs": [],
   "source": [
    "df1 <- data_frame(x = c(1, 1, 2), y = 1:3)\n",
    "df2 <- data_frame(x = c(1, 1, 2), z = c(\"a\", \"b\", \"a\"))"
   ]
  },
  {
   "cell_type": "code",
   "execution_count": 17,
   "metadata": {
    "collapsed": false
   },
   "outputs": [
    {
     "data": {
      "text/html": [
       "<table>\n",
       "<thead><tr><th scope=col>x</th><th scope=col>y</th></tr></thead>\n",
       "<tbody>\n",
       "\t<tr><td>1</td><td>1</td></tr>\n",
       "\t<tr><td>1</td><td>2</td></tr>\n",
       "\t<tr><td>2</td><td>3</td></tr>\n",
       "</tbody>\n",
       "</table>\n"
      ],
      "text/latex": [
       "\\begin{tabular}{r|ll}\n",
       " x & y\\\\\n",
       "\\hline\n",
       "\t 1 & 1\\\\\n",
       "\t 1 & 2\\\\\n",
       "\t 2 & 3\\\\\n",
       "\\end{tabular}\n"
      ],
      "text/markdown": [
       "\n",
       "x | y | \n",
       "|---|---|---|\n",
       "| 1 | 1 | \n",
       "| 1 | 2 | \n",
       "| 2 | 3 | \n",
       "\n",
       "\n"
      ],
      "text/plain": [
       "  x y\n",
       "1 1 1\n",
       "2 1 2\n",
       "3 2 3"
      ]
     },
     "metadata": {},
     "output_type": "display_data"
    },
    {
     "data": {
      "text/html": [
       "<table>\n",
       "<thead><tr><th scope=col>x</th><th scope=col>z</th></tr></thead>\n",
       "<tbody>\n",
       "\t<tr><td>1</td><td>a</td></tr>\n",
       "\t<tr><td>1</td><td>b</td></tr>\n",
       "\t<tr><td>2</td><td>a</td></tr>\n",
       "</tbody>\n",
       "</table>\n"
      ],
      "text/latex": [
       "\\begin{tabular}{r|ll}\n",
       " x & z\\\\\n",
       "\\hline\n",
       "\t 1 & a\\\\\n",
       "\t 1 & b\\\\\n",
       "\t 2 & a\\\\\n",
       "\\end{tabular}\n"
      ],
      "text/markdown": [
       "\n",
       "x | z | \n",
       "|---|---|---|\n",
       "| 1 | a | \n",
       "| 1 | b | \n",
       "| 2 | a | \n",
       "\n",
       "\n"
      ],
      "text/plain": [
       "  x z\n",
       "1 1 a\n",
       "2 1 b\n",
       "3 2 a"
      ]
     },
     "metadata": {},
     "output_type": "display_data"
    }
   ],
   "source": [
    "df1\n",
    "df2"
   ]
  },
  {
   "cell_type": "code",
   "execution_count": 18,
   "metadata": {
    "collapsed": false
   },
   "outputs": [
    {
     "name": "stderr",
     "output_type": "stream",
     "text": [
      "Joining, by = \"x\"\n"
     ]
    },
    {
     "data": {
      "text/html": [
       "<table>\n",
       "<thead><tr><th scope=col>x</th><th scope=col>y</th><th scope=col>z</th></tr></thead>\n",
       "<tbody>\n",
       "\t<tr><td>1</td><td>1</td><td>a</td></tr>\n",
       "\t<tr><td>1</td><td>1</td><td>b</td></tr>\n",
       "\t<tr><td>1</td><td>2</td><td>a</td></tr>\n",
       "\t<tr><td>1</td><td>2</td><td>b</td></tr>\n",
       "\t<tr><td>2</td><td>3</td><td>a</td></tr>\n",
       "</tbody>\n",
       "</table>\n"
      ],
      "text/latex": [
       "\\begin{tabular}{r|lll}\n",
       " x & y & z\\\\\n",
       "\\hline\n",
       "\t 1 & 1 & a\\\\\n",
       "\t 1 & 1 & b\\\\\n",
       "\t 1 & 2 & a\\\\\n",
       "\t 1 & 2 & b\\\\\n",
       "\t 2 & 3 & a\\\\\n",
       "\\end{tabular}\n"
      ],
      "text/markdown": [
       "\n",
       "x | y | z | \n",
       "|---|---|---|---|---|\n",
       "| 1 | 1 | a | \n",
       "| 1 | 1 | b | \n",
       "| 1 | 2 | a | \n",
       "| 1 | 2 | b | \n",
       "| 2 | 3 | a | \n",
       "\n",
       "\n"
      ],
      "text/plain": [
       "  x y z\n",
       "1 1 1 a\n",
       "2 1 1 b\n",
       "3 1 2 a\n",
       "4 1 2 b\n",
       "5 2 3 a"
      ]
     },
     "metadata": {},
     "output_type": "display_data"
    }
   ],
   "source": [
    "left_join(df1,df2)"
   ]
  },
  {
   "cell_type": "markdown",
   "metadata": {},
   "source": [
    "◦ semi_join(x, y) keeps all observations in x that have a match in y.<br\\> ◦ anti_join(x, y) drops all observations in x that have a match in y. and only keeps the observations of x, since the non matching observations wont have a value in y<br\\>\n",
    "\n"
   ]
  },
  {
   "cell_type": "code",
   "execution_count": 19,
   "metadata": {
    "collapsed": false
   },
   "outputs": [
    {
     "data": {
      "text/html": [
       "<table>\n",
       "<thead><tr><th scope=col>x</th><th scope=col>y</th></tr></thead>\n",
       "<tbody>\n",
       "\t<tr><td>1</td><td>2</td></tr>\n",
       "\t<tr><td>2</td><td>1</td></tr>\n",
       "</tbody>\n",
       "</table>\n"
      ],
      "text/latex": [
       "\\begin{tabular}{r|ll}\n",
       " x & y\\\\\n",
       "\\hline\n",
       "\t 1 & 2\\\\\n",
       "\t 2 & 1\\\\\n",
       "\\end{tabular}\n"
      ],
      "text/markdown": [
       "\n",
       "x | y | \n",
       "|---|---|\n",
       "| 1 | 2 | \n",
       "| 2 | 1 | \n",
       "\n",
       "\n"
      ],
      "text/plain": [
       "  x y\n",
       "1 1 2\n",
       "2 2 1"
      ]
     },
     "metadata": {},
     "output_type": "display_data"
    },
    {
     "data": {
      "text/html": [
       "<table>\n",
       "<thead><tr><th scope=col>x</th><th scope=col>a</th><th scope=col>b</th></tr></thead>\n",
       "<tbody>\n",
       "\t<tr><td>1 </td><td>10</td><td>a </td></tr>\n",
       "\t<tr><td>3 </td><td>10</td><td>a </td></tr>\n",
       "</tbody>\n",
       "</table>\n"
      ],
      "text/latex": [
       "\\begin{tabular}{r|lll}\n",
       " x & a & b\\\\\n",
       "\\hline\n",
       "\t 1  & 10 & a \\\\\n",
       "\t 3  & 10 & a \\\\\n",
       "\\end{tabular}\n"
      ],
      "text/markdown": [
       "\n",
       "x | a | b | \n",
       "|---|---|\n",
       "| 1  | 10 | a  | \n",
       "| 3  | 10 | a  | \n",
       "\n",
       "\n"
      ],
      "text/plain": [
       "  x a  b\n",
       "1 1 10 a\n",
       "2 3 10 a"
      ]
     },
     "metadata": {},
     "output_type": "display_data"
    },
    {
     "name": "stderr",
     "output_type": "stream",
     "text": [
      "Joining, by = \"x\"\n"
     ]
    },
    {
     "data": {
      "text/html": [
       "<table>\n",
       "<thead><tr><th scope=col>x</th><th scope=col>y</th></tr></thead>\n",
       "<tbody>\n",
       "\t<tr><td>2</td><td>1</td></tr>\n",
       "</tbody>\n",
       "</table>\n"
      ],
      "text/latex": [
       "\\begin{tabular}{r|ll}\n",
       " x & y\\\\\n",
       "\\hline\n",
       "\t 2 & 1\\\\\n",
       "\\end{tabular}\n"
      ],
      "text/markdown": [
       "\n",
       "x | y | \n",
       "|---|\n",
       "| 2 | 1 | \n",
       "\n",
       "\n"
      ],
      "text/plain": [
       "  x y\n",
       "1 2 1"
      ]
     },
     "metadata": {},
     "output_type": "display_data"
    },
    {
     "name": "stderr",
     "output_type": "stream",
     "text": [
      "Joining, by = \"x\"\n"
     ]
    },
    {
     "data": {
      "text/html": [
       "<table>\n",
       "<thead><tr><th scope=col>x</th><th scope=col>y</th></tr></thead>\n",
       "<tbody>\n",
       "\t<tr><td>1</td><td>2</td></tr>\n",
       "</tbody>\n",
       "</table>\n"
      ],
      "text/latex": [
       "\\begin{tabular}{r|ll}\n",
       " x & y\\\\\n",
       "\\hline\n",
       "\t 1 & 2\\\\\n",
       "\\end{tabular}\n"
      ],
      "text/markdown": [
       "\n",
       "x | y | \n",
       "|---|\n",
       "| 1 | 2 | \n",
       "\n",
       "\n"
      ],
      "text/plain": [
       "  x y\n",
       "1 1 2"
      ]
     },
     "metadata": {},
     "output_type": "display_data"
    }
   ],
   "source": [
    "df1 <- data_frame(x = c(1, 2), y = 2:1)\n",
    "df2 <- data_frame(x = c(1, 3), a = 10, b = \"a\")\n",
    "df1\n",
    "df2\n",
    "anti_join(df1,df2)#drops all rows in df1 that are not in df2\n",
    "semi_join(df1,df2)#keeps all the rows from x that matches rows in y\n"
   ]
  },
  {
   "cell_type": "code",
   "execution_count": 20,
   "metadata": {
    "collapsed": false,
    "scrolled": true
   },
   "outputs": [
    {
     "data": {
      "text/html": [
       "<table>\n",
       "<thead><tr><th scope=col>year</th><th scope=col>month</th><th scope=col>day</th><th scope=col>dep_time</th><th scope=col>sched_dep_time</th><th scope=col>dep_delay</th><th scope=col>arr_time</th><th scope=col>sched_arr_time</th><th scope=col>arr_delay</th><th scope=col>carrier</th><th scope=col>flight</th><th scope=col>tailnum</th><th scope=col>origin</th><th scope=col>dest</th><th scope=col>air_time</th><th scope=col>distance</th><th scope=col>hour</th><th scope=col>minute</th><th scope=col>time_hour</th></tr></thead>\n",
       "<tbody>\n",
       "\t<tr><td>2013               </td><td>1                  </td><td>1                  </td><td>517                </td><td>515                </td><td> 2                 </td><td> 830               </td><td> 819               </td><td> 11                </td><td>UA                 </td><td>1545               </td><td>N14228             </td><td>EWR                </td><td>IAH                </td><td>227                </td><td>1400               </td><td>5                  </td><td>15                 </td><td>2013-01-01 05:00:00</td></tr>\n",
       "\t<tr><td>2013               </td><td>1                  </td><td>1                  </td><td>533                </td><td>529                </td><td> 4                 </td><td> 850               </td><td> 830               </td><td> 20                </td><td>UA                 </td><td>1714               </td><td>N24211             </td><td>LGA                </td><td>IAH                </td><td>227                </td><td>1416               </td><td>5                  </td><td>29                 </td><td>2013-01-01 05:00:00</td></tr>\n",
       "\t<tr><td>2013               </td><td>1                  </td><td>1                  </td><td>542                </td><td>540                </td><td> 2                 </td><td> 923               </td><td> 850               </td><td> 33                </td><td>AA                 </td><td>1141               </td><td>N619AA             </td><td>JFK                </td><td>MIA                </td><td>160                </td><td>1089               </td><td>5                  </td><td>40                 </td><td>2013-01-01 05:00:00</td></tr>\n",
       "\t<tr><td>2013               </td><td>1                  </td><td>1                  </td><td>544                </td><td>545                </td><td>-1                 </td><td>1004               </td><td>1022               </td><td>-18                </td><td>B6                 </td><td> 725               </td><td>N804JB             </td><td>JFK                </td><td>BQN                </td><td>183                </td><td>1576               </td><td>5                  </td><td>45                 </td><td>2013-01-01 05:00:00</td></tr>\n",
       "\t<tr><td>2013               </td><td>1                  </td><td>1                  </td><td>554                </td><td>600                </td><td>-6                 </td><td> 812               </td><td> 837               </td><td>-25                </td><td>DL                 </td><td> 461               </td><td>N668DN             </td><td>LGA                </td><td>ATL                </td><td>116                </td><td> 762               </td><td>6                  </td><td> 0                 </td><td>2013-01-01 06:00:00</td></tr>\n",
       "\t<tr><td>2013               </td><td>1                  </td><td>1                  </td><td>554                </td><td>558                </td><td>-4                 </td><td> 740               </td><td> 728               </td><td> 12                </td><td>UA                 </td><td>1696               </td><td>N39463             </td><td>EWR                </td><td>ORD                </td><td>150                </td><td> 719               </td><td>5                  </td><td>58                 </td><td>2013-01-01 05:00:00</td></tr>\n",
       "</tbody>\n",
       "</table>\n"
      ],
      "text/latex": [
       "\\begin{tabular}{r|lllllllllllllllllll}\n",
       " year & month & day & dep\\_time & sched\\_dep\\_time & dep\\_delay & arr\\_time & sched\\_arr\\_time & arr\\_delay & carrier & flight & tailnum & origin & dest & air\\_time & distance & hour & minute & time\\_hour\\\\\n",
       "\\hline\n",
       "\t 2013                & 1                   & 1                   & 517                 & 515                 &  2                  &  830                &  819                &  11                 & UA                  & 1545                & N14228              & EWR                 & IAH                 & 227                 & 1400                & 5                   & 15                  & 2013-01-01 05:00:00\\\\\n",
       "\t 2013                & 1                   & 1                   & 533                 & 529                 &  4                  &  850                &  830                &  20                 & UA                  & 1714                & N24211              & LGA                 & IAH                 & 227                 & 1416                & 5                   & 29                  & 2013-01-01 05:00:00\\\\\n",
       "\t 2013                & 1                   & 1                   & 542                 & 540                 &  2                  &  923                &  850                &  33                 & AA                  & 1141                & N619AA              & JFK                 & MIA                 & 160                 & 1089                & 5                   & 40                  & 2013-01-01 05:00:00\\\\\n",
       "\t 2013                & 1                   & 1                   & 544                 & 545                 & -1                  & 1004                & 1022                & -18                 & B6                  &  725                & N804JB              & JFK                 & BQN                 & 183                 & 1576                & 5                   & 45                  & 2013-01-01 05:00:00\\\\\n",
       "\t 2013                & 1                   & 1                   & 554                 & 600                 & -6                  &  812                &  837                & -25                 & DL                  &  461                & N668DN              & LGA                 & ATL                 & 116                 &  762                & 6                   &  0                  & 2013-01-01 06:00:00\\\\\n",
       "\t 2013                & 1                   & 1                   & 554                 & 558                 & -4                  &  740                &  728                &  12                 & UA                  & 1696                & N39463              & EWR                 & ORD                 & 150                 &  719                & 5                   & 58                  & 2013-01-01 05:00:00\\\\\n",
       "\\end{tabular}\n"
      ],
      "text/markdown": [
       "\n",
       "year | month | day | dep_time | sched_dep_time | dep_delay | arr_time | sched_arr_time | arr_delay | carrier | flight | tailnum | origin | dest | air_time | distance | hour | minute | time_hour | \n",
       "|---|---|---|---|---|---|\n",
       "| 2013                | 1                   | 1                   | 517                 | 515                 |  2                  |  830                |  819                |  11                 | UA                  | 1545                | N14228              | EWR                 | IAH                 | 227                 | 1400                | 5                   | 15                  | 2013-01-01 05:00:00 | \n",
       "| 2013                | 1                   | 1                   | 533                 | 529                 |  4                  |  850                |  830                |  20                 | UA                  | 1714                | N24211              | LGA                 | IAH                 | 227                 | 1416                | 5                   | 29                  | 2013-01-01 05:00:00 | \n",
       "| 2013                | 1                   | 1                   | 542                 | 540                 |  2                  |  923                |  850                |  33                 | AA                  | 1141                | N619AA              | JFK                 | MIA                 | 160                 | 1089                | 5                   | 40                  | 2013-01-01 05:00:00 | \n",
       "| 2013                | 1                   | 1                   | 544                 | 545                 | -1                  | 1004                | 1022                | -18                 | B6                  |  725                | N804JB              | JFK                 | BQN                 | 183                 | 1576                | 5                   | 45                  | 2013-01-01 05:00:00 | \n",
       "| 2013                | 1                   | 1                   | 554                 | 600                 | -6                  |  812                |  837                | -25                 | DL                  |  461                | N668DN              | LGA                 | ATL                 | 116                 |  762                | 6                   |  0                  | 2013-01-01 06:00:00 | \n",
       "| 2013                | 1                   | 1                   | 554                 | 558                 | -4                  |  740                |  728                |  12                 | UA                  | 1696                | N39463              | EWR                 | ORD                 | 150                 |  719                | 5                   | 58                  | 2013-01-01 05:00:00 | \n",
       "\n",
       "\n"
      ],
      "text/plain": [
       "  year month day dep_time sched_dep_time dep_delay arr_time sched_arr_time\n",
       "1 2013 1     1   517      515             2         830      819          \n",
       "2 2013 1     1   533      529             4         850      830          \n",
       "3 2013 1     1   542      540             2         923      850          \n",
       "4 2013 1     1   544      545            -1        1004     1022          \n",
       "5 2013 1     1   554      600            -6         812      837          \n",
       "6 2013 1     1   554      558            -4         740      728          \n",
       "  arr_delay carrier flight tailnum origin dest air_time distance hour minute\n",
       "1  11       UA      1545   N14228  EWR    IAH  227      1400     5    15    \n",
       "2  20       UA      1714   N24211  LGA    IAH  227      1416     5    29    \n",
       "3  33       AA      1141   N619AA  JFK    MIA  160      1089     5    40    \n",
       "4 -18       B6       725   N804JB  JFK    BQN  183      1576     5    45    \n",
       "5 -25       DL       461   N668DN  LGA    ATL  116       762     6     0    \n",
       "6  12       UA      1696   N39463  EWR    ORD  150       719     5    58    \n",
       "  time_hour          \n",
       "1 2013-01-01 05:00:00\n",
       "2 2013-01-01 05:00:00\n",
       "3 2013-01-01 05:00:00\n",
       "4 2013-01-01 05:00:00\n",
       "5 2013-01-01 06:00:00\n",
       "6 2013-01-01 05:00:00"
      ]
     },
     "metadata": {},
     "output_type": "display_data"
    },
    {
     "data": {
      "text/html": [
       "<table>\n",
       "<thead><tr><th scope=col>tailnum</th><th scope=col>year</th><th scope=col>type</th><th scope=col>manufacturer</th><th scope=col>model</th><th scope=col>engines</th><th scope=col>seats</th><th scope=col>speed</th><th scope=col>engine</th></tr></thead>\n",
       "<tbody>\n",
       "\t<tr><td>N10156                 </td><td>2004                   </td><td>Fixed wing multi engine</td><td>EMBRAER                </td><td>EMB-145XR              </td><td>2                      </td><td> 55                    </td><td>NA                     </td><td>Turbo-fan              </td></tr>\n",
       "\t<tr><td>N102UW                 </td><td>1998                   </td><td>Fixed wing multi engine</td><td>AIRBUS INDUSTRIE       </td><td>A320-214               </td><td>2                      </td><td>182                    </td><td>NA                     </td><td>Turbo-fan              </td></tr>\n",
       "\t<tr><td>N103US                 </td><td>1999                   </td><td>Fixed wing multi engine</td><td>AIRBUS INDUSTRIE       </td><td>A320-214               </td><td>2                      </td><td>182                    </td><td>NA                     </td><td>Turbo-fan              </td></tr>\n",
       "\t<tr><td>N104UW                 </td><td>1999                   </td><td>Fixed wing multi engine</td><td>AIRBUS INDUSTRIE       </td><td>A320-214               </td><td>2                      </td><td>182                    </td><td>NA                     </td><td>Turbo-fan              </td></tr>\n",
       "\t<tr><td>N10575                 </td><td>2002                   </td><td>Fixed wing multi engine</td><td>EMBRAER                </td><td>EMB-145LR              </td><td>2                      </td><td> 55                    </td><td>NA                     </td><td>Turbo-fan              </td></tr>\n",
       "\t<tr><td>N105UW                 </td><td>1999                   </td><td>Fixed wing multi engine</td><td>AIRBUS INDUSTRIE       </td><td>A320-214               </td><td>2                      </td><td>182                    </td><td>NA                     </td><td>Turbo-fan              </td></tr>\n",
       "</tbody>\n",
       "</table>\n"
      ],
      "text/latex": [
       "\\begin{tabular}{r|lllllllll}\n",
       " tailnum & year & type & manufacturer & model & engines & seats & speed & engine\\\\\n",
       "\\hline\n",
       "\t N10156                  & 2004                    & Fixed wing multi engine & EMBRAER                 & EMB-145XR               & 2                       &  55                     & NA                      & Turbo-fan              \\\\\n",
       "\t N102UW                  & 1998                    & Fixed wing multi engine & AIRBUS INDUSTRIE        & A320-214                & 2                       & 182                     & NA                      & Turbo-fan              \\\\\n",
       "\t N103US                  & 1999                    & Fixed wing multi engine & AIRBUS INDUSTRIE        & A320-214                & 2                       & 182                     & NA                      & Turbo-fan              \\\\\n",
       "\t N104UW                  & 1999                    & Fixed wing multi engine & AIRBUS INDUSTRIE        & A320-214                & 2                       & 182                     & NA                      & Turbo-fan              \\\\\n",
       "\t N10575                  & 2002                    & Fixed wing multi engine & EMBRAER                 & EMB-145LR               & 2                       &  55                     & NA                      & Turbo-fan              \\\\\n",
       "\t N105UW                  & 1999                    & Fixed wing multi engine & AIRBUS INDUSTRIE        & A320-214                & 2                       & 182                     & NA                      & Turbo-fan              \\\\\n",
       "\\end{tabular}\n"
      ],
      "text/markdown": [
       "\n",
       "tailnum | year | type | manufacturer | model | engines | seats | speed | engine | \n",
       "|---|---|---|---|---|---|\n",
       "| N10156                  | 2004                    | Fixed wing multi engine | EMBRAER                 | EMB-145XR               | 2                       |  55                     | NA                      | Turbo-fan               | \n",
       "| N102UW                  | 1998                    | Fixed wing multi engine | AIRBUS INDUSTRIE        | A320-214                | 2                       | 182                     | NA                      | Turbo-fan               | \n",
       "| N103US                  | 1999                    | Fixed wing multi engine | AIRBUS INDUSTRIE        | A320-214                | 2                       | 182                     | NA                      | Turbo-fan               | \n",
       "| N104UW                  | 1999                    | Fixed wing multi engine | AIRBUS INDUSTRIE        | A320-214                | 2                       | 182                     | NA                      | Turbo-fan               | \n",
       "| N10575                  | 2002                    | Fixed wing multi engine | EMBRAER                 | EMB-145LR               | 2                       |  55                     | NA                      | Turbo-fan               | \n",
       "| N105UW                  | 1999                    | Fixed wing multi engine | AIRBUS INDUSTRIE        | A320-214                | 2                       | 182                     | NA                      | Turbo-fan               | \n",
       "\n",
       "\n"
      ],
      "text/plain": [
       "  tailnum year type                    manufacturer     model     engines seats\n",
       "1 N10156  2004 Fixed wing multi engine EMBRAER          EMB-145XR 2        55  \n",
       "2 N102UW  1998 Fixed wing multi engine AIRBUS INDUSTRIE A320-214  2       182  \n",
       "3 N103US  1999 Fixed wing multi engine AIRBUS INDUSTRIE A320-214  2       182  \n",
       "4 N104UW  1999 Fixed wing multi engine AIRBUS INDUSTRIE A320-214  2       182  \n",
       "5 N10575  2002 Fixed wing multi engine EMBRAER          EMB-145LR 2        55  \n",
       "6 N105UW  1999 Fixed wing multi engine AIRBUS INDUSTRIE A320-214  2       182  \n",
       "  speed engine   \n",
       "1 NA    Turbo-fan\n",
       "2 NA    Turbo-fan\n",
       "3 NA    Turbo-fan\n",
       "4 NA    Turbo-fan\n",
       "5 NA    Turbo-fan\n",
       "6 NA    Turbo-fan"
      ]
     },
     "metadata": {},
     "output_type": "display_data"
    },
    {
     "data": {
      "text/html": [
       "<table>\n",
       "<thead><tr><th scope=col>tailnum</th><th scope=col>n</th></tr></thead>\n",
       "<tbody>\n",
       "\t<tr><td>NA    </td><td>2512  </td></tr>\n",
       "\t<tr><td>N725MQ</td><td> 575  </td></tr>\n",
       "\t<tr><td>N722MQ</td><td> 513  </td></tr>\n",
       "\t<tr><td>N723MQ</td><td> 507  </td></tr>\n",
       "\t<tr><td>N713MQ</td><td> 483  </td></tr>\n",
       "\t<tr><td>N735MQ</td><td> 396  </td></tr>\n",
       "</tbody>\n",
       "</table>\n"
      ],
      "text/latex": [
       "\\begin{tabular}{r|ll}\n",
       " tailnum & n\\\\\n",
       "\\hline\n",
       "\t NA     & 2512  \\\\\n",
       "\t N725MQ &  575  \\\\\n",
       "\t N722MQ &  513  \\\\\n",
       "\t N723MQ &  507  \\\\\n",
       "\t N713MQ &  483  \\\\\n",
       "\t N735MQ &  396  \\\\\n",
       "\\end{tabular}\n"
      ],
      "text/markdown": [
       "\n",
       "tailnum | n | \n",
       "|---|---|---|---|---|---|\n",
       "| NA     | 2512   | \n",
       "| N725MQ |  575   | \n",
       "| N722MQ |  513   | \n",
       "| N723MQ |  507   | \n",
       "| N713MQ |  483   | \n",
       "| N735MQ |  396   | \n",
       "\n",
       "\n"
      ],
      "text/plain": [
       "  tailnum n   \n",
       "1 NA      2512\n",
       "2 N725MQ   575\n",
       "3 N722MQ   513\n",
       "4 N723MQ   507\n",
       "5 N713MQ   483\n",
       "6 N735MQ   396"
      ]
     },
     "metadata": {},
     "output_type": "display_data"
    }
   ],
   "source": [
    "#there are many flights in the nycflights13 dataset that don’t have a matching tail number in the planes table:\n",
    "#thus we need to remove all the rows in flights that have an entry in tailnum column. Which will give those tailnumbers\n",
    "#in flight table that dont have anny entry in \n",
    "library(\"nycflights13\") \n",
    "head(flights)\n",
    "head(planes)\n",
    "head(flights%>%\n",
    "anti_join(planes, by = \"tailnum\") %>% #drops all the rows in flights that match tail num in planes\n",
    "count(tailnum,sort = TRUE))\n",
    "\n",
    "#count3 <- length(which(b == 3))"
   ]
  },
  {
   "cell_type": "markdown",
   "metadata": {},
   "source": [
    "<h2>Set operations"
   ]
  },
  {
   "cell_type": "markdown",
   "metadata": {},
   "source": [
    "These expect the x and y inputs to have the same variables, and treat the observations like sets: "
   ]
  },
  {
   "cell_type": "markdown",
   "metadata": {},
   "source": [
    "◦ intersect(x, y): return only observations in both x and y <br\\>◦ union(x, y): return unique observations in x and y<br\\> ◦ setdiff(x, y): return observations in x, but not in y"
   ]
  },
  {
   "cell_type": "code",
   "execution_count": 22,
   "metadata": {
    "collapsed": false
   },
   "outputs": [
    {
     "data": {
      "text/html": [
       "<table>\n",
       "<thead><tr><th scope=col>x</th><th scope=col>y</th></tr></thead>\n",
       "<tbody>\n",
       "\t<tr><td>1</td><td>1</td></tr>\n",
       "\t<tr><td>2</td><td>1</td></tr>\n",
       "</tbody>\n",
       "</table>\n"
      ],
      "text/latex": [
       "\\begin{tabular}{r|ll}\n",
       " x & y\\\\\n",
       "\\hline\n",
       "\t 1 & 1\\\\\n",
       "\t 2 & 1\\\\\n",
       "\\end{tabular}\n"
      ],
      "text/markdown": [
       "\n",
       "x | y | \n",
       "|---|---|\n",
       "| 1 | 1 | \n",
       "| 2 | 1 | \n",
       "\n",
       "\n"
      ],
      "text/plain": [
       "  x y\n",
       "1 1 1\n",
       "2 2 1"
      ]
     },
     "metadata": {},
     "output_type": "display_data"
    },
    {
     "data": {
      "text/html": [
       "<table>\n",
       "<thead><tr><th scope=col>x</th><th scope=col>y</th></tr></thead>\n",
       "<tbody>\n",
       "\t<tr><td>1</td><td>1</td></tr>\n",
       "\t<tr><td>2</td><td>2</td></tr>\n",
       "</tbody>\n",
       "</table>\n"
      ],
      "text/latex": [
       "\\begin{tabular}{r|ll}\n",
       " x & y\\\\\n",
       "\\hline\n",
       "\t 1 & 1\\\\\n",
       "\t 2 & 2\\\\\n",
       "\\end{tabular}\n"
      ],
      "text/markdown": [
       "\n",
       "x | y | \n",
       "|---|---|\n",
       "| 1 | 1 | \n",
       "| 2 | 2 | \n",
       "\n",
       "\n"
      ],
      "text/plain": [
       "  x y\n",
       "1 1 1\n",
       "2 2 2"
      ]
     },
     "metadata": {},
     "output_type": "display_data"
    }
   ],
   "source": [
    "df1 <- data_frame(x = 1:2, y = c(1L, 1L))\n",
    "df2 <- data_frame(x = 1:2, y = 1:2)\n",
    "df1\n",
    "df2"
   ]
  },
  {
   "cell_type": "code",
   "execution_count": 23,
   "metadata": {
    "collapsed": false
   },
   "outputs": [
    {
     "data": {
      "text/html": [
       "<table>\n",
       "<thead><tr><th scope=col>x</th><th scope=col>y</th></tr></thead>\n",
       "<tbody>\n",
       "\t<tr><td>1</td><td>1</td></tr>\n",
       "</tbody>\n",
       "</table>\n"
      ],
      "text/latex": [
       "\\begin{tabular}{r|ll}\n",
       " x & y\\\\\n",
       "\\hline\n",
       "\t 1 & 1\\\\\n",
       "\\end{tabular}\n"
      ],
      "text/markdown": [
       "\n",
       "x | y | \n",
       "|---|\n",
       "| 1 | 1 | \n",
       "\n",
       "\n"
      ],
      "text/plain": [
       "  x y\n",
       "1 1 1"
      ]
     },
     "metadata": {},
     "output_type": "display_data"
    }
   ],
   "source": [
    "intersect(df1, df2) #same rows in both df"
   ]
  },
  {
   "cell_type": "code",
   "execution_count": 24,
   "metadata": {
    "collapsed": false
   },
   "outputs": [
    {
     "data": {
      "text/html": [
       "<table>\n",
       "<thead><tr><th scope=col>x</th><th scope=col>y</th></tr></thead>\n",
       "<tbody>\n",
       "\t<tr><td>1</td><td>1</td></tr>\n",
       "\t<tr><td>2</td><td>1</td></tr>\n",
       "\t<tr><td>2</td><td>2</td></tr>\n",
       "</tbody>\n",
       "</table>\n"
      ],
      "text/latex": [
       "\\begin{tabular}{r|ll}\n",
       " x & y\\\\\n",
       "\\hline\n",
       "\t 1 & 1\\\\\n",
       "\t 2 & 1\\\\\n",
       "\t 2 & 2\\\\\n",
       "\\end{tabular}\n"
      ],
      "text/markdown": [
       "\n",
       "x | y | \n",
       "|---|---|---|\n",
       "| 1 | 1 | \n",
       "| 2 | 1 | \n",
       "| 2 | 2 | \n",
       "\n",
       "\n"
      ],
      "text/plain": [
       "  x y\n",
       "1 1 1\n",
       "2 2 1\n",
       "3 2 2"
      ]
     },
     "metadata": {},
     "output_type": "display_data"
    }
   ],
   "source": [
    "union(df1, df2)#merge 2 df,, removing dupes"
   ]
  },
  {
   "cell_type": "code",
   "execution_count": 25,
   "metadata": {
    "collapsed": false
   },
   "outputs": [
    {
     "data": {
      "text/html": [
       "<table>\n",
       "<thead><tr><th scope=col>x</th><th scope=col>y</th></tr></thead>\n",
       "<tbody>\n",
       "\t<tr><td>2</td><td>1</td></tr>\n",
       "</tbody>\n",
       "</table>\n"
      ],
      "text/latex": [
       "\\begin{tabular}{r|ll}\n",
       " x & y\\\\\n",
       "\\hline\n",
       "\t 2 & 1\\\\\n",
       "\\end{tabular}\n"
      ],
      "text/markdown": [
       "\n",
       "x | y | \n",
       "|---|\n",
       "| 2 | 1 | \n",
       "\n",
       "\n"
      ],
      "text/plain": [
       "  x y\n",
       "1 2 1"
      ]
     },
     "metadata": {},
     "output_type": "display_data"
    }
   ],
   "source": [
    "setdiff(df1, df2) #non intersecting rows of df1 df1-df2"
   ]
  },
  {
   "cell_type": "code",
   "execution_count": 26,
   "metadata": {
    "collapsed": false
   },
   "outputs": [
    {
     "data": {
      "text/html": [
       "<table>\n",
       "<thead><tr><th scope=col>x</th><th scope=col>y</th></tr></thead>\n",
       "<tbody>\n",
       "\t<tr><td>2</td><td>2</td></tr>\n",
       "</tbody>\n",
       "</table>\n"
      ],
      "text/latex": [
       "\\begin{tabular}{r|ll}\n",
       " x & y\\\\\n",
       "\\hline\n",
       "\t 2 & 2\\\\\n",
       "\\end{tabular}\n"
      ],
      "text/markdown": [
       "\n",
       "x | y | \n",
       "|---|\n",
       "| 2 | 2 | \n",
       "\n",
       "\n"
      ],
      "text/plain": [
       "  x y\n",
       "1 2 2"
      ]
     },
     "metadata": {},
     "output_type": "display_data"
    }
   ],
   "source": [
    "setdiff(df2, df1)  #non intersecting rows of df2 df2-df1"
   ]
  },
  {
   "cell_type": "markdown",
   "metadata": {},
   "source": [
    " If you specify copy = TRUE, dplyr will copy the y table into the same location as the x variable. This is useful if you’ve downloaded a summarised dataset and determined a subset of interest that you now want the full data for. You can use semi_join(x, y, copy = TRUE) to upload the indices of interest to a temporary table in the same database as x, and then perform a efficient semi join in the database.\n",
    "If you’re working with large data, it maybe also be helpful to set auto_index = TRUE. That will automatically add an index on the join variables to the temporary table"
   ]
  },
  {
   "cell_type": "markdown",
   "metadata": {},
   "source": [
    "<b> To sum all entries"
   ]
  },
  {
   "cell_type": "code",
   "execution_count": 28,
   "metadata": {
    "collapsed": false
   },
   "outputs": [
    {
     "data": {
      "text/html": [
       "<table>\n",
       "<thead><tr><th scope=col>x</th><th scope=col>y</th></tr></thead>\n",
       "<tbody>\n",
       "\t<tr><td>1</td><td>1</td></tr>\n",
       "\t<tr><td>2</td><td>1</td></tr>\n",
       "</tbody>\n",
       "</table>\n"
      ],
      "text/latex": [
       "\\begin{tabular}{r|ll}\n",
       " x & y\\\\\n",
       "\\hline\n",
       "\t 1 & 1\\\\\n",
       "\t 2 & 1\\\\\n",
       "\\end{tabular}\n"
      ],
      "text/markdown": [
       "\n",
       "x | y | \n",
       "|---|---|\n",
       "| 1 | 1 | \n",
       "| 2 | 1 | \n",
       "\n",
       "\n"
      ],
      "text/plain": [
       "  x y\n",
       "1 1 1\n",
       "2 2 1"
      ]
     },
     "metadata": {},
     "output_type": "display_data"
    }
   ],
   "source": [
    "df1 <- data_frame(x = 1:2, y = c(1L, 1L))\n",
    "df1"
   ]
  },
  {
   "cell_type": "code",
   "execution_count": null,
   "metadata": {
    "collapsed": false
   },
   "outputs": [],
   "source": []
  },
  {
   "cell_type": "code",
   "execution_count": null,
   "metadata": {
    "collapsed": true
   },
   "outputs": [],
   "source": []
  }
 ],
 "metadata": {
  "kernelspec": {
   "display_name": "R",
   "language": "R",
   "name": "ir"
  },
  "language_info": {
   "codemirror_mode": "r",
   "file_extension": ".r",
   "mimetype": "text/x-r-source",
   "name": "R",
   "pygments_lexer": "r",
   "version": "3.3.2"
  }
 },
 "nbformat": 4,
 "nbformat_minor": 2
}
