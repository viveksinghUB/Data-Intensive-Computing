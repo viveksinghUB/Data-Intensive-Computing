{
 "cells": [
  {
   "cell_type": "markdown",
   "metadata": {},
   "source": [
    "## Input: Kaggle Sqlite European Soccer Database "
   ]
  },
  {
   "cell_type": "markdown",
   "metadata": {},
   "source": [
    "## Output: R data frames persisted in csv files to facilitate easy Q&A"
   ]
  },
  {
   "cell_type": "markdown",
   "metadata": {},
   "source": [
    "## Process: sqllite to R data frames to csv.  "
   ]
  },
  {
   "cell_type": "markdown",
   "metadata": {},
   "source": [
    "1 : Load the libraries"
   ]
  },
  {
   "cell_type": "code",
   "execution_count": 1,
   "metadata": {
    "collapsed": false,
    "scrolled": true
   },
   "outputs": [
    {
     "name": "stderr",
     "output_type": "stream",
     "text": [
      "\n",
      "Attaching package: 'dplyr'\n",
      "\n",
      "The following objects are masked from 'package:stats':\n",
      "\n",
      "    filter, lag\n",
      "\n",
      "The following objects are masked from 'package:base':\n",
      "\n",
      "    intersect, setdiff, setequal, union\n",
      "\n",
      "\n",
      "Attaching package: 'purrr'\n",
      "\n",
      "The following objects are masked from 'package:dplyr':\n",
      "\n",
      "    contains, order_by\n",
      "\n",
      "\n",
      "Attaching package: 'magrittr'\n",
      "\n",
      "The following object is masked from 'package:tidyr':\n",
      "\n",
      "    extract\n",
      "\n",
      "The following object is masked from 'package:purrr':\n",
      "\n",
      "    set_names\n",
      "\n",
      "\n",
      "Attaching package: 'reshape2'\n",
      "\n",
      "The following object is masked from 'package:tidyr':\n",
      "\n",
      "    smiths\n",
      "\n",
      "\n",
      "Attaching package: 'jsonlite'\n",
      "\n",
      "The following object is masked from 'package:purrr':\n",
      "\n",
      "    flatten\n",
      "\n"
     ]
    }
   ],
   "source": [
    "library(dplyr)\n",
    "library(purrr)\n",
    "library(tidyr)\n",
    "library(ggplot2)\n",
    "library(broom)\n",
    "library(magrittr)\n",
    "library(RSQLite)\n",
    "library(reshape2)\n",
    "library(jsonlite)\n",
    "library(knitr)"
   ]
  },
  {
   "cell_type": "markdown",
   "metadata": {},
   "source": [
    "2 : Connect to the database and list the tables in DB"
   ]
  },
  {
   "cell_type": "code",
   "execution_count": 2,
   "metadata": {
    "collapsed": false
   },
   "outputs": [
    {
     "data": {
      "text/html": [
       "<ol class=list-inline>\n",
       "\t<li>'Country'</li>\n",
       "\t<li>'League'</li>\n",
       "\t<li>'Match'</li>\n",
       "\t<li>'Player'</li>\n",
       "\t<li>'Player_Attributes'</li>\n",
       "\t<li>'Team'</li>\n",
       "\t<li>'Team_Attributes'</li>\n",
       "\t<li>'sqlite_sequence'</li>\n",
       "</ol>\n"
      ],
      "text/latex": [
       "\\begin{enumerate*}\n",
       "\\item 'Country'\n",
       "\\item 'League'\n",
       "\\item 'Match'\n",
       "\\item 'Player'\n",
       "\\item 'Player\\_Attributes'\n",
       "\\item 'Team'\n",
       "\\item 'Team\\_Attributes'\n",
       "\\item 'sqlite\\_sequence'\n",
       "\\end{enumerate*}\n"
      ],
      "text/markdown": [
       "1. 'Country'\n",
       "2. 'League'\n",
       "3. 'Match'\n",
       "4. 'Player'\n",
       "5. 'Player_Attributes'\n",
       "6. 'Team'\n",
       "7. 'Team_Attributes'\n",
       "8. 'sqlite_sequence'\n",
       "\n",
       "\n"
      ],
      "text/plain": [
       "[1] \"Country\"           \"League\"            \"Match\"            \n",
       "[4] \"Player\"            \"Player_Attributes\" \"Team\"             \n",
       "[7] \"Team_Attributes\"   \"sqlite_sequence\"  "
      ]
     },
     "metadata": {},
     "output_type": "display_data"
    }
   ],
   "source": [
    "con = dbConnect(SQLite(), dbname=\"soccerdatabase.sqlite\")\n",
    "dbListTables(con)"
   ]
  },
  {
   "cell_type": "markdown",
   "metadata": {},
   "source": [
    "Load the tables as dataframe"
   ]
  },
  {
   "cell_type": "code",
   "execution_count": 3,
   "metadata": {
    "collapsed": false
   },
   "outputs": [],
   "source": [
    "Country = tbl_df(dbGetQuery(con,\"SELECT * FROM Country\"))\n",
    "League = tbl_df(dbGetQuery(con,\"SELECT * FROM League\"))\n",
    "Match = tbl_df(dbGetQuery(con,\"SELECT * FROM Match\"))\n",
    "Player = tbl_df(dbGetQuery(con,\"SELECT * FROM player\"))\n",
    "Player_Attributes = tbl_df(dbGetQuery(con,\"SELECT * FROM Player_Attributes\"))\n",
    "Team = tbl_df(dbGetQuery(con,\"SELECT * FROM Team\"))\n",
    "Team_Attributes = tbl_df(dbGetQuery(con,\"SELECT * FROM Team_Attributes\"))"
   ]
  },
  {
   "cell_type": "markdown",
   "metadata": {},
   "source": [
    "# Q1: Which are the top 10 players by overall rating?\n"
   ]
  },
  {
   "cell_type": "markdown",
   "metadata": {},
   "source": [
    "Look into the values of player and player_attributes df"
   ]
  },
  {
   "cell_type": "code",
   "execution_count": 4,
   "metadata": {
    "collapsed": false
   },
   "outputs": [
    {
     "data": {
      "text/html": [
       "<table>\n",
       "<thead><tr><th scope=col>id</th><th scope=col>player_api_id</th><th scope=col>player_name</th><th scope=col>player_fifa_api_id</th><th scope=col>birthday</th><th scope=col>height</th><th scope=col>weight</th></tr></thead>\n",
       "<tbody>\n",
       "\t<tr><td>1                  </td><td>505942             </td><td>Aaron Appindangoye </td><td>218353             </td><td>1992-02-29 00:00:00</td><td>182.88             </td><td>187                </td></tr>\n",
       "\t<tr><td>2                  </td><td>155782             </td><td>Aaron Cresswell    </td><td>189615             </td><td>1989-12-15 00:00:00</td><td>170.18             </td><td>146                </td></tr>\n",
       "\t<tr><td>3                  </td><td>162549             </td><td>Aaron Doran        </td><td>186170             </td><td>1991-05-13 00:00:00</td><td>170.18             </td><td>163                </td></tr>\n",
       "\t<tr><td>4                  </td><td> 30572             </td><td>Aaron Galindo      </td><td>140161             </td><td>1982-05-08 00:00:00</td><td>182.88             </td><td>198                </td></tr>\n",
       "\t<tr><td>5                  </td><td> 23780             </td><td>Aaron Hughes       </td><td> 17725             </td><td>1979-11-08 00:00:00</td><td>182.88             </td><td>154                </td></tr>\n",
       "\t<tr><td>6                  </td><td> 27316             </td><td>Aaron Hunt         </td><td>158138             </td><td>1986-09-04 00:00:00</td><td>182.88             </td><td>161                </td></tr>\n",
       "</tbody>\n",
       "</table>\n"
      ],
      "text/latex": [
       "\\begin{tabular}{r|lllllll}\n",
       " id & player\\_api\\_id & player\\_name & player\\_fifa\\_api\\_id & birthday & height & weight\\\\\n",
       "\\hline\n",
       "\t 1                   & 505942              & Aaron Appindangoye  & 218353              & 1992-02-29 00:00:00 & 182.88              & 187                \\\\\n",
       "\t 2                   & 155782              & Aaron Cresswell     & 189615              & 1989-12-15 00:00:00 & 170.18              & 146                \\\\\n",
       "\t 3                   & 162549              & Aaron Doran         & 186170              & 1991-05-13 00:00:00 & 170.18              & 163                \\\\\n",
       "\t 4                   &  30572              & Aaron Galindo       & 140161              & 1982-05-08 00:00:00 & 182.88              & 198                \\\\\n",
       "\t 5                   &  23780              & Aaron Hughes        &  17725              & 1979-11-08 00:00:00 & 182.88              & 154                \\\\\n",
       "\t 6                   &  27316              & Aaron Hunt          & 158138              & 1986-09-04 00:00:00 & 182.88              & 161                \\\\\n",
       "\\end{tabular}\n"
      ],
      "text/markdown": [
       "\n",
       "id | player_api_id | player_name | player_fifa_api_id | birthday | height | weight | \n",
       "|---|---|---|---|---|---|\n",
       "| 1                   | 505942              | Aaron Appindangoye  | 218353              | 1992-02-29 00:00:00 | 182.88              | 187                 | \n",
       "| 2                   | 155782              | Aaron Cresswell     | 189615              | 1989-12-15 00:00:00 | 170.18              | 146                 | \n",
       "| 3                   | 162549              | Aaron Doran         | 186170              | 1991-05-13 00:00:00 | 170.18              | 163                 | \n",
       "| 4                   |  30572              | Aaron Galindo       | 140161              | 1982-05-08 00:00:00 | 182.88              | 198                 | \n",
       "| 5                   |  23780              | Aaron Hughes        |  17725              | 1979-11-08 00:00:00 | 182.88              | 154                 | \n",
       "| 6                   |  27316              | Aaron Hunt          | 158138              | 1986-09-04 00:00:00 | 182.88              | 161                 | \n",
       "\n",
       "\n"
      ],
      "text/plain": [
       "  id player_api_id player_name        player_fifa_api_id birthday           \n",
       "1 1  505942        Aaron Appindangoye 218353             1992-02-29 00:00:00\n",
       "2 2  155782        Aaron Cresswell    189615             1989-12-15 00:00:00\n",
       "3 3  162549        Aaron Doran        186170             1991-05-13 00:00:00\n",
       "4 4   30572        Aaron Galindo      140161             1982-05-08 00:00:00\n",
       "5 5   23780        Aaron Hughes        17725             1979-11-08 00:00:00\n",
       "6 6   27316        Aaron Hunt         158138             1986-09-04 00:00:00\n",
       "  height weight\n",
       "1 182.88 187   \n",
       "2 170.18 146   \n",
       "3 170.18 163   \n",
       "4 182.88 198   \n",
       "5 182.88 154   \n",
       "6 182.88 161   "
      ]
     },
     "metadata": {},
     "output_type": "display_data"
    },
    {
     "data": {
      "text/html": [
       "<table>\n",
       "<thead><tr><th scope=col>id</th><th scope=col>player_fifa_api_id</th><th scope=col>player_api_id</th><th scope=col>date</th><th scope=col>overall_rating</th><th scope=col>potential</th><th scope=col>preferred_foot</th><th scope=col>attacking_work_rate</th><th scope=col>defensive_work_rate</th><th scope=col>crossing</th><th scope=col>...</th><th scope=col>vision</th><th scope=col>penalties</th><th scope=col>marking</th><th scope=col>standing_tackle</th><th scope=col>sliding_tackle</th><th scope=col>gk_diving</th><th scope=col>gk_handling</th><th scope=col>gk_kicking</th><th scope=col>gk_positioning</th><th scope=col>gk_reflexes</th></tr></thead>\n",
       "<tbody>\n",
       "\t<tr><td>1                  </td><td>218353             </td><td>505942             </td><td>2016-02-18 00:00:00</td><td>67                 </td><td>71                 </td><td>right              </td><td>medium             </td><td>medium             </td><td>49                 </td><td>...                </td><td>54                 </td><td>48                 </td><td>65                 </td><td>69                 </td><td>69                 </td><td> 6                 </td><td>11                 </td><td>10                 </td><td>8                  </td><td> 8                 </td></tr>\n",
       "\t<tr><td>2                  </td><td>218353             </td><td>505942             </td><td>2015-11-19 00:00:00</td><td>67                 </td><td>71                 </td><td>right              </td><td>medium             </td><td>medium             </td><td>49                 </td><td>...                </td><td>54                 </td><td>48                 </td><td>65                 </td><td>69                 </td><td>69                 </td><td> 6                 </td><td>11                 </td><td>10                 </td><td>8                  </td><td> 8                 </td></tr>\n",
       "\t<tr><td>3                  </td><td>218353             </td><td>505942             </td><td>2015-09-21 00:00:00</td><td>62                 </td><td>66                 </td><td>right              </td><td>medium             </td><td>medium             </td><td>49                 </td><td>...                </td><td>54                 </td><td>48                 </td><td>65                 </td><td>66                 </td><td>69                 </td><td> 6                 </td><td>11                 </td><td>10                 </td><td>8                  </td><td> 8                 </td></tr>\n",
       "\t<tr><td>4                  </td><td>218353             </td><td>505942             </td><td>2015-03-20 00:00:00</td><td>61                 </td><td>65                 </td><td>right              </td><td>medium             </td><td>medium             </td><td>48                 </td><td>...                </td><td>53                 </td><td>47                 </td><td>62                 </td><td>63                 </td><td>66                 </td><td> 5                 </td><td>10                 </td><td> 9                 </td><td>7                  </td><td> 7                 </td></tr>\n",
       "\t<tr><td>5                  </td><td>218353             </td><td>505942             </td><td>2007-02-22 00:00:00</td><td>61                 </td><td>65                 </td><td>right              </td><td>medium             </td><td>medium             </td><td>48                 </td><td>...                </td><td>53                 </td><td>47                 </td><td>62                 </td><td>63                 </td><td>66                 </td><td> 5                 </td><td>10                 </td><td> 9                 </td><td>7                  </td><td> 7                 </td></tr>\n",
       "\t<tr><td>6                  </td><td>189615             </td><td>155782             </td><td>2016-04-21 00:00:00</td><td>74                 </td><td>76                 </td><td>left               </td><td>high               </td><td>medium             </td><td>80                 </td><td>...                </td><td>66                 </td><td>59                 </td><td>76                 </td><td>75                 </td><td>78                 </td><td>14                 </td><td> 7                 </td><td> 9                 </td><td>9                  </td><td>12                 </td></tr>\n",
       "</tbody>\n",
       "</table>\n"
      ],
      "text/latex": [
       "\\begin{tabular}{r|llllllllllllllllllllllllllllllllllllllllll}\n",
       " id & player\\_fifa\\_api\\_id & player\\_api\\_id & date & overall\\_rating & potential & preferred\\_foot & attacking\\_work\\_rate & defensive\\_work\\_rate & crossing & ... & vision & penalties & marking & standing\\_tackle & sliding\\_tackle & gk\\_diving & gk\\_handling & gk\\_kicking & gk\\_positioning & gk\\_reflexes\\\\\n",
       "\\hline\n",
       "\t 1                   & 218353              & 505942              & 2016-02-18 00:00:00 & 67                  & 71                  & right               & medium              & medium              & 49                  & ...                 & 54                  & 48                  & 65                  & 69                  & 69                  &  6                  & 11                  & 10                  & 8                   &  8                 \\\\\n",
       "\t 2                   & 218353              & 505942              & 2015-11-19 00:00:00 & 67                  & 71                  & right               & medium              & medium              & 49                  & ...                 & 54                  & 48                  & 65                  & 69                  & 69                  &  6                  & 11                  & 10                  & 8                   &  8                 \\\\\n",
       "\t 3                   & 218353              & 505942              & 2015-09-21 00:00:00 & 62                  & 66                  & right               & medium              & medium              & 49                  & ...                 & 54                  & 48                  & 65                  & 66                  & 69                  &  6                  & 11                  & 10                  & 8                   &  8                 \\\\\n",
       "\t 4                   & 218353              & 505942              & 2015-03-20 00:00:00 & 61                  & 65                  & right               & medium              & medium              & 48                  & ...                 & 53                  & 47                  & 62                  & 63                  & 66                  &  5                  & 10                  &  9                  & 7                   &  7                 \\\\\n",
       "\t 5                   & 218353              & 505942              & 2007-02-22 00:00:00 & 61                  & 65                  & right               & medium              & medium              & 48                  & ...                 & 53                  & 47                  & 62                  & 63                  & 66                  &  5                  & 10                  &  9                  & 7                   &  7                 \\\\\n",
       "\t 6                   & 189615              & 155782              & 2016-04-21 00:00:00 & 74                  & 76                  & left                & high                & medium              & 80                  & ...                 & 66                  & 59                  & 76                  & 75                  & 78                  & 14                  &  7                  &  9                  & 9                   & 12                 \\\\\n",
       "\\end{tabular}\n"
      ],
      "text/markdown": [
       "\n",
       "id | player_fifa_api_id | player_api_id | date | overall_rating | potential | preferred_foot | attacking_work_rate | defensive_work_rate | crossing | ... | vision | penalties | marking | standing_tackle | sliding_tackle | gk_diving | gk_handling | gk_kicking | gk_positioning | gk_reflexes | \n",
       "|---|---|---|---|---|---|\n",
       "| 1                   | 218353              | 505942              | 2016-02-18 00:00:00 | 67                  | 71                  | right               | medium              | medium              | 49                  | ...                 | 54                  | 48                  | 65                  | 69                  | 69                  |  6                  | 11                  | 10                  | 8                   |  8                  | \n",
       "| 2                   | 218353              | 505942              | 2015-11-19 00:00:00 | 67                  | 71                  | right               | medium              | medium              | 49                  | ...                 | 54                  | 48                  | 65                  | 69                  | 69                  |  6                  | 11                  | 10                  | 8                   |  8                  | \n",
       "| 3                   | 218353              | 505942              | 2015-09-21 00:00:00 | 62                  | 66                  | right               | medium              | medium              | 49                  | ...                 | 54                  | 48                  | 65                  | 66                  | 69                  |  6                  | 11                  | 10                  | 8                   |  8                  | \n",
       "| 4                   | 218353              | 505942              | 2015-03-20 00:00:00 | 61                  | 65                  | right               | medium              | medium              | 48                  | ...                 | 53                  | 47                  | 62                  | 63                  | 66                  |  5                  | 10                  |  9                  | 7                   |  7                  | \n",
       "| 5                   | 218353              | 505942              | 2007-02-22 00:00:00 | 61                  | 65                  | right               | medium              | medium              | 48                  | ...                 | 53                  | 47                  | 62                  | 63                  | 66                  |  5                  | 10                  |  9                  | 7                   |  7                  | \n",
       "| 6                   | 189615              | 155782              | 2016-04-21 00:00:00 | 74                  | 76                  | left                | high                | medium              | 80                  | ...                 | 66                  | 59                  | 76                  | 75                  | 78                  | 14                  |  7                  |  9                  | 9                   | 12                  | \n",
       "\n",
       "\n"
      ],
      "text/plain": [
       "  id player_fifa_api_id player_api_id date                overall_rating\n",
       "1 1  218353             505942        2016-02-18 00:00:00 67            \n",
       "2 2  218353             505942        2015-11-19 00:00:00 67            \n",
       "3 3  218353             505942        2015-09-21 00:00:00 62            \n",
       "4 4  218353             505942        2015-03-20 00:00:00 61            \n",
       "5 5  218353             505942        2007-02-22 00:00:00 61            \n",
       "6 6  189615             155782        2016-04-21 00:00:00 74            \n",
       "  potential preferred_foot attacking_work_rate defensive_work_rate crossing ...\n",
       "1 71        right          medium              medium              49       ...\n",
       "2 71        right          medium              medium              49       ...\n",
       "3 66        right          medium              medium              49       ...\n",
       "4 65        right          medium              medium              48       ...\n",
       "5 65        right          medium              medium              48       ...\n",
       "6 76        left           high                medium              80       ...\n",
       "  vision penalties marking standing_tackle sliding_tackle gk_diving gk_handling\n",
       "1 54     48        65      69              69              6        11         \n",
       "2 54     48        65      69              69              6        11         \n",
       "3 54     48        65      66              69              6        11         \n",
       "4 53     47        62      63              66              5        10         \n",
       "5 53     47        62      63              66              5        10         \n",
       "6 66     59        76      75              78             14         7         \n",
       "  gk_kicking gk_positioning gk_reflexes\n",
       "1 10         8               8         \n",
       "2 10         8               8         \n",
       "3 10         8               8         \n",
       "4  9         7               7         \n",
       "5  9         7               7         \n",
       "6  9         9              12         "
      ]
     },
     "metadata": {},
     "output_type": "display_data"
    }
   ],
   "source": [
    "head(Player)\n",
    "head(Player_Attributes)"
   ]
  },
  {
   "cell_type": "markdown",
   "metadata": {},
   "source": [
    "4: We need to join the 2 df and retain the player df with ratings in sorted order."
   ]
  },
  {
   "cell_type": "code",
   "execution_count": 5,
   "metadata": {
    "collapsed": false,
    "scrolled": true
   },
   "outputs": [
    {
     "data": {
      "text/html": [
       "<table>\n",
       "<thead><tr><th scope=col>player_api_id</th><th scope=col>max_rating</th><th scope=col>id</th><th scope=col>player_name</th><th scope=col>player_fifa_api_id</th><th scope=col>birthday</th><th scope=col>height</th><th scope=col>weight</th></tr></thead>\n",
       "<tbody>\n",
       "\t<tr><td>30981              </td><td>94                 </td><td> 6176              </td><td>Lionel Messi       </td><td>158023             </td><td>1987-06-24 00:00:00</td><td>170.18             </td><td>159                </td></tr>\n",
       "\t<tr><td>30893              </td><td>93                 </td><td> 1995              </td><td>Cristiano Ronaldo  </td><td> 20801             </td><td>1985-02-05 00:00:00</td><td>185.42             </td><td>176                </td></tr>\n",
       "\t<tr><td>30717              </td><td>93                 </td><td> 3826              </td><td>Gianluigi Buffon   </td><td>  1179             </td><td>1978-01-28 00:00:00</td><td>193.04             </td><td>201                </td></tr>\n",
       "\t<tr><td>30829              </td><td>93                 </td><td>10749              </td><td>Wayne Rooney       </td><td> 54050             </td><td>1985-10-24 00:00:00</td><td>175.26             </td><td>183                </td></tr>\n",
       "\t<tr><td>39989              </td><td>92                 </td><td> 3994              </td><td>Gregory Coupet     </td><td>  1747             </td><td>1972-12-31 00:00:00</td><td>180.34             </td><td>176                </td></tr>\n",
       "\t<tr><td>39854              </td><td>92                 </td><td>10861              </td><td>Xavi Hernandez     </td><td> 10535             </td><td>1980-01-25 00:00:00</td><td>170.18             </td><td>148                </td></tr>\n",
       "\t<tr><td>30723              </td><td>91                 </td><td>  388              </td><td>Alessandro Nesta   </td><td>  1088             </td><td>1976-03-19 00:00:00</td><td>187.96             </td><td>174                </td></tr>\n",
       "\t<tr><td>30955              </td><td>91                 </td><td>  742              </td><td>Andres Iniesta     </td><td>    41             </td><td>1984-05-11 00:00:00</td><td>170.18             </td><td>150                </td></tr>\n",
       "\t<tr><td>34520              </td><td>91                 </td><td> 3183              </td><td>Fabio Cannavaro    </td><td>  1183             </td><td>1973-09-13 00:00:00</td><td>175.26             </td><td>165                </td></tr>\n",
       "\t<tr><td>30657              </td><td>91                 </td><td> 4366              </td><td>Iker Casillas      </td><td>  5479             </td><td>1981-05-20 00:00:00</td><td>185.42             </td><td>185                </td></tr>\n",
       "</tbody>\n",
       "</table>\n"
      ],
      "text/latex": [
       "\\begin{tabular}{r|llllllll}\n",
       " player\\_api\\_id & max\\_rating & id & player\\_name & player\\_fifa\\_api\\_id & birthday & height & weight\\\\\n",
       "\\hline\n",
       "\t 30981               & 94                  &  6176               & Lionel Messi        & 158023              & 1987-06-24 00:00:00 & 170.18              & 159                \\\\\n",
       "\t 30893               & 93                  &  1995               & Cristiano Ronaldo   &  20801              & 1985-02-05 00:00:00 & 185.42              & 176                \\\\\n",
       "\t 30717               & 93                  &  3826               & Gianluigi Buffon    &   1179              & 1978-01-28 00:00:00 & 193.04              & 201                \\\\\n",
       "\t 30829               & 93                  & 10749               & Wayne Rooney        &  54050              & 1985-10-24 00:00:00 & 175.26              & 183                \\\\\n",
       "\t 39989               & 92                  &  3994               & Gregory Coupet      &   1747              & 1972-12-31 00:00:00 & 180.34              & 176                \\\\\n",
       "\t 39854               & 92                  & 10861               & Xavi Hernandez      &  10535              & 1980-01-25 00:00:00 & 170.18              & 148                \\\\\n",
       "\t 30723               & 91                  &   388               & Alessandro Nesta    &   1088              & 1976-03-19 00:00:00 & 187.96              & 174                \\\\\n",
       "\t 30955               & 91                  &   742               & Andres Iniesta      &     41              & 1984-05-11 00:00:00 & 170.18              & 150                \\\\\n",
       "\t 34520               & 91                  &  3183               & Fabio Cannavaro     &   1183              & 1973-09-13 00:00:00 & 175.26              & 165                \\\\\n",
       "\t 30657               & 91                  &  4366               & Iker Casillas       &   5479              & 1981-05-20 00:00:00 & 185.42              & 185                \\\\\n",
       "\\end{tabular}\n"
      ],
      "text/markdown": [
       "\n",
       "player_api_id | max_rating | id | player_name | player_fifa_api_id | birthday | height | weight | \n",
       "|---|---|---|---|---|---|---|---|---|---|\n",
       "| 30981               | 94                  |  6176               | Lionel Messi        | 158023              | 1987-06-24 00:00:00 | 170.18              | 159                 | \n",
       "| 30893               | 93                  |  1995               | Cristiano Ronaldo   |  20801              | 1985-02-05 00:00:00 | 185.42              | 176                 | \n",
       "| 30717               | 93                  |  3826               | Gianluigi Buffon    |   1179              | 1978-01-28 00:00:00 | 193.04              | 201                 | \n",
       "| 30829               | 93                  | 10749               | Wayne Rooney        |  54050              | 1985-10-24 00:00:00 | 175.26              | 183                 | \n",
       "| 39989               | 92                  |  3994               | Gregory Coupet      |   1747              | 1972-12-31 00:00:00 | 180.34              | 176                 | \n",
       "| 39854               | 92                  | 10861               | Xavi Hernandez      |  10535              | 1980-01-25 00:00:00 | 170.18              | 148                 | \n",
       "| 30723               | 91                  |   388               | Alessandro Nesta    |   1088              | 1976-03-19 00:00:00 | 187.96              | 174                 | \n",
       "| 30955               | 91                  |   742               | Andres Iniesta      |     41              | 1984-05-11 00:00:00 | 170.18              | 150                 | \n",
       "| 34520               | 91                  |  3183               | Fabio Cannavaro     |   1183              | 1973-09-13 00:00:00 | 175.26              | 165                 | \n",
       "| 30657               | 91                  |  4366               | Iker Casillas       |   5479              | 1981-05-20 00:00:00 | 185.42              | 185                 | \n",
       "\n",
       "\n"
      ],
      "text/plain": [
       "   player_api_id max_rating id    player_name       player_fifa_api_id\n",
       "1  30981         94          6176 Lionel Messi      158023            \n",
       "2  30893         93          1995 Cristiano Ronaldo  20801            \n",
       "3  30717         93          3826 Gianluigi Buffon    1179            \n",
       "4  30829         93         10749 Wayne Rooney       54050            \n",
       "5  39989         92          3994 Gregory Coupet      1747            \n",
       "6  39854         92         10861 Xavi Hernandez     10535            \n",
       "7  30723         91           388 Alessandro Nesta    1088            \n",
       "8  30955         91           742 Andres Iniesta        41            \n",
       "9  34520         91          3183 Fabio Cannavaro     1183            \n",
       "10 30657         91          4366 Iker Casillas       5479            \n",
       "   birthday            height weight\n",
       "1  1987-06-24 00:00:00 170.18 159   \n",
       "2  1985-02-05 00:00:00 185.42 176   \n",
       "3  1978-01-28 00:00:00 193.04 201   \n",
       "4  1985-10-24 00:00:00 175.26 183   \n",
       "5  1972-12-31 00:00:00 180.34 176   \n",
       "6  1980-01-25 00:00:00 170.18 148   \n",
       "7  1976-03-19 00:00:00 187.96 174   \n",
       "8  1984-05-11 00:00:00 170.18 150   \n",
       "9  1973-09-13 00:00:00 175.26 165   \n",
       "10 1981-05-20 00:00:00 185.42 185   "
      ]
     },
     "metadata": {},
     "output_type": "display_data"
    }
   ],
   "source": [
    "Player=group_by(Player_Attributes,player_api_id)%>%\n",
    "summarise(max_rating=max(overall_rating))%>%           #find the maximum rating of each player\n",
    "right_join(Player,by = \"player_api_id\")%>%             #join the rating temporary df with player df\n",
    "arrange(desc(max_rating))                              #display\n",
    "head(Player,n=10)"
   ]
  },
  {
   "cell_type": "markdown",
   "metadata": {},
   "source": [
    "# Q2. Which are the top 10 goalkeepers by sum of gk attributes?"
   ]
  },
  {
   "cell_type": "code",
   "execution_count": 6,
   "metadata": {
    "collapsed": false,
    "scrolled": false
   },
   "outputs": [
    {
     "name": "stderr",
     "output_type": "stream",
     "text": [
      "Joining, by = \"player_api_id\"\n"
     ]
    },
    {
     "data": {
      "text/html": [
       "<table>\n",
       "<thead><tr><th scope=col>player_api_id</th><th scope=col>max_gk</th><th scope=col>max_rating</th><th scope=col>player_name</th></tr></thead>\n",
       "<tbody>\n",
       "\t<tr><td>30717           </td><td>449             </td><td>93              </td><td>Gianluigi Buffon</td></tr>\n",
       "\t<tr><td>39989           </td><td>447             </td><td>92              </td><td>Gregory Coupet  </td></tr>\n",
       "\t<tr><td>30859           </td><td>445             </td><td>89              </td><td>Petr Cech       </td></tr>\n",
       "\t<tr><td>30657           </td><td>442             </td><td>91              </td><td>Iker Casillas   </td></tr>\n",
       "\t<tr><td>27299           </td><td>440             </td><td>90              </td><td>Manuel Neuer    </td></tr>\n",
       "\t<tr><td>30989           </td><td>438             </td><td>89              </td><td>Julio Cesar     </td></tr>\n",
       "</tbody>\n",
       "</table>\n"
      ],
      "text/latex": [
       "\\begin{tabular}{r|llll}\n",
       " player\\_api\\_id & max\\_gk & max\\_rating & player\\_name\\\\\n",
       "\\hline\n",
       "\t 30717            & 449              & 93               & Gianluigi Buffon\\\\\n",
       "\t 39989            & 447              & 92               & Gregory Coupet  \\\\\n",
       "\t 30859            & 445              & 89               & Petr Cech       \\\\\n",
       "\t 30657            & 442              & 91               & Iker Casillas   \\\\\n",
       "\t 27299            & 440              & 90               & Manuel Neuer    \\\\\n",
       "\t 30989            & 438              & 89               & Julio Cesar     \\\\\n",
       "\\end{tabular}\n"
      ],
      "text/markdown": [
       "\n",
       "player_api_id | max_gk | max_rating | player_name | \n",
       "|---|---|---|---|---|---|\n",
       "| 30717            | 449              | 93               | Gianluigi Buffon | \n",
       "| 39989            | 447              | 92               | Gregory Coupet   | \n",
       "| 30859            | 445              | 89               | Petr Cech        | \n",
       "| 30657            | 442              | 91               | Iker Casillas    | \n",
       "| 27299            | 440              | 90               | Manuel Neuer     | \n",
       "| 30989            | 438              | 89               | Julio Cesar      | \n",
       "\n",
       "\n"
      ],
      "text/plain": [
       "  player_api_id max_gk max_rating player_name     \n",
       "1 30717         449    93         Gianluigi Buffon\n",
       "2 39989         447    92         Gregory Coupet  \n",
       "3 30859         445    89         Petr Cech       \n",
       "4 30657         442    91         Iker Casillas   \n",
       "5 27299         440    90         Manuel Neuer    \n",
       "6 30989         438    89         Julio Cesar     "
      ]
     },
     "metadata": {},
     "output_type": "display_data"
    }
   ],
   "source": [
    "# head(Player_Attributes)\n",
    "# player2=group_by(Player_Attributes,player_api_id)%>%\n",
    "# melt(Match,id = c(1:11), measure=c(12:33),na.rm = TRUE, value.name = \"player_api_id\")\n",
    "# rowSums(Match\",\"gk_diving\":\"gk_reflexes\", na.rm=TRUE)\n",
    "temp1=select(Player_Attributes, player_api_id,starts_with(\"gk_\"))#select all the gk attributes\n",
    "Player=mutate(temp1,total_gk=rowSums(temp1[,c(2,3,4,5,6)]))%>%   #sum the gk attributes\n",
    "group_by(player_api_id)%>%                                       #group by player id to find gk attribute of each player\n",
    "summarise(max_gk=max(total_gk))%>%                               #Find maximum of gk attributes of a player\n",
    "arrange(desc(max_gk))%>%                                         #arrange in descending order to retrieve the top 10 players\n",
    "left_join(Player)                                                #join the gk attribute df with player df\n",
    "Player=select(Player,player_api_id,max_gk,max_rating,player_name)#display result\n",
    "head(Player)\n",
    "\n"
   ]
  },
  {
   "cell_type": "markdown",
   "metadata": {
    "collapsed": true
   },
   "source": [
    "# Q4. Which are the top 10 players by number of leagues they played in?"
   ]
  },
  {
   "cell_type": "code",
   "execution_count": 7,
   "metadata": {
    "collapsed": false
   },
   "outputs": [
    {
     "data": {
      "text/html": [
       "<table>\n",
       "<thead><tr><th scope=col>country_id</th><th scope=col>country_name</th></tr></thead>\n",
       "<tbody>\n",
       "\t<tr><td>    1      </td><td>Belgium    </td></tr>\n",
       "\t<tr><td> 1729      </td><td>England    </td></tr>\n",
       "\t<tr><td> 4769      </td><td>France     </td></tr>\n",
       "\t<tr><td> 7809      </td><td>Germany    </td></tr>\n",
       "\t<tr><td>10257      </td><td>Italy      </td></tr>\n",
       "\t<tr><td>13274      </td><td>Netherlands</td></tr>\n",
       "</tbody>\n",
       "</table>\n"
      ],
      "text/latex": [
       "\\begin{tabular}{r|ll}\n",
       " country\\_id & country\\_name\\\\\n",
       "\\hline\n",
       "\t     1       & Belgium    \\\\\n",
       "\t  1729       & England    \\\\\n",
       "\t  4769       & France     \\\\\n",
       "\t  7809       & Germany    \\\\\n",
       "\t 10257       & Italy      \\\\\n",
       "\t 13274       & Netherlands\\\\\n",
       "\\end{tabular}\n"
      ],
      "text/markdown": [
       "\n",
       "country_id | country_name | \n",
       "|---|---|---|---|---|---|\n",
       "|     1       | Belgium     | \n",
       "|  1729       | England     | \n",
       "|  4769       | France      | \n",
       "|  7809       | Germany     | \n",
       "| 10257       | Italy       | \n",
       "| 13274       | Netherlands | \n",
       "\n",
       "\n"
      ],
      "text/plain": [
       "  country_id country_name\n",
       "1     1      Belgium     \n",
       "2  1729      England     \n",
       "3  4769      France      \n",
       "4  7809      Germany     \n",
       "5 10257      Italy       \n",
       "6 13274      Netherlands "
      ]
     },
     "metadata": {},
     "output_type": "display_data"
    },
    {
     "data": {
      "text/html": [
       "<table>\n",
       "<thead><tr><th scope=col>country_id</th><th scope=col>League_name</th></tr></thead>\n",
       "<tbody>\n",
       "\t<tr><td>    1                 </td><td>Belgium Jupiler League</td></tr>\n",
       "\t<tr><td> 1729                 </td><td>England Premier League</td></tr>\n",
       "\t<tr><td> 4769                 </td><td>France Ligue 1        </td></tr>\n",
       "\t<tr><td> 7809                 </td><td>Germany 1. Bundesliga </td></tr>\n",
       "\t<tr><td>10257                 </td><td>Italy Serie A         </td></tr>\n",
       "\t<tr><td>13274                 </td><td>Netherlands Eredivisie</td></tr>\n",
       "</tbody>\n",
       "</table>\n"
      ],
      "text/latex": [
       "\\begin{tabular}{r|ll}\n",
       " country\\_id & League\\_name\\\\\n",
       "\\hline\n",
       "\t     1                  & Belgium Jupiler League\\\\\n",
       "\t  1729                  & England Premier League\\\\\n",
       "\t  4769                  & France Ligue 1        \\\\\n",
       "\t  7809                  & Germany 1. Bundesliga \\\\\n",
       "\t 10257                  & Italy Serie A         \\\\\n",
       "\t 13274                  & Netherlands Eredivisie\\\\\n",
       "\\end{tabular}\n"
      ],
      "text/markdown": [
       "\n",
       "country_id | League_name | \n",
       "|---|---|---|---|---|---|\n",
       "|     1                  | Belgium Jupiler League | \n",
       "|  1729                  | England Premier League | \n",
       "|  4769                  | France Ligue 1         | \n",
       "|  7809                  | Germany 1. Bundesliga  | \n",
       "| 10257                  | Italy Serie A          | \n",
       "| 13274                  | Netherlands Eredivisie | \n",
       "\n",
       "\n"
      ],
      "text/plain": [
       "  country_id League_name           \n",
       "1     1      Belgium Jupiler League\n",
       "2  1729      England Premier League\n",
       "3  4769      France Ligue 1        \n",
       "4  7809      Germany 1. Bundesliga \n",
       "5 10257      Italy Serie A         \n",
       "6 13274      Netherlands Eredivisie"
      ]
     },
     "metadata": {},
     "output_type": "display_data"
    },
    {
     "data": {
      "text/html": [
       "<table>\n",
       "<thead><tr><th scope=col>team_api_id</th><th scope=col>team_long_name</th><th scope=col>team_short_name</th></tr></thead>\n",
       "<tbody>\n",
       "\t<tr><td> 9987            </td><td>KRC Genk         </td><td>GEN              </td></tr>\n",
       "\t<tr><td> 9993            </td><td>Beerschot AC     </td><td>BAC              </td></tr>\n",
       "\t<tr><td>10000            </td><td>SV Zulte-Waregem </td><td>ZUL              </td></tr>\n",
       "\t<tr><td> 9994            </td><td>Sporting Lokeren </td><td>LOK              </td></tr>\n",
       "\t<tr><td> 9984            </td><td>KSV Cercle Brugge</td><td>CEB              </td></tr>\n",
       "\t<tr><td> 8635            </td><td>RSC Anderlecht   </td><td>AND              </td></tr>\n",
       "</tbody>\n",
       "</table>\n"
      ],
      "text/latex": [
       "\\begin{tabular}{r|lll}\n",
       " team\\_api\\_id & team\\_long\\_name & team\\_short\\_name\\\\\n",
       "\\hline\n",
       "\t  9987             & KRC Genk          & GEN              \\\\\n",
       "\t  9993             & Beerschot AC      & BAC              \\\\\n",
       "\t 10000             & SV Zulte-Waregem  & ZUL              \\\\\n",
       "\t  9994             & Sporting Lokeren  & LOK              \\\\\n",
       "\t  9984             & KSV Cercle Brugge & CEB              \\\\\n",
       "\t  8635             & RSC Anderlecht    & AND              \\\\\n",
       "\\end{tabular}\n"
      ],
      "text/markdown": [
       "\n",
       "team_api_id | team_long_name | team_short_name | \n",
       "|---|---|---|---|---|---|\n",
       "|  9987             | KRC Genk          | GEN               | \n",
       "|  9993             | Beerschot AC      | BAC               | \n",
       "| 10000             | SV Zulte-Waregem  | ZUL               | \n",
       "|  9994             | Sporting Lokeren  | LOK               | \n",
       "|  9984             | KSV Cercle Brugge | CEB               | \n",
       "|  8635             | RSC Anderlecht    | AND               | \n",
       "\n",
       "\n"
      ],
      "text/plain": [
       "  team_api_id team_long_name    team_short_name\n",
       "1  9987       KRC Genk          GEN            \n",
       "2  9993       Beerschot AC      BAC            \n",
       "3 10000       SV Zulte-Waregem  ZUL            \n",
       "4  9994       Sporting Lokeren  LOK            \n",
       "5  9984       KSV Cercle Brugge CEB            \n",
       "6  8635       RSC Anderlecht    AND            "
      ]
     },
     "metadata": {},
     "output_type": "display_data"
    },
    {
     "data": {
      "text/html": [
       "<table>\n",
       "<thead><tr><th scope=col>id</th><th scope=col>country_id</th><th scope=col>league_id</th><th scope=col>season</th><th scope=col>stage</th><th scope=col>date</th><th scope=col>match_api_id</th><th scope=col>home_team_api_id</th><th scope=col>away_team_api_id</th><th scope=col>home_team_goal</th><th scope=col>...</th><th scope=col>away_player_10</th><th scope=col>away_player_11</th><th scope=col>goal</th><th scope=col>shoton</th><th scope=col>shotoff</th><th scope=col>foulcommit</th><th scope=col>card</th><th scope=col>cross</th><th scope=col>corner</th><th scope=col>possession</th></tr></thead>\n",
       "<tbody>\n",
       "\t<tr><td>1                  </td><td>1                  </td><td>1                  </td><td>2008/2009          </td><td>1                  </td><td>2008-08-17 00:00:00</td><td>492473             </td><td> 9987              </td><td>9993               </td><td>1                  </td><td>...                </td><td>NA                 </td><td>NA                 </td><td>NA                 </td><td>NA                 </td><td>NA                 </td><td>NA                 </td><td>NA                 </td><td>NA                 </td><td>NA                 </td><td>NA                 </td></tr>\n",
       "\t<tr><td>2                  </td><td>1                  </td><td>1                  </td><td>2008/2009          </td><td>1                  </td><td>2008-08-16 00:00:00</td><td>492474             </td><td>10000              </td><td>9994               </td><td>0                  </td><td>...                </td><td>NA                 </td><td>NA                 </td><td>NA                 </td><td>NA                 </td><td>NA                 </td><td>NA                 </td><td>NA                 </td><td>NA                 </td><td>NA                 </td><td>NA                 </td></tr>\n",
       "\t<tr><td>3                  </td><td>1                  </td><td>1                  </td><td>2008/2009          </td><td>1                  </td><td>2008-08-16 00:00:00</td><td>492475             </td><td> 9984              </td><td>8635               </td><td>0                  </td><td>...                </td><td>NA                 </td><td>NA                 </td><td>NA                 </td><td>NA                 </td><td>NA                 </td><td>NA                 </td><td>NA                 </td><td>NA                 </td><td>NA                 </td><td>NA                 </td></tr>\n",
       "\t<tr><td>4                  </td><td>1                  </td><td>1                  </td><td>2008/2009          </td><td>1                  </td><td>2008-08-17 00:00:00</td><td>492476             </td><td> 9991              </td><td>9998               </td><td>5                  </td><td>...                </td><td>NA                 </td><td>NA                 </td><td>NA                 </td><td>NA                 </td><td>NA                 </td><td>NA                 </td><td>NA                 </td><td>NA                 </td><td>NA                 </td><td>NA                 </td></tr>\n",
       "\t<tr><td>5                  </td><td>1                  </td><td>1                  </td><td>2008/2009          </td><td>1                  </td><td>2008-08-16 00:00:00</td><td>492477             </td><td> 7947              </td><td>9985               </td><td>1                  </td><td>...                </td><td>NA                 </td><td>NA                 </td><td>NA                 </td><td>NA                 </td><td>NA                 </td><td>NA                 </td><td>NA                 </td><td>NA                 </td><td>NA                 </td><td>NA                 </td></tr>\n",
       "\t<tr><td>6                  </td><td>1                  </td><td>1                  </td><td>2008/2009          </td><td>1                  </td><td>2008-09-24 00:00:00</td><td>492478             </td><td> 8203              </td><td>8342               </td><td>1                  </td><td>...                </td><td>NA                 </td><td>NA                 </td><td>NA                 </td><td>NA                 </td><td>NA                 </td><td>NA                 </td><td>NA                 </td><td>NA                 </td><td>NA                 </td><td>NA                 </td></tr>\n",
       "</tbody>\n",
       "</table>\n"
      ],
      "text/latex": [
       "\\begin{tabular}{r|lllllllllllllllllllllllllllllllllllllllll}\n",
       " id & country\\_id & league\\_id & season & stage & date & match\\_api\\_id & home\\_team\\_api\\_id & away\\_team\\_api\\_id & home\\_team\\_goal & ... & away\\_player\\_10 & away\\_player\\_11 & goal & shoton & shotoff & foulcommit & card & cross & corner & possession\\\\\n",
       "\\hline\n",
       "\t 1                   & 1                   & 1                   & 2008/2009           & 1                   & 2008-08-17 00:00:00 & 492473              &  9987               & 9993                & 1                   & ...                 & NA                  & NA                  & NA                  & NA                  & NA                  & NA                  & NA                  & NA                  & NA                  & NA                 \\\\\n",
       "\t 2                   & 1                   & 1                   & 2008/2009           & 1                   & 2008-08-16 00:00:00 & 492474              & 10000               & 9994                & 0                   & ...                 & NA                  & NA                  & NA                  & NA                  & NA                  & NA                  & NA                  & NA                  & NA                  & NA                 \\\\\n",
       "\t 3                   & 1                   & 1                   & 2008/2009           & 1                   & 2008-08-16 00:00:00 & 492475              &  9984               & 8635                & 0                   & ...                 & NA                  & NA                  & NA                  & NA                  & NA                  & NA                  & NA                  & NA                  & NA                  & NA                 \\\\\n",
       "\t 4                   & 1                   & 1                   & 2008/2009           & 1                   & 2008-08-17 00:00:00 & 492476              &  9991               & 9998                & 5                   & ...                 & NA                  & NA                  & NA                  & NA                  & NA                  & NA                  & NA                  & NA                  & NA                  & NA                 \\\\\n",
       "\t 5                   & 1                   & 1                   & 2008/2009           & 1                   & 2008-08-16 00:00:00 & 492477              &  7947               & 9985                & 1                   & ...                 & NA                  & NA                  & NA                  & NA                  & NA                  & NA                  & NA                  & NA                  & NA                  & NA                 \\\\\n",
       "\t 6                   & 1                   & 1                   & 2008/2009           & 1                   & 2008-09-24 00:00:00 & 492478              &  8203               & 8342                & 1                   & ...                 & NA                  & NA                  & NA                  & NA                  & NA                  & NA                  & NA                  & NA                  & NA                  & NA                 \\\\\n",
       "\\end{tabular}\n"
      ],
      "text/markdown": [
       "\n",
       "id | country_id | league_id | season | stage | date | match_api_id | home_team_api_id | away_team_api_id | home_team_goal | ... | away_player_10 | away_player_11 | goal | shoton | shotoff | foulcommit | card | cross | corner | possession | \n",
       "|---|---|---|---|---|---|\n",
       "| 1                   | 1                   | 1                   | 2008/2009           | 1                   | 2008-08-17 00:00:00 | 492473              |  9987               | 9993                | 1                   | ...                 | NA                  | NA                  | NA                  | NA                  | NA                  | NA                  | NA                  | NA                  | NA                  | NA                  | \n",
       "| 2                   | 1                   | 1                   | 2008/2009           | 1                   | 2008-08-16 00:00:00 | 492474              | 10000               | 9994                | 0                   | ...                 | NA                  | NA                  | NA                  | NA                  | NA                  | NA                  | NA                  | NA                  | NA                  | NA                  | \n",
       "| 3                   | 1                   | 1                   | 2008/2009           | 1                   | 2008-08-16 00:00:00 | 492475              |  9984               | 8635                | 0                   | ...                 | NA                  | NA                  | NA                  | NA                  | NA                  | NA                  | NA                  | NA                  | NA                  | NA                  | \n",
       "| 4                   | 1                   | 1                   | 2008/2009           | 1                   | 2008-08-17 00:00:00 | 492476              |  9991               | 9998                | 5                   | ...                 | NA                  | NA                  | NA                  | NA                  | NA                  | NA                  | NA                  | NA                  | NA                  | NA                  | \n",
       "| 5                   | 1                   | 1                   | 2008/2009           | 1                   | 2008-08-16 00:00:00 | 492477              |  7947               | 9985                | 1                   | ...                 | NA                  | NA                  | NA                  | NA                  | NA                  | NA                  | NA                  | NA                  | NA                  | NA                  | \n",
       "| 6                   | 1                   | 1                   | 2008/2009           | 1                   | 2008-09-24 00:00:00 | 492478              |  8203               | 8342                | 1                   | ...                 | NA                  | NA                  | NA                  | NA                  | NA                  | NA                  | NA                  | NA                  | NA                  | NA                  | \n",
       "\n",
       "\n"
      ],
      "text/plain": [
       "  id country_id league_id season    stage date                match_api_id\n",
       "1 1  1          1         2008/2009 1     2008-08-17 00:00:00 492473      \n",
       "2 2  1          1         2008/2009 1     2008-08-16 00:00:00 492474      \n",
       "3 3  1          1         2008/2009 1     2008-08-16 00:00:00 492475      \n",
       "4 4  1          1         2008/2009 1     2008-08-17 00:00:00 492476      \n",
       "5 5  1          1         2008/2009 1     2008-08-16 00:00:00 492477      \n",
       "6 6  1          1         2008/2009 1     2008-09-24 00:00:00 492478      \n",
       "  home_team_api_id away_team_api_id home_team_goal ... away_player_10\n",
       "1  9987            9993             1              ... NA            \n",
       "2 10000            9994             0              ... NA            \n",
       "3  9984            8635             0              ... NA            \n",
       "4  9991            9998             5              ... NA            \n",
       "5  7947            9985             1              ... NA            \n",
       "6  8203            8342             1              ... NA            \n",
       "  away_player_11 goal shoton shotoff foulcommit card cross corner possession\n",
       "1 NA             NA   NA     NA      NA         NA   NA    NA     NA        \n",
       "2 NA             NA   NA     NA      NA         NA   NA    NA     NA        \n",
       "3 NA             NA   NA     NA      NA         NA   NA    NA     NA        \n",
       "4 NA             NA   NA     NA      NA         NA   NA    NA     NA        \n",
       "5 NA             NA   NA     NA      NA         NA   NA    NA     NA        \n",
       "6 NA             NA   NA     NA      NA         NA   NA    NA     NA        "
      ]
     },
     "metadata": {},
     "output_type": "display_data"
    },
    {
     "data": {
      "text/html": [
       "<table>\n",
       "<thead><tr><th scope=col>player_api_id</th><th scope=col>max_gk</th><th scope=col>max_rating</th><th scope=col>player_name</th></tr></thead>\n",
       "<tbody>\n",
       "\t<tr><td>30717           </td><td>449             </td><td>93              </td><td>Gianluigi Buffon</td></tr>\n",
       "\t<tr><td>39989           </td><td>447             </td><td>92              </td><td>Gregory Coupet  </td></tr>\n",
       "\t<tr><td>30859           </td><td>445             </td><td>89              </td><td>Petr Cech       </td></tr>\n",
       "\t<tr><td>30657           </td><td>442             </td><td>91              </td><td>Iker Casillas   </td></tr>\n",
       "\t<tr><td>27299           </td><td>440             </td><td>90              </td><td>Manuel Neuer    </td></tr>\n",
       "\t<tr><td>30989           </td><td>438             </td><td>89              </td><td>Julio Cesar     </td></tr>\n",
       "</tbody>\n",
       "</table>\n"
      ],
      "text/latex": [
       "\\begin{tabular}{r|llll}\n",
       " player\\_api\\_id & max\\_gk & max\\_rating & player\\_name\\\\\n",
       "\\hline\n",
       "\t 30717            & 449              & 93               & Gianluigi Buffon\\\\\n",
       "\t 39989            & 447              & 92               & Gregory Coupet  \\\\\n",
       "\t 30859            & 445              & 89               & Petr Cech       \\\\\n",
       "\t 30657            & 442              & 91               & Iker Casillas   \\\\\n",
       "\t 27299            & 440              & 90               & Manuel Neuer    \\\\\n",
       "\t 30989            & 438              & 89               & Julio Cesar     \\\\\n",
       "\\end{tabular}\n"
      ],
      "text/markdown": [
       "\n",
       "player_api_id | max_gk | max_rating | player_name | \n",
       "|---|---|---|---|---|---|\n",
       "| 30717            | 449              | 93               | Gianluigi Buffon | \n",
       "| 39989            | 447              | 92               | Gregory Coupet   | \n",
       "| 30859            | 445              | 89               | Petr Cech        | \n",
       "| 30657            | 442              | 91               | Iker Casillas    | \n",
       "| 27299            | 440              | 90               | Manuel Neuer     | \n",
       "| 30989            | 438              | 89               | Julio Cesar      | \n",
       "\n",
       "\n"
      ],
      "text/plain": [
       "  player_api_id max_gk max_rating player_name     \n",
       "1 30717         449    93         Gianluigi Buffon\n",
       "2 39989         447    92         Gregory Coupet  \n",
       "3 30859         445    89         Petr Cech       \n",
       "4 30657         442    91         Iker Casillas   \n",
       "5 27299         440    90         Manuel Neuer    \n",
       "6 30989         438    89         Julio Cesar     "
      ]
     },
     "metadata": {},
     "output_type": "display_data"
    }
   ],
   "source": [
    "#Filter only the required columns from the dataframes\n",
    "#reference : Kaggle discussion\n",
    "Country=rename(Country, country_id = id,country_name=name) #Filter country dataframe\n",
    "League = select(League, country_id, name)                  #Filter League dataframe\n",
    "League=rename(League,League_name=name)                     #Rename name column to avoid ambiguity\n",
    "head(Country)\n",
    "head(League)\n",
    "Team = select(Team, team_api_id, team_long_name, team_short_name) \n",
    "head(Team)\n",
    "Match = select(Match, id, country_id, league_id, season, stage, date, match_api_id, home_team_api_id, away_team_api_id, home_team_goal, away_team_goal, home_player_1, home_player_2, home_player_3, home_player_4, home_player_5, home_player_6, home_player_7, home_player_8, home_player_9, home_player_10, home_player_11, away_player_1, away_player_2, away_player_3, away_player_4, away_player_5, away_player_6, away_player_7, away_player_8, away_player_9, away_player_10, away_player_11, goal, shoton, shotoff, foulcommit, card, cross, corner, possession)\n",
    "head(Match)\n",
    "head(Player)"
   ]
  },
  {
   "cell_type": "markdown",
   "metadata": {},
   "source": [
    "7: Combining all the attributes to match_sublime table <br/>\n",
    " Mapping team api id to player api id<br\\>\n",
    "If player is home player , copy away api id else copy home api id."
   ]
  },
  {
   "cell_type": "code",
   "execution_count": 8,
   "metadata": {
    "collapsed": false,
    "scrolled": false
   },
   "outputs": [
    {
     "data": {
      "text/html": [
       "<table>\n",
       "<thead><tr><th scope=col>home_player_1</th><th scope=col>home_player_2</th><th scope=col>home_player_3</th><th scope=col>home_player_4</th><th scope=col>home_player_5</th><th scope=col>home_player_6</th><th scope=col>home_player_7</th><th scope=col>home_player_8</th><th scope=col>home_player_9</th><th scope=col>home_player_10</th><th scope=col>...</th><th scope=col>away_player_2</th><th scope=col>away_player_3</th><th scope=col>away_player_4</th><th scope=col>away_player_5</th><th scope=col>away_player_6</th><th scope=col>away_player_7</th><th scope=col>away_player_8</th><th scope=col>away_player_9</th><th scope=col>away_player_10</th><th scope=col>away_player_11</th></tr></thead>\n",
       "<tbody>\n",
       "\t<tr><td>NA </td><td>NA </td><td>NA </td><td>NA </td><td>NA </td><td>NA </td><td>NA </td><td>NA </td><td>NA </td><td>NA </td><td>...</td><td>NA </td><td>NA </td><td>NA </td><td>NA </td><td>NA </td><td>NA </td><td>NA </td><td>NA </td><td>NA </td><td>NA </td></tr>\n",
       "\t<tr><td>NA </td><td>NA </td><td>NA </td><td>NA </td><td>NA </td><td>NA </td><td>NA </td><td>NA </td><td>NA </td><td>NA </td><td>...</td><td>NA </td><td>NA </td><td>NA </td><td>NA </td><td>NA </td><td>NA </td><td>NA </td><td>NA </td><td>NA </td><td>NA </td></tr>\n",
       "\t<tr><td>NA </td><td>NA </td><td>NA </td><td>NA </td><td>NA </td><td>NA </td><td>NA </td><td>NA </td><td>NA </td><td>NA </td><td>...</td><td>NA </td><td>NA </td><td>NA </td><td>NA </td><td>NA </td><td>NA </td><td>NA </td><td>NA </td><td>NA </td><td>NA </td></tr>\n",
       "\t<tr><td>NA </td><td>NA </td><td>NA </td><td>NA </td><td>NA </td><td>NA </td><td>NA </td><td>NA </td><td>NA </td><td>NA </td><td>...</td><td>NA </td><td>NA </td><td>NA </td><td>NA </td><td>NA </td><td>NA </td><td>NA </td><td>NA </td><td>NA </td><td>NA </td></tr>\n",
       "\t<tr><td>NA </td><td>NA </td><td>NA </td><td>NA </td><td>NA </td><td>NA </td><td>NA </td><td>NA </td><td>NA </td><td>NA </td><td>...</td><td>NA </td><td>NA </td><td>NA </td><td>NA </td><td>NA </td><td>NA </td><td>NA </td><td>NA </td><td>NA </td><td>NA </td></tr>\n",
       "\t<tr><td>NA </td><td>NA </td><td>NA </td><td>NA </td><td>NA </td><td>NA </td><td>NA </td><td>NA </td><td>NA </td><td>NA </td><td>...</td><td>NA </td><td>NA </td><td>NA </td><td>NA </td><td>NA </td><td>NA </td><td>NA </td><td>NA </td><td>NA </td><td>NA </td></tr>\n",
       "</tbody>\n",
       "</table>\n"
      ],
      "text/latex": [
       "\\begin{tabular}{r|llllllllllllllllllllll}\n",
       " home\\_player\\_1 & home\\_player\\_2 & home\\_player\\_3 & home\\_player\\_4 & home\\_player\\_5 & home\\_player\\_6 & home\\_player\\_7 & home\\_player\\_8 & home\\_player\\_9 & home\\_player\\_10 & ... & away\\_player\\_2 & away\\_player\\_3 & away\\_player\\_4 & away\\_player\\_5 & away\\_player\\_6 & away\\_player\\_7 & away\\_player\\_8 & away\\_player\\_9 & away\\_player\\_10 & away\\_player\\_11\\\\\n",
       "\\hline\n",
       "\t NA  & NA  & NA  & NA  & NA  & NA  & NA  & NA  & NA  & NA  & ... & NA  & NA  & NA  & NA  & NA  & NA  & NA  & NA  & NA  & NA \\\\\n",
       "\t NA  & NA  & NA  & NA  & NA  & NA  & NA  & NA  & NA  & NA  & ... & NA  & NA  & NA  & NA  & NA  & NA  & NA  & NA  & NA  & NA \\\\\n",
       "\t NA  & NA  & NA  & NA  & NA  & NA  & NA  & NA  & NA  & NA  & ... & NA  & NA  & NA  & NA  & NA  & NA  & NA  & NA  & NA  & NA \\\\\n",
       "\t NA  & NA  & NA  & NA  & NA  & NA  & NA  & NA  & NA  & NA  & ... & NA  & NA  & NA  & NA  & NA  & NA  & NA  & NA  & NA  & NA \\\\\n",
       "\t NA  & NA  & NA  & NA  & NA  & NA  & NA  & NA  & NA  & NA  & ... & NA  & NA  & NA  & NA  & NA  & NA  & NA  & NA  & NA  & NA \\\\\n",
       "\t NA  & NA  & NA  & NA  & NA  & NA  & NA  & NA  & NA  & NA  & ... & NA  & NA  & NA  & NA  & NA  & NA  & NA  & NA  & NA  & NA \\\\\n",
       "\\end{tabular}\n"
      ],
      "text/markdown": [
       "\n",
       "home_player_1 | home_player_2 | home_player_3 | home_player_4 | home_player_5 | home_player_6 | home_player_7 | home_player_8 | home_player_9 | home_player_10 | ... | away_player_2 | away_player_3 | away_player_4 | away_player_5 | away_player_6 | away_player_7 | away_player_8 | away_player_9 | away_player_10 | away_player_11 | \n",
       "|---|---|---|---|---|---|\n",
       "| NA  | NA  | NA  | NA  | NA  | NA  | NA  | NA  | NA  | NA  | ... | NA  | NA  | NA  | NA  | NA  | NA  | NA  | NA  | NA  | NA  | \n",
       "| NA  | NA  | NA  | NA  | NA  | NA  | NA  | NA  | NA  | NA  | ... | NA  | NA  | NA  | NA  | NA  | NA  | NA  | NA  | NA  | NA  | \n",
       "| NA  | NA  | NA  | NA  | NA  | NA  | NA  | NA  | NA  | NA  | ... | NA  | NA  | NA  | NA  | NA  | NA  | NA  | NA  | NA  | NA  | \n",
       "| NA  | NA  | NA  | NA  | NA  | NA  | NA  | NA  | NA  | NA  | ... | NA  | NA  | NA  | NA  | NA  | NA  | NA  | NA  | NA  | NA  | \n",
       "| NA  | NA  | NA  | NA  | NA  | NA  | NA  | NA  | NA  | NA  | ... | NA  | NA  | NA  | NA  | NA  | NA  | NA  | NA  | NA  | NA  | \n",
       "| NA  | NA  | NA  | NA  | NA  | NA  | NA  | NA  | NA  | NA  | ... | NA  | NA  | NA  | NA  | NA  | NA  | NA  | NA  | NA  | NA  | \n",
       "\n",
       "\n"
      ],
      "text/plain": [
       "  home_player_1 home_player_2 home_player_3 home_player_4 home_player_5\n",
       "1 NA            NA            NA            NA            NA           \n",
       "2 NA            NA            NA            NA            NA           \n",
       "3 NA            NA            NA            NA            NA           \n",
       "4 NA            NA            NA            NA            NA           \n",
       "5 NA            NA            NA            NA            NA           \n",
       "6 NA            NA            NA            NA            NA           \n",
       "  home_player_6 home_player_7 home_player_8 home_player_9 home_player_10 ...\n",
       "1 NA            NA            NA            NA            NA             ...\n",
       "2 NA            NA            NA            NA            NA             ...\n",
       "3 NA            NA            NA            NA            NA             ...\n",
       "4 NA            NA            NA            NA            NA             ...\n",
       "5 NA            NA            NA            NA            NA             ...\n",
       "6 NA            NA            NA            NA            NA             ...\n",
       "  away_player_2 away_player_3 away_player_4 away_player_5 away_player_6\n",
       "1 NA            NA            NA            NA            NA           \n",
       "2 NA            NA            NA            NA            NA           \n",
       "3 NA            NA            NA            NA            NA           \n",
       "4 NA            NA            NA            NA            NA           \n",
       "5 NA            NA            NA            NA            NA           \n",
       "6 NA            NA            NA            NA            NA           \n",
       "  away_player_7 away_player_8 away_player_9 away_player_10 away_player_11\n",
       "1 NA            NA            NA            NA             NA            \n",
       "2 NA            NA            NA            NA             NA            \n",
       "3 NA            NA            NA            NA             NA            \n",
       "4 NA            NA            NA            NA             NA            \n",
       "5 NA            NA            NA            NA             NA            \n",
       "6 NA            NA            NA            NA             NA            "
      ]
     },
     "metadata": {},
     "output_type": "display_data"
    },
    {
     "data": {
      "text/html": [
       "<table>\n",
       "<thead><tr><th scope=col>id</th><th scope=col>country_id</th><th scope=col>league_id</th><th scope=col>season</th><th scope=col>stage</th><th scope=col>date</th><th scope=col>match_api_id</th><th scope=col>home_team_api_id</th><th scope=col>away_team_api_id</th><th scope=col>home_team_goal</th><th scope=col>away_team_goal</th></tr></thead>\n",
       "<tbody>\n",
       "\t<tr><td>1                  </td><td>1                  </td><td>1                  </td><td>2008/2009          </td><td>1                  </td><td>2008-08-17 00:00:00</td><td>492473             </td><td> 9987              </td><td>9993               </td><td>1                  </td><td>1                  </td></tr>\n",
       "\t<tr><td>2                  </td><td>1                  </td><td>1                  </td><td>2008/2009          </td><td>1                  </td><td>2008-08-16 00:00:00</td><td>492474             </td><td>10000              </td><td>9994               </td><td>0                  </td><td>0                  </td></tr>\n",
       "\t<tr><td>3                  </td><td>1                  </td><td>1                  </td><td>2008/2009          </td><td>1                  </td><td>2008-08-16 00:00:00</td><td>492475             </td><td> 9984              </td><td>8635               </td><td>0                  </td><td>3                  </td></tr>\n",
       "\t<tr><td>4                  </td><td>1                  </td><td>1                  </td><td>2008/2009          </td><td>1                  </td><td>2008-08-17 00:00:00</td><td>492476             </td><td> 9991              </td><td>9998               </td><td>5                  </td><td>0                  </td></tr>\n",
       "\t<tr><td>5                  </td><td>1                  </td><td>1                  </td><td>2008/2009          </td><td>1                  </td><td>2008-08-16 00:00:00</td><td>492477             </td><td> 7947              </td><td>9985               </td><td>1                  </td><td>3                  </td></tr>\n",
       "\t<tr><td>6                  </td><td>1                  </td><td>1                  </td><td>2008/2009          </td><td>1                  </td><td>2008-09-24 00:00:00</td><td>492478             </td><td> 8203              </td><td>8342               </td><td>1                  </td><td>1                  </td></tr>\n",
       "</tbody>\n",
       "</table>\n"
      ],
      "text/latex": [
       "\\begin{tabular}{r|lllllllllll}\n",
       " id & country\\_id & league\\_id & season & stage & date & match\\_api\\_id & home\\_team\\_api\\_id & away\\_team\\_api\\_id & home\\_team\\_goal & away\\_team\\_goal\\\\\n",
       "\\hline\n",
       "\t 1                   & 1                   & 1                   & 2008/2009           & 1                   & 2008-08-17 00:00:00 & 492473              &  9987               & 9993                & 1                   & 1                  \\\\\n",
       "\t 2                   & 1                   & 1                   & 2008/2009           & 1                   & 2008-08-16 00:00:00 & 492474              & 10000               & 9994                & 0                   & 0                  \\\\\n",
       "\t 3                   & 1                   & 1                   & 2008/2009           & 1                   & 2008-08-16 00:00:00 & 492475              &  9984               & 8635                & 0                   & 3                  \\\\\n",
       "\t 4                   & 1                   & 1                   & 2008/2009           & 1                   & 2008-08-17 00:00:00 & 492476              &  9991               & 9998                & 5                   & 0                  \\\\\n",
       "\t 5                   & 1                   & 1                   & 2008/2009           & 1                   & 2008-08-16 00:00:00 & 492477              &  7947               & 9985                & 1                   & 3                  \\\\\n",
       "\t 6                   & 1                   & 1                   & 2008/2009           & 1                   & 2008-09-24 00:00:00 & 492478              &  8203               & 8342                & 1                   & 1                  \\\\\n",
       "\\end{tabular}\n"
      ],
      "text/markdown": [
       "\n",
       "id | country_id | league_id | season | stage | date | match_api_id | home_team_api_id | away_team_api_id | home_team_goal | away_team_goal | \n",
       "|---|---|---|---|---|---|\n",
       "| 1                   | 1                   | 1                   | 2008/2009           | 1                   | 2008-08-17 00:00:00 | 492473              |  9987               | 9993                | 1                   | 1                   | \n",
       "| 2                   | 1                   | 1                   | 2008/2009           | 1                   | 2008-08-16 00:00:00 | 492474              | 10000               | 9994                | 0                   | 0                   | \n",
       "| 3                   | 1                   | 1                   | 2008/2009           | 1                   | 2008-08-16 00:00:00 | 492475              |  9984               | 8635                | 0                   | 3                   | \n",
       "| 4                   | 1                   | 1                   | 2008/2009           | 1                   | 2008-08-17 00:00:00 | 492476              |  9991               | 9998                | 5                   | 0                   | \n",
       "| 5                   | 1                   | 1                   | 2008/2009           | 1                   | 2008-08-16 00:00:00 | 492477              |  7947               | 9985                | 1                   | 3                   | \n",
       "| 6                   | 1                   | 1                   | 2008/2009           | 1                   | 2008-09-24 00:00:00 | 492478              |  8203               | 8342                | 1                   | 1                   | \n",
       "\n",
       "\n"
      ],
      "text/plain": [
       "  id country_id league_id season    stage date                match_api_id\n",
       "1 1  1          1         2008/2009 1     2008-08-17 00:00:00 492473      \n",
       "2 2  1          1         2008/2009 1     2008-08-16 00:00:00 492474      \n",
       "3 3  1          1         2008/2009 1     2008-08-16 00:00:00 492475      \n",
       "4 4  1          1         2008/2009 1     2008-08-17 00:00:00 492476      \n",
       "5 5  1          1         2008/2009 1     2008-08-16 00:00:00 492477      \n",
       "6 6  1          1         2008/2009 1     2008-09-24 00:00:00 492478      \n",
       "  home_team_api_id away_team_api_id home_team_goal away_team_goal\n",
       "1  9987            9993             1              1             \n",
       "2 10000            9994             0              0             \n",
       "3  9984            8635             0              3             \n",
       "4  9991            9998             5              0             \n",
       "5  7947            9985             1              3             \n",
       "6  8203            8342             1              1             "
      ]
     },
     "metadata": {},
     "output_type": "display_data"
    },
    {
     "data": {
      "text/html": [
       "<table>\n",
       "<thead><tr><th scope=col>id</th><th scope=col>country_id</th><th scope=col>league_id</th><th scope=col>season</th><th scope=col>stage</th><th scope=col>date</th><th scope=col>match_api_id</th><th scope=col>home_team_api_id</th><th scope=col>away_team_api_id</th><th scope=col>home_team_goal</th><th scope=col>away_team_goal</th><th scope=col>variable</th><th scope=col>player_api_id</th><th scope=col>team_api_id</th></tr></thead>\n",
       "<tbody>\n",
       "\t<tr><td>145                </td><td>1                  </td><td>1                  </td><td>2008/2009          </td><td>24                 </td><td>2009-02-28 00:00:00</td><td>493016             </td><td>9996               </td><td>8635               </td><td>1                  </td><td>1                  </td><td>home_player_1      </td><td>39890              </td><td>9996               </td></tr>\n",
       "\t<tr><td>146                </td><td>1                  </td><td>1                  </td><td>2008/2009          </td><td>24                 </td><td>2009-02-27 00:00:00</td><td>493017             </td><td>8203               </td><td>9987               </td><td>2                  </td><td>1                  </td><td>home_player_1      </td><td>38327              </td><td>8203               </td></tr>\n",
       "\t<tr><td>147                </td><td>1                  </td><td>1                  </td><td>2008/2009          </td><td>24                 </td><td>2009-02-28 00:00:00</td><td>493018             </td><td>9986               </td><td>9998               </td><td>3                  </td><td>0                  </td><td>home_player_1      </td><td>95597              </td><td>9986               </td></tr>\n",
       "\t<tr><td>149                </td><td>1                  </td><td>1                  </td><td>2008/2009          </td><td>24                 </td><td>2009-03-01 00:00:00</td><td>493020             </td><td>9994               </td><td>9991               </td><td>0                  </td><td>1                  </td><td>home_player_1      </td><td>30934              </td><td>9994               </td></tr>\n",
       "\t<tr><td>150                </td><td>1                  </td><td>1                  </td><td>2008/2009          </td><td>24                 </td><td>2009-02-28 00:00:00</td><td>493021             </td><td>8342               </td><td>9999               </td><td>2                  </td><td>1                  </td><td>home_player_1      </td><td>37990              </td><td>8342               </td></tr>\n",
       "\t<tr><td>151                </td><td>1                  </td><td>1                  </td><td>2008/2009          </td><td>24                 </td><td>2009-02-28 00:00:00</td><td>493022             </td><td>9993               </td><td>8571               </td><td>3                  </td><td>0                  </td><td>home_player_1      </td><td>38391              </td><td>9993               </td></tr>\n",
       "</tbody>\n",
       "</table>\n"
      ],
      "text/latex": [
       "\\begin{tabular}{r|llllllllllllll}\n",
       " id & country\\_id & league\\_id & season & stage & date & match\\_api\\_id & home\\_team\\_api\\_id & away\\_team\\_api\\_id & home\\_team\\_goal & away\\_team\\_goal & variable & player\\_api\\_id & team\\_api\\_id\\\\\n",
       "\\hline\n",
       "\t 145                 & 1                   & 1                   & 2008/2009           & 24                  & 2009-02-28 00:00:00 & 493016              & 9996                & 8635                & 1                   & 1                   & home\\_player\\_1   & 39890               & 9996               \\\\\n",
       "\t 146                 & 1                   & 1                   & 2008/2009           & 24                  & 2009-02-27 00:00:00 & 493017              & 8203                & 9987                & 2                   & 1                   & home\\_player\\_1   & 38327               & 8203               \\\\\n",
       "\t 147                 & 1                   & 1                   & 2008/2009           & 24                  & 2009-02-28 00:00:00 & 493018              & 9986                & 9998                & 3                   & 0                   & home\\_player\\_1   & 95597               & 9986               \\\\\n",
       "\t 149                 & 1                   & 1                   & 2008/2009           & 24                  & 2009-03-01 00:00:00 & 493020              & 9994                & 9991                & 0                   & 1                   & home\\_player\\_1   & 30934               & 9994               \\\\\n",
       "\t 150                 & 1                   & 1                   & 2008/2009           & 24                  & 2009-02-28 00:00:00 & 493021              & 8342                & 9999                & 2                   & 1                   & home\\_player\\_1   & 37990               & 8342               \\\\\n",
       "\t 151                 & 1                   & 1                   & 2008/2009           & 24                  & 2009-02-28 00:00:00 & 493022              & 9993                & 8571                & 3                   & 0                   & home\\_player\\_1   & 38391               & 9993               \\\\\n",
       "\\end{tabular}\n"
      ],
      "text/markdown": [
       "\n",
       "id | country_id | league_id | season | stage | date | match_api_id | home_team_api_id | away_team_api_id | home_team_goal | away_team_goal | variable | player_api_id | team_api_id | \n",
       "|---|---|---|---|---|---|\n",
       "| 145                 | 1                   | 1                   | 2008/2009           | 24                  | 2009-02-28 00:00:00 | 493016              | 9996                | 8635                | 1                   | 1                   | home_player_1       | 39890               | 9996                | \n",
       "| 146                 | 1                   | 1                   | 2008/2009           | 24                  | 2009-02-27 00:00:00 | 493017              | 8203                | 9987                | 2                   | 1                   | home_player_1       | 38327               | 8203                | \n",
       "| 147                 | 1                   | 1                   | 2008/2009           | 24                  | 2009-02-28 00:00:00 | 493018              | 9986                | 9998                | 3                   | 0                   | home_player_1       | 95597               | 9986                | \n",
       "| 149                 | 1                   | 1                   | 2008/2009           | 24                  | 2009-03-01 00:00:00 | 493020              | 9994                | 9991                | 0                   | 1                   | home_player_1       | 30934               | 9994                | \n",
       "| 150                 | 1                   | 1                   | 2008/2009           | 24                  | 2009-02-28 00:00:00 | 493021              | 8342                | 9999                | 2                   | 1                   | home_player_1       | 37990               | 8342                | \n",
       "| 151                 | 1                   | 1                   | 2008/2009           | 24                  | 2009-02-28 00:00:00 | 493022              | 9993                | 8571                | 3                   | 0                   | home_player_1       | 38391               | 9993                | \n",
       "\n",
       "\n"
      ],
      "text/plain": [
       "  id  country_id league_id season    stage date                match_api_id\n",
       "1 145 1          1         2008/2009 24    2009-02-28 00:00:00 493016      \n",
       "2 146 1          1         2008/2009 24    2009-02-27 00:00:00 493017      \n",
       "3 147 1          1         2008/2009 24    2009-02-28 00:00:00 493018      \n",
       "4 149 1          1         2008/2009 24    2009-03-01 00:00:00 493020      \n",
       "5 150 1          1         2008/2009 24    2009-02-28 00:00:00 493021      \n",
       "6 151 1          1         2008/2009 24    2009-02-28 00:00:00 493022      \n",
       "  home_team_api_id away_team_api_id home_team_goal away_team_goal variable     \n",
       "1 9996             8635             1              1              home_player_1\n",
       "2 8203             9987             2              1              home_player_1\n",
       "3 9986             9998             3              0              home_player_1\n",
       "4 9994             9991             0              1              home_player_1\n",
       "5 8342             9999             2              1              home_player_1\n",
       "6 9993             8571             3              0              home_player_1\n",
       "  player_api_id team_api_id\n",
       "1 39890         9996       \n",
       "2 38327         8203       \n",
       "3 95597         9986       \n",
       "4 30934         9994       \n",
       "5 37990         8342       \n",
       "6 38391         9993       "
      ]
     },
     "metadata": {},
     "output_type": "display_data"
    }
   ],
   "source": [
    "head(Match[,12:33])\n",
    "head(Match[,1:11])\n",
    "match_sublime <-melt(Match,id = c(1:11), measure=c(12:33),na.rm = TRUE, value.name = \"player_api_id\")  \n",
    "# 1:11 match attributes and 12:33 id of the 22 players\n",
    "#melting both so as to represent them in single column\n",
    "match_sublime=mutate(match_sublime,team_api_id=ifelse(grepl(\"home\",variable),home_team_api_id,\n",
    "                            ifelse(grepl(\"away\",variable),away_team_api_id,NA)))\n",
    "head(match_sublime)"
   ]
  },
  {
   "cell_type": "markdown",
   "metadata": {},
   "source": [
    "8: Mapping team api id to player api id<br\\>\n",
    "If player is home player , copy away api id else copy home api id."
   ]
  },
  {
   "cell_type": "code",
   "execution_count": 9,
   "metadata": {
    "collapsed": false
   },
   "outputs": [],
   "source": [
    "#Reference: Kaggle discussion\n",
    "match_sublime_alljoin=left_join(match_sublime,Team, by = \"team_api_id\")%>%\n",
    "left_join(Player, by = \"player_api_id\") %>% # adding team to each player\n",
    "left_join(Country, by = \"country_id\") %>% # adding country attributes\n",
    "left_join(League, by = \"country_id\") # adding league attributes"
   ]
  },
  {
   "cell_type": "code",
   "execution_count": 10,
   "metadata": {
    "collapsed": false,
    "scrolled": true
   },
   "outputs": [
    {
     "data": {
      "text/html": [
       "<table>\n",
       "<thead><tr><th></th><th scope=col>id</th><th scope=col>country_id</th><th scope=col>league_id</th><th scope=col>season</th><th scope=col>stage</th><th scope=col>date</th><th scope=col>match_api_id</th><th scope=col>home_team_api_id</th><th scope=col>away_team_api_id</th><th scope=col>home_team_goal</th><th scope=col>...</th><th scope=col>variable</th><th scope=col>player_api_id</th><th scope=col>team_api_id</th><th scope=col>team_long_name</th><th scope=col>team_short_name</th><th scope=col>max_gk</th><th scope=col>max_rating</th><th scope=col>player_name</th><th scope=col>country_name</th><th scope=col>League_name</th></tr></thead>\n",
       "<tbody>\n",
       "\t<tr><th scope=row>542276</th><td>25974                   </td><td>24558                   </td><td>24558                   </td><td>2015/2016               </td><td>8                       </td><td>2015-09-13 00:00:00     </td><td>1992090                 </td><td>10179                   </td><td> 7896                   </td><td>3                       </td><td>...                     </td><td>away_player_11          </td><td>178142                  </td><td> 7896                   </td><td>Lugano                  </td><td>LUG                     </td><td> 55                     </td><td>62                      </td><td>Mattia Bottani          </td><td>Switzerland             </td><td>Switzerland Super League</td></tr>\n",
       "\t<tr><th scope=row>542277</th><td>25975                   </td><td>24558                   </td><td>24558                   </td><td>2015/2016               </td><td>9                       </td><td>2015-09-22 00:00:00     </td><td>1992091                 </td><td>10190                   </td><td>10191                   </td><td>1                       </td><td>...                     </td><td>away_player_11          </td><td>289732                  </td><td>10191                   </td><td>FC Thun                 </td><td>THU                     </td><td> 45                     </td><td>67                      </td><td>Roman Buess             </td><td>Switzerland             </td><td>Switzerland Super League</td></tr>\n",
       "\t<tr><th scope=row>542278</th><td>25976                   </td><td>24558                   </td><td>24558                   </td><td>2015/2016               </td><td>9                       </td><td>2015-09-23 00:00:00     </td><td>1992092                 </td><td> 9824                   </td><td>10199                   </td><td>1                       </td><td>...                     </td><td>away_player_11          </td><td> 95257                  </td><td>10199                   </td><td>FC Luzern               </td><td>LUZ                     </td><td>145                     </td><td>73                      </td><td>Jakob Jantscher         </td><td>Switzerland             </td><td>Switzerland Super League</td></tr>\n",
       "\t<tr><th scope=row>542279</th><td>25977                   </td><td>24558                   </td><td>24558                   </td><td>2015/2016               </td><td>9                       </td><td>2015-09-23 00:00:00     </td><td>1992093                 </td><td> 9956                   </td><td>10179                   </td><td>2                       </td><td>...                     </td><td>away_player_11          </td><td>275122                  </td><td>10179                   </td><td>FC Sion                 </td><td>SIO                     </td><td> 44                     </td><td>73                      </td><td>Moussa Konate           </td><td>Switzerland             </td><td>Switzerland Super League</td></tr>\n",
       "\t<tr><th scope=row>542280</th><td>25978                   </td><td>24558                   </td><td>24558                   </td><td>2015/2016               </td><td>9                       </td><td>2015-09-22 00:00:00     </td><td>1992094                 </td><td> 7896                   </td><td>10243                   </td><td>0                       </td><td>...                     </td><td>away_player_11          </td><td>194532                  </td><td>10243                   </td><td>FC Zürich               </td><td>ZUR                     </td><td> 53                     </td><td>68                      </td><td>Franck Etoundi          </td><td>Switzerland             </td><td>Switzerland Super League</td></tr>\n",
       "\t<tr><th scope=row>542281</th><td>25979                   </td><td>24558                   </td><td>24558                   </td><td>2015/2016               </td><td>9                       </td><td>2015-09-23 00:00:00     </td><td>1992095                 </td><td>10192                   </td><td> 9931                   </td><td>4                       </td><td>...                     </td><td>away_player_11          </td><td>527103                  </td><td> 9931                   </td><td>FC Basel                </td><td>BAS                     </td><td> 45                     </td><td>76                      </td><td>Breel Embolo            </td><td>Switzerland             </td><td>Switzerland Super League</td></tr>\n",
       "</tbody>\n",
       "</table>\n"
      ],
      "text/latex": [
       "\\begin{tabular}{r|lllllllllllllllllllll}\n",
       "  & id & country\\_id & league\\_id & season & stage & date & match\\_api\\_id & home\\_team\\_api\\_id & away\\_team\\_api\\_id & home\\_team\\_goal & ... & variable & player\\_api\\_id & team\\_api\\_id & team\\_long\\_name & team\\_short\\_name & max\\_gk & max\\_rating & player\\_name & country\\_name & League\\_name\\\\\n",
       "\\hline\n",
       "\t542276 & 25974                    & 24558                    & 24558                    & 2015/2016                & 8                        & 2015-09-13 00:00:00      & 1992090                  & 10179                    &  7896                    & 3                        & ...                      & away\\_player\\_11       & 178142                   &  7896                    & Lugano                   & LUG                      &  55                      & 62                       & Mattia Bottani           & Switzerland              & Switzerland Super League\\\\\n",
       "\t542277 & 25975                    & 24558                    & 24558                    & 2015/2016                & 9                        & 2015-09-22 00:00:00      & 1992091                  & 10190                    & 10191                    & 1                        & ...                      & away\\_player\\_11       & 289732                   & 10191                    & FC Thun                  & THU                      &  45                      & 67                       & Roman Buess              & Switzerland              & Switzerland Super League\\\\\n",
       "\t542278 & 25976                    & 24558                    & 24558                    & 2015/2016                & 9                        & 2015-09-23 00:00:00      & 1992092                  &  9824                    & 10199                    & 1                        & ...                      & away\\_player\\_11       &  95257                   & 10199                    & FC Luzern                & LUZ                      & 145                      & 73                       & Jakob Jantscher          & Switzerland              & Switzerland Super League\\\\\n",
       "\t542279 & 25977                    & 24558                    & 24558                    & 2015/2016                & 9                        & 2015-09-23 00:00:00      & 1992093                  &  9956                    & 10179                    & 2                        & ...                      & away\\_player\\_11       & 275122                   & 10179                    & FC Sion                  & SIO                      &  44                      & 73                       & Moussa Konate            & Switzerland              & Switzerland Super League\\\\\n",
       "\t542280 & 25978                    & 24558                    & 24558                    & 2015/2016                & 9                        & 2015-09-22 00:00:00      & 1992094                  &  7896                    & 10243                    & 0                        & ...                      & away\\_player\\_11       & 194532                   & 10243                    & FC Zürich                & ZUR                      &  53                      & 68                       & Franck Etoundi           & Switzerland              & Switzerland Super League\\\\\n",
       "\t542281 & 25979                    & 24558                    & 24558                    & 2015/2016                & 9                        & 2015-09-23 00:00:00      & 1992095                  & 10192                    &  9931                    & 4                        & ...                      & away\\_player\\_11       & 527103                   &  9931                    & FC Basel                 & BAS                      &  45                      & 76                       & Breel Embolo             & Switzerland              & Switzerland Super League\\\\\n",
       "\\end{tabular}\n"
      ],
      "text/markdown": [
       "\n",
       "| <!--/--> | id | country_id | league_id | season | stage | date | match_api_id | home_team_api_id | away_team_api_id | home_team_goal | ... | variable | player_api_id | team_api_id | team_long_name | team_short_name | max_gk | max_rating | player_name | country_name | League_name | \n",
       "|---|---|---|---|---|---|\n",
       "| 542276 | 25974                    | 24558                    | 24558                    | 2015/2016                | 8                        | 2015-09-13 00:00:00      | 1992090                  | 10179                    |  7896                    | 3                        | ...                      | away_player_11           | 178142                   |  7896                    | Lugano                   | LUG                      |  55                      | 62                       | Mattia Bottani           | Switzerland              | Switzerland Super League | \n",
       "| 542277 | 25975                    | 24558                    | 24558                    | 2015/2016                | 9                        | 2015-09-22 00:00:00      | 1992091                  | 10190                    | 10191                    | 1                        | ...                      | away_player_11           | 289732                   | 10191                    | FC Thun                  | THU                      |  45                      | 67                       | Roman Buess              | Switzerland              | Switzerland Super League | \n",
       "| 542278 | 25976                    | 24558                    | 24558                    | 2015/2016                | 9                        | 2015-09-23 00:00:00      | 1992092                  |  9824                    | 10199                    | 1                        | ...                      | away_player_11           |  95257                   | 10199                    | FC Luzern                | LUZ                      | 145                      | 73                       | Jakob Jantscher          | Switzerland              | Switzerland Super League | \n",
       "| 542279 | 25977                    | 24558                    | 24558                    | 2015/2016                | 9                        | 2015-09-23 00:00:00      | 1992093                  |  9956                    | 10179                    | 2                        | ...                      | away_player_11           | 275122                   | 10179                    | FC Sion                  | SIO                      |  44                      | 73                       | Moussa Konate            | Switzerland              | Switzerland Super League | \n",
       "| 542280 | 25978                    | 24558                    | 24558                    | 2015/2016                | 9                        | 2015-09-22 00:00:00      | 1992094                  |  7896                    | 10243                    | 0                        | ...                      | away_player_11           | 194532                   | 10243                    | FC Zürich                | ZUR                      |  53                      | 68                       | Franck Etoundi           | Switzerland              | Switzerland Super League | \n",
       "| 542281 | 25979                    | 24558                    | 24558                    | 2015/2016                | 9                        | 2015-09-23 00:00:00      | 1992095                  | 10192                    |  9931                    | 4                        | ...                      | away_player_11           | 527103                   |  9931                    | FC Basel                 | BAS                      |  45                      | 76                       | Breel Embolo             | Switzerland              | Switzerland Super League | \n",
       "\n",
       "\n"
      ],
      "text/plain": [
       "       id    country_id league_id season    stage date               \n",
       "542276 25974 24558      24558     2015/2016 8     2015-09-13 00:00:00\n",
       "542277 25975 24558      24558     2015/2016 9     2015-09-22 00:00:00\n",
       "542278 25976 24558      24558     2015/2016 9     2015-09-23 00:00:00\n",
       "542279 25977 24558      24558     2015/2016 9     2015-09-23 00:00:00\n",
       "542280 25978 24558      24558     2015/2016 9     2015-09-22 00:00:00\n",
       "542281 25979 24558      24558     2015/2016 9     2015-09-23 00:00:00\n",
       "       match_api_id home_team_api_id away_team_api_id home_team_goal ...\n",
       "542276 1992090      10179             7896            3              ...\n",
       "542277 1992091      10190            10191            1              ...\n",
       "542278 1992092       9824            10199            1              ...\n",
       "542279 1992093       9956            10179            2              ...\n",
       "542280 1992094       7896            10243            0              ...\n",
       "542281 1992095      10192             9931            4              ...\n",
       "       variable       player_api_id team_api_id team_long_name team_short_name\n",
       "542276 away_player_11 178142         7896       Lugano         LUG            \n",
       "542277 away_player_11 289732        10191       FC Thun        THU            \n",
       "542278 away_player_11  95257        10199       FC Luzern      LUZ            \n",
       "542279 away_player_11 275122        10179       FC Sion        SIO            \n",
       "542280 away_player_11 194532        10243       FC Zürich      ZUR            \n",
       "542281 away_player_11 527103         9931       FC Basel       BAS            \n",
       "       max_gk max_rating player_name     country_name League_name             \n",
       "542276  55    62         Mattia Bottani  Switzerland  Switzerland Super League\n",
       "542277  45    67         Roman Buess     Switzerland  Switzerland Super League\n",
       "542278 145    73         Jakob Jantscher Switzerland  Switzerland Super League\n",
       "542279  44    73         Moussa Konate   Switzerland  Switzerland Super League\n",
       "542280  53    68         Franck Etoundi  Switzerland  Switzerland Super League\n",
       "542281  45    76         Breel Embolo    Switzerland  Switzerland Super League"
      ]
     },
     "metadata": {},
     "output_type": "display_data"
    }
   ],
   "source": [
    "tail(match_sublime_alljoin)"
   ]
  },
  {
   "cell_type": "markdown",
   "metadata": {},
   "source": [
    "9: Solution: Which are the top 10 players by number of leagues they played in?"
   ]
  },
  {
   "cell_type": "code",
   "execution_count": 11,
   "metadata": {
    "collapsed": false,
    "scrolled": true
   },
   "outputs": [
    {
     "data": {
      "text/html": [
       "<table>\n",
       "<thead><tr><th scope=col>player_api_id</th><th scope=col>totalLeaguecount</th><th scope=col>max_gk</th><th scope=col>max_rating</th><th scope=col>player_name</th></tr></thead>\n",
       "<tbody>\n",
       "\t<tr><td> 42119               </td><td>6                    </td><td> NA                  </td><td>NA                   </td><td>Gelson Fernandes     </td></tr>\n",
       "\t<tr><td>178538               </td><td>5                    </td><td>134                  </td><td>77                   </td><td>Filip Djuricic       </td></tr>\n",
       "\t<tr><td>116750               </td><td>5                    </td><td>106                  </td><td>77                   </td><td>Ricky van Wolfswinkel</td></tr>\n",
       "\t<tr><td> 30841               </td><td>4                    </td><td>424                  </td><td>85                   </td><td>Maarten Stekelenburg </td></tr>\n",
       "\t<tr><td>109060               </td><td>4                    </td><td>392                  </td><td>78                   </td><td>Sergio Romero        </td></tr>\n",
       "\t<tr><td> 38229               </td><td>4                    </td><td>181                  </td><td>82                   </td><td>Bryan Ruiz           </td></tr>\n",
       "</tbody>\n",
       "</table>\n"
      ],
      "text/latex": [
       "\\begin{tabular}{r|lllll}\n",
       " player\\_api\\_id & totalLeaguecount & max\\_gk & max\\_rating & player\\_name\\\\\n",
       "\\hline\n",
       "\t  42119                & 6                     &  NA                   & NA                    & Gelson Fernandes     \\\\\n",
       "\t 178538                & 5                     & 134                   & 77                    & Filip Djuricic       \\\\\n",
       "\t 116750                & 5                     & 106                   & 77                    & Ricky van Wolfswinkel\\\\\n",
       "\t  30841                & 4                     & 424                   & 85                    & Maarten Stekelenburg \\\\\n",
       "\t 109060                & 4                     & 392                   & 78                    & Sergio Romero        \\\\\n",
       "\t  38229                & 4                     & 181                   & 82                    & Bryan Ruiz           \\\\\n",
       "\\end{tabular}\n"
      ],
      "text/markdown": [
       "\n",
       "player_api_id | totalLeaguecount | max_gk | max_rating | player_name | \n",
       "|---|---|---|---|---|---|\n",
       "|  42119                | 6                     |  NA                   | NA                    | Gelson Fernandes      | \n",
       "| 178538                | 5                     | 134                   | 77                    | Filip Djuricic        | \n",
       "| 116750                | 5                     | 106                   | 77                    | Ricky van Wolfswinkel | \n",
       "|  30841                | 4                     | 424                   | 85                    | Maarten Stekelenburg  | \n",
       "| 109060                | 4                     | 392                   | 78                    | Sergio Romero         | \n",
       "|  38229                | 4                     | 181                   | 82                    | Bryan Ruiz            | \n",
       "\n",
       "\n"
      ],
      "text/plain": [
       "  player_api_id totalLeaguecount max_gk max_rating player_name          \n",
       "1  42119        6                 NA    NA         Gelson Fernandes     \n",
       "2 178538        5                134    77         Filip Djuricic       \n",
       "3 116750        5                106    77         Ricky van Wolfswinkel\n",
       "4  30841        4                424    85         Maarten Stekelenburg \n",
       "5 109060        4                392    78         Sergio Romero        \n",
       "6  38229        4                181    82         Bryan Ruiz           "
      ]
     },
     "metadata": {},
     "output_type": "display_data"
    }
   ],
   "source": [
    "Player=select(match_sublime_alljoin,League_name,player_api_id)%>% #select league name corresponding to player api id \n",
    "group_by(player_api_id,League_name)%>%                            #Group by player_Api_id and League Name\n",
    "summarize(oneLeaguecount=n())%>%                                  #count by league name\n",
    "group_by(player_api_id)%>%                                        #group by player api id\n",
    "summarize(totalLeaguecount=n())%>%                                #count no of leagues played by each player      \n",
    "right_join(Player, by=\"player_api_id\")%>%\n",
    "arrange(desc(totalLeaguecount))\n",
    "head(Player)"
   ]
  },
  {
   "cell_type": "markdown",
   "metadata": {},
   "source": [
    "# Q5: Which are the top 10 teams by sum of build up play attributes?"
   ]
  },
  {
   "cell_type": "code",
   "execution_count": 12,
   "metadata": {
    "collapsed": false
   },
   "outputs": [
    {
     "data": {
      "text/html": [
       "<table>\n",
       "<thead><tr><th scope=col>team_api_id</th><th scope=col>team_long_name</th><th scope=col>team_short_name</th></tr></thead>\n",
       "<tbody>\n",
       "\t<tr><td> 9987            </td><td>KRC Genk         </td><td>GEN              </td></tr>\n",
       "\t<tr><td> 9993            </td><td>Beerschot AC     </td><td>BAC              </td></tr>\n",
       "\t<tr><td>10000            </td><td>SV Zulte-Waregem </td><td>ZUL              </td></tr>\n",
       "\t<tr><td> 9994            </td><td>Sporting Lokeren </td><td>LOK              </td></tr>\n",
       "\t<tr><td> 9984            </td><td>KSV Cercle Brugge</td><td>CEB              </td></tr>\n",
       "\t<tr><td> 8635            </td><td>RSC Anderlecht   </td><td>AND              </td></tr>\n",
       "</tbody>\n",
       "</table>\n"
      ],
      "text/latex": [
       "\\begin{tabular}{r|lll}\n",
       " team\\_api\\_id & team\\_long\\_name & team\\_short\\_name\\\\\n",
       "\\hline\n",
       "\t  9987             & KRC Genk          & GEN              \\\\\n",
       "\t  9993             & Beerschot AC      & BAC              \\\\\n",
       "\t 10000             & SV Zulte-Waregem  & ZUL              \\\\\n",
       "\t  9994             & Sporting Lokeren  & LOK              \\\\\n",
       "\t  9984             & KSV Cercle Brugge & CEB              \\\\\n",
       "\t  8635             & RSC Anderlecht    & AND              \\\\\n",
       "\\end{tabular}\n"
      ],
      "text/markdown": [
       "\n",
       "team_api_id | team_long_name | team_short_name | \n",
       "|---|---|---|---|---|---|\n",
       "|  9987             | KRC Genk          | GEN               | \n",
       "|  9993             | Beerschot AC      | BAC               | \n",
       "| 10000             | SV Zulte-Waregem  | ZUL               | \n",
       "|  9994             | Sporting Lokeren  | LOK               | \n",
       "|  9984             | KSV Cercle Brugge | CEB               | \n",
       "|  8635             | RSC Anderlecht    | AND               | \n",
       "\n",
       "\n"
      ],
      "text/plain": [
       "  team_api_id team_long_name    team_short_name\n",
       "1  9987       KRC Genk          GEN            \n",
       "2  9993       Beerschot AC      BAC            \n",
       "3 10000       SV Zulte-Waregem  ZUL            \n",
       "4  9994       Sporting Lokeren  LOK            \n",
       "5  9984       KSV Cercle Brugge CEB            \n",
       "6  8635       RSC Anderlecht    AND            "
      ]
     },
     "metadata": {},
     "output_type": "display_data"
    },
    {
     "data": {
      "text/html": [
       "<table>\n",
       "<thead><tr><th scope=col>id</th><th scope=col>team_fifa_api_id</th><th scope=col>team_api_id</th><th scope=col>date</th><th scope=col>buildUpPlaySpeed</th><th scope=col>buildUpPlaySpeedClass</th><th scope=col>buildUpPlayDribbling</th><th scope=col>buildUpPlayDribblingClass</th><th scope=col>buildUpPlayPassing</th><th scope=col>buildUpPlayPassingClass</th><th scope=col>...</th><th scope=col>chanceCreationShooting</th><th scope=col>chanceCreationShootingClass</th><th scope=col>chanceCreationPositioningClass</th><th scope=col>defencePressure</th><th scope=col>defencePressureClass</th><th scope=col>defenceAggression</th><th scope=col>defenceAggressionClass</th><th scope=col>defenceTeamWidth</th><th scope=col>defenceTeamWidthClass</th><th scope=col>defenceDefenderLineClass</th></tr></thead>\n",
       "<tbody>\n",
       "\t<tr><td>1                  </td><td>434                </td><td>9930               </td><td>2010-02-22 00:00:00</td><td>60                 </td><td>Balanced           </td><td>NA                 </td><td>Little             </td><td>50                 </td><td>Mixed              </td><td>...                </td><td>55                 </td><td>Normal             </td><td>Organised          </td><td>50                 </td><td>Medium             </td><td>55                 </td><td>Press              </td><td>45                 </td><td>Normal             </td><td>Cover              </td></tr>\n",
       "\t<tr><td>2                  </td><td>434                </td><td>9930               </td><td>2014-09-19 00:00:00</td><td>52                 </td><td>Balanced           </td><td>48                 </td><td>Normal             </td><td>56                 </td><td>Mixed              </td><td>...                </td><td>64                 </td><td>Normal             </td><td>Organised          </td><td>47                 </td><td>Medium             </td><td>44                 </td><td>Press              </td><td>54                 </td><td>Normal             </td><td>Cover              </td></tr>\n",
       "\t<tr><td>3                  </td><td>434                </td><td>9930               </td><td>2015-09-10 00:00:00</td><td>47                 </td><td>Balanced           </td><td>41                 </td><td>Normal             </td><td>54                 </td><td>Mixed              </td><td>...                </td><td>64                 </td><td>Normal             </td><td>Organised          </td><td>47                 </td><td>Medium             </td><td>44                 </td><td>Press              </td><td>54                 </td><td>Normal             </td><td>Cover              </td></tr>\n",
       "\t<tr><td>4                  </td><td> 77                </td><td>8485               </td><td>2010-02-22 00:00:00</td><td>70                 </td><td>Fast               </td><td>NA                 </td><td>Little             </td><td>70                 </td><td>Long               </td><td>...                </td><td>70                 </td><td>Lots               </td><td>Organised          </td><td>60                 </td><td>Medium             </td><td>70                 </td><td>Double             </td><td>70                 </td><td>Wide               </td><td>Cover              </td></tr>\n",
       "\t<tr><td>5                  </td><td> 77                </td><td>8485               </td><td>2011-02-22 00:00:00</td><td>47                 </td><td>Balanced           </td><td>NA                 </td><td>Little             </td><td>52                 </td><td>Mixed              </td><td>...                </td><td>52                 </td><td>Normal             </td><td>Organised          </td><td>47                 </td><td>Medium             </td><td>47                 </td><td>Press              </td><td>52                 </td><td>Normal             </td><td>Cover              </td></tr>\n",
       "\t<tr><td>6                  </td><td> 77                </td><td>8485               </td><td>2012-02-22 00:00:00</td><td>58                 </td><td>Balanced           </td><td>NA                 </td><td>Little             </td><td>62                 </td><td>Mixed              </td><td>...                </td><td>55                 </td><td>Normal             </td><td>Organised          </td><td>40                 </td><td>Medium             </td><td>40                 </td><td>Press              </td><td>60                 </td><td>Normal             </td><td>Cover              </td></tr>\n",
       "</tbody>\n",
       "</table>\n"
      ],
      "text/latex": [
       "\\begin{tabular}{r|lllllllllllllllllllllllll}\n",
       " id & team\\_fifa\\_api\\_id & team\\_api\\_id & date & buildUpPlaySpeed & buildUpPlaySpeedClass & buildUpPlayDribbling & buildUpPlayDribblingClass & buildUpPlayPassing & buildUpPlayPassingClass & ... & chanceCreationShooting & chanceCreationShootingClass & chanceCreationPositioningClass & defencePressure & defencePressureClass & defenceAggression & defenceAggressionClass & defenceTeamWidth & defenceTeamWidthClass & defenceDefenderLineClass\\\\\n",
       "\\hline\n",
       "\t 1                   & 434                 & 9930                & 2010-02-22 00:00:00 & 60                  & Balanced            & NA                  & Little              & 50                  & Mixed               & ...                 & 55                  & Normal              & Organised           & 50                  & Medium              & 55                  & Press               & 45                  & Normal              & Cover              \\\\\n",
       "\t 2                   & 434                 & 9930                & 2014-09-19 00:00:00 & 52                  & Balanced            & 48                  & Normal              & 56                  & Mixed               & ...                 & 64                  & Normal              & Organised           & 47                  & Medium              & 44                  & Press               & 54                  & Normal              & Cover              \\\\\n",
       "\t 3                   & 434                 & 9930                & 2015-09-10 00:00:00 & 47                  & Balanced            & 41                  & Normal              & 54                  & Mixed               & ...                 & 64                  & Normal              & Organised           & 47                  & Medium              & 44                  & Press               & 54                  & Normal              & Cover              \\\\\n",
       "\t 4                   &  77                 & 8485                & 2010-02-22 00:00:00 & 70                  & Fast                & NA                  & Little              & 70                  & Long                & ...                 & 70                  & Lots                & Organised           & 60                  & Medium              & 70                  & Double              & 70                  & Wide                & Cover              \\\\\n",
       "\t 5                   &  77                 & 8485                & 2011-02-22 00:00:00 & 47                  & Balanced            & NA                  & Little              & 52                  & Mixed               & ...                 & 52                  & Normal              & Organised           & 47                  & Medium              & 47                  & Press               & 52                  & Normal              & Cover              \\\\\n",
       "\t 6                   &  77                 & 8485                & 2012-02-22 00:00:00 & 58                  & Balanced            & NA                  & Little              & 62                  & Mixed               & ...                 & 55                  & Normal              & Organised           & 40                  & Medium              & 40                  & Press               & 60                  & Normal              & Cover              \\\\\n",
       "\\end{tabular}\n"
      ],
      "text/markdown": [
       "\n",
       "id | team_fifa_api_id | team_api_id | date | buildUpPlaySpeed | buildUpPlaySpeedClass | buildUpPlayDribbling | buildUpPlayDribblingClass | buildUpPlayPassing | buildUpPlayPassingClass | ... | chanceCreationShooting | chanceCreationShootingClass | chanceCreationPositioningClass | defencePressure | defencePressureClass | defenceAggression | defenceAggressionClass | defenceTeamWidth | defenceTeamWidthClass | defenceDefenderLineClass | \n",
       "|---|---|---|---|---|---|\n",
       "| 1                   | 434                 | 9930                | 2010-02-22 00:00:00 | 60                  | Balanced            | NA                  | Little              | 50                  | Mixed               | ...                 | 55                  | Normal              | Organised           | 50                  | Medium              | 55                  | Press               | 45                  | Normal              | Cover               | \n",
       "| 2                   | 434                 | 9930                | 2014-09-19 00:00:00 | 52                  | Balanced            | 48                  | Normal              | 56                  | Mixed               | ...                 | 64                  | Normal              | Organised           | 47                  | Medium              | 44                  | Press               | 54                  | Normal              | Cover               | \n",
       "| 3                   | 434                 | 9930                | 2015-09-10 00:00:00 | 47                  | Balanced            | 41                  | Normal              | 54                  | Mixed               | ...                 | 64                  | Normal              | Organised           | 47                  | Medium              | 44                  | Press               | 54                  | Normal              | Cover               | \n",
       "| 4                   |  77                 | 8485                | 2010-02-22 00:00:00 | 70                  | Fast                | NA                  | Little              | 70                  | Long                | ...                 | 70                  | Lots                | Organised           | 60                  | Medium              | 70                  | Double              | 70                  | Wide                | Cover               | \n",
       "| 5                   |  77                 | 8485                | 2011-02-22 00:00:00 | 47                  | Balanced            | NA                  | Little              | 52                  | Mixed               | ...                 | 52                  | Normal              | Organised           | 47                  | Medium              | 47                  | Press               | 52                  | Normal              | Cover               | \n",
       "| 6                   |  77                 | 8485                | 2012-02-22 00:00:00 | 58                  | Balanced            | NA                  | Little              | 62                  | Mixed               | ...                 | 55                  | Normal              | Organised           | 40                  | Medium              | 40                  | Press               | 60                  | Normal              | Cover               | \n",
       "\n",
       "\n"
      ],
      "text/plain": [
       "  id team_fifa_api_id team_api_id date                buildUpPlaySpeed\n",
       "1 1  434              9930        2010-02-22 00:00:00 60              \n",
       "2 2  434              9930        2014-09-19 00:00:00 52              \n",
       "3 3  434              9930        2015-09-10 00:00:00 47              \n",
       "4 4   77              8485        2010-02-22 00:00:00 70              \n",
       "5 5   77              8485        2011-02-22 00:00:00 47              \n",
       "6 6   77              8485        2012-02-22 00:00:00 58              \n",
       "  buildUpPlaySpeedClass buildUpPlayDribbling buildUpPlayDribblingClass\n",
       "1 Balanced              NA                   Little                   \n",
       "2 Balanced              48                   Normal                   \n",
       "3 Balanced              41                   Normal                   \n",
       "4 Fast                  NA                   Little                   \n",
       "5 Balanced              NA                   Little                   \n",
       "6 Balanced              NA                   Little                   \n",
       "  buildUpPlayPassing buildUpPlayPassingClass ... chanceCreationShooting\n",
       "1 50                 Mixed                   ... 55                    \n",
       "2 56                 Mixed                   ... 64                    \n",
       "3 54                 Mixed                   ... 64                    \n",
       "4 70                 Long                    ... 70                    \n",
       "5 52                 Mixed                   ... 52                    \n",
       "6 62                 Mixed                   ... 55                    \n",
       "  chanceCreationShootingClass chanceCreationPositioningClass defencePressure\n",
       "1 Normal                      Organised                      50             \n",
       "2 Normal                      Organised                      47             \n",
       "3 Normal                      Organised                      47             \n",
       "4 Lots                        Organised                      60             \n",
       "5 Normal                      Organised                      47             \n",
       "6 Normal                      Organised                      40             \n",
       "  defencePressureClass defenceAggression defenceAggressionClass\n",
       "1 Medium               55                Press                 \n",
       "2 Medium               44                Press                 \n",
       "3 Medium               44                Press                 \n",
       "4 Medium               70                Double                \n",
       "5 Medium               47                Press                 \n",
       "6 Medium               40                Press                 \n",
       "  defenceTeamWidth defenceTeamWidthClass defenceDefenderLineClass\n",
       "1 45               Normal                Cover                   \n",
       "2 54               Normal                Cover                   \n",
       "3 54               Normal                Cover                   \n",
       "4 70               Wide                  Cover                   \n",
       "5 52               Normal                Cover                   \n",
       "6 60               Normal                Cover                   "
      ]
     },
     "metadata": {},
     "output_type": "display_data"
    }
   ],
   "source": [
    "head(Team)\n",
    "head(Team_Attributes)"
   ]
  },
  {
   "cell_type": "code",
   "execution_count": 13,
   "metadata": {
    "collapsed": false
   },
   "outputs": [],
   "source": [
    "TeamBuildUp=select(Team_Attributes,team_api_id,starts_with(\"buildUp\"))%>%#select all column starting with buildUp\n",
    "na.omit()%>%                                                             #omit na\n",
    "select_if(is.numeric)                                                    #select only numeric columns\n",
    "Team=mutate(TeamBuildUp,totalBuildUp=rowSums(TeamBuildUp[,2:4]))%>%      #sum the buildup attributes\n",
    "select(team_api_id,totalBuildUp)%>%\n",
    "group_by(team_api_id)%>%\n",
    "summarize(maxTotalBuildUp=max(totalBuildUp))%>%                          #find the maximum among all build up attribute of each player\n",
    "right_join(Team,by=\"team_api_id\")%>%\n",
    "na.omit()"
   ]
  },
  {
   "cell_type": "markdown",
   "metadata": {},
   "source": [
    "11: Solution: Which are the top 10 teams by sum of build up play attributes?"
   ]
  },
  {
   "cell_type": "code",
   "execution_count": 14,
   "metadata": {
    "collapsed": false
   },
   "outputs": [
    {
     "data": {
      "text/html": [
       "<table>\n",
       "<thead><tr><th scope=col>team_api_id</th><th scope=col>maxTotalBuildUp</th><th scope=col>team_long_name</th><th scope=col>team_short_name</th></tr></thead>\n",
       "<tbody>\n",
       "\t<tr><td>  9804                    </td><td>209                       </td><td>Torino                    </td><td>TOR                       </td></tr>\n",
       "\t<tr><td>  8600                    </td><td>205                       </td><td>Udinese                   </td><td>UDI                       </td></tr>\n",
       "\t<tr><td>  8194                    </td><td>198                       </td><td>Fortuna Düsseldorf        </td><td>FDU                       </td></tr>\n",
       "\t<tr><td>  8033                    </td><td>193                       </td><td>Podbeskidzie Bielsko-Biala</td><td>POD                       </td></tr>\n",
       "\t<tr><td>  8245                    </td><td>192                       </td><td>Korona Kielce             </td><td>KKI                       </td></tr>\n",
       "\t<tr><td>208931                    </td><td>190                       </td><td>Carpi                     </td><td>CAP                       </td></tr>\n",
       "\t<tr><td>  8244                    </td><td>190                       </td><td>Widzew Lódz               </td><td>LOD                       </td></tr>\n",
       "\t<tr><td>  8024                    </td><td>190                       </td><td>Widzew Lódz               </td><td>WID                       </td></tr>\n",
       "\t<tr><td>  9830                    </td><td>189                       </td><td>FC Nantes                 </td><td>NAN                       </td></tr>\n",
       "\t<tr><td>  8543                    </td><td>188                       </td><td>Lazio                     </td><td>LAZ                       </td></tr>\n",
       "</tbody>\n",
       "</table>\n"
      ],
      "text/latex": [
       "\\begin{tabular}{r|llll}\n",
       " team\\_api\\_id & maxTotalBuildUp & team\\_long\\_name & team\\_short\\_name\\\\\n",
       "\\hline\n",
       "\t   9804                     & 209                        & Torino                     & TOR                       \\\\\n",
       "\t   8600                     & 205                        & Udinese                    & UDI                       \\\\\n",
       "\t   8194                     & 198                        & Fortuna Düsseldorf         & FDU                       \\\\\n",
       "\t   8033                     & 193                        & Podbeskidzie Bielsko-Biala & POD                       \\\\\n",
       "\t   8245                     & 192                        & Korona Kielce              & KKI                       \\\\\n",
       "\t 208931                     & 190                        & Carpi                      & CAP                       \\\\\n",
       "\t   8244                     & 190                        & Widzew Lódz                & LOD                       \\\\\n",
       "\t   8024                     & 190                        & Widzew Lódz                & WID                       \\\\\n",
       "\t   9830                     & 189                        & FC Nantes                  & NAN                       \\\\\n",
       "\t   8543                     & 188                        & Lazio                      & LAZ                       \\\\\n",
       "\\end{tabular}\n"
      ],
      "text/markdown": [
       "\n",
       "team_api_id | maxTotalBuildUp | team_long_name | team_short_name | \n",
       "|---|---|---|---|---|---|---|---|---|---|\n",
       "|   9804                     | 209                        | Torino                     | TOR                        | \n",
       "|   8600                     | 205                        | Udinese                    | UDI                        | \n",
       "|   8194                     | 198                        | Fortuna Düsseldorf         | FDU                        | \n",
       "|   8033                     | 193                        | Podbeskidzie Bielsko-Biala | POD                        | \n",
       "|   8245                     | 192                        | Korona Kielce              | KKI                        | \n",
       "| 208931                     | 190                        | Carpi                      | CAP                        | \n",
       "|   8244                     | 190                        | Widzew Lódz                | LOD                        | \n",
       "|   8024                     | 190                        | Widzew Lódz                | WID                        | \n",
       "|   9830                     | 189                        | FC Nantes                  | NAN                        | \n",
       "|   8543                     | 188                        | Lazio                      | LAZ                        | \n",
       "\n",
       "\n"
      ],
      "text/plain": [
       "   team_api_id maxTotalBuildUp team_long_name             team_short_name\n",
       "1    9804      209             Torino                     TOR            \n",
       "2    8600      205             Udinese                    UDI            \n",
       "3    8194      198             Fortuna Düsseldorf         FDU            \n",
       "4    8033      193             Podbeskidzie Bielsko-Biala POD            \n",
       "5    8245      192             Korona Kielce              KKI            \n",
       "6  208931      190             Carpi                      CAP            \n",
       "7    8244      190             Widzew Lódz                LOD            \n",
       "8    8024      190             Widzew Lódz                WID            \n",
       "9    9830      189             FC Nantes                  NAN            \n",
       "10   8543      188             Lazio                      LAZ            "
      ]
     },
     "metadata": {},
     "output_type": "display_data"
    }
   ],
   "source": [
    "a=arrange(Team,desc(maxTotalBuildUp))\n",
    "a[1:10,]"
   ]
  },
  {
   "cell_type": "markdown",
   "metadata": {},
   "source": [
    "#  Q6. Which are the top 10 teams by sum of chance creation attributes?"
   ]
  },
  {
   "cell_type": "code",
   "execution_count": 15,
   "metadata": {
    "collapsed": false
   },
   "outputs": [],
   "source": [
    "# #the same as of buildup\n",
    "TeamChanceCreation=select(Team_Attributes,team_api_id,starts_with(\"chanceCreation\"))%>%#select all column starting with buildUp\n",
    "na.omit()%>%#omit na\n",
    "select_if(is.numeric)                                                                   #select only numeric columns\n",
    "Team=mutate(TeamChanceCreation,totalChanceCreation=rowSums(TeamChanceCreation[,2:4]))%>%#sum the chance creatuin attributes\n",
    "select(team_api_id,totalChanceCreation)%>%\n",
    "group_by(team_api_id)%>%\n",
    "summarize(maxTotalChanceCreation=max(totalChanceCreation))%>%                            #find max of chance creations of a player\n",
    "right_join(Team,by=\"team_api_id\")%>%\n",
    "na.omit()"
   ]
  },
  {
   "cell_type": "markdown",
   "metadata": {},
   "source": [
    "13: Solution: Which are the top 10 teams by sum of build up play attributes?"
   ]
  },
  {
   "cell_type": "code",
   "execution_count": 16,
   "metadata": {
    "collapsed": false
   },
   "outputs": [
    {
     "data": {
      "text/html": [
       "<table>\n",
       "<thead><tr><th scope=col>team_api_id</th><th scope=col>maxTotalChanceCreation</th><th scope=col>maxTotalBuildUp</th><th scope=col>team_long_name</th><th scope=col>team_short_name</th></tr></thead>\n",
       "<tbody>\n",
       "\t<tr><td> 8543                  </td><td>220                    </td><td>188                    </td><td>Lazio                  </td><td>LAZ                    </td></tr>\n",
       "\t<tr><td> 8697                  </td><td>216                    </td><td>174                    </td><td>SV Werder Bremen       </td><td>WBR                    </td></tr>\n",
       "\t<tr><td> 9875                  </td><td>215                    </td><td>180                    </td><td>Napoli                 </td><td>NAP                    </td></tr>\n",
       "\t<tr><td> 8456                  </td><td>210                    </td><td>123                    </td><td>Manchester City        </td><td>MCI                    </td></tr>\n",
       "\t<tr><td> 8586                  </td><td>210                    </td><td>133                    </td><td>Tottenham Hotspur      </td><td>TOT                    </td></tr>\n",
       "\t<tr><td> 8658                  </td><td>210                    </td><td>174                    </td><td>Birmingham City        </td><td>BIR                    </td></tr>\n",
       "\t<tr><td> 8602                  </td><td>210                    </td><td>136                    </td><td>Wolverhampton Wanderers</td><td>WOL                    </td></tr>\n",
       "\t<tr><td> 8191                  </td><td>210                    </td><td>154                    </td><td>Burnley                </td><td>BUR                    </td></tr>\n",
       "\t<tr><td>10003                  </td><td>210                    </td><td>131                    </td><td>Swansea City           </td><td>SWA                    </td></tr>\n",
       "\t<tr><td>10172                  </td><td>210                    </td><td>141                    </td><td>Queens Park Rangers    </td><td>QPR                    </td></tr>\n",
       "</tbody>\n",
       "</table>\n"
      ],
      "text/latex": [
       "\\begin{tabular}{r|lllll}\n",
       " team\\_api\\_id & maxTotalChanceCreation & maxTotalBuildUp & team\\_long\\_name & team\\_short\\_name\\\\\n",
       "\\hline\n",
       "\t  8543                   & 220                     & 188                     & Lazio                   & LAZ                    \\\\\n",
       "\t  8697                   & 216                     & 174                     & SV Werder Bremen        & WBR                    \\\\\n",
       "\t  9875                   & 215                     & 180                     & Napoli                  & NAP                    \\\\\n",
       "\t  8456                   & 210                     & 123                     & Manchester City         & MCI                    \\\\\n",
       "\t  8586                   & 210                     & 133                     & Tottenham Hotspur       & TOT                    \\\\\n",
       "\t  8658                   & 210                     & 174                     & Birmingham City         & BIR                    \\\\\n",
       "\t  8602                   & 210                     & 136                     & Wolverhampton Wanderers & WOL                    \\\\\n",
       "\t  8191                   & 210                     & 154                     & Burnley                 & BUR                    \\\\\n",
       "\t 10003                   & 210                     & 131                     & Swansea City            & SWA                    \\\\\n",
       "\t 10172                   & 210                     & 141                     & Queens Park Rangers     & QPR                    \\\\\n",
       "\\end{tabular}\n"
      ],
      "text/markdown": [
       "\n",
       "team_api_id | maxTotalChanceCreation | maxTotalBuildUp | team_long_name | team_short_name | \n",
       "|---|---|---|---|---|---|---|---|---|---|\n",
       "|  8543                   | 220                     | 188                     | Lazio                   | LAZ                     | \n",
       "|  8697                   | 216                     | 174                     | SV Werder Bremen        | WBR                     | \n",
       "|  9875                   | 215                     | 180                     | Napoli                  | NAP                     | \n",
       "|  8456                   | 210                     | 123                     | Manchester City         | MCI                     | \n",
       "|  8586                   | 210                     | 133                     | Tottenham Hotspur       | TOT                     | \n",
       "|  8658                   | 210                     | 174                     | Birmingham City         | BIR                     | \n",
       "|  8602                   | 210                     | 136                     | Wolverhampton Wanderers | WOL                     | \n",
       "|  8191                   | 210                     | 154                     | Burnley                 | BUR                     | \n",
       "| 10003                   | 210                     | 131                     | Swansea City            | SWA                     | \n",
       "| 10172                   | 210                     | 141                     | Queens Park Rangers     | QPR                     | \n",
       "\n",
       "\n"
      ],
      "text/plain": [
       "   team_api_id maxTotalChanceCreation maxTotalBuildUp team_long_name         \n",
       "1   8543       220                    188             Lazio                  \n",
       "2   8697       216                    174             SV Werder Bremen       \n",
       "3   9875       215                    180             Napoli                 \n",
       "4   8456       210                    123             Manchester City        \n",
       "5   8586       210                    133             Tottenham Hotspur      \n",
       "6   8658       210                    174             Birmingham City        \n",
       "7   8602       210                    136             Wolverhampton Wanderers\n",
       "8   8191       210                    154             Burnley                \n",
       "9  10003       210                    131             Swansea City           \n",
       "10 10172       210                    141             Queens Park Rangers    \n",
       "   team_short_name\n",
       "1  LAZ            \n",
       "2  WBR            \n",
       "3  NAP            \n",
       "4  MCI            \n",
       "5  TOT            \n",
       "6  BIR            \n",
       "7  WOL            \n",
       "8  BUR            \n",
       "9  SWA            \n",
       "10 QPR            "
      ]
     },
     "metadata": {},
     "output_type": "display_data"
    }
   ],
   "source": [
    "b=arrange(Team,desc(maxTotalChanceCreation))\n",
    "b[1:10,]"
   ]
  },
  {
   "cell_type": "markdown",
   "metadata": {},
   "source": [
    "#  Q7. Which are the top 10 teams by sum of defense attributes??"
   ]
  },
  {
   "cell_type": "code",
   "execution_count": 17,
   "metadata": {
    "collapsed": false,
    "scrolled": true
   },
   "outputs": [
    {
     "data": {
      "text/html": [
       "<table>\n",
       "<thead><tr><th scope=col>team_api_id</th><th scope=col>maxTotalDefenceAttr</th><th scope=col>maxTotalChanceCreation</th><th scope=col>maxTotalBuildUp</th><th scope=col>team_long_name</th><th scope=col>team_short_name</th></tr></thead>\n",
       "<tbody>\n",
       "\t<tr><td>  9987              </td><td>205                 </td><td>182                 </td><td>148                 </td><td>KRC Genk            </td><td>GEN                 </td></tr>\n",
       "\t<tr><td> 10000              </td><td>200                 </td><td>153                 </td><td>147                 </td><td>SV Zulte-Waregem    </td><td>ZUL                 </td></tr>\n",
       "\t<tr><td>  9994              </td><td>200                 </td><td>154                 </td><td>159                 </td><td>Sporting Lokeren    </td><td>LOK                 </td></tr>\n",
       "\t<tr><td>  9984              </td><td>195                 </td><td>200                 </td><td>145                 </td><td>KSV Cercle Brugge   </td><td>CEB                 </td></tr>\n",
       "\t<tr><td>  8635              </td><td>190                 </td><td>182                 </td><td>149                 </td><td>RSC Anderlecht      </td><td>AND                 </td></tr>\n",
       "\t<tr><td>  9991              </td><td>166                 </td><td>184                 </td><td>142                 </td><td>KAA Gent            </td><td>GEN                 </td></tr>\n",
       "\t<tr><td>  9998              </td><td>138                 </td><td>168                 </td><td>160                 </td><td>RAEC Mons           </td><td>MON                 </td></tr>\n",
       "\t<tr><td>  9985              </td><td>205                 </td><td>182                 </td><td>161                 </td><td>Standard de Liège   </td><td>STL                 </td></tr>\n",
       "\t<tr><td>  8203              </td><td>190                 </td><td>150                 </td><td>134                 </td><td>KV Mechelen         </td><td>MEC                 </td></tr>\n",
       "\t<tr><td>  8342              </td><td>200                 </td><td>170                 </td><td>139                 </td><td>Club Brugge KV      </td><td>CLB                 </td></tr>\n",
       "\t<tr><td>  8571              </td><td>185                 </td><td>159                 </td><td>129                 </td><td>KV Kortrijk         </td><td>KOR                 </td></tr>\n",
       "\t<tr><td>  9996              </td><td>140                 </td><td>150                 </td><td>150                 </td><td>Royal Excel Mouscron</td><td>MOU                 </td></tr>\n",
       "\t<tr><td> 10001              </td><td>210                 </td><td>167                 </td><td>148                 </td><td>KVC Westerlo        </td><td>WES                 </td></tr>\n",
       "\t<tr><td>  9986              </td><td>210                 </td><td>148                 </td><td>160                 </td><td>Sporting Charleroi  </td><td>CHA                 </td></tr>\n",
       "\t<tr><td>  9989              </td><td>159                 </td><td>169                 </td><td>171                 </td><td>Lierse SK           </td><td>LIE                 </td></tr>\n",
       "\t<tr><td>  1773              </td><td>137                 </td><td>157                 </td><td>153                 </td><td>Oud-Heverlee Leuven </td><td>O-H                 </td></tr>\n",
       "\t<tr><td>  8475              </td><td>114                 </td><td>140                 </td><td>132                 </td><td>Waasland-Beveren    </td><td>WAA                 </td></tr>\n",
       "\t<tr><td>  8573              </td><td>133                 </td><td>140                 </td><td>155                 </td><td>KV Oostende         </td><td>OOS                 </td></tr>\n",
       "\t<tr><td>274581              </td><td>140                 </td><td>150                 </td><td>150                 </td><td>Royal Excel Mouscron</td><td>MOP                 </td></tr>\n",
       "\t<tr><td> 10260              </td><td>163                 </td><td>200                 </td><td>134                 </td><td>Manchester United   </td><td>MUN                 </td></tr>\n",
       "\t<tr><td> 10261              </td><td>161                 </td><td>195                 </td><td>152                 </td><td>Newcastle United    </td><td>NEW                 </td></tr>\n",
       "\t<tr><td>  9825              </td><td>170                 </td><td>150                 </td><td>140                 </td><td>Arsenal             </td><td>ARS                 </td></tr>\n",
       "\t<tr><td>  8659              </td><td>210                 </td><td>195                 </td><td>145                 </td><td>West Bromwich Albion</td><td>WBA                 </td></tr>\n",
       "\t<tr><td>  8472              </td><td>165                 </td><td>195                 </td><td>154                 </td><td>Sunderland          </td><td>SUN                 </td></tr>\n",
       "\t<tr><td>  8650              </td><td>172                 </td><td>180                 </td><td>171                 </td><td>Liverpool           </td><td>LIV                 </td></tr>\n",
       "\t<tr><td>  8654              </td><td>140                 </td><td>171                 </td><td>184                 </td><td>West Ham United     </td><td>WHU                 </td></tr>\n",
       "\t<tr><td>  8528              </td><td>165                 </td><td>190                 </td><td>144                 </td><td>Wigan Athletic      </td><td>WIG                 </td></tr>\n",
       "\t<tr><td> 10252              </td><td>145                 </td><td>185                 </td><td>170                 </td><td>Aston Villa         </td><td>AVL                 </td></tr>\n",
       "\t<tr><td>  8456              </td><td>180                 </td><td>210                 </td><td>123                 </td><td>Manchester City     </td><td>MCI                 </td></tr>\n",
       "\t<tr><td>  8668              </td><td>180                 </td><td>180                 </td><td>137                 </td><td>Everton             </td><td>EVE                 </td></tr>\n",
       "\t<tr><td>...</td><td>...</td><td>...</td><td>...</td><td>...</td><td>...</td></tr>\n",
       "\t<tr><td> 8479                  </td><td>151                    </td><td>140                    </td><td>148                    </td><td>RC Recreativo          </td><td>HUE                    </td></tr>\n",
       "\t<tr><td> 8558                  </td><td>180                    </td><td>196                    </td><td>146                    </td><td>RCD Espanyol           </td><td>ESP                    </td></tr>\n",
       "\t<tr><td>10281                  </td><td>161                    </td><td>172                    </td><td>153                    </td><td>Real Valladolid        </td><td>VAL                    </td></tr>\n",
       "\t<tr><td> 8315                  </td><td>170                    </td><td>184                    </td><td>131                    </td><td>Athletic Club de Bilbao</td><td>BIL                    </td></tr>\n",
       "\t<tr><td> 9865                  </td><td>193                    </td><td>180                    </td><td>152                    </td><td>UD Almería             </td><td>ALM                    </td></tr>\n",
       "\t<tr><td> 9906                  </td><td>160                    </td><td>206                    </td><td>157                    </td><td>Atlético Madrid        </td><td>AMA                    </td></tr>\n",
       "\t<tr><td> 9864                  </td><td>164                    </td><td>191                    </td><td>129                    </td><td>Málaga CF              </td><td>MAL                    </td></tr>\n",
       "\t<tr><td> 8394                  </td><td>158                    </td><td>166                    </td><td>154                    </td><td>Real Zaragoza          </td><td>ZAR                    </td></tr>\n",
       "\t<tr><td> 9867                  </td><td>174                    </td><td>180                    </td><td>163                    </td><td>CD Tenerife            </td><td>TEN                    </td></tr>\n",
       "\t<tr><td>10278                  </td><td>160                    </td><td>178                    </td><td>154                    </td><td>Hércules Club de Fútbol</td><td>HER                    </td></tr>\n",
       "\t<tr><td> 8581                  </td><td>155                    </td><td>182                    </td><td>171                    </td><td>Levante UD             </td><td>LEV                    </td></tr>\n",
       "\t<tr><td> 8560                  </td><td>171                    </td><td>171                    </td><td>162                    </td><td>Real Sociedad          </td><td>SOC                    </td></tr>\n",
       "\t<tr><td> 7878                  </td><td>170                    </td><td>200                    </td><td>166                    </td><td>Granada CF             </td><td>GRA                    </td></tr>\n",
       "\t<tr><td> 8370                  </td><td>178                    </td><td>161                    </td><td>141                    </td><td>Rayo Vallecano         </td><td>RAY                    </td></tr>\n",
       "\t<tr><td> 9910                  </td><td>169                    </td><td>179                    </td><td>169                    </td><td>RC Celta de Vigo       </td><td>CEL                    </td></tr>\n",
       "\t<tr><td>10268                  </td><td>158                    </td><td>165                    </td><td>171                    </td><td>Elche CF               </td><td>ELC                    </td></tr>\n",
       "\t<tr><td> 8372                  </td><td>142                    </td><td>179                    </td><td>165                    </td><td>SD Eibar               </td><td>EIB                    </td></tr>\n",
       "\t<tr><td> 7869                  </td><td>129                    </td><td>171                    </td><td>146                    </td><td>Córdoba CF             </td><td>COR                    </td></tr>\n",
       "\t<tr><td> 8306                  </td><td>171                    </td><td>187                    </td><td>147                    </td><td>UD Las Palmas          </td><td>LAS                    </td></tr>\n",
       "\t<tr><td> 9956                  </td><td>160                    </td><td>184                    </td><td>164                    </td><td>Grasshopper Club Zürich</td><td>GRA                    </td></tr>\n",
       "\t<tr><td>10192                  </td><td>170                    </td><td>202                    </td><td>172                    </td><td>BSC Young Boys         </td><td>YB                     </td></tr>\n",
       "\t<tr><td> 9931                  </td><td>180                    </td><td>186                    </td><td>170                    </td><td>FC Basel               </td><td>BAS                    </td></tr>\n",
       "\t<tr><td> 9930                  </td><td>150                    </td><td>181                    </td><td>156                    </td><td>FC Aarau               </td><td>AAR                    </td></tr>\n",
       "\t<tr><td>10179                  </td><td>146                    </td><td>177                    </td><td>155                    </td><td>FC Sion                </td><td>SIO                    </td></tr>\n",
       "\t<tr><td>10199                  </td><td>153                    </td><td>175                    </td><td>165                    </td><td>FC Luzern              </td><td>LUZ                    </td></tr>\n",
       "\t<tr><td> 9824                  </td><td>133                    </td><td>137                    </td><td>141                    </td><td>FC Vaduz               </td><td>VAD                    </td></tr>\n",
       "\t<tr><td>10243                  </td><td>163                    </td><td>165                    </td><td>157                    </td><td>FC Zürich              </td><td>ZUR                    </td></tr>\n",
       "\t<tr><td>10190                  </td><td>155                    </td><td>157                    </td><td>146                    </td><td>FC St. Gallen          </td><td>GAL                    </td></tr>\n",
       "\t<tr><td>10191                  </td><td>145                    </td><td>166                    </td><td>152                    </td><td>FC Thun                </td><td>THU                    </td></tr>\n",
       "\t<tr><td> 7730                  </td><td>165                    </td><td>164                    </td><td>141                    </td><td>FC Lausanne-Sports     </td><td>LAU                    </td></tr>\n",
       "</tbody>\n",
       "</table>\n"
      ],
      "text/latex": [
       "\\begin{tabular}{r|llllll}\n",
       " team\\_api\\_id & maxTotalDefenceAttr & maxTotalChanceCreation & maxTotalBuildUp & team\\_long\\_name & team\\_short\\_name\\\\\n",
       "\\hline\n",
       "\t   9987               & 205                  & 182                  & 148                  & KRC Genk             & GEN                 \\\\\n",
       "\t  10000               & 200                  & 153                  & 147                  & SV Zulte-Waregem     & ZUL                 \\\\\n",
       "\t   9994               & 200                  & 154                  & 159                  & Sporting Lokeren     & LOK                 \\\\\n",
       "\t   9984               & 195                  & 200                  & 145                  & KSV Cercle Brugge    & CEB                 \\\\\n",
       "\t   8635               & 190                  & 182                  & 149                  & RSC Anderlecht       & AND                 \\\\\n",
       "\t   9991               & 166                  & 184                  & 142                  & KAA Gent             & GEN                 \\\\\n",
       "\t   9998               & 138                  & 168                  & 160                  & RAEC Mons            & MON                 \\\\\n",
       "\t   9985               & 205                  & 182                  & 161                  & Standard de Liège    & STL                 \\\\\n",
       "\t   8203               & 190                  & 150                  & 134                  & KV Mechelen          & MEC                 \\\\\n",
       "\t   8342               & 200                  & 170                  & 139                  & Club Brugge KV       & CLB                 \\\\\n",
       "\t   8571               & 185                  & 159                  & 129                  & KV Kortrijk          & KOR                 \\\\\n",
       "\t   9996               & 140                  & 150                  & 150                  & Royal Excel Mouscron & MOU                 \\\\\n",
       "\t  10001               & 210                  & 167                  & 148                  & KVC Westerlo         & WES                 \\\\\n",
       "\t   9986               & 210                  & 148                  & 160                  & Sporting Charleroi   & CHA                 \\\\\n",
       "\t   9989               & 159                  & 169                  & 171                  & Lierse SK            & LIE                 \\\\\n",
       "\t   1773               & 137                  & 157                  & 153                  & Oud-Heverlee Leuven  & O-H                 \\\\\n",
       "\t   8475               & 114                  & 140                  & 132                  & Waasland-Beveren     & WAA                 \\\\\n",
       "\t   8573               & 133                  & 140                  & 155                  & KV Oostende          & OOS                 \\\\\n",
       "\t 274581               & 140                  & 150                  & 150                  & Royal Excel Mouscron & MOP                 \\\\\n",
       "\t  10260               & 163                  & 200                  & 134                  & Manchester United    & MUN                 \\\\\n",
       "\t  10261               & 161                  & 195                  & 152                  & Newcastle United     & NEW                 \\\\\n",
       "\t   9825               & 170                  & 150                  & 140                  & Arsenal              & ARS                 \\\\\n",
       "\t   8659               & 210                  & 195                  & 145                  & West Bromwich Albion & WBA                 \\\\\n",
       "\t   8472               & 165                  & 195                  & 154                  & Sunderland           & SUN                 \\\\\n",
       "\t   8650               & 172                  & 180                  & 171                  & Liverpool            & LIV                 \\\\\n",
       "\t   8654               & 140                  & 171                  & 184                  & West Ham United      & WHU                 \\\\\n",
       "\t   8528               & 165                  & 190                  & 144                  & Wigan Athletic       & WIG                 \\\\\n",
       "\t  10252               & 145                  & 185                  & 170                  & Aston Villa          & AVL                 \\\\\n",
       "\t   8456               & 180                  & 210                  & 123                  & Manchester City      & MCI                 \\\\\n",
       "\t   8668               & 180                  & 180                  & 137                  & Everton              & EVE                 \\\\\n",
       "\t ... & ... & ... & ... & ... & ...\\\\\n",
       "\t  8479                   & 151                     & 140                     & 148                     & RC Recreativo           & HUE                    \\\\\n",
       "\t  8558                   & 180                     & 196                     & 146                     & RCD Espanyol            & ESP                    \\\\\n",
       "\t 10281                   & 161                     & 172                     & 153                     & Real Valladolid         & VAL                    \\\\\n",
       "\t  8315                   & 170                     & 184                     & 131                     & Athletic Club de Bilbao & BIL                    \\\\\n",
       "\t  9865                   & 193                     & 180                     & 152                     & UD Almería              & ALM                    \\\\\n",
       "\t  9906                   & 160                     & 206                     & 157                     & Atlético Madrid         & AMA                    \\\\\n",
       "\t  9864                   & 164                     & 191                     & 129                     & Málaga CF               & MAL                    \\\\\n",
       "\t  8394                   & 158                     & 166                     & 154                     & Real Zaragoza           & ZAR                    \\\\\n",
       "\t  9867                   & 174                     & 180                     & 163                     & CD Tenerife             & TEN                    \\\\\n",
       "\t 10278                   & 160                     & 178                     & 154                     & Hércules Club de Fútbol & HER                    \\\\\n",
       "\t  8581                   & 155                     & 182                     & 171                     & Levante UD              & LEV                    \\\\\n",
       "\t  8560                   & 171                     & 171                     & 162                     & Real Sociedad           & SOC                    \\\\\n",
       "\t  7878                   & 170                     & 200                     & 166                     & Granada CF              & GRA                    \\\\\n",
       "\t  8370                   & 178                     & 161                     & 141                     & Rayo Vallecano          & RAY                    \\\\\n",
       "\t  9910                   & 169                     & 179                     & 169                     & RC Celta de Vigo        & CEL                    \\\\\n",
       "\t 10268                   & 158                     & 165                     & 171                     & Elche CF                & ELC                    \\\\\n",
       "\t  8372                   & 142                     & 179                     & 165                     & SD Eibar                & EIB                    \\\\\n",
       "\t  7869                   & 129                     & 171                     & 146                     & Córdoba CF              & COR                    \\\\\n",
       "\t  8306                   & 171                     & 187                     & 147                     & UD Las Palmas           & LAS                    \\\\\n",
       "\t  9956                   & 160                     & 184                     & 164                     & Grasshopper Club Zürich & GRA                    \\\\\n",
       "\t 10192                   & 170                     & 202                     & 172                     & BSC Young Boys          & YB                     \\\\\n",
       "\t  9931                   & 180                     & 186                     & 170                     & FC Basel                & BAS                    \\\\\n",
       "\t  9930                   & 150                     & 181                     & 156                     & FC Aarau                & AAR                    \\\\\n",
       "\t 10179                   & 146                     & 177                     & 155                     & FC Sion                 & SIO                    \\\\\n",
       "\t 10199                   & 153                     & 175                     & 165                     & FC Luzern               & LUZ                    \\\\\n",
       "\t  9824                   & 133                     & 137                     & 141                     & FC Vaduz                & VAD                    \\\\\n",
       "\t 10243                   & 163                     & 165                     & 157                     & FC Zürich               & ZUR                    \\\\\n",
       "\t 10190                   & 155                     & 157                     & 146                     & FC St. Gallen           & GAL                    \\\\\n",
       "\t 10191                   & 145                     & 166                     & 152                     & FC Thun                 & THU                    \\\\\n",
       "\t  7730                   & 165                     & 164                     & 141                     & FC Lausanne-Sports      & LAU                    \\\\\n",
       "\\end{tabular}\n"
      ],
      "text/markdown": [
       "\n",
       "team_api_id | maxTotalDefenceAttr | maxTotalChanceCreation | maxTotalBuildUp | team_long_name | team_short_name | \n",
       "|---|---|---|---|---|---|---|---|---|---|---|---|---|---|---|---|---|---|---|---|---|---|---|---|---|---|---|---|---|---|---|---|---|---|---|---|---|---|---|---|---|---|---|---|---|---|---|---|---|---|---|---|---|---|---|---|---|---|---|---|---|\n",
       "|   9987               | 205                  | 182                  | 148                  | KRC Genk             | GEN                  | \n",
       "|  10000               | 200                  | 153                  | 147                  | SV Zulte-Waregem     | ZUL                  | \n",
       "|   9994               | 200                  | 154                  | 159                  | Sporting Lokeren     | LOK                  | \n",
       "|   9984               | 195                  | 200                  | 145                  | KSV Cercle Brugge    | CEB                  | \n",
       "|   8635               | 190                  | 182                  | 149                  | RSC Anderlecht       | AND                  | \n",
       "|   9991               | 166                  | 184                  | 142                  | KAA Gent             | GEN                  | \n",
       "|   9998               | 138                  | 168                  | 160                  | RAEC Mons            | MON                  | \n",
       "|   9985               | 205                  | 182                  | 161                  | Standard de Liège    | STL                  | \n",
       "|   8203               | 190                  | 150                  | 134                  | KV Mechelen          | MEC                  | \n",
       "|   8342               | 200                  | 170                  | 139                  | Club Brugge KV       | CLB                  | \n",
       "|   8571               | 185                  | 159                  | 129                  | KV Kortrijk          | KOR                  | \n",
       "|   9996               | 140                  | 150                  | 150                  | Royal Excel Mouscron | MOU                  | \n",
       "|  10001               | 210                  | 167                  | 148                  | KVC Westerlo         | WES                  | \n",
       "|   9986               | 210                  | 148                  | 160                  | Sporting Charleroi   | CHA                  | \n",
       "|   9989               | 159                  | 169                  | 171                  | Lierse SK            | LIE                  | \n",
       "|   1773               | 137                  | 157                  | 153                  | Oud-Heverlee Leuven  | O-H                  | \n",
       "|   8475               | 114                  | 140                  | 132                  | Waasland-Beveren     | WAA                  | \n",
       "|   8573               | 133                  | 140                  | 155                  | KV Oostende          | OOS                  | \n",
       "| 274581               | 140                  | 150                  | 150                  | Royal Excel Mouscron | MOP                  | \n",
       "|  10260               | 163                  | 200                  | 134                  | Manchester United    | MUN                  | \n",
       "|  10261               | 161                  | 195                  | 152                  | Newcastle United     | NEW                  | \n",
       "|   9825               | 170                  | 150                  | 140                  | Arsenal              | ARS                  | \n",
       "|   8659               | 210                  | 195                  | 145                  | West Bromwich Albion | WBA                  | \n",
       "|   8472               | 165                  | 195                  | 154                  | Sunderland           | SUN                  | \n",
       "|   8650               | 172                  | 180                  | 171                  | Liverpool            | LIV                  | \n",
       "|   8654               | 140                  | 171                  | 184                  | West Ham United      | WHU                  | \n",
       "|   8528               | 165                  | 190                  | 144                  | Wigan Athletic       | WIG                  | \n",
       "|  10252               | 145                  | 185                  | 170                  | Aston Villa          | AVL                  | \n",
       "|   8456               | 180                  | 210                  | 123                  | Manchester City      | MCI                  | \n",
       "|   8668               | 180                  | 180                  | 137                  | Everton              | EVE                  | \n",
       "| ... | ... | ... | ... | ... | ... | \n",
       "|  8479                   | 151                     | 140                     | 148                     | RC Recreativo           | HUE                     | \n",
       "|  8558                   | 180                     | 196                     | 146                     | RCD Espanyol            | ESP                     | \n",
       "| 10281                   | 161                     | 172                     | 153                     | Real Valladolid         | VAL                     | \n",
       "|  8315                   | 170                     | 184                     | 131                     | Athletic Club de Bilbao | BIL                     | \n",
       "|  9865                   | 193                     | 180                     | 152                     | UD Almería              | ALM                     | \n",
       "|  9906                   | 160                     | 206                     | 157                     | Atlético Madrid         | AMA                     | \n",
       "|  9864                   | 164                     | 191                     | 129                     | Málaga CF               | MAL                     | \n",
       "|  8394                   | 158                     | 166                     | 154                     | Real Zaragoza           | ZAR                     | \n",
       "|  9867                   | 174                     | 180                     | 163                     | CD Tenerife             | TEN                     | \n",
       "| 10278                   | 160                     | 178                     | 154                     | Hércules Club de Fútbol | HER                     | \n",
       "|  8581                   | 155                     | 182                     | 171                     | Levante UD              | LEV                     | \n",
       "|  8560                   | 171                     | 171                     | 162                     | Real Sociedad           | SOC                     | \n",
       "|  7878                   | 170                     | 200                     | 166                     | Granada CF              | GRA                     | \n",
       "|  8370                   | 178                     | 161                     | 141                     | Rayo Vallecano          | RAY                     | \n",
       "|  9910                   | 169                     | 179                     | 169                     | RC Celta de Vigo        | CEL                     | \n",
       "| 10268                   | 158                     | 165                     | 171                     | Elche CF                | ELC                     | \n",
       "|  8372                   | 142                     | 179                     | 165                     | SD Eibar                | EIB                     | \n",
       "|  7869                   | 129                     | 171                     | 146                     | Córdoba CF              | COR                     | \n",
       "|  8306                   | 171                     | 187                     | 147                     | UD Las Palmas           | LAS                     | \n",
       "|  9956                   | 160                     | 184                     | 164                     | Grasshopper Club Zürich | GRA                     | \n",
       "| 10192                   | 170                     | 202                     | 172                     | BSC Young Boys          | YB                      | \n",
       "|  9931                   | 180                     | 186                     | 170                     | FC Basel                | BAS                     | \n",
       "|  9930                   | 150                     | 181                     | 156                     | FC Aarau                | AAR                     | \n",
       "| 10179                   | 146                     | 177                     | 155                     | FC Sion                 | SIO                     | \n",
       "| 10199                   | 153                     | 175                     | 165                     | FC Luzern               | LUZ                     | \n",
       "|  9824                   | 133                     | 137                     | 141                     | FC Vaduz                | VAD                     | \n",
       "| 10243                   | 163                     | 165                     | 157                     | FC Zürich               | ZUR                     | \n",
       "| 10190                   | 155                     | 157                     | 146                     | FC St. Gallen           | GAL                     | \n",
       "| 10191                   | 145                     | 166                     | 152                     | FC Thun                 | THU                     | \n",
       "|  7730                   | 165                     | 164                     | 141                     | FC Lausanne-Sports      | LAU                     | \n",
       "\n",
       "\n"
      ],
      "text/plain": [
       "    team_api_id maxTotalDefenceAttr maxTotalChanceCreation maxTotalBuildUp\n",
       "1     9987      205                 182                    148            \n",
       "2    10000      200                 153                    147            \n",
       "3     9994      200                 154                    159            \n",
       "4     9984      195                 200                    145            \n",
       "5     8635      190                 182                    149            \n",
       "6     9991      166                 184                    142            \n",
       "7     9998      138                 168                    160            \n",
       "8     9985      205                 182                    161            \n",
       "9     8203      190                 150                    134            \n",
       "10    8342      200                 170                    139            \n",
       "11    8571      185                 159                    129            \n",
       "12    9996      140                 150                    150            \n",
       "13   10001      210                 167                    148            \n",
       "14    9986      210                 148                    160            \n",
       "15    9989      159                 169                    171            \n",
       "16    1773      137                 157                    153            \n",
       "17    8475      114                 140                    132            \n",
       "18    8573      133                 140                    155            \n",
       "19  274581      140                 150                    150            \n",
       "20   10260      163                 200                    134            \n",
       "21   10261      161                 195                    152            \n",
       "22    9825      170                 150                    140            \n",
       "23    8659      210                 195                    145            \n",
       "24    8472      165                 195                    154            \n",
       "25    8650      172                 180                    171            \n",
       "26    8654      140                 171                    184            \n",
       "27    8528      165                 190                    144            \n",
       "28   10252      145                 185                    170            \n",
       "29    8456      180                 210                    123            \n",
       "30    8668      180                 180                    137            \n",
       "... ...         ...                 ...                    ...            \n",
       "233  8479       151                 140                    148            \n",
       "234  8558       180                 196                    146            \n",
       "235 10281       161                 172                    153            \n",
       "236  8315       170                 184                    131            \n",
       "237  9865       193                 180                    152            \n",
       "238  9906       160                 206                    157            \n",
       "239  9864       164                 191                    129            \n",
       "240  8394       158                 166                    154            \n",
       "241  9867       174                 180                    163            \n",
       "242 10278       160                 178                    154            \n",
       "243  8581       155                 182                    171            \n",
       "244  8560       171                 171                    162            \n",
       "245  7878       170                 200                    166            \n",
       "246  8370       178                 161                    141            \n",
       "247  9910       169                 179                    169            \n",
       "248 10268       158                 165                    171            \n",
       "249  8372       142                 179                    165            \n",
       "250  7869       129                 171                    146            \n",
       "251  8306       171                 187                    147            \n",
       "252  9956       160                 184                    164            \n",
       "253 10192       170                 202                    172            \n",
       "254  9931       180                 186                    170            \n",
       "255  9930       150                 181                    156            \n",
       "256 10179       146                 177                    155            \n",
       "257 10199       153                 175                    165            \n",
       "258  9824       133                 137                    141            \n",
       "259 10243       163                 165                    157            \n",
       "260 10190       155                 157                    146            \n",
       "261 10191       145                 166                    152            \n",
       "262  7730       165                 164                    141            \n",
       "    team_long_name          team_short_name\n",
       "1   KRC Genk                GEN            \n",
       "2   SV Zulte-Waregem        ZUL            \n",
       "3   Sporting Lokeren        LOK            \n",
       "4   KSV Cercle Brugge       CEB            \n",
       "5   RSC Anderlecht          AND            \n",
       "6   KAA Gent                GEN            \n",
       "7   RAEC Mons               MON            \n",
       "8   Standard de Liège       STL            \n",
       "9   KV Mechelen             MEC            \n",
       "10  Club Brugge KV          CLB            \n",
       "11  KV Kortrijk             KOR            \n",
       "12  Royal Excel Mouscron    MOU            \n",
       "13  KVC Westerlo            WES            \n",
       "14  Sporting Charleroi      CHA            \n",
       "15  Lierse SK               LIE            \n",
       "16  Oud-Heverlee Leuven     O-H            \n",
       "17  Waasland-Beveren        WAA            \n",
       "18  KV Oostende             OOS            \n",
       "19  Royal Excel Mouscron    MOP            \n",
       "20  Manchester United       MUN            \n",
       "21  Newcastle United        NEW            \n",
       "22  Arsenal                 ARS            \n",
       "23  West Bromwich Albion    WBA            \n",
       "24  Sunderland              SUN            \n",
       "25  Liverpool               LIV            \n",
       "26  West Ham United         WHU            \n",
       "27  Wigan Athletic          WIG            \n",
       "28  Aston Villa             AVL            \n",
       "29  Manchester City         MCI            \n",
       "30  Everton                 EVE            \n",
       "... ...                     ...            \n",
       "233 RC Recreativo           HUE            \n",
       "234 RCD Espanyol            ESP            \n",
       "235 Real Valladolid         VAL            \n",
       "236 Athletic Club de Bilbao BIL            \n",
       "237 UD Almería              ALM            \n",
       "238 Atlético Madrid         AMA            \n",
       "239 Málaga CF               MAL            \n",
       "240 Real Zaragoza           ZAR            \n",
       "241 CD Tenerife             TEN            \n",
       "242 Hércules Club de Fútbol HER            \n",
       "243 Levante UD              LEV            \n",
       "244 Real Sociedad           SOC            \n",
       "245 Granada CF              GRA            \n",
       "246 Rayo Vallecano          RAY            \n",
       "247 RC Celta de Vigo        CEL            \n",
       "248 Elche CF                ELC            \n",
       "249 SD Eibar                EIB            \n",
       "250 Córdoba CF              COR            \n",
       "251 UD Las Palmas           LAS            \n",
       "252 Grasshopper Club Zürich GRA            \n",
       "253 BSC Young Boys          YB             \n",
       "254 FC Basel                BAS            \n",
       "255 FC Aarau                AAR            \n",
       "256 FC Sion                 SIO            \n",
       "257 FC Luzern               LUZ            \n",
       "258 FC Vaduz                VAD            \n",
       "259 FC Zürich               ZUR            \n",
       "260 FC St. Gallen           GAL            \n",
       "261 FC Thun                 THU            \n",
       "262 FC Lausanne-Sports      LAU            "
      ]
     },
     "metadata": {},
     "output_type": "display_data"
    }
   ],
   "source": [
    "#the same as of buildup\n",
    "TeamDefenceAttr=select(Team_Attributes,team_api_id,starts_with(\"defence\"))%>%#select all column starting with buildUp\n",
    "na.omit()%>%#omit na\n",
    "select_if(is.numeric)                                                          #select only numeric columns\n",
    "Team=mutate(TeamDefenceAttr,totalDefenceAttr=rowSums(TeamDefenceAttr[,2:4]))%>%#sum the defense attributes\n",
    "select(team_api_id,totalDefenceAttr)%>%\n",
    "group_by(team_api_id)%>%\n",
    "summarize(maxTotalDefenceAttr=max(totalDefenceAttr))%>%                        #select max of defense attribute\n",
    "right_join(Team,by=\"team_api_id\")%>%\n",
    "na.omit()\n",
    "Team"
   ]
  },
  {
   "cell_type": "markdown",
   "metadata": {},
   "source": [
    "15: Solution: Which are the top 10 teams by sum of defense attributes??"
   ]
  },
  {
   "cell_type": "code",
   "execution_count": 18,
   "metadata": {
    "collapsed": false
   },
   "outputs": [
    {
     "data": {
      "text/html": [
       "<table>\n",
       "<thead><tr><th scope=col>team_api_id</th><th scope=col>maxTotalDefenceAttr</th><th scope=col>maxTotalChanceCreation</th><th scope=col>maxTotalBuildUp</th><th scope=col>team_long_name</th><th scope=col>team_short_name</th></tr></thead>\n",
       "<tbody>\n",
       "\t<tr><td>10001                  </td><td>210                    </td><td>167                    </td><td>148                    </td><td>KVC Westerlo           </td><td>WES                    </td></tr>\n",
       "\t<tr><td> 9986                  </td><td>210                    </td><td>148                    </td><td>160                    </td><td>Sporting Charleroi     </td><td>CHA                    </td></tr>\n",
       "\t<tr><td> 8659                  </td><td>210                    </td><td>195                    </td><td>145                    </td><td>West Bromwich Albion   </td><td>WBA                    </td></tr>\n",
       "\t<tr><td> 8667                  </td><td>210                    </td><td>195                    </td><td>151                    </td><td>Hull City              </td><td>HUL                    </td></tr>\n",
       "\t<tr><td> 8658                  </td><td>210                    </td><td>210                    </td><td>174                    </td><td>Birmingham City        </td><td>BIR                    </td></tr>\n",
       "\t<tr><td> 8602                  </td><td>210                    </td><td>210                    </td><td>136                    </td><td>Wolverhampton Wanderers</td><td>WOL                    </td></tr>\n",
       "\t<tr><td> 8483                  </td><td>210                    </td><td>205                    </td><td>183                    </td><td>Blackpool              </td><td>BLA                    </td></tr>\n",
       "\t<tr><td>10003                  </td><td>210                    </td><td>210                    </td><td>131                    </td><td>Swansea City           </td><td>SWA                    </td></tr>\n",
       "\t<tr><td>10172                  </td><td>210                    </td><td>210                    </td><td>141                    </td><td>Queens Park Rangers    </td><td>QPR                    </td></tr>\n",
       "\t<tr><td> 8466                  </td><td>210                    </td><td>205                    </td><td>129                    </td><td>Southampton            </td><td>SOU                    </td></tr>\n",
       "</tbody>\n",
       "</table>\n"
      ],
      "text/latex": [
       "\\begin{tabular}{r|llllll}\n",
       " team\\_api\\_id & maxTotalDefenceAttr & maxTotalChanceCreation & maxTotalBuildUp & team\\_long\\_name & team\\_short\\_name\\\\\n",
       "\\hline\n",
       "\t 10001                   & 210                     & 167                     & 148                     & KVC Westerlo            & WES                    \\\\\n",
       "\t  9986                   & 210                     & 148                     & 160                     & Sporting Charleroi      & CHA                    \\\\\n",
       "\t  8659                   & 210                     & 195                     & 145                     & West Bromwich Albion    & WBA                    \\\\\n",
       "\t  8667                   & 210                     & 195                     & 151                     & Hull City               & HUL                    \\\\\n",
       "\t  8658                   & 210                     & 210                     & 174                     & Birmingham City         & BIR                    \\\\\n",
       "\t  8602                   & 210                     & 210                     & 136                     & Wolverhampton Wanderers & WOL                    \\\\\n",
       "\t  8483                   & 210                     & 205                     & 183                     & Blackpool               & BLA                    \\\\\n",
       "\t 10003                   & 210                     & 210                     & 131                     & Swansea City            & SWA                    \\\\\n",
       "\t 10172                   & 210                     & 210                     & 141                     & Queens Park Rangers     & QPR                    \\\\\n",
       "\t  8466                   & 210                     & 205                     & 129                     & Southampton             & SOU                    \\\\\n",
       "\\end{tabular}\n"
      ],
      "text/markdown": [
       "\n",
       "team_api_id | maxTotalDefenceAttr | maxTotalChanceCreation | maxTotalBuildUp | team_long_name | team_short_name | \n",
       "|---|---|---|---|---|---|---|---|---|---|\n",
       "| 10001                   | 210                     | 167                     | 148                     | KVC Westerlo            | WES                     | \n",
       "|  9986                   | 210                     | 148                     | 160                     | Sporting Charleroi      | CHA                     | \n",
       "|  8659                   | 210                     | 195                     | 145                     | West Bromwich Albion    | WBA                     | \n",
       "|  8667                   | 210                     | 195                     | 151                     | Hull City               | HUL                     | \n",
       "|  8658                   | 210                     | 210                     | 174                     | Birmingham City         | BIR                     | \n",
       "|  8602                   | 210                     | 210                     | 136                     | Wolverhampton Wanderers | WOL                     | \n",
       "|  8483                   | 210                     | 205                     | 183                     | Blackpool               | BLA                     | \n",
       "| 10003                   | 210                     | 210                     | 131                     | Swansea City            | SWA                     | \n",
       "| 10172                   | 210                     | 210                     | 141                     | Queens Park Rangers     | QPR                     | \n",
       "|  8466                   | 210                     | 205                     | 129                     | Southampton             | SOU                     | \n",
       "\n",
       "\n"
      ],
      "text/plain": [
       "   team_api_id maxTotalDefenceAttr maxTotalChanceCreation maxTotalBuildUp\n",
       "1  10001       210                 167                    148            \n",
       "2   9986       210                 148                    160            \n",
       "3   8659       210                 195                    145            \n",
       "4   8667       210                 195                    151            \n",
       "5   8658       210                 210                    174            \n",
       "6   8602       210                 210                    136            \n",
       "7   8483       210                 205                    183            \n",
       "8  10003       210                 210                    131            \n",
       "9  10172       210                 210                    141            \n",
       "10  8466       210                 205                    129            \n",
       "   team_long_name          team_short_name\n",
       "1  KVC Westerlo            WES            \n",
       "2  Sporting Charleroi      CHA            \n",
       "3  West Bromwich Albion    WBA            \n",
       "4  Hull City               HUL            \n",
       "5  Birmingham City         BIR            \n",
       "6  Wolverhampton Wanderers WOL            \n",
       "7  Blackpool               BLA            \n",
       "8  Swansea City            SWA            \n",
       "9  Queens Park Rangers     QPR            \n",
       "10 Southampton             SOU            "
      ]
     },
     "metadata": {},
     "output_type": "display_data"
    }
   ],
   "source": [
    "c=arrange(Team,desc(maxTotalDefenceAttr))\n",
    "c[1:10,]"
   ]
  },
  {
   "cell_type": "markdown",
   "metadata": {},
   "source": [
    "#  Q8. Which are the top 10 teams by number of scored goals?"
   ]
  },
  {
   "cell_type": "code",
   "execution_count": 19,
   "metadata": {
    "collapsed": false,
    "scrolled": true
   },
   "outputs": [],
   "source": [
    "homeTeamGoal=select(Match,home_team_api_id,home_team_goal)%>%#select home team column\n",
    "group_by(home_team_api_id)%>%\n",
    "summarize(totalGoals=sum(home_team_goal))%>% #sum goals by same team api id\n",
    "rename(team_api_id=home_team_api_id) #rename column for rbind\n",
    "awayTeamGoal=select(Match,away_team_api_id,away_team_goal)%>%#select away team column\n",
    "group_by(away_team_api_id)%>%\n",
    "summarize(totalGoals=sum(away_team_goal))%>%#sum goals by same team api id\n",
    "rename(team_api_id=away_team_api_id)#rename column for rbind\n",
    "Team=rbind(homeTeamGoal,awayTeamGoal)%>%#stack  homeTeamGoal and awayTeamGoal on top of each other\n",
    "group_by(team_api_id)%>%#group similar team together\n",
    "summarize(totalGoals=sum(totalGoals))%>%#sum up goals by same team id\n",
    "right_join(Team,by=\"team_api_id\")#join the data with Team dataframe"
   ]
  },
  {
   "cell_type": "markdown",
   "metadata": {},
   "source": [
    "15: Solution: Which are the top 10 teams by number of scored goals?¶"
   ]
  },
  {
   "cell_type": "code",
   "execution_count": 20,
   "metadata": {
    "collapsed": false,
    "scrolled": true
   },
   "outputs": [
    {
     "data": {
      "text/html": [
       "<table>\n",
       "<thead><tr><th scope=col>team_api_id</th><th scope=col>totalGoals</th><th scope=col>maxTotalDefenceAttr</th><th scope=col>maxTotalChanceCreation</th><th scope=col>maxTotalBuildUp</th><th scope=col>team_long_name</th><th scope=col>team_short_name</th></tr></thead>\n",
       "<tbody>\n",
       "\t<tr><td> 8634              </td><td>849                </td><td>195                </td><td>175                </td><td>122                </td><td>FC Barcelona       </td><td>BAR                </td></tr>\n",
       "\t<tr><td> 8633              </td><td>843                </td><td>178                </td><td>200                </td><td>153                </td><td>Real Madrid CF     </td><td>REA                </td></tr>\n",
       "\t<tr><td> 9925              </td><td>695                </td><td>200                </td><td>205                </td><td>180                </td><td>Celtic             </td><td>CEL                </td></tr>\n",
       "\t<tr><td> 9823              </td><td>653                </td><td>184                </td><td>205                </td><td> 97                </td><td>FC Bayern Munich   </td><td>BMU                </td></tr>\n",
       "\t<tr><td> 8640              </td><td>652                </td><td>167                </td><td>200                </td><td>153                </td><td>PSV                </td><td>PSV                </td></tr>\n",
       "\t<tr><td> 8593              </td><td>647                </td><td>193                </td><td>199                </td><td>117                </td><td>Ajax               </td><td>AJA                </td></tr>\n",
       "\t<tr><td> 9931              </td><td>619                </td><td>180                </td><td>186                </td><td>170                </td><td>FC Basel           </td><td>BAS                </td></tr>\n",
       "\t<tr><td> 8456              </td><td>606                </td><td>180                </td><td>210                </td><td>123                </td><td>Manchester City    </td><td>MCI                </td></tr>\n",
       "\t<tr><td> 8455              </td><td>583                </td><td>168                </td><td>200                </td><td>157                </td><td>Chelsea            </td><td>CHE                </td></tr>\n",
       "\t<tr><td>10260              </td><td>582                </td><td>163                </td><td>200                </td><td>134                </td><td>Manchester United  </td><td>MUN                </td></tr>\n",
       "\t<tr><td> 9825              </td><td>573                </td><td>170                </td><td>150                </td><td>140                </td><td>Arsenal            </td><td>ARS                </td></tr>\n",
       "\t<tr><td> 9847              </td><td>568                </td><td>210                </td><td>191                </td><td>174                </td><td>Paris Saint-Germain</td><td>PSG                </td></tr>\n",
       "\t<tr><td> 9772              </td><td>568                </td><td>175                </td><td>185                </td><td>178                </td><td>SL Benfica         </td><td>BEN                </td></tr>\n",
       "\t<tr><td> 9789              </td><td>551                </td><td>178                </td><td>194                </td><td>170                </td><td>Borussia Dortmund  </td><td>DOR                </td></tr>\n",
       "\t<tr><td> 9885              </td><td>543                </td><td>169                </td><td>195                </td><td>105                </td><td>Juventus           </td><td>JUV                </td></tr>\n",
       "\t<tr><td> 9773              </td><td>541                </td><td>178                </td><td>196                </td><td>173                </td><td>FC Porto           </td><td>POR                </td></tr>\n",
       "\t<tr><td> 8650              </td><td>531                </td><td>172                </td><td>180                </td><td>171                </td><td>Liverpool          </td><td>LIV                </td></tr>\n",
       "\t<tr><td> 8686              </td><td>530                </td><td>155                </td><td>208                </td><td>153                </td><td>Roma               </td><td>ROM                </td></tr>\n",
       "\t<tr><td>10192              </td><td>529                </td><td>170                </td><td>202                </td><td>172                </td><td>BSC Young Boys     </td><td>YB                 </td></tr>\n",
       "\t<tr><td> 9906              </td><td>524                </td><td>160                </td><td>206                </td><td>157                </td><td>Atlético Madrid    </td><td>AMA                </td></tr>\n",
       "\t<tr><td> 9875              </td><td>514                </td><td>165                </td><td>215                </td><td>180                </td><td>Napoli             </td><td>NAP                </td></tr>\n",
       "\t<tr><td> 8611              </td><td>509                </td><td>197                </td><td>172                </td><td>131                </td><td>FC Twente          </td><td>TWE                </td></tr>\n",
       "\t<tr><td> 9748              </td><td>497                </td><td>200                </td><td>185                </td><td>161                </td><td>Olympique Lyonnais </td><td>LYO                </td></tr>\n",
       "\t<tr><td> 8564              </td><td>496                </td><td>164                </td><td>177                </td><td>170                </td><td>Milan              </td><td>ACM                </td></tr>\n",
       "\t<tr><td> 8636              </td><td>496                </td><td>165                </td><td>203                </td><td>182                </td><td>Inter              </td><td>INT                </td></tr>\n",
       "\t<tr><td>10229              </td><td>492                </td><td>184                </td><td>185                </td><td>154                </td><td>AZ                 </td><td>ALK                </td></tr>\n",
       "\t<tr><td>10235              </td><td>489                </td><td>160                </td><td>165                </td><td>154                </td><td>Feyenoord          </td><td>FEY                </td></tr>\n",
       "\t<tr><td>10267              </td><td>484                </td><td>175                </td><td>185                </td><td>116                </td><td>Valencia CF        </td><td>VAL                </td></tr>\n",
       "\t<tr><td> 8178              </td><td>483                </td><td>200                </td><td>210                </td><td>157                </td><td>Bayer 04 Leverkusen</td><td>LEV                </td></tr>\n",
       "\t<tr><td> 8586              </td><td>481                </td><td>181                </td><td>210                </td><td>133                </td><td>Tottenham Hotspur  </td><td>TOT                </td></tr>\n",
       "\t<tr><td>...</td><td>...</td><td>...</td><td>...</td><td>...</td><td>...</td><td>...</td></tr>\n",
       "\t<tr><td>  9867                 </td><td>40                     </td><td>174                    </td><td>180                    </td><td>163                    </td><td>CD Tenerife            </td><td>TEN                    </td></tr>\n",
       "\t<tr><td>  8194                 </td><td>39                     </td><td>169                    </td><td>190                    </td><td>198                    </td><td>Fortuna Düsseldorf     </td><td>FDU                    </td></tr>\n",
       "\t<tr><td>  9836                 </td><td>38                     </td><td>149                    </td><td>165                    </td><td>154                    </td><td>Dijon FCO              </td><td>DIJ                    </td></tr>\n",
       "\t<tr><td>  8262                 </td><td>38                     </td><td>129                    </td><td>174                    </td><td>179                    </td><td>SV Darmstadt 98        </td><td>DAR                    </td></tr>\n",
       "\t<tr><td>  8388                 </td><td>38                     </td><td>158                    </td><td>160                    </td><td>137                    </td><td>CD Numancia            </td><td>NUM                    </td></tr>\n",
       "\t<tr><td>  6391                 </td><td>37                     </td><td>146                    </td><td>179                    </td><td>153                    </td><td>GFC Ajaccio            </td><td>GAJ                    </td></tr>\n",
       "\t<tr><td>208931                 </td><td>37                     </td><td>141                    </td><td>160                    </td><td>190                    </td><td>Carpi                  </td><td>CAP                    </td></tr>\n",
       "\t<tr><td> 10278                 </td><td>36                     </td><td>160                    </td><td>178                    </td><td>154                    </td><td>Hércules Club de Fútbol</td><td>HER                    </td></tr>\n",
       "\t<tr><td>  8152                 </td><td>35                     </td><td>185                    </td><td>190                    </td><td>161                    </td><td>FC St. Pauli           </td><td>STP                    </td></tr>\n",
       "\t<tr><td>  9891                 </td><td>35                     </td><td>193                    </td><td>156                    </td><td>157                    </td><td>Frosinone              </td><td>FRO                    </td></tr>\n",
       "\t<tr><td>  9858                 </td><td>34                     </td><td>155                    </td><td>180                    </td><td>141                    </td><td>Brescia                </td><td>BRE                    </td></tr>\n",
       "\t<tr><td>  6269                 </td><td>34                     </td><td>151                    </td><td>172                    </td><td>179                    </td><td>Novara                 </td><td>NOV                    </td></tr>\n",
       "\t<tr><td>  8479                 </td><td>34                     </td><td>151                    </td><td>140                    </td><td>148                    </td><td>RC Recreativo          </td><td>HUE                    </td></tr>\n",
       "\t<tr><td>  8234                 </td><td>33                     </td><td>140                    </td><td>151                    </td><td>160                    </td><td>FC Ingolstadt 04       </td><td>ING                    </td></tr>\n",
       "\t<tr><td>  8344                 </td><td>32                     </td><td>210                    </td><td>210                    </td><td>168                    </td><td>Cardiff City           </td><td>CAR                    </td></tr>\n",
       "\t<tr><td>  8550                 </td><td>31                     </td><td>150                    </td><td>175                    </td><td>152                    </td><td>FC Metz                </td><td>MET                    </td></tr>\n",
       "\t<tr><td>  8460                 </td><td>31                     </td><td>145                    </td><td>168                    </td><td>175                    </td><td>SC Paderborn 07        </td><td>PAD                    </td></tr>\n",
       "\t<tr><td>  9746                 </td><td>30                     </td><td>168                    </td><td>180                    </td><td>154                    </td><td>Le Havre AC            </td><td>LEH                    </td></tr>\n",
       "\t<tr><td>  8398                 </td><td>30                     </td><td>206                    </td><td>175                    </td><td>126                    </td><td>FC Energie Cottbus     </td><td>COT                    </td></tr>\n",
       "\t<tr><td>  8295                 </td><td>30                     </td><td>170                    </td><td>205                    </td><td>164                    </td><td>Karlsruher SC          </td><td>KAR                    </td></tr>\n",
       "\t<tr><td>  8690                 </td><td>30                     </td><td>140                    </td><td>186                    </td><td>163                    </td><td>Reggio Calabria        </td><td>REG                    </td></tr>\n",
       "\t<tr><td>  9912                 </td><td>29                     </td><td>138                    </td><td>165                    </td><td>166                    </td><td>DSC Arminia Bielefeld  </td><td>BIE                    </td></tr>\n",
       "\t<tr><td>  9776                 </td><td>29                     </td><td>157                    </td><td>195                    </td><td>183                    </td><td>Eintracht Braunschweig </td><td>BRA                    </td></tr>\n",
       "\t<tr><td>  6547                 </td><td>29                     </td><td>121                    </td><td>146                    </td><td>147                    </td><td>FC Penafiel            </td><td>PEN                    </td></tr>\n",
       "\t<tr><td>  8549                 </td><td>28                     </td><td>147                    </td><td>190                    </td><td>144                    </td><td>Middlesbrough          </td><td>MID                    </td></tr>\n",
       "\t<tr><td>  9878                 </td><td>27                     </td><td>145                    </td><td>180                    </td><td>152                    </td><td>Pescara                </td><td>PES                    </td></tr>\n",
       "\t<tr><td>  8357                 </td><td>26                     </td><td>170                    </td><td>170                    </td><td>167                    </td><td>SpVgg Greuther Fürth   </td><td>GRF                    </td></tr>\n",
       "\t<tr><td>  6631                 </td><td>24                     </td><td>164                    </td><td>176                    </td><td>134                    </td><td>FC Dordrecht           </td><td>DOR                    </td></tr>\n",
       "\t<tr><td>  7869                 </td><td>22                     </td><td>129                    </td><td>171                    </td><td>146                    </td><td>Córdoba CF             </td><td>COR                    </td></tr>\n",
       "\t<tr><td>108893                 </td><td>21                     </td><td>158                    </td><td>141                    </td><td>156                    </td><td>AC Arles-Avignon       </td><td>ARL                    </td></tr>\n",
       "</tbody>\n",
       "</table>\n"
      ],
      "text/latex": [
       "\\begin{tabular}{r|lllllll}\n",
       " team\\_api\\_id & totalGoals & maxTotalDefenceAttr & maxTotalChanceCreation & maxTotalBuildUp & team\\_long\\_name & team\\_short\\_name\\\\\n",
       "\\hline\n",
       "\t  8634               & 849                 & 195                 & 175                 & 122                 & FC Barcelona        & BAR                \\\\\n",
       "\t  8633               & 843                 & 178                 & 200                 & 153                 & Real Madrid CF      & REA                \\\\\n",
       "\t  9925               & 695                 & 200                 & 205                 & 180                 & Celtic              & CEL                \\\\\n",
       "\t  9823               & 653                 & 184                 & 205                 &  97                 & FC Bayern Munich    & BMU                \\\\\n",
       "\t  8640               & 652                 & 167                 & 200                 & 153                 & PSV                 & PSV                \\\\\n",
       "\t  8593               & 647                 & 193                 & 199                 & 117                 & Ajax                & AJA                \\\\\n",
       "\t  9931               & 619                 & 180                 & 186                 & 170                 & FC Basel            & BAS                \\\\\n",
       "\t  8456               & 606                 & 180                 & 210                 & 123                 & Manchester City     & MCI                \\\\\n",
       "\t  8455               & 583                 & 168                 & 200                 & 157                 & Chelsea             & CHE                \\\\\n",
       "\t 10260               & 582                 & 163                 & 200                 & 134                 & Manchester United   & MUN                \\\\\n",
       "\t  9825               & 573                 & 170                 & 150                 & 140                 & Arsenal             & ARS                \\\\\n",
       "\t  9847               & 568                 & 210                 & 191                 & 174                 & Paris Saint-Germain & PSG                \\\\\n",
       "\t  9772               & 568                 & 175                 & 185                 & 178                 & SL Benfica          & BEN                \\\\\n",
       "\t  9789               & 551                 & 178                 & 194                 & 170                 & Borussia Dortmund   & DOR                \\\\\n",
       "\t  9885               & 543                 & 169                 & 195                 & 105                 & Juventus            & JUV                \\\\\n",
       "\t  9773               & 541                 & 178                 & 196                 & 173                 & FC Porto            & POR                \\\\\n",
       "\t  8650               & 531                 & 172                 & 180                 & 171                 & Liverpool           & LIV                \\\\\n",
       "\t  8686               & 530                 & 155                 & 208                 & 153                 & Roma                & ROM                \\\\\n",
       "\t 10192               & 529                 & 170                 & 202                 & 172                 & BSC Young Boys      & YB                 \\\\\n",
       "\t  9906               & 524                 & 160                 & 206                 & 157                 & Atlético Madrid     & AMA                \\\\\n",
       "\t  9875               & 514                 & 165                 & 215                 & 180                 & Napoli              & NAP                \\\\\n",
       "\t  8611               & 509                 & 197                 & 172                 & 131                 & FC Twente           & TWE                \\\\\n",
       "\t  9748               & 497                 & 200                 & 185                 & 161                 & Olympique Lyonnais  & LYO                \\\\\n",
       "\t  8564               & 496                 & 164                 & 177                 & 170                 & Milan               & ACM                \\\\\n",
       "\t  8636               & 496                 & 165                 & 203                 & 182                 & Inter               & INT                \\\\\n",
       "\t 10229               & 492                 & 184                 & 185                 & 154                 & AZ                  & ALK                \\\\\n",
       "\t 10235               & 489                 & 160                 & 165                 & 154                 & Feyenoord           & FEY                \\\\\n",
       "\t 10267               & 484                 & 175                 & 185                 & 116                 & Valencia CF         & VAL                \\\\\n",
       "\t  8178               & 483                 & 200                 & 210                 & 157                 & Bayer 04 Leverkusen & LEV                \\\\\n",
       "\t  8586               & 481                 & 181                 & 210                 & 133                 & Tottenham Hotspur   & TOT                \\\\\n",
       "\t ... & ... & ... & ... & ... & ... & ...\\\\\n",
       "\t   9867                  & 40                      & 174                     & 180                     & 163                     & CD Tenerife             & TEN                    \\\\\n",
       "\t   8194                  & 39                      & 169                     & 190                     & 198                     & Fortuna Düsseldorf      & FDU                    \\\\\n",
       "\t   9836                  & 38                      & 149                     & 165                     & 154                     & Dijon FCO               & DIJ                    \\\\\n",
       "\t   8262                  & 38                      & 129                     & 174                     & 179                     & SV Darmstadt 98         & DAR                    \\\\\n",
       "\t   8388                  & 38                      & 158                     & 160                     & 137                     & CD Numancia             & NUM                    \\\\\n",
       "\t   6391                  & 37                      & 146                     & 179                     & 153                     & GFC Ajaccio             & GAJ                    \\\\\n",
       "\t 208931                  & 37                      & 141                     & 160                     & 190                     & Carpi                   & CAP                    \\\\\n",
       "\t  10278                  & 36                      & 160                     & 178                     & 154                     & Hércules Club de Fútbol & HER                    \\\\\n",
       "\t   8152                  & 35                      & 185                     & 190                     & 161                     & FC St. Pauli            & STP                    \\\\\n",
       "\t   9891                  & 35                      & 193                     & 156                     & 157                     & Frosinone               & FRO                    \\\\\n",
       "\t   9858                  & 34                      & 155                     & 180                     & 141                     & Brescia                 & BRE                    \\\\\n",
       "\t   6269                  & 34                      & 151                     & 172                     & 179                     & Novara                  & NOV                    \\\\\n",
       "\t   8479                  & 34                      & 151                     & 140                     & 148                     & RC Recreativo           & HUE                    \\\\\n",
       "\t   8234                  & 33                      & 140                     & 151                     & 160                     & FC Ingolstadt 04        & ING                    \\\\\n",
       "\t   8344                  & 32                      & 210                     & 210                     & 168                     & Cardiff City            & CAR                    \\\\\n",
       "\t   8550                  & 31                      & 150                     & 175                     & 152                     & FC Metz                 & MET                    \\\\\n",
       "\t   8460                  & 31                      & 145                     & 168                     & 175                     & SC Paderborn 07         & PAD                    \\\\\n",
       "\t   9746                  & 30                      & 168                     & 180                     & 154                     & Le Havre AC             & LEH                    \\\\\n",
       "\t   8398                  & 30                      & 206                     & 175                     & 126                     & FC Energie Cottbus      & COT                    \\\\\n",
       "\t   8295                  & 30                      & 170                     & 205                     & 164                     & Karlsruher SC           & KAR                    \\\\\n",
       "\t   8690                  & 30                      & 140                     & 186                     & 163                     & Reggio Calabria         & REG                    \\\\\n",
       "\t   9912                  & 29                      & 138                     & 165                     & 166                     & DSC Arminia Bielefeld   & BIE                    \\\\\n",
       "\t   9776                  & 29                      & 157                     & 195                     & 183                     & Eintracht Braunschweig  & BRA                    \\\\\n",
       "\t   6547                  & 29                      & 121                     & 146                     & 147                     & FC Penafiel             & PEN                    \\\\\n",
       "\t   8549                  & 28                      & 147                     & 190                     & 144                     & Middlesbrough           & MID                    \\\\\n",
       "\t   9878                  & 27                      & 145                     & 180                     & 152                     & Pescara                 & PES                    \\\\\n",
       "\t   8357                  & 26                      & 170                     & 170                     & 167                     & SpVgg Greuther Fürth    & GRF                    \\\\\n",
       "\t   6631                  & 24                      & 164                     & 176                     & 134                     & FC Dordrecht            & DOR                    \\\\\n",
       "\t   7869                  & 22                      & 129                     & 171                     & 146                     & Córdoba CF              & COR                    \\\\\n",
       "\t 108893                  & 21                      & 158                     & 141                     & 156                     & AC Arles-Avignon        & ARL                    \\\\\n",
       "\\end{tabular}\n"
      ],
      "text/markdown": [
       "\n",
       "team_api_id | totalGoals | maxTotalDefenceAttr | maxTotalChanceCreation | maxTotalBuildUp | team_long_name | team_short_name | \n",
       "|---|---|---|---|---|---|---|---|---|---|---|---|---|---|---|---|---|---|---|---|---|---|---|---|---|---|---|---|---|---|---|---|---|---|---|---|---|---|---|---|---|---|---|---|---|---|---|---|---|---|---|---|---|---|---|---|---|---|---|---|---|\n",
       "|  8634               | 849                 | 195                 | 175                 | 122                 | FC Barcelona        | BAR                 | \n",
       "|  8633               | 843                 | 178                 | 200                 | 153                 | Real Madrid CF      | REA                 | \n",
       "|  9925               | 695                 | 200                 | 205                 | 180                 | Celtic              | CEL                 | \n",
       "|  9823               | 653                 | 184                 | 205                 |  97                 | FC Bayern Munich    | BMU                 | \n",
       "|  8640               | 652                 | 167                 | 200                 | 153                 | PSV                 | PSV                 | \n",
       "|  8593               | 647                 | 193                 | 199                 | 117                 | Ajax                | AJA                 | \n",
       "|  9931               | 619                 | 180                 | 186                 | 170                 | FC Basel            | BAS                 | \n",
       "|  8456               | 606                 | 180                 | 210                 | 123                 | Manchester City     | MCI                 | \n",
       "|  8455               | 583                 | 168                 | 200                 | 157                 | Chelsea             | CHE                 | \n",
       "| 10260               | 582                 | 163                 | 200                 | 134                 | Manchester United   | MUN                 | \n",
       "|  9825               | 573                 | 170                 | 150                 | 140                 | Arsenal             | ARS                 | \n",
       "|  9847               | 568                 | 210                 | 191                 | 174                 | Paris Saint-Germain | PSG                 | \n",
       "|  9772               | 568                 | 175                 | 185                 | 178                 | SL Benfica          | BEN                 | \n",
       "|  9789               | 551                 | 178                 | 194                 | 170                 | Borussia Dortmund   | DOR                 | \n",
       "|  9885               | 543                 | 169                 | 195                 | 105                 | Juventus            | JUV                 | \n",
       "|  9773               | 541                 | 178                 | 196                 | 173                 | FC Porto            | POR                 | \n",
       "|  8650               | 531                 | 172                 | 180                 | 171                 | Liverpool           | LIV                 | \n",
       "|  8686               | 530                 | 155                 | 208                 | 153                 | Roma                | ROM                 | \n",
       "| 10192               | 529                 | 170                 | 202                 | 172                 | BSC Young Boys      | YB                  | \n",
       "|  9906               | 524                 | 160                 | 206                 | 157                 | Atlético Madrid     | AMA                 | \n",
       "|  9875               | 514                 | 165                 | 215                 | 180                 | Napoli              | NAP                 | \n",
       "|  8611               | 509                 | 197                 | 172                 | 131                 | FC Twente           | TWE                 | \n",
       "|  9748               | 497                 | 200                 | 185                 | 161                 | Olympique Lyonnais  | LYO                 | \n",
       "|  8564               | 496                 | 164                 | 177                 | 170                 | Milan               | ACM                 | \n",
       "|  8636               | 496                 | 165                 | 203                 | 182                 | Inter               | INT                 | \n",
       "| 10229               | 492                 | 184                 | 185                 | 154                 | AZ                  | ALK                 | \n",
       "| 10235               | 489                 | 160                 | 165                 | 154                 | Feyenoord           | FEY                 | \n",
       "| 10267               | 484                 | 175                 | 185                 | 116                 | Valencia CF         | VAL                 | \n",
       "|  8178               | 483                 | 200                 | 210                 | 157                 | Bayer 04 Leverkusen | LEV                 | \n",
       "|  8586               | 481                 | 181                 | 210                 | 133                 | Tottenham Hotspur   | TOT                 | \n",
       "| ... | ... | ... | ... | ... | ... | ... | \n",
       "|   9867                  | 40                      | 174                     | 180                     | 163                     | CD Tenerife             | TEN                     | \n",
       "|   8194                  | 39                      | 169                     | 190                     | 198                     | Fortuna Düsseldorf      | FDU                     | \n",
       "|   9836                  | 38                      | 149                     | 165                     | 154                     | Dijon FCO               | DIJ                     | \n",
       "|   8262                  | 38                      | 129                     | 174                     | 179                     | SV Darmstadt 98         | DAR                     | \n",
       "|   8388                  | 38                      | 158                     | 160                     | 137                     | CD Numancia             | NUM                     | \n",
       "|   6391                  | 37                      | 146                     | 179                     | 153                     | GFC Ajaccio             | GAJ                     | \n",
       "| 208931                  | 37                      | 141                     | 160                     | 190                     | Carpi                   | CAP                     | \n",
       "|  10278                  | 36                      | 160                     | 178                     | 154                     | Hércules Club de Fútbol | HER                     | \n",
       "|   8152                  | 35                      | 185                     | 190                     | 161                     | FC St. Pauli            | STP                     | \n",
       "|   9891                  | 35                      | 193                     | 156                     | 157                     | Frosinone               | FRO                     | \n",
       "|   9858                  | 34                      | 155                     | 180                     | 141                     | Brescia                 | BRE                     | \n",
       "|   6269                  | 34                      | 151                     | 172                     | 179                     | Novara                  | NOV                     | \n",
       "|   8479                  | 34                      | 151                     | 140                     | 148                     | RC Recreativo           | HUE                     | \n",
       "|   8234                  | 33                      | 140                     | 151                     | 160                     | FC Ingolstadt 04        | ING                     | \n",
       "|   8344                  | 32                      | 210                     | 210                     | 168                     | Cardiff City            | CAR                     | \n",
       "|   8550                  | 31                      | 150                     | 175                     | 152                     | FC Metz                 | MET                     | \n",
       "|   8460                  | 31                      | 145                     | 168                     | 175                     | SC Paderborn 07         | PAD                     | \n",
       "|   9746                  | 30                      | 168                     | 180                     | 154                     | Le Havre AC             | LEH                     | \n",
       "|   8398                  | 30                      | 206                     | 175                     | 126                     | FC Energie Cottbus      | COT                     | \n",
       "|   8295                  | 30                      | 170                     | 205                     | 164                     | Karlsruher SC           | KAR                     | \n",
       "|   8690                  | 30                      | 140                     | 186                     | 163                     | Reggio Calabria         | REG                     | \n",
       "|   9912                  | 29                      | 138                     | 165                     | 166                     | DSC Arminia Bielefeld   | BIE                     | \n",
       "|   9776                  | 29                      | 157                     | 195                     | 183                     | Eintracht Braunschweig  | BRA                     | \n",
       "|   6547                  | 29                      | 121                     | 146                     | 147                     | FC Penafiel             | PEN                     | \n",
       "|   8549                  | 28                      | 147                     | 190                     | 144                     | Middlesbrough           | MID                     | \n",
       "|   9878                  | 27                      | 145                     | 180                     | 152                     | Pescara                 | PES                     | \n",
       "|   8357                  | 26                      | 170                     | 170                     | 167                     | SpVgg Greuther Fürth    | GRF                     | \n",
       "|   6631                  | 24                      | 164                     | 176                     | 134                     | FC Dordrecht            | DOR                     | \n",
       "|   7869                  | 22                      | 129                     | 171                     | 146                     | Córdoba CF              | COR                     | \n",
       "| 108893                  | 21                      | 158                     | 141                     | 156                     | AC Arles-Avignon        | ARL                     | \n",
       "\n",
       "\n"
      ],
      "text/plain": [
       "    team_api_id totalGoals maxTotalDefenceAttr maxTotalChanceCreation\n",
       "1    8634       849        195                 175                   \n",
       "2    8633       843        178                 200                   \n",
       "3    9925       695        200                 205                   \n",
       "4    9823       653        184                 205                   \n",
       "5    8640       652        167                 200                   \n",
       "6    8593       647        193                 199                   \n",
       "7    9931       619        180                 186                   \n",
       "8    8456       606        180                 210                   \n",
       "9    8455       583        168                 200                   \n",
       "10  10260       582        163                 200                   \n",
       "11   9825       573        170                 150                   \n",
       "12   9847       568        210                 191                   \n",
       "13   9772       568        175                 185                   \n",
       "14   9789       551        178                 194                   \n",
       "15   9885       543        169                 195                   \n",
       "16   9773       541        178                 196                   \n",
       "17   8650       531        172                 180                   \n",
       "18   8686       530        155                 208                   \n",
       "19  10192       529        170                 202                   \n",
       "20   9906       524        160                 206                   \n",
       "21   9875       514        165                 215                   \n",
       "22   8611       509        197                 172                   \n",
       "23   9748       497        200                 185                   \n",
       "24   8564       496        164                 177                   \n",
       "25   8636       496        165                 203                   \n",
       "26  10229       492        184                 185                   \n",
       "27  10235       489        160                 165                   \n",
       "28  10267       484        175                 185                   \n",
       "29   8178       483        200                 210                   \n",
       "30   8586       481        181                 210                   \n",
       "... ...         ...        ...                 ...                   \n",
       "233   9867      40         174                 180                   \n",
       "234   8194      39         169                 190                   \n",
       "235   9836      38         149                 165                   \n",
       "236   8262      38         129                 174                   \n",
       "237   8388      38         158                 160                   \n",
       "238   6391      37         146                 179                   \n",
       "239 208931      37         141                 160                   \n",
       "240  10278      36         160                 178                   \n",
       "241   8152      35         185                 190                   \n",
       "242   9891      35         193                 156                   \n",
       "243   9858      34         155                 180                   \n",
       "244   6269      34         151                 172                   \n",
       "245   8479      34         151                 140                   \n",
       "246   8234      33         140                 151                   \n",
       "247   8344      32         210                 210                   \n",
       "248   8550      31         150                 175                   \n",
       "249   8460      31         145                 168                   \n",
       "250   9746      30         168                 180                   \n",
       "251   8398      30         206                 175                   \n",
       "252   8295      30         170                 205                   \n",
       "253   8690      30         140                 186                   \n",
       "254   9912      29         138                 165                   \n",
       "255   9776      29         157                 195                   \n",
       "256   6547      29         121                 146                   \n",
       "257   8549      28         147                 190                   \n",
       "258   9878      27         145                 180                   \n",
       "259   8357      26         170                 170                   \n",
       "260   6631      24         164                 176                   \n",
       "261   7869      22         129                 171                   \n",
       "262 108893      21         158                 141                   \n",
       "    maxTotalBuildUp team_long_name          team_short_name\n",
       "1   122             FC Barcelona            BAR            \n",
       "2   153             Real Madrid CF          REA            \n",
       "3   180             Celtic                  CEL            \n",
       "4    97             FC Bayern Munich        BMU            \n",
       "5   153             PSV                     PSV            \n",
       "6   117             Ajax                    AJA            \n",
       "7   170             FC Basel                BAS            \n",
       "8   123             Manchester City         MCI            \n",
       "9   157             Chelsea                 CHE            \n",
       "10  134             Manchester United       MUN            \n",
       "11  140             Arsenal                 ARS            \n",
       "12  174             Paris Saint-Germain     PSG            \n",
       "13  178             SL Benfica              BEN            \n",
       "14  170             Borussia Dortmund       DOR            \n",
       "15  105             Juventus                JUV            \n",
       "16  173             FC Porto                POR            \n",
       "17  171             Liverpool               LIV            \n",
       "18  153             Roma                    ROM            \n",
       "19  172             BSC Young Boys          YB             \n",
       "20  157             Atlético Madrid         AMA            \n",
       "21  180             Napoli                  NAP            \n",
       "22  131             FC Twente               TWE            \n",
       "23  161             Olympique Lyonnais      LYO            \n",
       "24  170             Milan                   ACM            \n",
       "25  182             Inter                   INT            \n",
       "26  154             AZ                      ALK            \n",
       "27  154             Feyenoord               FEY            \n",
       "28  116             Valencia CF             VAL            \n",
       "29  157             Bayer 04 Leverkusen     LEV            \n",
       "30  133             Tottenham Hotspur       TOT            \n",
       "... ...             ...                     ...            \n",
       "233 163             CD Tenerife             TEN            \n",
       "234 198             Fortuna Düsseldorf      FDU            \n",
       "235 154             Dijon FCO               DIJ            \n",
       "236 179             SV Darmstadt 98         DAR            \n",
       "237 137             CD Numancia             NUM            \n",
       "238 153             GFC Ajaccio             GAJ            \n",
       "239 190             Carpi                   CAP            \n",
       "240 154             Hércules Club de Fútbol HER            \n",
       "241 161             FC St. Pauli            STP            \n",
       "242 157             Frosinone               FRO            \n",
       "243 141             Brescia                 BRE            \n",
       "244 179             Novara                  NOV            \n",
       "245 148             RC Recreativo           HUE            \n",
       "246 160             FC Ingolstadt 04        ING            \n",
       "247 168             Cardiff City            CAR            \n",
       "248 152             FC Metz                 MET            \n",
       "249 175             SC Paderborn 07         PAD            \n",
       "250 154             Le Havre AC             LEH            \n",
       "251 126             FC Energie Cottbus      COT            \n",
       "252 164             Karlsruher SC           KAR            \n",
       "253 163             Reggio Calabria         REG            \n",
       "254 166             DSC Arminia Bielefeld   BIE            \n",
       "255 183             Eintracht Braunschweig  BRA            \n",
       "256 147             FC Penafiel             PEN            \n",
       "257 144             Middlesbrough           MID            \n",
       "258 152             Pescara                 PES            \n",
       "259 167             SpVgg Greuther Fürth    GRF            \n",
       "260 134             FC Dordrecht            DOR            \n",
       "261 146             Córdoba CF              COR            \n",
       "262 156             AC Arles-Avignon        ARL            "
      ]
     },
     "metadata": {},
     "output_type": "display_data"
    }
   ],
   "source": [
    "arrange(Team,desc(totalGoals))"
   ]
  },
  {
   "cell_type": "markdown",
   "metadata": {},
   "source": [
    "### Q3 Which are the top 10 players by number of appearances (with any team they played with)?"
   ]
  },
  {
   "cell_type": "markdown",
   "metadata": {},
   "source": [
    "16: In match_sublime dataframe , we had molten down all the player columns [12:33] to player_Api_id column. Also, in the same data frame we have the match api id of each players. Grouping the players by player api id and counting their match api id will give the number of matches each played irrespective of teams."
   ]
  },
  {
   "cell_type": "code",
   "execution_count": 21,
   "metadata": {
    "collapsed": false
   },
   "outputs": [
    {
     "data": {
      "text/html": [
       "<table>\n",
       "<thead><tr><th scope=col>id</th><th scope=col>country_id</th><th scope=col>league_id</th><th scope=col>season</th><th scope=col>stage</th><th scope=col>date</th><th scope=col>match_api_id</th><th scope=col>home_team_api_id</th><th scope=col>away_team_api_id</th><th scope=col>home_team_goal</th><th scope=col>away_team_goal</th><th scope=col>variable</th><th scope=col>player_api_id</th><th scope=col>team_api_id</th></tr></thead>\n",
       "<tbody>\n",
       "\t<tr><td>145                </td><td>1                  </td><td>1                  </td><td>2008/2009          </td><td>24                 </td><td>2009-02-28 00:00:00</td><td>493016             </td><td>9996               </td><td>8635               </td><td>1                  </td><td>1                  </td><td>home_player_1      </td><td>39890              </td><td>9996               </td></tr>\n",
       "\t<tr><td>146                </td><td>1                  </td><td>1                  </td><td>2008/2009          </td><td>24                 </td><td>2009-02-27 00:00:00</td><td>493017             </td><td>8203               </td><td>9987               </td><td>2                  </td><td>1                  </td><td>home_player_1      </td><td>38327              </td><td>8203               </td></tr>\n",
       "\t<tr><td>147                </td><td>1                  </td><td>1                  </td><td>2008/2009          </td><td>24                 </td><td>2009-02-28 00:00:00</td><td>493018             </td><td>9986               </td><td>9998               </td><td>3                  </td><td>0                  </td><td>home_player_1      </td><td>95597              </td><td>9986               </td></tr>\n",
       "\t<tr><td>149                </td><td>1                  </td><td>1                  </td><td>2008/2009          </td><td>24                 </td><td>2009-03-01 00:00:00</td><td>493020             </td><td>9994               </td><td>9991               </td><td>0                  </td><td>1                  </td><td>home_player_1      </td><td>30934              </td><td>9994               </td></tr>\n",
       "\t<tr><td>150                </td><td>1                  </td><td>1                  </td><td>2008/2009          </td><td>24                 </td><td>2009-02-28 00:00:00</td><td>493021             </td><td>8342               </td><td>9999               </td><td>2                  </td><td>1                  </td><td>home_player_1      </td><td>37990              </td><td>8342               </td></tr>\n",
       "\t<tr><td>151                </td><td>1                  </td><td>1                  </td><td>2008/2009          </td><td>24                 </td><td>2009-02-28 00:00:00</td><td>493022             </td><td>9993               </td><td>8571               </td><td>3                  </td><td>0                  </td><td>home_player_1      </td><td>38391              </td><td>9993               </td></tr>\n",
       "</tbody>\n",
       "</table>\n"
      ],
      "text/latex": [
       "\\begin{tabular}{r|llllllllllllll}\n",
       " id & country\\_id & league\\_id & season & stage & date & match\\_api\\_id & home\\_team\\_api\\_id & away\\_team\\_api\\_id & home\\_team\\_goal & away\\_team\\_goal & variable & player\\_api\\_id & team\\_api\\_id\\\\\n",
       "\\hline\n",
       "\t 145                 & 1                   & 1                   & 2008/2009           & 24                  & 2009-02-28 00:00:00 & 493016              & 9996                & 8635                & 1                   & 1                   & home\\_player\\_1   & 39890               & 9996               \\\\\n",
       "\t 146                 & 1                   & 1                   & 2008/2009           & 24                  & 2009-02-27 00:00:00 & 493017              & 8203                & 9987                & 2                   & 1                   & home\\_player\\_1   & 38327               & 8203               \\\\\n",
       "\t 147                 & 1                   & 1                   & 2008/2009           & 24                  & 2009-02-28 00:00:00 & 493018              & 9986                & 9998                & 3                   & 0                   & home\\_player\\_1   & 95597               & 9986               \\\\\n",
       "\t 149                 & 1                   & 1                   & 2008/2009           & 24                  & 2009-03-01 00:00:00 & 493020              & 9994                & 9991                & 0                   & 1                   & home\\_player\\_1   & 30934               & 9994               \\\\\n",
       "\t 150                 & 1                   & 1                   & 2008/2009           & 24                  & 2009-02-28 00:00:00 & 493021              & 8342                & 9999                & 2                   & 1                   & home\\_player\\_1   & 37990               & 8342               \\\\\n",
       "\t 151                 & 1                   & 1                   & 2008/2009           & 24                  & 2009-02-28 00:00:00 & 493022              & 9993                & 8571                & 3                   & 0                   & home\\_player\\_1   & 38391               & 9993               \\\\\n",
       "\\end{tabular}\n"
      ],
      "text/markdown": [
       "\n",
       "id | country_id | league_id | season | stage | date | match_api_id | home_team_api_id | away_team_api_id | home_team_goal | away_team_goal | variable | player_api_id | team_api_id | \n",
       "|---|---|---|---|---|---|\n",
       "| 145                 | 1                   | 1                   | 2008/2009           | 24                  | 2009-02-28 00:00:00 | 493016              | 9996                | 8635                | 1                   | 1                   | home_player_1       | 39890               | 9996                | \n",
       "| 146                 | 1                   | 1                   | 2008/2009           | 24                  | 2009-02-27 00:00:00 | 493017              | 8203                | 9987                | 2                   | 1                   | home_player_1       | 38327               | 8203                | \n",
       "| 147                 | 1                   | 1                   | 2008/2009           | 24                  | 2009-02-28 00:00:00 | 493018              | 9986                | 9998                | 3                   | 0                   | home_player_1       | 95597               | 9986                | \n",
       "| 149                 | 1                   | 1                   | 2008/2009           | 24                  | 2009-03-01 00:00:00 | 493020              | 9994                | 9991                | 0                   | 1                   | home_player_1       | 30934               | 9994                | \n",
       "| 150                 | 1                   | 1                   | 2008/2009           | 24                  | 2009-02-28 00:00:00 | 493021              | 8342                | 9999                | 2                   | 1                   | home_player_1       | 37990               | 8342                | \n",
       "| 151                 | 1                   | 1                   | 2008/2009           | 24                  | 2009-02-28 00:00:00 | 493022              | 9993                | 8571                | 3                   | 0                   | home_player_1       | 38391               | 9993                | \n",
       "\n",
       "\n"
      ],
      "text/plain": [
       "  id  country_id league_id season    stage date                match_api_id\n",
       "1 145 1          1         2008/2009 24    2009-02-28 00:00:00 493016      \n",
       "2 146 1          1         2008/2009 24    2009-02-27 00:00:00 493017      \n",
       "3 147 1          1         2008/2009 24    2009-02-28 00:00:00 493018      \n",
       "4 149 1          1         2008/2009 24    2009-03-01 00:00:00 493020      \n",
       "5 150 1          1         2008/2009 24    2009-02-28 00:00:00 493021      \n",
       "6 151 1          1         2008/2009 24    2009-02-28 00:00:00 493022      \n",
       "  home_team_api_id away_team_api_id home_team_goal away_team_goal variable     \n",
       "1 9996             8635             1              1              home_player_1\n",
       "2 8203             9987             2              1              home_player_1\n",
       "3 9986             9998             3              0              home_player_1\n",
       "4 9994             9991             0              1              home_player_1\n",
       "5 8342             9999             2              1              home_player_1\n",
       "6 9993             8571             3              0              home_player_1\n",
       "  player_api_id team_api_id\n",
       "1 39890         9996       \n",
       "2 38327         8203       \n",
       "3 95597         9986       \n",
       "4 30934         9994       \n",
       "5 37990         8342       \n",
       "6 38391         9993       "
      ]
     },
     "metadata": {},
     "output_type": "display_data"
    }
   ],
   "source": [
    "head(match_sublime)"
   ]
  },
  {
   "cell_type": "markdown",
   "metadata": {},
   "source": [
    "17:"
   ]
  },
  {
   "cell_type": "code",
   "execution_count": 22,
   "metadata": {
    "collapsed": false
   },
   "outputs": [],
   "source": [
    "Player=select(match_sublime,match_api_id,player_api_id)%>%   #select match id and player id from molten dataframe\n",
    "group_by(player_api_id)%>%                                   #group by each player\n",
    "summarize(totalMatchPlayed=n())%>%                           #find number of match played by each player\n",
    "right_join(Player,by=\"player_api_id\")                        #join with the player table\n",
    "# arrange(Player,desc(totalMatchPlayed))%>%head(10)"
   ]
  },
  {
   "cell_type": "markdown",
   "metadata": {},
   "source": [
    "18: Solution Q3"
   ]
  },
  {
   "cell_type": "code",
   "execution_count": 27,
   "metadata": {
    "collapsed": false
   },
   "outputs": [
    {
     "data": {
      "text/html": [
       "<table>\n",
       "<thead><tr><th scope=col>player_name</th><th scope=col>totalMatchPlayed</th></tr></thead>\n",
       "<tbody>\n",
       "\t<tr><td>Steve Mandanda      </td><td>300                 </td></tr>\n",
       "\t<tr><td>Stephane Ruffier    </td><td>294                 </td></tr>\n",
       "\t<tr><td>Samir Handanovic    </td><td>286                 </td></tr>\n",
       "\t<tr><td>Gorka Iraizoz Moreno</td><td>286                 </td></tr>\n",
       "\t<tr><td>Hugo Lloris         </td><td>282                 </td></tr>\n",
       "\t<tr><td>Tim Howard          </td><td>282                 </td></tr>\n",
       "\t<tr><td>Joe Hart            </td><td>275                 </td></tr>\n",
       "\t<tr><td>Cedric Carrasso     </td><td>268                 </td></tr>\n",
       "\t<tr><td>Daniel Congre       </td><td>262                 </td></tr>\n",
       "\t<tr><td>Moussa Sissoko      </td><td>260                 </td></tr>\n",
       "</tbody>\n",
       "</table>\n"
      ],
      "text/latex": [
       "\\begin{tabular}{r|ll}\n",
       " player\\_name & totalMatchPlayed\\\\\n",
       "\\hline\n",
       "\t Steve Mandanda       & 300                 \\\\\n",
       "\t Stephane Ruffier     & 294                 \\\\\n",
       "\t Samir Handanovic     & 286                 \\\\\n",
       "\t Gorka Iraizoz Moreno & 286                 \\\\\n",
       "\t Hugo Lloris          & 282                 \\\\\n",
       "\t Tim Howard           & 282                 \\\\\n",
       "\t Joe Hart             & 275                 \\\\\n",
       "\t Cedric Carrasso      & 268                 \\\\\n",
       "\t Daniel Congre        & 262                 \\\\\n",
       "\t Moussa Sissoko       & 260                 \\\\\n",
       "\\end{tabular}\n"
      ],
      "text/markdown": [
       "\n",
       "player_name | totalMatchPlayed | \n",
       "|---|---|---|---|---|---|---|---|---|---|\n",
       "| Steve Mandanda       | 300                  | \n",
       "| Stephane Ruffier     | 294                  | \n",
       "| Samir Handanovic     | 286                  | \n",
       "| Gorka Iraizoz Moreno | 286                  | \n",
       "| Hugo Lloris          | 282                  | \n",
       "| Tim Howard           | 282                  | \n",
       "| Joe Hart             | 275                  | \n",
       "| Cedric Carrasso      | 268                  | \n",
       "| Daniel Congre        | 262                  | \n",
       "| Moussa Sissoko       | 260                  | \n",
       "\n",
       "\n"
      ],
      "text/plain": [
       "   player_name          totalMatchPlayed\n",
       "1  Steve Mandanda       300             \n",
       "2  Stephane Ruffier     294             \n",
       "3  Samir Handanovic     286             \n",
       "4  Gorka Iraizoz Moreno 286             \n",
       "5  Hugo Lloris          282             \n",
       "6  Tim Howard           282             \n",
       "7  Joe Hart             275             \n",
       "8  Cedric Carrasso      268             \n",
       "9  Daniel Congre        262             \n",
       "10 Moussa Sissoko       260             "
      ]
     },
     "metadata": {},
     "output_type": "display_data"
    }
   ],
   "source": [
    "arrange(Player,desc(totalMatchPlayed))%>%head(10)%>%select(player_name,totalMatchPlayed)"
   ]
  },
  {
   "cell_type": "markdown",
   "metadata": {},
   "source": [
    "# Write the data to .csv files"
   ]
  },
  {
   "cell_type": "code",
   "execution_count": 23,
   "metadata": {
    "collapsed": true
   },
   "outputs": [],
   "source": [
    "write.csv(Team, \"TeamData.csv\",na=\"\")\n",
    "write.csv(Player, \"PlayerData.csv\",na=\"\")"
   ]
  },
  {
   "cell_type": "code",
   "execution_count": 28,
   "metadata": {
    "collapsed": false
   },
   "outputs": [
    {
     "data": {
      "text/html": [
       "<table>\n",
       "<thead><tr><th scope=col>team_api_id</th><th scope=col>totalGoals</th><th scope=col>maxTotalDefenceAttr</th><th scope=col>maxTotalChanceCreation</th><th scope=col>maxTotalBuildUp</th><th scope=col>team_long_name</th><th scope=col>team_short_name</th></tr></thead>\n",
       "<tbody>\n",
       "\t<tr><td> 9987            </td><td>348              </td><td>205              </td><td>182              </td><td>148              </td><td>KRC Genk         </td><td>GEN              </td></tr>\n",
       "\t<tr><td>10000            </td><td>306              </td><td>200              </td><td>153              </td><td>147              </td><td>SV Zulte-Waregem </td><td>ZUL              </td></tr>\n",
       "\t<tr><td> 9994            </td><td>279              </td><td>200              </td><td>154              </td><td>159              </td><td>Sporting Lokeren </td><td>LOK              </td></tr>\n",
       "\t<tr><td> 9984            </td><td>213              </td><td>195              </td><td>200              </td><td>145              </td><td>KSV Cercle Brugge</td><td>CEB              </td></tr>\n",
       "\t<tr><td> 8635            </td><td>427              </td><td>190              </td><td>182              </td><td>149              </td><td>RSC Anderlecht   </td><td>AND              </td></tr>\n",
       "\t<tr><td> 9991            </td><td>390              </td><td>166              </td><td>184              </td><td>142              </td><td>KAA Gent         </td><td>GEN              </td></tr>\n",
       "</tbody>\n",
       "</table>\n"
      ],
      "text/latex": [
       "\\begin{tabular}{r|lllllll}\n",
       " team\\_api\\_id & totalGoals & maxTotalDefenceAttr & maxTotalChanceCreation & maxTotalBuildUp & team\\_long\\_name & team\\_short\\_name\\\\\n",
       "\\hline\n",
       "\t  9987             & 348               & 205               & 182               & 148               & KRC Genk          & GEN              \\\\\n",
       "\t 10000             & 306               & 200               & 153               & 147               & SV Zulte-Waregem  & ZUL              \\\\\n",
       "\t  9994             & 279               & 200               & 154               & 159               & Sporting Lokeren  & LOK              \\\\\n",
       "\t  9984             & 213               & 195               & 200               & 145               & KSV Cercle Brugge & CEB              \\\\\n",
       "\t  8635             & 427               & 190               & 182               & 149               & RSC Anderlecht    & AND              \\\\\n",
       "\t  9991             & 390               & 166               & 184               & 142               & KAA Gent          & GEN              \\\\\n",
       "\\end{tabular}\n"
      ],
      "text/markdown": [
       "\n",
       "team_api_id | totalGoals | maxTotalDefenceAttr | maxTotalChanceCreation | maxTotalBuildUp | team_long_name | team_short_name | \n",
       "|---|---|---|---|---|---|\n",
       "|  9987             | 348               | 205               | 182               | 148               | KRC Genk          | GEN               | \n",
       "| 10000             | 306               | 200               | 153               | 147               | SV Zulte-Waregem  | ZUL               | \n",
       "|  9994             | 279               | 200               | 154               | 159               | Sporting Lokeren  | LOK               | \n",
       "|  9984             | 213               | 195               | 200               | 145               | KSV Cercle Brugge | CEB               | \n",
       "|  8635             | 427               | 190               | 182               | 149               | RSC Anderlecht    | AND               | \n",
       "|  9991             | 390               | 166               | 184               | 142               | KAA Gent          | GEN               | \n",
       "\n",
       "\n"
      ],
      "text/plain": [
       "  team_api_id totalGoals maxTotalDefenceAttr maxTotalChanceCreation\n",
       "1  9987       348        205                 182                   \n",
       "2 10000       306        200                 153                   \n",
       "3  9994       279        200                 154                   \n",
       "4  9984       213        195                 200                   \n",
       "5  8635       427        190                 182                   \n",
       "6  9991       390        166                 184                   \n",
       "  maxTotalBuildUp team_long_name    team_short_name\n",
       "1 148             KRC Genk          GEN            \n",
       "2 147             SV Zulte-Waregem  ZUL            \n",
       "3 159             Sporting Lokeren  LOK            \n",
       "4 145             KSV Cercle Brugge CEB            \n",
       "5 149             RSC Anderlecht    AND            \n",
       "6 142             KAA Gent          GEN            "
      ]
     },
     "metadata": {},
     "output_type": "display_data"
    },
    {
     "data": {
      "text/html": [
       "<table>\n",
       "<thead><tr><th scope=col>player_api_id</th><th scope=col>totalMatchPlayed</th><th scope=col>totalLeaguecount</th><th scope=col>max_gk</th><th scope=col>max_rating</th><th scope=col>player_name</th></tr></thead>\n",
       "<tbody>\n",
       "\t<tr><td> 42119               </td><td>175                  </td><td>6                    </td><td> NA                  </td><td>NA                   </td><td>Gelson Fernandes     </td></tr>\n",
       "\t<tr><td>178538               </td><td>105                  </td><td>5                    </td><td>134                  </td><td>77                   </td><td>Filip Djuricic       </td></tr>\n",
       "\t<tr><td>116750               </td><td>151                  </td><td>5                    </td><td>106                  </td><td>77                   </td><td>Ricky van Wolfswinkel</td></tr>\n",
       "\t<tr><td> 30841               </td><td>147                  </td><td>4                    </td><td>424                  </td><td>85                   </td><td>Maarten Stekelenburg </td></tr>\n",
       "\t<tr><td>109060               </td><td>101                  </td><td>4                    </td><td>392                  </td><td>78                   </td><td>Sergio Romero        </td></tr>\n",
       "\t<tr><td> 38229               </td><td>167                  </td><td>4                    </td><td>181                  </td><td>82                   </td><td>Bryan Ruiz           </td></tr>\n",
       "</tbody>\n",
       "</table>\n"
      ],
      "text/latex": [
       "\\begin{tabular}{r|llllll}\n",
       " player\\_api\\_id & totalMatchPlayed & totalLeaguecount & max\\_gk & max\\_rating & player\\_name\\\\\n",
       "\\hline\n",
       "\t  42119                & 175                   & 6                     &  NA                   & NA                    & Gelson Fernandes     \\\\\n",
       "\t 178538                & 105                   & 5                     & 134                   & 77                    & Filip Djuricic       \\\\\n",
       "\t 116750                & 151                   & 5                     & 106                   & 77                    & Ricky van Wolfswinkel\\\\\n",
       "\t  30841                & 147                   & 4                     & 424                   & 85                    & Maarten Stekelenburg \\\\\n",
       "\t 109060                & 101                   & 4                     & 392                   & 78                    & Sergio Romero        \\\\\n",
       "\t  38229                & 167                   & 4                     & 181                   & 82                    & Bryan Ruiz           \\\\\n",
       "\\end{tabular}\n"
      ],
      "text/markdown": [
       "\n",
       "player_api_id | totalMatchPlayed | totalLeaguecount | max_gk | max_rating | player_name | \n",
       "|---|---|---|---|---|---|\n",
       "|  42119                | 175                   | 6                     |  NA                   | NA                    | Gelson Fernandes      | \n",
       "| 178538                | 105                   | 5                     | 134                   | 77                    | Filip Djuricic        | \n",
       "| 116750                | 151                   | 5                     | 106                   | 77                    | Ricky van Wolfswinkel | \n",
       "|  30841                | 147                   | 4                     | 424                   | 85                    | Maarten Stekelenburg  | \n",
       "| 109060                | 101                   | 4                     | 392                   | 78                    | Sergio Romero         | \n",
       "|  38229                | 167                   | 4                     | 181                   | 82                    | Bryan Ruiz            | \n",
       "\n",
       "\n"
      ],
      "text/plain": [
       "  player_api_id totalMatchPlayed totalLeaguecount max_gk max_rating\n",
       "1  42119        175              6                 NA    NA        \n",
       "2 178538        105              5                134    77        \n",
       "3 116750        151              5                106    77        \n",
       "4  30841        147              4                424    85        \n",
       "5 109060        101              4                392    78        \n",
       "6  38229        167              4                181    82        \n",
       "  player_name          \n",
       "1 Gelson Fernandes     \n",
       "2 Filip Djuricic       \n",
       "3 Ricky van Wolfswinkel\n",
       "4 Maarten Stekelenburg \n",
       "5 Sergio Romero        \n",
       "6 Bryan Ruiz           "
      ]
     },
     "metadata": {},
     "output_type": "display_data"
    }
   ],
   "source": [
    "head(Team)\n",
    "head(Player)"
   ]
  },
  {
   "cell_type": "code",
   "execution_count": null,
   "metadata": {
    "collapsed": true
   },
   "outputs": [],
   "source": []
  }
 ],
 "metadata": {
  "kernelspec": {
   "display_name": "R",
   "language": "R",
   "name": "ir"
  },
  "language_info": {
   "codemirror_mode": "r",
   "file_extension": ".r",
   "mimetype": "text/x-r-source",
   "name": "R",
   "pygments_lexer": "r",
   "version": "3.3.2"
  }
 },
 "nbformat": 4,
 "nbformat_minor": 2
}
