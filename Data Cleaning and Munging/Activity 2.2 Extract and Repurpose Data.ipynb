{
 "cells": [
  {
   "cell_type": "markdown",
   "metadata": {},
   "source": [
    "# Answers each question "
   ]
  },
  {
   "cell_type": "markdown",
   "metadata": {},
   "source": [
    "## Input : TeamData.csv and PlayerData.csv"
   ]
  },
  {
   "cell_type": "markdown",
   "metadata": {},
   "source": [
    "## Output : Answers to set of questions"
   ]
  },
  {
   "cell_type": "code",
   "execution_count": 15,
   "metadata": {
    "collapsed": false
   },
   "outputs": [],
   "source": [
    "library(dplyr)"
   ]
  },
  {
   "cell_type": "markdown",
   "metadata": {},
   "source": [
    "### 1: Read csv data"
   ]
  },
  {
   "cell_type": "code",
   "execution_count": 2,
   "metadata": {
    "collapsed": true
   },
   "outputs": [],
   "source": [
    "Teams<- read.csv(file=\"TeamData.csv\", header=TRUE)\n",
    "Players<- read.csv(file=\"PlayerData.csv\", header=TRUE)"
   ]
  },
  {
   "cell_type": "markdown",
   "metadata": {},
   "source": [
    "### 2: Check the fetched data"
   ]
  },
  {
   "cell_type": "code",
   "execution_count": 3,
   "metadata": {
    "collapsed": false
   },
   "outputs": [
    {
     "data": {
      "text/html": [
       "<table>\n",
       "<thead><tr><th scope=col>X</th><th scope=col>team_api_id</th><th scope=col>totalGoals</th><th scope=col>maxTotalDefenceAttr</th><th scope=col>maxTotalChanceCreation</th><th scope=col>maxTotalBuildUp</th><th scope=col>team_long_name</th><th scope=col>team_short_name</th></tr></thead>\n",
       "<tbody>\n",
       "\t<tr><td>1                </td><td> 9987            </td><td>348              </td><td>205              </td><td>182              </td><td>148              </td><td>KRC Genk         </td><td>GEN              </td></tr>\n",
       "\t<tr><td>2                </td><td>10000            </td><td>306              </td><td>200              </td><td>153              </td><td>147              </td><td>SV Zulte-Waregem </td><td>ZUL              </td></tr>\n",
       "\t<tr><td>3                </td><td> 9994            </td><td>279              </td><td>200              </td><td>154              </td><td>159              </td><td>Sporting Lokeren </td><td>LOK              </td></tr>\n",
       "\t<tr><td>4                </td><td> 9984            </td><td>213              </td><td>195              </td><td>200              </td><td>145              </td><td>KSV Cercle Brugge</td><td>CEB              </td></tr>\n",
       "\t<tr><td>5                </td><td> 8635            </td><td>427              </td><td>190              </td><td>182              </td><td>149              </td><td>RSC Anderlecht   </td><td>AND              </td></tr>\n",
       "\t<tr><td>6                </td><td> 9991            </td><td>390              </td><td>166              </td><td>184              </td><td>142              </td><td>KAA Gent         </td><td>GEN              </td></tr>\n",
       "</tbody>\n",
       "</table>\n"
      ],
      "text/latex": [
       "\\begin{tabular}{r|llllllll}\n",
       " X & team\\_api\\_id & totalGoals & maxTotalDefenceAttr & maxTotalChanceCreation & maxTotalBuildUp & team\\_long\\_name & team\\_short\\_name\\\\\n",
       "\\hline\n",
       "\t 1                 &  9987             & 348               & 205               & 182               & 148               & KRC Genk          & GEN              \\\\\n",
       "\t 2                 & 10000             & 306               & 200               & 153               & 147               & SV Zulte-Waregem  & ZUL              \\\\\n",
       "\t 3                 &  9994             & 279               & 200               & 154               & 159               & Sporting Lokeren  & LOK              \\\\\n",
       "\t 4                 &  9984             & 213               & 195               & 200               & 145               & KSV Cercle Brugge & CEB              \\\\\n",
       "\t 5                 &  8635             & 427               & 190               & 182               & 149               & RSC Anderlecht    & AND              \\\\\n",
       "\t 6                 &  9991             & 390               & 166               & 184               & 142               & KAA Gent          & GEN              \\\\\n",
       "\\end{tabular}\n"
      ],
      "text/markdown": [
       "\n",
       "X | team_api_id | totalGoals | maxTotalDefenceAttr | maxTotalChanceCreation | maxTotalBuildUp | team_long_name | team_short_name | \n",
       "|---|---|---|---|---|---|\n",
       "| 1                 |  9987             | 348               | 205               | 182               | 148               | KRC Genk          | GEN               | \n",
       "| 2                 | 10000             | 306               | 200               | 153               | 147               | SV Zulte-Waregem  | ZUL               | \n",
       "| 3                 |  9994             | 279               | 200               | 154               | 159               | Sporting Lokeren  | LOK               | \n",
       "| 4                 |  9984             | 213               | 195               | 200               | 145               | KSV Cercle Brugge | CEB               | \n",
       "| 5                 |  8635             | 427               | 190               | 182               | 149               | RSC Anderlecht    | AND               | \n",
       "| 6                 |  9991             | 390               | 166               | 184               | 142               | KAA Gent          | GEN               | \n",
       "\n",
       "\n"
      ],
      "text/plain": [
       "  X team_api_id totalGoals maxTotalDefenceAttr maxTotalChanceCreation\n",
       "1 1  9987       348        205                 182                   \n",
       "2 2 10000       306        200                 153                   \n",
       "3 3  9994       279        200                 154                   \n",
       "4 4  9984       213        195                 200                   \n",
       "5 5  8635       427        190                 182                   \n",
       "6 6  9991       390        166                 184                   \n",
       "  maxTotalBuildUp team_long_name    team_short_name\n",
       "1 148             KRC Genk          GEN            \n",
       "2 147             SV Zulte-Waregem  ZUL            \n",
       "3 159             Sporting Lokeren  LOK            \n",
       "4 145             KSV Cercle Brugge CEB            \n",
       "5 149             RSC Anderlecht    AND            \n",
       "6 142             KAA Gent          GEN            "
      ]
     },
     "metadata": {},
     "output_type": "display_data"
    },
    {
     "data": {
      "text/html": [
       "<table>\n",
       "<thead><tr><th scope=col>X</th><th scope=col>player_api_id</th><th scope=col>totalMatchPlayed</th><th scope=col>totalLeaguecount</th><th scope=col>max_gk</th><th scope=col>max_rating</th><th scope=col>player_name</th></tr></thead>\n",
       "<tbody>\n",
       "\t<tr><td>1                    </td><td> 42119               </td><td>175                  </td><td>6                    </td><td> NA                  </td><td>NA                   </td><td>Gelson Fernandes     </td></tr>\n",
       "\t<tr><td>2                    </td><td>178538               </td><td>105                  </td><td>5                    </td><td>134                  </td><td>77                   </td><td>Filip Djuricic       </td></tr>\n",
       "\t<tr><td>3                    </td><td>116750               </td><td>151                  </td><td>5                    </td><td>106                  </td><td>77                   </td><td>Ricky van Wolfswinkel</td></tr>\n",
       "\t<tr><td>4                    </td><td> 30841               </td><td>147                  </td><td>4                    </td><td>424                  </td><td>85                   </td><td>Maarten Stekelenburg </td></tr>\n",
       "\t<tr><td>5                    </td><td>109060               </td><td>101                  </td><td>4                    </td><td>392                  </td><td>78                   </td><td>Sergio Romero        </td></tr>\n",
       "\t<tr><td>6                    </td><td> 38229               </td><td>167                  </td><td>4                    </td><td>181                  </td><td>82                   </td><td>Bryan Ruiz           </td></tr>\n",
       "</tbody>\n",
       "</table>\n"
      ],
      "text/latex": [
       "\\begin{tabular}{r|lllllll}\n",
       " X & player\\_api\\_id & totalMatchPlayed & totalLeaguecount & max\\_gk & max\\_rating & player\\_name\\\\\n",
       "\\hline\n",
       "\t 1                     &  42119                & 175                   & 6                     &  NA                   & NA                    & Gelson Fernandes     \\\\\n",
       "\t 2                     & 178538                & 105                   & 5                     & 134                   & 77                    & Filip Djuricic       \\\\\n",
       "\t 3                     & 116750                & 151                   & 5                     & 106                   & 77                    & Ricky van Wolfswinkel\\\\\n",
       "\t 4                     &  30841                & 147                   & 4                     & 424                   & 85                    & Maarten Stekelenburg \\\\\n",
       "\t 5                     & 109060                & 101                   & 4                     & 392                   & 78                    & Sergio Romero        \\\\\n",
       "\t 6                     &  38229                & 167                   & 4                     & 181                   & 82                    & Bryan Ruiz           \\\\\n",
       "\\end{tabular}\n"
      ],
      "text/markdown": [
       "\n",
       "X | player_api_id | totalMatchPlayed | totalLeaguecount | max_gk | max_rating | player_name | \n",
       "|---|---|---|---|---|---|\n",
       "| 1                     |  42119                | 175                   | 6                     |  NA                   | NA                    | Gelson Fernandes      | \n",
       "| 2                     | 178538                | 105                   | 5                     | 134                   | 77                    | Filip Djuricic        | \n",
       "| 3                     | 116750                | 151                   | 5                     | 106                   | 77                    | Ricky van Wolfswinkel | \n",
       "| 4                     |  30841                | 147                   | 4                     | 424                   | 85                    | Maarten Stekelenburg  | \n",
       "| 5                     | 109060                | 101                   | 4                     | 392                   | 78                    | Sergio Romero         | \n",
       "| 6                     |  38229                | 167                   | 4                     | 181                   | 82                    | Bryan Ruiz            | \n",
       "\n",
       "\n"
      ],
      "text/plain": [
       "  X player_api_id totalMatchPlayed totalLeaguecount max_gk max_rating\n",
       "1 1  42119        175              6                 NA    NA        \n",
       "2 2 178538        105              5                134    77        \n",
       "3 3 116750        151              5                106    77        \n",
       "4 4  30841        147              4                424    85        \n",
       "5 5 109060        101              4                392    78        \n",
       "6 6  38229        167              4                181    82        \n",
       "  player_name          \n",
       "1 Gelson Fernandes     \n",
       "2 Filip Djuricic       \n",
       "3 Ricky van Wolfswinkel\n",
       "4 Maarten Stekelenburg \n",
       "5 Sergio Romero        \n",
       "6 Bryan Ruiz           "
      ]
     },
     "metadata": {},
     "output_type": "display_data"
    }
   ],
   "source": [
    "head(Teams)\n",
    "head(Players)"
   ]
  },
  {
   "cell_type": "markdown",
   "metadata": {},
   "source": [
    "# Q1 Which are the top 10 players by overall rating?"
   ]
  },
  {
   "cell_type": "code",
   "execution_count": 14,
   "metadata": {
    "collapsed": false
   },
   "outputs": [
    {
     "data": {
      "text/html": [
       "<table>\n",
       "<thead><tr><th scope=col>Top_Ten_Players_by_Rating</th><th scope=col>Max_Rating</th></tr></thead>\n",
       "<tbody>\n",
       "\t<tr><td>Lionel Messi     </td><td>94               </td></tr>\n",
       "\t<tr><td>Cristiano Ronaldo</td><td>93               </td></tr>\n",
       "\t<tr><td>Gianluigi Buffon </td><td>93               </td></tr>\n",
       "\t<tr><td>Wayne Rooney     </td><td>93               </td></tr>\n",
       "\t<tr><td>Gregory Coupet   </td><td>92               </td></tr>\n",
       "\t<tr><td>Xavi Hernandez   </td><td>92               </td></tr>\n",
       "\t<tr><td>Iker Casillas    </td><td>91               </td></tr>\n",
       "\t<tr><td>Fabio Cannavaro  </td><td>91               </td></tr>\n",
       "\t<tr><td>Ronaldinho       </td><td>91               </td></tr>\n",
       "\t<tr><td>Andres Iniesta   </td><td>91               </td></tr>\n",
       "</tbody>\n",
       "</table>\n"
      ],
      "text/latex": [
       "\\begin{tabular}{r|ll}\n",
       " Top\\_Ten\\_Players\\_by\\_Rating & Max\\_Rating\\\\\n",
       "\\hline\n",
       "\t Lionel Messi      & 94               \\\\\n",
       "\t Cristiano Ronaldo & 93               \\\\\n",
       "\t Gianluigi Buffon  & 93               \\\\\n",
       "\t Wayne Rooney      & 93               \\\\\n",
       "\t Gregory Coupet    & 92               \\\\\n",
       "\t Xavi Hernandez    & 92               \\\\\n",
       "\t Iker Casillas     & 91               \\\\\n",
       "\t Fabio Cannavaro   & 91               \\\\\n",
       "\t Ronaldinho        & 91               \\\\\n",
       "\t Andres Iniesta    & 91               \\\\\n",
       "\\end{tabular}\n"
      ],
      "text/markdown": [
       "\n",
       "Top_Ten_Players_by_Rating | Max_Rating | \n",
       "|---|---|---|---|---|---|---|---|---|---|\n",
       "| Lionel Messi      | 94                | \n",
       "| Cristiano Ronaldo | 93                | \n",
       "| Gianluigi Buffon  | 93                | \n",
       "| Wayne Rooney      | 93                | \n",
       "| Gregory Coupet    | 92                | \n",
       "| Xavi Hernandez    | 92                | \n",
       "| Iker Casillas     | 91                | \n",
       "| Fabio Cannavaro   | 91                | \n",
       "| Ronaldinho        | 91                | \n",
       "| Andres Iniesta    | 91                | \n",
       "\n",
       "\n"
      ],
      "text/plain": [
       "   Top_Ten_Players_by_Rating Max_Rating\n",
       "1  Lionel Messi              94        \n",
       "2  Cristiano Ronaldo         93        \n",
       "3  Gianluigi Buffon          93        \n",
       "4  Wayne Rooney              93        \n",
       "5  Gregory Coupet            92        \n",
       "6  Xavi Hernandez            92        \n",
       "7  Iker Casillas             91        \n",
       "8  Fabio Cannavaro           91        \n",
       "9  Ronaldinho                91        \n",
       "10 Andres Iniesta            91        "
      ]
     },
     "metadata": {},
     "output_type": "display_data"
    }
   ],
   "source": [
    "arrange(Players,desc(max_rating))%>%select(player_name,max_rating)%>%rename(Top_Ten_Players_by_Rating = player_name,Max_Rating=max_rating )%>%head(10)"
   ]
  },
  {
   "cell_type": "markdown",
   "metadata": {},
   "source": [
    "# Q2:Which are the top 10 goalkeepers by sum of gk attributes?"
   ]
  },
  {
   "cell_type": "code",
   "execution_count": 13,
   "metadata": {
    "collapsed": false
   },
   "outputs": [
    {
     "data": {
      "text/html": [
       "<table>\n",
       "<thead><tr><th scope=col>Top_Ten_Goalkepers_by_Sum_of_GK</th><th scope=col>Sum_GK_Attributes</th></tr></thead>\n",
       "<tbody>\n",
       "\t<tr><td>Gianluigi Buffon </td><td>449              </td></tr>\n",
       "\t<tr><td>Gregory Coupet   </td><td>447              </td></tr>\n",
       "\t<tr><td>Petr Cech        </td><td>445              </td></tr>\n",
       "\t<tr><td>Iker Casillas    </td><td>442              </td></tr>\n",
       "\t<tr><td>Manuel Neuer     </td><td>440              </td></tr>\n",
       "\t<tr><td>Julio Cesar      </td><td>438              </td></tr>\n",
       "\t<tr><td>Sebastian Frey   </td><td>437              </td></tr>\n",
       "\t<tr><td>Edwin van der Sar</td><td>436              </td></tr>\n",
       "\t<tr><td>David De Gea     </td><td>429              </td></tr>\n",
       "\t<tr><td>Pepe Reina       </td><td>428              </td></tr>\n",
       "</tbody>\n",
       "</table>\n"
      ],
      "text/latex": [
       "\\begin{tabular}{r|ll}\n",
       " Top\\_Ten\\_Goalkepers\\_by\\_Sum\\_of\\_GK & Sum\\_GK\\_Attributes\\\\\n",
       "\\hline\n",
       "\t Gianluigi Buffon  & 449              \\\\\n",
       "\t Gregory Coupet    & 447              \\\\\n",
       "\t Petr Cech         & 445              \\\\\n",
       "\t Iker Casillas     & 442              \\\\\n",
       "\t Manuel Neuer      & 440              \\\\\n",
       "\t Julio Cesar       & 438              \\\\\n",
       "\t Sebastian Frey    & 437              \\\\\n",
       "\t Edwin van der Sar & 436              \\\\\n",
       "\t David De Gea      & 429              \\\\\n",
       "\t Pepe Reina        & 428              \\\\\n",
       "\\end{tabular}\n"
      ],
      "text/markdown": [
       "\n",
       "Top_Ten_Goalkepers_by_Sum_of_GK | Sum_GK_Attributes | \n",
       "|---|---|---|---|---|---|---|---|---|---|\n",
       "| Gianluigi Buffon  | 449               | \n",
       "| Gregory Coupet    | 447               | \n",
       "| Petr Cech         | 445               | \n",
       "| Iker Casillas     | 442               | \n",
       "| Manuel Neuer      | 440               | \n",
       "| Julio Cesar       | 438               | \n",
       "| Sebastian Frey    | 437               | \n",
       "| Edwin van der Sar | 436               | \n",
       "| David De Gea      | 429               | \n",
       "| Pepe Reina        | 428               | \n",
       "\n",
       "\n"
      ],
      "text/plain": [
       "   Top_Ten_Goalkepers_by_Sum_of_GK Sum_GK_Attributes\n",
       "1  Gianluigi Buffon                449              \n",
       "2  Gregory Coupet                  447              \n",
       "3  Petr Cech                       445              \n",
       "4  Iker Casillas                   442              \n",
       "5  Manuel Neuer                    440              \n",
       "6  Julio Cesar                     438              \n",
       "7  Sebastian Frey                  437              \n",
       "8  Edwin van der Sar               436              \n",
       "9  David De Gea                    429              \n",
       "10 Pepe Reina                      428              "
      ]
     },
     "metadata": {},
     "output_type": "display_data"
    }
   ],
   "source": [
    "arrange(Players,desc(max_gk))%>%select(player_name,max_gk)%>%rename(Top_Ten_Goalkepers_by_Sum_of_GK = player_name,Sum_GK_Attributes=max_gk )%>%head(10)"
   ]
  },
  {
   "cell_type": "markdown",
   "metadata": {},
   "source": [
    "# Q3:Which are the top 10 players by number of appearances (with any team they played with)?"
   ]
  },
  {
   "cell_type": "code",
   "execution_count": 12,
   "metadata": {
    "collapsed": false
   },
   "outputs": [
    {
     "data": {
      "text/html": [
       "<table>\n",
       "<thead><tr><th scope=col>Top_Ten_Goalkepers_by_Appearences</th><th scope=col>Total_Matches_Played</th></tr></thead>\n",
       "<tbody>\n",
       "\t<tr><td>Steve Mandanda      </td><td>300                 </td></tr>\n",
       "\t<tr><td>Stephane Ruffier    </td><td>294                 </td></tr>\n",
       "\t<tr><td>Samir Handanovic    </td><td>286                 </td></tr>\n",
       "\t<tr><td>Gorka Iraizoz Moreno</td><td>286                 </td></tr>\n",
       "\t<tr><td>Hugo Lloris         </td><td>282                 </td></tr>\n",
       "\t<tr><td>Tim Howard          </td><td>282                 </td></tr>\n",
       "\t<tr><td>Joe Hart            </td><td>275                 </td></tr>\n",
       "\t<tr><td>Cedric Carrasso     </td><td>268                 </td></tr>\n",
       "\t<tr><td>Daniel Congre       </td><td>262                 </td></tr>\n",
       "\t<tr><td>Moussa Sissoko      </td><td>260                 </td></tr>\n",
       "</tbody>\n",
       "</table>\n"
      ],
      "text/latex": [
       "\\begin{tabular}{r|ll}\n",
       " Top\\_Ten\\_Goalkepers\\_by\\_Appearences & Total\\_Matches\\_Played\\\\\n",
       "\\hline\n",
       "\t Steve Mandanda       & 300                 \\\\\n",
       "\t Stephane Ruffier     & 294                 \\\\\n",
       "\t Samir Handanovic     & 286                 \\\\\n",
       "\t Gorka Iraizoz Moreno & 286                 \\\\\n",
       "\t Hugo Lloris          & 282                 \\\\\n",
       "\t Tim Howard           & 282                 \\\\\n",
       "\t Joe Hart             & 275                 \\\\\n",
       "\t Cedric Carrasso      & 268                 \\\\\n",
       "\t Daniel Congre        & 262                 \\\\\n",
       "\t Moussa Sissoko       & 260                 \\\\\n",
       "\\end{tabular}\n"
      ],
      "text/markdown": [
       "\n",
       "Top_Ten_Goalkepers_by_Appearences | Total_Matches_Played | \n",
       "|---|---|---|---|---|---|---|---|---|---|\n",
       "| Steve Mandanda       | 300                  | \n",
       "| Stephane Ruffier     | 294                  | \n",
       "| Samir Handanovic     | 286                  | \n",
       "| Gorka Iraizoz Moreno | 286                  | \n",
       "| Hugo Lloris          | 282                  | \n",
       "| Tim Howard           | 282                  | \n",
       "| Joe Hart             | 275                  | \n",
       "| Cedric Carrasso      | 268                  | \n",
       "| Daniel Congre        | 262                  | \n",
       "| Moussa Sissoko       | 260                  | \n",
       "\n",
       "\n"
      ],
      "text/plain": [
       "   Top_Ten_Goalkepers_by_Appearences Total_Matches_Played\n",
       "1  Steve Mandanda                    300                 \n",
       "2  Stephane Ruffier                  294                 \n",
       "3  Samir Handanovic                  286                 \n",
       "4  Gorka Iraizoz Moreno              286                 \n",
       "5  Hugo Lloris                       282                 \n",
       "6  Tim Howard                        282                 \n",
       "7  Joe Hart                          275                 \n",
       "8  Cedric Carrasso                   268                 \n",
       "9  Daniel Congre                     262                 \n",
       "10 Moussa Sissoko                    260                 "
      ]
     },
     "metadata": {},
     "output_type": "display_data"
    }
   ],
   "source": [
    "arrange(Players,desc(totalMatchPlayed))%>%select(player_name,totalMatchPlayed)%>%rename(Top_Ten_Goalkepers_by_Appearences = player_name,Total_Matches_Played=totalMatchPlayed )%>%head(10)"
   ]
  },
  {
   "cell_type": "markdown",
   "metadata": {},
   "source": [
    "# Q4: Which are the top 10 players by number of leagues they played in?"
   ]
  },
  {
   "cell_type": "code",
   "execution_count": 7,
   "metadata": {
    "collapsed": false
   },
   "outputs": [
    {
     "data": {
      "text/html": [
       "<table>\n",
       "<thead><tr><th scope=col>Top_Ten_Players_by_League_Count</th><th scope=col>totalLeaguecount</th></tr></thead>\n",
       "<tbody>\n",
       "\t<tr><td>Gelson Fernandes     </td><td>6                    </td></tr>\n",
       "\t<tr><td>Filip Djuricic       </td><td>5                    </td></tr>\n",
       "\t<tr><td>Ricky van Wolfswinkel</td><td>5                    </td></tr>\n",
       "\t<tr><td>Maarten Stekelenburg </td><td>4                    </td></tr>\n",
       "\t<tr><td>Sergio Romero        </td><td>4                    </td></tr>\n",
       "\t<tr><td>Bryan Ruiz           </td><td>4                    </td></tr>\n",
       "\t<tr><td>Christian Poulsen    </td><td>4                    </td></tr>\n",
       "\t<tr><td>Ibrahim Afellay      </td><td>4                    </td></tr>\n",
       "\t<tr><td>Danijel Pranjic      </td><td>4                    </td></tr>\n",
       "\t<tr><td>Angel Di Maria       </td><td>4                    </td></tr>\n",
       "</tbody>\n",
       "</table>\n"
      ],
      "text/latex": [
       "\\begin{tabular}{r|ll}\n",
       " Top\\_Ten\\_Players\\_by\\_League\\_Count & totalLeaguecount\\\\\n",
       "\\hline\n",
       "\t Gelson Fernandes      & 6                    \\\\\n",
       "\t Filip Djuricic        & 5                    \\\\\n",
       "\t Ricky van Wolfswinkel & 5                    \\\\\n",
       "\t Maarten Stekelenburg  & 4                    \\\\\n",
       "\t Sergio Romero         & 4                    \\\\\n",
       "\t Bryan Ruiz            & 4                    \\\\\n",
       "\t Christian Poulsen     & 4                    \\\\\n",
       "\t Ibrahim Afellay       & 4                    \\\\\n",
       "\t Danijel Pranjic       & 4                    \\\\\n",
       "\t Angel Di Maria        & 4                    \\\\\n",
       "\\end{tabular}\n"
      ],
      "text/markdown": [
       "\n",
       "Top_Ten_Players_by_League_Count | totalLeaguecount | \n",
       "|---|---|---|---|---|---|---|---|---|---|\n",
       "| Gelson Fernandes      | 6                     | \n",
       "| Filip Djuricic        | 5                     | \n",
       "| Ricky van Wolfswinkel | 5                     | \n",
       "| Maarten Stekelenburg  | 4                     | \n",
       "| Sergio Romero         | 4                     | \n",
       "| Bryan Ruiz            | 4                     | \n",
       "| Christian Poulsen     | 4                     | \n",
       "| Ibrahim Afellay       | 4                     | \n",
       "| Danijel Pranjic       | 4                     | \n",
       "| Angel Di Maria        | 4                     | \n",
       "\n",
       "\n"
      ],
      "text/plain": [
       "   Top_Ten_Players_by_League_Count totalLeaguecount\n",
       "1  Gelson Fernandes                6               \n",
       "2  Filip Djuricic                  5               \n",
       "3  Ricky van Wolfswinkel           5               \n",
       "4  Maarten Stekelenburg            4               \n",
       "5  Sergio Romero                   4               \n",
       "6  Bryan Ruiz                      4               \n",
       "7  Christian Poulsen               4               \n",
       "8  Ibrahim Afellay                 4               \n",
       "9  Danijel Pranjic                 4               \n",
       "10 Angel Di Maria                  4               "
      ]
     },
     "metadata": {},
     "output_type": "display_data"
    }
   ],
   "source": [
    "arrange(Players,desc(totalLeaguecount))%>%select(player_name,totalLeaguecount)%>%rename(Top_Ten_Players_by_League_Count = player_name )%>%head(10)\n"
   ]
  },
  {
   "cell_type": "markdown",
   "metadata": {},
   "source": [
    "# Q5:Which are the top 10 teams by sum of build up play attributes?"
   ]
  },
  {
   "cell_type": "code",
   "execution_count": 8,
   "metadata": {
    "collapsed": false
   },
   "outputs": [
    {
     "data": {
      "text/html": [
       "<table>\n",
       "<thead><tr><th scope=col>Top_Ten_Team_by_Build_UP</th><th scope=col>Sum_Build_up</th></tr></thead>\n",
       "<tbody>\n",
       "\t<tr><td>Torino                    </td><td>209                       </td></tr>\n",
       "\t<tr><td>Udinese                   </td><td>205                       </td></tr>\n",
       "\t<tr><td>Fortuna Düsseldorf        </td><td>198                       </td></tr>\n",
       "\t<tr><td>Podbeskidzie Bielsko-Biala</td><td>193                       </td></tr>\n",
       "\t<tr><td>Korona Kielce             </td><td>192                       </td></tr>\n",
       "\t<tr><td>Carpi                     </td><td>190                       </td></tr>\n",
       "\t<tr><td>Widzew Lódz               </td><td>190                       </td></tr>\n",
       "\t<tr><td>Widzew Lódz               </td><td>190                       </td></tr>\n",
       "\t<tr><td>FC Nantes                 </td><td>189                       </td></tr>\n",
       "\t<tr><td>Lazio                     </td><td>188                       </td></tr>\n",
       "</tbody>\n",
       "</table>\n"
      ],
      "text/latex": [
       "\\begin{tabular}{r|ll}\n",
       " Top\\_Ten\\_Team\\_by\\_Build\\_UP & Sum\\_Build\\_up\\\\\n",
       "\\hline\n",
       "\t Torino                     & 209                       \\\\\n",
       "\t Udinese                    & 205                       \\\\\n",
       "\t Fortuna Düsseldorf         & 198                       \\\\\n",
       "\t Podbeskidzie Bielsko-Biala & 193                       \\\\\n",
       "\t Korona Kielce              & 192                       \\\\\n",
       "\t Carpi                      & 190                       \\\\\n",
       "\t Widzew Lódz                & 190                       \\\\\n",
       "\t Widzew Lódz                & 190                       \\\\\n",
       "\t FC Nantes                  & 189                       \\\\\n",
       "\t Lazio                      & 188                       \\\\\n",
       "\\end{tabular}\n"
      ],
      "text/markdown": [
       "\n",
       "Top_Ten_Team_by_Build_UP | Sum_Build_up | \n",
       "|---|---|---|---|---|---|---|---|---|---|\n",
       "| Torino                     | 209                        | \n",
       "| Udinese                    | 205                        | \n",
       "| Fortuna Düsseldorf         | 198                        | \n",
       "| Podbeskidzie Bielsko-Biala | 193                        | \n",
       "| Korona Kielce              | 192                        | \n",
       "| Carpi                      | 190                        | \n",
       "| Widzew Lódz                | 190                        | \n",
       "| Widzew Lódz                | 190                        | \n",
       "| FC Nantes                  | 189                        | \n",
       "| Lazio                      | 188                        | \n",
       "\n",
       "\n"
      ],
      "text/plain": [
       "   Top_Ten_Team_by_Build_UP   Sum_Build_up\n",
       "1  Torino                     209         \n",
       "2  Udinese                    205         \n",
       "3  Fortuna Düsseldorf         198         \n",
       "4  Podbeskidzie Bielsko-Biala 193         \n",
       "5  Korona Kielce              192         \n",
       "6  Carpi                      190         \n",
       "7  Widzew Lódz                190         \n",
       "8  Widzew Lódz                190         \n",
       "9  FC Nantes                  189         \n",
       "10 Lazio                      188         "
      ]
     },
     "metadata": {},
     "output_type": "display_data"
    }
   ],
   "source": [
    "arrange(Teams,desc(maxTotalBuildUp))%>%select(team_long_name,maxTotalBuildUp)%>%rename(Top_Ten_Team_by_Build_UP = team_long_name,Sum_Build_up=maxTotalBuildUp )%>%head(10)\n"
   ]
  },
  {
   "cell_type": "markdown",
   "metadata": {},
   "source": [
    "# Q6: Which are the top 10 teams by sum of chance creation attributes?"
   ]
  },
  {
   "cell_type": "code",
   "execution_count": 9,
   "metadata": {
    "collapsed": false
   },
   "outputs": [
    {
     "data": {
      "text/html": [
       "<table>\n",
       "<thead><tr><th scope=col>Top_Ten_Team_by_Chance_Creation</th><th scope=col>Sum_Chance_Creation</th></tr></thead>\n",
       "<tbody>\n",
       "\t<tr><td>Lazio                  </td><td>220                    </td></tr>\n",
       "\t<tr><td>SV Werder Bremen       </td><td>216                    </td></tr>\n",
       "\t<tr><td>Napoli                 </td><td>215                    </td></tr>\n",
       "\t<tr><td>Manchester City        </td><td>210                    </td></tr>\n",
       "\t<tr><td>Tottenham Hotspur      </td><td>210                    </td></tr>\n",
       "\t<tr><td>Birmingham City        </td><td>210                    </td></tr>\n",
       "\t<tr><td>Wolverhampton Wanderers</td><td>210                    </td></tr>\n",
       "\t<tr><td>Burnley                </td><td>210                    </td></tr>\n",
       "\t<tr><td>Swansea City           </td><td>210                    </td></tr>\n",
       "\t<tr><td>Queens Park Rangers    </td><td>210                    </td></tr>\n",
       "</tbody>\n",
       "</table>\n"
      ],
      "text/latex": [
       "\\begin{tabular}{r|ll}\n",
       " Top\\_Ten\\_Team\\_by\\_Chance\\_Creation & Sum\\_Chance\\_Creation\\\\\n",
       "\\hline\n",
       "\t Lazio                   & 220                    \\\\\n",
       "\t SV Werder Bremen        & 216                    \\\\\n",
       "\t Napoli                  & 215                    \\\\\n",
       "\t Manchester City         & 210                    \\\\\n",
       "\t Tottenham Hotspur       & 210                    \\\\\n",
       "\t Birmingham City         & 210                    \\\\\n",
       "\t Wolverhampton Wanderers & 210                    \\\\\n",
       "\t Burnley                 & 210                    \\\\\n",
       "\t Swansea City            & 210                    \\\\\n",
       "\t Queens Park Rangers     & 210                    \\\\\n",
       "\\end{tabular}\n"
      ],
      "text/markdown": [
       "\n",
       "Top_Ten_Team_by_Chance_Creation | Sum_Chance_Creation | \n",
       "|---|---|---|---|---|---|---|---|---|---|\n",
       "| Lazio                   | 220                     | \n",
       "| SV Werder Bremen        | 216                     | \n",
       "| Napoli                  | 215                     | \n",
       "| Manchester City         | 210                     | \n",
       "| Tottenham Hotspur       | 210                     | \n",
       "| Birmingham City         | 210                     | \n",
       "| Wolverhampton Wanderers | 210                     | \n",
       "| Burnley                 | 210                     | \n",
       "| Swansea City            | 210                     | \n",
       "| Queens Park Rangers     | 210                     | \n",
       "\n",
       "\n"
      ],
      "text/plain": [
       "   Top_Ten_Team_by_Chance_Creation Sum_Chance_Creation\n",
       "1  Lazio                           220                \n",
       "2  SV Werder Bremen                216                \n",
       "3  Napoli                          215                \n",
       "4  Manchester City                 210                \n",
       "5  Tottenham Hotspur               210                \n",
       "6  Birmingham City                 210                \n",
       "7  Wolverhampton Wanderers         210                \n",
       "8  Burnley                         210                \n",
       "9  Swansea City                    210                \n",
       "10 Queens Park Rangers             210                "
      ]
     },
     "metadata": {},
     "output_type": "display_data"
    }
   ],
   "source": [
    "arrange(Teams,desc(maxTotalChanceCreation))%>%select(team_long_name,maxTotalChanceCreation)%>%rename(Top_Ten_Team_by_Chance_Creation = team_long_name ,Sum_Chance_Creation=maxTotalChanceCreation)%>%head(10)"
   ]
  },
  {
   "cell_type": "markdown",
   "metadata": {},
   "source": [
    "# Q7 : Which are the top 10 teams by sum of defense attributes?"
   ]
  },
  {
   "cell_type": "code",
   "execution_count": 10,
   "metadata": {
    "collapsed": false
   },
   "outputs": [
    {
     "data": {
      "text/html": [
       "<table>\n",
       "<thead><tr><th scope=col>Top_Ten_Team_by_Defence_Attributes</th><th scope=col>Sum_Defence_Attributes</th></tr></thead>\n",
       "<tbody>\n",
       "\t<tr><td>KVC Westerlo           </td><td>210                    </td></tr>\n",
       "\t<tr><td>Sporting Charleroi     </td><td>210                    </td></tr>\n",
       "\t<tr><td>West Bromwich Albion   </td><td>210                    </td></tr>\n",
       "\t<tr><td>Hull City              </td><td>210                    </td></tr>\n",
       "\t<tr><td>Birmingham City        </td><td>210                    </td></tr>\n",
       "\t<tr><td>Wolverhampton Wanderers</td><td>210                    </td></tr>\n",
       "\t<tr><td>Blackpool              </td><td>210                    </td></tr>\n",
       "\t<tr><td>Swansea City           </td><td>210                    </td></tr>\n",
       "\t<tr><td>Queens Park Rangers    </td><td>210                    </td></tr>\n",
       "\t<tr><td>Southampton            </td><td>210                    </td></tr>\n",
       "</tbody>\n",
       "</table>\n"
      ],
      "text/latex": [
       "\\begin{tabular}{r|ll}\n",
       " Top\\_Ten\\_Team\\_by\\_Defence\\_Attributes & Sum\\_Defence\\_Attributes\\\\\n",
       "\\hline\n",
       "\t KVC Westerlo            & 210                    \\\\\n",
       "\t Sporting Charleroi      & 210                    \\\\\n",
       "\t West Bromwich Albion    & 210                    \\\\\n",
       "\t Hull City               & 210                    \\\\\n",
       "\t Birmingham City         & 210                    \\\\\n",
       "\t Wolverhampton Wanderers & 210                    \\\\\n",
       "\t Blackpool               & 210                    \\\\\n",
       "\t Swansea City            & 210                    \\\\\n",
       "\t Queens Park Rangers     & 210                    \\\\\n",
       "\t Southampton             & 210                    \\\\\n",
       "\\end{tabular}\n"
      ],
      "text/markdown": [
       "\n",
       "Top_Ten_Team_by_Defence_Attributes | Sum_Defence_Attributes | \n",
       "|---|---|---|---|---|---|---|---|---|---|\n",
       "| KVC Westerlo            | 210                     | \n",
       "| Sporting Charleroi      | 210                     | \n",
       "| West Bromwich Albion    | 210                     | \n",
       "| Hull City               | 210                     | \n",
       "| Birmingham City         | 210                     | \n",
       "| Wolverhampton Wanderers | 210                     | \n",
       "| Blackpool               | 210                     | \n",
       "| Swansea City            | 210                     | \n",
       "| Queens Park Rangers     | 210                     | \n",
       "| Southampton             | 210                     | \n",
       "\n",
       "\n"
      ],
      "text/plain": [
       "   Top_Ten_Team_by_Defence_Attributes Sum_Defence_Attributes\n",
       "1  KVC Westerlo                       210                   \n",
       "2  Sporting Charleroi                 210                   \n",
       "3  West Bromwich Albion               210                   \n",
       "4  Hull City                          210                   \n",
       "5  Birmingham City                    210                   \n",
       "6  Wolverhampton Wanderers            210                   \n",
       "7  Blackpool                          210                   \n",
       "8  Swansea City                       210                   \n",
       "9  Queens Park Rangers                210                   \n",
       "10 Southampton                        210                   "
      ]
     },
     "metadata": {},
     "output_type": "display_data"
    }
   ],
   "source": [
    "arrange(Teams,desc(maxTotalDefenceAttr))%>%select(team_long_name,maxTotalDefenceAttr)%>%rename(Top_Ten_Team_by_Defence_Attributes = team_long_name,Sum_Defence_Attributes=maxTotalDefenceAttr )%>%head(10)"
   ]
  },
  {
   "cell_type": "markdown",
   "metadata": {},
   "source": [
    "# Q8: Which are the top 10 teams by number of scored goals?"
   ]
  },
  {
   "cell_type": "code",
   "execution_count": 11,
   "metadata": {
    "collapsed": false
   },
   "outputs": [
    {
     "data": {
      "text/html": [
       "<table>\n",
       "<thead><tr><th scope=col>Top_Ten_Team_by_Total_Goals_Scored</th><th scope=col>Total_Goals_Scored</th></tr></thead>\n",
       "<tbody>\n",
       "\t<tr><td>FC Barcelona     </td><td>849              </td></tr>\n",
       "\t<tr><td>Real Madrid CF   </td><td>843              </td></tr>\n",
       "\t<tr><td>Celtic           </td><td>695              </td></tr>\n",
       "\t<tr><td>FC Bayern Munich </td><td>653              </td></tr>\n",
       "\t<tr><td>PSV              </td><td>652              </td></tr>\n",
       "\t<tr><td>Ajax             </td><td>647              </td></tr>\n",
       "\t<tr><td>FC Basel         </td><td>619              </td></tr>\n",
       "\t<tr><td>Manchester City  </td><td>606              </td></tr>\n",
       "\t<tr><td>Chelsea          </td><td>583              </td></tr>\n",
       "\t<tr><td>Manchester United</td><td>582              </td></tr>\n",
       "</tbody>\n",
       "</table>\n"
      ],
      "text/latex": [
       "\\begin{tabular}{r|ll}\n",
       " Top\\_Ten\\_Team\\_by\\_Total\\_Goals\\_Scored & Total\\_Goals\\_Scored\\\\\n",
       "\\hline\n",
       "\t FC Barcelona      & 849              \\\\\n",
       "\t Real Madrid CF    & 843              \\\\\n",
       "\t Celtic            & 695              \\\\\n",
       "\t FC Bayern Munich  & 653              \\\\\n",
       "\t PSV               & 652              \\\\\n",
       "\t Ajax              & 647              \\\\\n",
       "\t FC Basel          & 619              \\\\\n",
       "\t Manchester City   & 606              \\\\\n",
       "\t Chelsea           & 583              \\\\\n",
       "\t Manchester United & 582              \\\\\n",
       "\\end{tabular}\n"
      ],
      "text/markdown": [
       "\n",
       "Top_Ten_Team_by_Total_Goals_Scored | Total_Goals_Scored | \n",
       "|---|---|---|---|---|---|---|---|---|---|\n",
       "| FC Barcelona      | 849               | \n",
       "| Real Madrid CF    | 843               | \n",
       "| Celtic            | 695               | \n",
       "| FC Bayern Munich  | 653               | \n",
       "| PSV               | 652               | \n",
       "| Ajax              | 647               | \n",
       "| FC Basel          | 619               | \n",
       "| Manchester City   | 606               | \n",
       "| Chelsea           | 583               | \n",
       "| Manchester United | 582               | \n",
       "\n",
       "\n"
      ],
      "text/plain": [
       "   Top_Ten_Team_by_Total_Goals_Scored Total_Goals_Scored\n",
       "1  FC Barcelona                       849               \n",
       "2  Real Madrid CF                     843               \n",
       "3  Celtic                             695               \n",
       "4  FC Bayern Munich                   653               \n",
       "5  PSV                                652               \n",
       "6  Ajax                               647               \n",
       "7  FC Basel                           619               \n",
       "8  Manchester City                    606               \n",
       "9  Chelsea                            583               \n",
       "10 Manchester United                  582               "
      ]
     },
     "metadata": {},
     "output_type": "display_data"
    }
   ],
   "source": [
    "arrange(Teams,desc(totalGoals))%>%select(team_long_name,totalGoals)%>%rename(Top_Ten_Team_by_Total_Goals_Scored = team_long_name,Total_Goals_Scored=totalGoals )%>%head(10)"
   ]
  }
 ],
 "metadata": {
  "kernelspec": {
   "display_name": "R",
   "language": "R",
   "name": "ir"
  },
  "language_info": {
   "codemirror_mode": "r",
   "file_extension": ".r",
   "mimetype": "text/x-r-source",
   "name": "R",
   "pygments_lexer": "r",
   "version": "3.3.2"
  }
 },
 "nbformat": 4,
 "nbformat_minor": 2
}
