{
 "cells": [
  {
   "cell_type": "code",
   "execution_count": 67,
   "metadata": {
    "collapsed": false
   },
   "outputs": [],
   "source": [
    "import pyspark\n",
    "import time\n",
    "import glob \n",
    "from operator import add\n",
    "import itertools\n",
    "from itertools import product\n",
    "import csv\n",
    "import os, shutil\n",
    "from shutil import copyfile\n",
    "import pandas as pd\n",
    "import matplotlib.pyplot as plt"
   ]
  },
  {
   "cell_type": "code",
   "execution_count": 68,
   "metadata": {
    "collapsed": false
   },
   "outputs": [],
   "source": [
    "#making a lookup table\n",
    "mydict={}\n",
    "with open('../Lab5/la.lexicon.csv', mode='r') as infile:\n",
    "    reader = csv.reader(infile)\n",
    "    \n",
    "    for rows in reader:\n",
    "        rows[0]=rows[0].replace('j','i')\n",
    "        rows[0]=rows[0].replace('v','u').lower()\n",
    "        rows[2]=rows[2].lower()\n",
    "        if mydict.has_key(rows[0]) and rows[2] not in mydict.get(rows[0]):\n",
    "            val = mydict[rows[0]]\n",
    "            mydict[rows[0]] = val.append(rows[2])\n",
    "            mydict[rows[0]] = val\n",
    "        else:\n",
    "            val=[]\n",
    "            val.append(rows[0])\n",
    "            if rows[2] not in val:\n",
    "                val.append(rows[2])\n",
    "            mydict[rows[0]] = val\n",
    "            # print(mydict)\n",
    "            "
   ]
  },
  {
   "cell_type": "code",
   "execution_count": 69,
   "metadata": {
    "collapsed": false
   },
   "outputs": [
    {
     "data": {
      "text/plain": [
       "['haec', 'hic']"
      ]
     },
     "execution_count": 69,
     "metadata": {},
     "output_type": "execute_result"
    }
   ],
   "source": [
    "mydict.get(\"haec\")"
   ]
  },
  {
   "cell_type": "code",
   "execution_count": 70,
   "metadata": {
    "collapsed": false
   },
   "outputs": [],
   "source": [
    "#look up functon to return lemma list\n",
    "def returnLemma(l):\n",
    "    print \"value of \",l\n",
    "    temp=[]\n",
    "    if mydict.has_key(l):\n",
    "        return mydict.get(l)\n",
    "    else:\n",
    "        temp.append(l)\n",
    "        return temp\n",
    "    "
   ]
  },
  {
   "cell_type": "code",
   "execution_count": 71,
   "metadata": {
    "collapsed": true
   },
   "outputs": [],
   "source": [
    "#MR function\n",
    "timetaken=[]\n",
    "NoOfFiles=[]\n",
    "def mapreduce(count):\n",
    "    lines = []\n",
    "    lines = sc.textFile(\"./copiedFile/*\")\n",
    "    start=time.time()\n",
    "    location_line = lines.map(lambda line: [elem.strip().encode(\"utf-8\") for elem in line.split('>')])\n",
    "    reduced_op1=location_line.map(lambda y: (y[0]+\">\",y[-1].split(' ')))\\\n",
    "         .flatMap(lambda (x,z) :[((crosslema),x) for i in itertools.combinations(z,2) for crosslema in product(returnLemma(i[0]),returnLemma(i[1]))])\\\n",
    "         .reduceByKey(add)\n",
    "    filepath=\"./allop/opforfiles_\"+str(count)+\".txt\"\n",
    "    print(filepath)\n",
    "#     reduced_op1.collect()\n",
    "    reduced_op1.saveAsTextFile(filepath)\n",
    "    print(\"Time taken for \"+str(count)+\" files : \"+str(time.time()-start))\n",
    "    timetaken.append(time.time()-start)\n",
    "    NoOfFiles.append(count)"
   ]
  },
  {
   "cell_type": "code",
   "execution_count": 73,
   "metadata": {
    "collapsed": false,
    "scrolled": true
   },
   "outputs": [
    {
     "name": "stdout",
     "output_type": "stream",
     "text": [
      "Moving file  1 ausonius.cupido_cruciatus.tess\n",
      "./allop/opforfiles_1.txt\n",
      "Time taken for 1 files : 10.2779998779\n",
      "Moving file  2 ausonius.de_herediolo.tess\n",
      "./allop/opforfiles_2.txt\n",
      "Time taken for 2 files : 10.6629998684\n",
      "Moving file  3 ausonius.eclogarum_liber.tess\n",
      "./allop/opforfiles_3.txt\n",
      "Time taken for 3 files : 11.632999897\n",
      "Moving file  4 ausonius.ephemeris_id_est_totius_diei_negotium.tess\n",
      "./allop/opforfiles_4.txt\n",
      "Time taken for 4 files : 12.8370001316\n",
      "Moving file  5 ausonius.epigrammata_ausonii_de_diversis_rebus.tess\n",
      "./allop/opforfiles_5.txt\n",
      "Time taken for 5 files : 13.2929999828\n",
      "Moving file  6 ausonius.griphus_ternarii_numeri.tess\n",
      "./allop/opforfiles_6.txt\n",
      "Time taken for 6 files : 14.3079998493\n",
      "Moving file  7 ausonius.libri_de_fastis_conclusio.tess\n",
      "./allop/opforfiles_7.txt\n",
      "Time taken for 7 files : 15.3269999027\n",
      "Moving file  8 ausonius.ludus_septem_sapientum.tess\n",
      "./allop/opforfiles_8.txt\n",
      "Time taken for 8 files : 16.9229998589\n",
      "Moving file  9 ausonius.mosella.tess\n",
      "./allop/opforfiles_9.txt\n",
      "Time taken for 9 files : 18.4749999046\n",
      "Moving file  10 ausonius.oratio_consulis_ausonii_versibus_rhopalicis.tess\n",
      "./allop/opforfiles_10.txt\n",
      "Time taken for 10 files : 19.3729999065\n",
      "Moving file  11 ausonius.ordo_urbium_nobilium.tess\n",
      "./allop/opforfiles_11.txt\n",
      "Time taken for 11 files : 20.7829999924\n",
      "Moving file  12 ausonius.precationes.tess\n",
      "./allop/opforfiles_12.txt\n",
      "Time taken for 12 files : 22.9490001202\n",
      "Moving file  13 ausonius.versus_paschales_pro_augusto_dicti.tess\n",
      "./allop/opforfiles_13.txt\n",
      "Time taken for 13 files : 23.2660000324\n",
      "Moving file  14 catullus.carmina.tess\n",
      "./allop/opforfiles_14.txt\n",
      "Time taken for 14 files : 25.6349999905\n",
      "Moving file  15 claudian.carmina_minora.tess\n",
      "./allop/opforfiles_15.txt\n",
      "Time taken for 15 files : 26.8239998817\n",
      "Moving file  16 claudian.de_bello_gildonico.tess\n",
      "./allop/opforfiles_16.txt\n",
      "Time taken for 16 files : 28.6690001488\n",
      "Moving file  17 claudian.de_bello_gothico.tess\n",
      "./allop/opforfiles_17.txt\n",
      "Time taken for 17 files : 29.6089999676\n",
      "Moving file  18 claudian.de_consulatu_stilichonis.tess\n",
      "./allop/opforfiles_18.txt\n",
      "Time taken for 18 files : 31.5700001717\n",
      "Moving file  19 claudian.de_raptu_proserpinae.tess\n",
      "./allop/opforfiles_19.txt\n",
      "Time taken for 19 files : 32.4099998474\n",
      "Moving file  20 claudian.epithalamium_de_nuptiis_honorii_augusti.tess\n",
      "./allop/opforfiles_20.txt\n",
      "Time taken for 20 files : 33.4960000515\n",
      "Moving file  21 claudian.in_consulatum_olybrii_et_probini.tess\n",
      "./allop/opforfiles_21.txt\n",
      "Time taken for 21 files : 34.9309999943\n",
      "Moving file  22 claudian.in_eutropium.tess\n",
      "./allop/opforfiles_22.txt\n",
      "Time taken for 22 files : 36.7969999313\n",
      "Moving file  23 claudian.in_rufinum.tess\n",
      "./allop/opforfiles_23.txt\n",
      "Time taken for 23 files : 38.3569998741\n",
      "Moving file  24 claudian.panegyricus_de_quarto_consulatu_honorii_augusti.tess\n",
      "./allop/opforfiles_24.txt\n",
      "Time taken for 24 files : 39.8619999886\n",
      "Moving file  25 claudian.panegyricus_de_sexto_consulatu_honorii_augusti.tess\n",
      "./allop/opforfiles_25.txt\n",
      "Time taken for 25 files : 40.6399998665\n",
      "Moving file  26 claudian.panegyricus_de_tertio_consulatu_honorii_augusti.tess\n",
      "./allop/opforfiles_26.txt\n",
      "Time taken for 26 files : 41.5340001583\n",
      "Moving file  27 dracontius.de_laudibus_dei.tess\n",
      "./allop/opforfiles_27.txt\n",
      "Time taken for 27 files : 44.5569999218\n",
      "Moving file  28 dracontius.orestes.tess\n",
      "./allop/opforfiles_28.txt\n",
      "Time taken for 28 files : 46.2029998302\n",
      "Moving file  29 dracontius.romulea.tess\n",
      "./allop/opforfiles_29.txt\n",
      "Time taken for 29 files : 46.993999958\n",
      "Moving file  30 dracontius.satisfactio.tess\n",
      "./allop/opforfiles_30.txt\n",
      "Time taken for 30 files : 48.2769999504\n",
      "Moving file  31 ennius.annales.tess\n",
      "./allop/opforfiles_31.txt\n",
      "Time taken for 31 files : 49.5490000248\n",
      "Moving file  32 ennodius.carmina.tess\n",
      "./allop/opforfiles_32.txt\n",
      "Time taken for 32 files : 51.1779999733\n",
      "Moving file  33 ennodius.epigrammata.tess\n",
      "./allop/opforfiles_33.txt\n",
      "Time taken for 33 files : 52.9279999733\n",
      "Moving file  34 horace.ars_poetica.tess\n",
      "./allop/opforfiles_34.txt\n",
      "Time taken for 34 files : 53.7109999657\n",
      "Moving file  35 horace.carmen_saeculare.tess\n",
      "./allop/opforfiles_35.txt\n",
      "Time taken for 35 files : 55.0840001106\n",
      "Moving file  36 horace.epistles.tess\n",
      "./allop/opforfiles_36.txt\n",
      "Time taken for 36 files : 57.8650000095\n",
      "Moving file  37 horace.epodes.tess\n",
      "./allop/opforfiles_37.txt\n",
      "Time taken for 37 files : 57.996999979\n",
      "Moving file  38 horace.odes.tess\n",
      "./allop/opforfiles_38.txt\n",
      "Time taken for 38 files : 60.3300001621\n",
      "Moving file  39 horace.satires.tess\n",
      "./allop/opforfiles_39.txt\n",
      "Time taken for 39 files : 61.9170000553\n",
      "Moving file  40 juvenal.satires.tess\n",
      "./allop/opforfiles_40.txt\n",
      "Time taken for 40 files : 64.3830001354\n",
      "Moving file  41 juvencus.historia_evangelica.tess\n",
      "./allop/opforfiles_41.txt\n",
      "Time taken for 41 files : 66.0460000038\n",
      "Moving file  42 lactantius.carmen_de_passione_domini.tess\n",
      "./allop/opforfiles_42.txt\n",
      "Time taken for 42 files : 66.7149999142\n",
      "Moving file  43 lactantius.de_ave_phoenice.tess\n",
      "./allop/opforfiles_43.txt\n",
      "Time taken for 43 files : 66.8980000019\n",
      "Moving file  44 lucan.bellum_civile.tess\n",
      "./allop/opforfiles_44.txt\n",
      "Time taken for 44 files : 73.5009999275\n",
      "Moving file  45 lucretius.de_rerum_natura.tess\n",
      "./allop/opforfiles_45.txt\n",
      "Time taken for 45 files : 75.4949998856\n",
      "Moving file  46 manilius.astronomicon.tess\n",
      "./allop/opforfiles_46.txt\n",
      "Time taken for 46 files : 77.9639999866\n",
      "Moving file  47 martial.epigrams.tess\n",
      "./allop/opforfiles_47.txt\n",
      "Time taken for 47 files : 80.3529999256\n",
      "Moving file  48 maximianus.elegiae.tess\n",
      "./allop/opforfiles_48.txt\n",
      "Time taken for 48 files : 415.398000002\n",
      "Moving file  49 ovid.amores.tess\n",
      "./allop/opforfiles_49.txt\n",
      "Time taken for 49 files : 85.114000082\n",
      "Moving file  50 ovid.ars_amatoria.tess\n",
      "./allop/opforfiles_50.txt\n",
      "Time taken for 50 files : 92.1559998989\n",
      "Moving file  51 ovid.ex_ponto.tess\n",
      "./allop/opforfiles_51.txt\n",
      "Time taken for 51 files : 96.7269999981\n",
      "Moving file  52 ovid.fasti.tess\n",
      "./allop/opforfiles_52.txt\n",
      "Time taken for 52 files : 101.157000065\n",
      "Moving file  53 ovid.heroides.tess\n",
      "./allop/opforfiles_53.txt\n",
      "Time taken for 53 files : 111.080999851\n",
      "Moving file  54 ovid.ibis.tess\n",
      "./allop/opforfiles_54.txt\n",
      "Time taken for 54 files : 93.4850001335\n",
      "Moving file  55 ovid.medicamina_faciei_femineae.tess\n",
      "./allop/opforfiles_55.txt\n",
      "Time taken for 55 files : 92.4949998856\n",
      "Moving file  56 ovid.metamorphoses.tess\n",
      "./allop/opforfiles_56.txt\n",
      "Time taken for 56 files : 101.967000008\n",
      "Moving file  57 ovid.remedia_amoris.tess\n",
      "./allop/opforfiles_57.txt\n",
      "Time taken for 57 files : 103.494999886\n",
      "Moving file  58 ovid.tristia.tess\n",
      "./allop/opforfiles_58.txt\n",
      "Time taken for 58 files : 104.753000021\n",
      "Moving file  59 paulus_diaconus.carmina.tess\n",
      "./allop/opforfiles_59.txt\n",
      "Time taken for 59 files : 115.944000006\n",
      "Moving file  60 persius.satires.tess\n",
      "./allop/opforfiles_60.txt\n",
      "Time taken for 60 files : 105.745000124\n",
      "Moving file  61 plautus.amphitruo.tess\n",
      "./allop/opforfiles_61.txt\n",
      "Time taken for 61 files : 107.335999966\n",
      "Moving file  62 plautus.aulularia.tess\n",
      "./allop/opforfiles_62.txt\n",
      "Time taken for 62 files : 108.856999874\n",
      "Moving file  63 plautus.bacchides.tess\n",
      "./allop/opforfiles_63.txt\n",
      "Time taken for 63 files : 110.271000147\n",
      "Moving file  64 plautus.captivi.tess\n",
      "./allop/opforfiles_64.txt\n",
      "Time taken for 64 files : 120.514999866\n",
      "Moving file  65 plautus.casina.tess\n",
      "./allop/opforfiles_65.txt\n",
      "Time taken for 65 files : 111.434000015\n",
      "Moving file  66 plautus.cistellaria.tess\n",
      "./allop/opforfiles_66.txt\n",
      "Time taken for 66 files : 114.997999907\n",
      "Moving file  67 plautus.curculio.tess\n",
      "./allop/opforfiles_67.txt\n",
      "Time taken for 67 files : 115.703999996\n",
      "Moving file  68 plautus.epidicus.tess\n",
      "./allop/opforfiles_68.txt\n",
      "Time taken for 68 files : 117.957000017\n",
      "Moving file  69 plautus.menaechmi.tess\n",
      "./allop/opforfiles_69.txt\n",
      "Time taken for 69 files : 121.638000011\n",
      "Moving file  70 plautus.mercator.tess\n",
      "./allop/opforfiles_70.txt\n",
      "Time taken for 70 files : 123.504999876\n",
      "Moving file  71 plautus.miles_gloriosus.tess\n",
      "./allop/opforfiles_71.txt\n",
      "Time taken for 71 files : 124.496999979\n",
      "Moving file  72 plautus.mostellaria.tess\n",
      "./allop/opforfiles_72.txt\n",
      "Time taken for 72 files : 133.027999878\n",
      "Moving file  73 plautus.persa.tess\n",
      "./allop/opforfiles_73.txt\n",
      "Time taken for 73 files : 126.929999828\n",
      "Moving file  74 plautus.poenulus.tess\n",
      "./allop/opforfiles_74.txt\n",
      "Time taken for 74 files : 128.326999903\n",
      "Moving file  75 plautus.pseudolus.tess\n",
      "./allop/opforfiles_75.txt\n"
     ]
    },
    {
     "ename": "Py4JJavaError",
     "evalue": "An error occurred while calling o5525.saveAsTextFile.\n: org.apache.spark.SparkException: Job aborted due to stage failure: Task 31 in stage 403.0 failed 1 times, most recent failure: Lost task 31.0 in stage 403.0 (TID 14761, localhost, executor driver): java.io.IOException: Could not rename file:/C:/Users/Ashwini/Box Sync/Courses/Spring 2017/587 DIC/lab 5/allop/opforfiles_75.txt/_temporary/0/_temporary/attempt_20170510222025_0403_m_000031_14761 to file:/C:/Users/Ashwini/Box Sync/Courses/Spring 2017/587 DIC/lab 5/allop/opforfiles_75.txt/_temporary/0/task_20170510222025_0403_m_000031\r\n\tat org.apache.hadoop.mapreduce.lib.output.FileOutputCommitter.commitTask(FileOutputCommitter.java:532)\r\n\tat org.apache.hadoop.mapred.FileOutputCommitter.commitTask(FileOutputCommitter.java:172)\r\n\tat org.apache.hadoop.mapred.OutputCommitter.commitTask(OutputCommitter.java:343)\r\n\tat org.apache.spark.mapred.SparkHadoopMapRedUtil$.performCommit$1(SparkHadoopMapRedUtil.scala:50)\r\n\tat org.apache.spark.mapred.SparkHadoopMapRedUtil$.commitTask(SparkHadoopMapRedUtil.scala:76)\r\n\tat org.apache.spark.SparkHadoopWriter.commit(SparkHadoopWriter.scala:106)\r\n\tat org.apache.spark.rdd.PairRDDFunctions$$anonfun$saveAsHadoopDataset$1$$anonfun$13.apply(PairRDDFunctions.scala:1219)\r\n\tat org.apache.spark.rdd.PairRDDFunctions$$anonfun$saveAsHadoopDataset$1$$anonfun$13.apply(PairRDDFunctions.scala:1197)\r\n\tat org.apache.spark.scheduler.ResultTask.runTask(ResultTask.scala:87)\r\n\tat org.apache.spark.scheduler.Task.run(Task.scala:99)\r\n\tat org.apache.spark.executor.Executor$TaskRunner.run(Executor.scala:282)\r\n\tat java.util.concurrent.ThreadPoolExecutor.runWorker(Unknown Source)\r\n\tat java.util.concurrent.ThreadPoolExecutor$Worker.run(Unknown Source)\r\n\tat java.lang.Thread.run(Unknown Source)\r\n\nDriver stacktrace:\r\n\tat org.apache.spark.scheduler.DAGScheduler.org$apache$spark$scheduler$DAGScheduler$$failJobAndIndependentStages(DAGScheduler.scala:1435)\r\n\tat org.apache.spark.scheduler.DAGScheduler$$anonfun$abortStage$1.apply(DAGScheduler.scala:1423)\r\n\tat org.apache.spark.scheduler.DAGScheduler$$anonfun$abortStage$1.apply(DAGScheduler.scala:1422)\r\n\tat scala.collection.mutable.ResizableArray$class.foreach(ResizableArray.scala:59)\r\n\tat scala.collection.mutable.ArrayBuffer.foreach(ArrayBuffer.scala:48)\r\n\tat org.apache.spark.scheduler.DAGScheduler.abortStage(DAGScheduler.scala:1422)\r\n\tat org.apache.spark.scheduler.DAGScheduler$$anonfun$handleTaskSetFailed$1.apply(DAGScheduler.scala:802)\r\n\tat org.apache.spark.scheduler.DAGScheduler$$anonfun$handleTaskSetFailed$1.apply(DAGScheduler.scala:802)\r\n\tat scala.Option.foreach(Option.scala:257)\r\n\tat org.apache.spark.scheduler.DAGScheduler.handleTaskSetFailed(DAGScheduler.scala:802)\r\n\tat org.apache.spark.scheduler.DAGSchedulerEventProcessLoop.doOnReceive(DAGScheduler.scala:1650)\r\n\tat org.apache.spark.scheduler.DAGSchedulerEventProcessLoop.onReceive(DAGScheduler.scala:1605)\r\n\tat org.apache.spark.scheduler.DAGSchedulerEventProcessLoop.onReceive(DAGScheduler.scala:1594)\r\n\tat org.apache.spark.util.EventLoop$$anon$1.run(EventLoop.scala:48)\r\n\tat org.apache.spark.scheduler.DAGScheduler.runJob(DAGScheduler.scala:628)\r\n\tat org.apache.spark.SparkContext.runJob(SparkContext.scala:1918)\r\n\tat org.apache.spark.SparkContext.runJob(SparkContext.scala:1931)\r\n\tat org.apache.spark.SparkContext.runJob(SparkContext.scala:1951)\r\n\tat org.apache.spark.rdd.PairRDDFunctions$$anonfun$saveAsHadoopDataset$1.apply$mcV$sp(PairRDDFunctions.scala:1226)\r\n\tat org.apache.spark.rdd.PairRDDFunctions$$anonfun$saveAsHadoopDataset$1.apply(PairRDDFunctions.scala:1168)\r\n\tat org.apache.spark.rdd.PairRDDFunctions$$anonfun$saveAsHadoopDataset$1.apply(PairRDDFunctions.scala:1168)\r\n\tat org.apache.spark.rdd.RDDOperationScope$.withScope(RDDOperationScope.scala:151)\r\n\tat org.apache.spark.rdd.RDDOperationScope$.withScope(RDDOperationScope.scala:112)\r\n\tat org.apache.spark.rdd.RDD.withScope(RDD.scala:362)\r\n\tat org.apache.spark.rdd.PairRDDFunctions.saveAsHadoopDataset(PairRDDFunctions.scala:1168)\r\n\tat org.apache.spark.rdd.PairRDDFunctions$$anonfun$saveAsHadoopFile$4.apply$mcV$sp(PairRDDFunctions.scala:1071)\r\n\tat org.apache.spark.rdd.PairRDDFunctions$$anonfun$saveAsHadoopFile$4.apply(PairRDDFunctions.scala:1037)\r\n\tat org.apache.spark.rdd.PairRDDFunctions$$anonfun$saveAsHadoopFile$4.apply(PairRDDFunctions.scala:1037)\r\n\tat org.apache.spark.rdd.RDDOperationScope$.withScope(RDDOperationScope.scala:151)\r\n\tat org.apache.spark.rdd.RDDOperationScope$.withScope(RDDOperationScope.scala:112)\r\n\tat org.apache.spark.rdd.RDD.withScope(RDD.scala:362)\r\n\tat org.apache.spark.rdd.PairRDDFunctions.saveAsHadoopFile(PairRDDFunctions.scala:1037)\r\n\tat org.apache.spark.rdd.PairRDDFunctions$$anonfun$saveAsHadoopFile$1.apply$mcV$sp(PairRDDFunctions.scala:963)\r\n\tat org.apache.spark.rdd.PairRDDFunctions$$anonfun$saveAsHadoopFile$1.apply(PairRDDFunctions.scala:963)\r\n\tat org.apache.spark.rdd.PairRDDFunctions$$anonfun$saveAsHadoopFile$1.apply(PairRDDFunctions.scala:963)\r\n\tat org.apache.spark.rdd.RDDOperationScope$.withScope(RDDOperationScope.scala:151)\r\n\tat org.apache.spark.rdd.RDDOperationScope$.withScope(RDDOperationScope.scala:112)\r\n\tat org.apache.spark.rdd.RDD.withScope(RDD.scala:362)\r\n\tat org.apache.spark.rdd.PairRDDFunctions.saveAsHadoopFile(PairRDDFunctions.scala:962)\r\n\tat org.apache.spark.rdd.RDD$$anonfun$saveAsTextFile$1.apply$mcV$sp(RDD.scala:1488)\r\n\tat org.apache.spark.rdd.RDD$$anonfun$saveAsTextFile$1.apply(RDD.scala:1467)\r\n\tat org.apache.spark.rdd.RDD$$anonfun$saveAsTextFile$1.apply(RDD.scala:1467)\r\n\tat org.apache.spark.rdd.RDDOperationScope$.withScope(RDDOperationScope.scala:151)\r\n\tat org.apache.spark.rdd.RDDOperationScope$.withScope(RDDOperationScope.scala:112)\r\n\tat org.apache.spark.rdd.RDD.withScope(RDD.scala:362)\r\n\tat org.apache.spark.rdd.RDD.saveAsTextFile(RDD.scala:1467)\r\n\tat org.apache.spark.api.java.JavaRDDLike$class.saveAsTextFile(JavaRDDLike.scala:550)\r\n\tat org.apache.spark.api.java.AbstractJavaRDDLike.saveAsTextFile(JavaRDDLike.scala:45)\r\n\tat sun.reflect.GeneratedMethodAccessor119.invoke(Unknown Source)\r\n\tat sun.reflect.DelegatingMethodAccessorImpl.invoke(Unknown Source)\r\n\tat java.lang.reflect.Method.invoke(Unknown Source)\r\n\tat py4j.reflection.MethodInvoker.invoke(MethodInvoker.java:244)\r\n\tat py4j.reflection.ReflectionEngine.invoke(ReflectionEngine.java:357)\r\n\tat py4j.Gateway.invoke(Gateway.java:280)\r\n\tat py4j.commands.AbstractCommand.invokeMethod(AbstractCommand.java:132)\r\n\tat py4j.commands.CallCommand.execute(CallCommand.java:79)\r\n\tat py4j.GatewayConnection.run(GatewayConnection.java:214)\r\n\tat java.lang.Thread.run(Unknown Source)\r\nCaused by: java.io.IOException: Could not rename file:/C:/Users/Ashwini/Box Sync/Courses/Spring 2017/587 DIC/lab 5/allop/opforfiles_75.txt/_temporary/0/_temporary/attempt_20170510222025_0403_m_000031_14761 to file:/C:/Users/Ashwini/Box Sync/Courses/Spring 2017/587 DIC/lab 5/allop/opforfiles_75.txt/_temporary/0/task_20170510222025_0403_m_000031\r\n\tat org.apache.hadoop.mapreduce.lib.output.FileOutputCommitter.commitTask(FileOutputCommitter.java:532)\r\n\tat org.apache.hadoop.mapred.FileOutputCommitter.commitTask(FileOutputCommitter.java:172)\r\n\tat org.apache.hadoop.mapred.OutputCommitter.commitTask(OutputCommitter.java:343)\r\n\tat org.apache.spark.mapred.SparkHadoopMapRedUtil$.performCommit$1(SparkHadoopMapRedUtil.scala:50)\r\n\tat org.apache.spark.mapred.SparkHadoopMapRedUtil$.commitTask(SparkHadoopMapRedUtil.scala:76)\r\n\tat org.apache.spark.SparkHadoopWriter.commit(SparkHadoopWriter.scala:106)\r\n\tat org.apache.spark.rdd.PairRDDFunctions$$anonfun$saveAsHadoopDataset$1$$anonfun$13.apply(PairRDDFunctions.scala:1219)\r\n\tat org.apache.spark.rdd.PairRDDFunctions$$anonfun$saveAsHadoopDataset$1$$anonfun$13.apply(PairRDDFunctions.scala:1197)\r\n\tat org.apache.spark.scheduler.ResultTask.runTask(ResultTask.scala:87)\r\n\tat org.apache.spark.scheduler.Task.run(Task.scala:99)\r\n\tat org.apache.spark.executor.Executor$TaskRunner.run(Executor.scala:282)\r\n\tat java.util.concurrent.ThreadPoolExecutor.runWorker(Unknown Source)\r\n\tat java.util.concurrent.ThreadPoolExecutor$Worker.run(Unknown Source)\r\n\t... 1 more\r\n",
     "output_type": "error",
     "traceback": [
      "\u001b[0;31m---------------------------------------------------------------------------\u001b[0m",
      "\u001b[0;31mPy4JJavaError\u001b[0m                             Traceback (most recent call last)",
      "\u001b[0;32m<ipython-input-73-bdcc4313acf3>\u001b[0m in \u001b[0;36m<module>\u001b[0;34m()\u001b[0m\n\u001b[1;32m     10\u001b[0m     \u001b[0mcopyfile\u001b[0m\u001b[1;33m(\u001b[0m\u001b[0msrc\u001b[0m\u001b[1;33m,\u001b[0m\u001b[0mdst\u001b[0m\u001b[1;33m)\u001b[0m\u001b[1;33m\u001b[0m\u001b[0m\n\u001b[1;32m     11\u001b[0m     \u001b[1;32mprint\u001b[0m \u001b[1;34m\"Moving file \"\u001b[0m\u001b[1;33m,\u001b[0m\u001b[0mcount\u001b[0m \u001b[1;33m,\u001b[0m\u001b[0mf\u001b[0m\u001b[1;33m\u001b[0m\u001b[0m\n\u001b[0;32m---> 12\u001b[0;31m     \u001b[0mmapreduce\u001b[0m\u001b[1;33m(\u001b[0m\u001b[0mcount\u001b[0m\u001b[1;33m)\u001b[0m\u001b[1;33m\u001b[0m\u001b[0m\n\u001b[0m",
      "\u001b[0;32m<ipython-input-71-7ad63f00164d>\u001b[0m in \u001b[0;36mmapreduce\u001b[0;34m(count)\u001b[0m\n\u001b[1;32m     11\u001b[0m     \u001b[1;32mprint\u001b[0m\u001b[1;33m(\u001b[0m\u001b[0mfilepath\u001b[0m\u001b[1;33m)\u001b[0m\u001b[1;33m\u001b[0m\u001b[0m\n\u001b[1;32m     12\u001b[0m \u001b[1;31m#     reduced_op1.collect()\u001b[0m\u001b[1;33m\u001b[0m\u001b[1;33m\u001b[0m\u001b[0m\n\u001b[0;32m---> 13\u001b[0;31m     \u001b[0mreduced_op1\u001b[0m\u001b[1;33m.\u001b[0m\u001b[0msaveAsTextFile\u001b[0m\u001b[1;33m(\u001b[0m\u001b[0mfilepath\u001b[0m\u001b[1;33m)\u001b[0m\u001b[1;33m\u001b[0m\u001b[0m\n\u001b[0m\u001b[1;32m     14\u001b[0m     \u001b[1;32mprint\u001b[0m\u001b[1;33m(\u001b[0m\u001b[1;34m\"Time taken for \"\u001b[0m\u001b[1;33m+\u001b[0m\u001b[0mstr\u001b[0m\u001b[1;33m(\u001b[0m\u001b[0mcount\u001b[0m\u001b[1;33m)\u001b[0m\u001b[1;33m+\u001b[0m\u001b[1;34m\" files : \"\u001b[0m\u001b[1;33m+\u001b[0m\u001b[0mstr\u001b[0m\u001b[1;33m(\u001b[0m\u001b[0mtime\u001b[0m\u001b[1;33m.\u001b[0m\u001b[0mtime\u001b[0m\u001b[1;33m(\u001b[0m\u001b[1;33m)\u001b[0m\u001b[1;33m-\u001b[0m\u001b[0mstart\u001b[0m\u001b[1;33m)\u001b[0m\u001b[1;33m)\u001b[0m\u001b[1;33m\u001b[0m\u001b[0m\n\u001b[1;32m     15\u001b[0m     \u001b[0mtimetaken\u001b[0m\u001b[1;33m.\u001b[0m\u001b[0mappend\u001b[0m\u001b[1;33m(\u001b[0m\u001b[0mtime\u001b[0m\u001b[1;33m.\u001b[0m\u001b[0mtime\u001b[0m\u001b[1;33m(\u001b[0m\u001b[1;33m)\u001b[0m\u001b[1;33m-\u001b[0m\u001b[0mstart\u001b[0m\u001b[1;33m)\u001b[0m\u001b[1;33m\u001b[0m\u001b[0m\n",
      "\u001b[0;32mC:\\spark\\python\\pyspark\\rdd.pyc\u001b[0m in \u001b[0;36msaveAsTextFile\u001b[0;34m(self, path, compressionCodecClass)\u001b[0m\n\u001b[1;32m   1551\u001b[0m             \u001b[0mkeyed\u001b[0m\u001b[1;33m.\u001b[0m\u001b[0m_jrdd\u001b[0m\u001b[1;33m.\u001b[0m\u001b[0mmap\u001b[0m\u001b[1;33m(\u001b[0m\u001b[0mself\u001b[0m\u001b[1;33m.\u001b[0m\u001b[0mctx\u001b[0m\u001b[1;33m.\u001b[0m\u001b[0m_jvm\u001b[0m\u001b[1;33m.\u001b[0m\u001b[0mBytesToString\u001b[0m\u001b[1;33m(\u001b[0m\u001b[1;33m)\u001b[0m\u001b[1;33m)\u001b[0m\u001b[1;33m.\u001b[0m\u001b[0msaveAsTextFile\u001b[0m\u001b[1;33m(\u001b[0m\u001b[0mpath\u001b[0m\u001b[1;33m,\u001b[0m \u001b[0mcompressionCodec\u001b[0m\u001b[1;33m)\u001b[0m\u001b[1;33m\u001b[0m\u001b[0m\n\u001b[1;32m   1552\u001b[0m         \u001b[1;32melse\u001b[0m\u001b[1;33m:\u001b[0m\u001b[1;33m\u001b[0m\u001b[0m\n\u001b[0;32m-> 1553\u001b[0;31m             \u001b[0mkeyed\u001b[0m\u001b[1;33m.\u001b[0m\u001b[0m_jrdd\u001b[0m\u001b[1;33m.\u001b[0m\u001b[0mmap\u001b[0m\u001b[1;33m(\u001b[0m\u001b[0mself\u001b[0m\u001b[1;33m.\u001b[0m\u001b[0mctx\u001b[0m\u001b[1;33m.\u001b[0m\u001b[0m_jvm\u001b[0m\u001b[1;33m.\u001b[0m\u001b[0mBytesToString\u001b[0m\u001b[1;33m(\u001b[0m\u001b[1;33m)\u001b[0m\u001b[1;33m)\u001b[0m\u001b[1;33m.\u001b[0m\u001b[0msaveAsTextFile\u001b[0m\u001b[1;33m(\u001b[0m\u001b[0mpath\u001b[0m\u001b[1;33m)\u001b[0m\u001b[1;33m\u001b[0m\u001b[0m\n\u001b[0m\u001b[1;32m   1554\u001b[0m \u001b[1;33m\u001b[0m\u001b[0m\n\u001b[1;32m   1555\u001b[0m     \u001b[1;31m# Pair functions\u001b[0m\u001b[1;33m\u001b[0m\u001b[1;33m\u001b[0m\u001b[0m\n",
      "\u001b[0;32mC:\\spark\\python\\lib\\py4j-0.10.4-src.zip\\py4j\\java_gateway.py\u001b[0m in \u001b[0;36m__call__\u001b[0;34m(self, *args)\u001b[0m\n\u001b[1;32m   1131\u001b[0m         \u001b[0manswer\u001b[0m \u001b[1;33m=\u001b[0m \u001b[0mself\u001b[0m\u001b[1;33m.\u001b[0m\u001b[0mgateway_client\u001b[0m\u001b[1;33m.\u001b[0m\u001b[0msend_command\u001b[0m\u001b[1;33m(\u001b[0m\u001b[0mcommand\u001b[0m\u001b[1;33m)\u001b[0m\u001b[1;33m\u001b[0m\u001b[0m\n\u001b[1;32m   1132\u001b[0m         return_value = get_return_value(\n\u001b[0;32m-> 1133\u001b[0;31m             answer, self.gateway_client, self.target_id, self.name)\n\u001b[0m\u001b[1;32m   1134\u001b[0m \u001b[1;33m\u001b[0m\u001b[0m\n\u001b[1;32m   1135\u001b[0m         \u001b[1;32mfor\u001b[0m \u001b[0mtemp_arg\u001b[0m \u001b[1;32min\u001b[0m \u001b[0mtemp_args\u001b[0m\u001b[1;33m:\u001b[0m\u001b[1;33m\u001b[0m\u001b[0m\n",
      "\u001b[0;32mC:\\spark\\python\\pyspark\\sql\\utils.pyc\u001b[0m in \u001b[0;36mdeco\u001b[0;34m(*a, **kw)\u001b[0m\n\u001b[1;32m     61\u001b[0m     \u001b[1;32mdef\u001b[0m \u001b[0mdeco\u001b[0m\u001b[1;33m(\u001b[0m\u001b[1;33m*\u001b[0m\u001b[0ma\u001b[0m\u001b[1;33m,\u001b[0m \u001b[1;33m**\u001b[0m\u001b[0mkw\u001b[0m\u001b[1;33m)\u001b[0m\u001b[1;33m:\u001b[0m\u001b[1;33m\u001b[0m\u001b[0m\n\u001b[1;32m     62\u001b[0m         \u001b[1;32mtry\u001b[0m\u001b[1;33m:\u001b[0m\u001b[1;33m\u001b[0m\u001b[0m\n\u001b[0;32m---> 63\u001b[0;31m             \u001b[1;32mreturn\u001b[0m \u001b[0mf\u001b[0m\u001b[1;33m(\u001b[0m\u001b[1;33m*\u001b[0m\u001b[0ma\u001b[0m\u001b[1;33m,\u001b[0m \u001b[1;33m**\u001b[0m\u001b[0mkw\u001b[0m\u001b[1;33m)\u001b[0m\u001b[1;33m\u001b[0m\u001b[0m\n\u001b[0m\u001b[1;32m     64\u001b[0m         \u001b[1;32mexcept\u001b[0m \u001b[0mpy4j\u001b[0m\u001b[1;33m.\u001b[0m\u001b[0mprotocol\u001b[0m\u001b[1;33m.\u001b[0m\u001b[0mPy4JJavaError\u001b[0m \u001b[1;32mas\u001b[0m \u001b[0me\u001b[0m\u001b[1;33m:\u001b[0m\u001b[1;33m\u001b[0m\u001b[0m\n\u001b[1;32m     65\u001b[0m             \u001b[0ms\u001b[0m \u001b[1;33m=\u001b[0m \u001b[0me\u001b[0m\u001b[1;33m.\u001b[0m\u001b[0mjava_exception\u001b[0m\u001b[1;33m.\u001b[0m\u001b[0mtoString\u001b[0m\u001b[1;33m(\u001b[0m\u001b[1;33m)\u001b[0m\u001b[1;33m\u001b[0m\u001b[0m\n",
      "\u001b[0;32mC:\\spark\\python\\lib\\py4j-0.10.4-src.zip\\py4j\\protocol.py\u001b[0m in \u001b[0;36mget_return_value\u001b[0;34m(answer, gateway_client, target_id, name)\u001b[0m\n\u001b[1;32m    317\u001b[0m                 raise Py4JJavaError(\n\u001b[1;32m    318\u001b[0m                     \u001b[1;34m\"An error occurred while calling {0}{1}{2}.\\n\"\u001b[0m\u001b[1;33m.\u001b[0m\u001b[1;33m\u001b[0m\u001b[0m\n\u001b[0;32m--> 319\u001b[0;31m                     format(target_id, \".\", name), value)\n\u001b[0m\u001b[1;32m    320\u001b[0m             \u001b[1;32melse\u001b[0m\u001b[1;33m:\u001b[0m\u001b[1;33m\u001b[0m\u001b[0m\n\u001b[1;32m    321\u001b[0m                 raise Py4JError(\n",
      "\u001b[0;31mPy4JJavaError\u001b[0m: An error occurred while calling o5525.saveAsTextFile.\n: org.apache.spark.SparkException: Job aborted due to stage failure: Task 31 in stage 403.0 failed 1 times, most recent failure: Lost task 31.0 in stage 403.0 (TID 14761, localhost, executor driver): java.io.IOException: Could not rename file:/C:/Users/Ashwini/Box Sync/Courses/Spring 2017/587 DIC/lab 5/allop/opforfiles_75.txt/_temporary/0/_temporary/attempt_20170510222025_0403_m_000031_14761 to file:/C:/Users/Ashwini/Box Sync/Courses/Spring 2017/587 DIC/lab 5/allop/opforfiles_75.txt/_temporary/0/task_20170510222025_0403_m_000031\r\n\tat org.apache.hadoop.mapreduce.lib.output.FileOutputCommitter.commitTask(FileOutputCommitter.java:532)\r\n\tat org.apache.hadoop.mapred.FileOutputCommitter.commitTask(FileOutputCommitter.java:172)\r\n\tat org.apache.hadoop.mapred.OutputCommitter.commitTask(OutputCommitter.java:343)\r\n\tat org.apache.spark.mapred.SparkHadoopMapRedUtil$.performCommit$1(SparkHadoopMapRedUtil.scala:50)\r\n\tat org.apache.spark.mapred.SparkHadoopMapRedUtil$.commitTask(SparkHadoopMapRedUtil.scala:76)\r\n\tat org.apache.spark.SparkHadoopWriter.commit(SparkHadoopWriter.scala:106)\r\n\tat org.apache.spark.rdd.PairRDDFunctions$$anonfun$saveAsHadoopDataset$1$$anonfun$13.apply(PairRDDFunctions.scala:1219)\r\n\tat org.apache.spark.rdd.PairRDDFunctions$$anonfun$saveAsHadoopDataset$1$$anonfun$13.apply(PairRDDFunctions.scala:1197)\r\n\tat org.apache.spark.scheduler.ResultTask.runTask(ResultTask.scala:87)\r\n\tat org.apache.spark.scheduler.Task.run(Task.scala:99)\r\n\tat org.apache.spark.executor.Executor$TaskRunner.run(Executor.scala:282)\r\n\tat java.util.concurrent.ThreadPoolExecutor.runWorker(Unknown Source)\r\n\tat java.util.concurrent.ThreadPoolExecutor$Worker.run(Unknown Source)\r\n\tat java.lang.Thread.run(Unknown Source)\r\n\nDriver stacktrace:\r\n\tat org.apache.spark.scheduler.DAGScheduler.org$apache$spark$scheduler$DAGScheduler$$failJobAndIndependentStages(DAGScheduler.scala:1435)\r\n\tat org.apache.spark.scheduler.DAGScheduler$$anonfun$abortStage$1.apply(DAGScheduler.scala:1423)\r\n\tat org.apache.spark.scheduler.DAGScheduler$$anonfun$abortStage$1.apply(DAGScheduler.scala:1422)\r\n\tat scala.collection.mutable.ResizableArray$class.foreach(ResizableArray.scala:59)\r\n\tat scala.collection.mutable.ArrayBuffer.foreach(ArrayBuffer.scala:48)\r\n\tat org.apache.spark.scheduler.DAGScheduler.abortStage(DAGScheduler.scala:1422)\r\n\tat org.apache.spark.scheduler.DAGScheduler$$anonfun$handleTaskSetFailed$1.apply(DAGScheduler.scala:802)\r\n\tat org.apache.spark.scheduler.DAGScheduler$$anonfun$handleTaskSetFailed$1.apply(DAGScheduler.scala:802)\r\n\tat scala.Option.foreach(Option.scala:257)\r\n\tat org.apache.spark.scheduler.DAGScheduler.handleTaskSetFailed(DAGScheduler.scala:802)\r\n\tat org.apache.spark.scheduler.DAGSchedulerEventProcessLoop.doOnReceive(DAGScheduler.scala:1650)\r\n\tat org.apache.spark.scheduler.DAGSchedulerEventProcessLoop.onReceive(DAGScheduler.scala:1605)\r\n\tat org.apache.spark.scheduler.DAGSchedulerEventProcessLoop.onReceive(DAGScheduler.scala:1594)\r\n\tat org.apache.spark.util.EventLoop$$anon$1.run(EventLoop.scala:48)\r\n\tat org.apache.spark.scheduler.DAGScheduler.runJob(DAGScheduler.scala:628)\r\n\tat org.apache.spark.SparkContext.runJob(SparkContext.scala:1918)\r\n\tat org.apache.spark.SparkContext.runJob(SparkContext.scala:1931)\r\n\tat org.apache.spark.SparkContext.runJob(SparkContext.scala:1951)\r\n\tat org.apache.spark.rdd.PairRDDFunctions$$anonfun$saveAsHadoopDataset$1.apply$mcV$sp(PairRDDFunctions.scala:1226)\r\n\tat org.apache.spark.rdd.PairRDDFunctions$$anonfun$saveAsHadoopDataset$1.apply(PairRDDFunctions.scala:1168)\r\n\tat org.apache.spark.rdd.PairRDDFunctions$$anonfun$saveAsHadoopDataset$1.apply(PairRDDFunctions.scala:1168)\r\n\tat org.apache.spark.rdd.RDDOperationScope$.withScope(RDDOperationScope.scala:151)\r\n\tat org.apache.spark.rdd.RDDOperationScope$.withScope(RDDOperationScope.scala:112)\r\n\tat org.apache.spark.rdd.RDD.withScope(RDD.scala:362)\r\n\tat org.apache.spark.rdd.PairRDDFunctions.saveAsHadoopDataset(PairRDDFunctions.scala:1168)\r\n\tat org.apache.spark.rdd.PairRDDFunctions$$anonfun$saveAsHadoopFile$4.apply$mcV$sp(PairRDDFunctions.scala:1071)\r\n\tat org.apache.spark.rdd.PairRDDFunctions$$anonfun$saveAsHadoopFile$4.apply(PairRDDFunctions.scala:1037)\r\n\tat org.apache.spark.rdd.PairRDDFunctions$$anonfun$saveAsHadoopFile$4.apply(PairRDDFunctions.scala:1037)\r\n\tat org.apache.spark.rdd.RDDOperationScope$.withScope(RDDOperationScope.scala:151)\r\n\tat org.apache.spark.rdd.RDDOperationScope$.withScope(RDDOperationScope.scala:112)\r\n\tat org.apache.spark.rdd.RDD.withScope(RDD.scala:362)\r\n\tat org.apache.spark.rdd.PairRDDFunctions.saveAsHadoopFile(PairRDDFunctions.scala:1037)\r\n\tat org.apache.spark.rdd.PairRDDFunctions$$anonfun$saveAsHadoopFile$1.apply$mcV$sp(PairRDDFunctions.scala:963)\r\n\tat org.apache.spark.rdd.PairRDDFunctions$$anonfun$saveAsHadoopFile$1.apply(PairRDDFunctions.scala:963)\r\n\tat org.apache.spark.rdd.PairRDDFunctions$$anonfun$saveAsHadoopFile$1.apply(PairRDDFunctions.scala:963)\r\n\tat org.apache.spark.rdd.RDDOperationScope$.withScope(RDDOperationScope.scala:151)\r\n\tat org.apache.spark.rdd.RDDOperationScope$.withScope(RDDOperationScope.scala:112)\r\n\tat org.apache.spark.rdd.RDD.withScope(RDD.scala:362)\r\n\tat org.apache.spark.rdd.PairRDDFunctions.saveAsHadoopFile(PairRDDFunctions.scala:962)\r\n\tat org.apache.spark.rdd.RDD$$anonfun$saveAsTextFile$1.apply$mcV$sp(RDD.scala:1488)\r\n\tat org.apache.spark.rdd.RDD$$anonfun$saveAsTextFile$1.apply(RDD.scala:1467)\r\n\tat org.apache.spark.rdd.RDD$$anonfun$saveAsTextFile$1.apply(RDD.scala:1467)\r\n\tat org.apache.spark.rdd.RDDOperationScope$.withScope(RDDOperationScope.scala:151)\r\n\tat org.apache.spark.rdd.RDDOperationScope$.withScope(RDDOperationScope.scala:112)\r\n\tat org.apache.spark.rdd.RDD.withScope(RDD.scala:362)\r\n\tat org.apache.spark.rdd.RDD.saveAsTextFile(RDD.scala:1467)\r\n\tat org.apache.spark.api.java.JavaRDDLike$class.saveAsTextFile(JavaRDDLike.scala:550)\r\n\tat org.apache.spark.api.java.AbstractJavaRDDLike.saveAsTextFile(JavaRDDLike.scala:45)\r\n\tat sun.reflect.GeneratedMethodAccessor119.invoke(Unknown Source)\r\n\tat sun.reflect.DelegatingMethodAccessorImpl.invoke(Unknown Source)\r\n\tat java.lang.reflect.Method.invoke(Unknown Source)\r\n\tat py4j.reflection.MethodInvoker.invoke(MethodInvoker.java:244)\r\n\tat py4j.reflection.ReflectionEngine.invoke(ReflectionEngine.java:357)\r\n\tat py4j.Gateway.invoke(Gateway.java:280)\r\n\tat py4j.commands.AbstractCommand.invokeMethod(AbstractCommand.java:132)\r\n\tat py4j.commands.CallCommand.execute(CallCommand.java:79)\r\n\tat py4j.GatewayConnection.run(GatewayConnection.java:214)\r\n\tat java.lang.Thread.run(Unknown Source)\r\nCaused by: java.io.IOException: Could not rename file:/C:/Users/Ashwini/Box Sync/Courses/Spring 2017/587 DIC/lab 5/allop/opforfiles_75.txt/_temporary/0/_temporary/attempt_20170510222025_0403_m_000031_14761 to file:/C:/Users/Ashwini/Box Sync/Courses/Spring 2017/587 DIC/lab 5/allop/opforfiles_75.txt/_temporary/0/task_20170510222025_0403_m_000031\r\n\tat org.apache.hadoop.mapreduce.lib.output.FileOutputCommitter.commitTask(FileOutputCommitter.java:532)\r\n\tat org.apache.hadoop.mapred.FileOutputCommitter.commitTask(FileOutputCommitter.java:172)\r\n\tat org.apache.hadoop.mapred.OutputCommitter.commitTask(OutputCommitter.java:343)\r\n\tat org.apache.spark.mapred.SparkHadoopMapRedUtil$.performCommit$1(SparkHadoopMapRedUtil.scala:50)\r\n\tat org.apache.spark.mapred.SparkHadoopMapRedUtil$.commitTask(SparkHadoopMapRedUtil.scala:76)\r\n\tat org.apache.spark.SparkHadoopWriter.commit(SparkHadoopWriter.scala:106)\r\n\tat org.apache.spark.rdd.PairRDDFunctions$$anonfun$saveAsHadoopDataset$1$$anonfun$13.apply(PairRDDFunctions.scala:1219)\r\n\tat org.apache.spark.rdd.PairRDDFunctions$$anonfun$saveAsHadoopDataset$1$$anonfun$13.apply(PairRDDFunctions.scala:1197)\r\n\tat org.apache.spark.scheduler.ResultTask.runTask(ResultTask.scala:87)\r\n\tat org.apache.spark.scheduler.Task.run(Task.scala:99)\r\n\tat org.apache.spark.executor.Executor$TaskRunner.run(Executor.scala:282)\r\n\tat java.util.concurrent.ThreadPoolExecutor.runWorker(Unknown Source)\r\n\tat java.util.concurrent.ThreadPoolExecutor$Worker.run(Unknown Source)\r\n\t... 1 more\r\n"
     ]
    }
   ],
   "source": [
    "path = \"./docstotest/\"\n",
    "moveto = \"./copiedFile/\"\n",
    "files = os.listdir(path)\n",
    "files.sort()\n",
    "count=0\n",
    "for f in files:\n",
    "    count=count+1\n",
    "    src = path+f\n",
    "    dst = moveto+f\n",
    "    copyfile(src,dst)\n",
    "    print \"Moving file \",count ,f\n",
    "    mapreduce(count)"
   ]
  },
  {
   "cell_type": "code",
   "execution_count": 75,
   "metadata": {
    "collapsed": false
   },
   "outputs": [
    {
     "data": {
      "image/png": "[encoded data removed]",
      "text/plain": [
       "<matplotlib.figure.Figure at 0xe1c3ba8>"
      ]
     },
     "metadata": {},
     "output_type": "display_data"
    }
   ],
   "source": [
    "plt.plot(NoOfFiles, timetaken, marker='*', linestyle='--', color='r', label='Time taken')\n",
    "plt.xlabel('Number of files')\n",
    "plt.ylabel('Time taken (seconds )')\n",
    "plt.title('Performance of 2 gram')\n",
    "plt.legend()\n",
    "plt.show()"
   ]
  },
  {
   "cell_type": "markdown",
   "metadata": {},
   "source": [
    "# MR function for 3 gram"
   ]
  },
  {
   "cell_type": "code",
   "execution_count": 43,
   "metadata": {
    "collapsed": true
   },
   "outputs": [],
   "source": [
    "#MR function\n",
    "timetaken=[]\n",
    "NoOfFiles=[]\n",
    "def mapreduce3gram(count):\n",
    "    lines = []\n",
    "    lines = sc.textFile(\"./copiedFile3gram/*\")\n",
    "    start=time.time()\n",
    "    location_line = lines.map(lambda line: [elem.strip().encode(\"utf-8\") for elem in line.split('>')])\n",
    "    reduced_op1=location_line.map(lambda y: (y[0]+\">\",y[-1].split(' ')))\\\n",
    "         .flatMap(lambda (x,z) :[((crosslema),x) for i in itertools.combinations(z,3) for crosslema in product(returnLemma(i[0]),returnLemma(i[1]),returnLemma(i[2]))])\\\n",
    "         .reduceByKey(add)\n",
    "    filepath=\"./allop3gram/opforfiles3gram_\"+str(count)+\".txt\"\n",
    "    print(filepath)\n",
    "#     reduced_op1.collect()\n",
    "    reduced_op1.saveAsTextFile(filepath)\n",
    "    print(\"Time taken for \"+str(count)+\" files : \"+str(time.time()-start))\n",
    "    timetaken.append(time.time()-start)\n",
    "    NoOfFiles.append(count)"
   ]
  },
  {
   "cell_type": "code",
   "execution_count": 44,
   "metadata": {
    "collapsed": false
   },
   "outputs": [
    {
     "name": "stdout",
     "output_type": "stream",
     "text": [
      "Moving file  1 ausonius.cupido_cruciatus.tess\n",
      "./allop3gram/opforfiles3gram_1.txt\n",
      "Time taken for 1 files : 9.53499984741\n",
      "Moving file  2 ausonius.de_herediolo.tess\n",
      "./allop3gram/opforfiles3gram_2.txt\n",
      "Time taken for 2 files : 10.8910000324\n",
      "Moving file  3 ausonius.eclogarum_liber.tess\n",
      "./allop3gram/opforfiles3gram_3.txt\n",
      "Time taken for 3 files : 13.1440000534\n",
      "Moving file  4 ausonius.ephemeris_id_est_totius_diei_negotium.tess\n",
      "./allop3gram/opforfiles3gram_4.txt\n",
      "Time taken for 4 files : 13.9219999313\n",
      "Moving file  5 ausonius.epigrammata_ausonii_de_diversis_rebus.tess\n",
      "./allop3gram/opforfiles3gram_5.txt\n",
      "Time taken for 5 files : 14.643999815\n",
      "Moving file  6 ausonius.griphus_ternarii_numeri.tess\n",
      "./allop3gram/opforfiles3gram_6.txt\n",
      "Time taken for 6 files : 15.1829998493\n",
      "Moving file  7 ausonius.libri_de_fastis_conclusio.tess\n",
      "./allop3gram/opforfiles3gram_7.txt\n",
      "Time taken for 7 files : 16.6449999809\n",
      "Moving file  8 ausonius.ludus_septem_sapientum.tess\n",
      "./allop3gram/opforfiles3gram_8.txt\n",
      "Time taken for 8 files : 17.9129998684\n",
      "Moving file  9 ausonius.mosella.tess\n",
      "./allop3gram/opforfiles3gram_9.txt\n",
      "Time taken for 9 files : 20.0800001621\n",
      "Moving file  10 ausonius.oratio_consulis_ausonii_versibus_rhopalicis.tess\n",
      "./allop3gram/opforfiles3gram_10.txt\n",
      "Time taken for 10 files : 21.0510001183\n",
      "Moving file  11 ausonius.ordo_urbium_nobilium.tess\n",
      "./allop3gram/opforfiles3gram_11.txt\n",
      "Time taken for 11 files : 21.9730000496\n",
      "Moving file  12 ausonius.precationes.tess\n",
      "./allop3gram/opforfiles3gram_12.txt\n"
     ]
    },
    {
     "ename": "KeyboardInterrupt",
     "evalue": "",
     "output_type": "error",
     "traceback": [
      "\u001b[0;31m---------------------------------------------------------------------------\u001b[0m",
      "\u001b[0;31mKeyboardInterrupt\u001b[0m                         Traceback (most recent call last)",
      "\u001b[0;32m<ipython-input-44-42d74a4796d8>\u001b[0m in \u001b[0;36m<module>\u001b[0;34m()\u001b[0m\n\u001b[1;32m     10\u001b[0m     \u001b[0mcopyfile\u001b[0m\u001b[1;33m(\u001b[0m\u001b[0msrc\u001b[0m\u001b[1;33m,\u001b[0m\u001b[0mdst\u001b[0m\u001b[1;33m)\u001b[0m\u001b[1;33m\u001b[0m\u001b[0m\n\u001b[1;32m     11\u001b[0m     \u001b[1;32mprint\u001b[0m \u001b[1;34m\"Moving file \"\u001b[0m\u001b[1;33m,\u001b[0m\u001b[0mcount\u001b[0m \u001b[1;33m,\u001b[0m\u001b[0mf\u001b[0m\u001b[1;33m\u001b[0m\u001b[0m\n\u001b[0;32m---> 12\u001b[0;31m     \u001b[0mmapreduce3gram\u001b[0m\u001b[1;33m(\u001b[0m\u001b[0mcount\u001b[0m\u001b[1;33m)\u001b[0m\u001b[1;33m\u001b[0m\u001b[0m\n\u001b[0m",
      "\u001b[0;32m<ipython-input-43-34df593aa1e6>\u001b[0m in \u001b[0;36mmapreduce3gram\u001b[0;34m(count)\u001b[0m\n\u001b[1;32m     11\u001b[0m     \u001b[1;32mprint\u001b[0m\u001b[1;33m(\u001b[0m\u001b[0mfilepath\u001b[0m\u001b[1;33m)\u001b[0m\u001b[1;33m\u001b[0m\u001b[0m\n\u001b[1;32m     12\u001b[0m \u001b[1;31m#     reduced_op1.collect()\u001b[0m\u001b[1;33m\u001b[0m\u001b[1;33m\u001b[0m\u001b[0m\n\u001b[0;32m---> 13\u001b[0;31m     \u001b[0mreduced_op1\u001b[0m\u001b[1;33m.\u001b[0m\u001b[0msaveAsTextFile\u001b[0m\u001b[1;33m(\u001b[0m\u001b[0mfilepath\u001b[0m\u001b[1;33m)\u001b[0m\u001b[1;33m\u001b[0m\u001b[0m\n\u001b[0m\u001b[1;32m     14\u001b[0m     \u001b[1;32mprint\u001b[0m\u001b[1;33m(\u001b[0m\u001b[1;34m\"Time taken for \"\u001b[0m\u001b[1;33m+\u001b[0m\u001b[0mstr\u001b[0m\u001b[1;33m(\u001b[0m\u001b[0mcount\u001b[0m\u001b[1;33m)\u001b[0m\u001b[1;33m+\u001b[0m\u001b[1;34m\" files : \"\u001b[0m\u001b[1;33m+\u001b[0m\u001b[0mstr\u001b[0m\u001b[1;33m(\u001b[0m\u001b[0mtime\u001b[0m\u001b[1;33m.\u001b[0m\u001b[0mtime\u001b[0m\u001b[1;33m(\u001b[0m\u001b[1;33m)\u001b[0m\u001b[1;33m-\u001b[0m\u001b[0mstart\u001b[0m\u001b[1;33m)\u001b[0m\u001b[1;33m)\u001b[0m\u001b[1;33m\u001b[0m\u001b[0m\n\u001b[1;32m     15\u001b[0m     \u001b[0mtimetaken\u001b[0m\u001b[1;33m.\u001b[0m\u001b[0mappend\u001b[0m\u001b[1;33m(\u001b[0m\u001b[0mtime\u001b[0m\u001b[1;33m.\u001b[0m\u001b[0mtime\u001b[0m\u001b[1;33m(\u001b[0m\u001b[1;33m)\u001b[0m\u001b[1;33m-\u001b[0m\u001b[0mstart\u001b[0m\u001b[1;33m)\u001b[0m\u001b[1;33m\u001b[0m\u001b[0m\n",
      "\u001b[0;32mC:\\spark\\python\\pyspark\\rdd.pyc\u001b[0m in \u001b[0;36msaveAsTextFile\u001b[0;34m(self, path, compressionCodecClass)\u001b[0m\n\u001b[1;32m   1551\u001b[0m             \u001b[0mkeyed\u001b[0m\u001b[1;33m.\u001b[0m\u001b[0m_jrdd\u001b[0m\u001b[1;33m.\u001b[0m\u001b[0mmap\u001b[0m\u001b[1;33m(\u001b[0m\u001b[0mself\u001b[0m\u001b[1;33m.\u001b[0m\u001b[0mctx\u001b[0m\u001b[1;33m.\u001b[0m\u001b[0m_jvm\u001b[0m\u001b[1;33m.\u001b[0m\u001b[0mBytesToString\u001b[0m\u001b[1;33m(\u001b[0m\u001b[1;33m)\u001b[0m\u001b[1;33m)\u001b[0m\u001b[1;33m.\u001b[0m\u001b[0msaveAsTextFile\u001b[0m\u001b[1;33m(\u001b[0m\u001b[0mpath\u001b[0m\u001b[1;33m,\u001b[0m \u001b[0mcompressionCodec\u001b[0m\u001b[1;33m)\u001b[0m\u001b[1;33m\u001b[0m\u001b[0m\n\u001b[1;32m   1552\u001b[0m         \u001b[1;32melse\u001b[0m\u001b[1;33m:\u001b[0m\u001b[1;33m\u001b[0m\u001b[0m\n\u001b[0;32m-> 1553\u001b[0;31m             \u001b[0mkeyed\u001b[0m\u001b[1;33m.\u001b[0m\u001b[0m_jrdd\u001b[0m\u001b[1;33m.\u001b[0m\u001b[0mmap\u001b[0m\u001b[1;33m(\u001b[0m\u001b[0mself\u001b[0m\u001b[1;33m.\u001b[0m\u001b[0mctx\u001b[0m\u001b[1;33m.\u001b[0m\u001b[0m_jvm\u001b[0m\u001b[1;33m.\u001b[0m\u001b[0mBytesToString\u001b[0m\u001b[1;33m(\u001b[0m\u001b[1;33m)\u001b[0m\u001b[1;33m)\u001b[0m\u001b[1;33m.\u001b[0m\u001b[0msaveAsTextFile\u001b[0m\u001b[1;33m(\u001b[0m\u001b[0mpath\u001b[0m\u001b[1;33m)\u001b[0m\u001b[1;33m\u001b[0m\u001b[0m\n\u001b[0m\u001b[1;32m   1554\u001b[0m \u001b[1;33m\u001b[0m\u001b[0m\n\u001b[1;32m   1555\u001b[0m     \u001b[1;31m# Pair functions\u001b[0m\u001b[1;33m\u001b[0m\u001b[1;33m\u001b[0m\u001b[0m\n",
      "\u001b[0;32mC:\\spark\\python\\lib\\py4j-0.10.4-src.zip\\py4j\\java_gateway.py\u001b[0m in \u001b[0;36m__call__\u001b[0;34m(self, *args)\u001b[0m\n\u001b[1;32m   1129\u001b[0m             \u001b[0mproto\u001b[0m\u001b[1;33m.\u001b[0m\u001b[0mEND_COMMAND_PART\u001b[0m\u001b[1;33m\u001b[0m\u001b[0m\n\u001b[1;32m   1130\u001b[0m \u001b[1;33m\u001b[0m\u001b[0m\n\u001b[0;32m-> 1131\u001b[0;31m         \u001b[0manswer\u001b[0m \u001b[1;33m=\u001b[0m \u001b[0mself\u001b[0m\u001b[1;33m.\u001b[0m\u001b[0mgateway_client\u001b[0m\u001b[1;33m.\u001b[0m\u001b[0msend_command\u001b[0m\u001b[1;33m(\u001b[0m\u001b[0mcommand\u001b[0m\u001b[1;33m)\u001b[0m\u001b[1;33m\u001b[0m\u001b[0m\n\u001b[0m\u001b[1;32m   1132\u001b[0m         return_value = get_return_value(\n\u001b[1;32m   1133\u001b[0m             answer, self.gateway_client, self.target_id, self.name)\n",
      "\u001b[0;32mC:\\spark\\python\\lib\\py4j-0.10.4-src.zip\\py4j\\java_gateway.py\u001b[0m in \u001b[0;36msend_command\u001b[0;34m(self, command, retry, binary)\u001b[0m\n\u001b[1;32m    881\u001b[0m         \u001b[0mconnection\u001b[0m \u001b[1;33m=\u001b[0m \u001b[0mself\u001b[0m\u001b[1;33m.\u001b[0m\u001b[0m_get_connection\u001b[0m\u001b[1;33m(\u001b[0m\u001b[1;33m)\u001b[0m\u001b[1;33m\u001b[0m\u001b[0m\n\u001b[1;32m    882\u001b[0m         \u001b[1;32mtry\u001b[0m\u001b[1;33m:\u001b[0m\u001b[1;33m\u001b[0m\u001b[0m\n\u001b[0;32m--> 883\u001b[0;31m             \u001b[0mresponse\u001b[0m \u001b[1;33m=\u001b[0m \u001b[0mconnection\u001b[0m\u001b[1;33m.\u001b[0m\u001b[0msend_command\u001b[0m\u001b[1;33m(\u001b[0m\u001b[0mcommand\u001b[0m\u001b[1;33m)\u001b[0m\u001b[1;33m\u001b[0m\u001b[0m\n\u001b[0m\u001b[1;32m    884\u001b[0m             \u001b[1;32mif\u001b[0m \u001b[0mbinary\u001b[0m\u001b[1;33m:\u001b[0m\u001b[1;33m\u001b[0m\u001b[0m\n\u001b[1;32m    885\u001b[0m                 \u001b[1;32mreturn\u001b[0m \u001b[0mresponse\u001b[0m\u001b[1;33m,\u001b[0m \u001b[0mself\u001b[0m\u001b[1;33m.\u001b[0m\u001b[0m_create_connection_guard\u001b[0m\u001b[1;33m(\u001b[0m\u001b[0mconnection\u001b[0m\u001b[1;33m)\u001b[0m\u001b[1;33m\u001b[0m\u001b[0m\n",
      "\u001b[0;32mC:\\spark\\python\\lib\\py4j-0.10.4-src.zip\\py4j\\java_gateway.py\u001b[0m in \u001b[0;36msend_command\u001b[0;34m(self, command)\u001b[0m\n\u001b[1;32m   1026\u001b[0m \u001b[1;33m\u001b[0m\u001b[0m\n\u001b[1;32m   1027\u001b[0m         \u001b[1;32mtry\u001b[0m\u001b[1;33m:\u001b[0m\u001b[1;33m\u001b[0m\u001b[0m\n\u001b[0;32m-> 1028\u001b[0;31m             \u001b[0manswer\u001b[0m \u001b[1;33m=\u001b[0m \u001b[0msmart_decode\u001b[0m\u001b[1;33m(\u001b[0m\u001b[0mself\u001b[0m\u001b[1;33m.\u001b[0m\u001b[0mstream\u001b[0m\u001b[1;33m.\u001b[0m\u001b[0mreadline\u001b[0m\u001b[1;33m(\u001b[0m\u001b[1;33m)\u001b[0m\u001b[1;33m[\u001b[0m\u001b[1;33m:\u001b[0m\u001b[1;33m-\u001b[0m\u001b[1;36m1\u001b[0m\u001b[1;33m]\u001b[0m\u001b[1;33m)\u001b[0m\u001b[1;33m\u001b[0m\u001b[0m\n\u001b[0m\u001b[1;32m   1029\u001b[0m             \u001b[0mlogger\u001b[0m\u001b[1;33m.\u001b[0m\u001b[0mdebug\u001b[0m\u001b[1;33m(\u001b[0m\u001b[1;34m\"Answer received: {0}\"\u001b[0m\u001b[1;33m.\u001b[0m\u001b[0mformat\u001b[0m\u001b[1;33m(\u001b[0m\u001b[0manswer\u001b[0m\u001b[1;33m)\u001b[0m\u001b[1;33m)\u001b[0m\u001b[1;33m\u001b[0m\u001b[0m\n\u001b[1;32m   1030\u001b[0m             \u001b[1;32mif\u001b[0m \u001b[0manswer\u001b[0m\u001b[1;33m.\u001b[0m\u001b[0mstartswith\u001b[0m\u001b[1;33m(\u001b[0m\u001b[0mproto\u001b[0m\u001b[1;33m.\u001b[0m\u001b[0mRETURN_MESSAGE\u001b[0m\u001b[1;33m)\u001b[0m\u001b[1;33m:\u001b[0m\u001b[1;33m\u001b[0m\u001b[0m\n",
      "\u001b[0;32mC:\\ProgramData\\Anaconda2\\lib\\socket.pyc\u001b[0m in \u001b[0;36mreadline\u001b[0;34m(self, size)\u001b[0m\n\u001b[1;32m    449\u001b[0m             \u001b[1;32mwhile\u001b[0m \u001b[0mTrue\u001b[0m\u001b[1;33m:\u001b[0m\u001b[1;33m\u001b[0m\u001b[0m\n\u001b[1;32m    450\u001b[0m                 \u001b[1;32mtry\u001b[0m\u001b[1;33m:\u001b[0m\u001b[1;33m\u001b[0m\u001b[0m\n\u001b[0;32m--> 451\u001b[0;31m                     \u001b[0mdata\u001b[0m \u001b[1;33m=\u001b[0m \u001b[0mself\u001b[0m\u001b[1;33m.\u001b[0m\u001b[0m_sock\u001b[0m\u001b[1;33m.\u001b[0m\u001b[0mrecv\u001b[0m\u001b[1;33m(\u001b[0m\u001b[0mself\u001b[0m\u001b[1;33m.\u001b[0m\u001b[0m_rbufsize\u001b[0m\u001b[1;33m)\u001b[0m\u001b[1;33m\u001b[0m\u001b[0m\n\u001b[0m\u001b[1;32m    452\u001b[0m                 \u001b[1;32mexcept\u001b[0m \u001b[0merror\u001b[0m\u001b[1;33m,\u001b[0m \u001b[0me\u001b[0m\u001b[1;33m:\u001b[0m\u001b[1;33m\u001b[0m\u001b[0m\n\u001b[1;32m    453\u001b[0m                     \u001b[1;32mif\u001b[0m \u001b[0me\u001b[0m\u001b[1;33m.\u001b[0m\u001b[0margs\u001b[0m\u001b[1;33m[\u001b[0m\u001b[1;36m0\u001b[0m\u001b[1;33m]\u001b[0m \u001b[1;33m==\u001b[0m \u001b[0mEINTR\u001b[0m\u001b[1;33m:\u001b[0m\u001b[1;33m\u001b[0m\u001b[0m\n",
      "\u001b[0;31mKeyboardInterrupt\u001b[0m: "
     ]
    }
   ],
   "source": [
    "path = \"./docstotest/\"\n",
    "moveto = \"./copiedFile3gram/\"\n",
    "files = os.listdir(path)\n",
    "files.sort()\n",
    "count=0\n",
    "for f in files:\n",
    "    count=count+1\n",
    "    src = path+f\n",
    "    dst = moveto+f\n",
    "    copyfile(src,dst)\n",
    "    print \"Moving file \",count ,f\n",
    "    mapreduce3gram(count)"
   ]
  },
  {
   "cell_type": "code",
   "execution_count": null,
   "metadata": {
    "collapsed": true
   },
   "outputs": [],
   "source": [
    "plt.plot(NoOfFiles, timetaken, marker='o', linestyle='--', color='r', label='Time taken')\n",
    "plt.xlabel('Number of files')\n",
    "plt.ylabel('Time taken (seconds )')\n",
    "plt.title('Performance of 3 gram')\n",
    "plt.legend()\n",
    "plt.show()"
   ]
  },
  {
   "cell_type": "code",
   "execution_count": null,
   "metadata": {
    "collapsed": true
   },
   "outputs": [],
   "source": []
  },
  {
   "cell_type": "code",
   "execution_count": null,
   "metadata": {
    "collapsed": true
   },
   "outputs": [],
   "source": []
  },
  {
   "cell_type": "code",
   "execution_count": null,
   "metadata": {
    "collapsed": true
   },
   "outputs": [],
   "source": []
  },
  {
   "cell_type": "code",
   "execution_count": null,
   "metadata": {
    "collapsed": true
   },
   "outputs": [],
   "source": []
  },
  {
   "cell_type": "code",
   "execution_count": null,
   "metadata": {
    "collapsed": true
   },
   "outputs": [],
   "source": []
  },
  {
   "cell_type": "markdown",
   "metadata": {},
   "source": [
    "Working code"
   ]
  },
  {
   "cell_type": "code",
   "execution_count": null,
   "metadata": {
    "collapsed": false
   },
   "outputs": [],
   "source": [
    "lines = []\n",
    "lines = sc.textFile(\"../Lab5/data.txt\")\n",
    "start=time.time()\n",
    "location_line = lines.map(lambda line: [elem.strip() for elem in line.split('>')])\n",
    "reduced_op1=location_line.map(lambda y: (y[0]+\">\",y[-1].split(' ')))\\\n",
    "     .flatMap(lambda (x,z) :[((crosslema),x) for i in itertools.combinations(z,2) for crosslema in product(returnLemma(i[0]),returnLemma(i[1]))])\\\n",
    "     .reduceByKey(add)\n",
    "reduced_op1.saveAsTextFile(\"output2.txt\")\n",
    "print(time.time()-start)"
   ]
  },
  {
   "cell_type": "code",
   "execution_count": null,
   "metadata": {
    "collapsed": false
   },
   "outputs": [],
   "source": []
  },
  {
   "cell_type": "code",
   "execution_count": null,
   "metadata": {
    "collapsed": false
   },
   "outputs": [],
   "source": [
    "# reduced_op1.collect()"
   ]
  },
  {
   "cell_type": "code",
   "execution_count": null,
   "metadata": {
    "collapsed": true
   },
   "outputs": [],
   "source": []
  }
 ],
 "metadata": {
  "kernelspec": {
   "display_name": "Python 2",
   "language": "python",
   "name": "python2"
  },
  "language_info": {
   "codemirror_mode": {
    "name": "ipython",
    "version": 2
   },
   "file_extension": ".py",
   "mimetype": "text/x-python",
   "name": "python",
   "nbconvert_exporter": "python",
   "pygments_lexer": "ipython2",
   "version": "2.7.13"
  }
 },
 "nbformat": 4,
 "nbformat_minor": 2
}
